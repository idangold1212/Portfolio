{
 "cells": [
  {
   "cell_type": "markdown",
   "metadata": {},
   "source": [
    "# Integrated Project "
   ]
  },
  {
   "cell_type": "markdown",
   "metadata": {},
   "source": [
    "An online store which sells games all over the world, is planning a campaign for 2017. I'm going to preform analysis based on data of games sales available from open source. This will help me ifentify patterns that determine whether a game succeeds or not, spot potential big winners, and plan advertising campaigns.  \n",
    "My analysis cointains 5 main steps:\n",
    "1. preprocessing the data\n",
    "2. Determine which years and platforms (e.g. Xbox or PlayStation) are relevant for the research\n",
    "3. Study the difference between region (Europe, North Amercia, Japan)\n",
    "4. Test hypotheses to check the affect of user ratings on sales\n",
    "5. Draw conclusion "
   ]
  },
  {
   "cell_type": "markdown",
   "metadata": {},
   "source": [
    "# Step 1. Open the data file and study the general information"
   ]
  },
  {
   "cell_type": "code",
   "execution_count": 1,
   "metadata": {
    "scrolled": true
   },
   "outputs": [
    {
     "name": "stdout",
     "output_type": "stream",
     "text": [
      "Defaulting to user installation because normal site-packages is not writeable\n",
      "Collecting seaborn\n",
      "  Downloading seaborn-0.11.2-py3-none-any.whl (292 kB)\n",
      "\u001b[K     |████████████████████████████████| 292 kB 2.0 MB/s eta 0:00:01\n",
      "\u001b[?25hRequirement already satisfied, skipping upgrade: pandas>=0.23 in /opt/conda/lib/python3.7/site-packages (from seaborn) (0.25.1)\n",
      "Requirement already satisfied, skipping upgrade: matplotlib>=2.2 in /opt/conda/lib/python3.7/site-packages (from seaborn) (3.1.0)\n",
      "Requirement already satisfied, skipping upgrade: numpy>=1.15 in /opt/conda/lib/python3.7/site-packages (from seaborn) (1.19.5)\n",
      "Requirement already satisfied, skipping upgrade: scipy>=1.0 in /opt/conda/lib/python3.7/site-packages (from seaborn) (1.4.1)\n",
      "Requirement already satisfied, skipping upgrade: python-dateutil>=2.6.1 in /opt/conda/lib/python3.7/site-packages (from pandas>=0.23->seaborn) (2.8.1)\n",
      "Requirement already satisfied, skipping upgrade: pytz>=2017.2 in /opt/conda/lib/python3.7/site-packages (from pandas>=0.23->seaborn) (2021.1)\n",
      "Requirement already satisfied, skipping upgrade: cycler>=0.10 in /opt/conda/lib/python3.7/site-packages (from matplotlib>=2.2->seaborn) (0.10.0)\n",
      "Requirement already satisfied, skipping upgrade: pyparsing!=2.0.4,!=2.1.2,!=2.1.6,>=2.0.1 in /opt/conda/lib/python3.7/site-packages (from matplotlib>=2.2->seaborn) (2.4.7)\n",
      "Requirement already satisfied, skipping upgrade: kiwisolver>=1.0.1 in /opt/conda/lib/python3.7/site-packages (from matplotlib>=2.2->seaborn) (1.3.1)\n",
      "Requirement already satisfied, skipping upgrade: six>=1.5 in /opt/conda/lib/python3.7/site-packages (from python-dateutil>=2.6.1->pandas>=0.23->seaborn) (1.15.0)\n",
      "Installing collected packages: seaborn\n",
      "Successfully installed seaborn-0.11.2\n"
     ]
    }
   ],
   "source": [
    "!pip install seaborn -U"
   ]
  },
  {
   "cell_type": "code",
   "execution_count": 2,
   "metadata": {},
   "outputs": [],
   "source": [
    "import numpy as np\n",
    "import pandas as pd\n",
    "import matplotlib.pyplot as plt\n",
    "from scipy import stats\n",
    "import seaborn as sns\n"
   ]
  },
  {
   "cell_type": "code",
   "execution_count": 3,
   "metadata": {},
   "outputs": [],
   "source": [
    "try:\n",
    "    data= pd.read_csv('/datasets/games.csv')\n",
    "except:\n",
    "    data= pd.read_csv('games.csv')"
   ]
  },
  {
   "cell_type": "code",
   "execution_count": 4,
   "metadata": {},
   "outputs": [
    {
     "data": {
      "text/html": [
       "<div>\n",
       "<style scoped>\n",
       "    .dataframe tbody tr th:only-of-type {\n",
       "        vertical-align: middle;\n",
       "    }\n",
       "\n",
       "    .dataframe tbody tr th {\n",
       "        vertical-align: top;\n",
       "    }\n",
       "\n",
       "    .dataframe thead th {\n",
       "        text-align: right;\n",
       "    }\n",
       "</style>\n",
       "<table border=\"1\" class=\"dataframe\">\n",
       "  <thead>\n",
       "    <tr style=\"text-align: right;\">\n",
       "      <th></th>\n",
       "      <th>Name</th>\n",
       "      <th>Platform</th>\n",
       "      <th>Year_of_Release</th>\n",
       "      <th>Genre</th>\n",
       "      <th>NA_sales</th>\n",
       "      <th>EU_sales</th>\n",
       "      <th>JP_sales</th>\n",
       "      <th>Other_sales</th>\n",
       "      <th>Critic_Score</th>\n",
       "      <th>User_Score</th>\n",
       "      <th>Rating</th>\n",
       "    </tr>\n",
       "  </thead>\n",
       "  <tbody>\n",
       "    <tr>\n",
       "      <td>9423</td>\n",
       "      <td>Alone in the Dark: Inferno</td>\n",
       "      <td>PS3</td>\n",
       "      <td>2008.0</td>\n",
       "      <td>Adventure</td>\n",
       "      <td>0.09</td>\n",
       "      <td>0.03</td>\n",
       "      <td>0.00</td>\n",
       "      <td>0.02</td>\n",
       "      <td>69.0</td>\n",
       "      <td>5.6</td>\n",
       "      <td>M</td>\n",
       "    </tr>\n",
       "    <tr>\n",
       "      <td>162</td>\n",
       "      <td>Super Mario Advance</td>\n",
       "      <td>GBA</td>\n",
       "      <td>2001.0</td>\n",
       "      <td>Platform</td>\n",
       "      <td>3.14</td>\n",
       "      <td>1.24</td>\n",
       "      <td>0.91</td>\n",
       "      <td>0.20</td>\n",
       "      <td>84.0</td>\n",
       "      <td>7.8</td>\n",
       "      <td>E</td>\n",
       "    </tr>\n",
       "    <tr>\n",
       "      <td>13203</td>\n",
       "      <td>Secret Files: Tunguska</td>\n",
       "      <td>DS</td>\n",
       "      <td>2008.0</td>\n",
       "      <td>Adventure</td>\n",
       "      <td>0.04</td>\n",
       "      <td>0.01</td>\n",
       "      <td>0.00</td>\n",
       "      <td>0.00</td>\n",
       "      <td>71.0</td>\n",
       "      <td>7.6</td>\n",
       "      <td>T</td>\n",
       "    </tr>\n",
       "    <tr>\n",
       "      <td>1863</td>\n",
       "      <td>SingStar Legends</td>\n",
       "      <td>PS2</td>\n",
       "      <td>2006.0</td>\n",
       "      <td>Misc</td>\n",
       "      <td>0.12</td>\n",
       "      <td>0.75</td>\n",
       "      <td>0.00</td>\n",
       "      <td>0.23</td>\n",
       "      <td>76.0</td>\n",
       "      <td>tbd</td>\n",
       "      <td>T</td>\n",
       "    </tr>\n",
       "    <tr>\n",
       "      <td>3521</td>\n",
       "      <td>Harvest Moon: Sunshine Islands</td>\n",
       "      <td>DS</td>\n",
       "      <td>2008.0</td>\n",
       "      <td>Simulation</td>\n",
       "      <td>0.35</td>\n",
       "      <td>0.03</td>\n",
       "      <td>0.17</td>\n",
       "      <td>0.03</td>\n",
       "      <td>NaN</td>\n",
       "      <td>NaN</td>\n",
       "      <td>NaN</td>\n",
       "    </tr>\n",
       "    <tr>\n",
       "      <td>1108</td>\n",
       "      <td>Ms. Pac-Man</td>\n",
       "      <td>2600</td>\n",
       "      <td>1981.0</td>\n",
       "      <td>Puzzle</td>\n",
       "      <td>1.54</td>\n",
       "      <td>0.10</td>\n",
       "      <td>0.00</td>\n",
       "      <td>0.02</td>\n",
       "      <td>NaN</td>\n",
       "      <td>NaN</td>\n",
       "      <td>NaN</td>\n",
       "    </tr>\n",
       "    <tr>\n",
       "      <td>10825</td>\n",
       "      <td>One Piece: Burning Blood</td>\n",
       "      <td>PSV</td>\n",
       "      <td>2016.0</td>\n",
       "      <td>Fighting</td>\n",
       "      <td>0.00</td>\n",
       "      <td>0.02</td>\n",
       "      <td>0.07</td>\n",
       "      <td>0.00</td>\n",
       "      <td>62.0</td>\n",
       "      <td>7.8</td>\n",
       "      <td>T</td>\n",
       "    </tr>\n",
       "    <tr>\n",
       "      <td>9028</td>\n",
       "      <td>Cave Story 3D</td>\n",
       "      <td>3DS</td>\n",
       "      <td>2011.0</td>\n",
       "      <td>Platform</td>\n",
       "      <td>0.09</td>\n",
       "      <td>0.03</td>\n",
       "      <td>0.01</td>\n",
       "      <td>0.01</td>\n",
       "      <td>82.0</td>\n",
       "      <td>7.7</td>\n",
       "      <td>E10+</td>\n",
       "    </tr>\n",
       "    <tr>\n",
       "      <td>13640</td>\n",
       "      <td>Nike+ Kinect Training</td>\n",
       "      <td>X360</td>\n",
       "      <td>2012.0</td>\n",
       "      <td>Sports</td>\n",
       "      <td>0.02</td>\n",
       "      <td>0.01</td>\n",
       "      <td>0.00</td>\n",
       "      <td>0.00</td>\n",
       "      <td>NaN</td>\n",
       "      <td>NaN</td>\n",
       "      <td>NaN</td>\n",
       "    </tr>\n",
       "    <tr>\n",
       "      <td>8744</td>\n",
       "      <td>Wolfenstein: The Old Blood</td>\n",
       "      <td>XOne</td>\n",
       "      <td>2015.0</td>\n",
       "      <td>Action</td>\n",
       "      <td>0.07</td>\n",
       "      <td>0.07</td>\n",
       "      <td>0.00</td>\n",
       "      <td>0.01</td>\n",
       "      <td>75.0</td>\n",
       "      <td>8</td>\n",
       "      <td>NaN</td>\n",
       "    </tr>\n",
       "  </tbody>\n",
       "</table>\n",
       "</div>"
      ],
      "text/plain": [
       "                                 Name Platform  Year_of_Release       Genre  \\\n",
       "9423       Alone in the Dark: Inferno      PS3           2008.0   Adventure   \n",
       "162               Super Mario Advance      GBA           2001.0    Platform   \n",
       "13203          Secret Files: Tunguska       DS           2008.0   Adventure   \n",
       "1863                 SingStar Legends      PS2           2006.0        Misc   \n",
       "3521   Harvest Moon: Sunshine Islands       DS           2008.0  Simulation   \n",
       "1108                      Ms. Pac-Man     2600           1981.0      Puzzle   \n",
       "10825        One Piece: Burning Blood      PSV           2016.0    Fighting   \n",
       "9028                    Cave Story 3D      3DS           2011.0    Platform   \n",
       "13640           Nike+ Kinect Training     X360           2012.0      Sports   \n",
       "8744       Wolfenstein: The Old Blood     XOne           2015.0      Action   \n",
       "\n",
       "       NA_sales  EU_sales  JP_sales  Other_sales  Critic_Score User_Score  \\\n",
       "9423       0.09      0.03      0.00         0.02          69.0        5.6   \n",
       "162        3.14      1.24      0.91         0.20          84.0        7.8   \n",
       "13203      0.04      0.01      0.00         0.00          71.0        7.6   \n",
       "1863       0.12      0.75      0.00         0.23          76.0        tbd   \n",
       "3521       0.35      0.03      0.17         0.03           NaN        NaN   \n",
       "1108       1.54      0.10      0.00         0.02           NaN        NaN   \n",
       "10825      0.00      0.02      0.07         0.00          62.0        7.8   \n",
       "9028       0.09      0.03      0.01         0.01          82.0        7.7   \n",
       "13640      0.02      0.01      0.00         0.00           NaN        NaN   \n",
       "8744       0.07      0.07      0.00         0.01          75.0          8   \n",
       "\n",
       "      Rating  \n",
       "9423       M  \n",
       "162        E  \n",
       "13203      T  \n",
       "1863       T  \n",
       "3521     NaN  \n",
       "1108     NaN  \n",
       "10825      T  \n",
       "9028    E10+  \n",
       "13640    NaN  \n",
       "8744     NaN  "
      ]
     },
     "execution_count": 4,
     "metadata": {},
     "output_type": "execute_result"
    }
   ],
   "source": [
    "data.sample(10)\n",
    "#we can see each row contains name of a game, genre, platform different incomes and rating. \n",
    "#I can spot missing values and zeros that I will have to check"
   ]
  },
  {
   "cell_type": "markdown",
   "metadata": {},
   "source": [
    "# Step 2. Prepare the data\n"
   ]
  },
  {
   "cell_type": "markdown",
   "metadata": {},
   "source": [
    "Replace the column names (make them lowercase)"
   ]
  },
  {
   "cell_type": "code",
   "execution_count": 5,
   "metadata": {},
   "outputs": [
    {
     "data": {
      "text/html": [
       "<div>\n",
       "<style scoped>\n",
       "    .dataframe tbody tr th:only-of-type {\n",
       "        vertical-align: middle;\n",
       "    }\n",
       "\n",
       "    .dataframe tbody tr th {\n",
       "        vertical-align: top;\n",
       "    }\n",
       "\n",
       "    .dataframe thead th {\n",
       "        text-align: right;\n",
       "    }\n",
       "</style>\n",
       "<table border=\"1\" class=\"dataframe\">\n",
       "  <thead>\n",
       "    <tr style=\"text-align: right;\">\n",
       "      <th></th>\n",
       "      <th>name</th>\n",
       "      <th>platform</th>\n",
       "      <th>year_of_release</th>\n",
       "      <th>genre</th>\n",
       "      <th>na_sales</th>\n",
       "      <th>eu_sales</th>\n",
       "      <th>jp_sales</th>\n",
       "      <th>other_sales</th>\n",
       "      <th>critic_score</th>\n",
       "      <th>user_score</th>\n",
       "      <th>rating</th>\n",
       "    </tr>\n",
       "  </thead>\n",
       "  <tbody>\n",
       "    <tr>\n",
       "      <td>0</td>\n",
       "      <td>Wii Sports</td>\n",
       "      <td>Wii</td>\n",
       "      <td>2006.0</td>\n",
       "      <td>Sports</td>\n",
       "      <td>41.36</td>\n",
       "      <td>28.96</td>\n",
       "      <td>3.77</td>\n",
       "      <td>8.45</td>\n",
       "      <td>76.0</td>\n",
       "      <td>8</td>\n",
       "      <td>E</td>\n",
       "    </tr>\n",
       "    <tr>\n",
       "      <td>1</td>\n",
       "      <td>Super Mario Bros.</td>\n",
       "      <td>NES</td>\n",
       "      <td>1985.0</td>\n",
       "      <td>Platform</td>\n",
       "      <td>29.08</td>\n",
       "      <td>3.58</td>\n",
       "      <td>6.81</td>\n",
       "      <td>0.77</td>\n",
       "      <td>NaN</td>\n",
       "      <td>NaN</td>\n",
       "      <td>NaN</td>\n",
       "    </tr>\n",
       "    <tr>\n",
       "      <td>2</td>\n",
       "      <td>Mario Kart Wii</td>\n",
       "      <td>Wii</td>\n",
       "      <td>2008.0</td>\n",
       "      <td>Racing</td>\n",
       "      <td>15.68</td>\n",
       "      <td>12.76</td>\n",
       "      <td>3.79</td>\n",
       "      <td>3.29</td>\n",
       "      <td>82.0</td>\n",
       "      <td>8.3</td>\n",
       "      <td>E</td>\n",
       "    </tr>\n",
       "    <tr>\n",
       "      <td>3</td>\n",
       "      <td>Wii Sports Resort</td>\n",
       "      <td>Wii</td>\n",
       "      <td>2009.0</td>\n",
       "      <td>Sports</td>\n",
       "      <td>15.61</td>\n",
       "      <td>10.93</td>\n",
       "      <td>3.28</td>\n",
       "      <td>2.95</td>\n",
       "      <td>80.0</td>\n",
       "      <td>8</td>\n",
       "      <td>E</td>\n",
       "    </tr>\n",
       "    <tr>\n",
       "      <td>4</td>\n",
       "      <td>Pokemon Red/Pokemon Blue</td>\n",
       "      <td>GB</td>\n",
       "      <td>1996.0</td>\n",
       "      <td>Role-Playing</td>\n",
       "      <td>11.27</td>\n",
       "      <td>8.89</td>\n",
       "      <td>10.22</td>\n",
       "      <td>1.00</td>\n",
       "      <td>NaN</td>\n",
       "      <td>NaN</td>\n",
       "      <td>NaN</td>\n",
       "    </tr>\n",
       "  </tbody>\n",
       "</table>\n",
       "</div>"
      ],
      "text/plain": [
       "                       name platform  year_of_release         genre  na_sales  \\\n",
       "0                Wii Sports      Wii           2006.0        Sports     41.36   \n",
       "1         Super Mario Bros.      NES           1985.0      Platform     29.08   \n",
       "2            Mario Kart Wii      Wii           2008.0        Racing     15.68   \n",
       "3         Wii Sports Resort      Wii           2009.0        Sports     15.61   \n",
       "4  Pokemon Red/Pokemon Blue       GB           1996.0  Role-Playing     11.27   \n",
       "\n",
       "   eu_sales  jp_sales  other_sales  critic_score user_score rating  \n",
       "0     28.96      3.77         8.45          76.0          8      E  \n",
       "1      3.58      6.81         0.77           NaN        NaN    NaN  \n",
       "2     12.76      3.79         3.29          82.0        8.3      E  \n",
       "3     10.93      3.28         2.95          80.0          8      E  \n",
       "4      8.89     10.22         1.00           NaN        NaN    NaN  "
      ]
     },
     "execution_count": 5,
     "metadata": {},
     "output_type": "execute_result"
    }
   ],
   "source": [
    "data.columns=data.columns.str.lower()\n",
    "data.head()\n",
    "#this way it will be easier to work with the data and avoid typo errors"
   ]
  },
  {
   "cell_type": "markdown",
   "metadata": {},
   "source": [
    "<div class=\"alert alert-block alert-warning\">\n",
    "   <h2>Reviewer's commentary <a class=\"tocSkip\"> </h2>\n",
    "    <br/>\n",
    "<b>Remarks and recommendations📌:</b>  \n",
    "       \n",
    "Another way to convert all columns' values to lowercase (if it is necessary) in dataframe is:\n",
    "       \n",
    "`df = df.applymap(lambda s:s.lower() if type(s) == str else s)`"
   ]
  },
  {
   "cell_type": "code",
   "execution_count": 6,
   "metadata": {},
   "outputs": [
    {
     "data": {
      "text/html": [
       "<div>\n",
       "<style scoped>\n",
       "    .dataframe tbody tr th:only-of-type {\n",
       "        vertical-align: middle;\n",
       "    }\n",
       "\n",
       "    .dataframe tbody tr th {\n",
       "        vertical-align: top;\n",
       "    }\n",
       "\n",
       "    .dataframe thead th {\n",
       "        text-align: right;\n",
       "    }\n",
       "</style>\n",
       "<table border=\"1\" class=\"dataframe\">\n",
       "  <thead>\n",
       "    <tr style=\"text-align: right;\">\n",
       "      <th></th>\n",
       "      <th>year_of_release</th>\n",
       "      <th>na_sales</th>\n",
       "      <th>eu_sales</th>\n",
       "      <th>jp_sales</th>\n",
       "      <th>other_sales</th>\n",
       "      <th>critic_score</th>\n",
       "    </tr>\n",
       "  </thead>\n",
       "  <tbody>\n",
       "    <tr>\n",
       "      <td>count</td>\n",
       "      <td>16446.000000</td>\n",
       "      <td>16715.000000</td>\n",
       "      <td>16715.000000</td>\n",
       "      <td>16715.000000</td>\n",
       "      <td>16715.000000</td>\n",
       "      <td>8137.000000</td>\n",
       "    </tr>\n",
       "    <tr>\n",
       "      <td>mean</td>\n",
       "      <td>2006.484616</td>\n",
       "      <td>0.263377</td>\n",
       "      <td>0.145060</td>\n",
       "      <td>0.077617</td>\n",
       "      <td>0.047342</td>\n",
       "      <td>68.967679</td>\n",
       "    </tr>\n",
       "    <tr>\n",
       "      <td>std</td>\n",
       "      <td>5.877050</td>\n",
       "      <td>0.813604</td>\n",
       "      <td>0.503339</td>\n",
       "      <td>0.308853</td>\n",
       "      <td>0.186731</td>\n",
       "      <td>13.938165</td>\n",
       "    </tr>\n",
       "    <tr>\n",
       "      <td>min</td>\n",
       "      <td>1980.000000</td>\n",
       "      <td>0.000000</td>\n",
       "      <td>0.000000</td>\n",
       "      <td>0.000000</td>\n",
       "      <td>0.000000</td>\n",
       "      <td>13.000000</td>\n",
       "    </tr>\n",
       "    <tr>\n",
       "      <td>25%</td>\n",
       "      <td>2003.000000</td>\n",
       "      <td>0.000000</td>\n",
       "      <td>0.000000</td>\n",
       "      <td>0.000000</td>\n",
       "      <td>0.000000</td>\n",
       "      <td>60.000000</td>\n",
       "    </tr>\n",
       "    <tr>\n",
       "      <td>50%</td>\n",
       "      <td>2007.000000</td>\n",
       "      <td>0.080000</td>\n",
       "      <td>0.020000</td>\n",
       "      <td>0.000000</td>\n",
       "      <td>0.010000</td>\n",
       "      <td>71.000000</td>\n",
       "    </tr>\n",
       "    <tr>\n",
       "      <td>75%</td>\n",
       "      <td>2010.000000</td>\n",
       "      <td>0.240000</td>\n",
       "      <td>0.110000</td>\n",
       "      <td>0.040000</td>\n",
       "      <td>0.030000</td>\n",
       "      <td>79.000000</td>\n",
       "    </tr>\n",
       "    <tr>\n",
       "      <td>max</td>\n",
       "      <td>2016.000000</td>\n",
       "      <td>41.360000</td>\n",
       "      <td>28.960000</td>\n",
       "      <td>10.220000</td>\n",
       "      <td>10.570000</td>\n",
       "      <td>98.000000</td>\n",
       "    </tr>\n",
       "  </tbody>\n",
       "</table>\n",
       "</div>"
      ],
      "text/plain": [
       "       year_of_release      na_sales      eu_sales      jp_sales  \\\n",
       "count     16446.000000  16715.000000  16715.000000  16715.000000   \n",
       "mean       2006.484616      0.263377      0.145060      0.077617   \n",
       "std           5.877050      0.813604      0.503339      0.308853   \n",
       "min        1980.000000      0.000000      0.000000      0.000000   \n",
       "25%        2003.000000      0.000000      0.000000      0.000000   \n",
       "50%        2007.000000      0.080000      0.020000      0.000000   \n",
       "75%        2010.000000      0.240000      0.110000      0.040000   \n",
       "max        2016.000000     41.360000     28.960000     10.220000   \n",
       "\n",
       "        other_sales  critic_score  \n",
       "count  16715.000000   8137.000000  \n",
       "mean       0.047342     68.967679  \n",
       "std        0.186731     13.938165  \n",
       "min        0.000000     13.000000  \n",
       "25%        0.000000     60.000000  \n",
       "50%        0.010000     71.000000  \n",
       "75%        0.030000     79.000000  \n",
       "max       10.570000     98.000000  "
      ]
     },
     "execution_count": 6,
     "metadata": {},
     "output_type": "execute_result"
    }
   ],
   "source": [
    "data.describe()\n",
    "#numerical info"
   ]
  },
  {
   "cell_type": "code",
   "execution_count": 7,
   "metadata": {},
   "outputs": [
    {
     "data": {
      "text/html": [
       "<div>\n",
       "<style scoped>\n",
       "    .dataframe tbody tr th:only-of-type {\n",
       "        vertical-align: middle;\n",
       "    }\n",
       "\n",
       "    .dataframe tbody tr th {\n",
       "        vertical-align: top;\n",
       "    }\n",
       "\n",
       "    .dataframe thead th {\n",
       "        text-align: right;\n",
       "    }\n",
       "</style>\n",
       "<table border=\"1\" class=\"dataframe\">\n",
       "  <thead>\n",
       "    <tr style=\"text-align: right;\">\n",
       "      <th></th>\n",
       "      <th>name</th>\n",
       "      <th>platform</th>\n",
       "      <th>genre</th>\n",
       "      <th>user_score</th>\n",
       "      <th>rating</th>\n",
       "    </tr>\n",
       "  </thead>\n",
       "  <tbody>\n",
       "    <tr>\n",
       "      <td>count</td>\n",
       "      <td>16713</td>\n",
       "      <td>16715</td>\n",
       "      <td>16713</td>\n",
       "      <td>10014</td>\n",
       "      <td>9949</td>\n",
       "    </tr>\n",
       "    <tr>\n",
       "      <td>unique</td>\n",
       "      <td>11559</td>\n",
       "      <td>31</td>\n",
       "      <td>12</td>\n",
       "      <td>96</td>\n",
       "      <td>8</td>\n",
       "    </tr>\n",
       "    <tr>\n",
       "      <td>top</td>\n",
       "      <td>Need for Speed: Most Wanted</td>\n",
       "      <td>PS2</td>\n",
       "      <td>Action</td>\n",
       "      <td>tbd</td>\n",
       "      <td>E</td>\n",
       "    </tr>\n",
       "    <tr>\n",
       "      <td>freq</td>\n",
       "      <td>12</td>\n",
       "      <td>2161</td>\n",
       "      <td>3369</td>\n",
       "      <td>2424</td>\n",
       "      <td>3990</td>\n",
       "    </tr>\n",
       "  </tbody>\n",
       "</table>\n",
       "</div>"
      ],
      "text/plain": [
       "                               name platform   genre user_score rating\n",
       "count                         16713    16715   16713      10014   9949\n",
       "unique                        11559       31      12         96      8\n",
       "top     Need for Speed: Most Wanted      PS2  Action        tbd      E\n",
       "freq                             12     2161    3369       2424   3990"
      ]
     },
     "execution_count": 7,
     "metadata": {},
     "output_type": "execute_result"
    }
   ],
   "source": [
    "data.describe(include='object')\n",
    "#object info."
   ]
  },
  {
   "cell_type": "code",
   "execution_count": 8,
   "metadata": {},
   "outputs": [
    {
     "name": "stdout",
     "output_type": "stream",
     "text": [
      "<class 'pandas.core.frame.DataFrame'>\n",
      "RangeIndex: 16715 entries, 0 to 16714\n",
      "Data columns (total 11 columns):\n",
      "name               16713 non-null object\n",
      "platform           16715 non-null object\n",
      "year_of_release    16446 non-null float64\n",
      "genre              16713 non-null object\n",
      "na_sales           16715 non-null float64\n",
      "eu_sales           16715 non-null float64\n",
      "jp_sales           16715 non-null float64\n",
      "other_sales        16715 non-null float64\n",
      "critic_score       8137 non-null float64\n",
      "user_score         10014 non-null object\n",
      "rating             9949 non-null object\n",
      "dtypes: float64(6), object(5)\n",
      "memory usage: 1.4+ MB\n"
     ]
    }
   ],
   "source": [
    "data.info()"
   ]
  },
  {
   "cell_type": "code",
   "execution_count": 9,
   "metadata": {},
   "outputs": [],
   "source": [
    "def missing_values(data):\n",
    "    report = data.isna().sum().to_frame()\n",
    "    report = report.rename(columns = {0: 'missing_values'})\n",
    "    report['% of total'] = ((report['missing_values'] / data.shape[0]) *100).round(2)\n",
    "    display(report)\n",
    "#function for showing the missing values in every column"
   ]
  },
  {
   "cell_type": "code",
   "execution_count": 10,
   "metadata": {},
   "outputs": [
    {
     "data": {
      "text/html": [
       "<div>\n",
       "<style scoped>\n",
       "    .dataframe tbody tr th:only-of-type {\n",
       "        vertical-align: middle;\n",
       "    }\n",
       "\n",
       "    .dataframe tbody tr th {\n",
       "        vertical-align: top;\n",
       "    }\n",
       "\n",
       "    .dataframe thead th {\n",
       "        text-align: right;\n",
       "    }\n",
       "</style>\n",
       "<table border=\"1\" class=\"dataframe\">\n",
       "  <thead>\n",
       "    <tr style=\"text-align: right;\">\n",
       "      <th></th>\n",
       "      <th>missing_values</th>\n",
       "      <th>% of total</th>\n",
       "    </tr>\n",
       "  </thead>\n",
       "  <tbody>\n",
       "    <tr>\n",
       "      <td>name</td>\n",
       "      <td>2</td>\n",
       "      <td>0.01</td>\n",
       "    </tr>\n",
       "    <tr>\n",
       "      <td>platform</td>\n",
       "      <td>0</td>\n",
       "      <td>0.00</td>\n",
       "    </tr>\n",
       "    <tr>\n",
       "      <td>year_of_release</td>\n",
       "      <td>269</td>\n",
       "      <td>1.61</td>\n",
       "    </tr>\n",
       "    <tr>\n",
       "      <td>genre</td>\n",
       "      <td>2</td>\n",
       "      <td>0.01</td>\n",
       "    </tr>\n",
       "    <tr>\n",
       "      <td>na_sales</td>\n",
       "      <td>0</td>\n",
       "      <td>0.00</td>\n",
       "    </tr>\n",
       "    <tr>\n",
       "      <td>eu_sales</td>\n",
       "      <td>0</td>\n",
       "      <td>0.00</td>\n",
       "    </tr>\n",
       "    <tr>\n",
       "      <td>jp_sales</td>\n",
       "      <td>0</td>\n",
       "      <td>0.00</td>\n",
       "    </tr>\n",
       "    <tr>\n",
       "      <td>other_sales</td>\n",
       "      <td>0</td>\n",
       "      <td>0.00</td>\n",
       "    </tr>\n",
       "    <tr>\n",
       "      <td>critic_score</td>\n",
       "      <td>8578</td>\n",
       "      <td>51.32</td>\n",
       "    </tr>\n",
       "    <tr>\n",
       "      <td>user_score</td>\n",
       "      <td>6701</td>\n",
       "      <td>40.09</td>\n",
       "    </tr>\n",
       "    <tr>\n",
       "      <td>rating</td>\n",
       "      <td>6766</td>\n",
       "      <td>40.48</td>\n",
       "    </tr>\n",
       "  </tbody>\n",
       "</table>\n",
       "</div>"
      ],
      "text/plain": [
       "                 missing_values  % of total\n",
       "name                          2        0.01\n",
       "platform                      0        0.00\n",
       "year_of_release             269        1.61\n",
       "genre                         2        0.01\n",
       "na_sales                      0        0.00\n",
       "eu_sales                      0        0.00\n",
       "jp_sales                      0        0.00\n",
       "other_sales                   0        0.00\n",
       "critic_score               8578       51.32\n",
       "user_score                 6701       40.09\n",
       "rating                     6766       40.48"
      ]
     },
     "metadata": {},
     "output_type": "display_data"
    }
   ],
   "source": [
    "missing_values(data)\n",
    "# the scores and ratings has lots of missing values that I need to handle"
   ]
  },
  {
   "cell_type": "code",
   "execution_count": 11,
   "metadata": {},
   "outputs": [
    {
     "data": {
      "text/html": [
       "<div>\n",
       "<style scoped>\n",
       "    .dataframe tbody tr th:only-of-type {\n",
       "        vertical-align: middle;\n",
       "    }\n",
       "\n",
       "    .dataframe tbody tr th {\n",
       "        vertical-align: top;\n",
       "    }\n",
       "\n",
       "    .dataframe thead th {\n",
       "        text-align: right;\n",
       "    }\n",
       "</style>\n",
       "<table border=\"1\" class=\"dataframe\">\n",
       "  <thead>\n",
       "    <tr style=\"text-align: right;\">\n",
       "      <th></th>\n",
       "      <th>name</th>\n",
       "      <th>platform</th>\n",
       "      <th>year_of_release</th>\n",
       "      <th>genre</th>\n",
       "      <th>na_sales</th>\n",
       "      <th>eu_sales</th>\n",
       "      <th>jp_sales</th>\n",
       "      <th>other_sales</th>\n",
       "      <th>critic_score</th>\n",
       "      <th>user_score</th>\n",
       "      <th>rating</th>\n",
       "    </tr>\n",
       "  </thead>\n",
       "  <tbody>\n",
       "    <tr>\n",
       "      <td>659</td>\n",
       "      <td>NaN</td>\n",
       "      <td>GEN</td>\n",
       "      <td>1993.0</td>\n",
       "      <td>NaN</td>\n",
       "      <td>1.78</td>\n",
       "      <td>0.53</td>\n",
       "      <td>0.00</td>\n",
       "      <td>0.08</td>\n",
       "      <td>NaN</td>\n",
       "      <td>NaN</td>\n",
       "      <td>NaN</td>\n",
       "    </tr>\n",
       "    <tr>\n",
       "      <td>14244</td>\n",
       "      <td>NaN</td>\n",
       "      <td>GEN</td>\n",
       "      <td>1993.0</td>\n",
       "      <td>NaN</td>\n",
       "      <td>0.00</td>\n",
       "      <td>0.00</td>\n",
       "      <td>0.03</td>\n",
       "      <td>0.00</td>\n",
       "      <td>NaN</td>\n",
       "      <td>NaN</td>\n",
       "      <td>NaN</td>\n",
       "    </tr>\n",
       "  </tbody>\n",
       "</table>\n",
       "</div>"
      ],
      "text/plain": [
       "      name platform  year_of_release genre  na_sales  eu_sales  jp_sales  \\\n",
       "659    NaN      GEN           1993.0   NaN      1.78      0.53      0.00   \n",
       "14244  NaN      GEN           1993.0   NaN      0.00      0.00      0.03   \n",
       "\n",
       "       other_sales  critic_score user_score rating  \n",
       "659           0.08           NaN        NaN    NaN  \n",
       "14244         0.00           NaN        NaN    NaN  "
      ]
     },
     "execution_count": 11,
     "metadata": {},
     "output_type": "execute_result"
    }
   ],
   "source": [
    "data.loc[data['name'].isnull()]\n",
    "#There is two games without a name and genre. I will drop them"
   ]
  },
  {
   "cell_type": "code",
   "execution_count": 12,
   "metadata": {},
   "outputs": [],
   "source": [
    "data.dropna(subset = ['name'], inplace=True)"
   ]
  },
  {
   "cell_type": "code",
   "execution_count": 13,
   "metadata": {},
   "outputs": [],
   "source": [
    "data['year_of_release']= data.year_of_release.fillna(data.groupby('platform')['year_of_release'].transform('mean'))\n",
    "#I decided to fill the missing years of release by the average years of each platform "
   ]
  },
  {
   "cell_type": "code",
   "execution_count": 14,
   "metadata": {},
   "outputs": [],
   "source": [
    "data.year_of_release= data.year_of_release.astype(int)\n",
    "#changing the column from float to integer so it will be more readable"
   ]
  },
  {
   "cell_type": "code",
   "execution_count": 15,
   "metadata": {},
   "outputs": [
    {
     "data": {
      "text/plain": [
       "count     10014\n",
       "unique       96\n",
       "top         tbd\n",
       "freq       2424\n",
       "Name: user_score, dtype: object"
      ]
     },
     "execution_count": 15,
     "metadata": {},
     "output_type": "execute_result"
    }
   ],
   "source": [
    "data.user_score.describe()\n",
    "#this column is an object type due to the 'tbd' value. I can't change it to numerical type. I will\n",
    "#keep it as it is and later on I will exclude tbd when I check hypothesis."
   ]
  },
  {
   "cell_type": "code",
   "execution_count": 16,
   "metadata": {},
   "outputs": [
    {
     "data": {
      "text/plain": [
       "2009    406\n",
       "2008    355\n",
       "2010    331\n",
       "2011    217\n",
       "2007    192\n",
       "2002    192\n",
       "2006    124\n",
       "2005    121\n",
       "2004    111\n",
       "2003    106\n",
       "2001     82\n",
       "2000     43\n",
       "2015     38\n",
       "2016     34\n",
       "2012     24\n",
       "2014     21\n",
       "2013     17\n",
       "1999      8\n",
       "1997      1\n",
       "1998      1\n",
       "Name: year_of_release, dtype: int64"
      ]
     },
     "execution_count": 16,
     "metadata": {},
     "output_type": "execute_result"
    }
   ],
   "source": [
    "data[data['user_score']== 'tbd']['year_of_release'].value_counts()"
   ]
  },
  {
   "cell_type": "code",
   "execution_count": 17,
   "metadata": {},
   "outputs": [],
   "source": [
    "data['user_score']=data['user_score'].replace('tbd', np.nan)"
   ]
  },
  {
   "cell_type": "code",
   "execution_count": 18,
   "metadata": {},
   "outputs": [],
   "source": [
    "data['user_score'] = pd.to_numeric(data['user_score'], downcast = 'float', errors='ignore')"
   ]
  },
  {
   "cell_type": "code",
   "execution_count": 19,
   "metadata": {},
   "outputs": [
    {
     "data": {
      "text/plain": [
       "count    8137.000000\n",
       "mean       68.967679\n",
       "std        13.938165\n",
       "min        13.000000\n",
       "25%        60.000000\n",
       "50%        71.000000\n",
       "75%        79.000000\n",
       "max        98.000000\n",
       "Name: critic_score, dtype: float64"
      ]
     },
     "execution_count": 19,
     "metadata": {},
     "output_type": "execute_result"
    }
   ],
   "source": [
    "data.critic_score.describe()"
   ]
  },
  {
   "cell_type": "code",
   "execution_count": 20,
   "metadata": {},
   "outputs": [],
   "source": [
    "#data.critic_score= data.critic_score.fillna(data.critic_score.median())\n",
    "#fill the nan values with the critic's median score"
   ]
  },
  {
   "cell_type": "code",
   "execution_count": 21,
   "metadata": {},
   "outputs": [],
   "source": [
    "data['rating']= data['rating'].fillna('unknown')\n",
    "#I replaced the missing value in ESRB rating with the common rating by genre                     "
   ]
  },
  {
   "cell_type": "markdown",
   "metadata": {},
   "source": [
    "Calculate the total sales (the sum of sales in all regions) for each game and put these values in a separate column"
   ]
  },
  {
   "cell_type": "code",
   "execution_count": 22,
   "metadata": {},
   "outputs": [
    {
     "data": {
      "text/html": [
       "<div>\n",
       "<style scoped>\n",
       "    .dataframe tbody tr th:only-of-type {\n",
       "        vertical-align: middle;\n",
       "    }\n",
       "\n",
       "    .dataframe tbody tr th {\n",
       "        vertical-align: top;\n",
       "    }\n",
       "\n",
       "    .dataframe thead th {\n",
       "        text-align: right;\n",
       "    }\n",
       "</style>\n",
       "<table border=\"1\" class=\"dataframe\">\n",
       "  <thead>\n",
       "    <tr style=\"text-align: right;\">\n",
       "      <th></th>\n",
       "      <th>name</th>\n",
       "      <th>platform</th>\n",
       "      <th>year_of_release</th>\n",
       "      <th>genre</th>\n",
       "      <th>na_sales</th>\n",
       "      <th>eu_sales</th>\n",
       "      <th>jp_sales</th>\n",
       "      <th>other_sales</th>\n",
       "      <th>critic_score</th>\n",
       "      <th>user_score</th>\n",
       "      <th>rating</th>\n",
       "      <th>total_sales</th>\n",
       "    </tr>\n",
       "  </thead>\n",
       "  <tbody>\n",
       "    <tr>\n",
       "      <td>0</td>\n",
       "      <td>Wii Sports</td>\n",
       "      <td>Wii</td>\n",
       "      <td>2006</td>\n",
       "      <td>Sports</td>\n",
       "      <td>41.36</td>\n",
       "      <td>28.96</td>\n",
       "      <td>3.77</td>\n",
       "      <td>8.45</td>\n",
       "      <td>76.0</td>\n",
       "      <td>8.0</td>\n",
       "      <td>E</td>\n",
       "      <td>82.54</td>\n",
       "    </tr>\n",
       "    <tr>\n",
       "      <td>1</td>\n",
       "      <td>Super Mario Bros.</td>\n",
       "      <td>NES</td>\n",
       "      <td>1985</td>\n",
       "      <td>Platform</td>\n",
       "      <td>29.08</td>\n",
       "      <td>3.58</td>\n",
       "      <td>6.81</td>\n",
       "      <td>0.77</td>\n",
       "      <td>NaN</td>\n",
       "      <td>NaN</td>\n",
       "      <td>unknown</td>\n",
       "      <td>40.24</td>\n",
       "    </tr>\n",
       "    <tr>\n",
       "      <td>2</td>\n",
       "      <td>Mario Kart Wii</td>\n",
       "      <td>Wii</td>\n",
       "      <td>2008</td>\n",
       "      <td>Racing</td>\n",
       "      <td>15.68</td>\n",
       "      <td>12.76</td>\n",
       "      <td>3.79</td>\n",
       "      <td>3.29</td>\n",
       "      <td>82.0</td>\n",
       "      <td>8.3</td>\n",
       "      <td>E</td>\n",
       "      <td>35.52</td>\n",
       "    </tr>\n",
       "    <tr>\n",
       "      <td>3</td>\n",
       "      <td>Wii Sports Resort</td>\n",
       "      <td>Wii</td>\n",
       "      <td>2009</td>\n",
       "      <td>Sports</td>\n",
       "      <td>15.61</td>\n",
       "      <td>10.93</td>\n",
       "      <td>3.28</td>\n",
       "      <td>2.95</td>\n",
       "      <td>80.0</td>\n",
       "      <td>8.0</td>\n",
       "      <td>E</td>\n",
       "      <td>32.77</td>\n",
       "    </tr>\n",
       "    <tr>\n",
       "      <td>4</td>\n",
       "      <td>Pokemon Red/Pokemon Blue</td>\n",
       "      <td>GB</td>\n",
       "      <td>1996</td>\n",
       "      <td>Role-Playing</td>\n",
       "      <td>11.27</td>\n",
       "      <td>8.89</td>\n",
       "      <td>10.22</td>\n",
       "      <td>1.00</td>\n",
       "      <td>NaN</td>\n",
       "      <td>NaN</td>\n",
       "      <td>unknown</td>\n",
       "      <td>31.38</td>\n",
       "    </tr>\n",
       "  </tbody>\n",
       "</table>\n",
       "</div>"
      ],
      "text/plain": [
       "                       name platform  year_of_release         genre  na_sales  \\\n",
       "0                Wii Sports      Wii             2006        Sports     41.36   \n",
       "1         Super Mario Bros.      NES             1985      Platform     29.08   \n",
       "2            Mario Kart Wii      Wii             2008        Racing     15.68   \n",
       "3         Wii Sports Resort      Wii             2009        Sports     15.61   \n",
       "4  Pokemon Red/Pokemon Blue       GB             1996  Role-Playing     11.27   \n",
       "\n",
       "   eu_sales  jp_sales  other_sales  critic_score  user_score   rating  \\\n",
       "0     28.96      3.77         8.45          76.0         8.0        E   \n",
       "1      3.58      6.81         0.77           NaN         NaN  unknown   \n",
       "2     12.76      3.79         3.29          82.0         8.3        E   \n",
       "3     10.93      3.28         2.95          80.0         8.0        E   \n",
       "4      8.89     10.22         1.00           NaN         NaN  unknown   \n",
       "\n",
       "   total_sales  \n",
       "0        82.54  \n",
       "1        40.24  \n",
       "2        35.52  \n",
       "3        32.77  \n",
       "4        31.38  "
      ]
     },
     "execution_count": 22,
     "metadata": {},
     "output_type": "execute_result"
    }
   ],
   "source": [
    "data['total_sales']= data[['na_sales', 'eu_sales', 'jp_sales', 'other_sales']].sum(axis=1)\n",
    "data.head()\n"
   ]
  },
  {
   "cell_type": "markdown",
   "metadata": {},
   "source": [
    "# conclusion"
   ]
  },
  {
   "cell_type": "markdown",
   "metadata": {},
   "source": [
    "For the first part of the analysis we can conclude several points:\n",
    "1. critic_score has a lot of missing values probably because some of the games are too new and \n",
    "   didn't review by game critics and perhaps others just didn't reviewed by critics at all.\n",
    "2. user_score has a value named tbd(to be determined). At first I thought that new games still    didn't got a user review and that is the reason for tbd but when I searched the user score    by the years of release I found that tbd is in all of them so I'm going to treat them as      missing values and later on I will exclude them from the analysis.\n"
   ]
  },
  {
   "cell_type": "markdown",
   "metadata": {},
   "source": [
    "<div class=\"alert alert-block alert-warning\">\n",
    "   <h2>Reviewer's commentary <a class=\"tocSkip\"> </h2>\n",
    "    <br/>\n",
    "<b>Remarks and recommendations📌:</b>  \n",
    "       \n",
    "Ok, Idan, you offered and implemented the strategy that allows to fill in missing values with median, mean and mode. But, to tell the truth, there are too many missing values in the columns critic_score and user_score too, so it is rather risky to fill in missing values in this columns with median or mean. In fact, we do not know why the data in these columns is missing (we can only hypothesize), and we do not have access to a source that would allow us to replenish the data, restore it, so it is better leave missing values in the data or you can simply replace them with indicators, which you can filter at the next steps of the analysis if it is necessary. Missing values are also some kind of signal worth paying attention to and analyzing, it is valuable in its own way! The analyst's goal when working with missing values is not about filling the 100% of missing values! When filling missing values, it is important to proceed from the specifics of the data, take into account the risks of data distortion and the introduction of artificial trends and characteristics.\n",
    "       \n",
    "I would like to recommend you to leave the missing values in these columns as they are.\n",
    "       \n",
    "As for rating column, you are right, we again cannot restore the data in this column, because the percentage of missing values is really high, but we can replace missing values in this column with marker value `unknown` because later in this project it is important to take into account the games without rating.\n",
    "       \n",
    "As for tbd - it is better to preprocess it too. The strategy is: you change this value to NaN and then convert the whole column to float type. Another way is:\n",
    "       \n",
    "`data['user_score'] = pd.to_numeric(data['user_score'], downcast = 'float', errors='ignore')`\n",
    "       \n",
    "or like this:\n",
    "       \n",
    "`df['user_score'] = pd.to_numeric(df['user_score'], errors='coerce')`\n",
    "       \n",
    "Also we have some missing values in genre and game columns. As a whole we can drop them, please, check."
   ]
  },
  {
   "cell_type": "markdown",
   "metadata": {},
   "source": [
    "<font color='Purple'>Student's commentary: You are absoultly right and I had struggled with filling/not filling the missing values. My approch was to fill it just for the sake of practice. "
   ]
  },
  {
   "cell_type": "markdown",
   "metadata": {},
   "source": [
    "<div class=\"alert alert-block alert-success\">\n",
    "    <h2>Reviewer's commentary:second iteration of the review <a class=\"tocSkip\"> </h2>\n",
    "    <br/>\n",
    "<b>Well done!👍:</b> \n",
    "        \n",
    "Ok, Idan, thank you for explanation, if it for additional practice - ok, it can be so, my aim is to provide the recommendations and alternative view, so, anyway, now the tbd value and missing values in rating column is preprocessed correctly. As for missing values in user_score and critic_score - ok, its your choice as an analyst💪\n",
    "</div>"
   ]
  },
  {
   "cell_type": "markdown",
   "metadata": {},
   "source": [
    "# Step 3. Analyze the data"
   ]
  },
  {
   "cell_type": "code",
   "execution_count": 23,
   "metadata": {},
   "outputs": [
    {
     "data": {
      "text/html": [
       "<div>\n",
       "<style scoped>\n",
       "    .dataframe tbody tr th:only-of-type {\n",
       "        vertical-align: middle;\n",
       "    }\n",
       "\n",
       "    .dataframe tbody tr th {\n",
       "        vertical-align: top;\n",
       "    }\n",
       "\n",
       "    .dataframe thead th {\n",
       "        text-align: right;\n",
       "    }\n",
       "</style>\n",
       "<table border=\"1\" class=\"dataframe\">\n",
       "  <thead>\n",
       "    <tr style=\"text-align: right;\">\n",
       "      <th></th>\n",
       "      <th>year_of_release</th>\n",
       "      <th>name</th>\n",
       "    </tr>\n",
       "  </thead>\n",
       "  <tbody>\n",
       "    <tr>\n",
       "      <td>0</td>\n",
       "      <td>1980</td>\n",
       "      <td>9</td>\n",
       "    </tr>\n",
       "    <tr>\n",
       "      <td>1</td>\n",
       "      <td>1981</td>\n",
       "      <td>46</td>\n",
       "    </tr>\n",
       "    <tr>\n",
       "      <td>2</td>\n",
       "      <td>1982</td>\n",
       "      <td>53</td>\n",
       "    </tr>\n",
       "    <tr>\n",
       "      <td>3</td>\n",
       "      <td>1983</td>\n",
       "      <td>17</td>\n",
       "    </tr>\n",
       "    <tr>\n",
       "      <td>4</td>\n",
       "      <td>1984</td>\n",
       "      <td>14</td>\n",
       "    </tr>\n",
       "    <tr>\n",
       "      <td>5</td>\n",
       "      <td>1985</td>\n",
       "      <td>14</td>\n",
       "    </tr>\n",
       "    <tr>\n",
       "      <td>6</td>\n",
       "      <td>1986</td>\n",
       "      <td>21</td>\n",
       "    </tr>\n",
       "    <tr>\n",
       "      <td>7</td>\n",
       "      <td>1987</td>\n",
       "      <td>16</td>\n",
       "    </tr>\n",
       "    <tr>\n",
       "      <td>8</td>\n",
       "      <td>1988</td>\n",
       "      <td>15</td>\n",
       "    </tr>\n",
       "    <tr>\n",
       "      <td>9</td>\n",
       "      <td>1989</td>\n",
       "      <td>17</td>\n",
       "    </tr>\n",
       "    <tr>\n",
       "      <td>10</td>\n",
       "      <td>1990</td>\n",
       "      <td>16</td>\n",
       "    </tr>\n",
       "    <tr>\n",
       "      <td>11</td>\n",
       "      <td>1991</td>\n",
       "      <td>41</td>\n",
       "    </tr>\n",
       "    <tr>\n",
       "      <td>12</td>\n",
       "      <td>1992</td>\n",
       "      <td>43</td>\n",
       "    </tr>\n",
       "    <tr>\n",
       "      <td>13</td>\n",
       "      <td>1993</td>\n",
       "      <td>60</td>\n",
       "    </tr>\n",
       "    <tr>\n",
       "      <td>14</td>\n",
       "      <td>1994</td>\n",
       "      <td>121</td>\n",
       "    </tr>\n",
       "    <tr>\n",
       "      <td>15</td>\n",
       "      <td>1995</td>\n",
       "      <td>220</td>\n",
       "    </tr>\n",
       "    <tr>\n",
       "      <td>16</td>\n",
       "      <td>1996</td>\n",
       "      <td>263</td>\n",
       "    </tr>\n",
       "    <tr>\n",
       "      <td>17</td>\n",
       "      <td>1997</td>\n",
       "      <td>289</td>\n",
       "    </tr>\n",
       "    <tr>\n",
       "      <td>18</td>\n",
       "      <td>1998</td>\n",
       "      <td>389</td>\n",
       "    </tr>\n",
       "    <tr>\n",
       "      <td>19</td>\n",
       "      <td>1999</td>\n",
       "      <td>338</td>\n",
       "    </tr>\n",
       "    <tr>\n",
       "      <td>20</td>\n",
       "      <td>2000</td>\n",
       "      <td>350</td>\n",
       "    </tr>\n",
       "    <tr>\n",
       "      <td>21</td>\n",
       "      <td>2001</td>\n",
       "      <td>482</td>\n",
       "    </tr>\n",
       "    <tr>\n",
       "      <td>22</td>\n",
       "      <td>2002</td>\n",
       "      <td>829</td>\n",
       "    </tr>\n",
       "    <tr>\n",
       "      <td>23</td>\n",
       "      <td>2003</td>\n",
       "      <td>821</td>\n",
       "    </tr>\n",
       "    <tr>\n",
       "      <td>24</td>\n",
       "      <td>2004</td>\n",
       "      <td>796</td>\n",
       "    </tr>\n",
       "    <tr>\n",
       "      <td>25</td>\n",
       "      <td>2005</td>\n",
       "      <td>939</td>\n",
       "    </tr>\n",
       "    <tr>\n",
       "      <td>26</td>\n",
       "      <td>2006</td>\n",
       "      <td>1006</td>\n",
       "    </tr>\n",
       "    <tr>\n",
       "      <td>27</td>\n",
       "      <td>2007</td>\n",
       "      <td>1197</td>\n",
       "    </tr>\n",
       "    <tr>\n",
       "      <td>28</td>\n",
       "      <td>2008</td>\n",
       "      <td>1524</td>\n",
       "    </tr>\n",
       "    <tr>\n",
       "      <td>29</td>\n",
       "      <td>2009</td>\n",
       "      <td>1456</td>\n",
       "    </tr>\n",
       "    <tr>\n",
       "      <td>30</td>\n",
       "      <td>2010</td>\n",
       "      <td>1280</td>\n",
       "    </tr>\n",
       "    <tr>\n",
       "      <td>31</td>\n",
       "      <td>2011</td>\n",
       "      <td>1136</td>\n",
       "    </tr>\n",
       "    <tr>\n",
       "      <td>32</td>\n",
       "      <td>2012</td>\n",
       "      <td>653</td>\n",
       "    </tr>\n",
       "    <tr>\n",
       "      <td>33</td>\n",
       "      <td>2013</td>\n",
       "      <td>552</td>\n",
       "    </tr>\n",
       "    <tr>\n",
       "      <td>34</td>\n",
       "      <td>2014</td>\n",
       "      <td>582</td>\n",
       "    </tr>\n",
       "    <tr>\n",
       "      <td>35</td>\n",
       "      <td>2015</td>\n",
       "      <td>606</td>\n",
       "    </tr>\n",
       "    <tr>\n",
       "      <td>36</td>\n",
       "      <td>2016</td>\n",
       "      <td>502</td>\n",
       "    </tr>\n",
       "  </tbody>\n",
       "</table>\n",
       "</div>"
      ],
      "text/plain": [
       "    year_of_release  name\n",
       "0              1980     9\n",
       "1              1981    46\n",
       "2              1982    53\n",
       "3              1983    17\n",
       "4              1984    14\n",
       "5              1985    14\n",
       "6              1986    21\n",
       "7              1987    16\n",
       "8              1988    15\n",
       "9              1989    17\n",
       "10             1990    16\n",
       "11             1991    41\n",
       "12             1992    43\n",
       "13             1993    60\n",
       "14             1994   121\n",
       "15             1995   220\n",
       "16             1996   263\n",
       "17             1997   289\n",
       "18             1998   389\n",
       "19             1999   338\n",
       "20             2000   350\n",
       "21             2001   482\n",
       "22             2002   829\n",
       "23             2003   821\n",
       "24             2004   796\n",
       "25             2005   939\n",
       "26             2006  1006\n",
       "27             2007  1197\n",
       "28             2008  1524\n",
       "29             2009  1456\n",
       "30             2010  1280\n",
       "31             2011  1136\n",
       "32             2012   653\n",
       "33             2013   552\n",
       "34             2014   582\n",
       "35             2015   606\n",
       "36             2016   502"
      ]
     },
     "execution_count": 23,
     "metadata": {},
     "output_type": "execute_result"
    }
   ],
   "source": [
    "game_year= data.groupby(['year_of_release'])['name'].count().reset_index()\n",
    "game_year"
   ]
  },
  {
   "cell_type": "code",
   "execution_count": 24,
   "metadata": {},
   "outputs": [
    {
     "data": {
      "image/png": "[encoded data removed]",
      "text/plain": [
       "<Figure size 1008x720 with 1 Axes>"
      ]
     },
     "metadata": {
      "needs_background": "light"
     },
     "output_type": "display_data"
    }
   ],
   "source": [
    "fig, ax = plt.subplots(figsize=(14,10))\n",
    "ax.vlines(x='year_of_release',ymin=0, ymax=game_year.name, color='green', alpha=0.8, data=game_year, linewidth=2)\n",
    "ax.set_title('Game count per year', fontdict={'size':15})\n",
    "ax.set_xticks(game_year.year_of_release)\n",
    "ax.set_xticklabels(game_year.year_of_release,rotation=90)\n",
    "for row in game_year.itertuples():\n",
    "    ax.text(row.year_of_release, row.name+30, s= round(row.name))\n",
    "plt.show()\n"
   ]
  },
  {
   "cell_type": "markdown",
   "metadata": {},
   "source": [
    "We can observe that there was a peak of game releases in 2007-2010 and then a huge descent."
   ]
  },
  {
   "cell_type": "markdown",
   "metadata": {},
   "source": [
    "Look at how sales varied from platform to platform. Choose the platforms with the greatest total sales and build a distribution based on data for each year"
   ]
  },
  {
   "cell_type": "code",
   "execution_count": 25,
   "metadata": {},
   "outputs": [
    {
     "data": {
      "text/html": [
       "<div>\n",
       "<style scoped>\n",
       "    .dataframe tbody tr th:only-of-type {\n",
       "        vertical-align: middle;\n",
       "    }\n",
       "\n",
       "    .dataframe tbody tr th {\n",
       "        vertical-align: top;\n",
       "    }\n",
       "\n",
       "    .dataframe thead th {\n",
       "        text-align: right;\n",
       "    }\n",
       "</style>\n",
       "<table border=\"1\" class=\"dataframe\">\n",
       "  <thead>\n",
       "    <tr style=\"text-align: right;\">\n",
       "      <th></th>\n",
       "      <th>platform</th>\n",
       "      <th>total_sales</th>\n",
       "    </tr>\n",
       "  </thead>\n",
       "  <tbody>\n",
       "    <tr>\n",
       "      <td>14</td>\n",
       "      <td>PCFX</td>\n",
       "      <td>0.03</td>\n",
       "    </tr>\n",
       "    <tr>\n",
       "      <td>9</td>\n",
       "      <td>GG</td>\n",
       "      <td>0.04</td>\n",
       "    </tr>\n",
       "    <tr>\n",
       "      <td>1</td>\n",
       "      <td>3DO</td>\n",
       "      <td>0.10</td>\n",
       "    </tr>\n",
       "    <tr>\n",
       "      <td>24</td>\n",
       "      <td>TG16</td>\n",
       "      <td>0.16</td>\n",
       "    </tr>\n",
       "    <tr>\n",
       "      <td>25</td>\n",
       "      <td>WS</td>\n",
       "      <td>1.42</td>\n",
       "    </tr>\n",
       "    <tr>\n",
       "      <td>12</td>\n",
       "      <td>NG</td>\n",
       "      <td>1.44</td>\n",
       "    </tr>\n",
       "    <tr>\n",
       "      <td>22</td>\n",
       "      <td>SCD</td>\n",
       "      <td>1.86</td>\n",
       "    </tr>\n",
       "    <tr>\n",
       "      <td>3</td>\n",
       "      <td>DC</td>\n",
       "      <td>15.95</td>\n",
       "    </tr>\n",
       "    <tr>\n",
       "      <td>8</td>\n",
       "      <td>GEN</td>\n",
       "      <td>28.35</td>\n",
       "    </tr>\n",
       "    <tr>\n",
       "      <td>21</td>\n",
       "      <td>SAT</td>\n",
       "      <td>33.59</td>\n",
       "    </tr>\n",
       "    <tr>\n",
       "      <td>20</td>\n",
       "      <td>PSV</td>\n",
       "      <td>54.07</td>\n",
       "    </tr>\n",
       "    <tr>\n",
       "      <td>27</td>\n",
       "      <td>WiiU</td>\n",
       "      <td>82.19</td>\n",
       "    </tr>\n",
       "    <tr>\n",
       "      <td>0</td>\n",
       "      <td>2600</td>\n",
       "      <td>96.98</td>\n",
       "    </tr>\n",
       "    <tr>\n",
       "      <td>30</td>\n",
       "      <td>XOne</td>\n",
       "      <td>159.32</td>\n",
       "    </tr>\n",
       "    <tr>\n",
       "      <td>7</td>\n",
       "      <td>GC</td>\n",
       "      <td>198.93</td>\n",
       "    </tr>\n",
       "    <tr>\n",
       "      <td>23</td>\n",
       "      <td>SNES</td>\n",
       "      <td>200.04</td>\n",
       "    </tr>\n",
       "    <tr>\n",
       "      <td>10</td>\n",
       "      <td>N64</td>\n",
       "      <td>218.68</td>\n",
       "    </tr>\n",
       "    <tr>\n",
       "      <td>11</td>\n",
       "      <td>NES</td>\n",
       "      <td>251.05</td>\n",
       "    </tr>\n",
       "    <tr>\n",
       "      <td>5</td>\n",
       "      <td>GB</td>\n",
       "      <td>255.46</td>\n",
       "    </tr>\n",
       "    <tr>\n",
       "      <td>29</td>\n",
       "      <td>XB</td>\n",
       "      <td>257.74</td>\n",
       "    </tr>\n",
       "    <tr>\n",
       "      <td>2</td>\n",
       "      <td>3DS</td>\n",
       "      <td>259.00</td>\n",
       "    </tr>\n",
       "    <tr>\n",
       "      <td>13</td>\n",
       "      <td>PC</td>\n",
       "      <td>259.52</td>\n",
       "    </tr>\n",
       "    <tr>\n",
       "      <td>19</td>\n",
       "      <td>PSP</td>\n",
       "      <td>294.05</td>\n",
       "    </tr>\n",
       "    <tr>\n",
       "      <td>18</td>\n",
       "      <td>PS4</td>\n",
       "      <td>314.14</td>\n",
       "    </tr>\n",
       "    <tr>\n",
       "      <td>6</td>\n",
       "      <td>GBA</td>\n",
       "      <td>317.85</td>\n",
       "    </tr>\n",
       "    <tr>\n",
       "      <td>15</td>\n",
       "      <td>PS</td>\n",
       "      <td>730.86</td>\n",
       "    </tr>\n",
       "    <tr>\n",
       "      <td>4</td>\n",
       "      <td>DS</td>\n",
       "      <td>806.12</td>\n",
       "    </tr>\n",
       "    <tr>\n",
       "      <td>26</td>\n",
       "      <td>Wii</td>\n",
       "      <td>907.51</td>\n",
       "    </tr>\n",
       "    <tr>\n",
       "      <td>17</td>\n",
       "      <td>PS3</td>\n",
       "      <td>939.65</td>\n",
       "    </tr>\n",
       "    <tr>\n",
       "      <td>28</td>\n",
       "      <td>X360</td>\n",
       "      <td>971.42</td>\n",
       "    </tr>\n",
       "    <tr>\n",
       "      <td>16</td>\n",
       "      <td>PS2</td>\n",
       "      <td>1255.77</td>\n",
       "    </tr>\n",
       "  </tbody>\n",
       "</table>\n",
       "</div>"
      ],
      "text/plain": [
       "   platform  total_sales\n",
       "14     PCFX         0.03\n",
       "9        GG         0.04\n",
       "1       3DO         0.10\n",
       "24     TG16         0.16\n",
       "25       WS         1.42\n",
       "12       NG         1.44\n",
       "22      SCD         1.86\n",
       "3        DC        15.95\n",
       "8       GEN        28.35\n",
       "21      SAT        33.59\n",
       "20      PSV        54.07\n",
       "27     WiiU        82.19\n",
       "0      2600        96.98\n",
       "30     XOne       159.32\n",
       "7        GC       198.93\n",
       "23     SNES       200.04\n",
       "10      N64       218.68\n",
       "11      NES       251.05\n",
       "5        GB       255.46\n",
       "29       XB       257.74\n",
       "2       3DS       259.00\n",
       "13       PC       259.52\n",
       "19      PSP       294.05\n",
       "18      PS4       314.14\n",
       "6       GBA       317.85\n",
       "15       PS       730.86\n",
       "4        DS       806.12\n",
       "26      Wii       907.51\n",
       "17      PS3       939.65\n",
       "28     X360       971.42\n",
       "16      PS2      1255.77"
      ]
     },
     "execution_count": 25,
     "metadata": {},
     "output_type": "execute_result"
    }
   ],
   "source": [
    "platform_sales= data.groupby(['platform'])['total_sales'].sum().reset_index()\n",
    "\n",
    "platform_sales.sort_values(by='total_sales')"
   ]
  },
  {
   "cell_type": "code",
   "execution_count": 26,
   "metadata": {},
   "outputs": [],
   "source": [
    "platform_sales['sales_z']=(platform_sales['total_sales']-platform_sales['total_sales'].mean())/platform_sales['total_sales'].std()\n",
    "#I'm runnig a z test which tell me how far the total sales for each platform from the mean in std points\n"
   ]
  },
  {
   "cell_type": "code",
   "execution_count": 27,
   "metadata": {},
   "outputs": [
    {
     "data": {
      "text/html": [
       "<div>\n",
       "<style scoped>\n",
       "    .dataframe tbody tr th:only-of-type {\n",
       "        vertical-align: middle;\n",
       "    }\n",
       "\n",
       "    .dataframe tbody tr th {\n",
       "        vertical-align: top;\n",
       "    }\n",
       "\n",
       "    .dataframe thead th {\n",
       "        text-align: right;\n",
       "    }\n",
       "</style>\n",
       "<table border=\"1\" class=\"dataframe\">\n",
       "  <thead>\n",
       "    <tr style=\"text-align: right;\">\n",
       "      <th></th>\n",
       "      <th>platform</th>\n",
       "      <th>total_sales</th>\n",
       "      <th>sales_z</th>\n",
       "    </tr>\n",
       "  </thead>\n",
       "  <tbody>\n",
       "    <tr>\n",
       "      <td>14</td>\n",
       "      <td>PCFX</td>\n",
       "      <td>0.03</td>\n",
       "      <td>-0.825614</td>\n",
       "    </tr>\n",
       "    <tr>\n",
       "      <td>9</td>\n",
       "      <td>GG</td>\n",
       "      <td>0.04</td>\n",
       "      <td>-0.825586</td>\n",
       "    </tr>\n",
       "    <tr>\n",
       "      <td>1</td>\n",
       "      <td>3DO</td>\n",
       "      <td>0.10</td>\n",
       "      <td>-0.825413</td>\n",
       "    </tr>\n",
       "    <tr>\n",
       "      <td>24</td>\n",
       "      <td>TG16</td>\n",
       "      <td>0.16</td>\n",
       "      <td>-0.825241</td>\n",
       "    </tr>\n",
       "    <tr>\n",
       "      <td>25</td>\n",
       "      <td>WS</td>\n",
       "      <td>1.42</td>\n",
       "      <td>-0.821623</td>\n",
       "    </tr>\n",
       "    <tr>\n",
       "      <td>12</td>\n",
       "      <td>NG</td>\n",
       "      <td>1.44</td>\n",
       "      <td>-0.821565</td>\n",
       "    </tr>\n",
       "    <tr>\n",
       "      <td>22</td>\n",
       "      <td>SCD</td>\n",
       "      <td>1.86</td>\n",
       "      <td>-0.820359</td>\n",
       "    </tr>\n",
       "    <tr>\n",
       "      <td>3</td>\n",
       "      <td>DC</td>\n",
       "      <td>15.95</td>\n",
       "      <td>-0.779896</td>\n",
       "    </tr>\n",
       "    <tr>\n",
       "      <td>8</td>\n",
       "      <td>GEN</td>\n",
       "      <td>28.35</td>\n",
       "      <td>-0.744287</td>\n",
       "    </tr>\n",
       "    <tr>\n",
       "      <td>21</td>\n",
       "      <td>SAT</td>\n",
       "      <td>33.59</td>\n",
       "      <td>-0.729239</td>\n",
       "    </tr>\n",
       "    <tr>\n",
       "      <td>20</td>\n",
       "      <td>PSV</td>\n",
       "      <td>54.07</td>\n",
       "      <td>-0.670425</td>\n",
       "    </tr>\n",
       "    <tr>\n",
       "      <td>27</td>\n",
       "      <td>WiiU</td>\n",
       "      <td>82.19</td>\n",
       "      <td>-0.589672</td>\n",
       "    </tr>\n",
       "    <tr>\n",
       "      <td>0</td>\n",
       "      <td>2600</td>\n",
       "      <td>96.98</td>\n",
       "      <td>-0.547199</td>\n",
       "    </tr>\n",
       "    <tr>\n",
       "      <td>30</td>\n",
       "      <td>XOne</td>\n",
       "      <td>159.32</td>\n",
       "      <td>-0.368174</td>\n",
       "    </tr>\n",
       "    <tr>\n",
       "      <td>7</td>\n",
       "      <td>GC</td>\n",
       "      <td>198.93</td>\n",
       "      <td>-0.254424</td>\n",
       "    </tr>\n",
       "    <tr>\n",
       "      <td>23</td>\n",
       "      <td>SNES</td>\n",
       "      <td>200.04</td>\n",
       "      <td>-0.251236</td>\n",
       "    </tr>\n",
       "    <tr>\n",
       "      <td>10</td>\n",
       "      <td>N64</td>\n",
       "      <td>218.68</td>\n",
       "      <td>-0.197707</td>\n",
       "    </tr>\n",
       "    <tr>\n",
       "      <td>11</td>\n",
       "      <td>NES</td>\n",
       "      <td>251.05</td>\n",
       "      <td>-0.104748</td>\n",
       "    </tr>\n",
       "    <tr>\n",
       "      <td>5</td>\n",
       "      <td>GB</td>\n",
       "      <td>255.46</td>\n",
       "      <td>-0.092084</td>\n",
       "    </tr>\n",
       "    <tr>\n",
       "      <td>29</td>\n",
       "      <td>XB</td>\n",
       "      <td>257.74</td>\n",
       "      <td>-0.085536</td>\n",
       "    </tr>\n",
       "    <tr>\n",
       "      <td>2</td>\n",
       "      <td>3DS</td>\n",
       "      <td>259.00</td>\n",
       "      <td>-0.081918</td>\n",
       "    </tr>\n",
       "    <tr>\n",
       "      <td>13</td>\n",
       "      <td>PC</td>\n",
       "      <td>259.52</td>\n",
       "      <td>-0.080425</td>\n",
       "    </tr>\n",
       "    <tr>\n",
       "      <td>19</td>\n",
       "      <td>PSP</td>\n",
       "      <td>294.05</td>\n",
       "      <td>0.018737</td>\n",
       "    </tr>\n",
       "    <tr>\n",
       "      <td>18</td>\n",
       "      <td>PS4</td>\n",
       "      <td>314.14</td>\n",
       "      <td>0.076430</td>\n",
       "    </tr>\n",
       "    <tr>\n",
       "      <td>6</td>\n",
       "      <td>GBA</td>\n",
       "      <td>317.85</td>\n",
       "      <td>0.087084</td>\n",
       "    </tr>\n",
       "    <tr>\n",
       "      <td>15</td>\n",
       "      <td>PS</td>\n",
       "      <td>730.86</td>\n",
       "      <td>1.273145</td>\n",
       "    </tr>\n",
       "    <tr>\n",
       "      <td>4</td>\n",
       "      <td>DS</td>\n",
       "      <td>806.12</td>\n",
       "      <td>1.489273</td>\n",
       "    </tr>\n",
       "    <tr>\n",
       "      <td>26</td>\n",
       "      <td>Wii</td>\n",
       "      <td>907.51</td>\n",
       "      <td>1.780439</td>\n",
       "    </tr>\n",
       "    <tr>\n",
       "      <td>17</td>\n",
       "      <td>PS3</td>\n",
       "      <td>939.65</td>\n",
       "      <td>1.872737</td>\n",
       "    </tr>\n",
       "    <tr>\n",
       "      <td>28</td>\n",
       "      <td>X360</td>\n",
       "      <td>971.42</td>\n",
       "      <td>1.963972</td>\n",
       "    </tr>\n",
       "    <tr>\n",
       "      <td>16</td>\n",
       "      <td>PS2</td>\n",
       "      <td>1255.77</td>\n",
       "      <td>2.780554</td>\n",
       "    </tr>\n",
       "  </tbody>\n",
       "</table>\n",
       "</div>"
      ],
      "text/plain": [
       "   platform  total_sales   sales_z\n",
       "14     PCFX         0.03 -0.825614\n",
       "9        GG         0.04 -0.825586\n",
       "1       3DO         0.10 -0.825413\n",
       "24     TG16         0.16 -0.825241\n",
       "25       WS         1.42 -0.821623\n",
       "12       NG         1.44 -0.821565\n",
       "22      SCD         1.86 -0.820359\n",
       "3        DC        15.95 -0.779896\n",
       "8       GEN        28.35 -0.744287\n",
       "21      SAT        33.59 -0.729239\n",
       "20      PSV        54.07 -0.670425\n",
       "27     WiiU        82.19 -0.589672\n",
       "0      2600        96.98 -0.547199\n",
       "30     XOne       159.32 -0.368174\n",
       "7        GC       198.93 -0.254424\n",
       "23     SNES       200.04 -0.251236\n",
       "10      N64       218.68 -0.197707\n",
       "11      NES       251.05 -0.104748\n",
       "5        GB       255.46 -0.092084\n",
       "29       XB       257.74 -0.085536\n",
       "2       3DS       259.00 -0.081918\n",
       "13       PC       259.52 -0.080425\n",
       "19      PSP       294.05  0.018737\n",
       "18      PS4       314.14  0.076430\n",
       "6       GBA       317.85  0.087084\n",
       "15       PS       730.86  1.273145\n",
       "4        DS       806.12  1.489273\n",
       "26      Wii       907.51  1.780439\n",
       "17      PS3       939.65  1.872737\n",
       "28     X360       971.42  1.963972\n",
       "16      PS2      1255.77  2.780554"
      ]
     },
     "execution_count": 27,
     "metadata": {},
     "output_type": "execute_result"
    }
   ],
   "source": [
    "platform_sales.sort_values(by='sales_z')"
   ]
  },
  {
   "cell_type": "code",
   "execution_count": 28,
   "metadata": {},
   "outputs": [],
   "source": [
    "platform_sales['color']= ['red' if x<0 else 'green' for x in platform_sales['sales_z']]\n",
    "platform_sales= platform_sales.sort_values(by='sales_z')\n"
   ]
  },
  {
   "cell_type": "code",
   "execution_count": 29,
   "metadata": {},
   "outputs": [
    {
     "data": {
      "image/png": "[encoded data removed]",
      "text/plain": [
       "<Figure size 1008x720 with 1 Axes>"
      ]
     },
     "metadata": {
      "needs_background": "light"
     },
     "output_type": "display_data"
    }
   ],
   "source": [
    "plt.figure(figsize=(14,10))\n",
    "plt.hlines(y=platform_sales.platform, xmax=platform_sales.sales_z, xmin=0,color=platform_sales.color, alpha=0.5, linewidth=10)\n",
    "plt.show()"
   ]
  },
  {
   "cell_type": "markdown",
   "metadata": {},
   "source": [
    "We can notice that there are 9 platforms which are extremly greater than the average total sales. The red platforms indicates that they are below the average sales in standard devation points"
   ]
  },
  {
   "cell_type": "markdown",
   "metadata": {},
   "source": [
    "<div class=\"alert alert-block alert-success\">\n",
    "    <h2>Reviewer's commentary <a class=\"tocSkip\"> </h2>\n",
    "    <br/>\n",
    "<b>Well done!👍:</b> \n",
    "        \n",
    "Ok, agree with your conlusions here, the plots look great!"
   ]
  },
  {
   "cell_type": "markdown",
   "metadata": {},
   "source": [
    "Find platforms that used to be popular but now have zero sales. How long does it generally take for new platforms to appear and old ones to fade?"
   ]
  },
  {
   "cell_type": "code",
   "execution_count": 30,
   "metadata": {},
   "outputs": [
    {
     "data": {
      "text/html": [
       "<div>\n",
       "<style scoped>\n",
       "    .dataframe tbody tr th:only-of-type {\n",
       "        vertical-align: middle;\n",
       "    }\n",
       "\n",
       "    .dataframe tbody tr th {\n",
       "        vertical-align: top;\n",
       "    }\n",
       "\n",
       "    .dataframe thead th {\n",
       "        text-align: right;\n",
       "    }\n",
       "</style>\n",
       "<table border=\"1\" class=\"dataframe\">\n",
       "  <thead>\n",
       "    <tr style=\"text-align: right;\">\n",
       "      <th></th>\n",
       "      <th>platform</th>\n",
       "      <th>total_sales</th>\n",
       "      <th>sales_z</th>\n",
       "      <th>color</th>\n",
       "    </tr>\n",
       "  </thead>\n",
       "  <tbody>\n",
       "    <tr>\n",
       "      <td>19</td>\n",
       "      <td>PSP</td>\n",
       "      <td>294.05</td>\n",
       "      <td>0.018737</td>\n",
       "      <td>green</td>\n",
       "    </tr>\n",
       "    <tr>\n",
       "      <td>18</td>\n",
       "      <td>PS4</td>\n",
       "      <td>314.14</td>\n",
       "      <td>0.076430</td>\n",
       "      <td>green</td>\n",
       "    </tr>\n",
       "    <tr>\n",
       "      <td>6</td>\n",
       "      <td>GBA</td>\n",
       "      <td>317.85</td>\n",
       "      <td>0.087084</td>\n",
       "      <td>green</td>\n",
       "    </tr>\n",
       "    <tr>\n",
       "      <td>15</td>\n",
       "      <td>PS</td>\n",
       "      <td>730.86</td>\n",
       "      <td>1.273145</td>\n",
       "      <td>green</td>\n",
       "    </tr>\n",
       "    <tr>\n",
       "      <td>4</td>\n",
       "      <td>DS</td>\n",
       "      <td>806.12</td>\n",
       "      <td>1.489273</td>\n",
       "      <td>green</td>\n",
       "    </tr>\n",
       "    <tr>\n",
       "      <td>26</td>\n",
       "      <td>Wii</td>\n",
       "      <td>907.51</td>\n",
       "      <td>1.780439</td>\n",
       "      <td>green</td>\n",
       "    </tr>\n",
       "    <tr>\n",
       "      <td>17</td>\n",
       "      <td>PS3</td>\n",
       "      <td>939.65</td>\n",
       "      <td>1.872737</td>\n",
       "      <td>green</td>\n",
       "    </tr>\n",
       "    <tr>\n",
       "      <td>28</td>\n",
       "      <td>X360</td>\n",
       "      <td>971.42</td>\n",
       "      <td>1.963972</td>\n",
       "      <td>green</td>\n",
       "    </tr>\n",
       "    <tr>\n",
       "      <td>16</td>\n",
       "      <td>PS2</td>\n",
       "      <td>1255.77</td>\n",
       "      <td>2.780554</td>\n",
       "      <td>green</td>\n",
       "    </tr>\n",
       "  </tbody>\n",
       "</table>\n",
       "</div>"
      ],
      "text/plain": [
       "   platform  total_sales   sales_z  color\n",
       "19      PSP       294.05  0.018737  green\n",
       "18      PS4       314.14  0.076430  green\n",
       "6       GBA       317.85  0.087084  green\n",
       "15       PS       730.86  1.273145  green\n",
       "4        DS       806.12  1.489273  green\n",
       "26      Wii       907.51  1.780439  green\n",
       "17      PS3       939.65  1.872737  green\n",
       "28     X360       971.42  1.963972  green\n",
       "16      PS2      1255.77  2.780554  green"
      ]
     },
     "execution_count": 30,
     "metadata": {},
     "output_type": "execute_result"
    }
   ],
   "source": [
    "select_platform= platform_sales.query('color==\"green\"')\n",
    "select_platform\n",
    "#selecting platforms that are above average sales"
   ]
  },
  {
   "cell_type": "code",
   "execution_count": 31,
   "metadata": {},
   "outputs": [],
   "source": [
    "year_of_release= data[['platform','year_of_release']]"
   ]
  },
  {
   "cell_type": "code",
   "execution_count": 32,
   "metadata": {},
   "outputs": [
    {
     "data": {
      "text/html": [
       "<div>\n",
       "<style scoped>\n",
       "    .dataframe tbody tr th:only-of-type {\n",
       "        vertical-align: middle;\n",
       "    }\n",
       "\n",
       "    .dataframe tbody tr th {\n",
       "        vertical-align: top;\n",
       "    }\n",
       "\n",
       "    .dataframe thead th {\n",
       "        text-align: right;\n",
       "    }\n",
       "</style>\n",
       "<table border=\"1\" class=\"dataframe\">\n",
       "  <thead>\n",
       "    <tr style=\"text-align: right;\">\n",
       "      <th></th>\n",
       "      <th>platform</th>\n",
       "      <th>total_sales</th>\n",
       "      <th>sales_z</th>\n",
       "      <th>color</th>\n",
       "      <th>year_of_release</th>\n",
       "    </tr>\n",
       "  </thead>\n",
       "  <tbody>\n",
       "    <tr>\n",
       "      <td>0</td>\n",
       "      <td>PSP</td>\n",
       "      <td>294.05</td>\n",
       "      <td>0.018737</td>\n",
       "      <td>green</td>\n",
       "      <td>2005</td>\n",
       "    </tr>\n",
       "    <tr>\n",
       "      <td>1</td>\n",
       "      <td>PSP</td>\n",
       "      <td>294.05</td>\n",
       "      <td>0.018737</td>\n",
       "      <td>green</td>\n",
       "      <td>2008</td>\n",
       "    </tr>\n",
       "    <tr>\n",
       "      <td>2</td>\n",
       "      <td>PSP</td>\n",
       "      <td>294.05</td>\n",
       "      <td>0.018737</td>\n",
       "      <td>green</td>\n",
       "      <td>2006</td>\n",
       "    </tr>\n",
       "    <tr>\n",
       "      <td>3</td>\n",
       "      <td>PSP</td>\n",
       "      <td>294.05</td>\n",
       "      <td>0.018737</td>\n",
       "      <td>green</td>\n",
       "      <td>2010</td>\n",
       "    </tr>\n",
       "    <tr>\n",
       "      <td>4</td>\n",
       "      <td>PSP</td>\n",
       "      <td>294.05</td>\n",
       "      <td>0.018737</td>\n",
       "      <td>green</td>\n",
       "      <td>2006</td>\n",
       "    </tr>\n",
       "    <tr>\n",
       "      <td>...</td>\n",
       "      <td>...</td>\n",
       "      <td>...</td>\n",
       "      <td>...</td>\n",
       "      <td>...</td>\n",
       "      <td>...</td>\n",
       "    </tr>\n",
       "    <tr>\n",
       "      <td>11840</td>\n",
       "      <td>PS2</td>\n",
       "      <td>1255.77</td>\n",
       "      <td>2.780554</td>\n",
       "      <td>green</td>\n",
       "      <td>2008</td>\n",
       "    </tr>\n",
       "    <tr>\n",
       "      <td>11841</td>\n",
       "      <td>PS2</td>\n",
       "      <td>1255.77</td>\n",
       "      <td>2.780554</td>\n",
       "      <td>green</td>\n",
       "      <td>2008</td>\n",
       "    </tr>\n",
       "    <tr>\n",
       "      <td>11842</td>\n",
       "      <td>PS2</td>\n",
       "      <td>1255.77</td>\n",
       "      <td>2.780554</td>\n",
       "      <td>green</td>\n",
       "      <td>2008</td>\n",
       "    </tr>\n",
       "    <tr>\n",
       "      <td>11843</td>\n",
       "      <td>PS2</td>\n",
       "      <td>1255.77</td>\n",
       "      <td>2.780554</td>\n",
       "      <td>green</td>\n",
       "      <td>2008</td>\n",
       "    </tr>\n",
       "    <tr>\n",
       "      <td>11844</td>\n",
       "      <td>PS2</td>\n",
       "      <td>1255.77</td>\n",
       "      <td>2.780554</td>\n",
       "      <td>green</td>\n",
       "      <td>2008</td>\n",
       "    </tr>\n",
       "  </tbody>\n",
       "</table>\n",
       "<p>11845 rows × 5 columns</p>\n",
       "</div>"
      ],
      "text/plain": [
       "      platform  total_sales   sales_z  color  year_of_release\n",
       "0          PSP       294.05  0.018737  green             2005\n",
       "1          PSP       294.05  0.018737  green             2008\n",
       "2          PSP       294.05  0.018737  green             2006\n",
       "3          PSP       294.05  0.018737  green             2010\n",
       "4          PSP       294.05  0.018737  green             2006\n",
       "...        ...          ...       ...    ...              ...\n",
       "11840      PS2      1255.77  2.780554  green             2008\n",
       "11841      PS2      1255.77  2.780554  green             2008\n",
       "11842      PS2      1255.77  2.780554  green             2008\n",
       "11843      PS2      1255.77  2.780554  green             2008\n",
       "11844      PS2      1255.77  2.780554  green             2008\n",
       "\n",
       "[11845 rows x 5 columns]"
      ]
     },
     "execution_count": 32,
     "metadata": {},
     "output_type": "execute_result"
    }
   ],
   "source": [
    "df= pd.merge(left=select_platform, right=year_of_release, how='inner', on='platform')\n",
    "df"
   ]
  },
  {
   "cell_type": "code",
   "execution_count": 33,
   "metadata": {},
   "outputs": [],
   "source": [
    "platform_year= df.pivot_table(index='year_of_release',columns='platform', values='total_sales', aggfunc='sum')"
   ]
  },
  {
   "cell_type": "code",
   "execution_count": 34,
   "metadata": {},
   "outputs": [
    {
     "data": {
      "image/png": "[encoded data removed]",
      "text/plain": [
       "<Figure size 720x576 with 1 Axes>"
      ]
     },
     "metadata": {},
     "output_type": "display_data"
    }
   ],
   "source": [
    "sns.set(rc = {'figure.figsize':(10,8)})\n",
    "sns.lineplot(data= platform_year)\n",
    "plt.show()\n",
    "#line chart indicates the life of a platform by total sales and over years"
   ]
  },
  {
   "cell_type": "markdown",
   "metadata": {},
   "source": [
    "We can see that it takes for new platforms to appear and become popular for about 4 years and to fade away for about 4 aswell. "
   ]
  },
  {
   "cell_type": "markdown",
   "metadata": {},
   "source": [
    "\n",
    "\n",
    "I decided to filter the data and contiune my analyze from the year 2013 because before that many platforms faded away and won't be relevant for 2017."
   ]
  },
  {
   "cell_type": "code",
   "execution_count": 35,
   "metadata": {},
   "outputs": [
    {
     "data": {
      "text/html": [
       "<div>\n",
       "<style scoped>\n",
       "    .dataframe tbody tr th:only-of-type {\n",
       "        vertical-align: middle;\n",
       "    }\n",
       "\n",
       "    .dataframe tbody tr th {\n",
       "        vertical-align: top;\n",
       "    }\n",
       "\n",
       "    .dataframe thead th {\n",
       "        text-align: right;\n",
       "    }\n",
       "</style>\n",
       "<table border=\"1\" class=\"dataframe\">\n",
       "  <thead>\n",
       "    <tr style=\"text-align: right;\">\n",
       "      <th></th>\n",
       "      <th>name</th>\n",
       "      <th>platform</th>\n",
       "      <th>year_of_release</th>\n",
       "      <th>genre</th>\n",
       "      <th>na_sales</th>\n",
       "      <th>eu_sales</th>\n",
       "      <th>jp_sales</th>\n",
       "      <th>other_sales</th>\n",
       "      <th>critic_score</th>\n",
       "      <th>user_score</th>\n",
       "      <th>rating</th>\n",
       "      <th>total_sales</th>\n",
       "    </tr>\n",
       "  </thead>\n",
       "  <tbody>\n",
       "    <tr>\n",
       "      <td>16</td>\n",
       "      <td>Grand Theft Auto V</td>\n",
       "      <td>PS3</td>\n",
       "      <td>2013</td>\n",
       "      <td>Action</td>\n",
       "      <td>7.02</td>\n",
       "      <td>9.09</td>\n",
       "      <td>0.98</td>\n",
       "      <td>3.96</td>\n",
       "      <td>97.0</td>\n",
       "      <td>8.2</td>\n",
       "      <td>M</td>\n",
       "      <td>21.05</td>\n",
       "    </tr>\n",
       "    <tr>\n",
       "      <td>23</td>\n",
       "      <td>Grand Theft Auto V</td>\n",
       "      <td>X360</td>\n",
       "      <td>2013</td>\n",
       "      <td>Action</td>\n",
       "      <td>9.66</td>\n",
       "      <td>5.14</td>\n",
       "      <td>0.06</td>\n",
       "      <td>1.41</td>\n",
       "      <td>97.0</td>\n",
       "      <td>8.1</td>\n",
       "      <td>M</td>\n",
       "      <td>16.27</td>\n",
       "    </tr>\n",
       "    <tr>\n",
       "      <td>31</td>\n",
       "      <td>Call of Duty: Black Ops 3</td>\n",
       "      <td>PS4</td>\n",
       "      <td>2015</td>\n",
       "      <td>Shooter</td>\n",
       "      <td>6.03</td>\n",
       "      <td>5.86</td>\n",
       "      <td>0.36</td>\n",
       "      <td>2.38</td>\n",
       "      <td>NaN</td>\n",
       "      <td>NaN</td>\n",
       "      <td>unknown</td>\n",
       "      <td>14.63</td>\n",
       "    </tr>\n",
       "    <tr>\n",
       "      <td>33</td>\n",
       "      <td>Pokemon X/Pokemon Y</td>\n",
       "      <td>3DS</td>\n",
       "      <td>2013</td>\n",
       "      <td>Role-Playing</td>\n",
       "      <td>5.28</td>\n",
       "      <td>4.19</td>\n",
       "      <td>4.35</td>\n",
       "      <td>0.78</td>\n",
       "      <td>NaN</td>\n",
       "      <td>NaN</td>\n",
       "      <td>unknown</td>\n",
       "      <td>14.60</td>\n",
       "    </tr>\n",
       "    <tr>\n",
       "      <td>42</td>\n",
       "      <td>Grand Theft Auto V</td>\n",
       "      <td>PS4</td>\n",
       "      <td>2014</td>\n",
       "      <td>Action</td>\n",
       "      <td>3.96</td>\n",
       "      <td>6.31</td>\n",
       "      <td>0.38</td>\n",
       "      <td>1.97</td>\n",
       "      <td>97.0</td>\n",
       "      <td>8.3</td>\n",
       "      <td>M</td>\n",
       "      <td>12.62</td>\n",
       "    </tr>\n",
       "    <tr>\n",
       "      <td>...</td>\n",
       "      <td>...</td>\n",
       "      <td>...</td>\n",
       "      <td>...</td>\n",
       "      <td>...</td>\n",
       "      <td>...</td>\n",
       "      <td>...</td>\n",
       "      <td>...</td>\n",
       "      <td>...</td>\n",
       "      <td>...</td>\n",
       "      <td>...</td>\n",
       "      <td>...</td>\n",
       "      <td>...</td>\n",
       "    </tr>\n",
       "    <tr>\n",
       "      <td>16703</td>\n",
       "      <td>Strawberry Nauts</td>\n",
       "      <td>PSV</td>\n",
       "      <td>2016</td>\n",
       "      <td>Adventure</td>\n",
       "      <td>0.00</td>\n",
       "      <td>0.00</td>\n",
       "      <td>0.01</td>\n",
       "      <td>0.00</td>\n",
       "      <td>NaN</td>\n",
       "      <td>NaN</td>\n",
       "      <td>unknown</td>\n",
       "      <td>0.01</td>\n",
       "    </tr>\n",
       "    <tr>\n",
       "      <td>16707</td>\n",
       "      <td>Aiyoku no Eustia</td>\n",
       "      <td>PSV</td>\n",
       "      <td>2014</td>\n",
       "      <td>Misc</td>\n",
       "      <td>0.00</td>\n",
       "      <td>0.00</td>\n",
       "      <td>0.01</td>\n",
       "      <td>0.00</td>\n",
       "      <td>NaN</td>\n",
       "      <td>NaN</td>\n",
       "      <td>unknown</td>\n",
       "      <td>0.01</td>\n",
       "    </tr>\n",
       "    <tr>\n",
       "      <td>16710</td>\n",
       "      <td>Samurai Warriors: Sanada Maru</td>\n",
       "      <td>PS3</td>\n",
       "      <td>2016</td>\n",
       "      <td>Action</td>\n",
       "      <td>0.00</td>\n",
       "      <td>0.00</td>\n",
       "      <td>0.01</td>\n",
       "      <td>0.00</td>\n",
       "      <td>NaN</td>\n",
       "      <td>NaN</td>\n",
       "      <td>unknown</td>\n",
       "      <td>0.01</td>\n",
       "    </tr>\n",
       "    <tr>\n",
       "      <td>16712</td>\n",
       "      <td>Haitaka no Psychedelica</td>\n",
       "      <td>PSV</td>\n",
       "      <td>2016</td>\n",
       "      <td>Adventure</td>\n",
       "      <td>0.00</td>\n",
       "      <td>0.00</td>\n",
       "      <td>0.01</td>\n",
       "      <td>0.00</td>\n",
       "      <td>NaN</td>\n",
       "      <td>NaN</td>\n",
       "      <td>unknown</td>\n",
       "      <td>0.01</td>\n",
       "    </tr>\n",
       "    <tr>\n",
       "      <td>16714</td>\n",
       "      <td>Winning Post 8 2016</td>\n",
       "      <td>PSV</td>\n",
       "      <td>2016</td>\n",
       "      <td>Simulation</td>\n",
       "      <td>0.00</td>\n",
       "      <td>0.00</td>\n",
       "      <td>0.01</td>\n",
       "      <td>0.00</td>\n",
       "      <td>NaN</td>\n",
       "      <td>NaN</td>\n",
       "      <td>unknown</td>\n",
       "      <td>0.01</td>\n",
       "    </tr>\n",
       "  </tbody>\n",
       "</table>\n",
       "<p>2242 rows × 12 columns</p>\n",
       "</div>"
      ],
      "text/plain": [
       "                                name platform  year_of_release         genre  \\\n",
       "16                Grand Theft Auto V      PS3             2013        Action   \n",
       "23                Grand Theft Auto V     X360             2013        Action   \n",
       "31         Call of Duty: Black Ops 3      PS4             2015       Shooter   \n",
       "33               Pokemon X/Pokemon Y      3DS             2013  Role-Playing   \n",
       "42                Grand Theft Auto V      PS4             2014        Action   \n",
       "...                              ...      ...              ...           ...   \n",
       "16703               Strawberry Nauts      PSV             2016     Adventure   \n",
       "16707               Aiyoku no Eustia      PSV             2014          Misc   \n",
       "16710  Samurai Warriors: Sanada Maru      PS3             2016        Action   \n",
       "16712        Haitaka no Psychedelica      PSV             2016     Adventure   \n",
       "16714            Winning Post 8 2016      PSV             2016    Simulation   \n",
       "\n",
       "       na_sales  eu_sales  jp_sales  other_sales  critic_score  user_score  \\\n",
       "16         7.02      9.09      0.98         3.96          97.0         8.2   \n",
       "23         9.66      5.14      0.06         1.41          97.0         8.1   \n",
       "31         6.03      5.86      0.36         2.38           NaN         NaN   \n",
       "33         5.28      4.19      4.35         0.78           NaN         NaN   \n",
       "42         3.96      6.31      0.38         1.97          97.0         8.3   \n",
       "...         ...       ...       ...          ...           ...         ...   \n",
       "16703      0.00      0.00      0.01         0.00           NaN         NaN   \n",
       "16707      0.00      0.00      0.01         0.00           NaN         NaN   \n",
       "16710      0.00      0.00      0.01         0.00           NaN         NaN   \n",
       "16712      0.00      0.00      0.01         0.00           NaN         NaN   \n",
       "16714      0.00      0.00      0.01         0.00           NaN         NaN   \n",
       "\n",
       "        rating  total_sales  \n",
       "16           M        21.05  \n",
       "23           M        16.27  \n",
       "31     unknown        14.63  \n",
       "33     unknown        14.60  \n",
       "42           M        12.62  \n",
       "...        ...          ...  \n",
       "16703  unknown         0.01  \n",
       "16707  unknown         0.01  \n",
       "16710  unknown         0.01  \n",
       "16712  unknown         0.01  \n",
       "16714  unknown         0.01  \n",
       "\n",
       "[2242 rows x 12 columns]"
      ]
     },
     "execution_count": 35,
     "metadata": {},
     "output_type": "execute_result"
    }
   ],
   "source": [
    "new_data= data.loc[data['year_of_release']>= 2013]\n",
    "new_data\n"
   ]
  },
  {
   "cell_type": "markdown",
   "metadata": {},
   "source": [
    "<div class=\"alert alert-block alert-success\">\n",
    "    <h2>Reviewer's commentary<a class=\"tocSkip\"> </h2>\n",
    "    <br/>\n",
    "<b>Well done!👍:</b>\n",
    "        \n",
    "Ok, Idan,I absolutely agree with your logic of thoughts. The year that can be considered as boundary of the current period, can be determined by building histograms for each platform (you did it) The histograms (or barplots) will show that games lose relevance within 3-4, maximum 5 years, at the same time the lifespan of the platform is on average about 10 years. The final year of the dataset is 2016, so we subtract 3-4 years from 2017 (as the year for which we buid the prediction) and get a year, which can be considered the boundary of the current period.\n",
    "        \n",
    "So, finally, 2013 year is correct choice.\n",
    "        \n"
   ]
  },
  {
   "cell_type": "code",
   "execution_count": 36,
   "metadata": {},
   "outputs": [
    {
     "data": {
      "text/html": [
       "<div>\n",
       "<style scoped>\n",
       "    .dataframe tbody tr th:only-of-type {\n",
       "        vertical-align: middle;\n",
       "    }\n",
       "\n",
       "    .dataframe tbody tr th {\n",
       "        vertical-align: top;\n",
       "    }\n",
       "\n",
       "    .dataframe thead th {\n",
       "        text-align: right;\n",
       "    }\n",
       "</style>\n",
       "<table border=\"1\" class=\"dataframe\">\n",
       "  <thead>\n",
       "    <tr style=\"text-align: right;\">\n",
       "      <th></th>\n",
       "      <th>platform</th>\n",
       "      <th>total_sales</th>\n",
       "    </tr>\n",
       "  </thead>\n",
       "  <tbody>\n",
       "    <tr>\n",
       "      <td>1</td>\n",
       "      <td>DS</td>\n",
       "      <td>1.54</td>\n",
       "    </tr>\n",
       "    <tr>\n",
       "      <td>5</td>\n",
       "      <td>PSP</td>\n",
       "      <td>3.50</td>\n",
       "    </tr>\n",
       "    <tr>\n",
       "      <td>7</td>\n",
       "      <td>Wii</td>\n",
       "      <td>13.66</td>\n",
       "    </tr>\n",
       "    <tr>\n",
       "      <td>6</td>\n",
       "      <td>PSV</td>\n",
       "      <td>33.25</td>\n",
       "    </tr>\n",
       "    <tr>\n",
       "      <td>2</td>\n",
       "      <td>PC</td>\n",
       "      <td>39.43</td>\n",
       "    </tr>\n",
       "    <tr>\n",
       "      <td>8</td>\n",
       "      <td>WiiU</td>\n",
       "      <td>64.63</td>\n",
       "    </tr>\n",
       "    <tr>\n",
       "      <td>9</td>\n",
       "      <td>X360</td>\n",
       "      <td>136.80</td>\n",
       "    </tr>\n",
       "    <tr>\n",
       "      <td>0</td>\n",
       "      <td>3DS</td>\n",
       "      <td>144.44</td>\n",
       "    </tr>\n",
       "    <tr>\n",
       "      <td>10</td>\n",
       "      <td>XOne</td>\n",
       "      <td>159.32</td>\n",
       "    </tr>\n",
       "    <tr>\n",
       "      <td>3</td>\n",
       "      <td>PS3</td>\n",
       "      <td>181.43</td>\n",
       "    </tr>\n",
       "    <tr>\n",
       "      <td>4</td>\n",
       "      <td>PS4</td>\n",
       "      <td>314.14</td>\n",
       "    </tr>\n",
       "  </tbody>\n",
       "</table>\n",
       "</div>"
      ],
      "text/plain": [
       "   platform  total_sales\n",
       "1        DS         1.54\n",
       "5       PSP         3.50\n",
       "7       Wii        13.66\n",
       "6       PSV        33.25\n",
       "2        PC        39.43\n",
       "8      WiiU        64.63\n",
       "9      X360       136.80\n",
       "0       3DS       144.44\n",
       "10     XOne       159.32\n",
       "3       PS3       181.43\n",
       "4       PS4       314.14"
      ]
     },
     "execution_count": 36,
     "metadata": {},
     "output_type": "execute_result"
    }
   ],
   "source": [
    "grp= new_data.groupby(['platform'])['total_sales'].sum().reset_index().sort_values(by='total_sales')\n",
    "grp\n",
    "#We can see the platforms leading on sales"
   ]
  },
  {
   "cell_type": "code",
   "execution_count": 37,
   "metadata": {
    "scrolled": true
   },
   "outputs": [
    {
     "data": {
      "text/html": [
       "<div>\n",
       "<style scoped>\n",
       "    .dataframe tbody tr th:only-of-type {\n",
       "        vertical-align: middle;\n",
       "    }\n",
       "\n",
       "    .dataframe tbody tr th {\n",
       "        vertical-align: top;\n",
       "    }\n",
       "\n",
       "    .dataframe thead th {\n",
       "        text-align: right;\n",
       "    }\n",
       "</style>\n",
       "<table border=\"1\" class=\"dataframe\">\n",
       "  <thead>\n",
       "    <tr style=\"text-align: right;\">\n",
       "      <th>platform</th>\n",
       "      <th>3DS</th>\n",
       "      <th>DS</th>\n",
       "      <th>PC</th>\n",
       "      <th>PS3</th>\n",
       "      <th>PS4</th>\n",
       "      <th>PSP</th>\n",
       "      <th>PSV</th>\n",
       "      <th>Wii</th>\n",
       "      <th>WiiU</th>\n",
       "      <th>X360</th>\n",
       "      <th>XOne</th>\n",
       "    </tr>\n",
       "    <tr>\n",
       "      <th>year_of_release</th>\n",
       "      <th></th>\n",
       "      <th></th>\n",
       "      <th></th>\n",
       "      <th></th>\n",
       "      <th></th>\n",
       "      <th></th>\n",
       "      <th></th>\n",
       "      <th></th>\n",
       "      <th></th>\n",
       "      <th></th>\n",
       "      <th></th>\n",
       "    </tr>\n",
       "  </thead>\n",
       "  <tbody>\n",
       "    <tr>\n",
       "      <td>2013</td>\n",
       "      <td>57.76</td>\n",
       "      <td>1.54</td>\n",
       "      <td>12.38</td>\n",
       "      <td>113.25</td>\n",
       "      <td>25.99</td>\n",
       "      <td>3.14</td>\n",
       "      <td>10.59</td>\n",
       "      <td>8.59</td>\n",
       "      <td>21.65</td>\n",
       "      <td>88.58</td>\n",
       "      <td>18.96</td>\n",
       "    </tr>\n",
       "    <tr>\n",
       "      <td>2014</td>\n",
       "      <td>43.76</td>\n",
       "      <td>0.00</td>\n",
       "      <td>13.28</td>\n",
       "      <td>47.76</td>\n",
       "      <td>100.00</td>\n",
       "      <td>0.24</td>\n",
       "      <td>12.16</td>\n",
       "      <td>3.75</td>\n",
       "      <td>22.03</td>\n",
       "      <td>34.74</td>\n",
       "      <td>54.07</td>\n",
       "    </tr>\n",
       "    <tr>\n",
       "      <td>2015</td>\n",
       "      <td>27.78</td>\n",
       "      <td>0.00</td>\n",
       "      <td>8.52</td>\n",
       "      <td>16.82</td>\n",
       "      <td>118.90</td>\n",
       "      <td>0.12</td>\n",
       "      <td>6.25</td>\n",
       "      <td>1.14</td>\n",
       "      <td>16.35</td>\n",
       "      <td>11.96</td>\n",
       "      <td>60.14</td>\n",
       "    </tr>\n",
       "    <tr>\n",
       "      <td>2016</td>\n",
       "      <td>15.14</td>\n",
       "      <td>0.00</td>\n",
       "      <td>5.25</td>\n",
       "      <td>3.60</td>\n",
       "      <td>69.25</td>\n",
       "      <td>0.00</td>\n",
       "      <td>4.25</td>\n",
       "      <td>0.18</td>\n",
       "      <td>4.60</td>\n",
       "      <td>1.52</td>\n",
       "      <td>26.15</td>\n",
       "    </tr>\n",
       "  </tbody>\n",
       "</table>\n",
       "</div>"
      ],
      "text/plain": [
       "platform           3DS    DS     PC     PS3     PS4   PSP    PSV   Wii   WiiU  \\\n",
       "year_of_release                                                                 \n",
       "2013             57.76  1.54  12.38  113.25   25.99  3.14  10.59  8.59  21.65   \n",
       "2014             43.76  0.00  13.28   47.76  100.00  0.24  12.16  3.75  22.03   \n",
       "2015             27.78  0.00   8.52   16.82  118.90  0.12   6.25  1.14  16.35   \n",
       "2016             15.14  0.00   5.25    3.60   69.25  0.00   4.25  0.18   4.60   \n",
       "\n",
       "platform          X360   XOne  \n",
       "year_of_release                \n",
       "2013             88.58  18.96  \n",
       "2014             34.74  54.07  \n",
       "2015             11.96  60.14  \n",
       "2016              1.52  26.15  "
      ]
     },
     "execution_count": 37,
     "metadata": {},
     "output_type": "execute_result"
    }
   ],
   "source": [
    "yoy=new_data.pivot_table(index='year_of_release', columns='platform', values='total_sales', aggfunc='sum').fillna(0)\n",
    "yoy"
   ]
  },
  {
   "cell_type": "code",
   "execution_count": 38,
   "metadata": {},
   "outputs": [
    {
     "data": {
      "text/html": [
       "<div>\n",
       "<style scoped>\n",
       "    .dataframe tbody tr th:only-of-type {\n",
       "        vertical-align: middle;\n",
       "    }\n",
       "\n",
       "    .dataframe tbody tr th {\n",
       "        vertical-align: top;\n",
       "    }\n",
       "\n",
       "    .dataframe thead th {\n",
       "        text-align: right;\n",
       "    }\n",
       "</style>\n",
       "<table border=\"1\" class=\"dataframe\">\n",
       "  <thead>\n",
       "    <tr style=\"text-align: right;\">\n",
       "      <th>platform</th>\n",
       "      <th>3DS</th>\n",
       "      <th>DS</th>\n",
       "      <th>PC</th>\n",
       "      <th>PS3</th>\n",
       "      <th>PS4</th>\n",
       "      <th>PSP</th>\n",
       "      <th>PSV</th>\n",
       "      <th>Wii</th>\n",
       "      <th>WiiU</th>\n",
       "      <th>X360</th>\n",
       "      <th>XOne</th>\n",
       "    </tr>\n",
       "    <tr>\n",
       "      <th>year_of_release</th>\n",
       "      <th></th>\n",
       "      <th></th>\n",
       "      <th></th>\n",
       "      <th></th>\n",
       "      <th></th>\n",
       "      <th></th>\n",
       "      <th></th>\n",
       "      <th></th>\n",
       "      <th></th>\n",
       "      <th></th>\n",
       "      <th></th>\n",
       "    </tr>\n",
       "  </thead>\n",
       "  <tbody>\n",
       "    <tr>\n",
       "      <td>2013</td>\n",
       "      <td>0.00</td>\n",
       "      <td>0.00</td>\n",
       "      <td>0.00</td>\n",
       "      <td>0.00</td>\n",
       "      <td>0.00</td>\n",
       "      <td>0.00</td>\n",
       "      <td>0.00</td>\n",
       "      <td>0.00</td>\n",
       "      <td>0.00</td>\n",
       "      <td>0.00</td>\n",
       "      <td>0.00</td>\n",
       "    </tr>\n",
       "    <tr>\n",
       "      <td>2014</td>\n",
       "      <td>-14.00</td>\n",
       "      <td>-1.54</td>\n",
       "      <td>0.90</td>\n",
       "      <td>-65.49</td>\n",
       "      <td>74.01</td>\n",
       "      <td>-2.90</td>\n",
       "      <td>1.57</td>\n",
       "      <td>-4.84</td>\n",
       "      <td>0.38</td>\n",
       "      <td>-53.84</td>\n",
       "      <td>35.11</td>\n",
       "    </tr>\n",
       "    <tr>\n",
       "      <td>2015</td>\n",
       "      <td>-15.98</td>\n",
       "      <td>0.00</td>\n",
       "      <td>-4.76</td>\n",
       "      <td>-30.94</td>\n",
       "      <td>18.90</td>\n",
       "      <td>-0.12</td>\n",
       "      <td>-5.91</td>\n",
       "      <td>-2.61</td>\n",
       "      <td>-5.68</td>\n",
       "      <td>-22.78</td>\n",
       "      <td>6.07</td>\n",
       "    </tr>\n",
       "    <tr>\n",
       "      <td>2016</td>\n",
       "      <td>-12.64</td>\n",
       "      <td>0.00</td>\n",
       "      <td>-3.27</td>\n",
       "      <td>-13.22</td>\n",
       "      <td>-49.65</td>\n",
       "      <td>-0.12</td>\n",
       "      <td>-2.00</td>\n",
       "      <td>-0.96</td>\n",
       "      <td>-11.75</td>\n",
       "      <td>-10.44</td>\n",
       "      <td>-33.99</td>\n",
       "    </tr>\n",
       "  </tbody>\n",
       "</table>\n",
       "</div>"
      ],
      "text/plain": [
       "platform           3DS    DS    PC    PS3    PS4   PSP   PSV   Wii   WiiU  \\\n",
       "year_of_release                                                             \n",
       "2013              0.00  0.00  0.00   0.00   0.00  0.00  0.00  0.00   0.00   \n",
       "2014            -14.00 -1.54  0.90 -65.49  74.01 -2.90  1.57 -4.84   0.38   \n",
       "2015            -15.98  0.00 -4.76 -30.94  18.90 -0.12 -5.91 -2.61  -5.68   \n",
       "2016            -12.64  0.00 -3.27 -13.22 -49.65 -0.12 -2.00 -0.96 -11.75   \n",
       "\n",
       "platform          X360   XOne  \n",
       "year_of_release                \n",
       "2013              0.00   0.00  \n",
       "2014            -53.84  35.11  \n",
       "2015            -22.78   6.07  \n",
       "2016            -10.44 -33.99  "
      ]
     },
     "execution_count": 38,
     "metadata": {},
     "output_type": "execute_result"
    }
   ],
   "source": [
    "yoy_shift= (yoy- yoy.shift(+1)).fillna(0)\n",
    "yoy_shift\n",
    "# We can see that most of the platforms lost revenue year over year. "
   ]
  },
  {
   "cell_type": "code",
   "execution_count": 39,
   "metadata": {},
   "outputs": [
    {
     "data": {
      "image/png": "[encoded data removed]",
      "text/plain": [
       "<Figure size 936x648 with 1 Axes>"
      ]
     },
     "metadata": {},
     "output_type": "display_data"
    }
   ],
   "source": [
    "plt.figure(figsize=(13,9))\n",
    "sns.lineplot(data=yoy_shift)\n",
    "plt.show()"
   ]
  },
  {
   "cell_type": "markdown",
   "metadata": {},
   "source": [
    "1. the platforms with the horizontal line are ones with no profit\n",
    "2. the platforms with high peak (PS4, XOne) and then a drop are new platforms that entered the    market recently and probably stable over the year\n",
    "3. 3DS, X360, PS3 are platforms that their sales dropped because of new platforms appears but recovered over 2015"
   ]
  },
  {
   "cell_type": "markdown",
   "metadata": {},
   "source": [
    "<div class=\"alert alert-block alert-success\">\n",
    "    <h2>Reviewer's commentary<a class=\"tocSkip\"> </h2>\n",
    "    <br/>\n",
    "<b>Well done!👍:</b>\n",
    "        \n",
    "Agree that Sony Playstation 4, Xbox One and maybe Nintendo 3DS can be considered as potentially profitable platform for 2017 year, for which we try to build the prognosis."
   ]
  },
  {
   "cell_type": "code",
   "execution_count": 40,
   "metadata": {},
   "outputs": [
    {
     "data": {
      "text/plain": [
       "{2013: {'3DS': 57.760000000000005,\n",
       "  'DS': 1.54,\n",
       "  'PC': 12.379999999999997,\n",
       "  'PS3': 113.24999999999999,\n",
       "  'PS4': 25.990000000000002,\n",
       "  'PSP': 3.139999999999996,\n",
       "  'PSV': 10.589999999999995,\n",
       "  'Wii': 8.59,\n",
       "  'WiiU': 21.65,\n",
       "  'X360': 88.58000000000008,\n",
       "  'XOne': 18.959999999999994},\n",
       " 2014: {'3DS': 43.76000000000003,\n",
       "  'DS': 0.0,\n",
       "  'PC': 13.279999999999994,\n",
       "  'PS3': 47.76000000000002,\n",
       "  'PS4': 99.99999999999996,\n",
       "  'PSP': 0.24000000000000005,\n",
       "  'PSV': 12.15999999999999,\n",
       "  'Wii': 3.75,\n",
       "  'WiiU': 22.029999999999994,\n",
       "  'X360': 34.739999999999995,\n",
       "  'XOne': 54.06999999999999},\n",
       " 2015: {'3DS': 27.78,\n",
       "  'DS': 0.0,\n",
       "  'PC': 8.51999999999999,\n",
       "  'PS3': 16.820000000000007,\n",
       "  'PS4': 118.90000000000008,\n",
       "  'PSP': 0.12000000000000001,\n",
       "  'PSV': 6.249999999999988,\n",
       "  'Wii': 1.14,\n",
       "  'WiiU': 16.35000000000001,\n",
       "  'X360': 11.959999999999997,\n",
       "  'XOne': 60.14000000000002},\n",
       " 2016: {'3DS': 15.13999999999999,\n",
       "  'DS': 0.0,\n",
       "  'PC': 5.249999999999997,\n",
       "  'PS3': 3.5999999999999988,\n",
       "  'PS4': 69.25000000000001,\n",
       "  'PSP': 0.0,\n",
       "  'PSV': 4.249999999999992,\n",
       "  'Wii': 0.18,\n",
       "  'WiiU': 4.6000000000000005,\n",
       "  'X360': 1.5200000000000002,\n",
       "  'XOne': 26.15000000000002}}"
      ]
     },
     "execution_count": 40,
     "metadata": {},
     "output_type": "execute_result"
    }
   ],
   "source": [
    "dict= yoy.to_dict('index')\n",
    "dict"
   ]
  },
  {
   "cell_type": "code",
   "execution_count": 41,
   "metadata": {},
   "outputs": [],
   "source": [
    "filter_dict= dict[2016]"
   ]
  },
  {
   "cell_type": "code",
   "execution_count": 42,
   "metadata": {},
   "outputs": [],
   "source": [
    "n={}\n",
    "for k,v in filter_dict.items():\n",
    "    if v > 15:\n",
    "        n[k]=(v)"
   ]
  },
  {
   "cell_type": "code",
   "execution_count": 43,
   "metadata": {},
   "outputs": [],
   "source": [
    "n\n",
    "n_list= n.keys()"
   ]
  },
  {
   "cell_type": "code",
   "execution_count": 44,
   "metadata": {},
   "outputs": [
    {
     "data": {
      "text/html": [
       "<div>\n",
       "<style scoped>\n",
       "    .dataframe tbody tr th:only-of-type {\n",
       "        vertical-align: middle;\n",
       "    }\n",
       "\n",
       "    .dataframe tbody tr th {\n",
       "        vertical-align: top;\n",
       "    }\n",
       "\n",
       "    .dataframe thead th {\n",
       "        text-align: right;\n",
       "    }\n",
       "</style>\n",
       "<table border=\"1\" class=\"dataframe\">\n",
       "  <thead>\n",
       "    <tr style=\"text-align: right;\">\n",
       "      <th></th>\n",
       "      <th>platform</th>\n",
       "    </tr>\n",
       "  </thead>\n",
       "  <tbody>\n",
       "    <tr>\n",
       "      <td>0</td>\n",
       "      <td>3DS</td>\n",
       "    </tr>\n",
       "    <tr>\n",
       "      <td>1</td>\n",
       "      <td>PS4</td>\n",
       "    </tr>\n",
       "    <tr>\n",
       "      <td>2</td>\n",
       "      <td>XOne</td>\n",
       "    </tr>\n",
       "  </tbody>\n",
       "</table>\n",
       "</div>"
      ],
      "text/plain": [
       "  platform\n",
       "0      3DS\n",
       "1      PS4\n",
       "2     XOne"
      ]
     },
     "execution_count": 44,
     "metadata": {},
     "output_type": "execute_result"
    }
   ],
   "source": [
    "select= pd.DataFrame(n_list, columns=['platform'])\n",
    "select"
   ]
  },
  {
   "cell_type": "code",
   "execution_count": 45,
   "metadata": {},
   "outputs": [
    {
     "data": {
      "text/html": [
       "<div>\n",
       "<style scoped>\n",
       "    .dataframe tbody tr th:only-of-type {\n",
       "        vertical-align: middle;\n",
       "    }\n",
       "\n",
       "    .dataframe tbody tr th {\n",
       "        vertical-align: top;\n",
       "    }\n",
       "\n",
       "    .dataframe thead th {\n",
       "        text-align: right;\n",
       "    }\n",
       "</style>\n",
       "<table border=\"1\" class=\"dataframe\">\n",
       "  <thead>\n",
       "    <tr style=\"text-align: right;\">\n",
       "      <th></th>\n",
       "      <th>name</th>\n",
       "      <th>platform</th>\n",
       "      <th>year_of_release</th>\n",
       "      <th>genre</th>\n",
       "      <th>na_sales</th>\n",
       "      <th>eu_sales</th>\n",
       "      <th>jp_sales</th>\n",
       "      <th>other_sales</th>\n",
       "      <th>critic_score</th>\n",
       "      <th>user_score</th>\n",
       "      <th>rating</th>\n",
       "      <th>total_sales</th>\n",
       "    </tr>\n",
       "  </thead>\n",
       "  <tbody>\n",
       "    <tr>\n",
       "      <td>0</td>\n",
       "      <td>Call of Duty: Black Ops 3</td>\n",
       "      <td>PS4</td>\n",
       "      <td>2015</td>\n",
       "      <td>Shooter</td>\n",
       "      <td>6.03</td>\n",
       "      <td>5.86</td>\n",
       "      <td>0.36</td>\n",
       "      <td>2.38</td>\n",
       "      <td>NaN</td>\n",
       "      <td>NaN</td>\n",
       "      <td>unknown</td>\n",
       "      <td>14.63</td>\n",
       "    </tr>\n",
       "    <tr>\n",
       "      <td>1</td>\n",
       "      <td>Grand Theft Auto V</td>\n",
       "      <td>PS4</td>\n",
       "      <td>2014</td>\n",
       "      <td>Action</td>\n",
       "      <td>3.96</td>\n",
       "      <td>6.31</td>\n",
       "      <td>0.38</td>\n",
       "      <td>1.97</td>\n",
       "      <td>97.0</td>\n",
       "      <td>8.3</td>\n",
       "      <td>M</td>\n",
       "      <td>12.62</td>\n",
       "    </tr>\n",
       "    <tr>\n",
       "      <td>2</td>\n",
       "      <td>FIFA 16</td>\n",
       "      <td>PS4</td>\n",
       "      <td>2015</td>\n",
       "      <td>Sports</td>\n",
       "      <td>1.12</td>\n",
       "      <td>6.12</td>\n",
       "      <td>0.06</td>\n",
       "      <td>1.28</td>\n",
       "      <td>82.0</td>\n",
       "      <td>4.3</td>\n",
       "      <td>E</td>\n",
       "      <td>8.58</td>\n",
       "    </tr>\n",
       "    <tr>\n",
       "      <td>3</td>\n",
       "      <td>Star Wars Battlefront (2015)</td>\n",
       "      <td>PS4</td>\n",
       "      <td>2015</td>\n",
       "      <td>Shooter</td>\n",
       "      <td>2.99</td>\n",
       "      <td>3.49</td>\n",
       "      <td>0.22</td>\n",
       "      <td>1.28</td>\n",
       "      <td>NaN</td>\n",
       "      <td>NaN</td>\n",
       "      <td>unknown</td>\n",
       "      <td>7.98</td>\n",
       "    </tr>\n",
       "    <tr>\n",
       "      <td>4</td>\n",
       "      <td>Call of Duty: Advanced Warfare</td>\n",
       "      <td>PS4</td>\n",
       "      <td>2014</td>\n",
       "      <td>Shooter</td>\n",
       "      <td>2.81</td>\n",
       "      <td>3.48</td>\n",
       "      <td>0.14</td>\n",
       "      <td>1.23</td>\n",
       "      <td>83.0</td>\n",
       "      <td>5.7</td>\n",
       "      <td>M</td>\n",
       "      <td>7.66</td>\n",
       "    </tr>\n",
       "    <tr>\n",
       "      <td>...</td>\n",
       "      <td>...</td>\n",
       "      <td>...</td>\n",
       "      <td>...</td>\n",
       "      <td>...</td>\n",
       "      <td>...</td>\n",
       "      <td>...</td>\n",
       "      <td>...</td>\n",
       "      <td>...</td>\n",
       "      <td>...</td>\n",
       "      <td>...</td>\n",
       "      <td>...</td>\n",
       "      <td>...</td>\n",
       "    </tr>\n",
       "    <tr>\n",
       "      <td>945</td>\n",
       "      <td>Sébastien Loeb Rally Evo</td>\n",
       "      <td>XOne</td>\n",
       "      <td>2016</td>\n",
       "      <td>Racing</td>\n",
       "      <td>0.00</td>\n",
       "      <td>0.01</td>\n",
       "      <td>0.00</td>\n",
       "      <td>0.00</td>\n",
       "      <td>63.0</td>\n",
       "      <td>8.2</td>\n",
       "      <td>E</td>\n",
       "      <td>0.01</td>\n",
       "    </tr>\n",
       "    <tr>\n",
       "      <td>946</td>\n",
       "      <td>Rugby Challenge 3</td>\n",
       "      <td>XOne</td>\n",
       "      <td>2016</td>\n",
       "      <td>Sports</td>\n",
       "      <td>0.00</td>\n",
       "      <td>0.01</td>\n",
       "      <td>0.00</td>\n",
       "      <td>0.00</td>\n",
       "      <td>NaN</td>\n",
       "      <td>6.6</td>\n",
       "      <td>E</td>\n",
       "      <td>0.01</td>\n",
       "    </tr>\n",
       "    <tr>\n",
       "      <td>947</td>\n",
       "      <td>ZombiU</td>\n",
       "      <td>XOne</td>\n",
       "      <td>2016</td>\n",
       "      <td>Action</td>\n",
       "      <td>0.00</td>\n",
       "      <td>0.01</td>\n",
       "      <td>0.00</td>\n",
       "      <td>0.00</td>\n",
       "      <td>NaN</td>\n",
       "      <td>NaN</td>\n",
       "      <td>unknown</td>\n",
       "      <td>0.01</td>\n",
       "    </tr>\n",
       "    <tr>\n",
       "      <td>948</td>\n",
       "      <td>Prison Architect</td>\n",
       "      <td>XOne</td>\n",
       "      <td>2016</td>\n",
       "      <td>Action</td>\n",
       "      <td>0.01</td>\n",
       "      <td>0.00</td>\n",
       "      <td>0.00</td>\n",
       "      <td>0.00</td>\n",
       "      <td>74.0</td>\n",
       "      <td>6.7</td>\n",
       "      <td>unknown</td>\n",
       "      <td>0.01</td>\n",
       "    </tr>\n",
       "    <tr>\n",
       "      <td>949</td>\n",
       "      <td>Metal Gear Solid V: The Definitive Experience</td>\n",
       "      <td>XOne</td>\n",
       "      <td>2016</td>\n",
       "      <td>Action</td>\n",
       "      <td>0.01</td>\n",
       "      <td>0.00</td>\n",
       "      <td>0.00</td>\n",
       "      <td>0.00</td>\n",
       "      <td>NaN</td>\n",
       "      <td>NaN</td>\n",
       "      <td>M</td>\n",
       "      <td>0.01</td>\n",
       "    </tr>\n",
       "  </tbody>\n",
       "</table>\n",
       "<p>950 rows × 12 columns</p>\n",
       "</div>"
      ],
      "text/plain": [
       "                                              name platform  year_of_release  \\\n",
       "0                        Call of Duty: Black Ops 3      PS4             2015   \n",
       "1                               Grand Theft Auto V      PS4             2014   \n",
       "2                                          FIFA 16      PS4             2015   \n",
       "3                     Star Wars Battlefront (2015)      PS4             2015   \n",
       "4                   Call of Duty: Advanced Warfare      PS4             2014   \n",
       "..                                             ...      ...              ...   \n",
       "945                       Sébastien Loeb Rally Evo     XOne             2016   \n",
       "946                              Rugby Challenge 3     XOne             2016   \n",
       "947                                         ZombiU     XOne             2016   \n",
       "948                               Prison Architect     XOne             2016   \n",
       "949  Metal Gear Solid V: The Definitive Experience     XOne             2016   \n",
       "\n",
       "       genre  na_sales  eu_sales  jp_sales  other_sales  critic_score  \\\n",
       "0    Shooter      6.03      5.86      0.36         2.38           NaN   \n",
       "1     Action      3.96      6.31      0.38         1.97          97.0   \n",
       "2     Sports      1.12      6.12      0.06         1.28          82.0   \n",
       "3    Shooter      2.99      3.49      0.22         1.28           NaN   \n",
       "4    Shooter      2.81      3.48      0.14         1.23          83.0   \n",
       "..       ...       ...       ...       ...          ...           ...   \n",
       "945   Racing      0.00      0.01      0.00         0.00          63.0   \n",
       "946   Sports      0.00      0.01      0.00         0.00           NaN   \n",
       "947   Action      0.00      0.01      0.00         0.00           NaN   \n",
       "948   Action      0.01      0.00      0.00         0.00          74.0   \n",
       "949   Action      0.01      0.00      0.00         0.00           NaN   \n",
       "\n",
       "     user_score   rating  total_sales  \n",
       "0           NaN  unknown        14.63  \n",
       "1           8.3        M        12.62  \n",
       "2           4.3        E         8.58  \n",
       "3           NaN  unknown         7.98  \n",
       "4           5.7        M         7.66  \n",
       "..          ...      ...          ...  \n",
       "945         8.2        E         0.01  \n",
       "946         6.6        E         0.01  \n",
       "947         NaN  unknown         0.01  \n",
       "948         6.7  unknown         0.01  \n",
       "949         NaN        M         0.01  \n",
       "\n",
       "[950 rows x 12 columns]"
      ]
     },
     "execution_count": 45,
     "metadata": {},
     "output_type": "execute_result"
    }
   ],
   "source": [
    "final_data= pd.merge(left=new_data, right=select, how='inner', on='platform')\n",
    "final_data"
   ]
  },
  {
   "cell_type": "markdown",
   "metadata": {},
   "source": [
    "<div class=\"alert alert-block alert-danger\">\n",
    "    <h2>Reviewer's commentary <a class=\"tocSkip\"> </h2>\n",
    "    <br/>\n",
    "<b>Needs fixing!🤔:</b> \n",
    "        \n",
    "Idan, the logic is that you identify the lower border of the current period (you tried to choose the 2013- it is correct, in your case it is even the 2012 because you used strict inequality, but I would like to recommend you to use non-strict inequality sign, and as for your attempt to form the final data dataframe: the more correct logic is to choose the lower border of the current period that allows to not include the outdated platforms (while you chose the PS3, X360 - these platform can be considered as outdated so it is better not to include them in the analysis) if the lower border of the current period is specified correctly there is no need to filter the data by hand especially since self-selection can lead to distortion of the final results of the analysis in some way.\n",
    "</div>"
   ]
  },
  {
   "cell_type": "markdown",
   "metadata": {},
   "source": [
    "<font color='Purple'>Student's commentary: Hi Arina, nice to meet you again. To be honest I struggled with your comment a lot, trying to understand how to form the data not as I did. I understood your logics behind it but how to write the code I didn't really know how. I came up with this solution after I saw Q&A session on dictionaries and I thought it will be a good practice to me. looking foward to read what you meant and hopefully start my vacation week :)"
   ]
  },
  {
   "cell_type": "markdown",
   "metadata": {},
   "source": [
    "<div class=\"alert alert-block alert-success\">\n",
    "    <h2>Reviewer's commentary:second iteration of the review <a class=\"tocSkip\"> </h2>\n",
    "    <br/>\n",
    "<b>Well done!👍:</b> \n",
    "        \n",
    "Idan, first of all, thank you so much for the feddback, the second thing - it is absolutely great that you tried to cover new materials and topics, I agree that understanding of the dictionaries is a must have:)\n",
    "        \n",
    "As for my recommendation, let me clarify. The logic is simple: in the code below you created the slice of the data with actual period, and yes, here you change it to non-strict, it is ok. And that's it: at the next steps of the analysis you can use this data in `new_data` everywhere, so there is no need to filter it additionally in somehow or smth like this, I hope now it is more clear for you😉\n",
    "\n",
    "\n",
    "`new_data= data.loc[data['year_of_release']>= 2013]`"
   ]
  },
  {
   "cell_type": "markdown",
   "metadata": {},
   "source": [
    "Build a box plot for the global sales of all games, broken down by platform. Are the differences in sales significant? What about average sales on various platforms? Describe your findings."
   ]
  },
  {
   "cell_type": "code",
   "execution_count": 46,
   "metadata": {},
   "outputs": [
    {
     "data": {
      "text/html": [
       "<div>\n",
       "<style scoped>\n",
       "    .dataframe tbody tr th:only-of-type {\n",
       "        vertical-align: middle;\n",
       "    }\n",
       "\n",
       "    .dataframe tbody tr th {\n",
       "        vertical-align: top;\n",
       "    }\n",
       "\n",
       "    .dataframe thead th {\n",
       "        text-align: right;\n",
       "    }\n",
       "</style>\n",
       "<table border=\"1\" class=\"dataframe\">\n",
       "  <thead>\n",
       "    <tr style=\"text-align: right;\">\n",
       "      <th></th>\n",
       "      <th>name</th>\n",
       "      <th>platform</th>\n",
       "      <th>total_sales</th>\n",
       "    </tr>\n",
       "  </thead>\n",
       "  <tbody>\n",
       "    <tr>\n",
       "      <td>0</td>\n",
       "      <td>Beyblade Burst</td>\n",
       "      <td>3DS</td>\n",
       "      <td>0.03</td>\n",
       "    </tr>\n",
       "    <tr>\n",
       "      <td>1</td>\n",
       "      <td>Fire Emblem Fates</td>\n",
       "      <td>3DS</td>\n",
       "      <td>1.67</td>\n",
       "    </tr>\n",
       "    <tr>\n",
       "      <td>2</td>\n",
       "      <td>Frozen: Olaf's Quest</td>\n",
       "      <td>3DS</td>\n",
       "      <td>0.59</td>\n",
       "    </tr>\n",
       "    <tr>\n",
       "      <td>3</td>\n",
       "      <td>Haikyu!! Cross Team Match!</td>\n",
       "      <td>3DS</td>\n",
       "      <td>0.04</td>\n",
       "    </tr>\n",
       "    <tr>\n",
       "      <td>4</td>\n",
       "      <td>12-Sai. Honto no Kimochi</td>\n",
       "      <td>3DS</td>\n",
       "      <td>0.07</td>\n",
       "    </tr>\n",
       "    <tr>\n",
       "      <td>...</td>\n",
       "      <td>...</td>\n",
       "      <td>...</td>\n",
       "      <td>...</td>\n",
       "    </tr>\n",
       "    <tr>\n",
       "      <td>945</td>\n",
       "      <td>Zombie Army Trilogy</td>\n",
       "      <td>XOne</td>\n",
       "      <td>0.11</td>\n",
       "    </tr>\n",
       "    <tr>\n",
       "      <td>946</td>\n",
       "      <td>Zoo Tycoon (2013)</td>\n",
       "      <td>XOne</td>\n",
       "      <td>0.36</td>\n",
       "    </tr>\n",
       "    <tr>\n",
       "      <td>947</td>\n",
       "      <td>Zumba Fitness: World Party</td>\n",
       "      <td>XOne</td>\n",
       "      <td>0.24</td>\n",
       "    </tr>\n",
       "    <tr>\n",
       "      <td>948</td>\n",
       "      <td>Zyuden Sentai Kyoryuger: Game de Gaburincho!!</td>\n",
       "      <td>3DS</td>\n",
       "      <td>0.05</td>\n",
       "    </tr>\n",
       "    <tr>\n",
       "      <td>949</td>\n",
       "      <td>inFAMOUS: Second Son</td>\n",
       "      <td>PS4</td>\n",
       "      <td>2.79</td>\n",
       "    </tr>\n",
       "  </tbody>\n",
       "</table>\n",
       "<p>950 rows × 3 columns</p>\n",
       "</div>"
      ],
      "text/plain": [
       "                                              name platform  total_sales\n",
       "0                                   Beyblade Burst      3DS         0.03\n",
       "1                                Fire Emblem Fates      3DS         1.67\n",
       "2                             Frozen: Olaf's Quest      3DS         0.59\n",
       "3                       Haikyu!! Cross Team Match!      3DS         0.04\n",
       "4                         12-Sai. Honto no Kimochi      3DS         0.07\n",
       "..                                             ...      ...          ...\n",
       "945                            Zombie Army Trilogy     XOne         0.11\n",
       "946                              Zoo Tycoon (2013)     XOne         0.36\n",
       "947                     Zumba Fitness: World Party     XOne         0.24\n",
       "948  Zyuden Sentai Kyoryuger: Game de Gaburincho!!      3DS         0.05\n",
       "949                           inFAMOUS: Second Son      PS4         2.79\n",
       "\n",
       "[950 rows x 3 columns]"
      ]
     },
     "execution_count": 46,
     "metadata": {},
     "output_type": "execute_result"
    }
   ],
   "source": [
    "platform_game_grp= final_data.groupby(['name','platform'])['total_sales'].sum().reset_index()\n",
    "platform_game_grp"
   ]
  },
  {
   "cell_type": "code",
   "execution_count": 47,
   "metadata": {},
   "outputs": [
    {
     "name": "stderr",
     "output_type": "stream",
     "text": [
      "/opt/conda/lib/python3.7/site-packages/numpy/core/_asarray.py:83: VisibleDeprecationWarning: Creating an ndarray from ragged nested sequences (which is a list-or-tuple of lists-or-tuples-or ndarrays with different lengths or shapes) is deprecated. If you meant to do this, you must specify 'dtype=object' when creating the ndarray\n",
      "  return array(a, dtype, copy=False, order=order)\n"
     ]
    },
    {
     "data": {
      "text/plain": [
       "(0, 5)"
      ]
     },
     "execution_count": 47,
     "metadata": {},
     "output_type": "execute_result"
    },
    {
     "data": {
      "image/png": "[encoded data removed]",
      "text/plain": [
       "<Figure size 576x720 with 1 Axes>"
      ]
     },
     "metadata": {},
     "output_type": "display_data"
    }
   ],
   "source": [
    "platform_game_grp.boxplot(column='total_sales', by='platform',showfliers = False, figsize=(8,10))\n",
    "plt.ylim(0,5)"
   ]
  },
  {
   "cell_type": "markdown",
   "metadata": {},
   "source": [
    "1. The medians of the platforms are more or less the same. \n",
    "2. All platforms has a lot of outliers\n",
    "3. PS4 has the most income then others\n",
    "4. 3DS and PS3 are smaller platforms rather than PS4, X360 and XOne\n",
    "5. We can see that the new platforms (PS4 & Xone) taking their shares in sales from the previous platforms  "
   ]
  },
  {
   "cell_type": "markdown",
   "metadata": {},
   "source": [
    "<div class=\"alert alert-block alert-warning\">\n",
    "   <h2>Reviewer's commentary <a class=\"tocSkip\"> </h2>\n",
    "    <br/>\n",
    "<b>Remarks and recommendations📌:</b>  \n",
    "       \n",
    "As for your boxplot: if you want to exclude outliers from the picture, you can use `showfliers = False`"
   ]
  },
  {
   "cell_type": "markdown",
   "metadata": {},
   "source": [
    "<div class=\"alert alert-block alert-success\">\n",
    "    <h2>Reviewer's commentary:second iteration of the review <a class=\"tocSkip\"> </h2>\n",
    "    <br/>\n",
    "<b>Well done!👍</b> "
   ]
  },
  {
   "cell_type": "code",
   "execution_count": 48,
   "metadata": {},
   "outputs": [
    {
     "data": {
      "text/html": [
       "<div>\n",
       "<style scoped>\n",
       "    .dataframe tbody tr th:only-of-type {\n",
       "        vertical-align: middle;\n",
       "    }\n",
       "\n",
       "    .dataframe tbody tr th {\n",
       "        vertical-align: top;\n",
       "    }\n",
       "\n",
       "    .dataframe thead th {\n",
       "        text-align: right;\n",
       "    }\n",
       "</style>\n",
       "<table border=\"1\" class=\"dataframe\">\n",
       "  <thead>\n",
       "    <tr style=\"text-align: right;\">\n",
       "      <th></th>\n",
       "      <th>platform</th>\n",
       "      <th>total_sales</th>\n",
       "    </tr>\n",
       "  </thead>\n",
       "  <tbody>\n",
       "    <tr>\n",
       "      <td>0</td>\n",
       "      <td>3DS</td>\n",
       "      <td>0.464437</td>\n",
       "    </tr>\n",
       "    <tr>\n",
       "      <td>2</td>\n",
       "      <td>XOne</td>\n",
       "      <td>0.645020</td>\n",
       "    </tr>\n",
       "    <tr>\n",
       "      <td>1</td>\n",
       "      <td>PS4</td>\n",
       "      <td>0.801378</td>\n",
       "    </tr>\n",
       "  </tbody>\n",
       "</table>\n",
       "</div>"
      ],
      "text/plain": [
       "  platform  total_sales\n",
       "0      3DS     0.464437\n",
       "2     XOne     0.645020\n",
       "1      PS4     0.801378"
      ]
     },
     "execution_count": 48,
     "metadata": {},
     "output_type": "execute_result"
    }
   ],
   "source": [
    "platform_game_grp1= final_data.groupby('platform')['total_sales'].mean().reset_index().sort_values(by='total_sales')\n",
    "platform_game_grp1"
   ]
  },
  {
   "cell_type": "code",
   "execution_count": 49,
   "metadata": {},
   "outputs": [
    {
     "data": {
      "text/html": [
       "<div>\n",
       "<style scoped>\n",
       "    .dataframe tbody tr th:only-of-type {\n",
       "        vertical-align: middle;\n",
       "    }\n",
       "\n",
       "    .dataframe tbody tr th {\n",
       "        vertical-align: top;\n",
       "    }\n",
       "\n",
       "    .dataframe thead th {\n",
       "        text-align: right;\n",
       "    }\n",
       "</style>\n",
       "<table border=\"1\" class=\"dataframe\">\n",
       "  <thead>\n",
       "    <tr style=\"text-align: right;\">\n",
       "      <th></th>\n",
       "      <th>name</th>\n",
       "      <th>platform</th>\n",
       "      <th>year_of_release</th>\n",
       "      <th>genre</th>\n",
       "      <th>na_sales</th>\n",
       "      <th>eu_sales</th>\n",
       "      <th>jp_sales</th>\n",
       "      <th>other_sales</th>\n",
       "      <th>critic_score</th>\n",
       "      <th>user_score</th>\n",
       "      <th>rating</th>\n",
       "      <th>total_sales</th>\n",
       "    </tr>\n",
       "  </thead>\n",
       "  <tbody>\n",
       "    <tr>\n",
       "      <td>0</td>\n",
       "      <td>Call of Duty: Black Ops 3</td>\n",
       "      <td>PS4</td>\n",
       "      <td>2015</td>\n",
       "      <td>Shooter</td>\n",
       "      <td>6.03</td>\n",
       "      <td>5.86</td>\n",
       "      <td>0.36</td>\n",
       "      <td>2.38</td>\n",
       "      <td>NaN</td>\n",
       "      <td>NaN</td>\n",
       "      <td>unknown</td>\n",
       "      <td>14.63</td>\n",
       "    </tr>\n",
       "    <tr>\n",
       "      <td>1</td>\n",
       "      <td>Grand Theft Auto V</td>\n",
       "      <td>PS4</td>\n",
       "      <td>2014</td>\n",
       "      <td>Action</td>\n",
       "      <td>3.96</td>\n",
       "      <td>6.31</td>\n",
       "      <td>0.38</td>\n",
       "      <td>1.97</td>\n",
       "      <td>97.0</td>\n",
       "      <td>8.3</td>\n",
       "      <td>M</td>\n",
       "      <td>12.62</td>\n",
       "    </tr>\n",
       "    <tr>\n",
       "      <td>2</td>\n",
       "      <td>FIFA 16</td>\n",
       "      <td>PS4</td>\n",
       "      <td>2015</td>\n",
       "      <td>Sports</td>\n",
       "      <td>1.12</td>\n",
       "      <td>6.12</td>\n",
       "      <td>0.06</td>\n",
       "      <td>1.28</td>\n",
       "      <td>82.0</td>\n",
       "      <td>4.3</td>\n",
       "      <td>E</td>\n",
       "      <td>8.58</td>\n",
       "    </tr>\n",
       "    <tr>\n",
       "      <td>3</td>\n",
       "      <td>Star Wars Battlefront (2015)</td>\n",
       "      <td>PS4</td>\n",
       "      <td>2015</td>\n",
       "      <td>Shooter</td>\n",
       "      <td>2.99</td>\n",
       "      <td>3.49</td>\n",
       "      <td>0.22</td>\n",
       "      <td>1.28</td>\n",
       "      <td>NaN</td>\n",
       "      <td>NaN</td>\n",
       "      <td>unknown</td>\n",
       "      <td>7.98</td>\n",
       "    </tr>\n",
       "    <tr>\n",
       "      <td>4</td>\n",
       "      <td>Call of Duty: Advanced Warfare</td>\n",
       "      <td>PS4</td>\n",
       "      <td>2014</td>\n",
       "      <td>Shooter</td>\n",
       "      <td>2.81</td>\n",
       "      <td>3.48</td>\n",
       "      <td>0.14</td>\n",
       "      <td>1.23</td>\n",
       "      <td>83.0</td>\n",
       "      <td>5.7</td>\n",
       "      <td>M</td>\n",
       "      <td>7.66</td>\n",
       "    </tr>\n",
       "    <tr>\n",
       "      <td>...</td>\n",
       "      <td>...</td>\n",
       "      <td>...</td>\n",
       "      <td>...</td>\n",
       "      <td>...</td>\n",
       "      <td>...</td>\n",
       "      <td>...</td>\n",
       "      <td>...</td>\n",
       "      <td>...</td>\n",
       "      <td>...</td>\n",
       "      <td>...</td>\n",
       "      <td>...</td>\n",
       "      <td>...</td>\n",
       "    </tr>\n",
       "    <tr>\n",
       "      <td>945</td>\n",
       "      <td>Sébastien Loeb Rally Evo</td>\n",
       "      <td>XOne</td>\n",
       "      <td>2016</td>\n",
       "      <td>Racing</td>\n",
       "      <td>0.00</td>\n",
       "      <td>0.01</td>\n",
       "      <td>0.00</td>\n",
       "      <td>0.00</td>\n",
       "      <td>63.0</td>\n",
       "      <td>8.2</td>\n",
       "      <td>E</td>\n",
       "      <td>0.01</td>\n",
       "    </tr>\n",
       "    <tr>\n",
       "      <td>946</td>\n",
       "      <td>Rugby Challenge 3</td>\n",
       "      <td>XOne</td>\n",
       "      <td>2016</td>\n",
       "      <td>Sports</td>\n",
       "      <td>0.00</td>\n",
       "      <td>0.01</td>\n",
       "      <td>0.00</td>\n",
       "      <td>0.00</td>\n",
       "      <td>NaN</td>\n",
       "      <td>6.6</td>\n",
       "      <td>E</td>\n",
       "      <td>0.01</td>\n",
       "    </tr>\n",
       "    <tr>\n",
       "      <td>947</td>\n",
       "      <td>ZombiU</td>\n",
       "      <td>XOne</td>\n",
       "      <td>2016</td>\n",
       "      <td>Action</td>\n",
       "      <td>0.00</td>\n",
       "      <td>0.01</td>\n",
       "      <td>0.00</td>\n",
       "      <td>0.00</td>\n",
       "      <td>NaN</td>\n",
       "      <td>NaN</td>\n",
       "      <td>unknown</td>\n",
       "      <td>0.01</td>\n",
       "    </tr>\n",
       "    <tr>\n",
       "      <td>948</td>\n",
       "      <td>Prison Architect</td>\n",
       "      <td>XOne</td>\n",
       "      <td>2016</td>\n",
       "      <td>Action</td>\n",
       "      <td>0.01</td>\n",
       "      <td>0.00</td>\n",
       "      <td>0.00</td>\n",
       "      <td>0.00</td>\n",
       "      <td>74.0</td>\n",
       "      <td>6.7</td>\n",
       "      <td>unknown</td>\n",
       "      <td>0.01</td>\n",
       "    </tr>\n",
       "    <tr>\n",
       "      <td>949</td>\n",
       "      <td>Metal Gear Solid V: The Definitive Experience</td>\n",
       "      <td>XOne</td>\n",
       "      <td>2016</td>\n",
       "      <td>Action</td>\n",
       "      <td>0.01</td>\n",
       "      <td>0.00</td>\n",
       "      <td>0.00</td>\n",
       "      <td>0.00</td>\n",
       "      <td>NaN</td>\n",
       "      <td>NaN</td>\n",
       "      <td>M</td>\n",
       "      <td>0.01</td>\n",
       "    </tr>\n",
       "  </tbody>\n",
       "</table>\n",
       "<p>950 rows × 12 columns</p>\n",
       "</div>"
      ],
      "text/plain": [
       "                                              name platform  year_of_release  \\\n",
       "0                        Call of Duty: Black Ops 3      PS4             2015   \n",
       "1                               Grand Theft Auto V      PS4             2014   \n",
       "2                                          FIFA 16      PS4             2015   \n",
       "3                     Star Wars Battlefront (2015)      PS4             2015   \n",
       "4                   Call of Duty: Advanced Warfare      PS4             2014   \n",
       "..                                             ...      ...              ...   \n",
       "945                       Sébastien Loeb Rally Evo     XOne             2016   \n",
       "946                              Rugby Challenge 3     XOne             2016   \n",
       "947                                         ZombiU     XOne             2016   \n",
       "948                               Prison Architect     XOne             2016   \n",
       "949  Metal Gear Solid V: The Definitive Experience     XOne             2016   \n",
       "\n",
       "       genre  na_sales  eu_sales  jp_sales  other_sales  critic_score  \\\n",
       "0    Shooter      6.03      5.86      0.36         2.38           NaN   \n",
       "1     Action      3.96      6.31      0.38         1.97          97.0   \n",
       "2     Sports      1.12      6.12      0.06         1.28          82.0   \n",
       "3    Shooter      2.99      3.49      0.22         1.28           NaN   \n",
       "4    Shooter      2.81      3.48      0.14         1.23          83.0   \n",
       "..       ...       ...       ...       ...          ...           ...   \n",
       "945   Racing      0.00      0.01      0.00         0.00          63.0   \n",
       "946   Sports      0.00      0.01      0.00         0.00           NaN   \n",
       "947   Action      0.00      0.01      0.00         0.00           NaN   \n",
       "948   Action      0.01      0.00      0.00         0.00          74.0   \n",
       "949   Action      0.01      0.00      0.00         0.00           NaN   \n",
       "\n",
       "     user_score   rating  total_sales  \n",
       "0           NaN  unknown        14.63  \n",
       "1           8.3        M        12.62  \n",
       "2           4.3        E         8.58  \n",
       "3           NaN  unknown         7.98  \n",
       "4           5.7        M         7.66  \n",
       "..          ...      ...          ...  \n",
       "945         8.2        E         0.01  \n",
       "946         6.6        E         0.01  \n",
       "947         NaN  unknown         0.01  \n",
       "948         6.7  unknown         0.01  \n",
       "949         NaN        M         0.01  \n",
       "\n",
       "[950 rows x 12 columns]"
      ]
     },
     "execution_count": 49,
     "metadata": {},
     "output_type": "execute_result"
    }
   ],
   "source": [
    "final_data"
   ]
  },
  {
   "cell_type": "markdown",
   "metadata": {},
   "source": [
    "Take a look at how user and professional reviews affect sales for one popular platform (you choose). Build a scatter plot and calculate the correlation between reviews and sales. Draw conclusions."
   ]
  },
  {
   "cell_type": "code",
   "execution_count": 50,
   "metadata": {},
   "outputs": [],
   "source": [
    "#final_data2= final_data.loc[final_data['user_score'] != \"tbd\"].copy()\n",
    "#excluding the tbd "
   ]
  },
  {
   "cell_type": "code",
   "execution_count": 51,
   "metadata": {},
   "outputs": [],
   "source": [
    "#final_data2['user_score']= final_data2['user_score'].astype(float).fillna(final_data2['user_score'].median())"
   ]
  },
  {
   "cell_type": "code",
   "execution_count": 52,
   "metadata": {},
   "outputs": [],
   "source": [
    "def score_affect(platform,score_type):\n",
    "    func= final_data[final_data['platform']== platform][['total_sales',score_type]]\n",
    "    sns.scatterplot(x=score_type, y='total_sales', data=final_data)\n",
    "    \n",
    "    if func.total_sales.corr(func[score_type]) >0.7 :\n",
    "        print('positive between this score and sales')\n",
    "    else: \n",
    "        print('weak correlation')"
   ]
  },
  {
   "cell_type": "code",
   "execution_count": 53,
   "metadata": {},
   "outputs": [
    {
     "name": "stdout",
     "output_type": "stream",
     "text": [
      "weak correlation\n"
     ]
    },
    {
     "data": {
      "image/png": "[encoded data removed]",
      "text/plain": [
       "<Figure size 720x576 with 1 Axes>"
      ]
     },
     "metadata": {},
     "output_type": "display_data"
    }
   ],
   "source": [
    "score_affect('PS4', 'critic_score')"
   ]
  },
  {
   "cell_type": "code",
   "execution_count": 54,
   "metadata": {},
   "outputs": [
    {
     "name": "stdout",
     "output_type": "stream",
     "text": [
      "weak correlation\n"
     ]
    },
    {
     "data": {
      "image/png": "[encoded data removed]",
      "text/plain": [
       "<Figure size 720x576 with 1 Axes>"
      ]
     },
     "metadata": {},
     "output_type": "display_data"
    }
   ],
   "source": [
    "score_affect('PS4','user_score')"
   ]
  },
  {
   "cell_type": "markdown",
   "metadata": {},
   "source": [
    "There is no correlation between user and critic score to total sales. We can see that there isn't a clear realation between higher score and higher revenue."
   ]
  },
  {
   "cell_type": "markdown",
   "metadata": {},
   "source": [
    "Keeping your conclusions in mind, compare the sales of the same games on other platforms"
   ]
  },
  {
   "cell_type": "code",
   "execution_count": 55,
   "metadata": {},
   "outputs": [
    {
     "name": "stdout",
     "output_type": "stream",
     "text": [
      "weak correlation\n"
     ]
    },
    {
     "data": {
      "image/png": "[encoded data removed]",
      "text/plain": [
       "<Figure size 720x576 with 1 Axes>"
      ]
     },
     "metadata": {},
     "output_type": "display_data"
    }
   ],
   "source": [
    "score_affect('3DS', 'user_score')"
   ]
  },
  {
   "cell_type": "code",
   "execution_count": 56,
   "metadata": {},
   "outputs": [
    {
     "name": "stdout",
     "output_type": "stream",
     "text": [
      "weak correlation\n"
     ]
    },
    {
     "data": {
      "image/png": "[encoded data removed]",
      "text/plain": [
       "<Figure size 720x576 with 1 Axes>"
      ]
     },
     "metadata": {},
     "output_type": "display_data"
    }
   ],
   "source": [
    "score_affect('3DS', 'critic_score')"
   ]
  },
  {
   "cell_type": "code",
   "execution_count": 57,
   "metadata": {},
   "outputs": [
    {
     "name": "stdout",
     "output_type": "stream",
     "text": [
      "weak correlation\n"
     ]
    },
    {
     "data": {
      "image/png": "[encoded data removed]",
      "text/plain": [
       "<Figure size 720x576 with 1 Axes>"
      ]
     },
     "metadata": {},
     "output_type": "display_data"
    }
   ],
   "source": [
    "score_affect('XOne', 'user_score')"
   ]
  },
  {
   "cell_type": "code",
   "execution_count": 58,
   "metadata": {},
   "outputs": [
    {
     "name": "stdout",
     "output_type": "stream",
     "text": [
      "weak correlation\n"
     ]
    },
    {
     "data": {
      "image/png": "[encoded data removed]",
      "text/plain": [
       "<Figure size 720x576 with 1 Axes>"
      ]
     },
     "metadata": {},
     "output_type": "display_data"
    }
   ],
   "source": [
    "score_affect('XOne', 'critic_score')"
   ]
  },
  {
   "cell_type": "markdown",
   "metadata": {},
   "source": [
    "Like the scatter plots of PS4 also the rest of the platforms are scatters the same which means there is a weak positive correlation between them"
   ]
  },
  {
   "cell_type": "markdown",
   "metadata": {},
   "source": [
    "<div class=\"alert alert-block alert-warning\">\n",
    "   <h2>Reviewer's commentary <a class=\"tocSkip\"> </h2>\n",
    "    <br/>\n",
    "<b>Remarks and recommendations📌:</b>  \n",
    "       \n",
    "As a whole the logic of your decision here is correct, but I would like to recommend you to pay attention to potentially profitable and actual platforms, like PS4 for example. PS3 is outdated platform, it is better not to draw on conclusions from the analysis of this platform."
   ]
  },
  {
   "cell_type": "markdown",
   "metadata": {},
   "source": [
    "<div class=\"alert alert-block alert-warning\">\n",
    "   <h2>Reviewer's commentary <a class=\"tocSkip\"> </h2>\n",
    "    <br/>\n",
    "<b>Remarks and recommendations📌:</b>  \n",
    "       \n",
    "And one point about the correlation analysis interpretation:\n",
    "       \n",
    " 1) correlation is always correlation, we canno say if the coefficients is small that there are no correlation, it is, but there is weak positive/negative relationship between the variables that is why we can state that such a relationship can be neglected, so please be more attentive to the interpretation and terms:\n",
    "       \n",
    "https://www.investopedia.com/ask/answers/032515/what-does-it-mean-if-correlation-coefficient-positive-negative-or-zero.asp\n",
    "       \n",
    "https://statisticsbyjim.com/basics/correlations/\n",
    "       \n",
    "https://www.dummies.com/education/math/statistics/how-to-interpret-a-correlation-coefficient-r/"
   ]
  },
  {
   "cell_type": "markdown",
   "metadata": {},
   "source": [
    "<div class=\"alert alert-block alert-success\">\n",
    "    <h2>Reviewer's commentary:second iteration of the review <a class=\"tocSkip\"> </h2>\n",
    "    <br/>\n",
    "<b>Well done!👍:</b> \n",
    "        \n",
    "Ok, this time the logic of the decision and correlation interpretation is more correct."
   ]
  },
  {
   "cell_type": "markdown",
   "metadata": {},
   "source": [
    "Take a look at the general distribution of games by genre. What can we say about the most profitable genres? Can you generalize about genres with high and low sales?"
   ]
  },
  {
   "cell_type": "code",
   "execution_count": 59,
   "metadata": {},
   "outputs": [
    {
     "data": {
      "text/html": [
       "<div>\n",
       "<style scoped>\n",
       "    .dataframe tbody tr th:only-of-type {\n",
       "        vertical-align: middle;\n",
       "    }\n",
       "\n",
       "    .dataframe tbody tr th {\n",
       "        vertical-align: top;\n",
       "    }\n",
       "\n",
       "    .dataframe thead th {\n",
       "        text-align: right;\n",
       "    }\n",
       "</style>\n",
       "<table border=\"1\" class=\"dataframe\">\n",
       "  <thead>\n",
       "    <tr style=\"text-align: right;\">\n",
       "      <th></th>\n",
       "      <th>genre</th>\n",
       "      <th>total_sales</th>\n",
       "    </tr>\n",
       "  </thead>\n",
       "  <tbody>\n",
       "    <tr>\n",
       "      <td>0</td>\n",
       "      <td>Action</td>\n",
       "      <td>167.85</td>\n",
       "    </tr>\n",
       "    <tr>\n",
       "      <td>8</td>\n",
       "      <td>Shooter</td>\n",
       "      <td>149.02</td>\n",
       "    </tr>\n",
       "    <tr>\n",
       "      <td>7</td>\n",
       "      <td>Role-Playing</td>\n",
       "      <td>106.94</td>\n",
       "    </tr>\n",
       "    <tr>\n",
       "      <td>10</td>\n",
       "      <td>Sports</td>\n",
       "      <td>84.19</td>\n",
       "    </tr>\n",
       "    <tr>\n",
       "      <td>3</td>\n",
       "      <td>Misc</td>\n",
       "      <td>22.72</td>\n",
       "    </tr>\n",
       "    <tr>\n",
       "      <td>6</td>\n",
       "      <td>Racing</td>\n",
       "      <td>22.02</td>\n",
       "    </tr>\n",
       "    <tr>\n",
       "      <td>2</td>\n",
       "      <td>Fighting</td>\n",
       "      <td>19.31</td>\n",
       "    </tr>\n",
       "    <tr>\n",
       "      <td>4</td>\n",
       "      <td>Platform</td>\n",
       "      <td>17.41</td>\n",
       "    </tr>\n",
       "    <tr>\n",
       "      <td>1</td>\n",
       "      <td>Adventure</td>\n",
       "      <td>12.44</td>\n",
       "    </tr>\n",
       "    <tr>\n",
       "      <td>9</td>\n",
       "      <td>Simulation</td>\n",
       "      <td>11.94</td>\n",
       "    </tr>\n",
       "    <tr>\n",
       "      <td>11</td>\n",
       "      <td>Strategy</td>\n",
       "      <td>2.31</td>\n",
       "    </tr>\n",
       "    <tr>\n",
       "      <td>5</td>\n",
       "      <td>Puzzle</td>\n",
       "      <td>1.75</td>\n",
       "    </tr>\n",
       "  </tbody>\n",
       "</table>\n",
       "</div>"
      ],
      "text/plain": [
       "           genre  total_sales\n",
       "0         Action       167.85\n",
       "8        Shooter       149.02\n",
       "7   Role-Playing       106.94\n",
       "10        Sports        84.19\n",
       "3           Misc        22.72\n",
       "6         Racing        22.02\n",
       "2       Fighting        19.31\n",
       "4       Platform        17.41\n",
       "1      Adventure        12.44\n",
       "9     Simulation        11.94\n",
       "11      Strategy         2.31\n",
       "5         Puzzle         1.75"
      ]
     },
     "execution_count": 59,
     "metadata": {},
     "output_type": "execute_result"
    }
   ],
   "source": [
    "genre_sales= final_data.groupby(['genre'])['total_sales'].sum().reset_index()\n",
    "genre_sales.sort_values(by='total_sales', ascending=False)"
   ]
  },
  {
   "cell_type": "markdown",
   "metadata": {},
   "source": [
    "We can see each genre and its total sales"
   ]
  },
  {
   "cell_type": "code",
   "execution_count": 60,
   "metadata": {},
   "outputs": [
    {
     "data": {
      "text/html": [
       "<div>\n",
       "<style scoped>\n",
       "    .dataframe tbody tr th:only-of-type {\n",
       "        vertical-align: middle;\n",
       "    }\n",
       "\n",
       "    .dataframe tbody tr th {\n",
       "        vertical-align: top;\n",
       "    }\n",
       "\n",
       "    .dataframe thead th {\n",
       "        text-align: right;\n",
       "    }\n",
       "</style>\n",
       "<table border=\"1\" class=\"dataframe\">\n",
       "  <thead>\n",
       "    <tr style=\"text-align: right;\">\n",
       "      <th></th>\n",
       "      <th>genre</th>\n",
       "      <th>name</th>\n",
       "    </tr>\n",
       "  </thead>\n",
       "  <tbody>\n",
       "    <tr>\n",
       "      <td>0</td>\n",
       "      <td>Action</td>\n",
       "      <td>346</td>\n",
       "    </tr>\n",
       "    <tr>\n",
       "      <td>7</td>\n",
       "      <td>Role-Playing</td>\n",
       "      <td>128</td>\n",
       "    </tr>\n",
       "    <tr>\n",
       "      <td>10</td>\n",
       "      <td>Sports</td>\n",
       "      <td>93</td>\n",
       "    </tr>\n",
       "    <tr>\n",
       "      <td>8</td>\n",
       "      <td>Shooter</td>\n",
       "      <td>81</td>\n",
       "    </tr>\n",
       "    <tr>\n",
       "      <td>3</td>\n",
       "      <td>Misc</td>\n",
       "      <td>71</td>\n",
       "    </tr>\n",
       "    <tr>\n",
       "      <td>1</td>\n",
       "      <td>Adventure</td>\n",
       "      <td>70</td>\n",
       "    </tr>\n",
       "    <tr>\n",
       "      <td>6</td>\n",
       "      <td>Racing</td>\n",
       "      <td>40</td>\n",
       "    </tr>\n",
       "    <tr>\n",
       "      <td>2</td>\n",
       "      <td>Fighting</td>\n",
       "      <td>32</td>\n",
       "    </tr>\n",
       "    <tr>\n",
       "      <td>4</td>\n",
       "      <td>Platform</td>\n",
       "      <td>32</td>\n",
       "    </tr>\n",
       "    <tr>\n",
       "      <td>9</td>\n",
       "      <td>Simulation</td>\n",
       "      <td>27</td>\n",
       "    </tr>\n",
       "    <tr>\n",
       "      <td>11</td>\n",
       "      <td>Strategy</td>\n",
       "      <td>20</td>\n",
       "    </tr>\n",
       "    <tr>\n",
       "      <td>5</td>\n",
       "      <td>Puzzle</td>\n",
       "      <td>10</td>\n",
       "    </tr>\n",
       "  </tbody>\n",
       "</table>\n",
       "</div>"
      ],
      "text/plain": [
       "           genre  name\n",
       "0         Action   346\n",
       "7   Role-Playing   128\n",
       "10        Sports    93\n",
       "8        Shooter    81\n",
       "3           Misc    71\n",
       "1      Adventure    70\n",
       "6         Racing    40\n",
       "2       Fighting    32\n",
       "4       Platform    32\n",
       "9     Simulation    27\n",
       "11      Strategy    20\n",
       "5         Puzzle    10"
      ]
     },
     "execution_count": 60,
     "metadata": {},
     "output_type": "execute_result"
    }
   ],
   "source": [
    "genre_dist= final_data.groupby(['genre'])['name'].count().reset_index()\n",
    "genre_dist.sort_values(by='name', ascending=False)"
   ]
  },
  {
   "cell_type": "markdown",
   "metadata": {},
   "source": [
    "The most popular genre since 2013 is Action."
   ]
  },
  {
   "cell_type": "code",
   "execution_count": 61,
   "metadata": {},
   "outputs": [
    {
     "data": {
      "text/html": [
       "<div>\n",
       "<style scoped>\n",
       "    .dataframe tbody tr th:only-of-type {\n",
       "        vertical-align: middle;\n",
       "    }\n",
       "\n",
       "    .dataframe tbody tr th {\n",
       "        vertical-align: top;\n",
       "    }\n",
       "\n",
       "    .dataframe thead th {\n",
       "        text-align: right;\n",
       "    }\n",
       "</style>\n",
       "<table border=\"1\" class=\"dataframe\">\n",
       "  <thead>\n",
       "    <tr style=\"text-align: right;\">\n",
       "      <th></th>\n",
       "      <th>genre</th>\n",
       "      <th>name</th>\n",
       "      <th>total_sales</th>\n",
       "      <th>share</th>\n",
       "    </tr>\n",
       "  </thead>\n",
       "  <tbody>\n",
       "    <tr>\n",
       "      <td>8</td>\n",
       "      <td>Shooter</td>\n",
       "      <td>81</td>\n",
       "      <td>149.02</td>\n",
       "      <td>1.84</td>\n",
       "    </tr>\n",
       "    <tr>\n",
       "      <td>10</td>\n",
       "      <td>Sports</td>\n",
       "      <td>93</td>\n",
       "      <td>84.19</td>\n",
       "      <td>0.91</td>\n",
       "    </tr>\n",
       "    <tr>\n",
       "      <td>7</td>\n",
       "      <td>Role-Playing</td>\n",
       "      <td>128</td>\n",
       "      <td>106.94</td>\n",
       "      <td>0.84</td>\n",
       "    </tr>\n",
       "    <tr>\n",
       "      <td>2</td>\n",
       "      <td>Fighting</td>\n",
       "      <td>32</td>\n",
       "      <td>19.31</td>\n",
       "      <td>0.60</td>\n",
       "    </tr>\n",
       "    <tr>\n",
       "      <td>6</td>\n",
       "      <td>Racing</td>\n",
       "      <td>40</td>\n",
       "      <td>22.02</td>\n",
       "      <td>0.55</td>\n",
       "    </tr>\n",
       "    <tr>\n",
       "      <td>4</td>\n",
       "      <td>Platform</td>\n",
       "      <td>32</td>\n",
       "      <td>17.41</td>\n",
       "      <td>0.54</td>\n",
       "    </tr>\n",
       "    <tr>\n",
       "      <td>0</td>\n",
       "      <td>Action</td>\n",
       "      <td>346</td>\n",
       "      <td>167.85</td>\n",
       "      <td>0.49</td>\n",
       "    </tr>\n",
       "    <tr>\n",
       "      <td>9</td>\n",
       "      <td>Simulation</td>\n",
       "      <td>27</td>\n",
       "      <td>11.94</td>\n",
       "      <td>0.44</td>\n",
       "    </tr>\n",
       "    <tr>\n",
       "      <td>3</td>\n",
       "      <td>Misc</td>\n",
       "      <td>71</td>\n",
       "      <td>22.72</td>\n",
       "      <td>0.32</td>\n",
       "    </tr>\n",
       "    <tr>\n",
       "      <td>1</td>\n",
       "      <td>Adventure</td>\n",
       "      <td>70</td>\n",
       "      <td>12.44</td>\n",
       "      <td>0.18</td>\n",
       "    </tr>\n",
       "    <tr>\n",
       "      <td>5</td>\n",
       "      <td>Puzzle</td>\n",
       "      <td>10</td>\n",
       "      <td>1.75</td>\n",
       "      <td>0.18</td>\n",
       "    </tr>\n",
       "    <tr>\n",
       "      <td>11</td>\n",
       "      <td>Strategy</td>\n",
       "      <td>20</td>\n",
       "      <td>2.31</td>\n",
       "      <td>0.12</td>\n",
       "    </tr>\n",
       "  </tbody>\n",
       "</table>\n",
       "</div>"
      ],
      "text/plain": [
       "           genre  name  total_sales  share\n",
       "8        Shooter    81       149.02   1.84\n",
       "10        Sports    93        84.19   0.91\n",
       "7   Role-Playing   128       106.94   0.84\n",
       "2       Fighting    32        19.31   0.60\n",
       "6         Racing    40        22.02   0.55\n",
       "4       Platform    32        17.41   0.54\n",
       "0         Action   346       167.85   0.49\n",
       "9     Simulation    27        11.94   0.44\n",
       "3           Misc    71        22.72   0.32\n",
       "1      Adventure    70        12.44   0.18\n",
       "5         Puzzle    10         1.75   0.18\n",
       "11      Strategy    20         2.31   0.12"
      ]
     },
     "execution_count": 61,
     "metadata": {},
     "output_type": "execute_result"
    }
   ],
   "source": [
    "genre= pd.merge(left= genre_dist, right= genre_sales, how='inner', on='genre')\n",
    "genre['share']= (genre['total_sales'] / genre['name']).round(2)\n",
    "genre.sort_values(by='share', ascending=False)"
   ]
  },
  {
   "cell_type": "markdown",
   "metadata": {},
   "source": [
    "Although Action genre is most popular, its income share per game is only in fifth place. Shooter's game is most profitable"
   ]
  },
  {
   "cell_type": "markdown",
   "metadata": {},
   "source": [
    "<div class=\"alert alert-block alert-success\">\n",
    "    <h2>Reviewer's commentary<a class=\"tocSkip\"> </h2>\n",
    "    <br/>\n",
    "<b>Well done!👍:</b>\n",
    "        \n",
    "Ok, here the logic of the analysis is correct!"
   ]
  },
  {
   "cell_type": "markdown",
   "metadata": {},
   "source": [
    "# Conclusion"
   ]
  },
  {
   "cell_type": "markdown",
   "metadata": {},
   "source": [
    "From the initial data we can conclude number of things:\n",
    "1. The data is not up to date and contains a lot of information that is not relevant for our analsis\n",
    "2. I found there was high peak of releasing game in 2008-2010 but the a fall\n",
    "3. The games which is relevant for our campign are from 2013\n",
    "4. Not all of the platforms since 2013 are still relevant. many of them are not profitable\n",
    "5. There is no signicant correlation between income sales and critics and user reviews\n",
    "6. Not all genres are equally popular, Action genre is the most popluar\n",
    "7. PS4's games are the most expensives "
   ]
  },
  {
   "cell_type": "markdown",
   "metadata": {},
   "source": [
    "# Step 4. Create a user profile for each region\n"
   ]
  },
  {
   "cell_type": "markdown",
   "metadata": {},
   "source": [
    "The top five platforms. Describe variations in their market shares from region to region."
   ]
  },
  {
   "cell_type": "code",
   "execution_count": 62,
   "metadata": {},
   "outputs": [],
   "source": [
    "def top5(x):\n",
    "    func= new_data.groupby('platform')[x].sum().reset_index()\n",
    "    func['share']= (func[x] / func[x].sum()) * 100\n",
    "    print(func.sort_values(by=x, ascending=False).head())\n",
    "    pie, ax = plt.subplots(figsize=(10,6))\n",
    "    colors = sns.color_palette(\"husl\", 9)\n",
    "    plt.pie(func['share'], explode=[0.002]* func['share'], colors = colors,autopct='%1.0f%%',pctdistance=0.7, labeldistance=1.3)\n",
    "    plt.legend(func['platform'] ,bbox_to_anchor=(1.4, 1.2))\n",
    "    plt.tight_layout()\n",
    "    plt.show()\n"
   ]
  },
  {
   "cell_type": "code",
   "execution_count": 63,
   "metadata": {},
   "outputs": [
    {
     "name": "stdout",
     "output_type": "stream",
     "text": [
      "   platform  na_sales      share\n",
      "4       PS4    108.74  24.789131\n",
      "10     XOne     93.12  21.228286\n",
      "9      X360     81.66  18.615784\n",
      "3       PS3     63.50  14.475904\n",
      "0       3DS     39.04   8.899831\n"
     ]
    },
    {
     "data": {
      "image/png": "[encoded data removed]",
      "text/plain": [
       "<Figure size 720x432 with 1 Axes>"
      ]
     },
     "metadata": {},
     "output_type": "display_data"
    }
   ],
   "source": [
    "top5('na_sales')"
   ]
  },
  {
   "cell_type": "code",
   "execution_count": 64,
   "metadata": {},
   "outputs": [
    {
     "name": "stdout",
     "output_type": "stream",
     "text": [
      "   platform  eu_sales      share\n",
      "4       PS4    141.09  35.947413\n",
      "3       PS3     67.81  17.276873\n",
      "10     XOne     51.59  13.144284\n",
      "9      X360     42.52  10.833397\n",
      "0       3DS     31.17   7.941604\n"
     ]
    },
    {
     "data": {
      "image/png": "[encoded data removed]",
      "text/plain": [
       "<Figure size 720x432 with 1 Axes>"
      ]
     },
     "metadata": {},
     "output_type": "display_data"
    }
   ],
   "source": [
    "top5('eu_sales')"
   ]
  },
  {
   "cell_type": "code",
   "execution_count": 65,
   "metadata": {},
   "outputs": [
    {
     "name": "stdout",
     "output_type": "stream",
     "text": [
      "  platform  jp_sales      share\n",
      "0      3DS     67.86  48.161817\n",
      "3      PS3     23.35  16.572037\n",
      "6      PSV     18.66  13.243435\n",
      "4      PS4     15.96  11.327182\n",
      "8     WiiU     10.88   7.721789\n"
     ]
    },
    {
     "data": {
      "image/png": "[encoded data removed]",
      "text/plain": [
       "<Figure size 720x432 with 1 Axes>"
      ]
     },
     "metadata": {},
     "output_type": "display_data"
    }
   ],
   "source": [
    "top5('jp_sales')"
   ]
  },
  {
   "cell_type": "markdown",
   "metadata": {},
   "source": [
    "The top five genres. Explain the difference.\n"
   ]
  },
  {
   "cell_type": "code",
   "execution_count": 66,
   "metadata": {},
   "outputs": [],
   "source": [
    "def top5genre(x):\n",
    "    func= new_data.groupby('genre')[x].sum().reset_index()\n",
    "    print(func.sort_values(by=x, ascending=False).head())"
   ]
  },
  {
   "cell_type": "code",
   "execution_count": 67,
   "metadata": {},
   "outputs": [
    {
     "name": "stdout",
     "output_type": "stream",
     "text": [
      "           genre  na_sales\n",
      "0         Action    126.23\n",
      "8        Shooter    109.78\n",
      "10        Sports     65.27\n",
      "7   Role-Playing     46.51\n",
      "3           Misc     27.49\n"
     ]
    }
   ],
   "source": [
    "top5genre('na_sales')"
   ]
  },
  {
   "cell_type": "code",
   "execution_count": 68,
   "metadata": {},
   "outputs": [
    {
     "name": "stdout",
     "output_type": "stream",
     "text": [
      "           genre  eu_sales\n",
      "0         Action    118.32\n",
      "8        Shooter     87.88\n",
      "10        Sports     60.52\n",
      "7   Role-Playing     37.02\n",
      "6         Racing     20.19\n"
     ]
    }
   ],
   "source": [
    "top5genre('eu_sales')"
   ]
  },
  {
   "cell_type": "code",
   "execution_count": 69,
   "metadata": {},
   "outputs": [
    {
     "name": "stdout",
     "output_type": "stream",
     "text": [
      "          genre  jp_sales\n",
      "7  Role-Playing     51.14\n",
      "0        Action     40.49\n",
      "3          Misc      9.20\n",
      "2      Fighting      7.65\n",
      "8       Shooter      6.61\n"
     ]
    }
   ],
   "source": [
    "top5genre('jp_sales')"
   ]
  },
  {
   "cell_type": "markdown",
   "metadata": {},
   "source": [
    "We can notice that North america gamers and european gamers have in general the same prefrences of genres. But Japaneese gamers prefer different genres. while Japan's number one genre is role-playing, in NA and EU is in the forth place. My guess is that due to cultural differences between western and eastern culture it reflects also on game genres."
   ]
  },
  {
   "cell_type": "code",
   "execution_count": 70,
   "metadata": {},
   "outputs": [],
   "source": [
    "def top5rating(x):\n",
    "    func= new_data.groupby('rating')[x].mean().reset_index()\n",
    "    print(func.sort_values(by=x, ascending=False).head())"
   ]
  },
  {
   "cell_type": "code",
   "execution_count": 71,
   "metadata": {},
   "outputs": [
    {
     "name": "stdout",
     "output_type": "stream",
     "text": [
      "    rating  na_sales\n",
      "2        M  0.447724\n",
      "0        E  0.260428\n",
      "1     E10+  0.214567\n",
      "3        T  0.149493\n",
      "4  unknown  0.091531\n"
     ]
    }
   ],
   "source": [
    "top5rating('na_sales')"
   ]
  },
  {
   "cell_type": "code",
   "execution_count": 72,
   "metadata": {},
   "outputs": [
    {
     "name": "stdout",
     "output_type": "stream",
     "text": [
      "    rating  eu_sales\n",
      "2        M  0.393821\n",
      "0        E  0.274276\n",
      "1     E10+  0.168819\n",
      "3        T  0.125373\n",
      "4  unknown  0.080520\n"
     ]
    }
   ],
   "source": [
    "top5rating('eu_sales')"
   ]
  },
  {
   "cell_type": "code",
   "execution_count": 73,
   "metadata": {
    "scrolled": true
   },
   "outputs": [
    {
     "name": "stdout",
     "output_type": "stream",
     "text": [
      "    rating  jp_sales\n",
      "4  unknown  0.086837\n",
      "3        T  0.061672\n",
      "0        E  0.049803\n",
      "2        M  0.038238\n",
      "1     E10+  0.023189\n"
     ]
    }
   ],
   "source": [
    "top5rating('jp_sales')"
   ]
  },
  {
   "cell_type": "markdown",
   "metadata": {},
   "source": [
    "We can see that for North America and Europe the number one rating is for adults while in Japan we have a lot of missing ratings and also teen above 13 years old."
   ]
  },
  {
   "cell_type": "markdown",
   "metadata": {},
   "source": [
    "<div class=\"alert alert-block alert-success\">\n",
    "    <h2>Reviewer's commentary<a class=\"tocSkip\"> </h2>\n",
    "    <br/>\n",
    "<b>Well done!👍:</b>\n",
    "        \n",
    "As a whole logic is correct again, keep it up! "
   ]
  },
  {
   "cell_type": "markdown",
   "metadata": {},
   "source": [
    "<div class=\"alert alert-block alert-warning\">\n",
    "   <h2>Reviewer's commentary <a class=\"tocSkip\"> </h2>\n",
    "    <br/>\n",
    "<b>Remarks and recommendations📌:</b>  \n",
    "       \n",
    "Some recommendations for pie charts:\n",
    "       \n",
    "now the labels on your plots are overlapping. It is better to fix it:\n",
    "       \n",
    "See the examples here:\n",
    "       \n",
    "https://stackoverflow.com/questions/23577505/how-to-avoid-overlapping-of-labels-autopct-in-a-matplotlib-pie-chart\n",
    "       \n",
    "Also, it is important to analyse games without rating\n",
    "       \n"
   ]
  },
  {
   "cell_type": "markdown",
   "metadata": {},
   "source": [
    "<div class=\"alert alert-block alert-success\">\n",
    "    <h2>Reviewer's commentary:second iteration of the review <a class=\"tocSkip\"> </h2>\n",
    "    <br/>\n",
    "<b>Well done!👍:</b> \n",
    "        \n",
    "Ok, agree with new version!"
   ]
  },
  {
   "cell_type": "markdown",
   "metadata": {},
   "source": [
    "# Step 5. Test the following hypotheses:\n"
   ]
  },
  {
   "cell_type": "code",
   "execution_count": 74,
   "metadata": {
    "scrolled": true
   },
   "outputs": [],
   "source": [
    "xone= new_data.query('platform==\"XOne\"')"
   ]
  },
  {
   "cell_type": "code",
   "execution_count": 75,
   "metadata": {},
   "outputs": [],
   "source": [
    "pc= new_data.query('platform==\"PC\"')\n"
   ]
  },
  {
   "cell_type": "markdown",
   "metadata": {},
   "source": [
    "\n",
    "<div class=\"alert alert-block alert-danger\">\n",
    "    <h2>Reviewer's commentary <a class=\"tocSkip\"> </h2>\n",
    "    <br/>\n",
    "<b>Needs fixing!🤔:</b> \n",
    "        \n",
    "Idan, it is better to change the logic of samples formations:\n",
    "        \n",
    "1) first of all - you can preprocess the tbd without excluding it from the data (see my recommendations above)\n",
    "        \n",
    "2) it is not very correct to fill missing values with 0, because the zeroes can influence the result of t-test.\n",
    "        \n",
    "if there are any missing values in your samples you can drop them using `drop()` as you did, it is absolutely correct, or (and this method is more logical) you can use special argument `nan_policy` that can specified as `omit`, so it helps to drop NaN values too in  `st.ttest_ind`\n",
    "\n",
    "       \n",
    "https://docs.scipy.org/doc/scipy/reference/generated/scipy.stats.ttest_ind.html\n",
    "        \n",
    "so the strategy: remain missing values as they are and simply then exclude them from the samples using special argument in stats.ttest_ind\n",
    "</div>"
   ]
  },
  {
   "cell_type": "markdown",
   "metadata": {},
   "source": [
    "<div class=\"alert alert-block alert-success\">\n",
    "    <h2>Reviewer's commentary:second iteration of the review <a class=\"tocSkip\"> </h2>\n",
    "    <br/>\n",
    "<b>Well done!👍:</b> \n",
    "        \n",
    "Good job, this time the samples are formatted more correctly!"
   ]
  },
  {
   "cell_type": "code",
   "execution_count": 76,
   "metadata": {},
   "outputs": [],
   "source": [
    "def ttest(sample1,sample2,alpha):\n",
    "    p_value_levene= stats.levene(sample1, sample2).pvalue.astype(int)\n",
    "    if p_value_levene<alpha:\n",
    "        option_var=False\n",
    "    else:\n",
    "        option_var=True\n",
    "    p_value=stats.ttest_ind(sample1, sample2,nan_policy='omit',equal_var=option_var).pvalue\n",
    "    if p_value<alpha:\n",
    "        print('Reject H0: average of sample 1 is not equal to average of sample 2')\n",
    "    else:\n",
    "        print(\"Fail to Reject H0: We don't have enough evidence to say that averages of sample 1 \\\n",
    " and sample 2 are not the same\")\n",
    "    print('P-value is:',p_value)"
   ]
  },
  {
   "cell_type": "code",
   "execution_count": 77,
   "metadata": {},
   "outputs": [
    {
     "name": "stdout",
     "output_type": "stream",
     "text": [
      "Fail to Reject H0: We don't have enough evidence to say that averages of sample 1  and sample 2 are not the same\n",
      "P-value is: 0.14759623175170208\n"
     ]
    }
   ],
   "source": [
    "ttest(xone['user_score'], pc['user_score'], alpha=0.05)"
   ]
  },
  {
   "cell_type": "markdown",
   "metadata": {},
   "source": [
    "\n",
    "<div class=\"alert alert-block alert-danger\">\n",
    "    <h2>Reviewer's commentary <a class=\"tocSkip\"> </h2>\n",
    "    <br/>\n",
    "<b>Needs fixing!🤔:</b> \n",
    "        \n",
    "It is better to show the p-value, this value is important."
   ]
  },
  {
   "cell_type": "markdown",
   "metadata": {},
   "source": [
    "The null hypothesis is that sample 1 is equal to sample 2.\n",
    "The alternative hypothesis (H1) is that the samples are different. \n",
    "I set the signicant level to 5% (The most common level). \n",
    "The P_value is greater then 5% which means that the PC user ratings are not different from Xbox One user ratings"
   ]
  },
  {
   "cell_type": "code",
   "execution_count": 78,
   "metadata": {},
   "outputs": [],
   "source": [
    "action= new_data.query('genre==\"Action\"')"
   ]
  },
  {
   "cell_type": "code",
   "execution_count": 79,
   "metadata": {},
   "outputs": [],
   "source": [
    "sport= new_data.query('genre==\"Sports\"')"
   ]
  },
  {
   "cell_type": "code",
   "execution_count": 80,
   "metadata": {},
   "outputs": [
    {
     "name": "stdout",
     "output_type": "stream",
     "text": [
      "Reject H0: average of sample 1 is not equal to average of sample 2\n",
      "P-value is: 1.4712321410912196e-20\n"
     ]
    }
   ],
   "source": [
    "ttest(sport['user_score'], action['user_score'], alpha=0.05) "
   ]
  },
  {
   "cell_type": "markdown",
   "metadata": {},
   "source": [
    "The null hypothesis is that sample 1 is equal to sample 2. The alternative hypothesis (H1) is that the samples are different. I set the signicant level to 5% (The most common level). The P_value is less then 5% which means that indeed like it was asked, the sport's and action's user ratings are different."
   ]
  },
  {
   "cell_type": "markdown",
   "metadata": {},
   "source": [
    "\n",
    "<div class=\"alert alert-block alert-danger\">\n",
    "    <h2>Reviewer's commentary <a class=\"tocSkip\"> </h2>\n",
    "    <br/>\n",
    "<b>Needs fixing!🤔:</b> \n",
    "        \n",
    "The same recommendations about samples and p-value here."
   ]
  },
  {
   "cell_type": "markdown",
   "metadata": {},
   "source": [
    "<div class=\"alert alert-block alert-success\">\n",
    "    <h2>Reviewer's commentary:second iteration of the review <a class=\"tocSkip\"> </h2>\n",
    "    <br/>\n",
    "<b>Well done!👍:</b> \n",
    "        \n",
    "Agree with your improvements at this step of the analysis, you are doing great!"
   ]
  },
  {
   "cell_type": "markdown",
   "metadata": {},
   "source": [
    "#  Step 6. Overall conclusion"
   ]
  },
  {
   "cell_type": "markdown",
   "metadata": {},
   "source": [
    "The game market is changing rapidly and it is very dynamic, we can see a huge drop in game sales world wide for several years, therefore the campign for next year needs to precise as much as we can.\n",
    "Based on the data we can point out number of trends that will be relevant for us. Before I elaborate my findings I need to point out about the quality of the data. User and critics reviews was missing lot of data that could have been helpful to us. I tried to fill in the missing data without distort it and change it.\n",
    "Back to the analsys:\n",
    "1. Games platforms (Pc and various consoles) lives only for 6-8 years, the ones that is relevant for 2017 are: PS3,      PS4, Xone, X360, 3DS. The rest of the platforms still has a small market but will probably will die durnig 2017.\n",
    "2. PS4 and Xone are new platforms that are the successors of PS3 and X360. I can predict that new platforms will raise    in sales over 2017 and eventually extinct the older platforms\n",
    "3. As for genres we can see that Action, Shooters and Sports genres are the most popular world wide but is not the        most profitable. we need to take in account that Role-Playing genre is more profitable then Action genre\n",
    "4. When building an advertisment campign we need to consider our geographic target market. While North Amercia and        europe are similar markets, the Japanese market is different in number of subjects. Western markets leading in PS4    and Xone platforms while Japan leading platform is 3DS (Xone isn't in the top 5). Western market leading genres are    Action and Shooters while japan leading genres are Role-Playing and Action. In terms of ESRB, the target audience      for the Western market are grown-ups (+17) and teens while the Japansese target audience is more diverse and most of it is unknown   "
   ]
  },
  {
   "cell_type": "markdown",
   "metadata": {},
   "source": [
    "<div style=\"border:solid Chocolate 2px; padding: 40px\">\n",
    "\n",
    "**The overall review conclusion**\n",
    "\n",
    "Idan, thank you for submitting your project! I can see that you've worked really hard on it! I'm really impressed this the amount of work you have done. But there are several things in your project which I suppose it is important to fix in order to make your project really ideal! My comments will navigate you!\n",
    "\n",
    "\n",
    "**Good things and practices in your project I want to highlight🙂**:\n",
    "\n",
    "* You use different methods for working with your data. It is really great that you can apply these methods on practice, keep it up!\n",
    "* You worked with the visualization, it is really good that you use plots in your work!\n",
    "* You have formulated conclusions after the each step of the analysis, good job!\n",
    "* The test for statistical hypotheses testing is chosen correctly.\n",
    "    \n",
    "**What is worth working on👀**:\n",
    "\n",
    "* It is important to correct the samples formation and preprocess the tbd value.\n",
    "* Other recommendations you will find in my comments.\n",
    "\n",
    "**Good luck! I will wait for your work for a second iteration of the review!😉**\n",
    "![gif](https://media.giphy.com/media/j1Xyt3DHfJcmk/giphy.gif)"
   ]
  },
  {
   "cell_type": "markdown",
   "metadata": {},
   "source": [
    "<div style=\"border:solid Chocolate 2px; padding: 40px\">\n",
    "\n",
    "**The overall review conclusion: second iteration of the review**\n",
    "\n",
    "Idan, thank you for submitting your project with corrections! And thank you for your feedback too, I really appreciate it😊\n",
    "    \n",
    "You did a great job to improve the project, I can see your progress, so I hasten to say that your project has been accepted and you can proceed to the next sprint!\n",
    "    \n",
    "**I wish you exciting and cool projects in the next sprints😉**\n",
    "\n",
    "![gif](https://media.giphy.com/media/l41Yh1olOKd1Tgbw4/giphy.gif)  "
   ]
  },
  {
   "cell_type": "code",
   "execution_count": null,
   "metadata": {},
   "outputs": [],
   "source": []
  }
 ],
 "metadata": {
  "ExecuteTimeLog": [
   {
    "duration": 383,
    "start_time": "2021-11-14T12:04:26.082Z"
   },
   {
    "duration": 738,
    "start_time": "2021-11-14T12:04:29.092Z"
   },
   {
    "duration": 48,
    "start_time": "2021-11-14T12:04:32.806Z"
   },
   {
    "duration": 67,
    "start_time": "2021-11-14T12:04:43.280Z"
   },
   {
    "duration": 361,
    "start_time": "2021-11-14T12:06:04.096Z"
   },
   {
    "duration": 7,
    "start_time": "2021-11-14T12:06:12.599Z"
   },
   {
    "duration": 10,
    "start_time": "2021-11-14T12:06:22.392Z"
   },
   {
    "duration": 313,
    "start_time": "2021-11-14T12:08:51.359Z"
   },
   {
    "duration": 1546,
    "start_time": "2021-11-14T12:09:04.718Z"
   },
   {
    "duration": 9,
    "start_time": "2021-11-14T12:09:55.419Z"
   },
   {
    "duration": 10,
    "start_time": "2021-11-14T12:10:24.328Z"
   },
   {
    "duration": 10,
    "start_time": "2021-11-14T12:11:24.367Z"
   },
   {
    "duration": 14,
    "start_time": "2021-11-14T12:11:54.949Z"
   },
   {
    "duration": 835,
    "start_time": "2021-11-15T08:51:32.994Z"
   },
   {
    "duration": 83,
    "start_time": "2021-11-15T08:51:33.832Z"
   },
   {
    "duration": 18,
    "start_time": "2021-11-15T08:51:33.919Z"
   },
   {
    "duration": 31,
    "start_time": "2021-11-15T08:51:33.939Z"
   },
   {
    "duration": 4,
    "start_time": "2021-11-15T08:52:55.638Z"
   },
   {
    "duration": 19,
    "start_time": "2021-11-15T08:53:03.117Z"
   },
   {
    "duration": 9,
    "start_time": "2021-11-15T08:57:11.510Z"
   },
   {
    "duration": 22,
    "start_time": "2021-11-15T08:57:18.678Z"
   },
   {
    "duration": 480,
    "start_time": "2021-11-15T08:57:44.421Z"
   },
   {
    "duration": 490,
    "start_time": "2021-11-15T08:57:52.862Z"
   },
   {
    "duration": 19,
    "start_time": "2021-11-15T08:58:29.941Z"
   },
   {
    "duration": 120,
    "start_time": "2021-11-15T09:01:15.384Z"
   },
   {
    "duration": 946,
    "start_time": "2021-11-15T09:01:20.927Z"
   },
   {
    "duration": 3691,
    "start_time": "2021-11-15T09:01:48.583Z"
   },
   {
    "duration": 2733,
    "start_time": "2021-11-15T09:02:32.605Z"
   },
   {
    "duration": 22,
    "start_time": "2021-11-15T09:02:50.552Z"
   },
   {
    "duration": 2780,
    "start_time": "2021-11-15T09:02:53.796Z"
   },
   {
    "duration": 804,
    "start_time": "2021-11-15T09:03:02.578Z"
   },
   {
    "duration": 81,
    "start_time": "2021-11-15T09:03:03.385Z"
   },
   {
    "duration": 21,
    "start_time": "2021-11-15T09:03:03.470Z"
   },
   {
    "duration": 26,
    "start_time": "2021-11-15T09:03:03.493Z"
   },
   {
    "duration": 13,
    "start_time": "2021-11-15T09:03:03.521Z"
   },
   {
    "duration": 537,
    "start_time": "2021-11-15T09:03:03.536Z"
   },
   {
    "duration": 21,
    "start_time": "2021-11-15T09:08:47.834Z"
   },
   {
    "duration": 21,
    "start_time": "2021-11-15T09:10:19.541Z"
   },
   {
    "duration": 835,
    "start_time": "2021-11-15T09:10:44.983Z"
   },
   {
    "duration": 88,
    "start_time": "2021-11-15T09:10:45.821Z"
   },
   {
    "duration": 22,
    "start_time": "2021-11-15T09:10:45.912Z"
   },
   {
    "duration": 884,
    "start_time": "2021-11-15T09:10:45.936Z"
   },
   {
    "duration": -397,
    "start_time": "2021-11-15T09:10:47.219Z"
   },
   {
    "duration": -398,
    "start_time": "2021-11-15T09:10:47.222Z"
   },
   {
    "duration": 21,
    "start_time": "2021-11-15T09:11:45.450Z"
   },
   {
    "duration": 455,
    "start_time": "2021-11-15T09:11:49.312Z"
   },
   {
    "duration": 408,
    "start_time": "2021-11-15T09:12:01.906Z"
   },
   {
    "duration": 25,
    "start_time": "2021-11-15T09:12:07.986Z"
   },
   {
    "duration": 26,
    "start_time": "2021-11-15T09:12:22.988Z"
   },
   {
    "duration": 814,
    "start_time": "2021-11-15T15:17:38.875Z"
   },
   {
    "duration": 75,
    "start_time": "2021-11-15T15:17:39.691Z"
   },
   {
    "duration": 33,
    "start_time": "2021-11-15T15:17:39.770Z"
   },
   {
    "duration": 502,
    "start_time": "2021-11-15T15:17:39.807Z"
   },
   {
    "duration": 679,
    "start_time": "2021-11-15T15:17:39.632Z"
   },
   {
    "duration": 676,
    "start_time": "2021-11-15T15:17:39.636Z"
   },
   {
    "duration": 675,
    "start_time": "2021-11-15T15:17:39.639Z"
   },
   {
    "duration": 1356,
    "start_time": "2021-11-15T15:18:19.184Z"
   },
   {
    "duration": 1332,
    "start_time": "2021-11-15T15:18:33.493Z"
   },
   {
    "duration": 19,
    "start_time": "2021-11-15T15:20:00.421Z"
   },
   {
    "duration": 15,
    "start_time": "2021-11-15T15:20:29.217Z"
   },
   {
    "duration": 370,
    "start_time": "2021-11-15T15:22:15.297Z"
   },
   {
    "duration": 375,
    "start_time": "2021-11-15T15:22:39.612Z"
   },
   {
    "duration": 10,
    "start_time": "2021-11-15T15:22:51.116Z"
   },
   {
    "duration": 468,
    "start_time": "2021-11-15T15:27:03.262Z"
   },
   {
    "duration": 11,
    "start_time": "2021-11-15T15:27:59.892Z"
   },
   {
    "duration": 22,
    "start_time": "2021-11-15T15:28:09.362Z"
   },
   {
    "duration": 10,
    "start_time": "2021-11-15T15:30:32.921Z"
   },
   {
    "duration": 743,
    "start_time": "2021-11-15T15:38:52.838Z"
   },
   {
    "duration": 71,
    "start_time": "2021-11-15T15:38:53.584Z"
   },
   {
    "duration": 19,
    "start_time": "2021-11-15T15:38:53.658Z"
   },
   {
    "duration": 45,
    "start_time": "2021-11-15T15:38:53.680Z"
   },
   {
    "duration": 15,
    "start_time": "2021-11-15T15:38:53.727Z"
   },
   {
    "duration": 7,
    "start_time": "2021-11-15T15:38:53.745Z"
   },
   {
    "duration": 63,
    "start_time": "2021-11-15T15:38:53.755Z"
   },
   {
    "duration": 680,
    "start_time": "2021-11-15T15:39:44.593Z"
   },
   {
    "duration": 13,
    "start_time": "2021-11-15T15:39:49.858Z"
   },
   {
    "duration": 13,
    "start_time": "2021-11-15T15:39:57.417Z"
   },
   {
    "duration": 14,
    "start_time": "2021-11-15T15:40:04.442Z"
   },
   {
    "duration": 381,
    "start_time": "2021-11-15T15:40:18.266Z"
   },
   {
    "duration": 933,
    "start_time": "2021-11-15T15:41:24.958Z"
   },
   {
    "duration": 12,
    "start_time": "2021-11-15T15:41:39.872Z"
   },
   {
    "duration": 379,
    "start_time": "2021-11-15T20:13:05.582Z"
   },
   {
    "duration": 597,
    "start_time": "2021-11-15T20:13:12.039Z"
   },
   {
    "duration": 51,
    "start_time": "2021-11-15T20:13:12.638Z"
   },
   {
    "duration": 12,
    "start_time": "2021-11-15T20:13:12.691Z"
   },
   {
    "duration": 15,
    "start_time": "2021-11-15T20:13:12.706Z"
   },
   {
    "duration": 29,
    "start_time": "2021-11-15T20:13:12.723Z"
   },
   {
    "duration": 5,
    "start_time": "2021-11-15T20:13:12.754Z"
   },
   {
    "duration": 324,
    "start_time": "2021-11-15T20:13:12.761Z"
   },
   {
    "duration": 2670,
    "start_time": "2021-11-15T20:13:10.417Z"
   },
   {
    "duration": 11,
    "start_time": "2021-11-15T20:13:30.928Z"
   },
   {
    "duration": 12,
    "start_time": "2021-11-15T20:35:06.442Z"
   },
   {
    "duration": 17,
    "start_time": "2021-11-15T20:36:10.147Z"
   },
   {
    "duration": 12,
    "start_time": "2021-11-15T20:36:24.397Z"
   },
   {
    "duration": 11,
    "start_time": "2021-11-15T20:37:02.637Z"
   },
   {
    "duration": 260,
    "start_time": "2021-11-15T20:37:08.028Z"
   },
   {
    "duration": 12,
    "start_time": "2021-11-15T20:37:48.422Z"
   },
   {
    "duration": 6,
    "start_time": "2021-11-15T20:38:08.699Z"
   },
   {
    "duration": 6,
    "start_time": "2021-11-15T20:38:17.362Z"
   },
   {
    "duration": 6,
    "start_time": "2021-11-15T20:38:32.576Z"
   },
   {
    "duration": 6,
    "start_time": "2021-11-15T20:39:12.211Z"
   },
   {
    "duration": 5,
    "start_time": "2021-11-15T20:39:25.303Z"
   },
   {
    "duration": 16,
    "start_time": "2021-11-15T20:40:33.526Z"
   },
   {
    "duration": 9,
    "start_time": "2021-11-15T20:40:42.680Z"
   },
   {
    "duration": 10,
    "start_time": "2021-11-15T20:40:49.736Z"
   },
   {
    "duration": 13,
    "start_time": "2021-11-15T20:40:55.446Z"
   },
   {
    "duration": 9,
    "start_time": "2021-11-15T20:41:08.677Z"
   },
   {
    "duration": 13,
    "start_time": "2021-11-15T20:41:13.271Z"
   },
   {
    "duration": 292,
    "start_time": "2021-11-15T20:42:44.376Z"
   },
   {
    "duration": 415,
    "start_time": "2021-11-15T20:42:49.428Z"
   },
   {
    "duration": 5,
    "start_time": "2021-11-15T20:42:55.430Z"
   },
   {
    "duration": 5,
    "start_time": "2021-11-15T20:43:01.533Z"
   },
   {
    "duration": 8,
    "start_time": "2021-11-15T20:43:08.050Z"
   },
   {
    "duration": 17,
    "start_time": "2021-11-15T20:43:34.533Z"
   },
   {
    "duration": 5,
    "start_time": "2021-11-15T20:44:28.708Z"
   },
   {
    "duration": 8,
    "start_time": "2021-11-15T20:44:56.155Z"
   },
   {
    "duration": 617,
    "start_time": "2021-11-15T20:46:11.205Z"
   },
   {
    "duration": 60,
    "start_time": "2021-11-15T20:46:11.823Z"
   },
   {
    "duration": 12,
    "start_time": "2021-11-15T20:46:11.886Z"
   },
   {
    "duration": 14,
    "start_time": "2021-11-15T20:46:11.900Z"
   },
   {
    "duration": 9,
    "start_time": "2021-11-15T20:46:11.915Z"
   },
   {
    "duration": 36,
    "start_time": "2021-11-15T20:46:11.925Z"
   },
   {
    "duration": 11,
    "start_time": "2021-11-15T20:46:11.963Z"
   },
   {
    "duration": 4,
    "start_time": "2021-11-15T20:46:11.976Z"
   },
   {
    "duration": 15,
    "start_time": "2021-11-15T20:46:11.982Z"
   },
   {
    "duration": 8,
    "start_time": "2021-11-15T20:46:46.362Z"
   },
   {
    "duration": 22,
    "start_time": "2021-11-15T20:47:14.336Z"
   },
   {
    "duration": 6,
    "start_time": "2021-11-15T20:47:24.610Z"
   },
   {
    "duration": 8,
    "start_time": "2021-11-15T20:50:43.792Z"
   },
   {
    "duration": 25,
    "start_time": "2021-11-15T20:50:57.062Z"
   },
   {
    "duration": 23,
    "start_time": "2021-11-15T20:51:19.324Z"
   },
   {
    "duration": 660,
    "start_time": "2021-11-15T20:51:34.217Z"
   },
   {
    "duration": 55,
    "start_time": "2021-11-15T20:51:34.879Z"
   },
   {
    "duration": 16,
    "start_time": "2021-11-15T20:51:34.937Z"
   },
   {
    "duration": 17,
    "start_time": "2021-11-15T20:51:34.955Z"
   },
   {
    "duration": 19,
    "start_time": "2021-11-15T20:51:34.973Z"
   },
   {
    "duration": 11,
    "start_time": "2021-11-15T20:51:34.993Z"
   },
   {
    "duration": 5,
    "start_time": "2021-11-15T20:51:35.006Z"
   },
   {
    "duration": 41,
    "start_time": "2021-11-15T20:51:35.012Z"
   },
   {
    "duration": 6,
    "start_time": "2021-11-15T20:52:15.229Z"
   },
   {
    "duration": 15,
    "start_time": "2021-11-15T20:52:32.535Z"
   },
   {
    "duration": 5,
    "start_time": "2021-11-15T20:53:39.819Z"
   },
   {
    "duration": 20,
    "start_time": "2021-11-15T20:53:42.164Z"
   },
   {
    "duration": 5,
    "start_time": "2021-11-15T20:54:03.308Z"
   },
   {
    "duration": 22,
    "start_time": "2021-11-15T20:54:05.171Z"
   },
   {
    "duration": 7,
    "start_time": "2021-11-15T20:55:20.998Z"
   },
   {
    "duration": 9,
    "start_time": "2021-11-15T20:55:28.306Z"
   },
   {
    "duration": 7,
    "start_time": "2021-11-15T20:55:39.125Z"
   },
   {
    "duration": 615,
    "start_time": "2021-11-15T20:55:49.144Z"
   },
   {
    "duration": 56,
    "start_time": "2021-11-15T20:55:49.761Z"
   },
   {
    "duration": 11,
    "start_time": "2021-11-15T20:55:49.819Z"
   },
   {
    "duration": 18,
    "start_time": "2021-11-15T20:55:49.832Z"
   },
   {
    "duration": 10,
    "start_time": "2021-11-15T20:55:49.853Z"
   },
   {
    "duration": 18,
    "start_time": "2021-11-15T20:55:49.864Z"
   },
   {
    "duration": 15,
    "start_time": "2021-11-15T20:55:49.884Z"
   },
   {
    "duration": 10,
    "start_time": "2021-11-15T20:55:49.902Z"
   },
   {
    "duration": 31,
    "start_time": "2021-11-15T20:55:49.914Z"
   },
   {
    "duration": 15,
    "start_time": "2021-11-15T20:55:49.948Z"
   },
   {
    "duration": 9,
    "start_time": "2021-11-15T20:56:11.333Z"
   },
   {
    "duration": 5,
    "start_time": "2021-11-15T21:11:09.874Z"
   },
   {
    "duration": 578,
    "start_time": "2021-11-15T21:13:02.559Z"
   },
   {
    "duration": 52,
    "start_time": "2021-11-15T21:13:03.139Z"
   },
   {
    "duration": 11,
    "start_time": "2021-11-15T21:13:03.194Z"
   },
   {
    "duration": 18,
    "start_time": "2021-11-15T21:13:03.207Z"
   },
   {
    "duration": 10,
    "start_time": "2021-11-15T21:13:03.227Z"
   },
   {
    "duration": 13,
    "start_time": "2021-11-15T21:13:03.238Z"
   },
   {
    "duration": 12,
    "start_time": "2021-11-15T21:13:03.252Z"
   },
   {
    "duration": 22,
    "start_time": "2021-11-15T21:13:03.266Z"
   },
   {
    "duration": 4,
    "start_time": "2021-11-15T21:13:03.290Z"
   },
   {
    "duration": 20,
    "start_time": "2021-11-15T21:13:03.295Z"
   },
   {
    "duration": 31,
    "start_time": "2021-11-15T21:13:03.317Z"
   },
   {
    "duration": 4,
    "start_time": "2021-11-15T21:13:03.350Z"
   },
   {
    "duration": 17,
    "start_time": "2021-11-15T21:13:03.356Z"
   },
   {
    "duration": 7,
    "start_time": "2021-11-15T21:24:17.613Z"
   },
   {
    "duration": 7,
    "start_time": "2021-11-15T21:24:36.233Z"
   },
   {
    "duration": 7,
    "start_time": "2021-11-15T21:24:49.610Z"
   },
   {
    "duration": 10,
    "start_time": "2021-11-15T21:25:40.448Z"
   },
   {
    "duration": 30,
    "start_time": "2021-11-15T21:26:04.954Z"
   },
   {
    "duration": 11,
    "start_time": "2021-11-15T21:37:42.829Z"
   },
   {
    "duration": 13,
    "start_time": "2021-11-15T21:38:09.201Z"
   },
   {
    "duration": 11,
    "start_time": "2021-11-15T21:38:34.496Z"
   },
   {
    "duration": 348,
    "start_time": "2021-11-15T21:38:51.942Z"
   },
   {
    "duration": 15,
    "start_time": "2021-11-15T21:39:02.623Z"
   },
   {
    "duration": 13,
    "start_time": "2021-11-15T21:39:12.853Z"
   },
   {
    "duration": 15,
    "start_time": "2021-11-15T21:39:17.972Z"
   },
   {
    "duration": 16,
    "start_time": "2021-11-15T21:39:25.681Z"
   },
   {
    "duration": 16,
    "start_time": "2021-11-15T21:39:34.080Z"
   },
   {
    "duration": 655,
    "start_time": "2021-11-16T06:55:32.486Z"
   },
   {
    "duration": 835,
    "start_time": "2021-11-16T06:55:40.412Z"
   },
   {
    "duration": 75,
    "start_time": "2021-11-16T06:55:41.250Z"
   },
   {
    "duration": 20,
    "start_time": "2021-11-16T06:55:41.329Z"
   },
   {
    "duration": 65,
    "start_time": "2021-11-16T06:55:41.352Z"
   },
   {
    "duration": 19,
    "start_time": "2021-11-16T06:55:41.420Z"
   },
   {
    "duration": 11,
    "start_time": "2021-11-16T06:55:41.441Z"
   },
   {
    "duration": 13,
    "start_time": "2021-11-16T06:55:41.455Z"
   },
   {
    "duration": 7,
    "start_time": "2021-11-16T06:55:41.499Z"
   },
   {
    "duration": 23,
    "start_time": "2021-11-16T06:55:41.509Z"
   },
   {
    "duration": 541,
    "start_time": "2021-11-16T06:55:41.534Z"
   },
   {
    "duration": 3000,
    "start_time": "2021-11-16T06:55:39.078Z"
   },
   {
    "duration": 2996,
    "start_time": "2021-11-16T06:55:39.083Z"
   },
   {
    "duration": 2994,
    "start_time": "2021-11-16T06:55:39.086Z"
   },
   {
    "duration": 2991,
    "start_time": "2021-11-16T06:55:39.090Z"
   },
   {
    "duration": 9,
    "start_time": "2021-11-16T07:06:02.313Z"
   },
   {
    "duration": 7,
    "start_time": "2021-11-16T07:07:08.207Z"
   },
   {
    "duration": 29,
    "start_time": "2021-11-16T07:38:33.389Z"
   },
   {
    "duration": 9487,
    "start_time": "2021-11-16T07:39:46.265Z"
   },
   {
    "duration": 9961,
    "start_time": "2021-11-16T07:40:21.019Z"
   },
   {
    "duration": 25,
    "start_time": "2021-11-16T07:40:40.914Z"
   },
   {
    "duration": 8,
    "start_time": "2021-11-16T07:41:40.284Z"
   },
   {
    "duration": 7,
    "start_time": "2021-11-16T07:41:48.563Z"
   },
   {
    "duration": 24,
    "start_time": "2021-11-16T07:41:50.353Z"
   },
   {
    "duration": 963,
    "start_time": "2021-11-16T07:42:03.135Z"
   },
   {
    "duration": 1011,
    "start_time": "2021-11-16T07:42:12.402Z"
   },
   {
    "duration": 100,
    "start_time": "2021-11-16T07:42:13.416Z"
   },
   {
    "duration": 27,
    "start_time": "2021-11-16T07:42:13.520Z"
   },
   {
    "duration": 69,
    "start_time": "2021-11-16T07:42:13.551Z"
   },
   {
    "duration": 21,
    "start_time": "2021-11-16T07:42:13.623Z"
   },
   {
    "duration": 11,
    "start_time": "2021-11-16T07:42:13.647Z"
   },
   {
    "duration": 42,
    "start_time": "2021-11-16T07:42:13.660Z"
   },
   {
    "duration": 7,
    "start_time": "2021-11-16T07:42:13.705Z"
   },
   {
    "duration": 23,
    "start_time": "2021-11-16T07:42:13.715Z"
   },
   {
    "duration": 9,
    "start_time": "2021-11-16T07:42:13.740Z"
   },
   {
    "duration": 7,
    "start_time": "2021-11-16T07:42:13.751Z"
   },
   {
    "duration": 30,
    "start_time": "2021-11-16T07:42:13.801Z"
   },
   {
    "duration": 15,
    "start_time": "2021-11-16T07:42:13.833Z"
   },
   {
    "duration": 7,
    "start_time": "2021-11-16T07:42:13.850Z"
   },
   {
    "duration": 52,
    "start_time": "2021-11-16T07:42:13.859Z"
   },
   {
    "duration": 23,
    "start_time": "2021-11-16T07:42:37.864Z"
   },
   {
    "duration": 5,
    "start_time": "2021-11-16T07:42:52.441Z"
   },
   {
    "duration": 2092,
    "start_time": "2021-11-16T07:43:04.998Z"
   },
   {
    "duration": 22,
    "start_time": "2021-11-16T07:43:10.872Z"
   },
   {
    "duration": 14,
    "start_time": "2021-11-16T07:43:21.702Z"
   },
   {
    "duration": 16,
    "start_time": "2021-11-16T07:43:32.030Z"
   },
   {
    "duration": 765,
    "start_time": "2021-11-16T07:47:42.521Z"
   },
   {
    "duration": 8,
    "start_time": "2021-11-16T07:48:53.728Z"
   },
   {
    "duration": 16,
    "start_time": "2021-11-16T07:49:07.239Z"
   },
   {
    "duration": 719,
    "start_time": "2021-11-16T07:49:27.124Z"
   },
   {
    "duration": 461,
    "start_time": "2021-11-16T07:49:55.418Z"
   },
   {
    "duration": 392,
    "start_time": "2021-11-16T07:50:04.704Z"
   },
   {
    "duration": 385,
    "start_time": "2021-11-16T07:50:28.122Z"
   },
   {
    "duration": 410,
    "start_time": "2021-11-16T07:53:35.156Z"
   },
   {
    "duration": 5350,
    "start_time": "2021-11-16T07:55:00.661Z"
   },
   {
    "duration": 409,
    "start_time": "2021-11-16T07:55:14.501Z"
   },
   {
    "duration": 3885,
    "start_time": "2021-11-16T07:55:30.102Z"
   },
   {
    "duration": 1941,
    "start_time": "2021-11-16T07:55:33.991Z"
   },
   {
    "duration": 93,
    "start_time": "2021-11-16T07:55:35.936Z"
   },
   {
    "duration": 27,
    "start_time": "2021-11-16T07:55:36.032Z"
   },
   {
    "duration": 82,
    "start_time": "2021-11-16T07:55:36.062Z"
   },
   {
    "duration": 27,
    "start_time": "2021-11-16T07:55:36.147Z"
   },
   {
    "duration": 34,
    "start_time": "2021-11-16T07:55:36.176Z"
   },
   {
    "duration": 17,
    "start_time": "2021-11-16T07:55:36.213Z"
   },
   {
    "duration": 8,
    "start_time": "2021-11-16T07:55:36.235Z"
   },
   {
    "duration": 60,
    "start_time": "2021-11-16T07:55:36.246Z"
   },
   {
    "duration": 9,
    "start_time": "2021-11-16T07:55:36.309Z"
   },
   {
    "duration": 6,
    "start_time": "2021-11-16T07:55:36.321Z"
   },
   {
    "duration": 34,
    "start_time": "2021-11-16T07:55:36.329Z"
   },
   {
    "duration": 43,
    "start_time": "2021-11-16T07:55:36.365Z"
   },
   {
    "duration": 9,
    "start_time": "2021-11-16T07:55:36.411Z"
   },
   {
    "duration": 23,
    "start_time": "2021-11-16T07:55:36.423Z"
   },
   {
    "duration": 585,
    "start_time": "2021-11-16T07:55:36.449Z"
   },
   {
    "duration": 435,
    "start_time": "2021-11-16T07:56:11.499Z"
   },
   {
    "duration": 390,
    "start_time": "2021-11-16T07:57:37.536Z"
   },
   {
    "duration": 1320,
    "start_time": "2021-11-16T07:58:01.937Z"
   },
   {
    "duration": 868,
    "start_time": "2021-11-16T07:58:26.274Z"
   },
   {
    "duration": 393,
    "start_time": "2021-11-16T07:59:00.748Z"
   },
   {
    "duration": 848,
    "start_time": "2021-11-16T07:59:06.844Z"
   },
   {
    "duration": 809,
    "start_time": "2021-11-16T07:59:25.507Z"
   },
   {
    "duration": 906,
    "start_time": "2021-11-16T07:59:40.747Z"
   },
   {
    "duration": 4558,
    "start_time": "2021-11-16T17:59:39.244Z"
   },
   {
    "duration": 1418,
    "start_time": "2021-11-16T17:59:43.805Z"
   },
   {
    "duration": 68,
    "start_time": "2021-11-16T17:59:45.226Z"
   },
   {
    "duration": 19,
    "start_time": "2021-11-16T17:59:45.298Z"
   },
   {
    "duration": 73,
    "start_time": "2021-11-16T17:59:45.320Z"
   },
   {
    "duration": 21,
    "start_time": "2021-11-16T17:59:45.396Z"
   },
   {
    "duration": 14,
    "start_time": "2021-11-16T17:59:45.419Z"
   },
   {
    "duration": 39,
    "start_time": "2021-11-16T17:59:45.437Z"
   },
   {
    "duration": 9,
    "start_time": "2021-11-16T17:59:45.478Z"
   },
   {
    "duration": 31,
    "start_time": "2021-11-16T17:59:45.489Z"
   },
   {
    "duration": 11,
    "start_time": "2021-11-16T17:59:45.523Z"
   },
   {
    "duration": 31,
    "start_time": "2021-11-16T17:59:45.536Z"
   },
   {
    "duration": 30,
    "start_time": "2021-11-16T17:59:45.570Z"
   },
   {
    "duration": 15,
    "start_time": "2021-11-16T17:59:45.603Z"
   },
   {
    "duration": 6,
    "start_time": "2021-11-16T17:59:45.621Z"
   },
   {
    "duration": 50,
    "start_time": "2021-11-16T17:59:45.630Z"
   },
   {
    "duration": 1022,
    "start_time": "2021-11-16T17:59:45.682Z"
   },
   {
    "duration": 883,
    "start_time": "2021-11-16T18:04:39.171Z"
   },
   {
    "duration": 955,
    "start_time": "2021-11-16T18:04:45.400Z"
   },
   {
    "duration": 1312,
    "start_time": "2021-11-16T18:04:58.696Z"
   },
   {
    "duration": 989,
    "start_time": "2021-11-16T18:07:01.592Z"
   },
   {
    "duration": 1326,
    "start_time": "2021-11-16T18:07:22.314Z"
   },
   {
    "duration": 1317,
    "start_time": "2021-11-16T18:07:46.153Z"
   },
   {
    "duration": 1077,
    "start_time": "2021-11-16T18:08:05.630Z"
   },
   {
    "duration": 1065,
    "start_time": "2021-11-16T18:12:03.332Z"
   },
   {
    "duration": 1303,
    "start_time": "2021-11-16T18:12:10.219Z"
   },
   {
    "duration": 1200,
    "start_time": "2021-11-16T18:12:19.297Z"
   },
   {
    "duration": 913,
    "start_time": "2021-11-16T18:16:12.626Z"
   },
   {
    "duration": 1103,
    "start_time": "2021-11-16T18:16:24.503Z"
   },
   {
    "duration": 1205,
    "start_time": "2021-11-16T18:19:14.621Z"
   },
   {
    "duration": 1084,
    "start_time": "2021-11-16T18:19:26.220Z"
   },
   {
    "duration": 1544,
    "start_time": "2021-11-16T18:22:55.663Z"
   },
   {
    "duration": 1335,
    "start_time": "2021-11-16T18:23:13.198Z"
   },
   {
    "duration": 1371,
    "start_time": "2021-11-16T18:23:28.720Z"
   },
   {
    "duration": 1359,
    "start_time": "2021-11-16T18:23:41.238Z"
   },
   {
    "duration": 1438,
    "start_time": "2021-11-16T18:24:12.150Z"
   },
   {
    "duration": 1309,
    "start_time": "2021-11-16T18:24:23.876Z"
   },
   {
    "duration": 1470,
    "start_time": "2021-11-16T18:24:30.662Z"
   },
   {
    "duration": 106,
    "start_time": "2021-11-16T18:27:44.707Z"
   },
   {
    "duration": 1087,
    "start_time": "2021-11-16T18:27:48.487Z"
   },
   {
    "duration": 1398,
    "start_time": "2021-11-16T18:29:00.948Z"
   },
   {
    "duration": 1410,
    "start_time": "2021-11-16T18:29:32.402Z"
   },
   {
    "duration": 1365,
    "start_time": "2021-11-16T18:29:50.574Z"
   },
   {
    "duration": 1442,
    "start_time": "2021-11-16T18:30:13.980Z"
   },
   {
    "duration": 1370,
    "start_time": "2021-11-16T18:30:28.358Z"
   },
   {
    "duration": 1341,
    "start_time": "2021-11-16T18:30:46.593Z"
   },
   {
    "duration": 400,
    "start_time": "2021-11-16T18:31:03.509Z"
   },
   {
    "duration": 1107,
    "start_time": "2021-11-16T18:33:03.568Z"
   },
   {
    "duration": 1080,
    "start_time": "2021-11-16T18:33:34.615Z"
   },
   {
    "duration": 1267,
    "start_time": "2021-11-16T18:33:47.150Z"
   },
   {
    "duration": 1078,
    "start_time": "2021-11-16T18:34:03.159Z"
   },
   {
    "duration": 1086,
    "start_time": "2021-11-16T18:34:18.827Z"
   },
   {
    "duration": 1268,
    "start_time": "2021-11-16T18:34:33.304Z"
   },
   {
    "duration": 1075,
    "start_time": "2021-11-16T18:34:39.495Z"
   },
   {
    "duration": 6516,
    "start_time": "2021-11-16T18:37:01.214Z"
   },
   {
    "duration": 6716,
    "start_time": "2021-11-16T18:37:27.853Z"
   },
   {
    "duration": 6541,
    "start_time": "2021-11-16T18:37:58.076Z"
   },
   {
    "duration": 947,
    "start_time": "2021-11-16T18:39:23.625Z"
   },
   {
    "duration": 3538,
    "start_time": "2021-11-16T18:40:27.961Z"
   },
   {
    "duration": 1425,
    "start_time": "2021-11-16T18:40:31.502Z"
   },
   {
    "duration": 66,
    "start_time": "2021-11-16T18:40:32.929Z"
   },
   {
    "duration": 20,
    "start_time": "2021-11-16T18:40:32.998Z"
   },
   {
    "duration": 64,
    "start_time": "2021-11-16T18:40:33.020Z"
   },
   {
    "duration": 20,
    "start_time": "2021-11-16T18:40:33.086Z"
   },
   {
    "duration": 12,
    "start_time": "2021-11-16T18:40:33.108Z"
   },
   {
    "duration": 14,
    "start_time": "2021-11-16T18:40:33.123Z"
   },
   {
    "duration": 6,
    "start_time": "2021-11-16T18:40:33.167Z"
   },
   {
    "duration": 25,
    "start_time": "2021-11-16T18:40:33.175Z"
   },
   {
    "duration": 9,
    "start_time": "2021-11-16T18:40:33.203Z"
   },
   {
    "duration": 5,
    "start_time": "2021-11-16T18:40:33.214Z"
   },
   {
    "duration": 61,
    "start_time": "2021-11-16T18:40:33.221Z"
   },
   {
    "duration": 15,
    "start_time": "2021-11-16T18:40:33.284Z"
   },
   {
    "duration": 7,
    "start_time": "2021-11-16T18:40:33.301Z"
   },
   {
    "duration": 19,
    "start_time": "2021-11-16T18:40:33.311Z"
   },
   {
    "duration": 935,
    "start_time": "2021-11-16T18:40:33.367Z"
   },
   {
    "duration": 901,
    "start_time": "2021-11-16T18:40:54.488Z"
   },
   {
    "duration": 899,
    "start_time": "2021-11-16T18:41:10.639Z"
   },
   {
    "duration": 890,
    "start_time": "2021-11-16T18:41:23.168Z"
   },
   {
    "duration": 6200,
    "start_time": "2021-11-16T18:41:51.737Z"
   },
   {
    "duration": 883,
    "start_time": "2021-11-16T18:43:10.812Z"
   },
   {
    "duration": 886,
    "start_time": "2021-11-16T18:44:23.287Z"
   },
   {
    "duration": 886,
    "start_time": "2021-11-16T18:44:28.636Z"
   },
   {
    "duration": 995,
    "start_time": "2021-11-16T18:44:33.114Z"
   },
   {
    "duration": 6199,
    "start_time": "2021-11-16T18:48:26.636Z"
   },
   {
    "duration": 384,
    "start_time": "2021-11-16T18:51:26.196Z"
   },
   {
    "duration": 3389,
    "start_time": "2021-11-16T18:51:40.232Z"
   },
   {
    "duration": 1391,
    "start_time": "2021-11-16T18:51:43.624Z"
   },
   {
    "duration": 67,
    "start_time": "2021-11-16T18:51:45.018Z"
   },
   {
    "duration": 21,
    "start_time": "2021-11-16T18:51:45.088Z"
   },
   {
    "duration": 67,
    "start_time": "2021-11-16T18:51:45.111Z"
   },
   {
    "duration": 20,
    "start_time": "2021-11-16T18:51:45.180Z"
   },
   {
    "duration": 15,
    "start_time": "2021-11-16T18:51:45.202Z"
   },
   {
    "duration": 15,
    "start_time": "2021-11-16T18:51:45.221Z"
   },
   {
    "duration": 32,
    "start_time": "2021-11-16T18:51:45.239Z"
   },
   {
    "duration": 28,
    "start_time": "2021-11-16T18:51:45.274Z"
   },
   {
    "duration": 11,
    "start_time": "2021-11-16T18:51:45.305Z"
   },
   {
    "duration": 5,
    "start_time": "2021-11-16T18:51:45.318Z"
   },
   {
    "duration": 57,
    "start_time": "2021-11-16T18:51:45.325Z"
   },
   {
    "duration": 17,
    "start_time": "2021-11-16T18:51:45.385Z"
   },
   {
    "duration": 7,
    "start_time": "2021-11-16T18:51:45.405Z"
   },
   {
    "duration": 63,
    "start_time": "2021-11-16T18:51:45.415Z"
   },
   {
    "duration": 6368,
    "start_time": "2021-11-16T18:51:45.481Z"
   },
   {
    "duration": 8483,
    "start_time": "2021-11-16T18:52:17.458Z"
   },
   {
    "duration": 6375,
    "start_time": "2021-11-16T18:52:35.931Z"
   },
   {
    "duration": 833,
    "start_time": "2021-11-16T18:52:50.023Z"
   },
   {
    "duration": 686,
    "start_time": "2021-11-16T18:53:08.608Z"
   },
   {
    "duration": 104,
    "start_time": "2021-11-16T18:53:35.657Z"
   },
   {
    "duration": 798,
    "start_time": "2021-11-16T18:53:41.905Z"
   },
   {
    "duration": 577,
    "start_time": "2021-11-16T18:54:30.704Z"
   },
   {
    "duration": 555,
    "start_time": "2021-11-16T18:54:45.015Z"
   },
   {
    "duration": 568,
    "start_time": "2021-11-16T18:55:02.276Z"
   },
   {
    "duration": 662,
    "start_time": "2021-11-16T18:55:10.572Z"
   },
   {
    "duration": 563,
    "start_time": "2021-11-16T18:55:22.365Z"
   },
   {
    "duration": 672,
    "start_time": "2021-11-16T18:55:29.556Z"
   },
   {
    "duration": 558,
    "start_time": "2021-11-16T18:55:40.645Z"
   },
   {
    "duration": 564,
    "start_time": "2021-11-16T18:55:50.060Z"
   },
   {
    "duration": 661,
    "start_time": "2021-11-16T18:55:57.963Z"
   },
   {
    "duration": 524,
    "start_time": "2021-11-16T18:57:10.833Z"
   },
   {
    "duration": 565,
    "start_time": "2021-11-16T18:57:20.282Z"
   },
   {
    "duration": 886,
    "start_time": "2021-11-16T18:59:41.450Z"
   },
   {
    "duration": 777,
    "start_time": "2021-11-16T19:00:11.727Z"
   },
   {
    "duration": 786,
    "start_time": "2021-11-16T19:00:30.737Z"
   },
   {
    "duration": 771,
    "start_time": "2021-11-16T19:00:55.548Z"
   },
   {
    "duration": 784,
    "start_time": "2021-11-16T19:03:17.962Z"
   },
   {
    "duration": 857,
    "start_time": "2021-11-16T19:03:26.241Z"
   },
   {
    "duration": 803,
    "start_time": "2021-11-16T19:03:36.114Z"
   },
   {
    "duration": 909,
    "start_time": "2021-11-16T19:05:00.551Z"
   },
   {
    "duration": 87,
    "start_time": "2021-11-16T19:05:32.569Z"
   },
   {
    "duration": 765,
    "start_time": "2021-11-16T19:05:39.587Z"
   },
   {
    "duration": 811,
    "start_time": "2021-11-16T19:05:55.260Z"
   },
   {
    "duration": 855,
    "start_time": "2021-11-16T19:06:08.927Z"
   },
   {
    "duration": 891,
    "start_time": "2021-11-16T19:06:15.178Z"
   },
   {
    "duration": 760,
    "start_time": "2021-11-16T19:06:40.683Z"
   },
   {
    "duration": 85,
    "start_time": "2021-11-16T19:06:56.323Z"
   },
   {
    "duration": 782,
    "start_time": "2021-11-16T19:07:12.097Z"
   },
   {
    "duration": 93,
    "start_time": "2021-11-16T19:07:29.264Z"
   },
   {
    "duration": 808,
    "start_time": "2021-11-16T19:07:36.001Z"
   },
   {
    "duration": 907,
    "start_time": "2021-11-16T19:07:51.885Z"
   },
   {
    "duration": 852,
    "start_time": "2021-11-16T19:08:04.620Z"
   },
   {
    "duration": 354,
    "start_time": "2021-11-16T19:35:46.583Z"
   },
   {
    "duration": 3401,
    "start_time": "2021-11-16T19:35:53.305Z"
   },
   {
    "duration": 1436,
    "start_time": "2021-11-16T19:35:56.709Z"
   },
   {
    "duration": 67,
    "start_time": "2021-11-16T19:35:58.148Z"
   },
   {
    "duration": 21,
    "start_time": "2021-11-16T19:35:58.218Z"
   },
   {
    "duration": 63,
    "start_time": "2021-11-16T19:35:58.241Z"
   },
   {
    "duration": 21,
    "start_time": "2021-11-16T19:35:58.307Z"
   },
   {
    "duration": 35,
    "start_time": "2021-11-16T19:35:58.331Z"
   },
   {
    "duration": 14,
    "start_time": "2021-11-16T19:35:58.370Z"
   },
   {
    "duration": 7,
    "start_time": "2021-11-16T19:35:58.387Z"
   },
   {
    "duration": 29,
    "start_time": "2021-11-16T19:35:58.396Z"
   },
   {
    "duration": 12,
    "start_time": "2021-11-16T19:35:58.427Z"
   },
   {
    "duration": 5,
    "start_time": "2021-11-16T19:35:58.467Z"
   },
   {
    "duration": 33,
    "start_time": "2021-11-16T19:35:58.474Z"
   },
   {
    "duration": 13,
    "start_time": "2021-11-16T19:35:58.510Z"
   },
   {
    "duration": 7,
    "start_time": "2021-11-16T19:35:58.525Z"
   },
   {
    "duration": 46,
    "start_time": "2021-11-16T19:35:58.534Z"
   },
   {
    "duration": 888,
    "start_time": "2021-11-16T19:35:58.582Z"
   },
   {
    "duration": 11,
    "start_time": "2021-11-17T07:53:55.326Z"
   },
   {
    "duration": 13,
    "start_time": "2021-11-17T07:54:22.260Z"
   },
   {
    "duration": 11,
    "start_time": "2021-11-17T07:54:57.360Z"
   },
   {
    "duration": 487,
    "start_time": "2021-11-17T07:55:24.461Z"
   },
   {
    "duration": 13,
    "start_time": "2021-11-17T07:55:38.833Z"
   },
   {
    "duration": 12,
    "start_time": "2021-11-17T07:57:29.590Z"
   },
   {
    "duration": 327,
    "start_time": "2021-11-17T07:58:50.500Z"
   },
   {
    "duration": 12,
    "start_time": "2021-11-17T08:01:20.902Z"
   },
   {
    "duration": 14,
    "start_time": "2021-11-17T08:01:42.541Z"
   },
   {
    "duration": 7,
    "start_time": "2021-11-17T08:03:08.069Z"
   },
   {
    "duration": 14,
    "start_time": "2021-11-17T08:03:14.479Z"
   },
   {
    "duration": 12,
    "start_time": "2021-11-17T08:03:26.159Z"
   },
   {
    "duration": 13,
    "start_time": "2021-11-17T08:03:36.259Z"
   },
   {
    "duration": 17,
    "start_time": "2021-11-17T08:04:14.299Z"
   },
   {
    "duration": 15,
    "start_time": "2021-11-17T08:05:48.737Z"
   },
   {
    "duration": 10,
    "start_time": "2021-11-17T08:06:44.474Z"
   },
   {
    "duration": 15,
    "start_time": "2021-11-17T08:16:54.902Z"
   },
   {
    "duration": 14,
    "start_time": "2021-11-17T08:17:32.836Z"
   },
   {
    "duration": 379,
    "start_time": "2021-11-17T08:18:13.313Z"
   },
   {
    "duration": 374,
    "start_time": "2021-11-17T08:18:50.782Z"
   },
   {
    "duration": 9,
    "start_time": "2021-11-17T08:19:26.082Z"
   },
   {
    "duration": 9,
    "start_time": "2021-11-17T08:20:04.712Z"
   },
   {
    "duration": 3015,
    "start_time": "2021-11-17T09:20:50.619Z"
   },
   {
    "duration": 1313,
    "start_time": "2021-11-17T09:20:53.638Z"
   },
   {
    "duration": 50,
    "start_time": "2021-11-17T09:20:54.953Z"
   },
   {
    "duration": 13,
    "start_time": "2021-11-17T09:20:55.005Z"
   },
   {
    "duration": 35,
    "start_time": "2021-11-17T09:20:55.020Z"
   },
   {
    "duration": 13,
    "start_time": "2021-11-17T09:20:55.057Z"
   },
   {
    "duration": 38,
    "start_time": "2021-11-17T09:20:55.072Z"
   },
   {
    "duration": 10,
    "start_time": "2021-11-17T09:20:55.113Z"
   },
   {
    "duration": 8,
    "start_time": "2021-11-17T09:20:55.126Z"
   },
   {
    "duration": 23,
    "start_time": "2021-11-17T09:20:55.138Z"
   },
   {
    "duration": 8,
    "start_time": "2021-11-17T09:20:55.163Z"
   },
   {
    "duration": 5,
    "start_time": "2021-11-17T09:20:55.174Z"
   },
   {
    "duration": 28,
    "start_time": "2021-11-17T09:20:55.206Z"
   },
   {
    "duration": 12,
    "start_time": "2021-11-17T09:20:55.236Z"
   },
   {
    "duration": 5,
    "start_time": "2021-11-17T09:20:55.250Z"
   },
   {
    "duration": 14,
    "start_time": "2021-11-17T09:20:55.257Z"
   },
   {
    "duration": 578,
    "start_time": "2021-11-17T09:20:55.273Z"
   },
   {
    "duration": 13,
    "start_time": "2021-11-17T09:20:55.853Z"
   },
   {
    "duration": 26,
    "start_time": "2021-11-17T09:20:55.867Z"
   },
   {
    "duration": 250,
    "start_time": "2021-11-17T09:20:55.895Z"
   },
   {
    "duration": 20,
    "start_time": "2021-11-17T09:20:56.147Z"
   },
   {
    "duration": 2902,
    "start_time": "2021-11-17T09:39:15.797Z"
   },
   {
    "duration": 1234,
    "start_time": "2021-11-17T09:39:18.702Z"
   },
   {
    "duration": 50,
    "start_time": "2021-11-17T09:39:19.938Z"
   },
   {
    "duration": 13,
    "start_time": "2021-11-17T09:39:19.990Z"
   },
   {
    "duration": 41,
    "start_time": "2021-11-17T09:39:20.005Z"
   },
   {
    "duration": 13,
    "start_time": "2021-11-17T09:39:20.048Z"
   },
   {
    "duration": 14,
    "start_time": "2021-11-17T09:39:20.063Z"
   },
   {
    "duration": 14,
    "start_time": "2021-11-17T09:39:20.079Z"
   },
   {
    "duration": 17,
    "start_time": "2021-11-17T09:39:20.096Z"
   },
   {
    "duration": 25,
    "start_time": "2021-11-17T09:39:20.115Z"
   },
   {
    "duration": 7,
    "start_time": "2021-11-17T09:39:20.141Z"
   },
   {
    "duration": 6,
    "start_time": "2021-11-17T09:39:20.149Z"
   },
   {
    "duration": 23,
    "start_time": "2021-11-17T09:39:20.157Z"
   },
   {
    "duration": 25,
    "start_time": "2021-11-17T09:39:20.182Z"
   },
   {
    "duration": 8,
    "start_time": "2021-11-17T09:39:20.209Z"
   },
   {
    "duration": 26,
    "start_time": "2021-11-17T09:39:20.219Z"
   },
   {
    "duration": 574,
    "start_time": "2021-11-17T09:39:20.247Z"
   },
   {
    "duration": 13,
    "start_time": "2021-11-17T09:39:20.823Z"
   },
   {
    "duration": 12,
    "start_time": "2021-11-17T09:39:20.838Z"
   },
   {
    "duration": 243,
    "start_time": "2021-11-17T09:39:20.852Z"
   },
   {
    "duration": 26,
    "start_time": "2021-11-17T09:39:21.098Z"
   },
   {
    "duration": 567,
    "start_time": "2021-11-17T09:40:46.724Z"
   },
   {
    "duration": 41,
    "start_time": "2021-11-17T09:40:56.324Z"
   },
   {
    "duration": 6,
    "start_time": "2021-11-17T09:43:45.498Z"
   },
   {
    "duration": 23,
    "start_time": "2021-11-17T09:43:54.931Z"
   },
   {
    "duration": 8,
    "start_time": "2021-11-17T09:46:23.184Z"
   },
   {
    "duration": 5,
    "start_time": "2021-11-17T09:46:29.315Z"
   },
   {
    "duration": 10,
    "start_time": "2021-11-17T09:46:31.146Z"
   },
   {
    "duration": 430,
    "start_time": "2021-11-17T09:47:27.644Z"
   },
   {
    "duration": 6,
    "start_time": "2021-11-17T09:47:41.459Z"
   },
   {
    "duration": 10,
    "start_time": "2021-11-17T09:47:48.813Z"
   },
   {
    "duration": 13,
    "start_time": "2021-11-17T09:48:12.140Z"
   },
   {
    "duration": 5,
    "start_time": "2021-11-17T09:49:18.964Z"
   },
   {
    "duration": 3,
    "start_time": "2021-11-17T09:49:22.519Z"
   },
   {
    "duration": 12,
    "start_time": "2021-11-17T09:49:30.217Z"
   },
   {
    "duration": 393,
    "start_time": "2021-11-17T09:51:02.321Z"
   },
   {
    "duration": 397,
    "start_time": "2021-11-17T09:51:54.353Z"
   },
   {
    "duration": 342,
    "start_time": "2021-11-17T09:52:07.929Z"
   },
   {
    "duration": 13,
    "start_time": "2021-11-17T09:52:45.257Z"
   },
   {
    "duration": 319,
    "start_time": "2021-11-17T09:52:49.457Z"
   },
   {
    "duration": 4,
    "start_time": "2021-11-17T09:53:13.422Z"
   },
   {
    "duration": 329,
    "start_time": "2021-11-17T09:53:18.396Z"
   },
   {
    "duration": 118,
    "start_time": "2021-11-17T09:56:47.945Z"
   },
   {
    "duration": 145,
    "start_time": "2021-11-17T09:56:57.328Z"
   },
   {
    "duration": 139,
    "start_time": "2021-11-17T09:57:03.969Z"
   },
   {
    "duration": 121,
    "start_time": "2021-11-17T10:00:24.823Z"
   },
   {
    "duration": 4,
    "start_time": "2021-11-17T10:00:31.738Z"
   },
   {
    "duration": 7,
    "start_time": "2021-11-17T10:00:42.159Z"
   },
   {
    "duration": 123,
    "start_time": "2021-11-17T10:02:19.000Z"
   },
   {
    "duration": 11,
    "start_time": "2021-11-17T10:02:23.315Z"
   },
   {
    "duration": 382,
    "start_time": "2021-11-17T10:05:59.515Z"
   },
   {
    "duration": 95,
    "start_time": "2021-11-17T10:06:26.774Z"
   },
   {
    "duration": 2,
    "start_time": "2021-11-17T10:08:59.002Z"
   },
   {
    "duration": 746,
    "start_time": "2021-11-17T10:09:12.624Z"
   },
   {
    "duration": 5,
    "start_time": "2021-11-17T10:10:18.752Z"
   },
   {
    "duration": 21,
    "start_time": "2021-11-17T10:10:33.481Z"
   },
   {
    "duration": 41,
    "start_time": "2021-11-17T10:11:03.216Z"
   },
   {
    "duration": 3034,
    "start_time": "2021-11-17T10:13:40.898Z"
   },
   {
    "duration": 15,
    "start_time": "2021-11-17T10:14:04.402Z"
   },
   {
    "duration": 329,
    "start_time": "2021-11-17T10:14:23.547Z"
   },
   {
    "duration": 617,
    "start_time": "2021-11-17T10:21:38.392Z"
   },
   {
    "duration": 346,
    "start_time": "2021-11-17T10:21:46.465Z"
   },
   {
    "duration": 591,
    "start_time": "2021-11-17T10:22:00.835Z"
   },
   {
    "duration": 329,
    "start_time": "2021-11-17T10:22:09.245Z"
   },
   {
    "duration": 566,
    "start_time": "2021-11-17T10:24:50.346Z"
   },
   {
    "duration": 544,
    "start_time": "2021-11-17T10:25:03.098Z"
   },
   {
    "duration": 21,
    "start_time": "2021-11-17T10:26:53.453Z"
   },
   {
    "duration": 17,
    "start_time": "2021-11-17T10:26:57.998Z"
   },
   {
    "duration": 877,
    "start_time": "2021-11-17T10:27:02.564Z"
   },
   {
    "duration": 19,
    "start_time": "2021-11-17T10:27:18.429Z"
   },
   {
    "duration": 16,
    "start_time": "2021-11-17T10:27:21.619Z"
   },
   {
    "duration": 510,
    "start_time": "2021-11-17T10:27:23.285Z"
   },
   {
    "duration": 195,
    "start_time": "2021-11-17T10:29:19.621Z"
   },
   {
    "duration": 989,
    "start_time": "2021-11-17T10:29:38.413Z"
   },
   {
    "duration": 582,
    "start_time": "2021-11-17T10:30:08.272Z"
   },
   {
    "duration": 756,
    "start_time": "2021-11-17T10:31:07.838Z"
   },
   {
    "duration": 2409,
    "start_time": "2021-11-17T10:31:44.806Z"
   },
   {
    "duration": 484,
    "start_time": "2021-11-17T10:33:37.870Z"
   },
   {
    "duration": 15,
    "start_time": "2021-11-17T10:34:03.159Z"
   },
   {
    "duration": 16,
    "start_time": "2021-11-17T10:34:20.535Z"
   },
   {
    "duration": 16,
    "start_time": "2021-11-17T10:34:23.381Z"
   },
   {
    "duration": 21,
    "start_time": "2021-11-17T10:35:18.984Z"
   },
   {
    "duration": 8,
    "start_time": "2021-11-17T10:35:21.025Z"
   },
   {
    "duration": 145,
    "start_time": "2021-11-17T10:36:04.173Z"
   },
   {
    "duration": 16,
    "start_time": "2021-11-17T10:36:09.986Z"
   },
   {
    "duration": 14,
    "start_time": "2021-11-17T10:36:12.148Z"
   },
   {
    "duration": 15,
    "start_time": "2021-11-17T10:36:34.294Z"
   },
   {
    "duration": 17,
    "start_time": "2021-11-17T10:36:36.247Z"
   },
   {
    "duration": 503,
    "start_time": "2021-11-17T10:36:49.843Z"
   },
   {
    "duration": 17,
    "start_time": "2021-11-17T10:37:11.607Z"
   },
   {
    "duration": 15,
    "start_time": "2021-11-17T10:37:13.285Z"
   },
   {
    "duration": 561,
    "start_time": "2021-11-17T10:37:17.997Z"
   },
   {
    "duration": 361,
    "start_time": "2021-11-17T11:02:36.555Z"
   },
   {
    "duration": 386,
    "start_time": "2021-11-17T11:02:48.226Z"
   },
   {
    "duration": 5,
    "start_time": "2021-11-17T11:03:36.067Z"
   },
   {
    "duration": 15,
    "start_time": "2021-11-17T11:03:43.465Z"
   },
   {
    "duration": 18,
    "start_time": "2021-11-17T11:03:47.211Z"
   },
   {
    "duration": 16,
    "start_time": "2021-11-17T11:03:56.438Z"
   },
   {
    "duration": 16,
    "start_time": "2021-11-17T11:04:06.945Z"
   },
   {
    "duration": 23,
    "start_time": "2021-11-17T11:04:12.008Z"
   },
   {
    "duration": 21,
    "start_time": "2021-11-17T11:05:11.571Z"
   },
   {
    "duration": 27,
    "start_time": "2021-11-17T11:08:24.886Z"
   },
   {
    "duration": 28,
    "start_time": "2021-11-17T11:08:33.199Z"
   },
   {
    "duration": 29,
    "start_time": "2021-11-17T11:08:50.511Z"
   },
   {
    "duration": 379,
    "start_time": "2021-11-17T11:12:49.845Z"
   },
   {
    "duration": 173,
    "start_time": "2021-11-17T11:13:04.910Z"
   },
   {
    "duration": 8,
    "start_time": "2021-11-17T11:13:09.174Z"
   },
   {
    "duration": 11,
    "start_time": "2021-11-17T11:13:17.395Z"
   },
   {
    "duration": 10,
    "start_time": "2021-11-17T11:13:26.769Z"
   },
   {
    "duration": 30,
    "start_time": "2021-11-17T11:21:48.067Z"
   },
   {
    "duration": 121,
    "start_time": "2021-11-17T11:22:36.949Z"
   },
   {
    "duration": 20,
    "start_time": "2021-11-17T11:22:42.183Z"
   },
   {
    "duration": 2861,
    "start_time": "2021-11-17T12:40:46.519Z"
   },
   {
    "duration": 1170,
    "start_time": "2021-11-17T12:40:49.382Z"
   },
   {
    "duration": 50,
    "start_time": "2021-11-17T12:40:50.554Z"
   },
   {
    "duration": 13,
    "start_time": "2021-11-17T12:40:50.606Z"
   },
   {
    "duration": 36,
    "start_time": "2021-11-17T12:40:50.620Z"
   },
   {
    "duration": 14,
    "start_time": "2021-11-17T12:40:50.658Z"
   },
   {
    "duration": 17,
    "start_time": "2021-11-17T12:40:50.675Z"
   },
   {
    "duration": 11,
    "start_time": "2021-11-17T12:40:50.707Z"
   },
   {
    "duration": 9,
    "start_time": "2021-11-17T12:40:50.721Z"
   },
   {
    "duration": 22,
    "start_time": "2021-11-17T12:40:50.732Z"
   },
   {
    "duration": 7,
    "start_time": "2021-11-17T12:40:50.756Z"
   },
   {
    "duration": 9,
    "start_time": "2021-11-17T12:40:50.764Z"
   },
   {
    "duration": 34,
    "start_time": "2021-11-17T12:40:50.774Z"
   },
   {
    "duration": 12,
    "start_time": "2021-11-17T12:40:50.809Z"
   },
   {
    "duration": 5,
    "start_time": "2021-11-17T12:40:50.823Z"
   },
   {
    "duration": 12,
    "start_time": "2021-11-17T12:40:50.830Z"
   },
   {
    "duration": 557,
    "start_time": "2021-11-17T12:40:50.844Z"
   },
   {
    "duration": 13,
    "start_time": "2021-11-17T12:40:51.407Z"
   },
   {
    "duration": 19,
    "start_time": "2021-11-17T12:40:51.423Z"
   },
   {
    "duration": 225,
    "start_time": "2021-11-17T12:40:51.444Z"
   },
   {
    "duration": 17,
    "start_time": "2021-11-17T12:40:51.672Z"
   },
   {
    "duration": 18,
    "start_time": "2021-11-17T12:40:51.691Z"
   },
   {
    "duration": 11,
    "start_time": "2021-11-17T12:40:51.713Z"
   },
   {
    "duration": 5,
    "start_time": "2021-11-17T12:40:51.727Z"
   },
   {
    "duration": 361,
    "start_time": "2021-11-17T12:40:51.734Z"
   },
   {
    "duration": 18,
    "start_time": "2021-11-17T12:40:52.097Z"
   },
   {
    "duration": 11,
    "start_time": "2021-11-17T12:40:52.117Z"
   },
   {
    "duration": 32,
    "start_time": "2021-11-17T12:40:52.130Z"
   },
   {
    "duration": 16,
    "start_time": "2021-11-17T12:40:52.164Z"
   },
   {
    "duration": 30,
    "start_time": "2021-11-17T12:40:52.183Z"
   },
   {
    "duration": 517,
    "start_time": "2021-11-17T12:40:52.215Z"
   },
   {
    "duration": 21,
    "start_time": "2021-11-17T12:40:52.734Z"
   },
   {
    "duration": 11,
    "start_time": "2021-11-17T12:40:52.757Z"
   },
   {
    "duration": 46,
    "start_time": "2021-11-17T12:40:52.770Z"
   },
   {
    "duration": 15,
    "start_time": "2021-11-17T12:42:37.667Z"
   },
   {
    "duration": 22,
    "start_time": "2021-11-17T12:42:49.147Z"
   },
   {
    "duration": 7,
    "start_time": "2021-11-17T12:43:37.547Z"
   },
   {
    "duration": 11,
    "start_time": "2021-11-17T12:43:46.657Z"
   },
   {
    "duration": 682,
    "start_time": "2021-11-17T12:44:35.117Z"
   },
   {
    "duration": 12,
    "start_time": "2021-11-17T12:44:47.666Z"
   },
   {
    "duration": 16,
    "start_time": "2021-11-17T12:45:10.938Z"
   },
   {
    "duration": 20,
    "start_time": "2021-11-17T12:45:24.469Z"
   },
   {
    "duration": 10,
    "start_time": "2021-11-17T12:45:27.915Z"
   },
   {
    "duration": 486,
    "start_time": "2021-11-17T12:46:52.778Z"
   },
   {
    "duration": 389,
    "start_time": "2021-11-17T12:50:14.602Z"
   },
   {
    "duration": 10,
    "start_time": "2021-11-17T12:50:35.845Z"
   },
   {
    "duration": 447,
    "start_time": "2021-11-17T12:50:39.555Z"
   },
   {
    "duration": 15,
    "start_time": "2021-11-17T12:51:02.835Z"
   },
   {
    "duration": 388,
    "start_time": "2021-11-17T12:51:10.703Z"
   },
   {
    "duration": 10,
    "start_time": "2021-11-17T12:51:56.456Z"
   },
   {
    "duration": 366,
    "start_time": "2021-11-17T12:52:14.736Z"
   },
   {
    "duration": 24,
    "start_time": "2021-11-17T12:52:53.481Z"
   },
   {
    "duration": 593,
    "start_time": "2021-11-17T12:53:02.682Z"
   },
   {
    "duration": 14,
    "start_time": "2021-11-17T12:54:03.806Z"
   },
   {
    "duration": 550,
    "start_time": "2021-11-17T12:54:12.850Z"
   },
   {
    "duration": 14,
    "start_time": "2021-11-17T12:54:49.896Z"
   },
   {
    "duration": 582,
    "start_time": "2021-11-17T12:54:57.567Z"
   },
   {
    "duration": 16,
    "start_time": "2021-11-17T13:00:42.094Z"
   },
   {
    "duration": 4,
    "start_time": "2021-11-17T13:04:16.328Z"
   },
   {
    "duration": 10,
    "start_time": "2021-11-17T13:04:23.608Z"
   },
   {
    "duration": 2644,
    "start_time": "2021-11-17T13:05:57.714Z"
   },
   {
    "duration": 26,
    "start_time": "2021-11-17T13:06:14.213Z"
   },
   {
    "duration": 14,
    "start_time": "2021-11-17T13:11:31.343Z"
   },
   {
    "duration": 14,
    "start_time": "2021-11-17T13:11:51.703Z"
   },
   {
    "duration": 25,
    "start_time": "2021-11-17T13:12:25.838Z"
   },
   {
    "duration": 16,
    "start_time": "2021-11-17T13:14:04.284Z"
   },
   {
    "duration": 12,
    "start_time": "2021-11-17T13:17:38.921Z"
   },
   {
    "duration": 338,
    "start_time": "2021-11-17T13:18:57.568Z"
   },
   {
    "duration": 300,
    "start_time": "2021-11-17T13:19:08.051Z"
   },
   {
    "duration": 386,
    "start_time": "2021-11-17T13:23:00.466Z"
   },
   {
    "duration": 16,
    "start_time": "2021-11-17T13:26:13.997Z"
   },
   {
    "duration": 308,
    "start_time": "2021-11-17T13:26:23.298Z"
   },
   {
    "duration": 16,
    "start_time": "2021-11-17T13:28:28.347Z"
   },
   {
    "duration": 681,
    "start_time": "2021-11-17T13:30:21.818Z"
   },
   {
    "duration": 308,
    "start_time": "2021-11-17T13:30:33.528Z"
   },
   {
    "duration": 663,
    "start_time": "2021-11-17T13:31:36.546Z"
   },
   {
    "duration": 295,
    "start_time": "2021-11-17T13:32:58.569Z"
   },
   {
    "duration": 637,
    "start_time": "2021-11-17T13:37:33.783Z"
   },
   {
    "duration": 370,
    "start_time": "2021-11-17T13:37:51.656Z"
   },
   {
    "duration": 377,
    "start_time": "2021-11-17T13:38:01.463Z"
   },
   {
    "duration": 724,
    "start_time": "2021-11-17T13:40:00.596Z"
   },
   {
    "duration": 771,
    "start_time": "2021-11-17T13:40:11.538Z"
   },
   {
    "duration": 291,
    "start_time": "2021-11-17T13:40:18.638Z"
   },
   {
    "duration": 639,
    "start_time": "2021-11-17T13:40:40.927Z"
   },
   {
    "duration": 306,
    "start_time": "2021-11-17T13:41:10.927Z"
   },
   {
    "duration": 288,
    "start_time": "2021-11-17T13:41:52.818Z"
   },
   {
    "duration": 529,
    "start_time": "2021-11-17T16:24:00.446Z"
   },
   {
    "duration": 5150,
    "start_time": "2021-11-17T16:24:09.754Z"
   },
   {
    "duration": 1413,
    "start_time": "2021-11-17T16:24:14.907Z"
   },
   {
    "duration": 83,
    "start_time": "2021-11-17T16:24:16.324Z"
   },
   {
    "duration": 27,
    "start_time": "2021-11-17T16:24:16.410Z"
   },
   {
    "duration": 61,
    "start_time": "2021-11-17T16:24:16.439Z"
   },
   {
    "duration": 18,
    "start_time": "2021-11-17T16:24:16.503Z"
   },
   {
    "duration": 34,
    "start_time": "2021-11-17T16:24:16.540Z"
   },
   {
    "duration": 128,
    "start_time": "2021-11-17T16:24:16.594Z"
   },
   {
    "duration": 103,
    "start_time": "2021-11-17T16:24:16.725Z"
   },
   {
    "duration": 163,
    "start_time": "2021-11-17T16:24:16.831Z"
   },
   {
    "duration": 91,
    "start_time": "2021-11-17T16:24:16.997Z"
   },
   {
    "duration": 81,
    "start_time": "2021-11-17T16:24:17.091Z"
   },
   {
    "duration": 48,
    "start_time": "2021-11-17T16:24:17.182Z"
   },
   {
    "duration": 21,
    "start_time": "2021-11-17T16:24:17.233Z"
   },
   {
    "duration": 12,
    "start_time": "2021-11-17T16:24:17.257Z"
   },
   {
    "duration": 19,
    "start_time": "2021-11-17T16:24:17.272Z"
   },
   {
    "duration": 904,
    "start_time": "2021-11-17T16:24:17.293Z"
   },
   {
    "duration": 17,
    "start_time": "2021-11-17T16:24:18.200Z"
   },
   {
    "duration": 16,
    "start_time": "2021-11-17T16:24:18.220Z"
   },
   {
    "duration": 371,
    "start_time": "2021-11-17T16:24:18.238Z"
   },
   {
    "duration": 7,
    "start_time": "2021-11-17T16:24:18.611Z"
   },
   {
    "duration": 20,
    "start_time": "2021-11-17T16:24:18.620Z"
   },
   {
    "duration": 22,
    "start_time": "2021-11-17T16:24:18.645Z"
   },
   {
    "duration": 577,
    "start_time": "2021-11-17T16:24:18.671Z"
   },
   {
    "duration": 27,
    "start_time": "2021-11-17T16:24:19.252Z"
   },
   {
    "duration": 7,
    "start_time": "2021-11-17T16:24:19.281Z"
   },
   {
    "duration": 28,
    "start_time": "2021-11-17T16:24:19.291Z"
   },
   {
    "duration": 60,
    "start_time": "2021-11-17T16:24:19.323Z"
   },
   {
    "duration": 27,
    "start_time": "2021-11-17T16:24:19.386Z"
   },
   {
    "duration": 868,
    "start_time": "2021-11-17T16:24:19.415Z"
   },
   {
    "duration": 33,
    "start_time": "2021-11-17T16:24:20.286Z"
   },
   {
    "duration": 45,
    "start_time": "2021-11-17T16:24:20.322Z"
   },
   {
    "duration": 35,
    "start_time": "2021-11-17T16:24:20.370Z"
   },
   {
    "duration": 19,
    "start_time": "2021-11-17T16:24:20.408Z"
   },
   {
    "duration": 990,
    "start_time": "2021-11-17T16:24:20.429Z"
   },
   {
    "duration": 61,
    "start_time": "2021-11-17T16:24:21.421Z"
   },
   {
    "duration": 25,
    "start_time": "2021-11-17T16:24:21.485Z"
   },
   {
    "duration": 589,
    "start_time": "2021-11-17T16:24:21.512Z"
   },
   {
    "duration": 18,
    "start_time": "2021-11-17T16:24:22.103Z"
   },
   {
    "duration": 48,
    "start_time": "2021-11-17T16:41:42.335Z"
   },
   {
    "duration": 11,
    "start_time": "2021-11-17T16:44:55.057Z"
   },
   {
    "duration": 17,
    "start_time": "2021-11-17T16:45:23.938Z"
   },
   {
    "duration": 33,
    "start_time": "2021-11-17T16:47:06.565Z"
   },
   {
    "duration": 6,
    "start_time": "2021-11-17T16:47:23.779Z"
   },
   {
    "duration": 31,
    "start_time": "2021-11-17T16:47:27.325Z"
   },
   {
    "duration": 7,
    "start_time": "2021-11-17T16:47:38.446Z"
   },
   {
    "duration": 36,
    "start_time": "2021-11-17T16:47:40.356Z"
   },
   {
    "duration": 10,
    "start_time": "2021-11-17T16:48:06.517Z"
   },
   {
    "duration": 33,
    "start_time": "2021-11-17T16:49:32.993Z"
   },
   {
    "duration": 32,
    "start_time": "2021-11-17T16:49:51.849Z"
   },
   {
    "duration": 7,
    "start_time": "2021-11-17T16:53:28.849Z"
   },
   {
    "duration": 7,
    "start_time": "2021-11-17T16:53:31.025Z"
   },
   {
    "duration": 644,
    "start_time": "2021-11-17T16:53:41.408Z"
   },
   {
    "duration": 606,
    "start_time": "2021-11-17T16:54:35.982Z"
   },
   {
    "duration": 505,
    "start_time": "2021-11-17T17:02:42.701Z"
   },
   {
    "duration": 361,
    "start_time": "2021-11-17T17:03:34.393Z"
   },
   {
    "duration": 17,
    "start_time": "2021-11-17T17:03:43.760Z"
   },
   {
    "duration": 422,
    "start_time": "2021-11-17T17:12:06.524Z"
   },
   {
    "duration": 3569,
    "start_time": "2021-11-17T17:16:59.764Z"
   },
   {
    "duration": 1446,
    "start_time": "2021-11-17T17:17:03.336Z"
   },
   {
    "duration": 66,
    "start_time": "2021-11-17T17:17:04.785Z"
   },
   {
    "duration": 22,
    "start_time": "2021-11-17T17:17:04.854Z"
   },
   {
    "duration": 53,
    "start_time": "2021-11-17T17:17:04.878Z"
   },
   {
    "duration": 31,
    "start_time": "2021-11-17T17:17:04.933Z"
   },
   {
    "duration": 17,
    "start_time": "2021-11-17T17:17:04.967Z"
   },
   {
    "duration": 15,
    "start_time": "2021-11-17T17:17:04.988Z"
   },
   {
    "duration": 9,
    "start_time": "2021-11-17T17:17:05.006Z"
   },
   {
    "duration": 48,
    "start_time": "2021-11-17T17:17:05.017Z"
   },
   {
    "duration": 9,
    "start_time": "2021-11-17T17:17:05.068Z"
   },
   {
    "duration": 10,
    "start_time": "2021-11-17T17:17:05.079Z"
   },
   {
    "duration": 35,
    "start_time": "2021-11-17T17:17:05.092Z"
   },
   {
    "duration": 38,
    "start_time": "2021-11-17T17:17:05.129Z"
   },
   {
    "duration": 8,
    "start_time": "2021-11-17T17:17:05.170Z"
   },
   {
    "duration": 20,
    "start_time": "2021-11-17T17:17:05.181Z"
   },
   {
    "duration": 969,
    "start_time": "2021-11-17T17:17:05.204Z"
   },
   {
    "duration": 18,
    "start_time": "2021-11-17T17:17:06.175Z"
   },
   {
    "duration": 14,
    "start_time": "2021-11-17T17:17:06.195Z"
   },
   {
    "duration": 378,
    "start_time": "2021-11-17T17:17:06.211Z"
   },
   {
    "duration": 8,
    "start_time": "2021-11-17T17:17:06.592Z"
   },
   {
    "duration": 22,
    "start_time": "2021-11-17T17:17:06.603Z"
   },
   {
    "duration": 32,
    "start_time": "2021-11-17T17:17:06.630Z"
   },
   {
    "duration": 545,
    "start_time": "2021-11-17T17:17:06.665Z"
   },
   {
    "duration": 15,
    "start_time": "2021-11-17T17:17:07.213Z"
   },
   {
    "duration": 29,
    "start_time": "2021-11-17T17:17:07.230Z"
   },
   {
    "duration": 29,
    "start_time": "2021-11-17T17:17:07.261Z"
   },
   {
    "duration": 22,
    "start_time": "2021-11-17T17:17:07.292Z"
   },
   {
    "duration": 44,
    "start_time": "2021-11-17T17:17:07.317Z"
   },
   {
    "duration": 824,
    "start_time": "2021-11-17T17:17:07.364Z"
   },
   {
    "duration": 32,
    "start_time": "2021-11-17T17:17:08.190Z"
   },
   {
    "duration": 38,
    "start_time": "2021-11-17T17:17:08.225Z"
   },
   {
    "duration": 35,
    "start_time": "2021-11-17T17:17:08.265Z"
   },
   {
    "duration": 18,
    "start_time": "2021-11-17T17:17:08.303Z"
   },
   {
    "duration": 936,
    "start_time": "2021-11-17T17:17:08.323Z"
   },
   {
    "duration": 37,
    "start_time": "2021-11-17T17:17:09.261Z"
   },
   {
    "duration": 21,
    "start_time": "2021-11-17T17:17:09.300Z"
   },
   {
    "duration": 578,
    "start_time": "2021-11-17T17:17:09.324Z"
   },
   {
    "duration": 7,
    "start_time": "2021-11-17T17:17:09.904Z"
   },
   {
    "duration": 26,
    "start_time": "2021-11-17T17:17:09.913Z"
   },
   {
    "duration": 33,
    "start_time": "2021-11-17T17:17:09.941Z"
   },
   {
    "duration": 668,
    "start_time": "2021-11-17T17:17:09.976Z"
   },
   {
    "duration": 657,
    "start_time": "2021-11-17T17:17:10.647Z"
   },
   {
    "duration": 6,
    "start_time": "2021-11-17T17:17:11.307Z"
   },
   {
    "duration": 143,
    "start_time": "2021-11-17T17:17:11.315Z"
   },
   {
    "duration": 4,
    "start_time": "2021-11-17T17:32:56.717Z"
   },
   {
    "duration": 3595,
    "start_time": "2021-11-17T17:34:28.713Z"
   },
   {
    "duration": 1363,
    "start_time": "2021-11-17T17:34:32.312Z"
   },
   {
    "duration": 66,
    "start_time": "2021-11-17T17:34:33.679Z"
   },
   {
    "duration": 28,
    "start_time": "2021-11-17T17:34:33.748Z"
   },
   {
    "duration": 50,
    "start_time": "2021-11-17T17:34:33.778Z"
   },
   {
    "duration": 31,
    "start_time": "2021-11-17T17:34:33.831Z"
   },
   {
    "duration": 15,
    "start_time": "2021-11-17T17:34:33.865Z"
   },
   {
    "duration": 15,
    "start_time": "2021-11-17T17:34:33.886Z"
   },
   {
    "duration": 7,
    "start_time": "2021-11-17T17:34:33.905Z"
   },
   {
    "duration": 62,
    "start_time": "2021-11-17T17:34:33.915Z"
   },
   {
    "duration": 11,
    "start_time": "2021-11-17T17:34:33.980Z"
   },
   {
    "duration": 5,
    "start_time": "2021-11-17T17:34:33.994Z"
   },
   {
    "duration": 63,
    "start_time": "2021-11-17T17:34:34.001Z"
   },
   {
    "duration": 15,
    "start_time": "2021-11-17T17:34:34.066Z"
   },
   {
    "duration": 7,
    "start_time": "2021-11-17T17:34:34.083Z"
   },
   {
    "duration": 16,
    "start_time": "2021-11-17T17:34:34.092Z"
   },
   {
    "duration": 1060,
    "start_time": "2021-11-17T17:34:34.111Z"
   },
   {
    "duration": 18,
    "start_time": "2021-11-17T17:34:35.174Z"
   },
   {
    "duration": 13,
    "start_time": "2021-11-17T17:34:35.195Z"
   },
   {
    "duration": 378,
    "start_time": "2021-11-17T17:34:35.210Z"
   },
   {
    "duration": 9,
    "start_time": "2021-11-17T17:34:35.590Z"
   },
   {
    "duration": 18,
    "start_time": "2021-11-17T17:34:35.601Z"
   },
   {
    "duration": 38,
    "start_time": "2021-11-17T17:34:35.624Z"
   },
   {
    "duration": 668,
    "start_time": "2021-11-17T17:34:35.665Z"
   },
   {
    "duration": 28,
    "start_time": "2021-11-17T17:34:36.336Z"
   },
   {
    "duration": 19,
    "start_time": "2021-11-17T17:34:36.366Z"
   },
   {
    "duration": 36,
    "start_time": "2021-11-17T17:34:36.388Z"
   },
   {
    "duration": 37,
    "start_time": "2021-11-17T17:34:36.427Z"
   },
   {
    "duration": 25,
    "start_time": "2021-11-17T17:34:36.467Z"
   },
   {
    "duration": 823,
    "start_time": "2021-11-17T17:34:36.495Z"
   },
   {
    "duration": 46,
    "start_time": "2021-11-17T17:34:37.321Z"
   },
   {
    "duration": 16,
    "start_time": "2021-11-17T17:34:37.370Z"
   },
   {
    "duration": 37,
    "start_time": "2021-11-17T17:34:37.389Z"
   },
   {
    "duration": 49,
    "start_time": "2021-11-17T17:34:37.428Z"
   },
   {
    "duration": 925,
    "start_time": "2021-11-17T17:34:37.480Z"
   },
   {
    "duration": 54,
    "start_time": "2021-11-17T17:34:38.407Z"
   },
   {
    "duration": 21,
    "start_time": "2021-11-17T17:34:38.464Z"
   },
   {
    "duration": 581,
    "start_time": "2021-11-17T17:34:38.488Z"
   },
   {
    "duration": 6,
    "start_time": "2021-11-17T17:34:39.071Z"
   },
   {
    "duration": 19,
    "start_time": "2021-11-17T17:34:39.081Z"
   },
   {
    "duration": 18,
    "start_time": "2021-11-17T17:34:39.103Z"
   },
   {
    "duration": 693,
    "start_time": "2021-11-17T17:34:39.123Z"
   },
   {
    "duration": 665,
    "start_time": "2021-11-17T17:34:39.818Z"
   },
   {
    "duration": 6,
    "start_time": "2021-11-17T17:34:40.486Z"
   },
   {
    "duration": 15,
    "start_time": "2021-11-17T17:34:40.494Z"
   },
   {
    "duration": 5,
    "start_time": "2021-11-17T17:35:44.717Z"
   },
   {
    "duration": 855,
    "start_time": "2021-11-17T17:36:11.108Z"
   },
   {
    "duration": 3974,
    "start_time": "2021-11-17T17:36:30.094Z"
   },
   {
    "duration": 1547,
    "start_time": "2021-11-17T17:36:34.072Z"
   },
   {
    "duration": 67,
    "start_time": "2021-11-17T17:36:35.622Z"
   },
   {
    "duration": 19,
    "start_time": "2021-11-17T17:36:35.692Z"
   },
   {
    "duration": 63,
    "start_time": "2021-11-17T17:36:35.713Z"
   },
   {
    "duration": 21,
    "start_time": "2021-11-17T17:36:35.778Z"
   },
   {
    "duration": 10,
    "start_time": "2021-11-17T17:36:35.802Z"
   },
   {
    "duration": 44,
    "start_time": "2021-11-17T17:36:35.816Z"
   },
   {
    "duration": 6,
    "start_time": "2021-11-17T17:36:35.863Z"
   },
   {
    "duration": 40,
    "start_time": "2021-11-17T17:36:35.871Z"
   },
   {
    "duration": 12,
    "start_time": "2021-11-17T17:36:35.913Z"
   },
   {
    "duration": 6,
    "start_time": "2021-11-17T17:36:35.927Z"
   },
   {
    "duration": 43,
    "start_time": "2021-11-17T17:36:35.935Z"
   },
   {
    "duration": 15,
    "start_time": "2021-11-17T17:36:35.980Z"
   },
   {
    "duration": 8,
    "start_time": "2021-11-17T17:36:35.998Z"
   },
   {
    "duration": 53,
    "start_time": "2021-11-17T17:36:36.008Z"
   },
   {
    "duration": 957,
    "start_time": "2021-11-17T17:36:36.064Z"
   },
   {
    "duration": 18,
    "start_time": "2021-11-17T17:36:37.023Z"
   },
   {
    "duration": 27,
    "start_time": "2021-11-17T17:36:37.043Z"
   },
   {
    "duration": 357,
    "start_time": "2021-11-17T17:36:37.072Z"
   },
   {
    "duration": 7,
    "start_time": "2021-11-17T17:36:37.432Z"
   },
   {
    "duration": 32,
    "start_time": "2021-11-17T17:36:37.441Z"
   },
   {
    "duration": 8,
    "start_time": "2021-11-17T17:36:37.478Z"
   },
   {
    "duration": 558,
    "start_time": "2021-11-17T17:36:37.488Z"
   },
   {
    "duration": 23,
    "start_time": "2021-11-17T17:36:38.049Z"
   },
   {
    "duration": 7,
    "start_time": "2021-11-17T17:36:38.075Z"
   },
   {
    "duration": 42,
    "start_time": "2021-11-17T17:36:38.085Z"
   },
   {
    "duration": 38,
    "start_time": "2021-11-17T17:36:38.130Z"
   },
   {
    "duration": 25,
    "start_time": "2021-11-17T17:36:38.171Z"
   },
   {
    "duration": 847,
    "start_time": "2021-11-17T17:36:38.199Z"
   },
   {
    "duration": 43,
    "start_time": "2021-11-17T17:36:39.048Z"
   },
   {
    "duration": 16,
    "start_time": "2021-11-17T17:36:39.093Z"
   },
   {
    "duration": 61,
    "start_time": "2021-11-17T17:36:39.112Z"
   },
   {
    "duration": 21,
    "start_time": "2021-11-17T17:36:39.175Z"
   },
   {
    "duration": 930,
    "start_time": "2021-11-17T17:36:39.198Z"
   },
   {
    "duration": 50,
    "start_time": "2021-11-17T17:36:40.130Z"
   },
   {
    "duration": 23,
    "start_time": "2021-11-17T17:36:40.182Z"
   },
   {
    "duration": 562,
    "start_time": "2021-11-17T17:36:40.208Z"
   },
   {
    "duration": 7,
    "start_time": "2021-11-17T17:36:40.773Z"
   },
   {
    "duration": 16,
    "start_time": "2021-11-17T17:36:40.783Z"
   },
   {
    "duration": 11,
    "start_time": "2021-11-17T17:36:40.801Z"
   },
   {
    "duration": 678,
    "start_time": "2021-11-17T17:36:40.814Z"
   },
   {
    "duration": 624,
    "start_time": "2021-11-17T17:36:41.495Z"
   },
   {
    "duration": 7,
    "start_time": "2021-11-17T17:36:42.122Z"
   },
   {
    "duration": 30,
    "start_time": "2021-11-17T17:36:42.132Z"
   },
   {
    "duration": 501,
    "start_time": "2021-11-17T17:36:42.164Z"
   },
   {
    "duration": 369,
    "start_time": "2021-11-17T17:36:57.943Z"
   },
   {
    "duration": 31,
    "start_time": "2021-11-17T17:37:39.323Z"
   },
   {
    "duration": 386,
    "start_time": "2021-11-17T17:38:35.876Z"
   },
   {
    "duration": 349,
    "start_time": "2021-11-17T17:39:47.136Z"
   },
   {
    "duration": 10712,
    "start_time": "2021-11-17T17:40:09.394Z"
   },
   {
    "duration": 8754,
    "start_time": "2021-11-17T17:40:45.067Z"
   },
   {
    "duration": 429,
    "start_time": "2021-11-17T17:41:01.884Z"
   },
   {
    "duration": 5,
    "start_time": "2021-11-17T17:43:04.903Z"
   },
   {
    "duration": 5,
    "start_time": "2021-11-17T17:43:07.203Z"
   },
   {
    "duration": 18,
    "start_time": "2021-11-17T17:43:10.947Z"
   },
   {
    "duration": 18,
    "start_time": "2021-11-17T17:43:18.809Z"
   },
   {
    "duration": 2613,
    "start_time": "2021-11-17T17:44:17.212Z"
   },
   {
    "duration": 2627,
    "start_time": "2021-11-17T17:44:35.875Z"
   },
   {
    "duration": 9530,
    "start_time": "2021-11-17T17:46:29.288Z"
   },
   {
    "duration": 4,
    "start_time": "2021-11-17T17:48:26.093Z"
   },
   {
    "duration": 340,
    "start_time": "2021-11-17T17:48:27.772Z"
   },
   {
    "duration": 352,
    "start_time": "2021-11-17T17:48:37.261Z"
   },
   {
    "duration": 518,
    "start_time": "2021-11-17T17:49:02.188Z"
   },
   {
    "duration": 5,
    "start_time": "2021-11-17T17:49:57.582Z"
   },
   {
    "duration": 15,
    "start_time": "2021-11-17T17:50:01.197Z"
   },
   {
    "duration": 356,
    "start_time": "2021-11-17T17:50:14.277Z"
   },
   {
    "duration": 2623,
    "start_time": "2021-11-17T17:50:58.705Z"
   },
   {
    "duration": 2749,
    "start_time": "2021-11-17T17:51:35.050Z"
   },
   {
    "duration": 115,
    "start_time": "2021-11-17T17:51:59.299Z"
   },
   {
    "duration": 341,
    "start_time": "2021-11-17T17:52:19.615Z"
   },
   {
    "duration": 356,
    "start_time": "2021-11-17T17:52:40.055Z"
   },
   {
    "duration": 37,
    "start_time": "2021-11-17T17:54:59.013Z"
   },
   {
    "duration": 10,
    "start_time": "2021-11-17T17:56:29.372Z"
   },
   {
    "duration": 17,
    "start_time": "2021-11-17T17:56:45.457Z"
   },
   {
    "duration": 9379,
    "start_time": "2021-11-17T17:57:24.384Z"
   },
   {
    "duration": 7,
    "start_time": "2021-11-17T17:57:49.884Z"
   },
   {
    "duration": 7,
    "start_time": "2021-11-17T17:57:51.629Z"
   },
   {
    "duration": 17,
    "start_time": "2021-11-17T17:57:54.896Z"
   },
   {
    "duration": 9363,
    "start_time": "2021-11-17T17:58:11.970Z"
   },
   {
    "duration": 14938,
    "start_time": "2021-11-17T17:58:35.549Z"
   },
   {
    "duration": 25,
    "start_time": "2021-11-17T17:59:15.359Z"
   },
   {
    "duration": 12,
    "start_time": "2021-11-17T17:59:32.483Z"
   },
   {
    "duration": 10,
    "start_time": "2021-11-17T17:59:41.795Z"
   },
   {
    "duration": 13,
    "start_time": "2021-11-17T17:59:44.670Z"
   },
   {
    "duration": 20,
    "start_time": "2021-11-17T18:00:12.048Z"
   },
   {
    "duration": 17,
    "start_time": "2021-11-17T18:00:20.344Z"
   },
   {
    "duration": 5,
    "start_time": "2021-11-17T18:01:19.527Z"
   },
   {
    "duration": 384,
    "start_time": "2021-11-17T18:01:30.351Z"
   },
   {
    "duration": 17,
    "start_time": "2021-11-17T18:02:25.022Z"
   },
   {
    "duration": 16,
    "start_time": "2021-11-17T18:02:50.315Z"
   },
   {
    "duration": 17,
    "start_time": "2021-11-17T18:03:08.352Z"
   },
   {
    "duration": 399,
    "start_time": "2021-11-17T18:03:09.986Z"
   },
   {
    "duration": 5,
    "start_time": "2021-11-17T18:04:00.410Z"
   },
   {
    "duration": 5,
    "start_time": "2021-11-17T18:04:06.698Z"
   },
   {
    "duration": 464,
    "start_time": "2021-11-17T18:04:09.978Z"
   },
   {
    "duration": 1474,
    "start_time": "2021-11-17T18:04:35.185Z"
   },
   {
    "duration": 5,
    "start_time": "2021-11-17T18:07:38.572Z"
   },
   {
    "duration": 5,
    "start_time": "2021-11-17T18:07:40.291Z"
   },
   {
    "duration": 1305,
    "start_time": "2021-11-17T18:07:41.862Z"
   },
   {
    "duration": 5,
    "start_time": "2021-11-17T18:10:26.995Z"
   },
   {
    "duration": 1336,
    "start_time": "2021-11-17T18:10:28.926Z"
   },
   {
    "duration": 5,
    "start_time": "2021-11-17T18:10:50.794Z"
   },
   {
    "duration": 1311,
    "start_time": "2021-11-17T18:10:52.499Z"
   },
   {
    "duration": 5,
    "start_time": "2021-11-17T18:11:19.812Z"
   },
   {
    "duration": 940,
    "start_time": "2021-11-17T18:11:23.575Z"
   },
   {
    "duration": 1225,
    "start_time": "2021-11-17T18:12:04.934Z"
   },
   {
    "duration": 7,
    "start_time": "2021-11-17T18:15:02.088Z"
   },
   {
    "duration": 2226,
    "start_time": "2021-11-17T18:15:05.765Z"
   },
   {
    "duration": 128,
    "start_time": "2021-11-17T18:15:21.355Z"
   },
   {
    "duration": 3536,
    "start_time": "2021-11-17T18:42:56.371Z"
   },
   {
    "duration": 1468,
    "start_time": "2021-11-17T18:42:59.910Z"
   },
   {
    "duration": 68,
    "start_time": "2021-11-17T18:43:01.381Z"
   },
   {
    "duration": 24,
    "start_time": "2021-11-17T18:43:01.452Z"
   },
   {
    "duration": 84,
    "start_time": "2021-11-17T18:43:01.479Z"
   },
   {
    "duration": 19,
    "start_time": "2021-11-17T18:43:01.566Z"
   },
   {
    "duration": 39,
    "start_time": "2021-11-17T18:43:01.588Z"
   },
   {
    "duration": 38,
    "start_time": "2021-11-17T18:43:01.631Z"
   },
   {
    "duration": 17,
    "start_time": "2021-11-17T18:43:01.672Z"
   },
   {
    "duration": 54,
    "start_time": "2021-11-17T18:43:01.692Z"
   },
   {
    "duration": 23,
    "start_time": "2021-11-17T18:43:01.749Z"
   },
   {
    "duration": 8,
    "start_time": "2021-11-17T18:43:01.775Z"
   },
   {
    "duration": 47,
    "start_time": "2021-11-17T18:43:01.785Z"
   },
   {
    "duration": 15,
    "start_time": "2021-11-17T18:43:01.834Z"
   },
   {
    "duration": 8,
    "start_time": "2021-11-17T18:43:01.852Z"
   },
   {
    "duration": 36,
    "start_time": "2021-11-17T18:43:01.862Z"
   },
   {
    "duration": 861,
    "start_time": "2021-11-17T18:43:01.901Z"
   },
   {
    "duration": 17,
    "start_time": "2021-11-17T18:43:02.764Z"
   },
   {
    "duration": 23,
    "start_time": "2021-11-17T18:43:02.783Z"
   },
   {
    "duration": 373,
    "start_time": "2021-11-17T18:43:02.809Z"
   },
   {
    "duration": 7,
    "start_time": "2021-11-17T18:43:03.185Z"
   },
   {
    "duration": 33,
    "start_time": "2021-11-17T18:43:03.194Z"
   },
   {
    "duration": 12,
    "start_time": "2021-11-17T18:43:03.232Z"
   },
   {
    "duration": 553,
    "start_time": "2021-11-17T18:43:03.261Z"
   },
   {
    "duration": 15,
    "start_time": "2021-11-17T18:43:03.816Z"
   },
   {
    "duration": 27,
    "start_time": "2021-11-17T18:43:03.834Z"
   },
   {
    "duration": 53,
    "start_time": "2021-11-17T18:43:03.864Z"
   },
   {
    "duration": 24,
    "start_time": "2021-11-17T18:43:03.921Z"
   },
   {
    "duration": 26,
    "start_time": "2021-11-17T18:43:03.948Z"
   },
   {
    "duration": 825,
    "start_time": "2021-11-17T18:43:03.977Z"
   },
   {
    "duration": 33,
    "start_time": "2021-11-17T18:43:04.804Z"
   },
   {
    "duration": 32,
    "start_time": "2021-11-17T18:43:04.839Z"
   },
   {
    "duration": 32,
    "start_time": "2021-11-17T18:43:04.873Z"
   },
   {
    "duration": 51,
    "start_time": "2021-11-17T18:43:04.908Z"
   },
   {
    "duration": 931,
    "start_time": "2021-11-17T18:43:04.962Z"
   },
   {
    "duration": 39,
    "start_time": "2021-11-17T18:43:05.895Z"
   },
   {
    "duration": 41,
    "start_time": "2021-11-17T18:43:05.936Z"
   },
   {
    "duration": 564,
    "start_time": "2021-11-17T18:43:05.980Z"
   },
   {
    "duration": 16,
    "start_time": "2021-11-17T18:43:06.548Z"
   },
   {
    "duration": 36,
    "start_time": "2021-11-17T18:43:06.567Z"
   },
   {
    "duration": 5,
    "start_time": "2021-11-17T18:43:06.605Z"
   },
   {
    "duration": 676,
    "start_time": "2021-11-17T18:43:06.612Z"
   },
   {
    "duration": 1330,
    "start_time": "2021-11-17T18:43:07.290Z"
   },
   {
    "duration": 7,
    "start_time": "2021-11-17T18:43:59.438Z"
   },
   {
    "duration": 1764,
    "start_time": "2021-11-17T18:44:02.660Z"
   },
   {
    "duration": 8,
    "start_time": "2021-11-17T18:45:11.189Z"
   },
   {
    "duration": 6,
    "start_time": "2021-11-17T18:45:36.150Z"
   },
   {
    "duration": 483,
    "start_time": "2021-11-17T18:45:38.016Z"
   },
   {
    "duration": 461,
    "start_time": "2021-11-17T18:46:04.660Z"
   },
   {
    "duration": 19,
    "start_time": "2021-11-17T18:46:16.905Z"
   },
   {
    "duration": 7,
    "start_time": "2021-11-17T18:46:39.973Z"
   },
   {
    "duration": 37,
    "start_time": "2021-11-17T18:46:46.170Z"
   },
   {
    "duration": 14,
    "start_time": "2021-11-17T18:48:06.440Z"
   },
   {
    "duration": 119,
    "start_time": "2021-11-17T18:48:34.268Z"
   },
   {
    "duration": 14,
    "start_time": "2021-11-17T18:48:46.730Z"
   },
   {
    "duration": 32,
    "start_time": "2021-11-17T18:49:11.267Z"
   },
   {
    "duration": 15,
    "start_time": "2021-11-17T18:49:19.629Z"
   },
   {
    "duration": 4228,
    "start_time": "2021-11-17T18:49:56.961Z"
   },
   {
    "duration": 1649,
    "start_time": "2021-11-17T18:50:01.192Z"
   },
   {
    "duration": 67,
    "start_time": "2021-11-17T18:50:02.844Z"
   },
   {
    "duration": 19,
    "start_time": "2021-11-17T18:50:02.914Z"
   },
   {
    "duration": 61,
    "start_time": "2021-11-17T18:50:02.936Z"
   },
   {
    "duration": 19,
    "start_time": "2021-11-17T18:50:03.000Z"
   },
   {
    "duration": 14,
    "start_time": "2021-11-17T18:50:03.022Z"
   },
   {
    "duration": 32,
    "start_time": "2021-11-17T18:50:03.041Z"
   },
   {
    "duration": 17,
    "start_time": "2021-11-17T18:50:03.076Z"
   },
   {
    "duration": 35,
    "start_time": "2021-11-17T18:50:03.096Z"
   },
   {
    "duration": 26,
    "start_time": "2021-11-17T18:50:03.133Z"
   },
   {
    "duration": 5,
    "start_time": "2021-11-17T18:50:03.162Z"
   },
   {
    "duration": 29,
    "start_time": "2021-11-17T18:50:03.169Z"
   },
   {
    "duration": 21,
    "start_time": "2021-11-17T18:50:03.200Z"
   },
   {
    "duration": 7,
    "start_time": "2021-11-17T18:50:03.224Z"
   },
   {
    "duration": 40,
    "start_time": "2021-11-17T18:50:03.234Z"
   },
   {
    "duration": 882,
    "start_time": "2021-11-17T18:50:03.277Z"
   },
   {
    "duration": 24,
    "start_time": "2021-11-17T18:50:04.162Z"
   },
   {
    "duration": 28,
    "start_time": "2021-11-17T18:50:04.189Z"
   },
   {
    "duration": 406,
    "start_time": "2021-11-17T18:50:04.220Z"
   },
   {
    "duration": 6,
    "start_time": "2021-11-17T18:50:04.629Z"
   },
   {
    "duration": 34,
    "start_time": "2021-11-17T18:50:04.638Z"
   },
   {
    "duration": 6,
    "start_time": "2021-11-17T18:50:04.679Z"
   },
   {
    "duration": 583,
    "start_time": "2021-11-17T18:50:04.689Z"
   },
   {
    "duration": 15,
    "start_time": "2021-11-17T18:50:05.274Z"
   },
   {
    "duration": 12,
    "start_time": "2021-11-17T18:50:05.292Z"
   },
   {
    "duration": 56,
    "start_time": "2021-11-17T18:50:05.307Z"
   },
   {
    "duration": 23,
    "start_time": "2021-11-17T18:50:05.366Z"
   },
   {
    "duration": 24,
    "start_time": "2021-11-17T18:50:05.391Z"
   },
   {
    "duration": 897,
    "start_time": "2021-11-17T18:50:05.417Z"
   },
   {
    "duration": 57,
    "start_time": "2021-11-17T18:50:06.317Z"
   },
   {
    "duration": 18,
    "start_time": "2021-11-17T18:50:06.377Z"
   },
   {
    "duration": 35,
    "start_time": "2021-11-17T18:50:06.397Z"
   },
   {
    "duration": 20,
    "start_time": "2021-11-17T18:50:06.460Z"
   },
   {
    "duration": 979,
    "start_time": "2021-11-17T18:50:06.482Z"
   },
   {
    "duration": 47,
    "start_time": "2021-11-17T18:50:07.463Z"
   },
   {
    "duration": 52,
    "start_time": "2021-11-17T18:50:07.513Z"
   },
   {
    "duration": 623,
    "start_time": "2021-11-17T18:50:07.568Z"
   },
   {
    "duration": 8,
    "start_time": "2021-11-17T18:50:08.194Z"
   },
   {
    "duration": 43,
    "start_time": "2021-11-17T18:50:08.204Z"
   },
   {
    "duration": 33,
    "start_time": "2021-11-17T18:50:08.260Z"
   },
   {
    "duration": 5,
    "start_time": "2021-11-17T18:50:08.296Z"
   },
   {
    "duration": 761,
    "start_time": "2021-11-17T18:50:08.304Z"
   },
   {
    "duration": 3746,
    "start_time": "2021-11-17T18:50:09.068Z"
   },
   {
    "duration": 3074,
    "start_time": "2021-11-17T18:50:50.578Z"
   },
   {
    "duration": 2660,
    "start_time": "2021-11-17T18:52:55.485Z"
   },
   {
    "duration": 12,
    "start_time": "2021-11-17T18:53:12.011Z"
   },
   {
    "duration": 9,
    "start_time": "2021-11-17T18:53:28.513Z"
   },
   {
    "duration": 5,
    "start_time": "2021-11-17T18:53:34.219Z"
   },
   {
    "duration": 5119,
    "start_time": "2021-11-17T18:53:36.281Z"
   },
   {
    "duration": 5338,
    "start_time": "2021-11-17T18:54:13.720Z"
   },
   {
    "duration": 5713,
    "start_time": "2021-11-17T18:54:22.656Z"
   },
   {
    "duration": 12,
    "start_time": "2021-11-17T18:54:52.071Z"
   },
   {
    "duration": 12,
    "start_time": "2021-11-17T18:55:57.622Z"
   },
   {
    "duration": 13,
    "start_time": "2021-11-17T18:56:01.022Z"
   },
   {
    "duration": 8,
    "start_time": "2021-11-17T18:56:16.372Z"
   },
   {
    "duration": 13,
    "start_time": "2021-11-17T18:56:26.071Z"
   },
   {
    "duration": 36,
    "start_time": "2021-11-17T18:56:44.106Z"
   },
   {
    "duration": 5,
    "start_time": "2021-11-17T18:56:52.312Z"
   },
   {
    "duration": 442,
    "start_time": "2021-11-17T18:56:59.189Z"
   },
   {
    "duration": 361,
    "start_time": "2021-11-17T18:57:17.469Z"
   },
   {
    "duration": 15,
    "start_time": "2021-11-17T18:57:53.115Z"
   },
   {
    "duration": 8,
    "start_time": "2021-11-17T18:58:45.478Z"
   },
   {
    "duration": 839,
    "start_time": "2021-11-17T18:59:24.206Z"
   },
   {
    "duration": 9,
    "start_time": "2021-11-17T18:59:29.405Z"
   },
   {
    "duration": 610,
    "start_time": "2021-11-17T18:59:52.872Z"
   },
   {
    "duration": 756,
    "start_time": "2021-11-17T19:00:03.560Z"
   },
   {
    "duration": 811,
    "start_time": "2021-11-17T19:00:10.538Z"
   },
   {
    "duration": 714,
    "start_time": "2021-11-17T19:00:14.119Z"
   },
   {
    "duration": 7,
    "start_time": "2021-11-17T19:00:37.490Z"
   },
   {
    "duration": 5,
    "start_time": "2021-11-17T19:00:53.513Z"
   },
   {
    "duration": 693,
    "start_time": "2021-11-17T19:00:56.059Z"
   },
   {
    "duration": 667,
    "start_time": "2021-11-17T19:01:00.497Z"
   },
   {
    "duration": 652,
    "start_time": "2021-11-17T19:04:45.936Z"
   },
   {
    "duration": 875,
    "start_time": "2021-11-17T19:04:58.315Z"
   },
   {
    "duration": 652,
    "start_time": "2021-11-17T19:05:04.669Z"
   },
   {
    "duration": 713,
    "start_time": "2021-11-17T19:05:15.432Z"
   },
   {
    "duration": 641,
    "start_time": "2021-11-17T19:05:27.098Z"
   },
   {
    "duration": 655,
    "start_time": "2021-11-17T19:05:34.660Z"
   },
   {
    "duration": 3417,
    "start_time": "2021-11-18T05:21:48.725Z"
   },
   {
    "duration": 1113,
    "start_time": "2021-11-18T05:21:52.144Z"
   },
   {
    "duration": 47,
    "start_time": "2021-11-18T05:21:53.259Z"
   },
   {
    "duration": 11,
    "start_time": "2021-11-18T05:21:53.308Z"
   },
   {
    "duration": 32,
    "start_time": "2021-11-18T05:21:53.320Z"
   },
   {
    "duration": 11,
    "start_time": "2021-11-18T05:21:53.354Z"
   },
   {
    "duration": 13,
    "start_time": "2021-11-18T05:21:53.366Z"
   },
   {
    "duration": 8,
    "start_time": "2021-11-18T05:21:53.381Z"
   },
   {
    "duration": 6,
    "start_time": "2021-11-18T05:21:53.391Z"
   },
   {
    "duration": 18,
    "start_time": "2021-11-18T05:21:53.398Z"
   },
   {
    "duration": 30,
    "start_time": "2021-11-18T05:21:53.418Z"
   },
   {
    "duration": 3,
    "start_time": "2021-11-18T05:21:53.450Z"
   },
   {
    "duration": 16,
    "start_time": "2021-11-18T05:21:53.455Z"
   },
   {
    "duration": 9,
    "start_time": "2021-11-18T05:21:53.473Z"
   },
   {
    "duration": 4,
    "start_time": "2021-11-18T05:21:53.484Z"
   },
   {
    "duration": 12,
    "start_time": "2021-11-18T05:21:53.490Z"
   },
   {
    "duration": 523,
    "start_time": "2021-11-18T05:21:53.504Z"
   },
   {
    "duration": 21,
    "start_time": "2021-11-18T05:21:54.028Z"
   },
   {
    "duration": 10,
    "start_time": "2021-11-18T05:21:54.051Z"
   },
   {
    "duration": 215,
    "start_time": "2021-11-18T05:21:54.062Z"
   },
   {
    "duration": 5,
    "start_time": "2021-11-18T05:21:54.278Z"
   },
   {
    "duration": 16,
    "start_time": "2021-11-18T05:21:54.285Z"
   },
   {
    "duration": 6,
    "start_time": "2021-11-18T05:21:54.304Z"
   },
   {
    "duration": 342,
    "start_time": "2021-11-18T05:21:54.312Z"
   },
   {
    "duration": 10,
    "start_time": "2021-11-18T05:21:54.656Z"
   },
   {
    "duration": 6,
    "start_time": "2021-11-18T05:21:54.668Z"
   },
   {
    "duration": 19,
    "start_time": "2021-11-18T05:21:54.676Z"
   },
   {
    "duration": 16,
    "start_time": "2021-11-18T05:21:54.697Z"
   },
   {
    "duration": 42,
    "start_time": "2021-11-18T05:21:54.715Z"
   },
   {
    "duration": 474,
    "start_time": "2021-11-18T05:21:54.759Z"
   },
   {
    "duration": 23,
    "start_time": "2021-11-18T05:21:55.235Z"
   },
   {
    "duration": 12,
    "start_time": "2021-11-18T05:21:55.259Z"
   },
   {
    "duration": 19,
    "start_time": "2021-11-18T05:21:55.273Z"
   },
   {
    "duration": 11,
    "start_time": "2021-11-18T05:21:55.294Z"
   },
   {
    "duration": 560,
    "start_time": "2021-11-18T05:21:55.307Z"
   },
   {
    "duration": 23,
    "start_time": "2021-11-18T05:21:55.869Z"
   },
   {
    "duration": 14,
    "start_time": "2021-11-18T05:21:55.895Z"
   },
   {
    "duration": 352,
    "start_time": "2021-11-18T05:21:55.910Z"
   },
   {
    "duration": 4,
    "start_time": "2021-11-18T05:21:56.264Z"
   },
   {
    "duration": 22,
    "start_time": "2021-11-18T05:21:56.270Z"
   },
   {
    "duration": 5,
    "start_time": "2021-11-18T05:21:56.294Z"
   },
   {
    "duration": 8,
    "start_time": "2021-11-18T05:21:56.300Z"
   },
   {
    "duration": 5,
    "start_time": "2021-11-18T05:21:56.309Z"
   },
   {
    "duration": 450,
    "start_time": "2021-11-18T05:21:56.315Z"
   },
   {
    "duration": 1478,
    "start_time": "2021-11-18T05:21:56.766Z"
   },
   {
    "duration": -239,
    "start_time": "2021-11-18T05:21:58.485Z"
   },
   {
    "duration": 443,
    "start_time": "2021-11-18T05:23:16.940Z"
   },
   {
    "duration": 6,
    "start_time": "2021-11-18T05:25:40.298Z"
   },
   {
    "duration": 6,
    "start_time": "2021-11-18T05:25:42.056Z"
   },
   {
    "duration": 4,
    "start_time": "2021-11-18T05:26:54.188Z"
   },
   {
    "duration": 4,
    "start_time": "2021-11-18T05:27:03.632Z"
   },
   {
    "duration": 6,
    "start_time": "2021-11-18T05:27:21.806Z"
   },
   {
    "duration": 4,
    "start_time": "2021-11-18T05:27:24.093Z"
   },
   {
    "duration": 4069,
    "start_time": "2021-11-18T05:28:04.343Z"
   },
   {
    "duration": 1142,
    "start_time": "2021-11-18T05:28:08.414Z"
   },
   {
    "duration": 61,
    "start_time": "2021-11-18T05:28:09.558Z"
   },
   {
    "duration": 12,
    "start_time": "2021-11-18T05:28:09.621Z"
   },
   {
    "duration": 30,
    "start_time": "2021-11-18T05:28:09.635Z"
   },
   {
    "duration": 11,
    "start_time": "2021-11-18T05:28:09.667Z"
   },
   {
    "duration": 9,
    "start_time": "2021-11-18T05:28:09.680Z"
   },
   {
    "duration": 8,
    "start_time": "2021-11-18T05:28:09.691Z"
   },
   {
    "duration": 6,
    "start_time": "2021-11-18T05:28:09.701Z"
   },
   {
    "duration": 44,
    "start_time": "2021-11-18T05:28:09.708Z"
   },
   {
    "duration": 8,
    "start_time": "2021-11-18T05:28:09.753Z"
   },
   {
    "duration": 3,
    "start_time": "2021-11-18T05:28:09.763Z"
   },
   {
    "duration": 16,
    "start_time": "2021-11-18T05:28:09.768Z"
   },
   {
    "duration": 9,
    "start_time": "2021-11-18T05:28:09.786Z"
   },
   {
    "duration": 4,
    "start_time": "2021-11-18T05:28:09.797Z"
   },
   {
    "duration": 41,
    "start_time": "2021-11-18T05:28:09.803Z"
   },
   {
    "duration": 714,
    "start_time": "2021-11-18T05:28:09.846Z"
   },
   {
    "duration": 12,
    "start_time": "2021-11-18T05:28:10.562Z"
   },
   {
    "duration": 10,
    "start_time": "2021-11-18T05:28:10.576Z"
   },
   {
    "duration": 220,
    "start_time": "2021-11-18T05:28:10.588Z"
   },
   {
    "duration": 4,
    "start_time": "2021-11-18T05:28:10.810Z"
   },
   {
    "duration": 15,
    "start_time": "2021-11-18T05:28:10.816Z"
   },
   {
    "duration": 13,
    "start_time": "2021-11-18T05:28:10.834Z"
   },
   {
    "duration": 479,
    "start_time": "2021-11-18T05:28:10.849Z"
   },
   {
    "duration": 27,
    "start_time": "2021-11-18T05:28:11.330Z"
   },
   {
    "duration": 19,
    "start_time": "2021-11-18T05:28:11.359Z"
   },
   {
    "duration": 25,
    "start_time": "2021-11-18T05:28:11.380Z"
   },
   {
    "duration": 19,
    "start_time": "2021-11-18T05:28:11.407Z"
   },
   {
    "duration": 19,
    "start_time": "2021-11-18T05:28:11.428Z"
   },
   {
    "duration": 497,
    "start_time": "2021-11-18T05:28:11.448Z"
   },
   {
    "duration": 21,
    "start_time": "2021-11-18T05:28:11.946Z"
   },
   {
    "duration": 11,
    "start_time": "2021-11-18T05:28:11.968Z"
   },
   {
    "duration": 29,
    "start_time": "2021-11-18T05:28:11.981Z"
   },
   {
    "duration": 41,
    "start_time": "2021-11-18T05:28:12.013Z"
   },
   {
    "duration": 542,
    "start_time": "2021-11-18T05:28:12.055Z"
   },
   {
    "duration": 25,
    "start_time": "2021-11-18T05:28:12.599Z"
   },
   {
    "duration": 28,
    "start_time": "2021-11-18T05:28:12.626Z"
   },
   {
    "duration": 360,
    "start_time": "2021-11-18T05:28:12.655Z"
   },
   {
    "duration": 5,
    "start_time": "2021-11-18T05:28:13.016Z"
   },
   {
    "duration": 32,
    "start_time": "2021-11-18T05:28:13.023Z"
   },
   {
    "duration": 6,
    "start_time": "2021-11-18T05:28:13.056Z"
   },
   {
    "duration": 7,
    "start_time": "2021-11-18T05:28:13.063Z"
   },
   {
    "duration": 4,
    "start_time": "2021-11-18T05:28:13.072Z"
   },
   {
    "duration": 441,
    "start_time": "2021-11-18T05:28:13.078Z"
   },
   {
    "duration": 470,
    "start_time": "2021-11-18T05:28:13.521Z"
   },
   {
    "duration": 445,
    "start_time": "2021-11-18T05:28:13.992Z"
   },
   {
    "duration": 4,
    "start_time": "2021-11-18T05:28:22.668Z"
   },
   {
    "duration": 6,
    "start_time": "2021-11-18T05:28:37.913Z"
   },
   {
    "duration": 5,
    "start_time": "2021-11-18T05:28:39.444Z"
   },
   {
    "duration": 436,
    "start_time": "2021-11-18T05:28:40.909Z"
   },
   {
    "duration": 1717,
    "start_time": "2021-11-18T05:28:45.202Z"
   },
   {
    "duration": 275,
    "start_time": "2021-11-18T05:29:33.562Z"
   },
   {
    "duration": 5,
    "start_time": "2021-11-18T05:29:51.994Z"
   },
   {
    "duration": 430,
    "start_time": "2021-11-18T05:30:04.055Z"
   },
   {
    "duration": 7,
    "start_time": "2021-11-18T05:30:13.759Z"
   },
   {
    "duration": 442,
    "start_time": "2021-11-18T05:30:22.924Z"
   },
   {
    "duration": 3347,
    "start_time": "2021-11-18T10:08:41.700Z"
   },
   {
    "duration": 1049,
    "start_time": "2021-11-18T10:08:45.049Z"
   },
   {
    "duration": 44,
    "start_time": "2021-11-18T10:08:46.100Z"
   },
   {
    "duration": 11,
    "start_time": "2021-11-18T10:08:46.145Z"
   },
   {
    "duration": 29,
    "start_time": "2021-11-18T10:08:46.157Z"
   },
   {
    "duration": 10,
    "start_time": "2021-11-18T10:08:46.188Z"
   },
   {
    "duration": 7,
    "start_time": "2021-11-18T10:08:46.199Z"
   },
   {
    "duration": 8,
    "start_time": "2021-11-18T10:08:46.208Z"
   },
   {
    "duration": 5,
    "start_time": "2021-11-18T10:08:46.217Z"
   },
   {
    "duration": 14,
    "start_time": "2021-11-18T10:08:46.224Z"
   },
   {
    "duration": 7,
    "start_time": "2021-11-18T10:08:46.239Z"
   },
   {
    "duration": 3,
    "start_time": "2021-11-18T10:08:46.248Z"
   },
   {
    "duration": 48,
    "start_time": "2021-11-18T10:08:46.253Z"
   },
   {
    "duration": 11,
    "start_time": "2021-11-18T10:08:46.302Z"
   },
   {
    "duration": 5,
    "start_time": "2021-11-18T10:08:46.314Z"
   },
   {
    "duration": 12,
    "start_time": "2021-11-18T10:08:46.321Z"
   },
   {
    "duration": 490,
    "start_time": "2021-11-18T10:08:46.335Z"
   },
   {
    "duration": 11,
    "start_time": "2021-11-18T10:08:46.827Z"
   },
   {
    "duration": 8,
    "start_time": "2021-11-18T10:08:46.840Z"
   },
   {
    "duration": 211,
    "start_time": "2021-11-18T10:08:46.850Z"
   },
   {
    "duration": 5,
    "start_time": "2021-11-18T10:08:47.062Z"
   },
   {
    "duration": 18,
    "start_time": "2021-11-18T10:08:47.068Z"
   },
   {
    "duration": 10,
    "start_time": "2021-11-18T10:08:47.089Z"
   },
   {
    "duration": 311,
    "start_time": "2021-11-18T10:08:47.100Z"
   },
   {
    "duration": 10,
    "start_time": "2021-11-18T10:08:47.413Z"
   },
   {
    "duration": 8,
    "start_time": "2021-11-18T10:08:47.425Z"
   },
   {
    "duration": 25,
    "start_time": "2021-11-18T10:08:47.434Z"
   },
   {
    "duration": 27,
    "start_time": "2021-11-18T10:08:47.460Z"
   },
   {
    "duration": 14,
    "start_time": "2021-11-18T10:08:47.489Z"
   },
   {
    "duration": 463,
    "start_time": "2021-11-18T10:08:47.505Z"
   },
   {
    "duration": 29,
    "start_time": "2021-11-18T10:08:47.970Z"
   },
   {
    "duration": 12,
    "start_time": "2021-11-18T10:08:48.001Z"
   },
   {
    "duration": 20,
    "start_time": "2021-11-18T10:08:48.015Z"
   },
   {
    "duration": 11,
    "start_time": "2021-11-18T10:08:48.037Z"
   },
   {
    "duration": 557,
    "start_time": "2021-11-18T10:08:48.050Z"
   },
   {
    "duration": 23,
    "start_time": "2021-11-18T10:08:48.608Z"
   },
   {
    "duration": 13,
    "start_time": "2021-11-18T10:08:48.633Z"
   },
   {
    "duration": 344,
    "start_time": "2021-11-18T10:08:48.648Z"
   },
   {
    "duration": 6,
    "start_time": "2021-11-18T10:08:48.994Z"
   },
   {
    "duration": 22,
    "start_time": "2021-11-18T10:08:49.001Z"
   },
   {
    "duration": 5,
    "start_time": "2021-11-18T10:08:49.025Z"
   },
   {
    "duration": 12,
    "start_time": "2021-11-18T10:08:49.031Z"
   },
   {
    "duration": 14,
    "start_time": "2021-11-18T10:08:49.044Z"
   },
   {
    "duration": 509,
    "start_time": "2021-11-18T10:08:49.059Z"
   },
   {
    "duration": 1387,
    "start_time": "2021-11-18T10:08:49.570Z"
   },
   {
    "duration": -190,
    "start_time": "2021-11-18T10:08:51.149Z"
   },
   {
    "duration": 1283,
    "start_time": "2021-11-18T10:09:13.931Z"
   },
   {
    "duration": 434,
    "start_time": "2021-11-18T10:09:18.377Z"
   },
   {
    "duration": 418,
    "start_time": "2021-11-18T10:09:46.869Z"
   },
   {
    "duration": 1233,
    "start_time": "2021-11-18T10:09:59.041Z"
   },
   {
    "duration": 1409,
    "start_time": "2021-11-18T10:10:16.841Z"
   },
   {
    "duration": 1421,
    "start_time": "2021-11-18T10:10:27.870Z"
   },
   {
    "duration": 19,
    "start_time": "2021-11-18T10:11:12.281Z"
   },
   {
    "duration": 5,
    "start_time": "2021-11-18T10:11:22.380Z"
   },
   {
    "duration": 6,
    "start_time": "2021-11-18T10:11:38.060Z"
   },
   {
    "duration": 1331,
    "start_time": "2021-11-18T10:11:42.769Z"
   },
   {
    "duration": 4,
    "start_time": "2021-11-18T10:12:22.419Z"
   },
   {
    "duration": 4,
    "start_time": "2021-11-18T10:13:11.349Z"
   },
   {
    "duration": 4,
    "start_time": "2021-11-18T10:13:14.181Z"
   },
   {
    "duration": 18,
    "start_time": "2021-11-18T10:13:29.160Z"
   },
   {
    "duration": 4,
    "start_time": "2021-11-18T10:13:41.039Z"
   },
   {
    "duration": 5,
    "start_time": "2021-11-18T10:13:46.680Z"
   },
   {
    "duration": 1249,
    "start_time": "2021-11-18T10:13:53.359Z"
   },
   {
    "duration": 5,
    "start_time": "2021-11-18T10:14:10.860Z"
   },
   {
    "duration": 1364,
    "start_time": "2021-11-18T10:14:19.050Z"
   },
   {
    "duration": 267,
    "start_time": "2021-11-18T10:14:50.578Z"
   },
   {
    "duration": 4,
    "start_time": "2021-11-18T10:15:09.848Z"
   },
   {
    "duration": 6,
    "start_time": "2021-11-18T10:18:17.377Z"
   },
   {
    "duration": 1292,
    "start_time": "2021-11-18T10:18:24.670Z"
   },
   {
    "duration": 3,
    "start_time": "2021-11-18T10:18:32.379Z"
   },
   {
    "duration": 1332,
    "start_time": "2021-11-18T10:18:35.519Z"
   },
   {
    "duration": 2249,
    "start_time": "2021-11-18T10:19:17.230Z"
   },
   {
    "duration": 1022,
    "start_time": "2021-11-18T10:19:19.482Z"
   },
   {
    "duration": 46,
    "start_time": "2021-11-18T10:19:20.506Z"
   },
   {
    "duration": 11,
    "start_time": "2021-11-18T10:19:20.554Z"
   },
   {
    "duration": 32,
    "start_time": "2021-11-18T10:19:20.567Z"
   },
   {
    "duration": 14,
    "start_time": "2021-11-18T10:19:20.601Z"
   },
   {
    "duration": 9,
    "start_time": "2021-11-18T10:19:20.617Z"
   },
   {
    "duration": 8,
    "start_time": "2021-11-18T10:19:20.628Z"
   },
   {
    "duration": 11,
    "start_time": "2021-11-18T10:19:20.638Z"
   },
   {
    "duration": 16,
    "start_time": "2021-11-18T10:19:20.650Z"
   },
   {
    "duration": 24,
    "start_time": "2021-11-18T10:19:20.667Z"
   },
   {
    "duration": 7,
    "start_time": "2021-11-18T10:19:20.692Z"
   },
   {
    "duration": 17,
    "start_time": "2021-11-18T10:19:20.700Z"
   },
   {
    "duration": 9,
    "start_time": "2021-11-18T10:19:20.719Z"
   },
   {
    "duration": 4,
    "start_time": "2021-11-18T10:19:20.729Z"
   },
   {
    "duration": 11,
    "start_time": "2021-11-18T10:19:20.734Z"
   },
   {
    "duration": 489,
    "start_time": "2021-11-18T10:19:20.746Z"
   },
   {
    "duration": 12,
    "start_time": "2021-11-18T10:19:21.237Z"
   },
   {
    "duration": 7,
    "start_time": "2021-11-18T10:19:21.251Z"
   },
   {
    "duration": 207,
    "start_time": "2021-11-18T10:19:21.259Z"
   },
   {
    "duration": 4,
    "start_time": "2021-11-18T10:19:21.468Z"
   },
   {
    "duration": 15,
    "start_time": "2021-11-18T10:19:21.474Z"
   },
   {
    "duration": 5,
    "start_time": "2021-11-18T10:19:21.492Z"
   },
   {
    "duration": 302,
    "start_time": "2021-11-18T10:19:21.498Z"
   },
   {
    "duration": 9,
    "start_time": "2021-11-18T10:19:21.802Z"
   },
   {
    "duration": 6,
    "start_time": "2021-11-18T10:19:21.812Z"
   },
   {
    "duration": 17,
    "start_time": "2021-11-18T10:19:21.819Z"
   },
   {
    "duration": 14,
    "start_time": "2021-11-18T10:19:21.837Z"
   },
   {
    "duration": 13,
    "start_time": "2021-11-18T10:19:21.853Z"
   },
   {
    "duration": 446,
    "start_time": "2021-11-18T10:19:21.889Z"
   },
   {
    "duration": 21,
    "start_time": "2021-11-18T10:19:22.337Z"
   },
   {
    "duration": 10,
    "start_time": "2021-11-18T10:19:22.360Z"
   },
   {
    "duration": 20,
    "start_time": "2021-11-18T10:19:22.388Z"
   },
   {
    "duration": 10,
    "start_time": "2021-11-18T10:19:22.410Z"
   },
   {
    "duration": 512,
    "start_time": "2021-11-18T10:19:22.422Z"
   },
   {
    "duration": 23,
    "start_time": "2021-11-18T10:19:22.936Z"
   },
   {
    "duration": 30,
    "start_time": "2021-11-18T10:19:22.960Z"
   },
   {
    "duration": 328,
    "start_time": "2021-11-18T10:19:22.992Z"
   },
   {
    "duration": 5,
    "start_time": "2021-11-18T10:19:23.321Z"
   },
   {
    "duration": 20,
    "start_time": "2021-11-18T10:19:23.327Z"
   },
   {
    "duration": 4,
    "start_time": "2021-11-18T10:19:23.349Z"
   },
   {
    "duration": 6,
    "start_time": "2021-11-18T10:19:23.354Z"
   },
   {
    "duration": 5,
    "start_time": "2021-11-18T10:19:23.362Z"
   },
   {
    "duration": 407,
    "start_time": "2021-11-18T10:19:23.387Z"
   },
   {
    "duration": 1498,
    "start_time": "2021-11-18T10:19:23.796Z"
   },
   {
    "duration": -2764,
    "start_time": "2021-11-18T10:19:28.060Z"
   },
   {
    "duration": -2771,
    "start_time": "2021-11-18T10:19:28.067Z"
   },
   {
    "duration": 4,
    "start_time": "2021-11-18T10:19:47.032Z"
   },
   {
    "duration": 4,
    "start_time": "2021-11-18T10:19:50.552Z"
   },
   {
    "duration": 3499,
    "start_time": "2021-11-18T10:19:54.409Z"
   },
   {
    "duration": 253,
    "start_time": "2021-11-18T10:20:22.449Z"
   },
   {
    "duration": 5,
    "start_time": "2021-11-18T10:21:22.540Z"
   },
   {
    "duration": 407,
    "start_time": "2021-11-18T10:21:27.097Z"
   },
   {
    "duration": 1493,
    "start_time": "2021-11-18T10:21:31.408Z"
   },
   {
    "duration": 3,
    "start_time": "2021-11-18T10:23:06.820Z"
   },
   {
    "duration": 2812,
    "start_time": "2021-11-18T10:23:13.932Z"
   },
   {
    "duration": 1927,
    "start_time": "2021-11-18T10:23:46.253Z"
   },
   {
    "duration": 4,
    "start_time": "2021-11-18T10:24:01.802Z"
   },
   {
    "duration": 437,
    "start_time": "2021-11-18T10:24:03.871Z"
   },
   {
    "duration": 5,
    "start_time": "2021-11-18T10:24:51.864Z"
   },
   {
    "duration": 6,
    "start_time": "2021-11-18T10:24:59.576Z"
   },
   {
    "duration": 258,
    "start_time": "2021-11-18T10:25:16.226Z"
   },
   {
    "duration": 4,
    "start_time": "2021-11-18T10:25:35.575Z"
   },
   {
    "duration": 469,
    "start_time": "2021-11-18T10:26:15.239Z"
   },
   {
    "duration": 6,
    "start_time": "2021-11-18T10:27:25.045Z"
   },
   {
    "duration": 8,
    "start_time": "2021-11-18T10:28:02.483Z"
   },
   {
    "duration": 283,
    "start_time": "2021-11-18T10:28:28.293Z"
   },
   {
    "duration": 316,
    "start_time": "2021-11-18T10:28:31.466Z"
   },
   {
    "duration": 280,
    "start_time": "2021-11-18T10:28:40.534Z"
   },
   {
    "duration": 298,
    "start_time": "2021-11-18T10:28:45.806Z"
   },
   {
    "duration": 7,
    "start_time": "2021-11-18T10:28:57.094Z"
   },
   {
    "duration": 4,
    "start_time": "2021-11-18T10:30:39.081Z"
   },
   {
    "duration": 3,
    "start_time": "2021-11-18T10:30:49.277Z"
   },
   {
    "duration": 388,
    "start_time": "2021-11-18T10:30:51.625Z"
   },
   {
    "duration": 408,
    "start_time": "2021-11-18T10:30:55.473Z"
   },
   {
    "duration": 382,
    "start_time": "2021-11-18T10:30:59.115Z"
   },
   {
    "duration": 379,
    "start_time": "2021-11-18T10:31:02.144Z"
   },
   {
    "duration": 14,
    "start_time": "2021-11-18T10:37:45.492Z"
   },
   {
    "duration": 21,
    "start_time": "2021-11-18T10:40:01.935Z"
   },
   {
    "duration": 21,
    "start_time": "2021-11-18T10:40:53.403Z"
   },
   {
    "duration": 22,
    "start_time": "2021-11-18T10:41:09.343Z"
   },
   {
    "duration": 5,
    "start_time": "2021-11-18T10:45:45.386Z"
   },
   {
    "duration": 10,
    "start_time": "2021-11-18T10:45:54.818Z"
   },
   {
    "duration": 304,
    "start_time": "2021-11-18T10:46:21.617Z"
   },
   {
    "duration": 241,
    "start_time": "2021-11-18T10:46:42.751Z"
   },
   {
    "duration": 313,
    "start_time": "2021-11-18T10:46:52.551Z"
   },
   {
    "duration": 11,
    "start_time": "2021-11-18T10:47:49.068Z"
   },
   {
    "duration": 275,
    "start_time": "2021-11-18T10:48:21.043Z"
   },
   {
    "duration": 6,
    "start_time": "2021-11-18T10:48:50.595Z"
   },
   {
    "duration": 10,
    "start_time": "2021-11-18T10:48:59.972Z"
   },
   {
    "duration": 385,
    "start_time": "2021-11-18T10:49:10.365Z"
   },
   {
    "duration": 384,
    "start_time": "2021-11-18T10:50:21.183Z"
   },
   {
    "duration": 407,
    "start_time": "2021-11-18T10:50:29.892Z"
   },
   {
    "duration": 280,
    "start_time": "2021-11-18T10:51:54.781Z"
   },
   {
    "duration": 283,
    "start_time": "2021-11-18T10:52:01.850Z"
   },
   {
    "duration": 8,
    "start_time": "2021-11-18T10:52:48.782Z"
   },
   {
    "duration": 245,
    "start_time": "2021-11-18T10:53:45.943Z"
   },
   {
    "duration": 10,
    "start_time": "2021-11-18T10:54:02.807Z"
   },
   {
    "duration": 10,
    "start_time": "2021-11-18T10:54:50.026Z"
   },
   {
    "duration": 10,
    "start_time": "2021-11-18T10:55:59.583Z"
   },
   {
    "duration": 10,
    "start_time": "2021-11-18T10:56:08.106Z"
   },
   {
    "duration": 5,
    "start_time": "2021-11-18T10:58:49.730Z"
   },
   {
    "duration": 8,
    "start_time": "2021-11-18T10:58:56.360Z"
   },
   {
    "duration": 9,
    "start_time": "2021-11-18T10:59:12.293Z"
   },
   {
    "duration": 318,
    "start_time": "2021-11-18T10:59:46.900Z"
   },
   {
    "duration": 12,
    "start_time": "2021-11-18T11:00:05.100Z"
   },
   {
    "duration": 12,
    "start_time": "2021-11-18T11:01:13.911Z"
   },
   {
    "duration": 13,
    "start_time": "2021-11-18T11:01:25.862Z"
   },
   {
    "duration": 14,
    "start_time": "2021-11-18T11:01:41.993Z"
   },
   {
    "duration": 4,
    "start_time": "2021-11-18T11:16:02.319Z"
   },
   {
    "duration": 235,
    "start_time": "2021-11-18T11:16:15.256Z"
   },
   {
    "duration": 467,
    "start_time": "2021-11-18T11:16:25.145Z"
   },
   {
    "duration": 5,
    "start_time": "2021-11-18T11:16:38.775Z"
   },
   {
    "duration": 482,
    "start_time": "2021-11-18T11:16:42.369Z"
   },
   {
    "duration": 3,
    "start_time": "2021-11-18T11:18:07.584Z"
   },
   {
    "duration": 469,
    "start_time": "2021-11-18T11:18:11.023Z"
   },
   {
    "duration": 239,
    "start_time": "2021-11-18T11:18:43.806Z"
   },
   {
    "duration": 9,
    "start_time": "2021-11-18T11:19:04.155Z"
   },
   {
    "duration": 11,
    "start_time": "2021-11-18T11:19:14.425Z"
   },
   {
    "duration": 247,
    "start_time": "2021-11-18T11:19:36.402Z"
   },
   {
    "duration": 12,
    "start_time": "2021-11-18T11:19:50.506Z"
   },
   {
    "duration": 3,
    "start_time": "2021-11-18T11:20:10.263Z"
   },
   {
    "duration": 7,
    "start_time": "2021-11-18T11:20:13.204Z"
   },
   {
    "duration": 6,
    "start_time": "2021-11-18T11:20:22.314Z"
   },
   {
    "duration": 3,
    "start_time": "2021-11-18T11:21:05.987Z"
   },
   {
    "duration": 8,
    "start_time": "2021-11-18T11:21:08.192Z"
   },
   {
    "duration": 4,
    "start_time": "2021-11-18T11:21:27.329Z"
   },
   {
    "duration": 10,
    "start_time": "2021-11-18T11:21:29.819Z"
   },
   {
    "duration": 10,
    "start_time": "2021-11-18T11:22:14.462Z"
   },
   {
    "duration": 10,
    "start_time": "2021-11-18T11:22:38.965Z"
   },
   {
    "duration": 4,
    "start_time": "2021-11-18T11:23:21.269Z"
   },
   {
    "duration": 9,
    "start_time": "2021-11-18T11:23:22.954Z"
   },
   {
    "duration": 9,
    "start_time": "2021-11-18T11:23:25.200Z"
   },
   {
    "duration": 9,
    "start_time": "2021-11-18T11:23:27.260Z"
   },
   {
    "duration": 3,
    "start_time": "2021-11-18T11:27:05.241Z"
   },
   {
    "duration": 7,
    "start_time": "2021-11-18T11:27:20.691Z"
   },
   {
    "duration": 8,
    "start_time": "2021-11-18T11:27:41.762Z"
   },
   {
    "duration": 8,
    "start_time": "2021-11-18T11:27:53.821Z"
   },
   {
    "duration": 286,
    "start_time": "2021-11-18T11:28:07.111Z"
   },
   {
    "duration": 8,
    "start_time": "2021-11-18T11:28:15.401Z"
   },
   {
    "duration": 3,
    "start_time": "2021-11-18T11:30:13.682Z"
   },
   {
    "duration": 3,
    "start_time": "2021-11-18T11:30:24.329Z"
   },
   {
    "duration": 8,
    "start_time": "2021-11-18T11:30:49.321Z"
   },
   {
    "duration": 7,
    "start_time": "2021-11-18T11:31:04.661Z"
   },
   {
    "duration": 8,
    "start_time": "2021-11-18T11:31:19.863Z"
   },
   {
    "duration": 5,
    "start_time": "2021-11-18T11:42:41.402Z"
   },
   {
    "duration": 21,
    "start_time": "2021-11-18T11:42:48.991Z"
   },
   {
    "duration": 5,
    "start_time": "2021-11-18T11:42:54.533Z"
   },
   {
    "duration": 5,
    "start_time": "2021-11-18T11:43:25.263Z"
   },
   {
    "duration": 236,
    "start_time": "2021-11-18T11:44:24.213Z"
   },
   {
    "duration": 4,
    "start_time": "2021-11-18T11:44:30.212Z"
   },
   {
    "duration": 6573,
    "start_time": "2021-11-18T11:44:32.911Z"
   },
   {
    "duration": 1381,
    "start_time": "2021-11-18T11:45:00.133Z"
   },
   {
    "duration": 300,
    "start_time": "2021-11-18T11:46:03.722Z"
   },
   {
    "duration": 6,
    "start_time": "2021-11-18T11:46:11.613Z"
   },
   {
    "duration": 6,
    "start_time": "2021-11-18T11:46:31.721Z"
   },
   {
    "duration": 5,
    "start_time": "2021-11-18T11:46:33.803Z"
   },
   {
    "duration": 8,
    "start_time": "2021-11-18T11:47:34.903Z"
   },
   {
    "duration": 9,
    "start_time": "2021-11-18T11:47:54.260Z"
   },
   {
    "duration": 8,
    "start_time": "2021-11-18T11:48:14.943Z"
   },
   {
    "duration": 4,
    "start_time": "2021-11-18T11:48:20.033Z"
   },
   {
    "duration": 844,
    "start_time": "2021-11-18T11:48:23.204Z"
   },
   {
    "duration": 7,
    "start_time": "2021-11-18T11:48:47.612Z"
   },
   {
    "duration": 8,
    "start_time": "2021-11-18T11:49:08.314Z"
   },
   {
    "duration": 6,
    "start_time": "2021-11-18T11:49:12.522Z"
   },
   {
    "duration": 18,
    "start_time": "2021-11-18T11:54:09.176Z"
   },
   {
    "duration": 19,
    "start_time": "2021-11-18T11:54:19.716Z"
   },
   {
    "duration": 18,
    "start_time": "2021-11-18T11:54:25.726Z"
   },
   {
    "duration": 10,
    "start_time": "2021-11-18T11:54:36.551Z"
   },
   {
    "duration": 4,
    "start_time": "2021-11-18T11:54:44.818Z"
   },
   {
    "duration": 7,
    "start_time": "2021-11-18T11:54:54.752Z"
   },
   {
    "duration": 7,
    "start_time": "2021-11-18T11:55:33.982Z"
   },
   {
    "duration": 250,
    "start_time": "2021-11-18T11:56:28.345Z"
   },
   {
    "duration": 256,
    "start_time": "2021-11-18T11:56:44.304Z"
   },
   {
    "duration": 94,
    "start_time": "2021-11-18T12:00:59.502Z"
   },
   {
    "duration": 9,
    "start_time": "2021-11-18T12:01:21.871Z"
   },
   {
    "duration": 19,
    "start_time": "2021-11-18T12:01:27.609Z"
   },
   {
    "duration": 20,
    "start_time": "2021-11-18T12:01:57.857Z"
   },
   {
    "duration": 16,
    "start_time": "2021-11-18T12:02:18.532Z"
   },
   {
    "duration": 6,
    "start_time": "2021-11-18T12:02:32.629Z"
   },
   {
    "duration": 7,
    "start_time": "2021-11-18T12:02:35.859Z"
   },
   {
    "duration": 3,
    "start_time": "2021-11-18T12:02:41.661Z"
   },
   {
    "duration": 494,
    "start_time": "2021-11-18T12:02:43.314Z"
   },
   {
    "duration": 7,
    "start_time": "2021-11-18T12:02:55.194Z"
   },
   {
    "duration": 6,
    "start_time": "2021-11-18T12:03:05.763Z"
   },
   {
    "duration": 596,
    "start_time": "2021-11-18T12:03:09.410Z"
   },
   {
    "duration": 7,
    "start_time": "2021-11-18T12:03:30.807Z"
   },
   {
    "duration": 7,
    "start_time": "2021-11-18T12:03:33.979Z"
   },
   {
    "duration": 455,
    "start_time": "2021-11-18T12:03:36.881Z"
   },
   {
    "duration": 3,
    "start_time": "2021-11-18T12:03:42.161Z"
   },
   {
    "duration": 631,
    "start_time": "2021-11-18T12:03:44.015Z"
   },
   {
    "duration": 7,
    "start_time": "2021-11-18T12:03:53.476Z"
   },
   {
    "duration": 6,
    "start_time": "2021-11-18T12:03:55.238Z"
   },
   {
    "duration": 4,
    "start_time": "2021-11-18T12:04:01.306Z"
   },
   {
    "duration": 452,
    "start_time": "2021-11-18T12:04:13.631Z"
   },
   {
    "duration": 6,
    "start_time": "2021-11-18T12:04:25.762Z"
   },
   {
    "duration": 7,
    "start_time": "2021-11-18T12:04:27.683Z"
   },
   {
    "duration": 2201,
    "start_time": "2021-11-18T12:05:44.772Z"
   },
   {
    "duration": 1018,
    "start_time": "2021-11-18T12:05:46.975Z"
   },
   {
    "duration": 48,
    "start_time": "2021-11-18T12:05:47.996Z"
   },
   {
    "duration": 12,
    "start_time": "2021-11-18T12:05:48.045Z"
   },
   {
    "duration": 29,
    "start_time": "2021-11-18T12:05:48.059Z"
   },
   {
    "duration": 12,
    "start_time": "2021-11-18T12:05:48.090Z"
   },
   {
    "duration": 9,
    "start_time": "2021-11-18T12:05:48.103Z"
   },
   {
    "duration": 11,
    "start_time": "2021-11-18T12:05:48.114Z"
   },
   {
    "duration": 5,
    "start_time": "2021-11-18T12:05:48.127Z"
   },
   {
    "duration": 15,
    "start_time": "2021-11-18T12:05:48.134Z"
   },
   {
    "duration": 11,
    "start_time": "2021-11-18T12:05:48.151Z"
   },
   {
    "duration": 25,
    "start_time": "2021-11-18T12:05:48.163Z"
   },
   {
    "duration": 14,
    "start_time": "2021-11-18T12:05:48.189Z"
   },
   {
    "duration": 9,
    "start_time": "2021-11-18T12:05:48.205Z"
   },
   {
    "duration": 5,
    "start_time": "2021-11-18T12:05:48.216Z"
   },
   {
    "duration": 10,
    "start_time": "2021-11-18T12:05:48.223Z"
   },
   {
    "duration": 484,
    "start_time": "2021-11-18T12:05:48.235Z"
   },
   {
    "duration": 13,
    "start_time": "2021-11-18T12:05:48.720Z"
   },
   {
    "duration": 7,
    "start_time": "2021-11-18T12:05:48.734Z"
   },
   {
    "duration": 204,
    "start_time": "2021-11-18T12:05:48.742Z"
   },
   {
    "duration": 5,
    "start_time": "2021-11-18T12:05:48.947Z"
   },
   {
    "duration": 18,
    "start_time": "2021-11-18T12:05:48.953Z"
   },
   {
    "duration": 13,
    "start_time": "2021-11-18T12:05:48.975Z"
   },
   {
    "duration": 293,
    "start_time": "2021-11-18T12:05:48.990Z"
   },
   {
    "duration": 10,
    "start_time": "2021-11-18T12:05:49.287Z"
   },
   {
    "duration": 9,
    "start_time": "2021-11-18T12:05:49.298Z"
   },
   {
    "duration": 20,
    "start_time": "2021-11-18T12:05:49.309Z"
   },
   {
    "duration": 14,
    "start_time": "2021-11-18T12:05:49.330Z"
   },
   {
    "duration": 13,
    "start_time": "2021-11-18T12:05:49.345Z"
   },
   {
    "duration": 465,
    "start_time": "2021-11-18T12:05:49.359Z"
   },
   {
    "duration": 18,
    "start_time": "2021-11-18T12:05:49.825Z"
   },
   {
    "duration": 9,
    "start_time": "2021-11-18T12:05:49.844Z"
   },
   {
    "duration": 37,
    "start_time": "2021-11-18T12:05:49.854Z"
   },
   {
    "duration": 11,
    "start_time": "2021-11-18T12:05:49.892Z"
   },
   {
    "duration": 504,
    "start_time": "2021-11-18T12:05:49.904Z"
   },
   {
    "duration": 23,
    "start_time": "2021-11-18T12:05:50.409Z"
   },
   {
    "duration": 12,
    "start_time": "2021-11-18T12:05:50.433Z"
   },
   {
    "duration": 332,
    "start_time": "2021-11-18T12:05:50.446Z"
   },
   {
    "duration": 4,
    "start_time": "2021-11-18T12:05:50.787Z"
   },
   {
    "duration": 37,
    "start_time": "2021-11-18T12:05:50.793Z"
   },
   {
    "duration": 18,
    "start_time": "2021-11-18T12:05:50.831Z"
   },
   {
    "duration": 23,
    "start_time": "2021-11-18T12:05:50.850Z"
   },
   {
    "duration": 16,
    "start_time": "2021-11-18T12:05:50.875Z"
   },
   {
    "duration": 432,
    "start_time": "2021-11-18T12:05:50.893Z"
   },
   {
    "duration": 395,
    "start_time": "2021-11-18T12:05:51.326Z"
   },
   {
    "duration": 20,
    "start_time": "2021-11-18T12:05:51.723Z"
   },
   {
    "duration": 9,
    "start_time": "2021-11-18T12:05:51.744Z"
   },
   {
    "duration": 13,
    "start_time": "2021-11-18T12:05:51.755Z"
   },
   {
    "duration": 24,
    "start_time": "2021-11-18T12:05:51.770Z"
   },
   {
    "duration": 29,
    "start_time": "2021-11-18T12:05:51.795Z"
   },
   {
    "duration": 15,
    "start_time": "2021-11-18T12:05:51.826Z"
   },
   {
    "duration": 17,
    "start_time": "2021-11-18T12:05:51.843Z"
   },
   {
    "duration": 26,
    "start_time": "2021-11-18T12:05:51.862Z"
   },
   {
    "duration": 23,
    "start_time": "2021-11-18T12:05:51.890Z"
   },
   {
    "duration": 13,
    "start_time": "2021-11-18T12:05:51.914Z"
   },
   {
    "duration": 18,
    "start_time": "2021-11-18T12:05:51.929Z"
   },
   {
    "duration": 12,
    "start_time": "2021-11-18T12:05:51.949Z"
   },
   {
    "duration": 16,
    "start_time": "2021-11-18T12:05:51.962Z"
   },
   {
    "duration": 23,
    "start_time": "2021-11-18T12:05:51.980Z"
   },
   {
    "duration": 23,
    "start_time": "2021-11-18T12:05:52.005Z"
   },
   {
    "duration": 20,
    "start_time": "2021-11-18T12:05:52.030Z"
   },
   {
    "duration": 19,
    "start_time": "2021-11-18T12:05:52.052Z"
   },
   {
    "duration": 17,
    "start_time": "2021-11-18T12:05:52.072Z"
   },
   {
    "duration": 17,
    "start_time": "2021-11-18T12:05:52.090Z"
   },
   {
    "duration": 4,
    "start_time": "2021-11-18T12:32:13.438Z"
   },
   {
    "duration": 5,
    "start_time": "2021-11-18T12:32:16.107Z"
   },
   {
    "duration": 9,
    "start_time": "2021-11-18T12:32:51.399Z"
   },
   {
    "duration": 76,
    "start_time": "2021-11-18T12:34:43.429Z"
   },
   {
    "duration": 85,
    "start_time": "2021-11-18T12:34:54.881Z"
   },
   {
    "duration": 374,
    "start_time": "2021-11-18T12:35:12.776Z"
   },
   {
    "duration": 11,
    "start_time": "2021-11-18T12:36:21.620Z"
   },
   {
    "duration": 261,
    "start_time": "2021-11-18T12:37:21.889Z"
   },
   {
    "duration": 7,
    "start_time": "2021-11-18T12:44:20.975Z"
   },
   {
    "duration": 7,
    "start_time": "2021-11-18T12:44:30.806Z"
   },
   {
    "duration": 4,
    "start_time": "2021-11-18T12:44:34.129Z"
   },
   {
    "duration": 5,
    "start_time": "2021-11-18T12:44:36.511Z"
   },
   {
    "duration": 4,
    "start_time": "2021-11-18T12:45:03.775Z"
   },
   {
    "duration": 5,
    "start_time": "2021-11-18T12:45:18.307Z"
   },
   {
    "duration": 4,
    "start_time": "2021-11-18T12:45:20.352Z"
   },
   {
    "duration": 3,
    "start_time": "2021-11-18T12:45:23.339Z"
   },
   {
    "duration": 374,
    "start_time": "2021-11-18T12:45:28.736Z"
   },
   {
    "duration": 379,
    "start_time": "2021-11-18T14:59:21.726Z"
   },
   {
    "duration": 5030,
    "start_time": "2021-11-18T14:59:37.088Z"
   },
   {
    "duration": 1428,
    "start_time": "2021-11-18T14:59:42.121Z"
   },
   {
    "duration": 67,
    "start_time": "2021-11-18T14:59:43.553Z"
   },
   {
    "duration": 19,
    "start_time": "2021-11-18T14:59:43.624Z"
   },
   {
    "duration": 69,
    "start_time": "2021-11-18T14:59:43.646Z"
   },
   {
    "duration": 22,
    "start_time": "2021-11-18T14:59:43.718Z"
   },
   {
    "duration": 13,
    "start_time": "2021-11-18T14:59:43.743Z"
   },
   {
    "duration": 13,
    "start_time": "2021-11-18T14:59:43.759Z"
   },
   {
    "duration": 6,
    "start_time": "2021-11-18T14:59:43.803Z"
   },
   {
    "duration": 28,
    "start_time": "2021-11-18T14:59:43.812Z"
   },
   {
    "duration": 9,
    "start_time": "2021-11-18T14:59:43.843Z"
   },
   {
    "duration": 5,
    "start_time": "2021-11-18T14:59:43.854Z"
   },
   {
    "duration": 57,
    "start_time": "2021-11-18T14:59:43.862Z"
   },
   {
    "duration": 14,
    "start_time": "2021-11-18T14:59:43.921Z"
   },
   {
    "duration": 7,
    "start_time": "2021-11-18T14:59:43.938Z"
   },
   {
    "duration": 52,
    "start_time": "2021-11-18T14:59:43.948Z"
   },
   {
    "duration": 967,
    "start_time": "2021-11-18T14:59:44.003Z"
   },
   {
    "duration": 30,
    "start_time": "2021-11-18T14:59:44.972Z"
   },
   {
    "duration": 15,
    "start_time": "2021-11-18T14:59:45.006Z"
   },
   {
    "duration": 360,
    "start_time": "2021-11-18T14:59:45.024Z"
   },
   {
    "duration": 19,
    "start_time": "2021-11-18T14:59:45.387Z"
   },
   {
    "duration": 26,
    "start_time": "2021-11-18T14:59:45.409Z"
   },
   {
    "duration": 11,
    "start_time": "2021-11-18T14:59:45.437Z"
   },
   {
    "duration": 584,
    "start_time": "2021-11-18T14:59:45.451Z"
   },
   {
    "duration": 15,
    "start_time": "2021-11-18T14:59:46.038Z"
   },
   {
    "duration": 13,
    "start_time": "2021-11-18T14:59:46.056Z"
   },
   {
    "duration": 48,
    "start_time": "2021-11-18T14:59:46.075Z"
   },
   {
    "duration": 25,
    "start_time": "2021-11-18T14:59:46.126Z"
   },
   {
    "duration": 25,
    "start_time": "2021-11-18T14:59:46.153Z"
   },
   {
    "duration": 837,
    "start_time": "2021-11-18T14:59:46.181Z"
   },
   {
    "duration": 31,
    "start_time": "2021-11-18T14:59:47.021Z"
   },
   {
    "duration": 16,
    "start_time": "2021-11-18T14:59:47.054Z"
   },
   {
    "duration": 34,
    "start_time": "2021-11-18T14:59:47.101Z"
   },
   {
    "duration": 19,
    "start_time": "2021-11-18T14:59:47.138Z"
   },
   {
    "duration": 966,
    "start_time": "2021-11-18T14:59:47.159Z"
   },
   {
    "duration": 38,
    "start_time": "2021-11-18T14:59:48.128Z"
   },
   {
    "duration": 45,
    "start_time": "2021-11-18T14:59:48.169Z"
   },
   {
    "duration": 557,
    "start_time": "2021-11-18T14:59:48.217Z"
   },
   {
    "duration": 6,
    "start_time": "2021-11-18T14:59:48.776Z"
   },
   {
    "duration": 45,
    "start_time": "2021-11-18T14:59:48.785Z"
   },
   {
    "duration": 7,
    "start_time": "2021-11-18T14:59:48.833Z"
   },
   {
    "duration": 6,
    "start_time": "2021-11-18T14:59:48.843Z"
   },
   {
    "duration": 48,
    "start_time": "2021-11-18T14:59:48.852Z"
   },
   {
    "duration": 672,
    "start_time": "2021-11-18T14:59:48.903Z"
   },
   {
    "duration": 673,
    "start_time": "2021-11-18T14:59:49.577Z"
   },
   {
    "duration": 32,
    "start_time": "2021-11-18T14:59:50.253Z"
   },
   {
    "duration": 16,
    "start_time": "2021-11-18T14:59:50.299Z"
   },
   {
    "duration": 25,
    "start_time": "2021-11-18T14:59:50.317Z"
   },
   {
    "duration": 5,
    "start_time": "2021-11-18T14:59:50.345Z"
   },
   {
    "duration": 16,
    "start_time": "2021-11-18T14:59:50.352Z"
   },
   {
    "duration": 41,
    "start_time": "2021-11-18T14:59:50.370Z"
   },
   {
    "duration": 13,
    "start_time": "2021-11-18T14:59:50.413Z"
   },
   {
    "duration": 30,
    "start_time": "2021-11-18T14:59:50.428Z"
   },
   {
    "duration": 14,
    "start_time": "2021-11-18T14:59:50.461Z"
   },
   {
    "duration": 11,
    "start_time": "2021-11-18T14:59:50.477Z"
   },
   {
    "duration": 19,
    "start_time": "2021-11-18T14:59:50.491Z"
   },
   {
    "duration": 6,
    "start_time": "2021-11-18T14:59:50.514Z"
   },
   {
    "duration": 13,
    "start_time": "2021-11-18T14:59:50.522Z"
   },
   {
    "duration": 12,
    "start_time": "2021-11-18T14:59:50.538Z"
   },
   {
    "duration": 12,
    "start_time": "2021-11-18T14:59:50.600Z"
   },
   {
    "duration": 15,
    "start_time": "2021-11-18T14:59:50.615Z"
   },
   {
    "duration": 13,
    "start_time": "2021-11-18T14:59:50.632Z"
   },
   {
    "duration": 8,
    "start_time": "2021-11-18T14:59:50.648Z"
   },
   {
    "duration": 15,
    "start_time": "2021-11-18T14:59:50.658Z"
   },
   {
    "duration": 21,
    "start_time": "2021-11-18T14:59:50.702Z"
   },
   {
    "duration": 12,
    "start_time": "2021-11-18T14:59:56.836Z"
   },
   {
    "duration": 11,
    "start_time": "2021-11-18T15:00:45.187Z"
   },
   {
    "duration": 10,
    "start_time": "2021-11-18T15:00:58.170Z"
   },
   {
    "duration": 8,
    "start_time": "2021-11-18T15:01:43.747Z"
   },
   {
    "duration": 53,
    "start_time": "2021-11-18T15:05:15.640Z"
   },
   {
    "duration": 53,
    "start_time": "2021-11-18T15:05:29.166Z"
   },
   {
    "duration": 7,
    "start_time": "2021-11-18T15:15:37.703Z"
   },
   {
    "duration": 681,
    "start_time": "2021-11-18T15:15:40.227Z"
   },
   {
    "duration": 3534,
    "start_time": "2021-11-18T15:16:21.579Z"
   },
   {
    "duration": 1433,
    "start_time": "2021-11-18T15:16:25.116Z"
   },
   {
    "duration": 51,
    "start_time": "2021-11-18T15:16:26.552Z"
   },
   {
    "duration": 25,
    "start_time": "2021-11-18T15:16:26.606Z"
   },
   {
    "duration": 26,
    "start_time": "2021-11-18T15:16:26.633Z"
   },
   {
    "duration": 72,
    "start_time": "2021-11-18T15:16:26.662Z"
   },
   {
    "duration": 19,
    "start_time": "2021-11-18T15:16:26.737Z"
   },
   {
    "duration": 16,
    "start_time": "2021-11-18T15:16:26.760Z"
   },
   {
    "duration": 32,
    "start_time": "2021-11-18T15:16:26.778Z"
   },
   {
    "duration": 9,
    "start_time": "2021-11-18T15:16:26.812Z"
   },
   {
    "duration": 25,
    "start_time": "2021-11-18T15:16:26.823Z"
   },
   {
    "duration": 12,
    "start_time": "2021-11-18T15:16:26.851Z"
   },
   {
    "duration": 5,
    "start_time": "2021-11-18T15:16:26.901Z"
   },
   {
    "duration": 27,
    "start_time": "2021-11-18T15:16:26.910Z"
   },
   {
    "duration": 15,
    "start_time": "2021-11-18T15:16:26.940Z"
   },
   {
    "duration": 42,
    "start_time": "2021-11-18T15:16:26.958Z"
   },
   {
    "duration": 18,
    "start_time": "2021-11-18T15:16:27.002Z"
   },
   {
    "duration": 882,
    "start_time": "2021-11-18T15:16:27.022Z"
   },
   {
    "duration": 17,
    "start_time": "2021-11-18T15:16:27.907Z"
   },
   {
    "duration": 12,
    "start_time": "2021-11-18T15:16:27.926Z"
   },
   {
    "duration": 374,
    "start_time": "2021-11-18T15:16:27.940Z"
   },
   {
    "duration": 7,
    "start_time": "2021-11-18T15:16:28.316Z"
   },
   {
    "duration": 16,
    "start_time": "2021-11-18T15:16:28.329Z"
   },
   {
    "duration": 7,
    "start_time": "2021-11-18T15:16:28.349Z"
   },
   {
    "duration": 608,
    "start_time": "2021-11-18T15:16:28.358Z"
   },
   {
    "duration": 15,
    "start_time": "2021-11-18T15:16:28.969Z"
   },
   {
    "duration": 6,
    "start_time": "2021-11-18T15:16:29.000Z"
   },
   {
    "duration": 34,
    "start_time": "2021-11-18T15:16:29.009Z"
   },
   {
    "duration": 25,
    "start_time": "2021-11-18T15:16:29.045Z"
   },
   {
    "duration": 48,
    "start_time": "2021-11-18T15:16:29.073Z"
   },
   {
    "duration": 868,
    "start_time": "2021-11-18T15:16:29.124Z"
   },
   {
    "duration": 32,
    "start_time": "2021-11-18T15:16:30.000Z"
   },
   {
    "duration": 36,
    "start_time": "2021-11-18T15:16:30.035Z"
   },
   {
    "duration": 59,
    "start_time": "2021-11-18T15:16:30.073Z"
   },
   {
    "duration": 22,
    "start_time": "2021-11-18T15:16:30.134Z"
   },
   {
    "duration": 971,
    "start_time": "2021-11-18T15:16:30.158Z"
   },
   {
    "duration": 39,
    "start_time": "2021-11-18T15:16:31.131Z"
   },
   {
    "duration": 47,
    "start_time": "2021-11-18T15:16:31.173Z"
   },
   {
    "duration": 584,
    "start_time": "2021-11-18T15:16:31.222Z"
   },
   {
    "duration": 7,
    "start_time": "2021-11-18T15:16:31.808Z"
   },
   {
    "duration": 43,
    "start_time": "2021-11-18T15:16:31.818Z"
   },
   {
    "duration": 11,
    "start_time": "2021-11-18T15:16:31.863Z"
   },
   {
    "duration": 25,
    "start_time": "2021-11-18T15:16:31.877Z"
   },
   {
    "duration": 26,
    "start_time": "2021-11-18T15:16:31.905Z"
   },
   {
    "duration": 753,
    "start_time": "2021-11-18T15:16:31.933Z"
   },
   {
    "duration": 688,
    "start_time": "2021-11-18T15:16:32.688Z"
   },
   {
    "duration": 58,
    "start_time": "2021-11-18T15:16:33.378Z"
   },
   {
    "duration": 15,
    "start_time": "2021-11-18T15:16:33.446Z"
   },
   {
    "duration": 14,
    "start_time": "2021-11-18T15:16:33.464Z"
   },
   {
    "duration": 23,
    "start_time": "2021-11-18T15:16:33.481Z"
   },
   {
    "duration": 277,
    "start_time": "2021-11-18T15:16:33.507Z"
   },
   {
    "duration": 450,
    "start_time": "2021-11-18T15:16:33.787Z"
   },
   {
    "duration": -145,
    "start_time": "2021-11-18T15:16:34.385Z"
   },
   {
    "duration": -151,
    "start_time": "2021-11-18T15:16:34.392Z"
   },
   {
    "duration": -181,
    "start_time": "2021-11-18T15:16:34.424Z"
   },
   {
    "duration": -185,
    "start_time": "2021-11-18T15:16:34.430Z"
   },
   {
    "duration": -192,
    "start_time": "2021-11-18T15:16:34.438Z"
   },
   {
    "duration": -195,
    "start_time": "2021-11-18T15:16:34.443Z"
   },
   {
    "duration": -198,
    "start_time": "2021-11-18T15:16:34.448Z"
   },
   {
    "duration": -201,
    "start_time": "2021-11-18T15:16:34.452Z"
   },
   {
    "duration": -219,
    "start_time": "2021-11-18T15:16:34.471Z"
   },
   {
    "duration": -221,
    "start_time": "2021-11-18T15:16:34.475Z"
   },
   {
    "duration": -226,
    "start_time": "2021-11-18T15:16:34.481Z"
   },
   {
    "duration": -229,
    "start_time": "2021-11-18T15:16:34.485Z"
   },
   {
    "duration": -233,
    "start_time": "2021-11-18T15:16:34.491Z"
   },
   {
    "duration": -237,
    "start_time": "2021-11-18T15:16:34.496Z"
   },
   {
    "duration": -241,
    "start_time": "2021-11-18T15:16:34.501Z"
   },
   {
    "duration": -244,
    "start_time": "2021-11-18T15:16:34.505Z"
   },
   {
    "duration": -249,
    "start_time": "2021-11-18T15:16:34.511Z"
   },
   {
    "duration": 266,
    "start_time": "2021-11-18T15:17:44.395Z"
   },
   {
    "duration": 255,
    "start_time": "2021-11-18T15:17:48.191Z"
   },
   {
    "duration": 4,
    "start_time": "2021-11-18T15:17:51.208Z"
   },
   {
    "duration": 11,
    "start_time": "2021-11-18T15:17:53.426Z"
   },
   {
    "duration": 3777,
    "start_time": "2021-11-18T15:23:21.181Z"
   },
   {
    "duration": 1476,
    "start_time": "2021-11-18T15:23:24.961Z"
   },
   {
    "duration": 48,
    "start_time": "2021-11-18T15:23:26.441Z"
   },
   {
    "duration": 24,
    "start_time": "2021-11-18T15:23:26.492Z"
   },
   {
    "duration": 20,
    "start_time": "2021-11-18T15:23:26.519Z"
   },
   {
    "duration": 68,
    "start_time": "2021-11-18T15:23:26.542Z"
   },
   {
    "duration": 22,
    "start_time": "2021-11-18T15:23:26.612Z"
   },
   {
    "duration": 13,
    "start_time": "2021-11-18T15:23:26.638Z"
   },
   {
    "duration": 12,
    "start_time": "2021-11-18T15:23:26.654Z"
   },
   {
    "duration": 7,
    "start_time": "2021-11-18T15:23:26.700Z"
   },
   {
    "duration": 25,
    "start_time": "2021-11-18T15:23:26.710Z"
   },
   {
    "duration": 9,
    "start_time": "2021-11-18T15:23:26.737Z"
   },
   {
    "duration": 10,
    "start_time": "2021-11-18T15:23:26.748Z"
   },
   {
    "duration": 59,
    "start_time": "2021-11-18T15:23:26.761Z"
   },
   {
    "duration": 14,
    "start_time": "2021-11-18T15:23:26.823Z"
   },
   {
    "duration": 7,
    "start_time": "2021-11-18T15:23:26.840Z"
   },
   {
    "duration": 55,
    "start_time": "2021-11-18T15:23:26.850Z"
   },
   {
    "duration": 909,
    "start_time": "2021-11-18T15:23:26.907Z"
   },
   {
    "duration": 18,
    "start_time": "2021-11-18T15:23:27.818Z"
   },
   {
    "duration": 527,
    "start_time": "2021-11-18T15:23:27.839Z"
   },
   {
    "duration": 740,
    "start_time": "2021-11-18T15:23:28.368Z"
   },
   {
    "duration": 85,
    "start_time": "2021-11-18T15:23:29.111Z"
   },
   {
    "duration": 28,
    "start_time": "2021-11-18T15:23:29.203Z"
   },
   {
    "duration": 10,
    "start_time": "2021-11-18T15:23:29.235Z"
   },
   {
    "duration": 588,
    "start_time": "2021-11-18T15:23:29.247Z"
   },
   {
    "duration": 16,
    "start_time": "2021-11-18T15:23:29.838Z"
   },
   {
    "duration": 19,
    "start_time": "2021-11-18T15:23:29.857Z"
   },
   {
    "duration": 44,
    "start_time": "2021-11-18T15:23:29.878Z"
   },
   {
    "duration": 21,
    "start_time": "2021-11-18T15:23:29.925Z"
   },
   {
    "duration": 30,
    "start_time": "2021-11-18T15:23:29.948Z"
   },
   {
    "duration": 894,
    "start_time": "2021-11-18T15:23:29.980Z"
   },
   {
    "duration": 46,
    "start_time": "2021-11-18T15:23:30.877Z"
   },
   {
    "duration": 16,
    "start_time": "2021-11-18T15:23:30.925Z"
   },
   {
    "duration": 60,
    "start_time": "2021-11-18T15:23:30.943Z"
   },
   {
    "duration": 25,
    "start_time": "2021-11-18T15:23:31.006Z"
   },
   {
    "duration": 1481,
    "start_time": "2021-11-18T15:23:31.034Z"
   },
   {
    "duration": 46,
    "start_time": "2021-11-18T15:23:32.518Z"
   },
   {
    "duration": 64,
    "start_time": "2021-11-18T15:23:32.566Z"
   },
   {
    "duration": 744,
    "start_time": "2021-11-18T15:23:32.633Z"
   },
   {
    "duration": 7,
    "start_time": "2021-11-18T15:23:33.379Z"
   },
   {
    "duration": 42,
    "start_time": "2021-11-18T15:23:33.388Z"
   },
   {
    "duration": 7,
    "start_time": "2021-11-18T15:23:33.433Z"
   },
   {
    "duration": 5,
    "start_time": "2021-11-18T15:23:33.443Z"
   },
   {
    "duration": 10,
    "start_time": "2021-11-18T15:23:33.451Z"
   },
   {
    "duration": 698,
    "start_time": "2021-11-18T15:23:33.464Z"
   },
   {
    "duration": 703,
    "start_time": "2021-11-18T15:23:34.165Z"
   },
   {
    "duration": 45,
    "start_time": "2021-11-18T15:23:34.871Z"
   },
   {
    "duration": 423,
    "start_time": "2021-11-18T15:23:34.919Z"
   },
   {
    "duration": 316,
    "start_time": "2021-11-18T15:23:35.345Z"
   },
   {
    "duration": 227,
    "start_time": "2021-11-18T15:23:35.664Z"
   },
   {
    "duration": 388,
    "start_time": "2021-11-18T15:23:35.894Z"
   },
   {
    "duration": 287,
    "start_time": "2021-11-18T15:23:36.285Z"
   },
   {
    "duration": 287,
    "start_time": "2021-11-18T15:23:36.575Z"
   },
   {
    "duration": 5,
    "start_time": "2021-11-18T15:23:36.865Z"
   },
   {
    "duration": 34,
    "start_time": "2021-11-18T15:23:36.873Z"
   },
   {
    "duration": 13,
    "start_time": "2021-11-18T15:23:36.911Z"
   },
   {
    "duration": 14,
    "start_time": "2021-11-18T15:23:36.927Z"
   },
   {
    "duration": 7,
    "start_time": "2021-11-18T15:23:36.944Z"
   },
   {
    "duration": 56,
    "start_time": "2021-11-18T15:23:36.954Z"
   },
   {
    "duration": 17,
    "start_time": "2021-11-18T15:23:37.013Z"
   },
   {
    "duration": 23,
    "start_time": "2021-11-18T15:23:37.033Z"
   },
   {
    "duration": 11,
    "start_time": "2021-11-18T15:23:37.059Z"
   },
   {
    "duration": 33,
    "start_time": "2021-11-18T15:23:37.072Z"
   },
   {
    "duration": 10,
    "start_time": "2021-11-18T15:23:37.108Z"
   },
   {
    "duration": 13,
    "start_time": "2021-11-18T15:23:37.121Z"
   },
   {
    "duration": 11,
    "start_time": "2021-11-18T15:23:37.137Z"
   },
   {
    "duration": 16,
    "start_time": "2021-11-18T15:23:37.150Z"
   },
   {
    "duration": 8,
    "start_time": "2021-11-18T15:23:37.203Z"
   },
   {
    "duration": 799,
    "start_time": "2021-11-18T15:24:44.100Z"
   },
   {
    "duration": 1889,
    "start_time": "2021-11-18T15:26:32.800Z"
   },
   {
    "duration": 855,
    "start_time": "2021-11-18T15:26:44.440Z"
   },
   {
    "duration": 7,
    "start_time": "2021-11-18T15:26:53.904Z"
   },
   {
    "duration": 215,
    "start_time": "2021-11-18T15:26:58.655Z"
   },
   {
    "duration": 215,
    "start_time": "2021-11-18T15:27:11.122Z"
   },
   {
    "duration": 219,
    "start_time": "2021-11-18T15:27:14.786Z"
   },
   {
    "duration": 7,
    "start_time": "2021-11-18T15:40:44.510Z"
   },
   {
    "duration": 217,
    "start_time": "2021-11-18T15:40:46.336Z"
   },
   {
    "duration": 6,
    "start_time": "2021-11-18T15:40:53.809Z"
   },
   {
    "duration": 219,
    "start_time": "2021-11-18T15:40:55.566Z"
   },
   {
    "duration": 6,
    "start_time": "2021-11-18T15:41:01.714Z"
   },
   {
    "duration": 1302,
    "start_time": "2021-11-18T15:41:03.656Z"
   },
   {
    "duration": 6,
    "start_time": "2021-11-18T15:42:05.676Z"
   },
   {
    "duration": 218,
    "start_time": "2021-11-18T15:42:07.213Z"
   },
   {
    "duration": 6,
    "start_time": "2021-11-18T15:43:10.622Z"
   },
   {
    "duration": 1112,
    "start_time": "2021-11-18T15:43:13.316Z"
   },
   {
    "duration": 9,
    "start_time": "2021-11-18T15:43:38.732Z"
   },
   {
    "duration": 257,
    "start_time": "2021-11-18T15:43:40.698Z"
   },
   {
    "duration": 6,
    "start_time": "2021-11-18T15:43:50.821Z"
   },
   {
    "duration": 216,
    "start_time": "2021-11-18T15:43:52.852Z"
   },
   {
    "duration": 6,
    "start_time": "2021-11-18T15:43:57.338Z"
   },
   {
    "duration": 221,
    "start_time": "2021-11-18T15:43:59.050Z"
   },
   {
    "duration": 6,
    "start_time": "2021-11-18T15:44:03.470Z"
   },
   {
    "duration": 214,
    "start_time": "2021-11-18T15:44:08.419Z"
   },
   {
    "duration": 7,
    "start_time": "2021-11-18T15:44:40.301Z"
   },
   {
    "duration": 310,
    "start_time": "2021-11-18T15:44:44.732Z"
   },
   {
    "duration": 7,
    "start_time": "2021-11-18T15:47:21.610Z"
   },
   {
    "duration": 330,
    "start_time": "2021-11-18T15:47:23.528Z"
   },
   {
    "duration": 6,
    "start_time": "2021-11-18T15:47:37.224Z"
   },
   {
    "duration": 320,
    "start_time": "2021-11-18T15:47:39.140Z"
   },
   {
    "duration": 7,
    "start_time": "2021-11-18T15:47:55.897Z"
   },
   {
    "duration": 1138,
    "start_time": "2021-11-18T15:47:57.611Z"
   },
   {
    "duration": 8,
    "start_time": "2021-11-18T15:49:05.585Z"
   },
   {
    "duration": 419,
    "start_time": "2021-11-18T15:49:07.784Z"
   },
   {
    "duration": 317,
    "start_time": "2021-11-18T15:49:20.487Z"
   },
   {
    "duration": 318,
    "start_time": "2021-11-18T15:49:35.482Z"
   },
   {
    "duration": 760,
    "start_time": "2021-11-18T16:06:32.758Z"
   },
   {
    "duration": 326,
    "start_time": "2021-11-18T16:08:52.153Z"
   },
   {
    "duration": 97,
    "start_time": "2021-11-18T16:09:02.180Z"
   },
   {
    "duration": 9,
    "start_time": "2021-11-18T16:10:49.731Z"
   },
   {
    "duration": 326,
    "start_time": "2021-11-18T16:11:03.978Z"
   },
   {
    "duration": 10,
    "start_time": "2021-11-18T16:11:34.935Z"
   },
   {
    "duration": 13,
    "start_time": "2021-11-18T16:11:53.460Z"
   },
   {
    "duration": 2626,
    "start_time": "2021-11-18T21:41:15.359Z"
   },
   {
    "duration": 1156,
    "start_time": "2021-11-18T21:41:17.987Z"
   },
   {
    "duration": 41,
    "start_time": "2021-11-18T21:41:19.146Z"
   },
   {
    "duration": 18,
    "start_time": "2021-11-18T21:41:19.189Z"
   },
   {
    "duration": 13,
    "start_time": "2021-11-18T21:41:19.209Z"
   },
   {
    "duration": 56,
    "start_time": "2021-11-18T21:41:19.223Z"
   },
   {
    "duration": 12,
    "start_time": "2021-11-18T21:41:19.280Z"
   },
   {
    "duration": 23,
    "start_time": "2021-11-18T21:41:19.293Z"
   },
   {
    "duration": 12,
    "start_time": "2021-11-18T21:41:19.319Z"
   },
   {
    "duration": 14,
    "start_time": "2021-11-18T21:41:19.333Z"
   },
   {
    "duration": 7,
    "start_time": "2021-11-18T21:41:19.349Z"
   },
   {
    "duration": 21,
    "start_time": "2021-11-18T21:41:19.358Z"
   },
   {
    "duration": 10,
    "start_time": "2021-11-18T21:41:19.381Z"
   },
   {
    "duration": 14,
    "start_time": "2021-11-18T21:41:19.392Z"
   },
   {
    "duration": 10,
    "start_time": "2021-11-18T21:41:19.408Z"
   },
   {
    "duration": 623,
    "start_time": "2021-11-18T21:41:19.420Z"
   },
   {
    "duration": 12,
    "start_time": "2021-11-18T21:41:20.045Z"
   },
   {
    "duration": 12,
    "start_time": "2021-11-18T21:41:20.058Z"
   },
   {
    "duration": 221,
    "start_time": "2021-11-18T21:41:20.072Z"
   },
   {
    "duration": 13,
    "start_time": "2021-11-18T21:41:20.294Z"
   },
   {
    "duration": 16,
    "start_time": "2021-11-18T21:41:20.308Z"
   },
   {
    "duration": 6,
    "start_time": "2021-11-18T21:41:20.325Z"
   },
   {
    "duration": 335,
    "start_time": "2021-11-18T21:41:20.333Z"
   },
   {
    "duration": 10,
    "start_time": "2021-11-18T21:41:20.670Z"
   },
   {
    "duration": 6,
    "start_time": "2021-11-18T21:41:20.682Z"
   },
   {
    "duration": 30,
    "start_time": "2021-11-18T21:41:20.690Z"
   },
   {
    "duration": 15,
    "start_time": "2021-11-18T21:41:20.725Z"
   },
   {
    "duration": 16,
    "start_time": "2021-11-18T21:41:20.742Z"
   },
   {
    "duration": 669,
    "start_time": "2021-11-18T21:41:20.759Z"
   },
   {
    "duration": 31,
    "start_time": "2021-11-18T21:41:21.430Z"
   },
   {
    "duration": 12,
    "start_time": "2021-11-18T21:41:21.463Z"
   },
   {
    "duration": 45,
    "start_time": "2021-11-18T21:41:21.477Z"
   },
   {
    "duration": 13,
    "start_time": "2021-11-18T21:41:21.523Z"
   },
   {
    "duration": 563,
    "start_time": "2021-11-18T21:41:21.538Z"
   },
   {
    "duration": 23,
    "start_time": "2021-11-18T21:41:22.106Z"
   },
   {
    "duration": 23,
    "start_time": "2021-11-18T21:41:22.130Z"
   },
   {
    "duration": 366,
    "start_time": "2021-11-18T21:41:22.155Z"
   },
   {
    "duration": 5,
    "start_time": "2021-11-18T21:41:22.524Z"
   },
   {
    "duration": 23,
    "start_time": "2021-11-18T21:41:22.530Z"
   },
   {
    "duration": 4,
    "start_time": "2021-11-18T21:41:22.555Z"
   },
   {
    "duration": 11,
    "start_time": "2021-11-18T21:41:22.561Z"
   },
   {
    "duration": 7,
    "start_time": "2021-11-18T21:41:22.573Z"
   },
   {
    "duration": 454,
    "start_time": "2021-11-18T21:41:22.582Z"
   },
   {
    "duration": 437,
    "start_time": "2021-11-18T21:41:23.037Z"
   },
   {
    "duration": 489,
    "start_time": "2021-11-18T21:41:23.476Z"
   },
   {
    "duration": 10,
    "start_time": "2021-11-18T21:41:23.967Z"
   },
   {
    "duration": 23,
    "start_time": "2021-11-18T21:41:23.978Z"
   },
   {
    "duration": 4,
    "start_time": "2021-11-18T21:41:24.006Z"
   },
   {
    "duration": 183,
    "start_time": "2021-11-18T21:41:24.011Z"
   },
   {
    "duration": 192,
    "start_time": "2021-11-18T21:41:24.195Z"
   },
   {
    "duration": 192,
    "start_time": "2021-11-18T21:41:24.389Z"
   },
   {
    "duration": 4,
    "start_time": "2021-11-18T21:41:24.582Z"
   },
   {
    "duration": 24,
    "start_time": "2021-11-18T21:41:24.587Z"
   },
   {
    "duration": 10,
    "start_time": "2021-11-18T21:41:24.613Z"
   },
   {
    "duration": 10,
    "start_time": "2021-11-18T21:41:24.625Z"
   },
   {
    "duration": 5,
    "start_time": "2021-11-18T21:41:24.636Z"
   },
   {
    "duration": 14,
    "start_time": "2021-11-18T21:41:24.642Z"
   },
   {
    "duration": 13,
    "start_time": "2021-11-18T21:41:24.657Z"
   },
   {
    "duration": 15,
    "start_time": "2021-11-18T21:41:24.672Z"
   },
   {
    "duration": 20,
    "start_time": "2021-11-18T21:41:24.688Z"
   },
   {
    "duration": 10,
    "start_time": "2021-11-18T21:41:24.710Z"
   },
   {
    "duration": 5,
    "start_time": "2021-11-18T21:41:24.721Z"
   },
   {
    "duration": 5,
    "start_time": "2021-11-18T21:43:22.145Z"
   },
   {
    "duration": 8,
    "start_time": "2021-11-18T21:43:25.535Z"
   },
   {
    "duration": 9,
    "start_time": "2021-11-18T21:43:27.358Z"
   },
   {
    "duration": 7,
    "start_time": "2021-11-18T21:43:29.328Z"
   },
   {
    "duration": 6,
    "start_time": "2021-11-18T21:43:32.730Z"
   },
   {
    "duration": 5,
    "start_time": "2021-11-18T21:58:39.078Z"
   },
   {
    "duration": 459,
    "start_time": "2021-11-18T22:00:05.209Z"
   },
   {
    "duration": 3,
    "start_time": "2021-11-18T22:01:24.122Z"
   },
   {
    "duration": 20,
    "start_time": "2021-11-18T22:02:43.581Z"
   },
   {
    "duration": 21,
    "start_time": "2021-11-18T22:06:39.561Z"
   },
   {
    "duration": 25,
    "start_time": "2021-11-18T22:08:20.793Z"
   },
   {
    "duration": 18,
    "start_time": "2021-11-18T22:08:40.118Z"
   },
   {
    "duration": 5,
    "start_time": "2021-11-18T22:08:47.214Z"
   },
   {
    "duration": 3,
    "start_time": "2021-11-18T22:08:50.650Z"
   },
   {
    "duration": 5,
    "start_time": "2021-11-18T22:08:53.628Z"
   },
   {
    "duration": 547,
    "start_time": "2021-11-18T22:08:55.747Z"
   },
   {
    "duration": 552,
    "start_time": "2021-11-18T22:09:01.472Z"
   },
   {
    "duration": 5,
    "start_time": "2021-11-18T22:09:59.927Z"
   },
   {
    "duration": 3,
    "start_time": "2021-11-18T22:10:02.683Z"
   },
   {
    "duration": 388,
    "start_time": "2021-11-18T22:10:07.052Z"
   },
   {
    "duration": 436,
    "start_time": "2021-11-18T22:10:15.631Z"
   },
   {
    "duration": 19,
    "start_time": "2021-11-18T22:10:38.834Z"
   },
   {
    "duration": 381,
    "start_time": "2021-11-18T22:11:28.906Z"
   },
   {
    "duration": 351,
    "start_time": "2021-11-18T22:11:34.295Z"
   },
   {
    "duration": 12,
    "start_time": "2021-11-18T22:11:43.305Z"
   },
   {
    "duration": 561,
    "start_time": "2021-11-18T22:12:53.970Z"
   },
   {
    "duration": 432,
    "start_time": "2021-11-18T22:13:09.764Z"
   },
   {
    "duration": 4763,
    "start_time": "2021-11-19T08:09:05.555Z"
   },
   {
    "duration": 1504,
    "start_time": "2021-11-19T08:09:10.321Z"
   },
   {
    "duration": 47,
    "start_time": "2021-11-19T08:09:11.830Z"
   },
   {
    "duration": 26,
    "start_time": "2021-11-19T08:09:11.880Z"
   },
   {
    "duration": 36,
    "start_time": "2021-11-19T08:09:11.909Z"
   },
   {
    "duration": 99,
    "start_time": "2021-11-19T08:09:11.948Z"
   },
   {
    "duration": 22,
    "start_time": "2021-11-19T08:09:12.050Z"
   },
   {
    "duration": 13,
    "start_time": "2021-11-19T08:09:12.078Z"
   },
   {
    "duration": 39,
    "start_time": "2021-11-19T08:09:12.094Z"
   },
   {
    "duration": 15,
    "start_time": "2021-11-19T08:09:12.136Z"
   },
   {
    "duration": 9,
    "start_time": "2021-11-19T08:09:12.153Z"
   },
   {
    "duration": 28,
    "start_time": "2021-11-19T08:09:12.165Z"
   },
   {
    "duration": 46,
    "start_time": "2021-11-19T08:09:12.196Z"
   },
   {
    "duration": 13,
    "start_time": "2021-11-19T08:09:12.245Z"
   },
   {
    "duration": 6,
    "start_time": "2021-11-19T08:09:12.261Z"
   },
   {
    "duration": 59,
    "start_time": "2021-11-19T08:09:12.270Z"
   },
   {
    "duration": 839,
    "start_time": "2021-11-19T08:09:12.332Z"
   },
   {
    "duration": 20,
    "start_time": "2021-11-19T08:09:13.174Z"
   },
   {
    "duration": 42,
    "start_time": "2021-11-19T08:09:13.197Z"
   },
   {
    "duration": 353,
    "start_time": "2021-11-19T08:09:13.242Z"
   },
   {
    "duration": 9,
    "start_time": "2021-11-19T08:09:13.598Z"
   },
   {
    "duration": 33,
    "start_time": "2021-11-19T08:09:13.609Z"
   },
   {
    "duration": 16,
    "start_time": "2021-11-19T08:09:13.649Z"
   },
   {
    "duration": 567,
    "start_time": "2021-11-19T08:09:13.669Z"
   },
   {
    "duration": 15,
    "start_time": "2021-11-19T08:09:14.239Z"
   },
   {
    "duration": 19,
    "start_time": "2021-11-19T08:09:14.256Z"
   },
   {
    "duration": 50,
    "start_time": "2021-11-19T08:09:14.278Z"
   },
   {
    "duration": 407,
    "start_time": "2021-11-19T08:09:14.330Z"
   },
   {
    "duration": -78,
    "start_time": "2021-11-19T08:09:14.818Z"
   },
   {
    "duration": -82,
    "start_time": "2021-11-19T08:09:14.824Z"
   },
   {
    "duration": -90,
    "start_time": "2021-11-19T08:09:14.833Z"
   },
   {
    "duration": -96,
    "start_time": "2021-11-19T08:09:14.841Z"
   },
   {
    "duration": -100,
    "start_time": "2021-11-19T08:09:14.846Z"
   },
   {
    "duration": -105,
    "start_time": "2021-11-19T08:09:14.852Z"
   },
   {
    "duration": -109,
    "start_time": "2021-11-19T08:09:14.857Z"
   },
   {
    "duration": -113,
    "start_time": "2021-11-19T08:09:14.863Z"
   },
   {
    "duration": -118,
    "start_time": "2021-11-19T08:09:14.869Z"
   },
   {
    "duration": -135,
    "start_time": "2021-11-19T08:09:14.887Z"
   },
   {
    "duration": -142,
    "start_time": "2021-11-19T08:09:14.896Z"
   },
   {
    "duration": -148,
    "start_time": "2021-11-19T08:09:14.903Z"
   },
   {
    "duration": -154,
    "start_time": "2021-11-19T08:09:14.910Z"
   },
   {
    "duration": -158,
    "start_time": "2021-11-19T08:09:14.915Z"
   },
   {
    "duration": -162,
    "start_time": "2021-11-19T08:09:14.921Z"
   },
   {
    "duration": -168,
    "start_time": "2021-11-19T08:09:14.928Z"
   },
   {
    "duration": -176,
    "start_time": "2021-11-19T08:09:14.937Z"
   },
   {
    "duration": -181,
    "start_time": "2021-11-19T08:09:14.943Z"
   },
   {
    "duration": -186,
    "start_time": "2021-11-19T08:09:14.949Z"
   },
   {
    "duration": -191,
    "start_time": "2021-11-19T08:09:14.955Z"
   },
   {
    "duration": -194,
    "start_time": "2021-11-19T08:09:14.960Z"
   },
   {
    "duration": -198,
    "start_time": "2021-11-19T08:09:14.965Z"
   },
   {
    "duration": -202,
    "start_time": "2021-11-19T08:09:14.970Z"
   },
   {
    "duration": 3465,
    "start_time": "2021-11-19T08:10:19.622Z"
   },
   {
    "duration": 1467,
    "start_time": "2021-11-19T08:10:23.090Z"
   },
   {
    "duration": 46,
    "start_time": "2021-11-19T08:10:24.560Z"
   },
   {
    "duration": 27,
    "start_time": "2021-11-19T08:10:24.608Z"
   },
   {
    "duration": 21,
    "start_time": "2021-11-19T08:10:24.637Z"
   },
   {
    "duration": 99,
    "start_time": "2021-11-19T08:10:24.661Z"
   },
   {
    "duration": 20,
    "start_time": "2021-11-19T08:10:24.763Z"
   },
   {
    "duration": 12,
    "start_time": "2021-11-19T08:10:24.789Z"
   },
   {
    "duration": 7,
    "start_time": "2021-11-19T08:10:24.831Z"
   },
   {
    "duration": 12,
    "start_time": "2021-11-19T08:10:24.841Z"
   },
   {
    "duration": 8,
    "start_time": "2021-11-19T08:10:24.855Z"
   },
   {
    "duration": 27,
    "start_time": "2021-11-19T08:10:24.865Z"
   },
   {
    "duration": 15,
    "start_time": "2021-11-19T08:10:24.929Z"
   },
   {
    "duration": 11,
    "start_time": "2021-11-19T08:10:24.946Z"
   },
   {
    "duration": 5,
    "start_time": "2021-11-19T08:10:24.959Z"
   },
   {
    "duration": 20,
    "start_time": "2021-11-19T08:10:24.966Z"
   },
   {
    "duration": 912,
    "start_time": "2021-11-19T08:10:24.988Z"
   },
   {
    "duration": 29,
    "start_time": "2021-11-19T08:10:25.902Z"
   },
   {
    "duration": 16,
    "start_time": "2021-11-19T08:10:25.934Z"
   },
   {
    "duration": 363,
    "start_time": "2021-11-19T08:10:25.952Z"
   },
   {
    "duration": 16,
    "start_time": "2021-11-19T08:10:26.318Z"
   },
   {
    "duration": 15,
    "start_time": "2021-11-19T08:10:26.336Z"
   },
   {
    "duration": 7,
    "start_time": "2021-11-19T08:10:26.358Z"
   },
   {
    "duration": 605,
    "start_time": "2021-11-19T08:10:26.368Z"
   },
   {
    "duration": 17,
    "start_time": "2021-11-19T08:10:26.975Z"
   },
   {
    "duration": 11,
    "start_time": "2021-11-19T08:10:26.995Z"
   },
   {
    "duration": 44,
    "start_time": "2021-11-19T08:10:27.008Z"
   },
   {
    "duration": 396,
    "start_time": "2021-11-19T08:10:27.055Z"
   },
   {
    "duration": -101,
    "start_time": "2021-11-19T08:10:27.555Z"
   },
   {
    "duration": -104,
    "start_time": "2021-11-19T08:10:27.559Z"
   },
   {
    "duration": -108,
    "start_time": "2021-11-19T08:10:27.564Z"
   },
   {
    "duration": -110,
    "start_time": "2021-11-19T08:10:27.568Z"
   },
   {
    "duration": -114,
    "start_time": "2021-11-19T08:10:27.573Z"
   },
   {
    "duration": -117,
    "start_time": "2021-11-19T08:10:27.577Z"
   },
   {
    "duration": -121,
    "start_time": "2021-11-19T08:10:27.583Z"
   },
   {
    "duration": -123,
    "start_time": "2021-11-19T08:10:27.586Z"
   },
   {
    "duration": -127,
    "start_time": "2021-11-19T08:10:27.591Z"
   },
   {
    "duration": -128,
    "start_time": "2021-11-19T08:10:27.594Z"
   },
   {
    "duration": -133,
    "start_time": "2021-11-19T08:10:27.600Z"
   },
   {
    "duration": -136,
    "start_time": "2021-11-19T08:10:27.604Z"
   },
   {
    "duration": -139,
    "start_time": "2021-11-19T08:10:27.609Z"
   },
   {
    "duration": -143,
    "start_time": "2021-11-19T08:10:27.614Z"
   },
   {
    "duration": -165,
    "start_time": "2021-11-19T08:10:27.638Z"
   },
   {
    "duration": -168,
    "start_time": "2021-11-19T08:10:27.642Z"
   },
   {
    "duration": -173,
    "start_time": "2021-11-19T08:10:27.648Z"
   },
   {
    "duration": -176,
    "start_time": "2021-11-19T08:10:27.652Z"
   },
   {
    "duration": -178,
    "start_time": "2021-11-19T08:10:27.656Z"
   },
   {
    "duration": -181,
    "start_time": "2021-11-19T08:10:27.660Z"
   },
   {
    "duration": -186,
    "start_time": "2021-11-19T08:10:27.666Z"
   },
   {
    "duration": -191,
    "start_time": "2021-11-19T08:10:27.672Z"
   },
   {
    "duration": -194,
    "start_time": "2021-11-19T08:10:27.677Z"
   },
   {
    "duration": -197,
    "start_time": "2021-11-19T08:10:27.681Z"
   },
   {
    "duration": -200,
    "start_time": "2021-11-19T08:10:27.685Z"
   },
   {
    "duration": -213,
    "start_time": "2021-11-19T08:10:27.699Z"
   },
   {
    "duration": -216,
    "start_time": "2021-11-19T08:10:27.704Z"
   },
   {
    "duration": -220,
    "start_time": "2021-11-19T08:10:27.709Z"
   },
   {
    "duration": -222,
    "start_time": "2021-11-19T08:10:27.713Z"
   },
   {
    "duration": -226,
    "start_time": "2021-11-19T08:10:27.718Z"
   },
   {
    "duration": -193,
    "start_time": "2021-11-19T08:10:27.722Z"
   },
   {
    "duration": -196,
    "start_time": "2021-11-19T08:10:27.726Z"
   },
   {
    "duration": -198,
    "start_time": "2021-11-19T08:10:27.730Z"
   },
   {
    "duration": -201,
    "start_time": "2021-11-19T08:10:27.734Z"
   },
   {
    "duration": -203,
    "start_time": "2021-11-19T08:10:27.738Z"
   },
   {
    "duration": -206,
    "start_time": "2021-11-19T08:10:27.742Z"
   },
   {
    "duration": -209,
    "start_time": "2021-11-19T08:10:27.747Z"
   },
   {
    "duration": 3591,
    "start_time": "2021-11-19T08:13:34.258Z"
   },
   {
    "duration": 1503,
    "start_time": "2021-11-19T08:13:37.852Z"
   },
   {
    "duration": 47,
    "start_time": "2021-11-19T08:13:39.359Z"
   },
   {
    "duration": 27,
    "start_time": "2021-11-19T08:13:39.409Z"
   },
   {
    "duration": 21,
    "start_time": "2021-11-19T08:13:39.438Z"
   },
   {
    "duration": 97,
    "start_time": "2021-11-19T08:13:39.461Z"
   },
   {
    "duration": 19,
    "start_time": "2021-11-19T08:13:39.560Z"
   },
   {
    "duration": 15,
    "start_time": "2021-11-19T08:13:39.583Z"
   },
   {
    "duration": 28,
    "start_time": "2021-11-19T08:13:39.601Z"
   },
   {
    "duration": 9,
    "start_time": "2021-11-19T08:13:39.631Z"
   },
   {
    "duration": 4,
    "start_time": "2021-11-19T08:13:39.643Z"
   },
   {
    "duration": 27,
    "start_time": "2021-11-19T08:13:39.650Z"
   },
   {
    "duration": 14,
    "start_time": "2021-11-19T08:13:39.679Z"
   },
   {
    "duration": 11,
    "start_time": "2021-11-19T08:13:39.730Z"
   },
   {
    "duration": 5,
    "start_time": "2021-11-19T08:13:39.744Z"
   },
   {
    "duration": 20,
    "start_time": "2021-11-19T08:13:39.752Z"
   },
   {
    "duration": 863,
    "start_time": "2021-11-19T08:13:39.774Z"
   },
   {
    "duration": 17,
    "start_time": "2021-11-19T08:13:40.640Z"
   },
   {
    "duration": 16,
    "start_time": "2021-11-19T08:13:40.660Z"
   },
   {
    "duration": 377,
    "start_time": "2021-11-19T08:13:40.679Z"
   },
   {
    "duration": 7,
    "start_time": "2021-11-19T08:13:41.058Z"
   },
   {
    "duration": 23,
    "start_time": "2021-11-19T08:13:41.067Z"
   },
   {
    "duration": 9,
    "start_time": "2021-11-19T08:13:41.096Z"
   },
   {
    "duration": 587,
    "start_time": "2021-11-19T08:13:41.109Z"
   },
   {
    "duration": 15,
    "start_time": "2021-11-19T08:13:41.698Z"
   },
   {
    "duration": 28,
    "start_time": "2021-11-19T08:13:41.715Z"
   },
   {
    "duration": 37,
    "start_time": "2021-11-19T08:13:41.745Z"
   },
   {
    "duration": 3,
    "start_time": "2021-11-19T08:13:41.784Z"
   },
   {
    "duration": 43,
    "start_time": "2021-11-19T08:13:41.789Z"
   },
   {
    "duration": 18,
    "start_time": "2021-11-19T08:13:41.835Z"
   },
   {
    "duration": 36,
    "start_time": "2021-11-19T08:13:41.855Z"
   },
   {
    "duration": 22,
    "start_time": "2021-11-19T08:13:41.929Z"
   },
   {
    "duration": 749,
    "start_time": "2021-11-19T08:13:41.954Z"
   },
   {
    "duration": 53,
    "start_time": "2021-11-19T08:13:42.706Z"
   },
   {
    "duration": 21,
    "start_time": "2021-11-19T08:13:42.762Z"
   },
   {
    "duration": 452,
    "start_time": "2021-11-19T08:13:42.786Z"
   },
   {
    "duration": 32,
    "start_time": "2021-11-19T08:13:43.241Z"
   },
   {
    "duration": 6,
    "start_time": "2021-11-19T08:13:43.276Z"
   },
   {
    "duration": 8,
    "start_time": "2021-11-19T08:13:43.284Z"
   },
   {
    "duration": 37,
    "start_time": "2021-11-19T08:13:43.294Z"
   },
   {
    "duration": 428,
    "start_time": "2021-11-19T08:13:43.334Z"
   },
   {
    "duration": 482,
    "start_time": "2021-11-19T08:13:43.764Z"
   },
   {
    "duration": 399,
    "start_time": "2021-11-19T08:13:44.248Z"
   },
   {
    "duration": 16,
    "start_time": "2021-11-19T08:13:44.650Z"
   },
   {
    "duration": 40,
    "start_time": "2021-11-19T08:13:44.668Z"
   },
   {
    "duration": 30,
    "start_time": "2021-11-19T08:13:44.711Z"
   },
   {
    "duration": 320,
    "start_time": "2021-11-19T08:13:44.744Z"
   },
   {
    "duration": 305,
    "start_time": "2021-11-19T08:13:45.066Z"
   },
   {
    "duration": 305,
    "start_time": "2021-11-19T08:13:45.373Z"
   },
   {
    "duration": 4,
    "start_time": "2021-11-19T08:13:45.680Z"
   },
   {
    "duration": 37,
    "start_time": "2021-11-19T08:13:45.687Z"
   },
   {
    "duration": 31,
    "start_time": "2021-11-19T08:13:45.726Z"
   },
   {
    "duration": 52,
    "start_time": "2021-11-19T08:13:45.760Z"
   },
   {
    "duration": 20,
    "start_time": "2021-11-19T08:13:45.815Z"
   },
   {
    "duration": 63,
    "start_time": "2021-11-19T08:13:45.838Z"
   },
   {
    "duration": 42,
    "start_time": "2021-11-19T08:13:45.904Z"
   },
   {
    "duration": 45,
    "start_time": "2021-11-19T08:13:45.948Z"
   },
   {
    "duration": 56,
    "start_time": "2021-11-19T08:13:45.995Z"
   },
   {
    "duration": 31,
    "start_time": "2021-11-19T08:13:46.053Z"
   },
   {
    "duration": 35,
    "start_time": "2021-11-19T08:13:46.087Z"
   },
   {
    "duration": 34,
    "start_time": "2021-11-19T08:13:46.124Z"
   },
   {
    "duration": 28,
    "start_time": "2021-11-19T08:13:46.161Z"
   },
   {
    "duration": 41,
    "start_time": "2021-11-19T08:13:46.192Z"
   },
   {
    "duration": 28,
    "start_time": "2021-11-19T08:13:46.235Z"
   },
   {
    "duration": 7,
    "start_time": "2021-11-19T08:22:22.806Z"
   },
   {
    "duration": 440,
    "start_time": "2021-11-19T08:22:24.868Z"
   },
   {
    "duration": 7,
    "start_time": "2021-11-19T08:22:38.967Z"
   },
   {
    "duration": 281,
    "start_time": "2021-11-19T08:22:40.522Z"
   },
   {
    "duration": 8,
    "start_time": "2021-11-19T08:22:46.918Z"
   },
   {
    "duration": 8,
    "start_time": "2021-11-19T08:22:49.829Z"
   },
   {
    "duration": 408,
    "start_time": "2021-11-19T08:22:53.721Z"
   },
   {
    "duration": 3456,
    "start_time": "2021-11-19T09:36:48.953Z"
   },
   {
    "duration": 1440,
    "start_time": "2021-11-19T09:36:52.412Z"
   },
   {
    "duration": 46,
    "start_time": "2021-11-19T09:36:53.855Z"
   },
   {
    "duration": 31,
    "start_time": "2021-11-19T09:36:53.904Z"
   },
   {
    "duration": 21,
    "start_time": "2021-11-19T09:36:53.937Z"
   },
   {
    "duration": 116,
    "start_time": "2021-11-19T09:36:53.960Z"
   },
   {
    "duration": 19,
    "start_time": "2021-11-19T09:36:54.079Z"
   },
   {
    "duration": 35,
    "start_time": "2021-11-19T09:36:54.102Z"
   },
   {
    "duration": 7,
    "start_time": "2021-11-19T09:36:54.140Z"
   },
   {
    "duration": 13,
    "start_time": "2021-11-19T09:36:54.149Z"
   },
   {
    "duration": 6,
    "start_time": "2021-11-19T09:36:54.165Z"
   },
   {
    "duration": 77,
    "start_time": "2021-11-19T09:36:54.173Z"
   },
   {
    "duration": 14,
    "start_time": "2021-11-19T09:36:54.252Z"
   },
   {
    "duration": 11,
    "start_time": "2021-11-19T09:36:54.269Z"
   },
   {
    "duration": 50,
    "start_time": "2021-11-19T09:36:54.283Z"
   },
   {
    "duration": 32,
    "start_time": "2021-11-19T09:36:54.335Z"
   },
   {
    "duration": 878,
    "start_time": "2021-11-19T09:36:54.371Z"
   },
   {
    "duration": 19,
    "start_time": "2021-11-19T09:36:55.251Z"
   },
   {
    "duration": 14,
    "start_time": "2021-11-19T09:36:55.272Z"
   },
   {
    "duration": 390,
    "start_time": "2021-11-19T09:36:55.288Z"
   },
   {
    "duration": 9,
    "start_time": "2021-11-19T09:36:55.681Z"
   },
   {
    "duration": 49,
    "start_time": "2021-11-19T09:36:55.693Z"
   },
   {
    "duration": 7,
    "start_time": "2021-11-19T09:36:55.752Z"
   },
   {
    "duration": 611,
    "start_time": "2021-11-19T09:36:55.764Z"
   },
   {
    "duration": 15,
    "start_time": "2021-11-19T09:36:56.378Z"
   },
   {
    "duration": 35,
    "start_time": "2021-11-19T09:36:56.395Z"
   },
   {
    "duration": 48,
    "start_time": "2021-11-19T09:36:56.432Z"
   },
   {
    "duration": 4,
    "start_time": "2021-11-19T09:36:56.482Z"
   },
   {
    "duration": 53,
    "start_time": "2021-11-19T09:36:56.488Z"
   },
   {
    "duration": 15,
    "start_time": "2021-11-19T09:36:56.544Z"
   },
   {
    "duration": 69,
    "start_time": "2021-11-19T09:36:56.561Z"
   },
   {
    "duration": 20,
    "start_time": "2021-11-19T09:36:56.633Z"
   },
   {
    "duration": 777,
    "start_time": "2021-11-19T09:36:56.656Z"
   },
   {
    "duration": 39,
    "start_time": "2021-11-19T09:36:57.436Z"
   },
   {
    "duration": 58,
    "start_time": "2021-11-19T09:36:57.477Z"
   },
   {
    "duration": 486,
    "start_time": "2021-11-19T09:36:57.538Z"
   },
   {
    "duration": 30,
    "start_time": "2021-11-19T09:36:58.028Z"
   },
   {
    "duration": 16,
    "start_time": "2021-11-19T09:36:58.061Z"
   },
   {
    "duration": 16,
    "start_time": "2021-11-19T09:36:58.079Z"
   },
   {
    "duration": 32,
    "start_time": "2021-11-19T09:36:58.097Z"
   },
   {
    "duration": 436,
    "start_time": "2021-11-19T09:36:58.131Z"
   },
   {
    "duration": 496,
    "start_time": "2021-11-19T09:36:58.569Z"
   },
   {
    "duration": 447,
    "start_time": "2021-11-19T09:36:59.068Z"
   },
   {
    "duration": 25,
    "start_time": "2021-11-19T09:36:59.517Z"
   },
   {
    "duration": 51,
    "start_time": "2021-11-19T09:36:59.545Z"
   },
   {
    "duration": 14,
    "start_time": "2021-11-19T09:36:59.598Z"
   },
   {
    "duration": 457,
    "start_time": "2021-11-19T09:36:59.614Z"
   },
   {
    "duration": 446,
    "start_time": "2021-11-19T09:37:00.073Z"
   },
   {
    "duration": 482,
    "start_time": "2021-11-19T09:37:00.521Z"
   },
   {
    "duration": 4,
    "start_time": "2021-11-19T09:37:01.006Z"
   },
   {
    "duration": 35,
    "start_time": "2021-11-19T09:37:01.013Z"
   },
   {
    "duration": 55,
    "start_time": "2021-11-19T09:37:01.051Z"
   },
   {
    "duration": 36,
    "start_time": "2021-11-19T09:37:01.109Z"
   },
   {
    "duration": 11,
    "start_time": "2021-11-19T09:37:01.148Z"
   },
   {
    "duration": 58,
    "start_time": "2021-11-19T09:37:01.161Z"
   },
   {
    "duration": 20,
    "start_time": "2021-11-19T09:37:01.221Z"
   },
   {
    "duration": 39,
    "start_time": "2021-11-19T09:37:01.244Z"
   },
   {
    "duration": 23,
    "start_time": "2021-11-19T09:37:01.286Z"
   },
   {
    "duration": 29,
    "start_time": "2021-11-19T09:37:01.311Z"
   },
   {
    "duration": 29,
    "start_time": "2021-11-19T09:37:01.343Z"
   },
   {
    "duration": 33,
    "start_time": "2021-11-19T09:37:01.374Z"
   },
   {
    "duration": 18,
    "start_time": "2021-11-19T09:37:01.409Z"
   },
   {
    "duration": 23,
    "start_time": "2021-11-19T09:37:01.429Z"
   },
   {
    "duration": 30,
    "start_time": "2021-11-19T09:37:01.455Z"
   },
   {
    "duration": 7,
    "start_time": "2021-11-19T09:39:30.501Z"
   },
   {
    "duration": 1048,
    "start_time": "2021-11-19T09:39:32.488Z"
   },
   {
    "duration": 7,
    "start_time": "2021-11-19T09:39:53.566Z"
   },
   {
    "duration": 909,
    "start_time": "2021-11-19T09:39:55.230Z"
   },
   {
    "duration": 6,
    "start_time": "2021-11-19T09:40:12.419Z"
   },
   {
    "duration": 949,
    "start_time": "2021-11-19T09:40:14.018Z"
   },
   {
    "duration": 7,
    "start_time": "2021-11-19T09:40:41.262Z"
   },
   {
    "duration": 869,
    "start_time": "2021-11-19T09:40:44.382Z"
   },
   {
    "duration": 7,
    "start_time": "2021-11-19T09:40:55.374Z"
   },
   {
    "duration": 440,
    "start_time": "2021-11-19T09:40:58.542Z"
   },
   {
    "duration": 7,
    "start_time": "2021-11-19T09:41:04.826Z"
   },
   {
    "duration": 508,
    "start_time": "2021-11-19T09:41:06.348Z"
   },
   {
    "duration": 7,
    "start_time": "2021-11-19T09:41:48.656Z"
   },
   {
    "duration": 935,
    "start_time": "2021-11-19T09:41:53.579Z"
   },
   {
    "duration": 7,
    "start_time": "2021-11-19T09:44:30.254Z"
   },
   {
    "duration": 852,
    "start_time": "2021-11-19T09:44:32.189Z"
   },
   {
    "duration": 7,
    "start_time": "2021-11-19T09:44:44.947Z"
   },
   {
    "duration": 425,
    "start_time": "2021-11-19T09:44:46.237Z"
   },
   {
    "duration": 7,
    "start_time": "2021-11-19T09:45:45.951Z"
   },
   {
    "duration": 872,
    "start_time": "2021-11-19T09:45:47.837Z"
   },
   {
    "duration": 7,
    "start_time": "2021-11-19T09:46:00.263Z"
   },
   {
    "duration": 1186,
    "start_time": "2021-11-19T09:46:02.094Z"
   },
   {
    "duration": 7,
    "start_time": "2021-11-19T09:46:14.151Z"
   },
   {
    "duration": 393,
    "start_time": "2021-11-19T09:46:15.701Z"
   },
   {
    "duration": 8,
    "start_time": "2021-11-19T09:48:48.203Z"
   },
   {
    "duration": 431,
    "start_time": "2021-11-19T09:48:49.987Z"
   },
   {
    "duration": 7,
    "start_time": "2021-11-19T09:49:00.872Z"
   },
   {
    "duration": 461,
    "start_time": "2021-11-19T09:49:02.661Z"
   },
   {
    "duration": 8,
    "start_time": "2021-11-19T09:49:08.861Z"
   },
   {
    "duration": 434,
    "start_time": "2021-11-19T09:49:11.974Z"
   },
   {
    "duration": 7,
    "start_time": "2021-11-19T09:49:18.902Z"
   },
   {
    "duration": 417,
    "start_time": "2021-11-19T09:49:20.503Z"
   },
   {
    "duration": 7,
    "start_time": "2021-11-19T09:49:27.447Z"
   },
   {
    "duration": 474,
    "start_time": "2021-11-19T09:49:29.158Z"
   },
   {
    "duration": 7,
    "start_time": "2021-11-19T09:49:38.463Z"
   },
   {
    "duration": 533,
    "start_time": "2021-11-19T09:49:40.173Z"
   },
   {
    "duration": 599,
    "start_time": "2021-11-19T09:49:57.422Z"
   },
   {
    "duration": 476,
    "start_time": "2021-11-19T09:50:06.460Z"
   },
   {
    "duration": 8,
    "start_time": "2021-11-19T09:52:16.646Z"
   },
   {
    "duration": 436,
    "start_time": "2021-11-19T09:52:18.159Z"
   },
   {
    "duration": 7,
    "start_time": "2021-11-19T09:52:40.074Z"
   },
   {
    "duration": 427,
    "start_time": "2021-11-19T09:52:41.731Z"
   },
   {
    "duration": 7,
    "start_time": "2021-11-19T09:52:51.620Z"
   },
   {
    "duration": 452,
    "start_time": "2021-11-19T09:52:53.470Z"
   },
   {
    "duration": 7,
    "start_time": "2021-11-19T09:53:04.792Z"
   },
   {
    "duration": 452,
    "start_time": "2021-11-19T09:53:06.486Z"
   },
   {
    "duration": 7,
    "start_time": "2021-11-19T09:53:12.593Z"
   },
   {
    "duration": 438,
    "start_time": "2021-11-19T09:53:14.201Z"
   },
   {
    "duration": 447,
    "start_time": "2021-11-19T09:53:19.192Z"
   },
   {
    "duration": 462,
    "start_time": "2021-11-19T09:53:43.645Z"
   },
   {
    "duration": 8,
    "start_time": "2021-11-19T09:54:02.423Z"
   },
   {
    "duration": 7,
    "start_time": "2021-11-19T09:54:03.938Z"
   },
   {
    "duration": 464,
    "start_time": "2021-11-19T09:54:05.842Z"
   },
   {
    "duration": 513,
    "start_time": "2021-11-19T09:54:12.530Z"
   },
   {
    "duration": 413,
    "start_time": "2021-11-19T09:54:17.001Z"
   },
   {
    "duration": 23,
    "start_time": "2021-11-19T11:54:28.834Z"
   },
   {
    "duration": 23,
    "start_time": "2021-11-19T11:56:46.607Z"
   },
   {
    "duration": 80,
    "start_time": "2021-11-19T12:06:34.851Z"
   },
   {
    "duration": 14,
    "start_time": "2021-11-19T12:06:50.524Z"
   },
   {
    "duration": 424,
    "start_time": "2021-11-19T12:06:57.076Z"
   },
   {
    "duration": 310,
    "start_time": "2021-11-19T12:07:50.717Z"
   },
   {
    "duration": 4,
    "start_time": "2021-11-19T12:08:17.025Z"
   },
   {
    "duration": 3974,
    "start_time": "2021-11-19T12:43:36.893Z"
   },
   {
    "duration": 869,
    "start_time": "2021-11-19T12:43:40.870Z"
   },
   {
    "duration": -202,
    "start_time": "2021-11-19T12:43:41.947Z"
   },
   {
    "duration": -232,
    "start_time": "2021-11-19T12:43:41.978Z"
   },
   {
    "duration": -291,
    "start_time": "2021-11-19T12:43:42.039Z"
   },
   {
    "duration": -319,
    "start_time": "2021-11-19T12:43:42.068Z"
   },
   {
    "duration": -378,
    "start_time": "2021-11-19T12:43:42.128Z"
   },
   {
    "duration": -390,
    "start_time": "2021-11-19T12:43:42.142Z"
   },
   {
    "duration": -405,
    "start_time": "2021-11-19T12:43:42.159Z"
   },
   {
    "duration": -415,
    "start_time": "2021-11-19T12:43:42.170Z"
   },
   {
    "duration": -418,
    "start_time": "2021-11-19T12:43:42.175Z"
   },
   {
    "duration": -423,
    "start_time": "2021-11-19T12:43:42.181Z"
   },
   {
    "duration": -426,
    "start_time": "2021-11-19T12:43:42.186Z"
   },
   {
    "duration": -431,
    "start_time": "2021-11-19T12:43:42.192Z"
   },
   {
    "duration": -434,
    "start_time": "2021-11-19T12:43:42.197Z"
   },
   {
    "duration": -440,
    "start_time": "2021-11-19T12:43:42.204Z"
   },
   {
    "duration": -444,
    "start_time": "2021-11-19T12:43:42.209Z"
   },
   {
    "duration": -448,
    "start_time": "2021-11-19T12:43:42.215Z"
   },
   {
    "duration": -452,
    "start_time": "2021-11-19T12:43:42.220Z"
   },
   {
    "duration": -508,
    "start_time": "2021-11-19T12:43:42.277Z"
   },
   {
    "duration": -532,
    "start_time": "2021-11-19T12:43:42.303Z"
   },
   {
    "duration": -561,
    "start_time": "2021-11-19T12:43:42.333Z"
   },
   {
    "duration": -586,
    "start_time": "2021-11-19T12:43:42.359Z"
   },
   {
    "duration": -612,
    "start_time": "2021-11-19T12:43:42.387Z"
   },
   {
    "duration": -636,
    "start_time": "2021-11-19T12:43:42.412Z"
   },
   {
    "duration": -695,
    "start_time": "2021-11-19T12:43:42.473Z"
   },
   {
    "duration": -664,
    "start_time": "2021-11-19T12:43:42.492Z"
   },
   {
    "duration": -690,
    "start_time": "2021-11-19T12:43:42.520Z"
   },
   {
    "duration": -709,
    "start_time": "2021-11-19T12:43:42.541Z"
   },
   {
    "duration": -728,
    "start_time": "2021-11-19T12:43:42.563Z"
   },
   {
    "duration": -749,
    "start_time": "2021-11-19T12:43:42.586Z"
   },
   {
    "duration": -768,
    "start_time": "2021-11-19T12:43:42.607Z"
   },
   {
    "duration": -789,
    "start_time": "2021-11-19T12:43:42.630Z"
   },
   {
    "duration": -831,
    "start_time": "2021-11-19T12:43:42.674Z"
   },
   {
    "duration": -851,
    "start_time": "2021-11-19T12:43:42.696Z"
   },
   {
    "duration": -890,
    "start_time": "2021-11-19T12:43:42.737Z"
   },
   {
    "duration": -914,
    "start_time": "2021-11-19T12:43:42.763Z"
   },
   {
    "duration": -936,
    "start_time": "2021-11-19T12:43:42.787Z"
   },
   {
    "duration": -957,
    "start_time": "2021-11-19T12:43:42.810Z"
   },
   {
    "duration": -963,
    "start_time": "2021-11-19T12:43:42.818Z"
   },
   {
    "duration": -981,
    "start_time": "2021-11-19T12:43:42.838Z"
   },
   {
    "duration": -1006,
    "start_time": "2021-11-19T12:43:42.865Z"
   },
   {
    "duration": -1047,
    "start_time": "2021-11-19T12:43:42.908Z"
   },
   {
    "duration": -1070,
    "start_time": "2021-11-19T12:43:42.933Z"
   },
   {
    "duration": -1110,
    "start_time": "2021-11-19T12:43:42.975Z"
   },
   {
    "duration": -1158,
    "start_time": "2021-11-19T12:43:43.025Z"
   },
   {
    "duration": -1124,
    "start_time": "2021-11-19T12:43:43.054Z"
   },
   {
    "duration": -1151,
    "start_time": "2021-11-19T12:43:43.085Z"
   },
   {
    "duration": -1178,
    "start_time": "2021-11-19T12:43:43.114Z"
   },
   {
    "duration": -1211,
    "start_time": "2021-11-19T12:43:43.149Z"
   },
   {
    "duration": -1230,
    "start_time": "2021-11-19T12:43:43.170Z"
   },
   {
    "duration": -1233,
    "start_time": "2021-11-19T12:43:43.175Z"
   },
   {
    "duration": -1255,
    "start_time": "2021-11-19T12:43:43.199Z"
   },
   {
    "duration": -1278,
    "start_time": "2021-11-19T12:43:43.224Z"
   },
   {
    "duration": -1286,
    "start_time": "2021-11-19T12:43:43.233Z"
   },
   {
    "duration": -1307,
    "start_time": "2021-11-19T12:43:43.256Z"
   },
   {
    "duration": -1312,
    "start_time": "2021-11-19T12:43:43.262Z"
   },
   {
    "duration": -1338,
    "start_time": "2021-11-19T12:43:43.289Z"
   },
   {
    "duration": -1340,
    "start_time": "2021-11-19T12:43:43.293Z"
   },
   {
    "duration": -1347,
    "start_time": "2021-11-19T12:43:43.301Z"
   },
   {
    "duration": -1371,
    "start_time": "2021-11-19T12:43:43.326Z"
   },
   {
    "duration": -1378,
    "start_time": "2021-11-19T12:43:43.335Z"
   },
   {
    "duration": -1398,
    "start_time": "2021-11-19T12:43:43.356Z"
   },
   {
    "duration": -1413,
    "start_time": "2021-11-19T12:43:43.372Z"
   },
   {
    "duration": -1460,
    "start_time": "2021-11-19T12:43:43.421Z"
   },
   {
    "duration": -1484,
    "start_time": "2021-11-19T12:43:43.447Z"
   },
   {
    "duration": 708,
    "start_time": "2021-11-19T12:43:55.879Z"
   },
   {
    "duration": 3553,
    "start_time": "2021-11-19T12:44:06.526Z"
   },
   {
    "duration": 839,
    "start_time": "2021-11-19T12:44:10.082Z"
   },
   {
    "duration": -68,
    "start_time": "2021-11-19T12:44:10.995Z"
   },
   {
    "duration": -102,
    "start_time": "2021-11-19T12:44:11.030Z"
   },
   {
    "duration": -120,
    "start_time": "2021-11-19T12:44:11.050Z"
   },
   {
    "duration": -188,
    "start_time": "2021-11-19T12:44:11.120Z"
   },
   {
    "duration": -214,
    "start_time": "2021-11-19T12:44:11.147Z"
   },
   {
    "duration": -235,
    "start_time": "2021-11-19T12:44:11.170Z"
   },
   {
    "duration": -268,
    "start_time": "2021-11-19T12:44:11.204Z"
   },
   {
    "duration": -278,
    "start_time": "2021-11-19T12:44:11.215Z"
   },
   {
    "duration": -341,
    "start_time": "2021-11-19T12:44:11.280Z"
   },
   {
    "duration": -376,
    "start_time": "2021-11-19T12:44:11.316Z"
   },
   {
    "duration": -402,
    "start_time": "2021-11-19T12:44:11.343Z"
   },
   {
    "duration": -421,
    "start_time": "2021-11-19T12:44:11.363Z"
   },
   {
    "duration": -442,
    "start_time": "2021-11-19T12:44:11.385Z"
   },
   {
    "duration": -446,
    "start_time": "2021-11-19T12:44:11.391Z"
   },
   {
    "duration": -462,
    "start_time": "2021-11-19T12:44:11.408Z"
   },
   {
    "duration": -479,
    "start_time": "2021-11-19T12:44:11.426Z"
   },
   {
    "duration": -499,
    "start_time": "2021-11-19T12:44:11.447Z"
   },
   {
    "duration": -508,
    "start_time": "2021-11-19T12:44:11.457Z"
   },
   {
    "duration": -521,
    "start_time": "2021-11-19T12:44:11.472Z"
   },
   {
    "duration": -539,
    "start_time": "2021-11-19T12:44:11.491Z"
   },
   {
    "duration": -551,
    "start_time": "2021-11-19T12:44:11.505Z"
   },
   {
    "duration": -570,
    "start_time": "2021-11-19T12:44:11.525Z"
   },
   {
    "duration": -583,
    "start_time": "2021-11-19T12:44:11.539Z"
   },
   {
    "duration": -618,
    "start_time": "2021-11-19T12:44:11.575Z"
   },
   {
    "duration": -647,
    "start_time": "2021-11-19T12:44:11.606Z"
   },
   {
    "duration": -665,
    "start_time": "2021-11-19T12:44:11.625Z"
   },
   {
    "duration": -679,
    "start_time": "2021-11-19T12:44:11.640Z"
   },
   {
    "duration": -696,
    "start_time": "2021-11-19T12:44:11.659Z"
   },
   {
    "duration": -710,
    "start_time": "2021-11-19T12:44:11.674Z"
   },
   {
    "duration": -727,
    "start_time": "2021-11-19T12:44:11.692Z"
   },
   {
    "duration": -755,
    "start_time": "2021-11-19T12:44:11.722Z"
   },
   {
    "duration": -773,
    "start_time": "2021-11-19T12:44:11.741Z"
   },
   {
    "duration": -789,
    "start_time": "2021-11-19T12:44:11.758Z"
   },
   {
    "duration": -774,
    "start_time": "2021-11-19T12:44:11.803Z"
   },
   {
    "duration": -778,
    "start_time": "2021-11-19T12:44:11.809Z"
   },
   {
    "duration": -864,
    "start_time": "2021-11-19T12:44:11.897Z"
   },
   {
    "duration": -872,
    "start_time": "2021-11-19T12:44:11.906Z"
   },
   {
    "duration": -928,
    "start_time": "2021-11-19T12:44:11.963Z"
   },
   {
    "duration": -981,
    "start_time": "2021-11-19T12:44:12.017Z"
   },
   {
    "duration": -1039,
    "start_time": "2021-11-19T12:44:12.077Z"
   },
   {
    "duration": -1124,
    "start_time": "2021-11-19T12:44:12.163Z"
   },
   {
    "duration": -1169,
    "start_time": "2021-11-19T12:44:12.209Z"
   },
   {
    "duration": -1208,
    "start_time": "2021-11-19T12:44:12.249Z"
   },
   {
    "duration": -1230,
    "start_time": "2021-11-19T12:44:12.273Z"
   },
   {
    "duration": -1237,
    "start_time": "2021-11-19T12:44:12.281Z"
   },
   {
    "duration": -1266,
    "start_time": "2021-11-19T12:44:12.311Z"
   },
   {
    "duration": -1283,
    "start_time": "2021-11-19T12:44:12.329Z"
   },
   {
    "duration": -1311,
    "start_time": "2021-11-19T12:44:12.359Z"
   },
   {
    "duration": -1317,
    "start_time": "2021-11-19T12:44:12.366Z"
   },
   {
    "duration": -1343,
    "start_time": "2021-11-19T12:44:12.393Z"
   },
   {
    "duration": -1390,
    "start_time": "2021-11-19T12:44:12.442Z"
   },
   {
    "duration": -1409,
    "start_time": "2021-11-19T12:44:12.462Z"
   },
   {
    "duration": -1435,
    "start_time": "2021-11-19T12:44:12.489Z"
   },
   {
    "duration": -1439,
    "start_time": "2021-11-19T12:44:12.495Z"
   },
   {
    "duration": -1479,
    "start_time": "2021-11-19T12:44:12.536Z"
   },
   {
    "duration": -1485,
    "start_time": "2021-11-19T12:44:12.543Z"
   },
   {
    "duration": -1499,
    "start_time": "2021-11-19T12:44:12.558Z"
   },
   {
    "duration": -1507,
    "start_time": "2021-11-19T12:44:12.568Z"
   },
   {
    "duration": -1528,
    "start_time": "2021-11-19T12:44:12.590Z"
   },
   {
    "duration": -1532,
    "start_time": "2021-11-19T12:44:12.595Z"
   },
   {
    "duration": -1547,
    "start_time": "2021-11-19T12:44:12.612Z"
   },
   {
    "duration": -1556,
    "start_time": "2021-11-19T12:44:12.622Z"
   },
   {
    "duration": -1573,
    "start_time": "2021-11-19T12:44:12.640Z"
   },
   {
    "duration": -1525,
    "start_time": "2021-11-19T12:44:12.654Z"
   },
   {
    "duration": 1801,
    "start_time": "2021-11-19T12:44:28.204Z"
   },
   {
    "duration": 3403,
    "start_time": "2021-11-19T12:45:24.879Z"
   },
   {
    "duration": 650,
    "start_time": "2021-11-19T12:45:28.285Z"
   },
   {
    "duration": -144,
    "start_time": "2021-11-19T12:45:29.086Z"
   },
   {
    "duration": -150,
    "start_time": "2021-11-19T12:45:29.093Z"
   },
   {
    "duration": -182,
    "start_time": "2021-11-19T12:45:29.126Z"
   },
   {
    "duration": -199,
    "start_time": "2021-11-19T12:45:29.145Z"
   },
   {
    "duration": -219,
    "start_time": "2021-11-19T12:45:29.166Z"
   },
   {
    "duration": -236,
    "start_time": "2021-11-19T12:45:29.185Z"
   },
   {
    "duration": -252,
    "start_time": "2021-11-19T12:45:29.202Z"
   },
   {
    "duration": -257,
    "start_time": "2021-11-19T12:45:29.208Z"
   },
   {
    "duration": -262,
    "start_time": "2021-11-19T12:45:29.214Z"
   },
   {
    "duration": -268,
    "start_time": "2021-11-19T12:45:29.222Z"
   },
   {
    "duration": -272,
    "start_time": "2021-11-19T12:45:29.227Z"
   },
   {
    "duration": -277,
    "start_time": "2021-11-19T12:45:29.233Z"
   },
   {
    "duration": -284,
    "start_time": "2021-11-19T12:45:29.241Z"
   },
   {
    "duration": -286,
    "start_time": "2021-11-19T12:45:29.245Z"
   },
   {
    "duration": -290,
    "start_time": "2021-11-19T12:45:29.250Z"
   },
   {
    "duration": -293,
    "start_time": "2021-11-19T12:45:29.254Z"
   },
   {
    "duration": -297,
    "start_time": "2021-11-19T12:45:29.259Z"
   },
   {
    "duration": -300,
    "start_time": "2021-11-19T12:45:29.264Z"
   },
   {
    "duration": -304,
    "start_time": "2021-11-19T12:45:29.269Z"
   },
   {
    "duration": -307,
    "start_time": "2021-11-19T12:45:29.273Z"
   },
   {
    "duration": -310,
    "start_time": "2021-11-19T12:45:29.278Z"
   },
   {
    "duration": -314,
    "start_time": "2021-11-19T12:45:29.283Z"
   },
   {
    "duration": -317,
    "start_time": "2021-11-19T12:45:29.287Z"
   },
   {
    "duration": -371,
    "start_time": "2021-11-19T12:45:29.343Z"
   },
   {
    "duration": -376,
    "start_time": "2021-11-19T12:45:29.349Z"
   },
   {
    "duration": -379,
    "start_time": "2021-11-19T12:45:29.354Z"
   },
   {
    "duration": -384,
    "start_time": "2021-11-19T12:45:29.360Z"
   },
   {
    "duration": -338,
    "start_time": "2021-11-19T12:45:29.367Z"
   },
   {
    "duration": -343,
    "start_time": "2021-11-19T12:45:29.374Z"
   },
   {
    "duration": -348,
    "start_time": "2021-11-19T12:45:29.380Z"
   },
   {
    "duration": -351,
    "start_time": "2021-11-19T12:45:29.385Z"
   },
   {
    "duration": -354,
    "start_time": "2021-11-19T12:45:29.389Z"
   },
   {
    "duration": -356,
    "start_time": "2021-11-19T12:45:29.393Z"
   },
   {
    "duration": -360,
    "start_time": "2021-11-19T12:45:29.398Z"
   },
   {
    "duration": -364,
    "start_time": "2021-11-19T12:45:29.403Z"
   },
   {
    "duration": -367,
    "start_time": "2021-11-19T12:45:29.408Z"
   },
   {
    "duration": -382,
    "start_time": "2021-11-19T12:45:29.424Z"
   },
   {
    "duration": -386,
    "start_time": "2021-11-19T12:45:29.429Z"
   },
   {
    "duration": -392,
    "start_time": "2021-11-19T12:45:29.436Z"
   },
   {
    "duration": -395,
    "start_time": "2021-11-19T12:45:29.440Z"
   },
   {
    "duration": -399,
    "start_time": "2021-11-19T12:45:29.445Z"
   },
   {
    "duration": -402,
    "start_time": "2021-11-19T12:45:29.449Z"
   },
   {
    "duration": -405,
    "start_time": "2021-11-19T12:45:29.454Z"
   },
   {
    "duration": -408,
    "start_time": "2021-11-19T12:45:29.458Z"
   },
   {
    "duration": -412,
    "start_time": "2021-11-19T12:45:29.463Z"
   },
   {
    "duration": -415,
    "start_time": "2021-11-19T12:45:29.467Z"
   },
   {
    "duration": -418,
    "start_time": "2021-11-19T12:45:29.471Z"
   },
   {
    "duration": -426,
    "start_time": "2021-11-19T12:45:29.481Z"
   },
   {
    "duration": -430,
    "start_time": "2021-11-19T12:45:29.486Z"
   },
   {
    "duration": -431,
    "start_time": "2021-11-19T12:45:29.489Z"
   },
   {
    "duration": -435,
    "start_time": "2021-11-19T12:45:29.494Z"
   },
   {
    "duration": -439,
    "start_time": "2021-11-19T12:45:29.499Z"
   },
   {
    "duration": -442,
    "start_time": "2021-11-19T12:45:29.503Z"
   },
   {
    "duration": -446,
    "start_time": "2021-11-19T12:45:29.508Z"
   },
   {
    "duration": -448,
    "start_time": "2021-11-19T12:45:29.512Z"
   },
   {
    "duration": -429,
    "start_time": "2021-11-19T12:45:29.559Z"
   },
   {
    "duration": -436,
    "start_time": "2021-11-19T12:45:29.568Z"
   },
   {
    "duration": -442,
    "start_time": "2021-11-19T12:45:29.575Z"
   },
   {
    "duration": -446,
    "start_time": "2021-11-19T12:45:29.581Z"
   },
   {
    "duration": -449,
    "start_time": "2021-11-19T12:45:29.585Z"
   },
   {
    "duration": -453,
    "start_time": "2021-11-19T12:45:29.590Z"
   },
   {
    "duration": -454,
    "start_time": "2021-11-19T12:45:29.593Z"
   },
   {
    "duration": -458,
    "start_time": "2021-11-19T12:45:29.598Z"
   },
   {
    "duration": -461,
    "start_time": "2021-11-19T12:45:29.602Z"
   },
   {
    "duration": 1818,
    "start_time": "2021-11-19T12:45:40.987Z"
   },
   {
    "duration": 4,
    "start_time": "2021-11-19T12:45:47.369Z"
   },
   {
    "duration": 288,
    "start_time": "2021-11-19T12:45:51.584Z"
   },
   {
    "duration": 50,
    "start_time": "2021-11-19T12:45:54.865Z"
   },
   {
    "duration": 27,
    "start_time": "2021-11-19T12:45:58.896Z"
   },
   {
    "duration": 20,
    "start_time": "2021-11-19T12:46:09.469Z"
   },
   {
    "duration": 77,
    "start_time": "2021-11-19T12:46:13.093Z"
   },
   {
    "duration": 13,
    "start_time": "2021-11-19T12:46:16.187Z"
   },
   {
    "duration": 295,
    "start_time": "2021-11-19T12:47:19.057Z"
   },
   {
    "duration": 5,
    "start_time": "2021-11-19T12:49:19.012Z"
   },
   {
    "duration": 25,
    "start_time": "2021-11-19T12:49:33.738Z"
   },
   {
    "duration": 14,
    "start_time": "2021-11-19T12:50:40.795Z"
   },
   {
    "duration": 19,
    "start_time": "2021-11-19T12:58:59.428Z"
   },
   {
    "duration": 12,
    "start_time": "2021-11-19T13:00:04.857Z"
   },
   {
    "duration": 6,
    "start_time": "2021-11-19T13:00:11.109Z"
   },
   {
    "duration": 9,
    "start_time": "2021-11-19T13:00:19.574Z"
   },
   {
    "duration": 5,
    "start_time": "2021-11-19T13:00:22.711Z"
   },
   {
    "duration": 23,
    "start_time": "2021-11-19T13:00:41.352Z"
   },
   {
    "duration": 12,
    "start_time": "2021-11-19T13:09:38.921Z"
   },
   {
    "duration": 17,
    "start_time": "2021-11-19T13:17:05.417Z"
   },
   {
    "duration": 834,
    "start_time": "2021-11-19T13:17:11.055Z"
   },
   {
    "duration": 6,
    "start_time": "2021-11-19T13:18:43.700Z"
   },
   {
    "duration": 6,
    "start_time": "2021-11-19T13:18:51.978Z"
   },
   {
    "duration": 24,
    "start_time": "2021-11-19T13:18:54.184Z"
   },
   {
    "duration": 11,
    "start_time": "2021-11-19T13:19:01.432Z"
   },
   {
    "duration": 395,
    "start_time": "2021-11-19T13:19:41.459Z"
   },
   {
    "duration": 7,
    "start_time": "2021-11-19T13:21:01.792Z"
   },
   {
    "duration": 25,
    "start_time": "2021-11-19T13:21:05.253Z"
   },
   {
    "duration": 18,
    "start_time": "2021-11-19T13:37:09.129Z"
   },
   {
    "duration": 17,
    "start_time": "2021-11-19T13:38:11.563Z"
   },
   {
    "duration": 6,
    "start_time": "2021-11-19T13:38:24.799Z"
   },
   {
    "duration": 35,
    "start_time": "2021-11-19T13:42:00.694Z"
   },
   {
    "duration": 11,
    "start_time": "2021-11-19T13:48:19.564Z"
   },
   {
    "duration": 11,
    "start_time": "2021-11-19T13:48:49.298Z"
   },
   {
    "duration": 281,
    "start_time": "2021-11-19T13:51:04.305Z"
   },
   {
    "duration": 296,
    "start_time": "2021-11-19T13:51:08.328Z"
   },
   {
    "duration": 294,
    "start_time": "2021-11-19T13:51:13.968Z"
   },
   {
    "duration": 3649,
    "start_time": "2021-11-19T13:51:24.587Z"
   },
   {
    "duration": 826,
    "start_time": "2021-11-19T13:51:28.239Z"
   },
   {
    "duration": -98,
    "start_time": "2021-11-19T13:51:29.171Z"
   },
   {
    "duration": -153,
    "start_time": "2021-11-19T13:51:29.228Z"
   },
   {
    "duration": -159,
    "start_time": "2021-11-19T13:51:29.235Z"
   },
   {
    "duration": -164,
    "start_time": "2021-11-19T13:51:29.242Z"
   },
   {
    "duration": -173,
    "start_time": "2021-11-19T13:51:29.252Z"
   },
   {
    "duration": -183,
    "start_time": "2021-11-19T13:51:29.263Z"
   },
   {
    "duration": -186,
    "start_time": "2021-11-19T13:51:29.268Z"
   },
   {
    "duration": -192,
    "start_time": "2021-11-19T13:51:29.275Z"
   },
   {
    "duration": -196,
    "start_time": "2021-11-19T13:51:29.281Z"
   },
   {
    "duration": -201,
    "start_time": "2021-11-19T13:51:29.287Z"
   },
   {
    "duration": -206,
    "start_time": "2021-11-19T13:51:29.293Z"
   },
   {
    "duration": -210,
    "start_time": "2021-11-19T13:51:29.299Z"
   },
   {
    "duration": -214,
    "start_time": "2021-11-19T13:51:29.304Z"
   },
   {
    "duration": -233,
    "start_time": "2021-11-19T13:51:29.325Z"
   },
   {
    "duration": -242,
    "start_time": "2021-11-19T13:51:29.335Z"
   },
   {
    "duration": -247,
    "start_time": "2021-11-19T13:51:29.342Z"
   },
   {
    "duration": -254,
    "start_time": "2021-11-19T13:51:29.350Z"
   },
   {
    "duration": -261,
    "start_time": "2021-11-19T13:51:29.358Z"
   },
   {
    "duration": -265,
    "start_time": "2021-11-19T13:51:29.364Z"
   },
   {
    "duration": -299,
    "start_time": "2021-11-19T13:51:29.399Z"
   },
   {
    "duration": -347,
    "start_time": "2021-11-19T13:51:29.448Z"
   },
   {
    "duration": -354,
    "start_time": "2021-11-19T13:51:29.457Z"
   },
   {
    "duration": -365,
    "start_time": "2021-11-19T13:51:29.469Z"
   },
   {
    "duration": -372,
    "start_time": "2021-11-19T13:51:29.478Z"
   },
   {
    "duration": -376,
    "start_time": "2021-11-19T13:51:29.483Z"
   },
   {
    "duration": -362,
    "start_time": "2021-11-19T13:51:29.490Z"
   },
   {
    "duration": -368,
    "start_time": "2021-11-19T13:51:29.498Z"
   },
   {
    "duration": -374,
    "start_time": "2021-11-19T13:51:29.506Z"
   },
   {
    "duration": -382,
    "start_time": "2021-11-19T13:51:29.516Z"
   },
   {
    "duration": -405,
    "start_time": "2021-11-19T13:51:29.541Z"
   },
   {
    "duration": -410,
    "start_time": "2021-11-19T13:51:29.548Z"
   },
   {
    "duration": -412,
    "start_time": "2021-11-19T13:51:29.553Z"
   },
   {
    "duration": -415,
    "start_time": "2021-11-19T13:51:29.558Z"
   },
   {
    "duration": -419,
    "start_time": "2021-11-19T13:51:29.564Z"
   },
   {
    "duration": -422,
    "start_time": "2021-11-19T13:51:29.569Z"
   },
   {
    "duration": -424,
    "start_time": "2021-11-19T13:51:29.574Z"
   },
   {
    "duration": -426,
    "start_time": "2021-11-19T13:51:29.578Z"
   },
   {
    "duration": -438,
    "start_time": "2021-11-19T13:51:29.592Z"
   },
   {
    "duration": -526,
    "start_time": "2021-11-19T13:51:29.682Z"
   },
   {
    "duration": -529,
    "start_time": "2021-11-19T13:51:29.687Z"
   },
   {
    "duration": -531,
    "start_time": "2021-11-19T13:51:29.691Z"
   },
   {
    "duration": -534,
    "start_time": "2021-11-19T13:51:29.696Z"
   },
   {
    "duration": -536,
    "start_time": "2021-11-19T13:51:29.700Z"
   },
   {
    "duration": -475,
    "start_time": "2021-11-19T13:51:29.705Z"
   },
   {
    "duration": -506,
    "start_time": "2021-11-19T13:51:29.738Z"
   },
   {
    "duration": -510,
    "start_time": "2021-11-19T13:51:29.743Z"
   },
   {
    "duration": -525,
    "start_time": "2021-11-19T13:51:29.759Z"
   },
   {
    "duration": -528,
    "start_time": "2021-11-19T13:51:29.764Z"
   },
   {
    "duration": -530,
    "start_time": "2021-11-19T13:51:29.768Z"
   },
   {
    "duration": -534,
    "start_time": "2021-11-19T13:51:29.773Z"
   },
   {
    "duration": -537,
    "start_time": "2021-11-19T13:51:29.778Z"
   },
   {
    "duration": -542,
    "start_time": "2021-11-19T13:51:29.784Z"
   },
   {
    "duration": -546,
    "start_time": "2021-11-19T13:51:29.789Z"
   },
   {
    "duration": -549,
    "start_time": "2021-11-19T13:51:29.794Z"
   },
   {
    "duration": -552,
    "start_time": "2021-11-19T13:51:29.798Z"
   },
   {
    "duration": -555,
    "start_time": "2021-11-19T13:51:29.803Z"
   },
   {
    "duration": -558,
    "start_time": "2021-11-19T13:51:29.807Z"
   },
   {
    "duration": -561,
    "start_time": "2021-11-19T13:51:29.812Z"
   },
   {
    "duration": 4800,
    "start_time": "2021-11-19T13:52:58.358Z"
   },
   {
    "duration": 1498,
    "start_time": "2021-11-19T13:53:03.162Z"
   },
   {
    "duration": 47,
    "start_time": "2021-11-19T13:53:04.664Z"
   },
   {
    "duration": 41,
    "start_time": "2021-11-19T13:53:04.714Z"
   },
   {
    "duration": 27,
    "start_time": "2021-11-19T13:53:04.759Z"
   },
   {
    "duration": 121,
    "start_time": "2021-11-19T13:53:04.789Z"
   },
   {
    "duration": 18,
    "start_time": "2021-11-19T13:53:04.930Z"
   },
   {
    "duration": 6,
    "start_time": "2021-11-19T13:53:04.954Z"
   },
   {
    "duration": 74,
    "start_time": "2021-11-19T13:53:04.964Z"
   },
   {
    "duration": 22,
    "start_time": "2021-11-19T13:53:05.040Z"
   },
   {
    "duration": 23,
    "start_time": "2021-11-19T13:53:05.065Z"
   },
   {
    "duration": 40,
    "start_time": "2021-11-19T13:53:05.091Z"
   },
   {
    "duration": 6,
    "start_time": "2021-11-19T13:53:05.134Z"
   },
   {
    "duration": 23,
    "start_time": "2021-11-19T13:53:05.144Z"
   },
   {
    "duration": 45,
    "start_time": "2021-11-19T13:53:05.170Z"
   },
   {
    "duration": 20,
    "start_time": "2021-11-19T13:53:05.217Z"
   },
   {
    "duration": 7,
    "start_time": "2021-11-19T13:53:05.240Z"
   },
   {
    "duration": 26,
    "start_time": "2021-11-19T13:53:05.250Z"
   },
   {
    "duration": 74,
    "start_time": "2021-11-19T13:53:05.279Z"
   },
   {
    "duration": 20,
    "start_time": "2021-11-19T13:53:05.356Z"
   },
   {
    "duration": 982,
    "start_time": "2021-11-19T13:53:05.379Z"
   },
   {
    "duration": 19,
    "start_time": "2021-11-19T13:53:06.364Z"
   },
   {
    "duration": 45,
    "start_time": "2021-11-19T13:53:06.390Z"
   },
   {
    "duration": 408,
    "start_time": "2021-11-19T13:53:06.439Z"
   },
   {
    "duration": 51,
    "start_time": "2021-11-19T13:53:06.850Z"
   },
   {
    "duration": 52,
    "start_time": "2021-11-19T13:53:06.905Z"
   },
   {
    "duration": 31,
    "start_time": "2021-11-19T13:53:06.959Z"
   },
   {
    "duration": 629,
    "start_time": "2021-11-19T13:53:06.993Z"
   },
   {
    "duration": 20,
    "start_time": "2021-11-19T13:53:07.624Z"
   },
   {
    "duration": 43,
    "start_time": "2021-11-19T13:53:07.647Z"
   },
   {
    "duration": 44,
    "start_time": "2021-11-19T13:53:07.692Z"
   },
   {
    "duration": 4,
    "start_time": "2021-11-19T13:53:07.739Z"
   },
   {
    "duration": 60,
    "start_time": "2021-11-19T13:53:07.745Z"
   },
   {
    "duration": 30,
    "start_time": "2021-11-19T13:53:07.808Z"
   },
   {
    "duration": 69,
    "start_time": "2021-11-19T13:53:07.842Z"
   },
   {
    "duration": 55,
    "start_time": "2021-11-19T13:53:07.914Z"
   },
   {
    "duration": 886,
    "start_time": "2021-11-19T13:53:07.971Z"
   },
   {
    "duration": 42,
    "start_time": "2021-11-19T13:53:08.860Z"
   },
   {
    "duration": 25,
    "start_time": "2021-11-19T13:53:08.930Z"
   },
   {
    "duration": 511,
    "start_time": "2021-11-19T13:53:08.957Z"
   },
   {
    "duration": 64,
    "start_time": "2021-11-19T13:53:09.471Z"
   },
   {
    "duration": 24,
    "start_time": "2021-11-19T13:53:09.541Z"
   },
   {
    "duration": 25,
    "start_time": "2021-11-19T13:53:09.567Z"
   },
   {
    "duration": 25,
    "start_time": "2021-11-19T13:53:09.595Z"
   },
   {
    "duration": 18,
    "start_time": "2021-11-19T13:53:09.623Z"
   },
   {
    "duration": 502,
    "start_time": "2021-11-19T13:53:09.644Z"
   },
   {
    "duration": 607,
    "start_time": "2021-11-19T13:53:10.150Z"
   },
   {
    "duration": 604,
    "start_time": "2021-11-19T13:53:10.760Z"
   },
   {
    "duration": 45,
    "start_time": "2021-11-19T13:53:11.368Z"
   },
   {
    "duration": 27,
    "start_time": "2021-11-19T13:53:11.416Z"
   },
   {
    "duration": 11,
    "start_time": "2021-11-19T13:53:11.448Z"
   },
   {
    "duration": 490,
    "start_time": "2021-11-19T13:53:11.462Z"
   },
   {
    "duration": 585,
    "start_time": "2021-11-19T13:53:11.955Z"
   },
   {
    "duration": 558,
    "start_time": "2021-11-19T13:53:12.544Z"
   },
   {
    "duration": 5,
    "start_time": "2021-11-19T13:53:13.105Z"
   },
   {
    "duration": 30,
    "start_time": "2021-11-19T13:53:13.113Z"
   },
   {
    "duration": 23,
    "start_time": "2021-11-19T13:53:13.146Z"
   },
   {
    "duration": 16,
    "start_time": "2021-11-19T13:53:13.172Z"
   },
   {
    "duration": 6,
    "start_time": "2021-11-19T13:53:13.191Z"
   },
   {
    "duration": 49,
    "start_time": "2021-11-19T13:53:13.199Z"
   },
   {
    "duration": 19,
    "start_time": "2021-11-19T13:53:13.252Z"
   },
   {
    "duration": 70,
    "start_time": "2021-11-19T13:53:13.274Z"
   },
   {
    "duration": 17,
    "start_time": "2021-11-19T13:53:13.349Z"
   },
   {
    "duration": 13,
    "start_time": "2021-11-19T13:53:13.369Z"
   },
   {
    "duration": 51,
    "start_time": "2021-11-19T13:53:13.384Z"
   },
   {
    "duration": 16,
    "start_time": "2021-11-19T13:53:13.439Z"
   },
   {
    "duration": 14,
    "start_time": "2021-11-19T13:53:13.458Z"
   },
   {
    "duration": 15,
    "start_time": "2021-11-19T13:53:13.532Z"
   },
   {
    "duration": 10,
    "start_time": "2021-11-19T13:53:13.551Z"
   },
   {
    "duration": 6,
    "start_time": "2021-11-19T13:54:39.526Z"
   },
   {
    "duration": 12,
    "start_time": "2021-11-19T13:55:32.638Z"
   },
   {
    "duration": 5,
    "start_time": "2021-11-19T13:56:52.004Z"
   },
   {
    "duration": 5,
    "start_time": "2021-11-19T13:57:46.510Z"
   },
   {
    "duration": 7,
    "start_time": "2021-11-19T13:57:48.351Z"
   },
   {
    "duration": 487,
    "start_time": "2021-11-19T13:57:50.505Z"
   },
   {
    "duration": 455,
    "start_time": "2021-11-19T13:57:53.902Z"
   },
   {
    "duration": 30,
    "start_time": "2021-11-19T14:55:40.326Z"
   },
   {
    "duration": 26,
    "start_time": "2021-11-19T14:55:48.303Z"
   },
   {
    "duration": 418,
    "start_time": "2021-11-19T14:56:14.421Z"
   },
   {
    "duration": 309,
    "start_time": "2021-11-19T14:56:21.656Z"
   },
   {
    "duration": 22,
    "start_time": "2021-11-19T14:56:31.293Z"
   },
   {
    "duration": 828,
    "start_time": "2021-11-19T14:56:40.311Z"
   },
   {
    "duration": 331,
    "start_time": "2021-11-19T14:58:35.441Z"
   },
   {
    "duration": 21,
    "start_time": "2021-11-19T14:58:37.557Z"
   },
   {
    "duration": 786,
    "start_time": "2021-11-19T14:58:39.389Z"
   },
   {
    "duration": 320,
    "start_time": "2021-11-19T15:10:33.102Z"
   },
   {
    "duration": 20,
    "start_time": "2021-11-19T15:10:38.195Z"
   },
   {
    "duration": 19,
    "start_time": "2021-11-19T15:10:53.453Z"
   },
   {
    "duration": 652,
    "start_time": "2021-11-19T15:11:00.267Z"
   },
   {
    "duration": 20,
    "start_time": "2021-11-19T15:11:15.657Z"
   },
   {
    "duration": 1074,
    "start_time": "2021-11-19T15:11:17.984Z"
   },
   {
    "duration": 33,
    "start_time": "2021-11-19T15:21:50.272Z"
   },
   {
    "duration": 483,
    "start_time": "2021-11-19T15:43:36.970Z"
   },
   {
    "duration": 502,
    "start_time": "2021-11-19T15:44:40.377Z"
   },
   {
    "duration": 21,
    "start_time": "2021-11-19T15:45:21.704Z"
   },
   {
    "duration": 18,
    "start_time": "2021-11-19T15:48:28.020Z"
   },
   {
    "duration": 482,
    "start_time": "2021-11-19T15:49:23.561Z"
   },
   {
    "duration": 485,
    "start_time": "2021-11-19T15:49:32.744Z"
   },
   {
    "duration": 18,
    "start_time": "2021-11-19T15:50:15.521Z"
   },
   {
    "duration": 479,
    "start_time": "2021-11-19T15:50:18.981Z"
   },
   {
    "duration": 25,
    "start_time": "2021-11-19T15:52:14.696Z"
   },
   {
    "duration": 26,
    "start_time": "2021-11-19T15:52:45.262Z"
   },
   {
    "duration": 23,
    "start_time": "2021-11-19T15:53:51.826Z"
   },
   {
    "duration": 497,
    "start_time": "2021-11-19T15:53:57.014Z"
   },
   {
    "duration": 602,
    "start_time": "2021-11-19T15:54:10.722Z"
   },
   {
    "duration": 100,
    "start_time": "2021-11-19T15:55:53.893Z"
   },
   {
    "duration": 15,
    "start_time": "2021-11-19T15:56:02.307Z"
   },
   {
    "duration": 501,
    "start_time": "2021-11-19T15:56:38.321Z"
   },
   {
    "duration": 7,
    "start_time": "2021-11-19T15:59:25.181Z"
   },
   {
    "duration": 6,
    "start_time": "2021-11-19T16:00:23.696Z"
   },
   {
    "duration": 12,
    "start_time": "2021-11-19T16:00:58.621Z"
   },
   {
    "duration": 13,
    "start_time": "2021-11-19T16:01:04.546Z"
   },
   {
    "duration": 12,
    "start_time": "2021-11-19T16:01:08.767Z"
   },
   {
    "duration": 7,
    "start_time": "2021-11-19T16:01:34.059Z"
   },
   {
    "duration": 7,
    "start_time": "2021-11-19T16:01:48.918Z"
   },
   {
    "duration": 4,
    "start_time": "2021-11-19T16:01:56.090Z"
   },
   {
    "duration": 6,
    "start_time": "2021-11-19T16:02:04.751Z"
   },
   {
    "duration": 4,
    "start_time": "2021-11-19T16:02:06.258Z"
   },
   {
    "duration": 691,
    "start_time": "2021-11-19T16:02:08.574Z"
   },
   {
    "duration": 703,
    "start_time": "2021-11-19T16:02:14.477Z"
   },
   {
    "duration": 764,
    "start_time": "2021-11-19T16:02:23.138Z"
   },
   {
    "duration": 745,
    "start_time": "2021-11-19T16:03:22.692Z"
   },
   {
    "duration": 666,
    "start_time": "2021-11-19T16:03:35.892Z"
   },
   {
    "duration": 1028,
    "start_time": "2021-11-19T16:03:51.191Z"
   },
   {
    "duration": 684,
    "start_time": "2021-11-19T16:04:27.535Z"
   },
   {
    "duration": 712,
    "start_time": "2021-11-19T16:04:43.270Z"
   },
   {
    "duration": 660,
    "start_time": "2021-11-19T16:04:58.524Z"
   },
   {
    "duration": 821,
    "start_time": "2021-11-19T16:05:13.285Z"
   },
   {
    "duration": 285,
    "start_time": "2021-11-19T16:09:41.405Z"
   },
   {
    "duration": 8,
    "start_time": "2021-11-19T16:09:52.496Z"
   },
   {
    "duration": 17,
    "start_time": "2021-11-19T16:09:56.527Z"
   },
   {
    "duration": 16,
    "start_time": "2021-11-19T16:10:22.376Z"
   },
   {
    "duration": 18,
    "start_time": "2021-11-19T16:10:34.072Z"
   },
   {
    "duration": 19,
    "start_time": "2021-11-19T16:11:54.938Z"
   },
   {
    "duration": 21,
    "start_time": "2021-11-19T16:12:13.170Z"
   },
   {
    "duration": 21,
    "start_time": "2021-11-19T16:16:29.351Z"
   },
   {
    "duration": 58360,
    "start_time": "2021-11-23T07:27:59.865Z"
   },
   {
    "duration": 1122,
    "start_time": "2021-11-23T07:28:58.227Z"
   },
   {
    "duration": 44,
    "start_time": "2021-11-23T07:28:59.351Z"
   },
   {
    "duration": 17,
    "start_time": "2021-11-23T07:28:59.397Z"
   },
   {
    "duration": 21,
    "start_time": "2021-11-23T07:28:59.416Z"
   },
   {
    "duration": 45,
    "start_time": "2021-11-23T07:28:59.439Z"
   },
   {
    "duration": 31,
    "start_time": "2021-11-23T07:28:59.486Z"
   },
   {
    "duration": 8,
    "start_time": "2021-11-23T07:28:59.519Z"
   },
   {
    "duration": 3,
    "start_time": "2021-11-23T07:28:59.529Z"
   },
   {
    "duration": 39,
    "start_time": "2021-11-23T07:28:59.534Z"
   },
   {
    "duration": 14,
    "start_time": "2021-11-23T07:28:59.576Z"
   },
   {
    "duration": 14,
    "start_time": "2021-11-23T07:28:59.591Z"
   },
   {
    "duration": 10,
    "start_time": "2021-11-23T07:28:59.606Z"
   },
   {
    "duration": 4,
    "start_time": "2021-11-23T07:28:59.617Z"
   },
   {
    "duration": 12,
    "start_time": "2021-11-23T07:28:59.623Z"
   },
   {
    "duration": 28,
    "start_time": "2021-11-23T07:28:59.637Z"
   },
   {
    "duration": 13,
    "start_time": "2021-11-23T07:28:59.667Z"
   },
   {
    "duration": 7,
    "start_time": "2021-11-23T07:28:59.684Z"
   },
   {
    "duration": 19,
    "start_time": "2021-11-23T07:28:59.693Z"
   },
   {
    "duration": 14,
    "start_time": "2021-11-23T07:28:59.714Z"
   },
   {
    "duration": 43,
    "start_time": "2021-11-23T07:28:59.729Z"
   },
   {
    "duration": 551,
    "start_time": "2021-11-23T07:28:59.774Z"
   },
   {
    "duration": 13,
    "start_time": "2021-11-23T07:29:00.329Z"
   },
   {
    "duration": 29,
    "start_time": "2021-11-23T07:29:00.345Z"
   },
   {
    "duration": 37,
    "start_time": "2021-11-23T07:29:00.377Z"
   },
   {
    "duration": 17,
    "start_time": "2021-11-23T07:29:00.415Z"
   },
   {
    "duration": 364,
    "start_time": "2021-11-23T07:29:00.433Z"
   },
   {
    "duration": 11,
    "start_time": "2021-11-23T07:29:00.799Z"
   },
   {
    "duration": 14,
    "start_time": "2021-11-23T07:29:00.812Z"
   },
   {
    "duration": 35,
    "start_time": "2021-11-23T07:29:00.828Z"
   },
   {
    "duration": 24,
    "start_time": "2021-11-23T07:29:00.867Z"
   },
   {
    "duration": 543,
    "start_time": "2021-11-23T07:29:00.893Z"
   },
   {
    "duration": 37,
    "start_time": "2021-11-23T07:29:01.438Z"
   },
   {
    "duration": 12,
    "start_time": "2021-11-23T07:29:01.478Z"
   },
   {
    "duration": 32,
    "start_time": "2021-11-23T07:29:01.492Z"
   },
   {
    "duration": 13,
    "start_time": "2021-11-23T07:29:01.525Z"
   },
   {
    "duration": 609,
    "start_time": "2021-11-23T07:29:01.540Z"
   },
   {
    "duration": 37,
    "start_time": "2021-11-23T07:29:02.150Z"
   },
   {
    "duration": 37,
    "start_time": "2021-11-23T07:29:02.190Z"
   },
   {
    "duration": 296,
    "start_time": "2021-11-23T07:29:02.229Z"
   },
   {
    "duration": 10,
    "start_time": "2021-11-23T07:29:02.527Z"
   },
   {
    "duration": 50,
    "start_time": "2021-11-23T07:29:02.539Z"
   },
   {
    "duration": 24,
    "start_time": "2021-11-23T07:29:02.591Z"
   },
   {
    "duration": 9,
    "start_time": "2021-11-23T07:29:02.617Z"
   },
   {
    "duration": 13,
    "start_time": "2021-11-23T07:29:02.628Z"
   },
   {
    "duration": 606,
    "start_time": "2021-11-23T07:29:02.643Z"
   },
   {
    "duration": 493,
    "start_time": "2021-11-23T07:29:03.251Z"
   },
   {
    "duration": 467,
    "start_time": "2021-11-23T07:29:03.746Z"
   },
   {
    "duration": 493,
    "start_time": "2021-11-23T07:29:04.215Z"
   },
   {
    "duration": 456,
    "start_time": "2021-11-23T07:29:04.710Z"
   },
   {
    "duration": 513,
    "start_time": "2021-11-23T07:29:05.168Z"
   },
   {
    "duration": 444,
    "start_time": "2021-11-23T07:29:05.684Z"
   },
   {
    "duration": 525,
    "start_time": "2021-11-23T07:29:06.129Z"
   },
   {
    "duration": 473,
    "start_time": "2021-11-23T07:29:06.656Z"
   },
   {
    "duration": 525,
    "start_time": "2021-11-23T07:29:07.131Z"
   },
   {
    "duration": 17,
    "start_time": "2021-11-23T07:29:07.658Z"
   },
   {
    "duration": 14,
    "start_time": "2021-11-23T07:29:07.677Z"
   },
   {
    "duration": 31,
    "start_time": "2021-11-23T07:29:07.692Z"
   },
   {
    "duration": 8,
    "start_time": "2021-11-23T07:29:07.725Z"
   },
   {
    "duration": 350,
    "start_time": "2021-11-23T07:29:07.735Z"
   },
   {
    "duration": 338,
    "start_time": "2021-11-23T07:29:08.088Z"
   },
   {
    "duration": 455,
    "start_time": "2021-11-23T07:29:08.428Z"
   },
   {
    "duration": 4,
    "start_time": "2021-11-23T07:29:08.885Z"
   },
   {
    "duration": 11,
    "start_time": "2021-11-23T07:29:08.891Z"
   },
   {
    "duration": 8,
    "start_time": "2021-11-23T07:29:08.904Z"
   },
   {
    "duration": 9,
    "start_time": "2021-11-23T07:29:08.914Z"
   },
   {
    "duration": 6,
    "start_time": "2021-11-23T07:29:08.925Z"
   },
   {
    "duration": 13,
    "start_time": "2021-11-23T07:29:08.968Z"
   },
   {
    "duration": 19,
    "start_time": "2021-11-23T07:29:08.983Z"
   },
   {
    "duration": 9,
    "start_time": "2021-11-23T07:29:09.003Z"
   },
   {
    "duration": 7,
    "start_time": "2021-11-23T07:29:09.014Z"
   },
   {
    "duration": 10,
    "start_time": "2021-11-23T07:29:09.022Z"
   },
   {
    "duration": 8,
    "start_time": "2021-11-23T07:29:09.033Z"
   },
   {
    "duration": 21,
    "start_time": "2021-11-23T07:29:09.042Z"
   },
   {
    "duration": 11,
    "start_time": "2021-11-23T07:29:09.065Z"
   },
   {
    "duration": 15,
    "start_time": "2021-11-23T07:29:09.078Z"
   },
   {
    "duration": 12,
    "start_time": "2021-11-23T07:29:09.095Z"
   },
   {
    "duration": 531,
    "start_time": "2021-11-24T22:07:25.818Z"
   },
   {
    "duration": 4626,
    "start_time": "2021-11-24T22:07:39.181Z"
   },
   {
    "duration": 1383,
    "start_time": "2021-11-24T22:07:43.811Z"
   },
   {
    "duration": 46,
    "start_time": "2021-11-24T22:07:45.197Z"
   },
   {
    "duration": 27,
    "start_time": "2021-11-24T22:07:45.246Z"
   },
   {
    "duration": 20,
    "start_time": "2021-11-24T22:07:45.275Z"
   },
   {
    "duration": 67,
    "start_time": "2021-11-24T22:07:45.297Z"
   },
   {
    "duration": 49,
    "start_time": "2021-11-24T22:07:45.366Z"
   },
   {
    "duration": 12,
    "start_time": "2021-11-24T22:07:45.419Z"
   },
   {
    "duration": 5,
    "start_time": "2021-11-24T22:07:45.459Z"
   },
   {
    "duration": 22,
    "start_time": "2021-11-24T22:07:45.466Z"
   },
   {
    "duration": 17,
    "start_time": "2021-11-24T22:07:45.490Z"
   },
   {
    "duration": 14,
    "start_time": "2021-11-24T22:07:45.510Z"
   },
   {
    "duration": 33,
    "start_time": "2021-11-24T22:07:45.527Z"
   },
   {
    "duration": 7,
    "start_time": "2021-11-24T22:07:45.563Z"
   },
   {
    "duration": 11,
    "start_time": "2021-11-24T22:07:45.573Z"
   },
   {
    "duration": 10,
    "start_time": "2021-11-24T22:07:45.587Z"
   },
   {
    "duration": 5,
    "start_time": "2021-11-24T22:07:45.600Z"
   },
   {
    "duration": 56,
    "start_time": "2021-11-24T22:07:45.607Z"
   },
   {
    "duration": 15,
    "start_time": "2021-11-24T22:07:45.665Z"
   },
   {
    "duration": 3,
    "start_time": "2021-11-24T22:07:45.682Z"
   },
   {
    "duration": 8,
    "start_time": "2021-11-24T22:07:45.687Z"
   },
   {
    "duration": 24,
    "start_time": "2021-11-24T22:07:45.697Z"
   },
   {
    "duration": 46,
    "start_time": "2021-11-24T22:07:45.727Z"
   },
   {
    "duration": 945,
    "start_time": "2021-11-24T22:07:45.777Z"
   },
   {
    "duration": 17,
    "start_time": "2021-11-24T22:07:46.724Z"
   },
   {
    "duration": 5,
    "start_time": "2021-11-24T22:07:46.760Z"
   },
   {
    "duration": 23,
    "start_time": "2021-11-24T22:07:46.768Z"
   },
   {
    "duration": 7,
    "start_time": "2021-11-24T22:07:46.793Z"
   },
   {
    "duration": 568,
    "start_time": "2021-11-24T22:07:46.802Z"
   },
   {
    "duration": 15,
    "start_time": "2021-11-24T22:07:47.372Z"
   },
   {
    "duration": 7,
    "start_time": "2021-11-24T22:07:47.389Z"
   },
   {
    "duration": 31,
    "start_time": "2021-11-24T22:07:47.398Z"
   },
   {
    "duration": 46,
    "start_time": "2021-11-24T22:07:47.431Z"
   },
   {
    "duration": 903,
    "start_time": "2021-11-24T22:07:47.480Z"
   },
   {
    "duration": 33,
    "start_time": "2021-11-24T22:07:48.386Z"
   },
   {
    "duration": 40,
    "start_time": "2021-11-24T22:07:48.422Z"
   },
   {
    "duration": 34,
    "start_time": "2021-11-24T22:07:48.464Z"
   },
   {
    "duration": 21,
    "start_time": "2021-11-24T22:07:48.500Z"
   },
   {
    "duration": 914,
    "start_time": "2021-11-24T22:07:48.523Z"
   },
   {
    "duration": 20,
    "start_time": "2021-11-24T22:07:49.439Z"
   },
   {
    "duration": 3,
    "start_time": "2021-11-24T22:07:49.461Z"
   },
   {
    "duration": 8,
    "start_time": "2021-11-24T22:07:49.466Z"
   },
   {
    "duration": 6,
    "start_time": "2021-11-24T22:07:49.476Z"
   },
   {
    "duration": 12,
    "start_time": "2021-11-24T22:07:49.484Z"
   },
   {
    "duration": 70,
    "start_time": "2021-11-24T22:07:49.499Z"
   },
   {
    "duration": 22,
    "start_time": "2021-11-24T22:07:49.571Z"
   },
   {
    "duration": 420,
    "start_time": "2021-11-24T22:07:49.595Z"
   },
   {
    "duration": 15,
    "start_time": "2021-11-24T22:07:50.017Z"
   },
   {
    "duration": 48,
    "start_time": "2021-11-24T22:07:50.035Z"
   },
   {
    "duration": 2,
    "start_time": "2021-11-24T22:07:50.086Z"
   },
   {
    "duration": 7,
    "start_time": "2021-11-24T22:07:50.091Z"
   },
   {
    "duration": 7,
    "start_time": "2021-11-24T22:07:50.100Z"
   },
   {
    "duration": 784,
    "start_time": "2021-11-24T22:07:50.109Z"
   },
   {
    "duration": 709,
    "start_time": "2021-11-24T22:07:50.895Z"
   },
   {
    "duration": 709,
    "start_time": "2021-11-24T22:07:51.607Z"
   },
   {
    "duration": 802,
    "start_time": "2021-11-24T22:07:52.318Z"
   },
   {
    "duration": 695,
    "start_time": "2021-11-24T22:07:53.123Z"
   },
   {
    "duration": 703,
    "start_time": "2021-11-24T22:07:53.820Z"
   },
   {
    "duration": 16,
    "start_time": "2021-11-24T22:07:54.525Z"
   },
   {
    "duration": 15,
    "start_time": "2021-11-24T22:07:54.560Z"
   },
   {
    "duration": 20,
    "start_time": "2021-11-24T22:07:54.578Z"
   },
   {
    "duration": 7,
    "start_time": "2021-11-24T22:07:54.601Z"
   },
   {
    "duration": 465,
    "start_time": "2021-11-24T22:07:54.611Z"
   },
   {
    "duration": 475,
    "start_time": "2021-11-24T22:07:55.079Z"
   },
   {
    "duration": 414,
    "start_time": "2021-11-24T22:07:55.556Z"
   },
   {
    "duration": 4,
    "start_time": "2021-11-24T22:07:55.972Z"
   },
   {
    "duration": 18,
    "start_time": "2021-11-24T22:07:55.979Z"
   },
   {
    "duration": 15,
    "start_time": "2021-11-24T22:07:56.009Z"
   },
   {
    "duration": 45,
    "start_time": "2021-11-24T22:07:56.027Z"
   },
   {
    "duration": 7,
    "start_time": "2021-11-24T22:07:56.075Z"
   },
   {
    "duration": 16,
    "start_time": "2021-11-24T22:07:56.085Z"
   },
   {
    "duration": 15,
    "start_time": "2021-11-24T22:07:56.104Z"
   },
   {
    "duration": 50,
    "start_time": "2021-11-24T22:07:56.122Z"
   },
   {
    "duration": 14,
    "start_time": "2021-11-24T22:07:56.175Z"
   },
   {
    "duration": 10,
    "start_time": "2021-11-24T22:07:56.192Z"
   },
   {
    "duration": 9,
    "start_time": "2021-11-24T22:07:56.205Z"
   },
   {
    "duration": 10,
    "start_time": "2021-11-24T22:07:56.216Z"
   },
   {
    "duration": 8,
    "start_time": "2021-11-24T22:07:56.259Z"
   },
   {
    "duration": 10,
    "start_time": "2021-11-24T22:07:56.269Z"
   },
   {
    "duration": 10,
    "start_time": "2021-11-24T22:07:56.281Z"
   },
   {
    "duration": 80098,
    "start_time": "2021-11-25T10:02:40.155Z"
   },
   {
    "duration": 1433,
    "start_time": "2021-11-25T10:04:00.256Z"
   },
   {
    "duration": 48,
    "start_time": "2021-11-25T10:04:01.692Z"
   },
   {
    "duration": 31,
    "start_time": "2021-11-25T10:04:01.743Z"
   },
   {
    "duration": 42,
    "start_time": "2021-11-25T10:04:01.776Z"
   },
   {
    "duration": 73,
    "start_time": "2021-11-25T10:04:01.821Z"
   },
   {
    "duration": 49,
    "start_time": "2021-11-25T10:04:01.896Z"
   },
   {
    "duration": 14,
    "start_time": "2021-11-25T10:04:01.961Z"
   },
   {
    "duration": 29,
    "start_time": "2021-11-25T10:04:01.979Z"
   },
   {
    "duration": 44,
    "start_time": "2021-11-25T10:04:02.011Z"
   },
   {
    "duration": 41,
    "start_time": "2021-11-25T10:04:02.058Z"
   },
   {
    "duration": 35,
    "start_time": "2021-11-25T10:04:02.101Z"
   },
   {
    "duration": 35,
    "start_time": "2021-11-25T10:04:02.138Z"
   },
   {
    "duration": 14,
    "start_time": "2021-11-25T10:04:02.175Z"
   },
   {
    "duration": 36,
    "start_time": "2021-11-25T10:04:02.192Z"
   },
   {
    "duration": 22,
    "start_time": "2021-11-25T10:04:02.230Z"
   },
   {
    "duration": 29,
    "start_time": "2021-11-25T10:04:02.254Z"
   },
   {
    "duration": 35,
    "start_time": "2021-11-25T10:04:02.286Z"
   },
   {
    "duration": 25,
    "start_time": "2021-11-25T10:04:02.324Z"
   },
   {
    "duration": 21,
    "start_time": "2021-11-25T10:04:02.352Z"
   },
   {
    "duration": 27,
    "start_time": "2021-11-25T10:04:02.376Z"
   },
   {
    "duration": 55,
    "start_time": "2021-11-25T10:04:02.405Z"
   },
   {
    "duration": 17,
    "start_time": "2021-11-25T10:04:02.467Z"
   },
   {
    "duration": 844,
    "start_time": "2021-11-25T10:04:02.488Z"
   },
   {
    "duration": 26,
    "start_time": "2021-11-25T10:04:03.335Z"
   },
   {
    "duration": 28,
    "start_time": "2021-11-25T10:04:03.363Z"
   },
   {
    "duration": 40,
    "start_time": "2021-11-25T10:04:03.393Z"
   },
   {
    "duration": 39,
    "start_time": "2021-11-25T10:04:03.436Z"
   },
   {
    "duration": 533,
    "start_time": "2021-11-25T10:04:03.477Z"
   },
   {
    "duration": 16,
    "start_time": "2021-11-25T10:04:04.012Z"
   },
   {
    "duration": 41,
    "start_time": "2021-11-25T10:04:04.030Z"
   },
   {
    "duration": 58,
    "start_time": "2021-11-25T10:04:04.073Z"
   },
   {
    "duration": 22,
    "start_time": "2021-11-25T10:04:04.133Z"
   },
   {
    "duration": 757,
    "start_time": "2021-11-25T10:04:04.157Z"
   },
   {
    "duration": 49,
    "start_time": "2021-11-25T10:04:04.917Z"
   },
   {
    "duration": 17,
    "start_time": "2021-11-25T10:04:04.968Z"
   },
   {
    "duration": 53,
    "start_time": "2021-11-25T10:04:04.987Z"
   },
   {
    "duration": 30,
    "start_time": "2021-11-25T10:04:05.042Z"
   },
   {
    "duration": 918,
    "start_time": "2021-11-25T10:04:05.075Z"
   },
   {
    "duration": 8,
    "start_time": "2021-11-25T10:04:05.996Z"
   },
   {
    "duration": 23,
    "start_time": "2021-11-25T10:04:06.006Z"
   },
   {
    "duration": 20,
    "start_time": "2021-11-25T10:04:06.032Z"
   },
   {
    "duration": 14,
    "start_time": "2021-11-25T10:04:06.054Z"
   },
   {
    "duration": 26,
    "start_time": "2021-11-25T10:04:06.070Z"
   },
   {
    "duration": 53,
    "start_time": "2021-11-25T10:04:06.099Z"
   },
   {
    "duration": 22,
    "start_time": "2021-11-25T10:04:06.155Z"
   },
   {
    "duration": 400,
    "start_time": "2021-11-25T10:04:06.179Z"
   },
   {
    "duration": 14,
    "start_time": "2021-11-25T10:04:06.582Z"
   },
   {
    "duration": 33,
    "start_time": "2021-11-25T10:04:06.598Z"
   },
   {
    "duration": 27,
    "start_time": "2021-11-25T10:04:06.634Z"
   },
   {
    "duration": 21,
    "start_time": "2021-11-25T10:04:06.663Z"
   },
   {
    "duration": 26,
    "start_time": "2021-11-25T10:04:06.687Z"
   },
   {
    "duration": 728,
    "start_time": "2021-11-25T10:04:06.715Z"
   },
   {
    "duration": 671,
    "start_time": "2021-11-25T10:04:07.445Z"
   },
   {
    "duration": 705,
    "start_time": "2021-11-25T10:04:08.119Z"
   },
   {
    "duration": 679,
    "start_time": "2021-11-25T10:04:08.826Z"
   },
   {
    "duration": 687,
    "start_time": "2021-11-25T10:04:09.508Z"
   },
   {
    "duration": 661,
    "start_time": "2021-11-25T10:04:10.198Z"
   },
   {
    "duration": 16,
    "start_time": "2021-11-25T10:04:10.861Z"
   },
   {
    "duration": 30,
    "start_time": "2021-11-25T10:04:10.880Z"
   },
   {
    "duration": 35,
    "start_time": "2021-11-25T10:04:10.912Z"
   },
   {
    "duration": 15,
    "start_time": "2021-11-25T10:04:10.949Z"
   },
   {
    "duration": 550,
    "start_time": "2021-11-25T10:04:10.967Z"
   },
   {
    "duration": 423,
    "start_time": "2021-11-25T10:04:11.520Z"
   },
   {
    "duration": 426,
    "start_time": "2021-11-25T10:04:11.945Z"
   },
   {
    "duration": 4,
    "start_time": "2021-11-25T10:04:12.373Z"
   },
   {
    "duration": 38,
    "start_time": "2021-11-25T10:04:12.380Z"
   },
   {
    "duration": 17,
    "start_time": "2021-11-25T10:04:12.425Z"
   },
   {
    "duration": 11,
    "start_time": "2021-11-25T10:04:12.445Z"
   },
   {
    "duration": 7,
    "start_time": "2021-11-25T10:04:12.459Z"
   },
   {
    "duration": 14,
    "start_time": "2021-11-25T10:04:12.468Z"
   },
   {
    "duration": 17,
    "start_time": "2021-11-25T10:04:12.485Z"
   },
   {
    "duration": 11,
    "start_time": "2021-11-25T10:04:12.505Z"
   },
   {
    "duration": 9,
    "start_time": "2021-11-25T10:04:12.519Z"
   },
   {
    "duration": 21,
    "start_time": "2021-11-25T10:04:12.530Z"
   },
   {
    "duration": 18,
    "start_time": "2021-11-25T10:04:12.554Z"
   },
   {
    "duration": 14,
    "start_time": "2021-11-25T10:04:12.575Z"
   },
   {
    "duration": 8,
    "start_time": "2021-11-25T10:04:12.592Z"
   },
   {
    "duration": 12,
    "start_time": "2021-11-25T10:04:12.602Z"
   },
   {
    "duration": 51,
    "start_time": "2021-11-25T10:04:12.616Z"
   }
  ],
  "kernelspec": {
   "display_name": "Python 3 (ipykernel)",
   "language": "python",
   "name": "python3"
  },
  "language_info": {
   "codemirror_mode": {
    "name": "ipython",
    "version": 3
   },
   "file_extension": ".py",
   "mimetype": "text/x-python",
   "name": "python",
   "nbconvert_exporter": "python",
   "pygments_lexer": "ipython3",
   "version": "3.9.7"
  },
  "toc": {
   "base_numbering": 1,
   "nav_menu": {},
   "number_sections": true,
   "sideBar": true,
   "skip_h1_title": true,
   "title_cell": "Table of Contents",
   "title_sidebar": "Contents",
   "toc_cell": false,
   "toc_position": {},
   "toc_section_display": true,
   "toc_window_display": false
  }
 },
 "nbformat": 4,
 "nbformat_minor": 2
}
