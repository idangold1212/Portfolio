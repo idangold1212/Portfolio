{
 "cells": [
  {
   "cell_type": "markdown",
   "metadata": {},
   "source": [
    "# Analyzing borrowers’ risk of defaulting\n",
    "\n",
    "My project is to prepare a report for a bank’s loan division. I will find out if a customer’s marital status and number of children has an impact on whether they will default on a loan. The bank already has some data on customers’ credit worthiness.\n",
    "\n",
    "My main steps of analysis will be filling the missing values and necessary information. I will presenting the impact of number of children, martial status and income on whether cosumers pay the loan on time or not."
   ]
  },
  {
   "cell_type": "markdown",
   "metadata": {},
   "source": [
    "## Open the data file and have a look at the general information. "
   ]
  },
  {
   "cell_type": "code",
   "execution_count": 8,
   "metadata": {},
   "outputs": [],
   "source": [
    "import pandas as pd\n",
    "import matplotlib.pyplot as plt\n",
    "from pymystem3 import Mystem"
   ]
  },
  {
   "cell_type": "code",
   "execution_count": 5,
   "metadata": {
    "scrolled": false
   },
   "outputs": [
    {
     "data": {
      "text/html": [
       "<div>\n",
       "<style scoped>\n",
       "    .dataframe tbody tr th:only-of-type {\n",
       "        vertical-align: middle;\n",
       "    }\n",
       "\n",
       "    .dataframe tbody tr th {\n",
       "        vertical-align: top;\n",
       "    }\n",
       "\n",
       "    .dataframe thead th {\n",
       "        text-align: right;\n",
       "    }\n",
       "</style>\n",
       "<table border=\"1\" class=\"dataframe\">\n",
       "  <thead>\n",
       "    <tr style=\"text-align: right;\">\n",
       "      <th></th>\n",
       "      <th>children</th>\n",
       "      <th>days_employed</th>\n",
       "      <th>dob_years</th>\n",
       "      <th>education</th>\n",
       "      <th>education_id</th>\n",
       "      <th>family_status</th>\n",
       "      <th>family_status_id</th>\n",
       "      <th>gender</th>\n",
       "      <th>income_type</th>\n",
       "      <th>debt</th>\n",
       "      <th>total_income</th>\n",
       "      <th>purpose</th>\n",
       "    </tr>\n",
       "  </thead>\n",
       "  <tbody>\n",
       "    <tr>\n",
       "      <th>0</th>\n",
       "      <td>1</td>\n",
       "      <td>-8437.673028</td>\n",
       "      <td>42</td>\n",
       "      <td>bachelor's degree</td>\n",
       "      <td>0</td>\n",
       "      <td>married</td>\n",
       "      <td>0</td>\n",
       "      <td>F</td>\n",
       "      <td>employee</td>\n",
       "      <td>0</td>\n",
       "      <td>40620.102</td>\n",
       "      <td>purchase of the house</td>\n",
       "    </tr>\n",
       "    <tr>\n",
       "      <th>1</th>\n",
       "      <td>1</td>\n",
       "      <td>-4024.803754</td>\n",
       "      <td>36</td>\n",
       "      <td>secondary education</td>\n",
       "      <td>1</td>\n",
       "      <td>married</td>\n",
       "      <td>0</td>\n",
       "      <td>F</td>\n",
       "      <td>employee</td>\n",
       "      <td>0</td>\n",
       "      <td>17932.802</td>\n",
       "      <td>car purchase</td>\n",
       "    </tr>\n",
       "    <tr>\n",
       "      <th>2</th>\n",
       "      <td>0</td>\n",
       "      <td>-5623.422610</td>\n",
       "      <td>33</td>\n",
       "      <td>Secondary Education</td>\n",
       "      <td>1</td>\n",
       "      <td>married</td>\n",
       "      <td>0</td>\n",
       "      <td>M</td>\n",
       "      <td>employee</td>\n",
       "      <td>0</td>\n",
       "      <td>23341.752</td>\n",
       "      <td>purchase of the house</td>\n",
       "    </tr>\n",
       "    <tr>\n",
       "      <th>3</th>\n",
       "      <td>3</td>\n",
       "      <td>-4124.747207</td>\n",
       "      <td>32</td>\n",
       "      <td>secondary education</td>\n",
       "      <td>1</td>\n",
       "      <td>married</td>\n",
       "      <td>0</td>\n",
       "      <td>M</td>\n",
       "      <td>employee</td>\n",
       "      <td>0</td>\n",
       "      <td>42820.568</td>\n",
       "      <td>supplementary education</td>\n",
       "    </tr>\n",
       "    <tr>\n",
       "      <th>4</th>\n",
       "      <td>0</td>\n",
       "      <td>340266.072047</td>\n",
       "      <td>53</td>\n",
       "      <td>secondary education</td>\n",
       "      <td>1</td>\n",
       "      <td>civil partnership</td>\n",
       "      <td>1</td>\n",
       "      <td>F</td>\n",
       "      <td>retiree</td>\n",
       "      <td>0</td>\n",
       "      <td>25378.572</td>\n",
       "      <td>to have a wedding</td>\n",
       "    </tr>\n",
       "  </tbody>\n",
       "</table>\n",
       "</div>"
      ],
      "text/plain": [
       "   children  days_employed  dob_years            education  education_id  \\\n",
       "0         1   -8437.673028         42    bachelor's degree             0   \n",
       "1         1   -4024.803754         36  secondary education             1   \n",
       "2         0   -5623.422610         33  Secondary Education             1   \n",
       "3         3   -4124.747207         32  secondary education             1   \n",
       "4         0  340266.072047         53  secondary education             1   \n",
       "\n",
       "       family_status  family_status_id gender income_type  debt  total_income  \\\n",
       "0            married                 0      F    employee     0     40620.102   \n",
       "1            married                 0      F    employee     0     17932.802   \n",
       "2            married                 0      M    employee     0     23341.752   \n",
       "3            married                 0      M    employee     0     42820.568   \n",
       "4  civil partnership                 1      F     retiree     0     25378.572   \n",
       "\n",
       "                   purpose  \n",
       "0    purchase of the house  \n",
       "1             car purchase  \n",
       "2    purchase of the house  \n",
       "3  supplementary education  \n",
       "4        to have a wedding  "
      ]
     },
     "execution_count": 5,
     "metadata": {},
     "output_type": "execute_result"
    }
   ],
   "source": [
    "data = pd.read_csv('credit_scoring_eng.csv')\n",
    "data.head()"
   ]
  },
  {
   "cell_type": "markdown",
   "metadata": {},
   "source": [
    "### Conclusion"
   ]
  },
  {
   "cell_type": "markdown",
   "metadata": {},
   "source": [
    "At first look we can notice there is a lot of information in the table and many columns. Im choosing to focus on children, family status, income type, total income and purpose because they are the relevant columns for the analysis"
   ]
  },
  {
   "cell_type": "markdown",
   "metadata": {},
   "source": [
    "## Data preprocessing"
   ]
  },
  {
   "cell_type": "markdown",
   "metadata": {},
   "source": [
    "### Processing missing values"
   ]
  },
  {
   "cell_type": "code",
   "execution_count": 2,
   "metadata": {},
   "outputs": [
    {
     "name": "stdout",
     "output_type": "stream",
     "text": [
      "<class 'pandas.core.frame.DataFrame'>\n",
      "RangeIndex: 21525 entries, 0 to 21524\n",
      "Data columns (total 12 columns):\n",
      "children            21525 non-null int64\n",
      "days_employed       19351 non-null float64\n",
      "dob_years           21525 non-null int64\n",
      "education           21525 non-null object\n",
      "education_id        21525 non-null int64\n",
      "family_status       21525 non-null object\n",
      "family_status_id    21525 non-null int64\n",
      "gender              21525 non-null object\n",
      "income_type         21525 non-null object\n",
      "debt                21525 non-null int64\n",
      "total_income        19351 non-null float64\n",
      "purpose             21525 non-null object\n",
      "dtypes: float64(2), int64(5), object(5)\n",
      "memory usage: 2.0+ MB\n"
     ]
    }
   ],
   "source": [
    "data.info() #checking basic info about the table. "
   ]
  },
  {
   "cell_type": "code",
   "execution_count": 7,
   "metadata": {},
   "outputs": [
    {
     "data": {
      "text/plain": [
       "children             0.000000\n",
       "days_employed       10.099884\n",
       "dob_years            0.000000\n",
       "education            0.000000\n",
       "education_id         0.000000\n",
       "family_status        0.000000\n",
       "family_status_id     0.000000\n",
       "gender               0.000000\n",
       "income_type          0.000000\n",
       "debt                 0.000000\n",
       "total_income        10.099884\n",
       "purpose              0.000000\n",
       "dtype: float64"
      ]
     },
     "execution_count": 7,
     "metadata": {},
     "output_type": "execute_result"
    }
   ],
   "source": [
    "data.isnull().sum()*100/len(data) #checking how many null % is in every column"
   ]
  },
  {
   "cell_type": "code",
   "execution_count": 4,
   "metadata": {
    "scrolled": true
   },
   "outputs": [
    {
     "name": "stdout",
     "output_type": "stream",
     "text": [
      "children 14149\n",
      "days_employed 0\n",
      "dob_years 101\n",
      "education 0\n",
      "education_id 5260\n",
      "family_status 0\n",
      "family_status_id 12380\n",
      "gender 0\n",
      "income_type 0\n",
      "debt 19784\n",
      "total_income 0\n",
      "purpose 0\n"
     ]
    }
   ],
   "source": [
    "for i in data:\n",
    "     print( i, len(data[data[i]==0])) #cheking if there is '0' in the column and decide if it make sense"
   ]
  },
  {
   "cell_type": "code",
   "execution_count": 5,
   "metadata": {},
   "outputs": [
    {
     "data": {
      "text/plain": [
       "0         -8437.673028\n",
       "1         -4024.803754\n",
       "2         -5623.422610\n",
       "3         -4124.747207\n",
       "4        340266.072047\n",
       "             ...      \n",
       "21520     -4529.316663\n",
       "21521    343937.404131\n",
       "21522     -2113.346888\n",
       "21523     -3112.481705\n",
       "21524     -1984.507589\n",
       "Name: days_employed, Length: 21525, dtype: float64"
      ]
     },
     "execution_count": 5,
     "metadata": {},
     "output_type": "execute_result"
    }
   ],
   "source": [
    "data.days_employed #it doesn't make sense that some in minus work days"
   ]
  },
  {
   "cell_type": "code",
   "execution_count": 6,
   "metadata": {},
   "outputs": [
    {
     "data": {
      "text/plain": [
       "0        -23.116912\n",
       "1        -11.026860\n",
       "2        -15.406637\n",
       "3        -11.300677\n",
       "4        932.235814\n",
       "            ...    \n",
       "21520    -12.409087\n",
       "21521    942.294258\n",
       "21522     -5.789991\n",
       "21523     -8.527347\n",
       "21524     -5.437007\n",
       "Name: days_employed, Length: 21525, dtype: float64"
      ]
     },
     "execution_count": 6,
     "metadata": {},
     "output_type": "execute_result"
    }
   ],
   "source": [
    "data.days_employed/365 \n",
    "#some of them worked for 942 years. I'll will report this column to the managment and ignore it for now due to the fact it is unrelavent to task"
   ]
  },
  {
   "cell_type": "code",
   "execution_count": 7,
   "metadata": {},
   "outputs": [
    {
     "data": {
      "text/plain": [
       " 0     14149\n",
       " 1      4818\n",
       " 2      2055\n",
       " 3       330\n",
       " 20       76\n",
       "-1        47\n",
       " 4        41\n",
       " 5         9\n",
       "Name: children, dtype: int64"
      ]
     },
     "execution_count": 7,
     "metadata": {},
     "output_type": "execute_result"
    }
   ],
   "source": [
    "data.children.value_counts()"
   ]
  },
  {
   "cell_type": "code",
   "execution_count": 8,
   "metadata": {},
   "outputs": [
    {
     "data": {
      "text/plain": [
       "count    21525.000000\n",
       "mean         0.538908\n",
       "std          1.381587\n",
       "min         -1.000000\n",
       "25%          0.000000\n",
       "50%          0.000000\n",
       "75%          1.000000\n",
       "max         20.000000\n",
       "Name: children, dtype: float64"
      ]
     },
     "execution_count": 8,
     "metadata": {},
     "output_type": "execute_result"
    }
   ],
   "source": [
    "data.children.describe()"
   ]
  },
  {
   "cell_type": "code",
   "execution_count": 9,
   "metadata": {},
   "outputs": [
    {
     "data": {
      "text/plain": [
       " 0    14149\n",
       " 1     4818\n",
       " 2     2131\n",
       " 3      330\n",
       "-1       47\n",
       " 4       41\n",
       " 5        9\n",
       "Name: children, dtype: int64"
      ]
     },
     "execution_count": 9,
     "metadata": {},
     "output_type": "execute_result"
    }
   ],
   "source": [
    "data.loc[data['children']==20, 'children'] = 2\n",
    "data.children.value_counts()\n",
    "# 20 children is unlikely so I decided to treat it as a typo and change it to 2 children"
   ]
  },
  {
   "cell_type": "code",
   "execution_count": 10,
   "metadata": {},
   "outputs": [
    {
     "data": {
      "text/plain": [
       "0    14149\n",
       "1     4865\n",
       "2     2131\n",
       "3      330\n",
       "4       41\n",
       "5        9\n",
       "Name: children, dtype: int64"
      ]
     },
     "execution_count": 10,
     "metadata": {},
     "output_type": "execute_result"
    }
   ],
   "source": [
    "data.loc[data['children']== -1, 'children'] = 1\n",
    "data.children.value_counts()\n",
    "# same here. -1 is a typo and I change it to 1"
   ]
  },
  {
   "cell_type": "code",
   "execution_count": 11,
   "metadata": {},
   "outputs": [
    {
     "data": {
      "text/plain": [
       "0    14149\n",
       "1     4865\n",
       "2     2131\n",
       "3      330\n",
       "4       41\n",
       "5        9\n",
       "Name: children, dtype: int64"
      ]
     },
     "execution_count": 11,
     "metadata": {},
     "output_type": "execute_result"
    }
   ],
   "source": [
    "data.children.value_counts()"
   ]
  },
  {
   "cell_type": "code",
   "execution_count": 12,
   "metadata": {},
   "outputs": [
    {
     "data": {
      "text/plain": [
       "count    21525.000000\n",
       "mean         0.479721\n",
       "std          0.755528\n",
       "min          0.000000\n",
       "25%          0.000000\n",
       "50%          0.000000\n",
       "75%          1.000000\n",
       "max          5.000000\n",
       "Name: children, dtype: float64"
      ]
     },
     "execution_count": 12,
     "metadata": {},
     "output_type": "execute_result"
    }
   ],
   "source": [
    "data.children.describe()"
   ]
  },
  {
   "cell_type": "code",
   "execution_count": 13,
   "metadata": {},
   "outputs": [
    {
     "data": {
      "text/plain": [
       "2174"
      ]
     },
     "execution_count": 13,
     "metadata": {},
     "output_type": "execute_result"
    }
   ],
   "source": [
    "data.total_income.isnull().sum()"
   ]
  },
  {
   "cell_type": "code",
   "execution_count": 14,
   "metadata": {},
   "outputs": [
    {
     "data": {
      "text/plain": [
       "count     19351.000000\n",
       "mean      26787.568355\n",
       "std       16475.450632\n",
       "min        3306.762000\n",
       "25%       16488.504500\n",
       "50%       23202.870000\n",
       "75%       32549.611000\n",
       "max      362496.645000\n",
       "Name: total_income, dtype: float64"
      ]
     },
     "execution_count": 14,
     "metadata": {},
     "output_type": "execute_result"
    }
   ],
   "source": [
    "data.total_income.describe()"
   ]
  },
  {
   "cell_type": "code",
   "execution_count": 15,
   "metadata": {},
   "outputs": [
    {
     "data": {
      "text/plain": [
       "income_type\n",
       "business                       27577.2720\n",
       "civil servant                  24071.6695\n",
       "employee                       22815.1035\n",
       "entrepreneur                   79866.1030\n",
       "paternity / maternity leave     8612.6610\n",
       "retiree                        18962.3180\n",
       "student                        15712.2600\n",
       "unemployed                     21014.3605\n",
       "Name: total_income, dtype: float64"
      ]
     },
     "execution_count": 15,
     "metadata": {},
     "output_type": "execute_result"
    }
   ],
   "source": [
    "group= data.groupby('income_type')['total_income'].median()\n",
    "group"
   ]
  },
  {
   "cell_type": "code",
   "execution_count": 10,
   "metadata": {},
   "outputs": [],
   "source": [
    "data['new_income']= data['total_income'].fillna(data.groupby('income_type')['total_income'].transform('median'))\n",
    "#I decided to change to missing values in total income by creating a new column which instead fills the 'na' with median income compatible to the income type"
   ]
  },
  {
   "cell_type": "code",
   "execution_count": 11,
   "metadata": {},
   "outputs": [
    {
     "data": {
      "image/png": "[encoded data removed]",
      "text/plain": [
       "<Figure size 1152x360 with 2 Axes>"
      ]
     },
     "metadata": {
      "needs_background": "light"
     },
     "output_type": "display_data"
    }
   ],
   "source": [
    "\n",
    "# set the plot setting (two plots and overall size):\n",
    "fig, axs = plt.subplots(nrows=1, ncols=2, figsize=(16, 5))\n",
    "\n",
    "plot_range = (0, 100000)\n",
    "\n",
    "# first plot: the histogram:\n",
    "axs[0].hist(x = data['total_income'], range = plot_range, bins = 30)\n",
    "axs[0].grid()\n",
    "# the title:\n",
    "axs[0].set_title('The distribution of the source \\n `total_income` data\\n ')\n",
    "# axis labels:\n",
    "axs[0].set_xlabel('Total income')\n",
    "axs[0].set_ylabel('Number')\n",
    "\n",
    "# first plot: the histogram:\n",
    "axs[1].hist(x = data['new_income'], range = plot_range, bins = 30)\n",
    "axs[1].grid()\n",
    "# the title:\n",
    "axs[1].set_title('The distribution of the source `new_income` \\n data  using the project code \\n ')\n",
    "# axis labelsa\n",
    "axs[1].set_xlabel('New total income')\n",
    "axs[1].set_ylabel('Number')\n",
    "\n",
    "plt.show()"
   ]
  },
  {
   "cell_type": "code",
   "execution_count": 18,
   "metadata": {
    "scrolled": false
   },
   "outputs": [
    {
     "data": {
      "text/html": [
       "<div>\n",
       "<style scoped>\n",
       "    .dataframe tbody tr th:only-of-type {\n",
       "        vertical-align: middle;\n",
       "    }\n",
       "\n",
       "    .dataframe tbody tr th {\n",
       "        vertical-align: top;\n",
       "    }\n",
       "\n",
       "    .dataframe thead th {\n",
       "        text-align: right;\n",
       "    }\n",
       "</style>\n",
       "<table border=\"1\" class=\"dataframe\">\n",
       "  <thead>\n",
       "    <tr style=\"text-align: right;\">\n",
       "      <th></th>\n",
       "      <th>children</th>\n",
       "      <th>days_employed</th>\n",
       "      <th>dob_years</th>\n",
       "      <th>education</th>\n",
       "      <th>education_id</th>\n",
       "      <th>family_status</th>\n",
       "      <th>family_status_id</th>\n",
       "      <th>gender</th>\n",
       "      <th>income_type</th>\n",
       "      <th>debt</th>\n",
       "      <th>total_income</th>\n",
       "      <th>purpose</th>\n",
       "      <th>new_income</th>\n",
       "    </tr>\n",
       "  </thead>\n",
       "  <tbody>\n",
       "    <tr>\n",
       "      <td>12</td>\n",
       "      <td>0</td>\n",
       "      <td>NaN</td>\n",
       "      <td>65</td>\n",
       "      <td>secondary education</td>\n",
       "      <td>1</td>\n",
       "      <td>civil partnership</td>\n",
       "      <td>1</td>\n",
       "      <td>M</td>\n",
       "      <td>retiree</td>\n",
       "      <td>0</td>\n",
       "      <td>NaN</td>\n",
       "      <td>to have a wedding</td>\n",
       "      <td>18962.3180</td>\n",
       "    </tr>\n",
       "    <tr>\n",
       "      <td>26</td>\n",
       "      <td>0</td>\n",
       "      <td>NaN</td>\n",
       "      <td>41</td>\n",
       "      <td>secondary education</td>\n",
       "      <td>1</td>\n",
       "      <td>married</td>\n",
       "      <td>0</td>\n",
       "      <td>M</td>\n",
       "      <td>civil servant</td>\n",
       "      <td>0</td>\n",
       "      <td>NaN</td>\n",
       "      <td>education</td>\n",
       "      <td>24071.6695</td>\n",
       "    </tr>\n",
       "    <tr>\n",
       "      <td>29</td>\n",
       "      <td>0</td>\n",
       "      <td>NaN</td>\n",
       "      <td>63</td>\n",
       "      <td>secondary education</td>\n",
       "      <td>1</td>\n",
       "      <td>unmarried</td>\n",
       "      <td>4</td>\n",
       "      <td>F</td>\n",
       "      <td>retiree</td>\n",
       "      <td>0</td>\n",
       "      <td>NaN</td>\n",
       "      <td>building a real estate</td>\n",
       "      <td>18962.3180</td>\n",
       "    </tr>\n",
       "    <tr>\n",
       "      <td>41</td>\n",
       "      <td>0</td>\n",
       "      <td>NaN</td>\n",
       "      <td>50</td>\n",
       "      <td>secondary education</td>\n",
       "      <td>1</td>\n",
       "      <td>married</td>\n",
       "      <td>0</td>\n",
       "      <td>F</td>\n",
       "      <td>civil servant</td>\n",
       "      <td>0</td>\n",
       "      <td>NaN</td>\n",
       "      <td>second-hand car purchase</td>\n",
       "      <td>24071.6695</td>\n",
       "    </tr>\n",
       "    <tr>\n",
       "      <td>55</td>\n",
       "      <td>0</td>\n",
       "      <td>NaN</td>\n",
       "      <td>54</td>\n",
       "      <td>secondary education</td>\n",
       "      <td>1</td>\n",
       "      <td>civil partnership</td>\n",
       "      <td>1</td>\n",
       "      <td>F</td>\n",
       "      <td>retiree</td>\n",
       "      <td>1</td>\n",
       "      <td>NaN</td>\n",
       "      <td>to have a wedding</td>\n",
       "      <td>18962.3180</td>\n",
       "    </tr>\n",
       "    <tr>\n",
       "      <td>...</td>\n",
       "      <td>...</td>\n",
       "      <td>...</td>\n",
       "      <td>...</td>\n",
       "      <td>...</td>\n",
       "      <td>...</td>\n",
       "      <td>...</td>\n",
       "      <td>...</td>\n",
       "      <td>...</td>\n",
       "      <td>...</td>\n",
       "      <td>...</td>\n",
       "      <td>...</td>\n",
       "      <td>...</td>\n",
       "      <td>...</td>\n",
       "    </tr>\n",
       "    <tr>\n",
       "      <td>21489</td>\n",
       "      <td>2</td>\n",
       "      <td>NaN</td>\n",
       "      <td>47</td>\n",
       "      <td>Secondary Education</td>\n",
       "      <td>1</td>\n",
       "      <td>married</td>\n",
       "      <td>0</td>\n",
       "      <td>M</td>\n",
       "      <td>business</td>\n",
       "      <td>0</td>\n",
       "      <td>NaN</td>\n",
       "      <td>purchase of a car</td>\n",
       "      <td>27577.2720</td>\n",
       "    </tr>\n",
       "    <tr>\n",
       "      <td>21495</td>\n",
       "      <td>1</td>\n",
       "      <td>NaN</td>\n",
       "      <td>50</td>\n",
       "      <td>secondary education</td>\n",
       "      <td>1</td>\n",
       "      <td>civil partnership</td>\n",
       "      <td>1</td>\n",
       "      <td>F</td>\n",
       "      <td>employee</td>\n",
       "      <td>0</td>\n",
       "      <td>NaN</td>\n",
       "      <td>wedding ceremony</td>\n",
       "      <td>22815.1035</td>\n",
       "    </tr>\n",
       "    <tr>\n",
       "      <td>21497</td>\n",
       "      <td>0</td>\n",
       "      <td>NaN</td>\n",
       "      <td>48</td>\n",
       "      <td>BACHELOR'S DEGREE</td>\n",
       "      <td>0</td>\n",
       "      <td>married</td>\n",
       "      <td>0</td>\n",
       "      <td>F</td>\n",
       "      <td>business</td>\n",
       "      <td>0</td>\n",
       "      <td>NaN</td>\n",
       "      <td>building a property</td>\n",
       "      <td>27577.2720</td>\n",
       "    </tr>\n",
       "    <tr>\n",
       "      <td>21502</td>\n",
       "      <td>1</td>\n",
       "      <td>NaN</td>\n",
       "      <td>42</td>\n",
       "      <td>secondary education</td>\n",
       "      <td>1</td>\n",
       "      <td>married</td>\n",
       "      <td>0</td>\n",
       "      <td>F</td>\n",
       "      <td>employee</td>\n",
       "      <td>0</td>\n",
       "      <td>NaN</td>\n",
       "      <td>building a real estate</td>\n",
       "      <td>22815.1035</td>\n",
       "    </tr>\n",
       "    <tr>\n",
       "      <td>21510</td>\n",
       "      <td>2</td>\n",
       "      <td>NaN</td>\n",
       "      <td>28</td>\n",
       "      <td>secondary education</td>\n",
       "      <td>1</td>\n",
       "      <td>married</td>\n",
       "      <td>0</td>\n",
       "      <td>F</td>\n",
       "      <td>employee</td>\n",
       "      <td>0</td>\n",
       "      <td>NaN</td>\n",
       "      <td>car purchase</td>\n",
       "      <td>22815.1035</td>\n",
       "    </tr>\n",
       "  </tbody>\n",
       "</table>\n",
       "<p>2174 rows × 13 columns</p>\n",
       "</div>"
      ],
      "text/plain": [
       "       children  days_employed  dob_years            education  education_id  \\\n",
       "12            0            NaN         65  secondary education             1   \n",
       "26            0            NaN         41  secondary education             1   \n",
       "29            0            NaN         63  secondary education             1   \n",
       "41            0            NaN         50  secondary education             1   \n",
       "55            0            NaN         54  secondary education             1   \n",
       "...         ...            ...        ...                  ...           ...   \n",
       "21489         2            NaN         47  Secondary Education             1   \n",
       "21495         1            NaN         50  secondary education             1   \n",
       "21497         0            NaN         48    BACHELOR'S DEGREE             0   \n",
       "21502         1            NaN         42  secondary education             1   \n",
       "21510         2            NaN         28  secondary education             1   \n",
       "\n",
       "           family_status  family_status_id gender    income_type  debt  \\\n",
       "12     civil partnership                 1      M        retiree     0   \n",
       "26               married                 0      M  civil servant     0   \n",
       "29             unmarried                 4      F        retiree     0   \n",
       "41               married                 0      F  civil servant     0   \n",
       "55     civil partnership                 1      F        retiree     1   \n",
       "...                  ...               ...    ...            ...   ...   \n",
       "21489            married                 0      M       business     0   \n",
       "21495  civil partnership                 1      F       employee     0   \n",
       "21497            married                 0      F       business     0   \n",
       "21502            married                 0      F       employee     0   \n",
       "21510            married                 0      F       employee     0   \n",
       "\n",
       "       total_income                   purpose  new_income  \n",
       "12              NaN         to have a wedding  18962.3180  \n",
       "26              NaN                 education  24071.6695  \n",
       "29              NaN    building a real estate  18962.3180  \n",
       "41              NaN  second-hand car purchase  24071.6695  \n",
       "55              NaN         to have a wedding  18962.3180  \n",
       "...             ...                       ...         ...  \n",
       "21489           NaN         purchase of a car  27577.2720  \n",
       "21495           NaN          wedding ceremony  22815.1035  \n",
       "21497           NaN       building a property  27577.2720  \n",
       "21502           NaN    building a real estate  22815.1035  \n",
       "21510           NaN              car purchase  22815.1035  \n",
       "\n",
       "[2174 rows x 13 columns]"
      ]
     },
     "execution_count": 18,
     "metadata": {},
     "output_type": "execute_result"
    }
   ],
   "source": [
    "data[data.total_income.isnull()]"
   ]
  },
  {
   "cell_type": "code",
   "execution_count": 19,
   "metadata": {},
   "outputs": [
    {
     "data": {
      "text/html": [
       "<div>\n",
       "<style scoped>\n",
       "    .dataframe tbody tr th:only-of-type {\n",
       "        vertical-align: middle;\n",
       "    }\n",
       "\n",
       "    .dataframe tbody tr th {\n",
       "        vertical-align: top;\n",
       "    }\n",
       "\n",
       "    .dataframe thead th {\n",
       "        text-align: right;\n",
       "    }\n",
       "</style>\n",
       "<table border=\"1\" class=\"dataframe\">\n",
       "  <thead>\n",
       "    <tr style=\"text-align: right;\">\n",
       "      <th></th>\n",
       "      <th>children</th>\n",
       "      <th>days_employed</th>\n",
       "      <th>dob_years</th>\n",
       "      <th>education</th>\n",
       "      <th>education_id</th>\n",
       "      <th>family_status</th>\n",
       "      <th>family_status_id</th>\n",
       "      <th>gender</th>\n",
       "      <th>income_type</th>\n",
       "      <th>debt</th>\n",
       "      <th>total_income</th>\n",
       "      <th>purpose</th>\n",
       "      <th>new_income</th>\n",
       "    </tr>\n",
       "  </thead>\n",
       "  <tbody>\n",
       "    <tr>\n",
       "      <td>99</td>\n",
       "      <td>0</td>\n",
       "      <td>346541.618895</td>\n",
       "      <td>0</td>\n",
       "      <td>Secondary Education</td>\n",
       "      <td>1</td>\n",
       "      <td>married</td>\n",
       "      <td>0</td>\n",
       "      <td>F</td>\n",
       "      <td>retiree</td>\n",
       "      <td>0</td>\n",
       "      <td>11406.644</td>\n",
       "      <td>car</td>\n",
       "      <td>11406.6440</td>\n",
       "    </tr>\n",
       "    <tr>\n",
       "      <td>149</td>\n",
       "      <td>0</td>\n",
       "      <td>-2664.273168</td>\n",
       "      <td>0</td>\n",
       "      <td>secondary education</td>\n",
       "      <td>1</td>\n",
       "      <td>divorced</td>\n",
       "      <td>3</td>\n",
       "      <td>F</td>\n",
       "      <td>employee</td>\n",
       "      <td>0</td>\n",
       "      <td>11228.230</td>\n",
       "      <td>housing transactions</td>\n",
       "      <td>11228.2300</td>\n",
       "    </tr>\n",
       "    <tr>\n",
       "      <td>270</td>\n",
       "      <td>3</td>\n",
       "      <td>-1872.663186</td>\n",
       "      <td>0</td>\n",
       "      <td>secondary education</td>\n",
       "      <td>1</td>\n",
       "      <td>married</td>\n",
       "      <td>0</td>\n",
       "      <td>F</td>\n",
       "      <td>employee</td>\n",
       "      <td>0</td>\n",
       "      <td>16346.633</td>\n",
       "      <td>housing renovation</td>\n",
       "      <td>16346.6330</td>\n",
       "    </tr>\n",
       "    <tr>\n",
       "      <td>578</td>\n",
       "      <td>0</td>\n",
       "      <td>397856.565013</td>\n",
       "      <td>0</td>\n",
       "      <td>secondary education</td>\n",
       "      <td>1</td>\n",
       "      <td>married</td>\n",
       "      <td>0</td>\n",
       "      <td>F</td>\n",
       "      <td>retiree</td>\n",
       "      <td>0</td>\n",
       "      <td>15619.310</td>\n",
       "      <td>construction of own property</td>\n",
       "      <td>15619.3100</td>\n",
       "    </tr>\n",
       "    <tr>\n",
       "      <td>1040</td>\n",
       "      <td>0</td>\n",
       "      <td>-1158.029561</td>\n",
       "      <td>0</td>\n",
       "      <td>bachelor's degree</td>\n",
       "      <td>0</td>\n",
       "      <td>divorced</td>\n",
       "      <td>3</td>\n",
       "      <td>F</td>\n",
       "      <td>business</td>\n",
       "      <td>0</td>\n",
       "      <td>48639.062</td>\n",
       "      <td>to own a car</td>\n",
       "      <td>48639.0620</td>\n",
       "    </tr>\n",
       "    <tr>\n",
       "      <td>...</td>\n",
       "      <td>...</td>\n",
       "      <td>...</td>\n",
       "      <td>...</td>\n",
       "      <td>...</td>\n",
       "      <td>...</td>\n",
       "      <td>...</td>\n",
       "      <td>...</td>\n",
       "      <td>...</td>\n",
       "      <td>...</td>\n",
       "      <td>...</td>\n",
       "      <td>...</td>\n",
       "      <td>...</td>\n",
       "      <td>...</td>\n",
       "    </tr>\n",
       "    <tr>\n",
       "      <td>19829</td>\n",
       "      <td>0</td>\n",
       "      <td>NaN</td>\n",
       "      <td>0</td>\n",
       "      <td>secondary education</td>\n",
       "      <td>1</td>\n",
       "      <td>married</td>\n",
       "      <td>0</td>\n",
       "      <td>F</td>\n",
       "      <td>employee</td>\n",
       "      <td>0</td>\n",
       "      <td>NaN</td>\n",
       "      <td>housing</td>\n",
       "      <td>22815.1035</td>\n",
       "    </tr>\n",
       "    <tr>\n",
       "      <td>20462</td>\n",
       "      <td>0</td>\n",
       "      <td>338734.868540</td>\n",
       "      <td>0</td>\n",
       "      <td>secondary education</td>\n",
       "      <td>1</td>\n",
       "      <td>married</td>\n",
       "      <td>0</td>\n",
       "      <td>F</td>\n",
       "      <td>retiree</td>\n",
       "      <td>0</td>\n",
       "      <td>41471.027</td>\n",
       "      <td>purchase of my own house</td>\n",
       "      <td>41471.0270</td>\n",
       "    </tr>\n",
       "    <tr>\n",
       "      <td>20577</td>\n",
       "      <td>0</td>\n",
       "      <td>331741.271455</td>\n",
       "      <td>0</td>\n",
       "      <td>secondary education</td>\n",
       "      <td>1</td>\n",
       "      <td>unmarried</td>\n",
       "      <td>4</td>\n",
       "      <td>F</td>\n",
       "      <td>retiree</td>\n",
       "      <td>0</td>\n",
       "      <td>20766.202</td>\n",
       "      <td>property</td>\n",
       "      <td>20766.2020</td>\n",
       "    </tr>\n",
       "    <tr>\n",
       "      <td>21179</td>\n",
       "      <td>2</td>\n",
       "      <td>-108.967042</td>\n",
       "      <td>0</td>\n",
       "      <td>bachelor's degree</td>\n",
       "      <td>0</td>\n",
       "      <td>married</td>\n",
       "      <td>0</td>\n",
       "      <td>M</td>\n",
       "      <td>business</td>\n",
       "      <td>0</td>\n",
       "      <td>38512.321</td>\n",
       "      <td>building a real estate</td>\n",
       "      <td>38512.3210</td>\n",
       "    </tr>\n",
       "    <tr>\n",
       "      <td>21313</td>\n",
       "      <td>0</td>\n",
       "      <td>-1268.487728</td>\n",
       "      <td>0</td>\n",
       "      <td>secondary education</td>\n",
       "      <td>1</td>\n",
       "      <td>unmarried</td>\n",
       "      <td>4</td>\n",
       "      <td>M</td>\n",
       "      <td>employee</td>\n",
       "      <td>0</td>\n",
       "      <td>24387.070</td>\n",
       "      <td>housing transactions</td>\n",
       "      <td>24387.0700</td>\n",
       "    </tr>\n",
       "  </tbody>\n",
       "</table>\n",
       "<p>101 rows × 13 columns</p>\n",
       "</div>"
      ],
      "text/plain": [
       "       children  days_employed  dob_years            education  education_id  \\\n",
       "99            0  346541.618895          0  Secondary Education             1   \n",
       "149           0   -2664.273168          0  secondary education             1   \n",
       "270           3   -1872.663186          0  secondary education             1   \n",
       "578           0  397856.565013          0  secondary education             1   \n",
       "1040          0   -1158.029561          0    bachelor's degree             0   \n",
       "...         ...            ...        ...                  ...           ...   \n",
       "19829         0            NaN          0  secondary education             1   \n",
       "20462         0  338734.868540          0  secondary education             1   \n",
       "20577         0  331741.271455          0  secondary education             1   \n",
       "21179         2    -108.967042          0    bachelor's degree             0   \n",
       "21313         0   -1268.487728          0  secondary education             1   \n",
       "\n",
       "      family_status  family_status_id gender income_type  debt  total_income  \\\n",
       "99          married                 0      F     retiree     0     11406.644   \n",
       "149        divorced                 3      F    employee     0     11228.230   \n",
       "270         married                 0      F    employee     0     16346.633   \n",
       "578         married                 0      F     retiree     0     15619.310   \n",
       "1040       divorced                 3      F    business     0     48639.062   \n",
       "...             ...               ...    ...         ...   ...           ...   \n",
       "19829       married                 0      F    employee     0           NaN   \n",
       "20462       married                 0      F     retiree     0     41471.027   \n",
       "20577     unmarried                 4      F     retiree     0     20766.202   \n",
       "21179       married                 0      M    business     0     38512.321   \n",
       "21313     unmarried                 4      M    employee     0     24387.070   \n",
       "\n",
       "                            purpose  new_income  \n",
       "99                              car  11406.6440  \n",
       "149            housing transactions  11228.2300  \n",
       "270              housing renovation  16346.6330  \n",
       "578    construction of own property  15619.3100  \n",
       "1040                   to own a car  48639.0620  \n",
       "...                             ...         ...  \n",
       "19829                       housing  22815.1035  \n",
       "20462      purchase of my own house  41471.0270  \n",
       "20577                      property  20766.2020  \n",
       "21179        building a real estate  38512.3210  \n",
       "21313          housing transactions  24387.0700  \n",
       "\n",
       "[101 rows x 13 columns]"
      ]
     },
     "execution_count": 19,
     "metadata": {},
     "output_type": "execute_result"
    }
   ],
   "source": [
    "data.loc[data['dob_years']== 0]\n",
    "#I decided to change the D.O.B from 0 to undef because I can't determine the right answer."
   ]
  },
  {
   "cell_type": "code",
   "execution_count": 20,
   "metadata": {},
   "outputs": [],
   "source": [
    "data.loc[(data.dob_years == 0),'dob_years']='undef'"
   ]
  },
  {
   "cell_type": "code",
   "execution_count": 21,
   "metadata": {},
   "outputs": [
    {
     "data": {
      "text/plain": [
       "35       617\n",
       "40       609\n",
       "41       607\n",
       "34       603\n",
       "38       598\n",
       "42       597\n",
       "33       581\n",
       "39       573\n",
       "31       560\n",
       "36       555\n",
       "44       547\n",
       "29       545\n",
       "30       540\n",
       "48       538\n",
       "37       537\n",
       "50       514\n",
       "43       513\n",
       "32       510\n",
       "49       508\n",
       "28       503\n",
       "45       497\n",
       "27       493\n",
       "56       487\n",
       "52       484\n",
       "47       480\n",
       "54       479\n",
       "46       475\n",
       "58       461\n",
       "57       460\n",
       "53       459\n",
       "51       448\n",
       "59       444\n",
       "55       443\n",
       "26       408\n",
       "60       377\n",
       "25       357\n",
       "61       355\n",
       "62       352\n",
       "63       269\n",
       "64       265\n",
       "24       264\n",
       "23       254\n",
       "65       194\n",
       "66       183\n",
       "22       183\n",
       "67       167\n",
       "21       111\n",
       "undef    101\n",
       "68        99\n",
       "69        85\n",
       "70        65\n",
       "71        58\n",
       "20        51\n",
       "72        33\n",
       "19        14\n",
       "73         8\n",
       "74         6\n",
       "75         1\n",
       "Name: dob_years, dtype: int64"
      ]
     },
     "execution_count": 21,
     "metadata": {},
     "output_type": "execute_result"
    }
   ],
   "source": [
    "data.dob_years.value_counts()"
   ]
  },
  {
   "cell_type": "markdown",
   "metadata": {},
   "source": [
    "conclusion"
   ]
  },
  {
   "cell_type": "markdown",
   "metadata": {},
   "source": [
    "I searched for missing values or values equal to '0' in order to decide if I will drop them, fill them or ignore them:\n",
    "#Filling the missing:\n",
    "1. total income is importent for my research so I filled the missing values with the median income compatible to the median income type\n",
    "2. children column had two values that didn't make sense so I guessed that they were typo and changed them. I also checked to see if the average changed before and after and it didn't affect much\n",
    "3. I decided to change in dob_years column the '0' to undef, becaus obvisouly people asking for loan can't be 0 years old. I can't determine the real age \n",
    "#Ignore the missing:\n",
    "1. I decided to ignore the column 'days employed' because the values are wrong. some employees worked for 900 years. Also some values were in minus. The column is not relevant for my analysis so I decided to leave it as it is and ask for a new dataset"
   ]
  },
  {
   "cell_type": "markdown",
   "metadata": {},
   "source": [
    "### Data type replacement"
   ]
  },
  {
   "cell_type": "code",
   "execution_count": 22,
   "metadata": {},
   "outputs": [
    {
     "data": {
      "text/plain": [
       "array([\"bachelor's degree\", 'secondary education', 'Secondary Education',\n",
       "       'SECONDARY EDUCATION', \"BACHELOR'S DEGREE\", 'some college',\n",
       "       'primary education', \"Bachelor's Degree\", 'SOME COLLEGE',\n",
       "       'Some College', 'PRIMARY EDUCATION', 'Primary Education',\n",
       "       'Graduate Degree', 'GRADUATE DEGREE', 'graduate degree'],\n",
       "      dtype=object)"
      ]
     },
     "execution_count": 22,
     "metadata": {},
     "output_type": "execute_result"
    }
   ],
   "source": [
    "data['education'].unique()"
   ]
  },
  {
   "cell_type": "code",
   "execution_count": 12,
   "metadata": {
    "scrolled": true
   },
   "outputs": [
    {
     "data": {
      "text/html": [
       "<div>\n",
       "<style scoped>\n",
       "    .dataframe tbody tr th:only-of-type {\n",
       "        vertical-align: middle;\n",
       "    }\n",
       "\n",
       "    .dataframe tbody tr th {\n",
       "        vertical-align: top;\n",
       "    }\n",
       "\n",
       "    .dataframe thead th {\n",
       "        text-align: right;\n",
       "    }\n",
       "</style>\n",
       "<table border=\"1\" class=\"dataframe\">\n",
       "  <thead>\n",
       "    <tr style=\"text-align: right;\">\n",
       "      <th></th>\n",
       "      <th>children</th>\n",
       "      <th>days_employed</th>\n",
       "      <th>dob_years</th>\n",
       "      <th>education</th>\n",
       "      <th>education_id</th>\n",
       "      <th>family_status</th>\n",
       "      <th>family_status_id</th>\n",
       "      <th>gender</th>\n",
       "      <th>income_type</th>\n",
       "      <th>debt</th>\n",
       "      <th>total_income</th>\n",
       "      <th>purpose</th>\n",
       "      <th>new_income</th>\n",
       "      <th>education_lower</th>\n",
       "    </tr>\n",
       "  </thead>\n",
       "  <tbody>\n",
       "    <tr>\n",
       "      <th>0</th>\n",
       "      <td>1</td>\n",
       "      <td>-8437.673028</td>\n",
       "      <td>42</td>\n",
       "      <td>bachelor's degree</td>\n",
       "      <td>0</td>\n",
       "      <td>married</td>\n",
       "      <td>0</td>\n",
       "      <td>F</td>\n",
       "      <td>employee</td>\n",
       "      <td>0</td>\n",
       "      <td>40620.102</td>\n",
       "      <td>purchase of the house</td>\n",
       "      <td>40620.102</td>\n",
       "      <td>bachelor's degree</td>\n",
       "    </tr>\n",
       "    <tr>\n",
       "      <th>1</th>\n",
       "      <td>1</td>\n",
       "      <td>-4024.803754</td>\n",
       "      <td>36</td>\n",
       "      <td>secondary education</td>\n",
       "      <td>1</td>\n",
       "      <td>married</td>\n",
       "      <td>0</td>\n",
       "      <td>F</td>\n",
       "      <td>employee</td>\n",
       "      <td>0</td>\n",
       "      <td>17932.802</td>\n",
       "      <td>car purchase</td>\n",
       "      <td>17932.802</td>\n",
       "      <td>secondary education</td>\n",
       "    </tr>\n",
       "    <tr>\n",
       "      <th>2</th>\n",
       "      <td>0</td>\n",
       "      <td>-5623.422610</td>\n",
       "      <td>33</td>\n",
       "      <td>Secondary Education</td>\n",
       "      <td>1</td>\n",
       "      <td>married</td>\n",
       "      <td>0</td>\n",
       "      <td>M</td>\n",
       "      <td>employee</td>\n",
       "      <td>0</td>\n",
       "      <td>23341.752</td>\n",
       "      <td>purchase of the house</td>\n",
       "      <td>23341.752</td>\n",
       "      <td>secondary education</td>\n",
       "    </tr>\n",
       "    <tr>\n",
       "      <th>3</th>\n",
       "      <td>3</td>\n",
       "      <td>-4124.747207</td>\n",
       "      <td>32</td>\n",
       "      <td>secondary education</td>\n",
       "      <td>1</td>\n",
       "      <td>married</td>\n",
       "      <td>0</td>\n",
       "      <td>M</td>\n",
       "      <td>employee</td>\n",
       "      <td>0</td>\n",
       "      <td>42820.568</td>\n",
       "      <td>supplementary education</td>\n",
       "      <td>42820.568</td>\n",
       "      <td>secondary education</td>\n",
       "    </tr>\n",
       "    <tr>\n",
       "      <th>4</th>\n",
       "      <td>0</td>\n",
       "      <td>340266.072047</td>\n",
       "      <td>53</td>\n",
       "      <td>secondary education</td>\n",
       "      <td>1</td>\n",
       "      <td>civil partnership</td>\n",
       "      <td>1</td>\n",
       "      <td>F</td>\n",
       "      <td>retiree</td>\n",
       "      <td>0</td>\n",
       "      <td>25378.572</td>\n",
       "      <td>to have a wedding</td>\n",
       "      <td>25378.572</td>\n",
       "      <td>secondary education</td>\n",
       "    </tr>\n",
       "  </tbody>\n",
       "</table>\n",
       "</div>"
      ],
      "text/plain": [
       "   children  days_employed  dob_years            education  education_id  \\\n",
       "0         1   -8437.673028         42    bachelor's degree             0   \n",
       "1         1   -4024.803754         36  secondary education             1   \n",
       "2         0   -5623.422610         33  Secondary Education             1   \n",
       "3         3   -4124.747207         32  secondary education             1   \n",
       "4         0  340266.072047         53  secondary education             1   \n",
       "\n",
       "       family_status  family_status_id gender income_type  debt  total_income  \\\n",
       "0            married                 0      F    employee     0     40620.102   \n",
       "1            married                 0      F    employee     0     17932.802   \n",
       "2            married                 0      M    employee     0     23341.752   \n",
       "3            married                 0      M    employee     0     42820.568   \n",
       "4  civil partnership                 1      F     retiree     0     25378.572   \n",
       "\n",
       "                   purpose  new_income      education_lower  \n",
       "0    purchase of the house   40620.102    bachelor's degree  \n",
       "1             car purchase   17932.802  secondary education  \n",
       "2    purchase of the house   23341.752  secondary education  \n",
       "3  supplementary education   42820.568  secondary education  \n",
       "4        to have a wedding   25378.572  secondary education  "
      ]
     },
     "execution_count": 12,
     "metadata": {},
     "output_type": "execute_result"
    }
   ],
   "source": [
    "data['education_lower']= data['education'].str.lower()\n",
    "data.head()"
   ]
  },
  {
   "cell_type": "code",
   "execution_count": 24,
   "metadata": {},
   "outputs": [
    {
     "data": {
      "text/plain": [
       "0        40620\n",
       "1        17932\n",
       "2        23341\n",
       "3        42820\n",
       "4        25378\n",
       "         ...  \n",
       "21520    35966\n",
       "21521    24959\n",
       "21522    14347\n",
       "21523    39054\n",
       "21524    13127\n",
       "Name: new_income, Length: 21525, dtype: int64"
      ]
     },
     "execution_count": 24,
     "metadata": {},
     "output_type": "execute_result"
    }
   ],
   "source": [
    "data['new_income']= data['new_income'].astype('int')\n",
    "data['new_income']"
   ]
  },
  {
   "cell_type": "markdown",
   "metadata": {},
   "source": [
    "### Processing duplicates"
   ]
  },
  {
   "cell_type": "code",
   "execution_count": 25,
   "metadata": {},
   "outputs": [
    {
     "data": {
      "text/plain": [
       "54"
      ]
     },
     "execution_count": 25,
     "metadata": {},
     "output_type": "execute_result"
    }
   ],
   "source": [
    "data.duplicated().sum()"
   ]
  },
  {
   "cell_type": "code",
   "execution_count": 26,
   "metadata": {
    "scrolled": false
   },
   "outputs": [
    {
     "data": {
      "text/html": [
       "<div>\n",
       "<style scoped>\n",
       "    .dataframe tbody tr th:only-of-type {\n",
       "        vertical-align: middle;\n",
       "    }\n",
       "\n",
       "    .dataframe tbody tr th {\n",
       "        vertical-align: top;\n",
       "    }\n",
       "\n",
       "    .dataframe thead th {\n",
       "        text-align: right;\n",
       "    }\n",
       "</style>\n",
       "<table border=\"1\" class=\"dataframe\">\n",
       "  <thead>\n",
       "    <tr style=\"text-align: right;\">\n",
       "      <th></th>\n",
       "      <th>children</th>\n",
       "      <th>days_employed</th>\n",
       "      <th>dob_years</th>\n",
       "      <th>education</th>\n",
       "      <th>education_id</th>\n",
       "      <th>family_status</th>\n",
       "      <th>family_status_id</th>\n",
       "      <th>gender</th>\n",
       "      <th>income_type</th>\n",
       "      <th>debt</th>\n",
       "      <th>total_income</th>\n",
       "      <th>purpose</th>\n",
       "      <th>new_income</th>\n",
       "      <th>education_lower</th>\n",
       "    </tr>\n",
       "  </thead>\n",
       "  <tbody>\n",
       "    <tr>\n",
       "      <td>2849</td>\n",
       "      <td>0</td>\n",
       "      <td>NaN</td>\n",
       "      <td>41</td>\n",
       "      <td>secondary education</td>\n",
       "      <td>1</td>\n",
       "      <td>married</td>\n",
       "      <td>0</td>\n",
       "      <td>F</td>\n",
       "      <td>employee</td>\n",
       "      <td>0</td>\n",
       "      <td>NaN</td>\n",
       "      <td>purchase of the house for my family</td>\n",
       "      <td>22815</td>\n",
       "      <td>secondary education</td>\n",
       "    </tr>\n",
       "    <tr>\n",
       "      <td>4182</td>\n",
       "      <td>1</td>\n",
       "      <td>NaN</td>\n",
       "      <td>34</td>\n",
       "      <td>BACHELOR'S DEGREE</td>\n",
       "      <td>0</td>\n",
       "      <td>civil partnership</td>\n",
       "      <td>1</td>\n",
       "      <td>F</td>\n",
       "      <td>employee</td>\n",
       "      <td>0</td>\n",
       "      <td>NaN</td>\n",
       "      <td>wedding ceremony</td>\n",
       "      <td>22815</td>\n",
       "      <td>bachelor's degree</td>\n",
       "    </tr>\n",
       "    <tr>\n",
       "      <td>4851</td>\n",
       "      <td>0</td>\n",
       "      <td>NaN</td>\n",
       "      <td>60</td>\n",
       "      <td>secondary education</td>\n",
       "      <td>1</td>\n",
       "      <td>civil partnership</td>\n",
       "      <td>1</td>\n",
       "      <td>F</td>\n",
       "      <td>retiree</td>\n",
       "      <td>0</td>\n",
       "      <td>NaN</td>\n",
       "      <td>wedding ceremony</td>\n",
       "      <td>18962</td>\n",
       "      <td>secondary education</td>\n",
       "    </tr>\n",
       "    <tr>\n",
       "      <td>5557</td>\n",
       "      <td>0</td>\n",
       "      <td>NaN</td>\n",
       "      <td>58</td>\n",
       "      <td>secondary education</td>\n",
       "      <td>1</td>\n",
       "      <td>civil partnership</td>\n",
       "      <td>1</td>\n",
       "      <td>F</td>\n",
       "      <td>retiree</td>\n",
       "      <td>0</td>\n",
       "      <td>NaN</td>\n",
       "      <td>to have a wedding</td>\n",
       "      <td>18962</td>\n",
       "      <td>secondary education</td>\n",
       "    </tr>\n",
       "    <tr>\n",
       "      <td>7808</td>\n",
       "      <td>0</td>\n",
       "      <td>NaN</td>\n",
       "      <td>57</td>\n",
       "      <td>secondary education</td>\n",
       "      <td>1</td>\n",
       "      <td>civil partnership</td>\n",
       "      <td>1</td>\n",
       "      <td>F</td>\n",
       "      <td>retiree</td>\n",
       "      <td>0</td>\n",
       "      <td>NaN</td>\n",
       "      <td>having a wedding</td>\n",
       "      <td>18962</td>\n",
       "      <td>secondary education</td>\n",
       "    </tr>\n",
       "    <tr>\n",
       "      <td>8583</td>\n",
       "      <td>0</td>\n",
       "      <td>NaN</td>\n",
       "      <td>58</td>\n",
       "      <td>bachelor's degree</td>\n",
       "      <td>0</td>\n",
       "      <td>unmarried</td>\n",
       "      <td>4</td>\n",
       "      <td>F</td>\n",
       "      <td>retiree</td>\n",
       "      <td>0</td>\n",
       "      <td>NaN</td>\n",
       "      <td>supplementary education</td>\n",
       "      <td>18962</td>\n",
       "      <td>bachelor's degree</td>\n",
       "    </tr>\n",
       "    <tr>\n",
       "      <td>9238</td>\n",
       "      <td>2</td>\n",
       "      <td>NaN</td>\n",
       "      <td>34</td>\n",
       "      <td>secondary education</td>\n",
       "      <td>1</td>\n",
       "      <td>married</td>\n",
       "      <td>0</td>\n",
       "      <td>F</td>\n",
       "      <td>employee</td>\n",
       "      <td>0</td>\n",
       "      <td>NaN</td>\n",
       "      <td>buying property for renting out</td>\n",
       "      <td>22815</td>\n",
       "      <td>secondary education</td>\n",
       "    </tr>\n",
       "    <tr>\n",
       "      <td>9528</td>\n",
       "      <td>0</td>\n",
       "      <td>NaN</td>\n",
       "      <td>66</td>\n",
       "      <td>secondary education</td>\n",
       "      <td>1</td>\n",
       "      <td>widow / widower</td>\n",
       "      <td>2</td>\n",
       "      <td>F</td>\n",
       "      <td>retiree</td>\n",
       "      <td>0</td>\n",
       "      <td>NaN</td>\n",
       "      <td>transactions with my real estate</td>\n",
       "      <td>18962</td>\n",
       "      <td>secondary education</td>\n",
       "    </tr>\n",
       "    <tr>\n",
       "      <td>9627</td>\n",
       "      <td>0</td>\n",
       "      <td>NaN</td>\n",
       "      <td>56</td>\n",
       "      <td>secondary education</td>\n",
       "      <td>1</td>\n",
       "      <td>married</td>\n",
       "      <td>0</td>\n",
       "      <td>F</td>\n",
       "      <td>retiree</td>\n",
       "      <td>0</td>\n",
       "      <td>NaN</td>\n",
       "      <td>transactions with my real estate</td>\n",
       "      <td>18962</td>\n",
       "      <td>secondary education</td>\n",
       "    </tr>\n",
       "    <tr>\n",
       "      <td>10462</td>\n",
       "      <td>0</td>\n",
       "      <td>NaN</td>\n",
       "      <td>62</td>\n",
       "      <td>secondary education</td>\n",
       "      <td>1</td>\n",
       "      <td>married</td>\n",
       "      <td>0</td>\n",
       "      <td>F</td>\n",
       "      <td>retiree</td>\n",
       "      <td>0</td>\n",
       "      <td>NaN</td>\n",
       "      <td>buy commercial real estate</td>\n",
       "      <td>18962</td>\n",
       "      <td>secondary education</td>\n",
       "    </tr>\n",
       "    <tr>\n",
       "      <td>10697</td>\n",
       "      <td>0</td>\n",
       "      <td>NaN</td>\n",
       "      <td>40</td>\n",
       "      <td>secondary education</td>\n",
       "      <td>1</td>\n",
       "      <td>civil partnership</td>\n",
       "      <td>1</td>\n",
       "      <td>F</td>\n",
       "      <td>business</td>\n",
       "      <td>0</td>\n",
       "      <td>NaN</td>\n",
       "      <td>to have a wedding</td>\n",
       "      <td>27577</td>\n",
       "      <td>secondary education</td>\n",
       "    </tr>\n",
       "    <tr>\n",
       "      <td>10864</td>\n",
       "      <td>0</td>\n",
       "      <td>NaN</td>\n",
       "      <td>62</td>\n",
       "      <td>secondary education</td>\n",
       "      <td>1</td>\n",
       "      <td>married</td>\n",
       "      <td>0</td>\n",
       "      <td>F</td>\n",
       "      <td>retiree</td>\n",
       "      <td>0</td>\n",
       "      <td>NaN</td>\n",
       "      <td>housing renovation</td>\n",
       "      <td>18962</td>\n",
       "      <td>secondary education</td>\n",
       "    </tr>\n",
       "    <tr>\n",
       "      <td>10994</td>\n",
       "      <td>0</td>\n",
       "      <td>NaN</td>\n",
       "      <td>62</td>\n",
       "      <td>secondary education</td>\n",
       "      <td>1</td>\n",
       "      <td>married</td>\n",
       "      <td>0</td>\n",
       "      <td>F</td>\n",
       "      <td>retiree</td>\n",
       "      <td>0</td>\n",
       "      <td>NaN</td>\n",
       "      <td>housing renovation</td>\n",
       "      <td>18962</td>\n",
       "      <td>secondary education</td>\n",
       "    </tr>\n",
       "    <tr>\n",
       "      <td>11791</td>\n",
       "      <td>0</td>\n",
       "      <td>NaN</td>\n",
       "      <td>47</td>\n",
       "      <td>secondary education</td>\n",
       "      <td>1</td>\n",
       "      <td>married</td>\n",
       "      <td>0</td>\n",
       "      <td>F</td>\n",
       "      <td>employee</td>\n",
       "      <td>0</td>\n",
       "      <td>NaN</td>\n",
       "      <td>building a property</td>\n",
       "      <td>22815</td>\n",
       "      <td>secondary education</td>\n",
       "    </tr>\n",
       "    <tr>\n",
       "      <td>12373</td>\n",
       "      <td>0</td>\n",
       "      <td>NaN</td>\n",
       "      <td>58</td>\n",
       "      <td>secondary education</td>\n",
       "      <td>1</td>\n",
       "      <td>married</td>\n",
       "      <td>0</td>\n",
       "      <td>M</td>\n",
       "      <td>employee</td>\n",
       "      <td>0</td>\n",
       "      <td>NaN</td>\n",
       "      <td>buy real estate</td>\n",
       "      <td>22815</td>\n",
       "      <td>secondary education</td>\n",
       "    </tr>\n",
       "    <tr>\n",
       "      <td>12375</td>\n",
       "      <td>1</td>\n",
       "      <td>NaN</td>\n",
       "      <td>37</td>\n",
       "      <td>secondary education</td>\n",
       "      <td>1</td>\n",
       "      <td>married</td>\n",
       "      <td>0</td>\n",
       "      <td>F</td>\n",
       "      <td>employee</td>\n",
       "      <td>0</td>\n",
       "      <td>NaN</td>\n",
       "      <td>buy real estate</td>\n",
       "      <td>22815</td>\n",
       "      <td>secondary education</td>\n",
       "    </tr>\n",
       "    <tr>\n",
       "      <td>12736</td>\n",
       "      <td>0</td>\n",
       "      <td>NaN</td>\n",
       "      <td>59</td>\n",
       "      <td>secondary education</td>\n",
       "      <td>1</td>\n",
       "      <td>married</td>\n",
       "      <td>0</td>\n",
       "      <td>F</td>\n",
       "      <td>retiree</td>\n",
       "      <td>0</td>\n",
       "      <td>NaN</td>\n",
       "      <td>to become educated</td>\n",
       "      <td>18962</td>\n",
       "      <td>secondary education</td>\n",
       "    </tr>\n",
       "    <tr>\n",
       "      <td>13025</td>\n",
       "      <td>1</td>\n",
       "      <td>NaN</td>\n",
       "      <td>44</td>\n",
       "      <td>secondary education</td>\n",
       "      <td>1</td>\n",
       "      <td>married</td>\n",
       "      <td>0</td>\n",
       "      <td>F</td>\n",
       "      <td>employee</td>\n",
       "      <td>0</td>\n",
       "      <td>NaN</td>\n",
       "      <td>second-hand car purchase</td>\n",
       "      <td>22815</td>\n",
       "      <td>secondary education</td>\n",
       "    </tr>\n",
       "    <tr>\n",
       "      <td>13639</td>\n",
       "      <td>0</td>\n",
       "      <td>NaN</td>\n",
       "      <td>64</td>\n",
       "      <td>secondary education</td>\n",
       "      <td>1</td>\n",
       "      <td>married</td>\n",
       "      <td>0</td>\n",
       "      <td>F</td>\n",
       "      <td>retiree</td>\n",
       "      <td>0</td>\n",
       "      <td>NaN</td>\n",
       "      <td>car</td>\n",
       "      <td>18962</td>\n",
       "      <td>secondary education</td>\n",
       "    </tr>\n",
       "    <tr>\n",
       "      <td>13773</td>\n",
       "      <td>0</td>\n",
       "      <td>NaN</td>\n",
       "      <td>35</td>\n",
       "      <td>secondary education</td>\n",
       "      <td>1</td>\n",
       "      <td>civil partnership</td>\n",
       "      <td>1</td>\n",
       "      <td>F</td>\n",
       "      <td>employee</td>\n",
       "      <td>0</td>\n",
       "      <td>NaN</td>\n",
       "      <td>to have a wedding</td>\n",
       "      <td>22815</td>\n",
       "      <td>secondary education</td>\n",
       "    </tr>\n",
       "    <tr>\n",
       "      <td>13878</td>\n",
       "      <td>1</td>\n",
       "      <td>NaN</td>\n",
       "      <td>31</td>\n",
       "      <td>secondary education</td>\n",
       "      <td>1</td>\n",
       "      <td>married</td>\n",
       "      <td>0</td>\n",
       "      <td>F</td>\n",
       "      <td>business</td>\n",
       "      <td>0</td>\n",
       "      <td>NaN</td>\n",
       "      <td>purchase of the house</td>\n",
       "      <td>27577</td>\n",
       "      <td>secondary education</td>\n",
       "    </tr>\n",
       "    <tr>\n",
       "      <td>13942</td>\n",
       "      <td>0</td>\n",
       "      <td>NaN</td>\n",
       "      <td>44</td>\n",
       "      <td>secondary education</td>\n",
       "      <td>1</td>\n",
       "      <td>married</td>\n",
       "      <td>0</td>\n",
       "      <td>F</td>\n",
       "      <td>employee</td>\n",
       "      <td>0</td>\n",
       "      <td>NaN</td>\n",
       "      <td>car purchase</td>\n",
       "      <td>22815</td>\n",
       "      <td>secondary education</td>\n",
       "    </tr>\n",
       "    <tr>\n",
       "      <td>14432</td>\n",
       "      <td>2</td>\n",
       "      <td>NaN</td>\n",
       "      <td>36</td>\n",
       "      <td>bachelor's degree</td>\n",
       "      <td>0</td>\n",
       "      <td>married</td>\n",
       "      <td>0</td>\n",
       "      <td>F</td>\n",
       "      <td>civil servant</td>\n",
       "      <td>0</td>\n",
       "      <td>NaN</td>\n",
       "      <td>getting an education</td>\n",
       "      <td>24071</td>\n",
       "      <td>bachelor's degree</td>\n",
       "    </tr>\n",
       "    <tr>\n",
       "      <td>14832</td>\n",
       "      <td>0</td>\n",
       "      <td>NaN</td>\n",
       "      <td>50</td>\n",
       "      <td>secondary education</td>\n",
       "      <td>1</td>\n",
       "      <td>unmarried</td>\n",
       "      <td>4</td>\n",
       "      <td>F</td>\n",
       "      <td>employee</td>\n",
       "      <td>0</td>\n",
       "      <td>NaN</td>\n",
       "      <td>property</td>\n",
       "      <td>22815</td>\n",
       "      <td>secondary education</td>\n",
       "    </tr>\n",
       "    <tr>\n",
       "      <td>15091</td>\n",
       "      <td>0</td>\n",
       "      <td>NaN</td>\n",
       "      <td>58</td>\n",
       "      <td>secondary education</td>\n",
       "      <td>1</td>\n",
       "      <td>civil partnership</td>\n",
       "      <td>1</td>\n",
       "      <td>M</td>\n",
       "      <td>employee</td>\n",
       "      <td>0</td>\n",
       "      <td>NaN</td>\n",
       "      <td>having a wedding</td>\n",
       "      <td>22815</td>\n",
       "      <td>secondary education</td>\n",
       "    </tr>\n",
       "    <tr>\n",
       "      <td>15188</td>\n",
       "      <td>0</td>\n",
       "      <td>NaN</td>\n",
       "      <td>60</td>\n",
       "      <td>secondary education</td>\n",
       "      <td>1</td>\n",
       "      <td>married</td>\n",
       "      <td>0</td>\n",
       "      <td>M</td>\n",
       "      <td>employee</td>\n",
       "      <td>0</td>\n",
       "      <td>NaN</td>\n",
       "      <td>buy real estate</td>\n",
       "      <td>22815</td>\n",
       "      <td>secondary education</td>\n",
       "    </tr>\n",
       "    <tr>\n",
       "      <td>15273</td>\n",
       "      <td>0</td>\n",
       "      <td>NaN</td>\n",
       "      <td>57</td>\n",
       "      <td>secondary education</td>\n",
       "      <td>1</td>\n",
       "      <td>civil partnership</td>\n",
       "      <td>1</td>\n",
       "      <td>F</td>\n",
       "      <td>retiree</td>\n",
       "      <td>0</td>\n",
       "      <td>NaN</td>\n",
       "      <td>wedding ceremony</td>\n",
       "      <td>18962</td>\n",
       "      <td>secondary education</td>\n",
       "    </tr>\n",
       "    <tr>\n",
       "      <td>16176</td>\n",
       "      <td>0</td>\n",
       "      <td>NaN</td>\n",
       "      <td>47</td>\n",
       "      <td>secondary education</td>\n",
       "      <td>1</td>\n",
       "      <td>married</td>\n",
       "      <td>0</td>\n",
       "      <td>F</td>\n",
       "      <td>employee</td>\n",
       "      <td>0</td>\n",
       "      <td>NaN</td>\n",
       "      <td>housing renovation</td>\n",
       "      <td>22815</td>\n",
       "      <td>secondary education</td>\n",
       "    </tr>\n",
       "    <tr>\n",
       "      <td>16378</td>\n",
       "      <td>0</td>\n",
       "      <td>NaN</td>\n",
       "      <td>46</td>\n",
       "      <td>secondary education</td>\n",
       "      <td>1</td>\n",
       "      <td>married</td>\n",
       "      <td>0</td>\n",
       "      <td>F</td>\n",
       "      <td>employee</td>\n",
       "      <td>0</td>\n",
       "      <td>NaN</td>\n",
       "      <td>university education</td>\n",
       "      <td>22815</td>\n",
       "      <td>secondary education</td>\n",
       "    </tr>\n",
       "    <tr>\n",
       "      <td>16902</td>\n",
       "      <td>2</td>\n",
       "      <td>NaN</td>\n",
       "      <td>39</td>\n",
       "      <td>secondary education</td>\n",
       "      <td>1</td>\n",
       "      <td>civil partnership</td>\n",
       "      <td>1</td>\n",
       "      <td>F</td>\n",
       "      <td>employee</td>\n",
       "      <td>0</td>\n",
       "      <td>NaN</td>\n",
       "      <td>to have a wedding</td>\n",
       "      <td>22815</td>\n",
       "      <td>secondary education</td>\n",
       "    </tr>\n",
       "    <tr>\n",
       "      <td>16904</td>\n",
       "      <td>1</td>\n",
       "      <td>NaN</td>\n",
       "      <td>32</td>\n",
       "      <td>bachelor's degree</td>\n",
       "      <td>0</td>\n",
       "      <td>married</td>\n",
       "      <td>0</td>\n",
       "      <td>F</td>\n",
       "      <td>employee</td>\n",
       "      <td>0</td>\n",
       "      <td>NaN</td>\n",
       "      <td>buying a second-hand car</td>\n",
       "      <td>22815</td>\n",
       "      <td>bachelor's degree</td>\n",
       "    </tr>\n",
       "    <tr>\n",
       "      <td>17379</td>\n",
       "      <td>0</td>\n",
       "      <td>NaN</td>\n",
       "      <td>54</td>\n",
       "      <td>bachelor's degree</td>\n",
       "      <td>0</td>\n",
       "      <td>married</td>\n",
       "      <td>0</td>\n",
       "      <td>M</td>\n",
       "      <td>business</td>\n",
       "      <td>0</td>\n",
       "      <td>NaN</td>\n",
       "      <td>transactions with commercial real estate</td>\n",
       "      <td>27577</td>\n",
       "      <td>bachelor's degree</td>\n",
       "    </tr>\n",
       "    <tr>\n",
       "      <td>17755</td>\n",
       "      <td>1</td>\n",
       "      <td>NaN</td>\n",
       "      <td>43</td>\n",
       "      <td>secondary education</td>\n",
       "      <td>1</td>\n",
       "      <td>married</td>\n",
       "      <td>0</td>\n",
       "      <td>M</td>\n",
       "      <td>employee</td>\n",
       "      <td>0</td>\n",
       "      <td>NaN</td>\n",
       "      <td>to become educated</td>\n",
       "      <td>22815</td>\n",
       "      <td>secondary education</td>\n",
       "    </tr>\n",
       "    <tr>\n",
       "      <td>17774</td>\n",
       "      <td>1</td>\n",
       "      <td>NaN</td>\n",
       "      <td>40</td>\n",
       "      <td>secondary education</td>\n",
       "      <td>1</td>\n",
       "      <td>civil partnership</td>\n",
       "      <td>1</td>\n",
       "      <td>F</td>\n",
       "      <td>business</td>\n",
       "      <td>0</td>\n",
       "      <td>NaN</td>\n",
       "      <td>building a real estate</td>\n",
       "      <td>27577</td>\n",
       "      <td>secondary education</td>\n",
       "    </tr>\n",
       "    <tr>\n",
       "      <td>18328</td>\n",
       "      <td>0</td>\n",
       "      <td>NaN</td>\n",
       "      <td>29</td>\n",
       "      <td>bachelor's degree</td>\n",
       "      <td>0</td>\n",
       "      <td>married</td>\n",
       "      <td>0</td>\n",
       "      <td>M</td>\n",
       "      <td>employee</td>\n",
       "      <td>0</td>\n",
       "      <td>NaN</td>\n",
       "      <td>buy residential real estate</td>\n",
       "      <td>22815</td>\n",
       "      <td>bachelor's degree</td>\n",
       "    </tr>\n",
       "    <tr>\n",
       "      <td>18349</td>\n",
       "      <td>1</td>\n",
       "      <td>NaN</td>\n",
       "      <td>30</td>\n",
       "      <td>bachelor's degree</td>\n",
       "      <td>0</td>\n",
       "      <td>married</td>\n",
       "      <td>0</td>\n",
       "      <td>F</td>\n",
       "      <td>civil servant</td>\n",
       "      <td>0</td>\n",
       "      <td>NaN</td>\n",
       "      <td>purchase of the house for my family</td>\n",
       "      <td>24071</td>\n",
       "      <td>bachelor's degree</td>\n",
       "    </tr>\n",
       "    <tr>\n",
       "      <td>18428</td>\n",
       "      <td>0</td>\n",
       "      <td>NaN</td>\n",
       "      <td>64</td>\n",
       "      <td>secondary education</td>\n",
       "      <td>1</td>\n",
       "      <td>married</td>\n",
       "      <td>0</td>\n",
       "      <td>F</td>\n",
       "      <td>retiree</td>\n",
       "      <td>0</td>\n",
       "      <td>NaN</td>\n",
       "      <td>housing</td>\n",
       "      <td>18962</td>\n",
       "      <td>secondary education</td>\n",
       "    </tr>\n",
       "    <tr>\n",
       "      <td>18521</td>\n",
       "      <td>0</td>\n",
       "      <td>NaN</td>\n",
       "      <td>56</td>\n",
       "      <td>secondary education</td>\n",
       "      <td>1</td>\n",
       "      <td>civil partnership</td>\n",
       "      <td>1</td>\n",
       "      <td>F</td>\n",
       "      <td>employee</td>\n",
       "      <td>0</td>\n",
       "      <td>NaN</td>\n",
       "      <td>to have a wedding</td>\n",
       "      <td>22815</td>\n",
       "      <td>secondary education</td>\n",
       "    </tr>\n",
       "    <tr>\n",
       "      <td>18563</td>\n",
       "      <td>0</td>\n",
       "      <td>NaN</td>\n",
       "      <td>54</td>\n",
       "      <td>secondary education</td>\n",
       "      <td>1</td>\n",
       "      <td>married</td>\n",
       "      <td>0</td>\n",
       "      <td>F</td>\n",
       "      <td>employee</td>\n",
       "      <td>0</td>\n",
       "      <td>NaN</td>\n",
       "      <td>transactions with my real estate</td>\n",
       "      <td>22815</td>\n",
       "      <td>secondary education</td>\n",
       "    </tr>\n",
       "    <tr>\n",
       "      <td>18755</td>\n",
       "      <td>0</td>\n",
       "      <td>NaN</td>\n",
       "      <td>58</td>\n",
       "      <td>secondary education</td>\n",
       "      <td>1</td>\n",
       "      <td>married</td>\n",
       "      <td>0</td>\n",
       "      <td>F</td>\n",
       "      <td>retiree</td>\n",
       "      <td>0</td>\n",
       "      <td>NaN</td>\n",
       "      <td>to become educated</td>\n",
       "      <td>18962</td>\n",
       "      <td>secondary education</td>\n",
       "    </tr>\n",
       "    <tr>\n",
       "      <td>19041</td>\n",
       "      <td>0</td>\n",
       "      <td>NaN</td>\n",
       "      <td>56</td>\n",
       "      <td>secondary education</td>\n",
       "      <td>1</td>\n",
       "      <td>civil partnership</td>\n",
       "      <td>1</td>\n",
       "      <td>F</td>\n",
       "      <td>employee</td>\n",
       "      <td>0</td>\n",
       "      <td>NaN</td>\n",
       "      <td>having a wedding</td>\n",
       "      <td>22815</td>\n",
       "      <td>secondary education</td>\n",
       "    </tr>\n",
       "    <tr>\n",
       "      <td>19184</td>\n",
       "      <td>0</td>\n",
       "      <td>NaN</td>\n",
       "      <td>46</td>\n",
       "      <td>secondary education</td>\n",
       "      <td>1</td>\n",
       "      <td>married</td>\n",
       "      <td>0</td>\n",
       "      <td>F</td>\n",
       "      <td>employee</td>\n",
       "      <td>0</td>\n",
       "      <td>NaN</td>\n",
       "      <td>to own a car</td>\n",
       "      <td>22815</td>\n",
       "      <td>secondary education</td>\n",
       "    </tr>\n",
       "    <tr>\n",
       "      <td>19321</td>\n",
       "      <td>0</td>\n",
       "      <td>NaN</td>\n",
       "      <td>23</td>\n",
       "      <td>secondary education</td>\n",
       "      <td>1</td>\n",
       "      <td>unmarried</td>\n",
       "      <td>4</td>\n",
       "      <td>F</td>\n",
       "      <td>employee</td>\n",
       "      <td>0</td>\n",
       "      <td>NaN</td>\n",
       "      <td>second-hand car purchase</td>\n",
       "      <td>22815</td>\n",
       "      <td>secondary education</td>\n",
       "    </tr>\n",
       "    <tr>\n",
       "      <td>19387</td>\n",
       "      <td>0</td>\n",
       "      <td>NaN</td>\n",
       "      <td>38</td>\n",
       "      <td>bachelor's degree</td>\n",
       "      <td>0</td>\n",
       "      <td>civil partnership</td>\n",
       "      <td>1</td>\n",
       "      <td>F</td>\n",
       "      <td>business</td>\n",
       "      <td>0</td>\n",
       "      <td>NaN</td>\n",
       "      <td>having a wedding</td>\n",
       "      <td>27577</td>\n",
       "      <td>bachelor's degree</td>\n",
       "    </tr>\n",
       "    <tr>\n",
       "      <td>19688</td>\n",
       "      <td>0</td>\n",
       "      <td>NaN</td>\n",
       "      <td>61</td>\n",
       "      <td>secondary education</td>\n",
       "      <td>1</td>\n",
       "      <td>married</td>\n",
       "      <td>0</td>\n",
       "      <td>F</td>\n",
       "      <td>retiree</td>\n",
       "      <td>0</td>\n",
       "      <td>NaN</td>\n",
       "      <td>real estate transactions</td>\n",
       "      <td>18962</td>\n",
       "      <td>secondary education</td>\n",
       "    </tr>\n",
       "    <tr>\n",
       "      <td>19832</td>\n",
       "      <td>0</td>\n",
       "      <td>NaN</td>\n",
       "      <td>48</td>\n",
       "      <td>secondary education</td>\n",
       "      <td>1</td>\n",
       "      <td>married</td>\n",
       "      <td>0</td>\n",
       "      <td>F</td>\n",
       "      <td>employee</td>\n",
       "      <td>0</td>\n",
       "      <td>NaN</td>\n",
       "      <td>housing renovation</td>\n",
       "      <td>22815</td>\n",
       "      <td>secondary education</td>\n",
       "    </tr>\n",
       "    <tr>\n",
       "      <td>19946</td>\n",
       "      <td>0</td>\n",
       "      <td>NaN</td>\n",
       "      <td>57</td>\n",
       "      <td>secondary education</td>\n",
       "      <td>1</td>\n",
       "      <td>married</td>\n",
       "      <td>0</td>\n",
       "      <td>F</td>\n",
       "      <td>employee</td>\n",
       "      <td>0</td>\n",
       "      <td>NaN</td>\n",
       "      <td>second-hand car purchase</td>\n",
       "      <td>22815</td>\n",
       "      <td>secondary education</td>\n",
       "    </tr>\n",
       "    <tr>\n",
       "      <td>20116</td>\n",
       "      <td>0</td>\n",
       "      <td>NaN</td>\n",
       "      <td>57</td>\n",
       "      <td>secondary education</td>\n",
       "      <td>1</td>\n",
       "      <td>civil partnership</td>\n",
       "      <td>1</td>\n",
       "      <td>M</td>\n",
       "      <td>retiree</td>\n",
       "      <td>0</td>\n",
       "      <td>NaN</td>\n",
       "      <td>wedding ceremony</td>\n",
       "      <td>18962</td>\n",
       "      <td>secondary education</td>\n",
       "    </tr>\n",
       "    <tr>\n",
       "      <td>20165</td>\n",
       "      <td>0</td>\n",
       "      <td>NaN</td>\n",
       "      <td>42</td>\n",
       "      <td>secondary education</td>\n",
       "      <td>1</td>\n",
       "      <td>married</td>\n",
       "      <td>0</td>\n",
       "      <td>F</td>\n",
       "      <td>employee</td>\n",
       "      <td>0</td>\n",
       "      <td>NaN</td>\n",
       "      <td>purchase of the house for my family</td>\n",
       "      <td>22815</td>\n",
       "      <td>secondary education</td>\n",
       "    </tr>\n",
       "    <tr>\n",
       "      <td>20702</td>\n",
       "      <td>0</td>\n",
       "      <td>NaN</td>\n",
       "      <td>64</td>\n",
       "      <td>secondary education</td>\n",
       "      <td>1</td>\n",
       "      <td>married</td>\n",
       "      <td>0</td>\n",
       "      <td>F</td>\n",
       "      <td>retiree</td>\n",
       "      <td>0</td>\n",
       "      <td>NaN</td>\n",
       "      <td>supplementary education</td>\n",
       "      <td>18962</td>\n",
       "      <td>secondary education</td>\n",
       "    </tr>\n",
       "    <tr>\n",
       "      <td>21032</td>\n",
       "      <td>0</td>\n",
       "      <td>NaN</td>\n",
       "      <td>60</td>\n",
       "      <td>secondary education</td>\n",
       "      <td>1</td>\n",
       "      <td>married</td>\n",
       "      <td>0</td>\n",
       "      <td>F</td>\n",
       "      <td>retiree</td>\n",
       "      <td>0</td>\n",
       "      <td>NaN</td>\n",
       "      <td>to become educated</td>\n",
       "      <td>18962</td>\n",
       "      <td>secondary education</td>\n",
       "    </tr>\n",
       "    <tr>\n",
       "      <td>21132</td>\n",
       "      <td>0</td>\n",
       "      <td>NaN</td>\n",
       "      <td>47</td>\n",
       "      <td>secondary education</td>\n",
       "      <td>1</td>\n",
       "      <td>married</td>\n",
       "      <td>0</td>\n",
       "      <td>F</td>\n",
       "      <td>employee</td>\n",
       "      <td>0</td>\n",
       "      <td>NaN</td>\n",
       "      <td>housing renovation</td>\n",
       "      <td>22815</td>\n",
       "      <td>secondary education</td>\n",
       "    </tr>\n",
       "    <tr>\n",
       "      <td>21281</td>\n",
       "      <td>1</td>\n",
       "      <td>NaN</td>\n",
       "      <td>30</td>\n",
       "      <td>bachelor's degree</td>\n",
       "      <td>0</td>\n",
       "      <td>married</td>\n",
       "      <td>0</td>\n",
       "      <td>F</td>\n",
       "      <td>employee</td>\n",
       "      <td>0</td>\n",
       "      <td>NaN</td>\n",
       "      <td>buy commercial real estate</td>\n",
       "      <td>22815</td>\n",
       "      <td>bachelor's degree</td>\n",
       "    </tr>\n",
       "    <tr>\n",
       "      <td>21415</td>\n",
       "      <td>0</td>\n",
       "      <td>NaN</td>\n",
       "      <td>54</td>\n",
       "      <td>secondary education</td>\n",
       "      <td>1</td>\n",
       "      <td>married</td>\n",
       "      <td>0</td>\n",
       "      <td>F</td>\n",
       "      <td>retiree</td>\n",
       "      <td>0</td>\n",
       "      <td>NaN</td>\n",
       "      <td>housing transactions</td>\n",
       "      <td>18962</td>\n",
       "      <td>secondary education</td>\n",
       "    </tr>\n",
       "  </tbody>\n",
       "</table>\n",
       "</div>"
      ],
      "text/plain": [
       "       children  days_employed dob_years            education  education_id  \\\n",
       "2849          0            NaN        41  secondary education             1   \n",
       "4182          1            NaN        34    BACHELOR'S DEGREE             0   \n",
       "4851          0            NaN        60  secondary education             1   \n",
       "5557          0            NaN        58  secondary education             1   \n",
       "7808          0            NaN        57  secondary education             1   \n",
       "8583          0            NaN        58    bachelor's degree             0   \n",
       "9238          2            NaN        34  secondary education             1   \n",
       "9528          0            NaN        66  secondary education             1   \n",
       "9627          0            NaN        56  secondary education             1   \n",
       "10462         0            NaN        62  secondary education             1   \n",
       "10697         0            NaN        40  secondary education             1   \n",
       "10864         0            NaN        62  secondary education             1   \n",
       "10994         0            NaN        62  secondary education             1   \n",
       "11791         0            NaN        47  secondary education             1   \n",
       "12373         0            NaN        58  secondary education             1   \n",
       "12375         1            NaN        37  secondary education             1   \n",
       "12736         0            NaN        59  secondary education             1   \n",
       "13025         1            NaN        44  secondary education             1   \n",
       "13639         0            NaN        64  secondary education             1   \n",
       "13773         0            NaN        35  secondary education             1   \n",
       "13878         1            NaN        31  secondary education             1   \n",
       "13942         0            NaN        44  secondary education             1   \n",
       "14432         2            NaN        36    bachelor's degree             0   \n",
       "14832         0            NaN        50  secondary education             1   \n",
       "15091         0            NaN        58  secondary education             1   \n",
       "15188         0            NaN        60  secondary education             1   \n",
       "15273         0            NaN        57  secondary education             1   \n",
       "16176         0            NaN        47  secondary education             1   \n",
       "16378         0            NaN        46  secondary education             1   \n",
       "16902         2            NaN        39  secondary education             1   \n",
       "16904         1            NaN        32    bachelor's degree             0   \n",
       "17379         0            NaN        54    bachelor's degree             0   \n",
       "17755         1            NaN        43  secondary education             1   \n",
       "17774         1            NaN        40  secondary education             1   \n",
       "18328         0            NaN        29    bachelor's degree             0   \n",
       "18349         1            NaN        30    bachelor's degree             0   \n",
       "18428         0            NaN        64  secondary education             1   \n",
       "18521         0            NaN        56  secondary education             1   \n",
       "18563         0            NaN        54  secondary education             1   \n",
       "18755         0            NaN        58  secondary education             1   \n",
       "19041         0            NaN        56  secondary education             1   \n",
       "19184         0            NaN        46  secondary education             1   \n",
       "19321         0            NaN        23  secondary education             1   \n",
       "19387         0            NaN        38    bachelor's degree             0   \n",
       "19688         0            NaN        61  secondary education             1   \n",
       "19832         0            NaN        48  secondary education             1   \n",
       "19946         0            NaN        57  secondary education             1   \n",
       "20116         0            NaN        57  secondary education             1   \n",
       "20165         0            NaN        42  secondary education             1   \n",
       "20702         0            NaN        64  secondary education             1   \n",
       "21032         0            NaN        60  secondary education             1   \n",
       "21132         0            NaN        47  secondary education             1   \n",
       "21281         1            NaN        30    bachelor's degree             0   \n",
       "21415         0            NaN        54  secondary education             1   \n",
       "\n",
       "           family_status  family_status_id gender    income_type  debt  \\\n",
       "2849             married                 0      F       employee     0   \n",
       "4182   civil partnership                 1      F       employee     0   \n",
       "4851   civil partnership                 1      F        retiree     0   \n",
       "5557   civil partnership                 1      F        retiree     0   \n",
       "7808   civil partnership                 1      F        retiree     0   \n",
       "8583           unmarried                 4      F        retiree     0   \n",
       "9238             married                 0      F       employee     0   \n",
       "9528     widow / widower                 2      F        retiree     0   \n",
       "9627             married                 0      F        retiree     0   \n",
       "10462            married                 0      F        retiree     0   \n",
       "10697  civil partnership                 1      F       business     0   \n",
       "10864            married                 0      F        retiree     0   \n",
       "10994            married                 0      F        retiree     0   \n",
       "11791            married                 0      F       employee     0   \n",
       "12373            married                 0      M       employee     0   \n",
       "12375            married                 0      F       employee     0   \n",
       "12736            married                 0      F        retiree     0   \n",
       "13025            married                 0      F       employee     0   \n",
       "13639            married                 0      F        retiree     0   \n",
       "13773  civil partnership                 1      F       employee     0   \n",
       "13878            married                 0      F       business     0   \n",
       "13942            married                 0      F       employee     0   \n",
       "14432            married                 0      F  civil servant     0   \n",
       "14832          unmarried                 4      F       employee     0   \n",
       "15091  civil partnership                 1      M       employee     0   \n",
       "15188            married                 0      M       employee     0   \n",
       "15273  civil partnership                 1      F        retiree     0   \n",
       "16176            married                 0      F       employee     0   \n",
       "16378            married                 0      F       employee     0   \n",
       "16902  civil partnership                 1      F       employee     0   \n",
       "16904            married                 0      F       employee     0   \n",
       "17379            married                 0      M       business     0   \n",
       "17755            married                 0      M       employee     0   \n",
       "17774  civil partnership                 1      F       business     0   \n",
       "18328            married                 0      M       employee     0   \n",
       "18349            married                 0      F  civil servant     0   \n",
       "18428            married                 0      F        retiree     0   \n",
       "18521  civil partnership                 1      F       employee     0   \n",
       "18563            married                 0      F       employee     0   \n",
       "18755            married                 0      F        retiree     0   \n",
       "19041  civil partnership                 1      F       employee     0   \n",
       "19184            married                 0      F       employee     0   \n",
       "19321          unmarried                 4      F       employee     0   \n",
       "19387  civil partnership                 1      F       business     0   \n",
       "19688            married                 0      F        retiree     0   \n",
       "19832            married                 0      F       employee     0   \n",
       "19946            married                 0      F       employee     0   \n",
       "20116  civil partnership                 1      M        retiree     0   \n",
       "20165            married                 0      F       employee     0   \n",
       "20702            married                 0      F        retiree     0   \n",
       "21032            married                 0      F        retiree     0   \n",
       "21132            married                 0      F       employee     0   \n",
       "21281            married                 0      F       employee     0   \n",
       "21415            married                 0      F        retiree     0   \n",
       "\n",
       "       total_income                                   purpose  new_income  \\\n",
       "2849            NaN       purchase of the house for my family       22815   \n",
       "4182            NaN                          wedding ceremony       22815   \n",
       "4851            NaN                          wedding ceremony       18962   \n",
       "5557            NaN                         to have a wedding       18962   \n",
       "7808            NaN                          having a wedding       18962   \n",
       "8583            NaN                   supplementary education       18962   \n",
       "9238            NaN           buying property for renting out       22815   \n",
       "9528            NaN          transactions with my real estate       18962   \n",
       "9627            NaN          transactions with my real estate       18962   \n",
       "10462           NaN                buy commercial real estate       18962   \n",
       "10697           NaN                         to have a wedding       27577   \n",
       "10864           NaN                        housing renovation       18962   \n",
       "10994           NaN                        housing renovation       18962   \n",
       "11791           NaN                       building a property       22815   \n",
       "12373           NaN                           buy real estate       22815   \n",
       "12375           NaN                           buy real estate       22815   \n",
       "12736           NaN                        to become educated       18962   \n",
       "13025           NaN                  second-hand car purchase       22815   \n",
       "13639           NaN                                       car       18962   \n",
       "13773           NaN                         to have a wedding       22815   \n",
       "13878           NaN                     purchase of the house       27577   \n",
       "13942           NaN                              car purchase       22815   \n",
       "14432           NaN                      getting an education       24071   \n",
       "14832           NaN                                  property       22815   \n",
       "15091           NaN                          having a wedding       22815   \n",
       "15188           NaN                           buy real estate       22815   \n",
       "15273           NaN                          wedding ceremony       18962   \n",
       "16176           NaN                        housing renovation       22815   \n",
       "16378           NaN                      university education       22815   \n",
       "16902           NaN                         to have a wedding       22815   \n",
       "16904           NaN                  buying a second-hand car       22815   \n",
       "17379           NaN  transactions with commercial real estate       27577   \n",
       "17755           NaN                        to become educated       22815   \n",
       "17774           NaN                    building a real estate       27577   \n",
       "18328           NaN               buy residential real estate       22815   \n",
       "18349           NaN       purchase of the house for my family       24071   \n",
       "18428           NaN                                   housing       18962   \n",
       "18521           NaN                         to have a wedding       22815   \n",
       "18563           NaN          transactions with my real estate       22815   \n",
       "18755           NaN                        to become educated       18962   \n",
       "19041           NaN                          having a wedding       22815   \n",
       "19184           NaN                              to own a car       22815   \n",
       "19321           NaN                  second-hand car purchase       22815   \n",
       "19387           NaN                          having a wedding       27577   \n",
       "19688           NaN                  real estate transactions       18962   \n",
       "19832           NaN                        housing renovation       22815   \n",
       "19946           NaN                  second-hand car purchase       22815   \n",
       "20116           NaN                          wedding ceremony       18962   \n",
       "20165           NaN       purchase of the house for my family       22815   \n",
       "20702           NaN                   supplementary education       18962   \n",
       "21032           NaN                        to become educated       18962   \n",
       "21132           NaN                        housing renovation       22815   \n",
       "21281           NaN                buy commercial real estate       22815   \n",
       "21415           NaN                      housing transactions       18962   \n",
       "\n",
       "           education_lower  \n",
       "2849   secondary education  \n",
       "4182     bachelor's degree  \n",
       "4851   secondary education  \n",
       "5557   secondary education  \n",
       "7808   secondary education  \n",
       "8583     bachelor's degree  \n",
       "9238   secondary education  \n",
       "9528   secondary education  \n",
       "9627   secondary education  \n",
       "10462  secondary education  \n",
       "10697  secondary education  \n",
       "10864  secondary education  \n",
       "10994  secondary education  \n",
       "11791  secondary education  \n",
       "12373  secondary education  \n",
       "12375  secondary education  \n",
       "12736  secondary education  \n",
       "13025  secondary education  \n",
       "13639  secondary education  \n",
       "13773  secondary education  \n",
       "13878  secondary education  \n",
       "13942  secondary education  \n",
       "14432    bachelor's degree  \n",
       "14832  secondary education  \n",
       "15091  secondary education  \n",
       "15188  secondary education  \n",
       "15273  secondary education  \n",
       "16176  secondary education  \n",
       "16378  secondary education  \n",
       "16902  secondary education  \n",
       "16904    bachelor's degree  \n",
       "17379    bachelor's degree  \n",
       "17755  secondary education  \n",
       "17774  secondary education  \n",
       "18328    bachelor's degree  \n",
       "18349    bachelor's degree  \n",
       "18428  secondary education  \n",
       "18521  secondary education  \n",
       "18563  secondary education  \n",
       "18755  secondary education  \n",
       "19041  secondary education  \n",
       "19184  secondary education  \n",
       "19321  secondary education  \n",
       "19387    bachelor's degree  \n",
       "19688  secondary education  \n",
       "19832  secondary education  \n",
       "19946  secondary education  \n",
       "20116  secondary education  \n",
       "20165  secondary education  \n",
       "20702  secondary education  \n",
       "21032  secondary education  \n",
       "21132  secondary education  \n",
       "21281    bachelor's degree  \n",
       "21415  secondary education  "
      ]
     },
     "execution_count": 26,
     "metadata": {},
     "output_type": "execute_result"
    }
   ],
   "source": [
    "data.loc[data.duplicated(), :]"
   ]
  },
  {
   "cell_type": "markdown",
   "metadata": {},
   "source": [
    "### Conclusion"
   ]
  },
  {
   "cell_type": "markdown",
   "metadata": {},
   "source": [
    "As for duplicated rows I decided not to drop them because they are insignifant compare to the overall rows (21525). Another reason is that I believe real people filled the detail and most chances that these is real data and not duplicate"
   ]
  },
  {
   "cell_type": "markdown",
   "metadata": {},
   "source": [
    "### Categorizing Data"
   ]
  },
  {
   "cell_type": "code",
   "execution_count": 27,
   "metadata": {},
   "outputs": [
    {
     "data": {
      "text/plain": [
       "count     21525.000000\n",
       "mean      26435.582625\n",
       "std       15686.982483\n",
       "min        3306.000000\n",
       "25%       17247.000000\n",
       "50%       22815.000000\n",
       "75%       31287.000000\n",
       "max      362496.000000\n",
       "Name: new_income, dtype: float64"
      ]
     },
     "execution_count": 27,
     "metadata": {},
     "output_type": "execute_result"
    }
   ],
   "source": [
    "data.new_income.describe()"
   ]
  },
  {
   "cell_type": "code",
   "execution_count": 28,
   "metadata": {},
   "outputs": [],
   "source": [
    "def income_group(new_income):\n",
    "    if new_income <= 17247:\n",
    "        return 'low income'\n",
    "    if ((new_income >=17248)&(new_income <= 31286)):\n",
    "        return 'average income'\n",
    "    if new_income >=31288:\n",
    "        return 'high income'\n",
    "#creating category for income"
   ]
  },
  {
   "cell_type": "code",
   "execution_count": 29,
   "metadata": {},
   "outputs": [
    {
     "data": {
      "text/html": [
       "<div>\n",
       "<style scoped>\n",
       "    .dataframe tbody tr th:only-of-type {\n",
       "        vertical-align: middle;\n",
       "    }\n",
       "\n",
       "    .dataframe tbody tr th {\n",
       "        vertical-align: top;\n",
       "    }\n",
       "\n",
       "    .dataframe thead th {\n",
       "        text-align: right;\n",
       "    }\n",
       "</style>\n",
       "<table border=\"1\" class=\"dataframe\">\n",
       "  <thead>\n",
       "    <tr style=\"text-align: right;\">\n",
       "      <th></th>\n",
       "      <th>children</th>\n",
       "      <th>days_employed</th>\n",
       "      <th>dob_years</th>\n",
       "      <th>education</th>\n",
       "      <th>education_id</th>\n",
       "      <th>family_status</th>\n",
       "      <th>family_status_id</th>\n",
       "      <th>gender</th>\n",
       "      <th>income_type</th>\n",
       "      <th>debt</th>\n",
       "      <th>total_income</th>\n",
       "      <th>purpose</th>\n",
       "      <th>new_income</th>\n",
       "      <th>education_lower</th>\n",
       "      <th>income_group</th>\n",
       "    </tr>\n",
       "  </thead>\n",
       "  <tbody>\n",
       "    <tr>\n",
       "      <td>0</td>\n",
       "      <td>1</td>\n",
       "      <td>-8437.673028</td>\n",
       "      <td>42</td>\n",
       "      <td>bachelor's degree</td>\n",
       "      <td>0</td>\n",
       "      <td>married</td>\n",
       "      <td>0</td>\n",
       "      <td>F</td>\n",
       "      <td>employee</td>\n",
       "      <td>0</td>\n",
       "      <td>40620.102</td>\n",
       "      <td>purchase of the house</td>\n",
       "      <td>40620</td>\n",
       "      <td>bachelor's degree</td>\n",
       "      <td>high income</td>\n",
       "    </tr>\n",
       "    <tr>\n",
       "      <td>1</td>\n",
       "      <td>1</td>\n",
       "      <td>-4024.803754</td>\n",
       "      <td>36</td>\n",
       "      <td>secondary education</td>\n",
       "      <td>1</td>\n",
       "      <td>married</td>\n",
       "      <td>0</td>\n",
       "      <td>F</td>\n",
       "      <td>employee</td>\n",
       "      <td>0</td>\n",
       "      <td>17932.802</td>\n",
       "      <td>car purchase</td>\n",
       "      <td>17932</td>\n",
       "      <td>secondary education</td>\n",
       "      <td>average income</td>\n",
       "    </tr>\n",
       "    <tr>\n",
       "      <td>2</td>\n",
       "      <td>0</td>\n",
       "      <td>-5623.422610</td>\n",
       "      <td>33</td>\n",
       "      <td>Secondary Education</td>\n",
       "      <td>1</td>\n",
       "      <td>married</td>\n",
       "      <td>0</td>\n",
       "      <td>M</td>\n",
       "      <td>employee</td>\n",
       "      <td>0</td>\n",
       "      <td>23341.752</td>\n",
       "      <td>purchase of the house</td>\n",
       "      <td>23341</td>\n",
       "      <td>secondary education</td>\n",
       "      <td>average income</td>\n",
       "    </tr>\n",
       "    <tr>\n",
       "      <td>3</td>\n",
       "      <td>3</td>\n",
       "      <td>-4124.747207</td>\n",
       "      <td>32</td>\n",
       "      <td>secondary education</td>\n",
       "      <td>1</td>\n",
       "      <td>married</td>\n",
       "      <td>0</td>\n",
       "      <td>M</td>\n",
       "      <td>employee</td>\n",
       "      <td>0</td>\n",
       "      <td>42820.568</td>\n",
       "      <td>supplementary education</td>\n",
       "      <td>42820</td>\n",
       "      <td>secondary education</td>\n",
       "      <td>high income</td>\n",
       "    </tr>\n",
       "    <tr>\n",
       "      <td>4</td>\n",
       "      <td>0</td>\n",
       "      <td>340266.072047</td>\n",
       "      <td>53</td>\n",
       "      <td>secondary education</td>\n",
       "      <td>1</td>\n",
       "      <td>civil partnership</td>\n",
       "      <td>1</td>\n",
       "      <td>F</td>\n",
       "      <td>retiree</td>\n",
       "      <td>0</td>\n",
       "      <td>25378.572</td>\n",
       "      <td>to have a wedding</td>\n",
       "      <td>25378</td>\n",
       "      <td>secondary education</td>\n",
       "      <td>average income</td>\n",
       "    </tr>\n",
       "    <tr>\n",
       "      <td>...</td>\n",
       "      <td>...</td>\n",
       "      <td>...</td>\n",
       "      <td>...</td>\n",
       "      <td>...</td>\n",
       "      <td>...</td>\n",
       "      <td>...</td>\n",
       "      <td>...</td>\n",
       "      <td>...</td>\n",
       "      <td>...</td>\n",
       "      <td>...</td>\n",
       "      <td>...</td>\n",
       "      <td>...</td>\n",
       "      <td>...</td>\n",
       "      <td>...</td>\n",
       "      <td>...</td>\n",
       "    </tr>\n",
       "    <tr>\n",
       "      <td>21520</td>\n",
       "      <td>1</td>\n",
       "      <td>-4529.316663</td>\n",
       "      <td>43</td>\n",
       "      <td>secondary education</td>\n",
       "      <td>1</td>\n",
       "      <td>civil partnership</td>\n",
       "      <td>1</td>\n",
       "      <td>F</td>\n",
       "      <td>business</td>\n",
       "      <td>0</td>\n",
       "      <td>35966.698</td>\n",
       "      <td>housing transactions</td>\n",
       "      <td>35966</td>\n",
       "      <td>secondary education</td>\n",
       "      <td>high income</td>\n",
       "    </tr>\n",
       "    <tr>\n",
       "      <td>21521</td>\n",
       "      <td>0</td>\n",
       "      <td>343937.404131</td>\n",
       "      <td>67</td>\n",
       "      <td>secondary education</td>\n",
       "      <td>1</td>\n",
       "      <td>married</td>\n",
       "      <td>0</td>\n",
       "      <td>F</td>\n",
       "      <td>retiree</td>\n",
       "      <td>0</td>\n",
       "      <td>24959.969</td>\n",
       "      <td>purchase of a car</td>\n",
       "      <td>24959</td>\n",
       "      <td>secondary education</td>\n",
       "      <td>average income</td>\n",
       "    </tr>\n",
       "    <tr>\n",
       "      <td>21522</td>\n",
       "      <td>1</td>\n",
       "      <td>-2113.346888</td>\n",
       "      <td>38</td>\n",
       "      <td>secondary education</td>\n",
       "      <td>1</td>\n",
       "      <td>civil partnership</td>\n",
       "      <td>1</td>\n",
       "      <td>M</td>\n",
       "      <td>employee</td>\n",
       "      <td>1</td>\n",
       "      <td>14347.610</td>\n",
       "      <td>property</td>\n",
       "      <td>14347</td>\n",
       "      <td>secondary education</td>\n",
       "      <td>low income</td>\n",
       "    </tr>\n",
       "    <tr>\n",
       "      <td>21523</td>\n",
       "      <td>3</td>\n",
       "      <td>-3112.481705</td>\n",
       "      <td>38</td>\n",
       "      <td>secondary education</td>\n",
       "      <td>1</td>\n",
       "      <td>married</td>\n",
       "      <td>0</td>\n",
       "      <td>M</td>\n",
       "      <td>employee</td>\n",
       "      <td>1</td>\n",
       "      <td>39054.888</td>\n",
       "      <td>buying my own car</td>\n",
       "      <td>39054</td>\n",
       "      <td>secondary education</td>\n",
       "      <td>high income</td>\n",
       "    </tr>\n",
       "    <tr>\n",
       "      <td>21524</td>\n",
       "      <td>2</td>\n",
       "      <td>-1984.507589</td>\n",
       "      <td>40</td>\n",
       "      <td>secondary education</td>\n",
       "      <td>1</td>\n",
       "      <td>married</td>\n",
       "      <td>0</td>\n",
       "      <td>F</td>\n",
       "      <td>employee</td>\n",
       "      <td>0</td>\n",
       "      <td>13127.587</td>\n",
       "      <td>to buy a car</td>\n",
       "      <td>13127</td>\n",
       "      <td>secondary education</td>\n",
       "      <td>low income</td>\n",
       "    </tr>\n",
       "  </tbody>\n",
       "</table>\n",
       "<p>21525 rows × 15 columns</p>\n",
       "</div>"
      ],
      "text/plain": [
       "       children  days_employed dob_years            education  education_id  \\\n",
       "0             1   -8437.673028        42    bachelor's degree             0   \n",
       "1             1   -4024.803754        36  secondary education             1   \n",
       "2             0   -5623.422610        33  Secondary Education             1   \n",
       "3             3   -4124.747207        32  secondary education             1   \n",
       "4             0  340266.072047        53  secondary education             1   \n",
       "...         ...            ...       ...                  ...           ...   \n",
       "21520         1   -4529.316663        43  secondary education             1   \n",
       "21521         0  343937.404131        67  secondary education             1   \n",
       "21522         1   -2113.346888        38  secondary education             1   \n",
       "21523         3   -3112.481705        38  secondary education             1   \n",
       "21524         2   -1984.507589        40  secondary education             1   \n",
       "\n",
       "           family_status  family_status_id gender income_type  debt  \\\n",
       "0                married                 0      F    employee     0   \n",
       "1                married                 0      F    employee     0   \n",
       "2                married                 0      M    employee     0   \n",
       "3                married                 0      M    employee     0   \n",
       "4      civil partnership                 1      F     retiree     0   \n",
       "...                  ...               ...    ...         ...   ...   \n",
       "21520  civil partnership                 1      F    business     0   \n",
       "21521            married                 0      F     retiree     0   \n",
       "21522  civil partnership                 1      M    employee     1   \n",
       "21523            married                 0      M    employee     1   \n",
       "21524            married                 0      F    employee     0   \n",
       "\n",
       "       total_income                  purpose  new_income      education_lower  \\\n",
       "0         40620.102    purchase of the house       40620    bachelor's degree   \n",
       "1         17932.802             car purchase       17932  secondary education   \n",
       "2         23341.752    purchase of the house       23341  secondary education   \n",
       "3         42820.568  supplementary education       42820  secondary education   \n",
       "4         25378.572        to have a wedding       25378  secondary education   \n",
       "...             ...                      ...         ...                  ...   \n",
       "21520     35966.698     housing transactions       35966  secondary education   \n",
       "21521     24959.969        purchase of a car       24959  secondary education   \n",
       "21522     14347.610                 property       14347  secondary education   \n",
       "21523     39054.888        buying my own car       39054  secondary education   \n",
       "21524     13127.587             to buy a car       13127  secondary education   \n",
       "\n",
       "         income_group  \n",
       "0         high income  \n",
       "1      average income  \n",
       "2      average income  \n",
       "3         high income  \n",
       "4      average income  \n",
       "...               ...  \n",
       "21520     high income  \n",
       "21521  average income  \n",
       "21522      low income  \n",
       "21523     high income  \n",
       "21524      low income  \n",
       "\n",
       "[21525 rows x 15 columns]"
      ]
     },
     "execution_count": 29,
     "metadata": {},
     "output_type": "execute_result"
    }
   ],
   "source": [
    "data['income_group'] = data['new_income'].apply(income_group)\n",
    "data\n"
   ]
  },
  {
   "cell_type": "code",
   "execution_count": 30,
   "metadata": {},
   "outputs": [
    {
     "data": {
      "text/plain": [
       "average income    10761\n",
       "low income         5382\n",
       "high income        5381\n",
       "Name: income_group, dtype: int64"
      ]
     },
     "execution_count": 30,
     "metadata": {},
     "output_type": "execute_result"
    }
   ],
   "source": [
    "data.income_group.value_counts()"
   ]
  },
  {
   "cell_type": "code",
   "execution_count": 31,
   "metadata": {
    "scrolled": true
   },
   "outputs": [
    {
     "data": {
      "text/plain": [
       "array(['purchase of the house', 'car purchase', 'supplementary education',\n",
       "       'to have a wedding', 'housing transactions', 'education',\n",
       "       'having a wedding', 'purchase of the house for my family',\n",
       "       'buy real estate', 'buy commercial real estate',\n",
       "       'buy residential real estate', 'construction of own property',\n",
       "       'property', 'building a property', 'buying a second-hand car',\n",
       "       'buying my own car', 'transactions with commercial real estate',\n",
       "       'building a real estate', 'housing',\n",
       "       'transactions with my real estate', 'cars', 'to become educated',\n",
       "       'second-hand car purchase', 'getting an education', 'car',\n",
       "       'wedding ceremony', 'to get a supplementary education',\n",
       "       'purchase of my own house', 'real estate transactions',\n",
       "       'getting higher education', 'to own a car', 'purchase of a car',\n",
       "       'profile education', 'university education',\n",
       "       'buying property for renting out', 'to buy a car',\n",
       "       'housing renovation', 'going to university'], dtype=object)"
      ]
     },
     "execution_count": 31,
     "metadata": {},
     "output_type": "execute_result"
    }
   ],
   "source": [
    "data.purpose.unique()"
   ]
  },
  {
   "cell_type": "code",
   "execution_count": 32,
   "metadata": {},
   "outputs": [],
   "source": [
    "wedding_category=['wedding', 'ceremony']\n",
    "car_category=['car', 'second-hand', 'cars']\n",
    "education_category=['education', 'university', 'educated']\n",
    "house_category=['house', 'real', 'estate', 'property', 'transactions', 'housing']"
   ]
  },
  {
   "cell_type": "code",
   "execution_count": 34,
   "metadata": {},
   "outputs": [],
   "source": [
    "m=Mystem()"
   ]
  },
  {
   "cell_type": "code",
   "execution_count": 35,
   "metadata": {},
   "outputs": [
    {
     "data": {
      "text/plain": [
       "['university', ' ', 'education', '\\n']"
      ]
     },
     "execution_count": 35,
     "metadata": {},
     "output_type": "execute_result"
    }
   ],
   "source": [
    "m.lemmatize('university education')"
   ]
  },
  {
   "cell_type": "code",
   "execution_count": 36,
   "metadata": {},
   "outputs": [],
   "source": [
    "def lemma_function(line):\n",
    "    lemmatized=m.lemmatize(line)\n",
    "    return lemmatized"
   ]
  },
  {
   "cell_type": "code",
   "execution_count": 37,
   "metadata": {},
   "outputs": [
    {
     "data": {
      "text/plain": [
       "'purchase of the house'"
      ]
     },
     "execution_count": 37,
     "metadata": {},
     "output_type": "execute_result"
    }
   ],
   "source": [
    "example= data.loc[2]['purpose']\n",
    "example"
   ]
  },
  {
   "cell_type": "code",
   "execution_count": 38,
   "metadata": {},
   "outputs": [
    {
     "data": {
      "text/plain": [
       "['purchase', ' ', 'of', ' ', 'the', ' ', 'house', '\\n']"
      ]
     },
     "execution_count": 38,
     "metadata": {},
     "output_type": "execute_result"
    }
   ],
   "source": [
    "lemma_function(example)"
   ]
  },
  {
   "cell_type": "code",
   "execution_count": 39,
   "metadata": {},
   "outputs": [
    {
     "data": {
      "text/plain": [
       "True"
      ]
     },
     "execution_count": 39,
     "metadata": {},
     "output_type": "execute_result"
    }
   ],
   "source": [
    "any(word in lemma_function(example) for word in house_category)"
   ]
  },
  {
   "cell_type": "code",
   "execution_count": 40,
   "metadata": {},
   "outputs": [],
   "source": [
    "def lemma_function(line):\n",
    "    lemmatized=m.lemmatize(line)\n",
    "    lemmatized=[word.lower() for word in lemmatized]\n",
    "    if any(word in lemmatized for word in house_category):\n",
    "        return 'house'\n",
    "    elif any(word in lemmatized for word in education_category):\n",
    "        return 'education'\n",
    "    elif any(word in lemmatized for word in car_category):\n",
    "        return 'car'\n",
    "    elif any(word in lemmatized for word in wedding_category):\n",
    "        return 'wedding'\n",
    "    else:\n",
    "        return 'other'\n",
    "  "
   ]
  },
  {
   "cell_type": "code",
   "execution_count": 41,
   "metadata": {},
   "outputs": [],
   "source": [
    "data['clean_purpose']= data['purpose'].apply(lemma_function)"
   ]
  },
  {
   "cell_type": "code",
   "execution_count": 42,
   "metadata": {},
   "outputs": [
    {
     "data": {
      "text/plain": [
       "house        10840\n",
       "car           4315\n",
       "education     4022\n",
       "wedding       2348\n",
       "Name: clean_purpose, dtype: int64"
      ]
     },
     "execution_count": 42,
     "metadata": {},
     "output_type": "execute_result"
    }
   ],
   "source": [
    "data['clean_purpose'].value_counts()"
   ]
  },
  {
   "cell_type": "markdown",
   "metadata": {},
   "source": [
    "### Conclusion"
   ]
  },
  {
   "cell_type": "markdown",
   "metadata": {},
   "source": [
    "I decided to categorized the total_income column and the purpose column\n",
    "Total income- I categorized to three levels of income. Due to the fact I don't know the bank's country nor the year it took place, I can't rely on statistical income rates. I decided to rely on the describe() method of the table (25%, 50%, 75%)\n",
    "about 50% of the people have an average income\n",
    "Clean purpose- I categorized the column to four categories according to key words. I seems that about 50% of the people asking loan for buying a new house/real estate."
   ]
  },
  {
   "cell_type": "markdown",
   "metadata": {},
   "source": [
    "## Answer these questions"
   ]
  },
  {
   "cell_type": "markdown",
   "metadata": {},
   "source": [
    "- Is there a relation between having kids and repaying a loan on time?"
   ]
  },
  {
   "cell_type": "code",
   "execution_count": 15,
   "metadata": {},
   "outputs": [
    {
     "data": {
      "text/html": [
       "<div>\n",
       "<style scoped>\n",
       "    .dataframe tbody tr th:only-of-type {\n",
       "        vertical-align: middle;\n",
       "    }\n",
       "\n",
       "    .dataframe tbody tr th {\n",
       "        vertical-align: top;\n",
       "    }\n",
       "\n",
       "    .dataframe thead th {\n",
       "        text-align: right;\n",
       "    }\n",
       "</style>\n",
       "<table border=\"1\" class=\"dataframe\">\n",
       "  <thead>\n",
       "    <tr style=\"text-align: right;\">\n",
       "      <th>debt</th>\n",
       "      <th>0</th>\n",
       "      <th>1</th>\n",
       "      <th>All</th>\n",
       "    </tr>\n",
       "    <tr>\n",
       "      <th>children</th>\n",
       "      <th></th>\n",
       "      <th></th>\n",
       "      <th></th>\n",
       "    </tr>\n",
       "  </thead>\n",
       "  <tbody>\n",
       "    <tr>\n",
       "      <th>-1</th>\n",
       "      <td>46.0</td>\n",
       "      <td>1.0</td>\n",
       "      <td>47</td>\n",
       "    </tr>\n",
       "    <tr>\n",
       "      <th>0</th>\n",
       "      <td>13086.0</td>\n",
       "      <td>1063.0</td>\n",
       "      <td>14149</td>\n",
       "    </tr>\n",
       "    <tr>\n",
       "      <th>1</th>\n",
       "      <td>4374.0</td>\n",
       "      <td>444.0</td>\n",
       "      <td>4818</td>\n",
       "    </tr>\n",
       "    <tr>\n",
       "      <th>2</th>\n",
       "      <td>1861.0</td>\n",
       "      <td>194.0</td>\n",
       "      <td>2055</td>\n",
       "    </tr>\n",
       "    <tr>\n",
       "      <th>3</th>\n",
       "      <td>303.0</td>\n",
       "      <td>27.0</td>\n",
       "      <td>330</td>\n",
       "    </tr>\n",
       "    <tr>\n",
       "      <th>4</th>\n",
       "      <td>37.0</td>\n",
       "      <td>4.0</td>\n",
       "      <td>41</td>\n",
       "    </tr>\n",
       "    <tr>\n",
       "      <th>5</th>\n",
       "      <td>9.0</td>\n",
       "      <td>NaN</td>\n",
       "      <td>9</td>\n",
       "    </tr>\n",
       "    <tr>\n",
       "      <th>20</th>\n",
       "      <td>68.0</td>\n",
       "      <td>8.0</td>\n",
       "      <td>76</td>\n",
       "    </tr>\n",
       "    <tr>\n",
       "      <th>All</th>\n",
       "      <td>19784.0</td>\n",
       "      <td>1741.0</td>\n",
       "      <td>21525</td>\n",
       "    </tr>\n",
       "  </tbody>\n",
       "</table>\n",
       "</div>"
      ],
      "text/plain": [
       "debt            0       1    All\n",
       "children                        \n",
       "-1           46.0     1.0     47\n",
       "0         13086.0  1063.0  14149\n",
       "1          4374.0   444.0   4818\n",
       "2          1861.0   194.0   2055\n",
       "3           303.0    27.0    330\n",
       "4            37.0     4.0     41\n",
       "5             9.0     NaN      9\n",
       "20           68.0     8.0     76\n",
       "All       19784.0  1741.0  21525"
      ]
     },
     "execution_count": 15,
     "metadata": {},
     "output_type": "execute_result"
    }
   ],
   "source": [
    "family_children= data.pivot_table(index='children',columns='debt',values='gender',aggfunc='count',margins=True)\n",
    "family_children"
   ]
  },
  {
   "cell_type": "code",
   "execution_count": 44,
   "metadata": {},
   "outputs": [],
   "source": [
    "family_children= family_children.fillna(0)"
   ]
  },
  {
   "cell_type": "code",
   "execution_count": 45,
   "metadata": {},
   "outputs": [
    {
     "data": {
      "text/html": [
       "<div>\n",
       "<style scoped>\n",
       "    .dataframe tbody tr th:only-of-type {\n",
       "        vertical-align: middle;\n",
       "    }\n",
       "\n",
       "    .dataframe tbody tr th {\n",
       "        vertical-align: top;\n",
       "    }\n",
       "\n",
       "    .dataframe thead th {\n",
       "        text-align: right;\n",
       "    }\n",
       "</style>\n",
       "<table border=\"1\" class=\"dataframe\">\n",
       "  <thead>\n",
       "    <tr style=\"text-align: right;\">\n",
       "      <th>debt</th>\n",
       "      <th>0</th>\n",
       "      <th>1</th>\n",
       "      <th>All</th>\n",
       "      <th>default_rate</th>\n",
       "    </tr>\n",
       "    <tr>\n",
       "      <th>children</th>\n",
       "      <th></th>\n",
       "      <th></th>\n",
       "      <th></th>\n",
       "      <th></th>\n",
       "    </tr>\n",
       "  </thead>\n",
       "  <tbody>\n",
       "    <tr>\n",
       "      <td>0</td>\n",
       "      <td>13086.0</td>\n",
       "      <td>1063.0</td>\n",
       "      <td>14149</td>\n",
       "      <td>7.512898</td>\n",
       "    </tr>\n",
       "    <tr>\n",
       "      <td>1</td>\n",
       "      <td>4420.0</td>\n",
       "      <td>445.0</td>\n",
       "      <td>4865</td>\n",
       "      <td>9.146968</td>\n",
       "    </tr>\n",
       "    <tr>\n",
       "      <td>2</td>\n",
       "      <td>1929.0</td>\n",
       "      <td>202.0</td>\n",
       "      <td>2131</td>\n",
       "      <td>9.479118</td>\n",
       "    </tr>\n",
       "    <tr>\n",
       "      <td>3</td>\n",
       "      <td>303.0</td>\n",
       "      <td>27.0</td>\n",
       "      <td>330</td>\n",
       "      <td>8.181818</td>\n",
       "    </tr>\n",
       "    <tr>\n",
       "      <td>4</td>\n",
       "      <td>37.0</td>\n",
       "      <td>4.0</td>\n",
       "      <td>41</td>\n",
       "      <td>9.756098</td>\n",
       "    </tr>\n",
       "    <tr>\n",
       "      <td>5</td>\n",
       "      <td>9.0</td>\n",
       "      <td>0.0</td>\n",
       "      <td>9</td>\n",
       "      <td>0.000000</td>\n",
       "    </tr>\n",
       "    <tr>\n",
       "      <td>All</td>\n",
       "      <td>19784.0</td>\n",
       "      <td>1741.0</td>\n",
       "      <td>21525</td>\n",
       "      <td>8.088269</td>\n",
       "    </tr>\n",
       "  </tbody>\n",
       "</table>\n",
       "</div>"
      ],
      "text/plain": [
       "debt            0       1    All  default_rate\n",
       "children                                      \n",
       "0         13086.0  1063.0  14149      7.512898\n",
       "1          4420.0   445.0   4865      9.146968\n",
       "2          1929.0   202.0   2131      9.479118\n",
       "3           303.0    27.0    330      8.181818\n",
       "4            37.0     4.0     41      9.756098\n",
       "5             9.0     0.0      9      0.000000\n",
       "All       19784.0  1741.0  21525      8.088269"
      ]
     },
     "execution_count": 45,
     "metadata": {},
     "output_type": "execute_result"
    }
   ],
   "source": [
    "family_children['default_rate']= (family_children[1]/family_children['All']*100)\n",
    "family_children"
   ]
  },
  {
   "cell_type": "markdown",
   "metadata": {},
   "source": [
    "### Conclusion"
   ]
  },
  {
   "cell_type": "markdown",
   "metadata": {},
   "source": [
    "According to the results and comparise to the overall default rate, we can conclude: \n",
    "1. Families without any children are below the average default rate which means they are most likely to pay the loan on time\n",
    "2. Families with children are most likely falls behind paying on time but, We can't conclude there is correlation between the number of children and higher rate in debt.\n",
    "3. The row with 5 children isn't representative because only 9 families has  "
   ]
  },
  {
   "cell_type": "markdown",
   "metadata": {},
   "source": [
    "- Is there a relation between marital status and repaying a loan on time?"
   ]
  },
  {
   "cell_type": "code",
   "execution_count": 46,
   "metadata": {},
   "outputs": [
    {
     "data": {
      "text/html": [
       "<div>\n",
       "<style scoped>\n",
       "    .dataframe tbody tr th:only-of-type {\n",
       "        vertical-align: middle;\n",
       "    }\n",
       "\n",
       "    .dataframe tbody tr th {\n",
       "        vertical-align: top;\n",
       "    }\n",
       "\n",
       "    .dataframe thead th {\n",
       "        text-align: right;\n",
       "    }\n",
       "</style>\n",
       "<table border=\"1\" class=\"dataframe\">\n",
       "  <thead>\n",
       "    <tr style=\"text-align: right;\">\n",
       "      <th>debt</th>\n",
       "      <th>family_status</th>\n",
       "      <th>0</th>\n",
       "      <th>1</th>\n",
       "      <th>All</th>\n",
       "    </tr>\n",
       "  </thead>\n",
       "  <tbody>\n",
       "    <tr>\n",
       "      <td>0</td>\n",
       "      <td>civil partnership</td>\n",
       "      <td>3789</td>\n",
       "      <td>388</td>\n",
       "      <td>4177</td>\n",
       "    </tr>\n",
       "    <tr>\n",
       "      <td>1</td>\n",
       "      <td>divorced</td>\n",
       "      <td>1110</td>\n",
       "      <td>85</td>\n",
       "      <td>1195</td>\n",
       "    </tr>\n",
       "    <tr>\n",
       "      <td>2</td>\n",
       "      <td>married</td>\n",
       "      <td>11449</td>\n",
       "      <td>931</td>\n",
       "      <td>12380</td>\n",
       "    </tr>\n",
       "    <tr>\n",
       "      <td>3</td>\n",
       "      <td>unmarried</td>\n",
       "      <td>2539</td>\n",
       "      <td>274</td>\n",
       "      <td>2813</td>\n",
       "    </tr>\n",
       "    <tr>\n",
       "      <td>4</td>\n",
       "      <td>widow / widower</td>\n",
       "      <td>897</td>\n",
       "      <td>63</td>\n",
       "      <td>960</td>\n",
       "    </tr>\n",
       "    <tr>\n",
       "      <td>5</td>\n",
       "      <td>All</td>\n",
       "      <td>19784</td>\n",
       "      <td>1741</td>\n",
       "      <td>21525</td>\n",
       "    </tr>\n",
       "  </tbody>\n",
       "</table>\n",
       "</div>"
      ],
      "text/plain": [
       "debt      family_status      0     1    All\n",
       "0     civil partnership   3789   388   4177\n",
       "1              divorced   1110    85   1195\n",
       "2               married  11449   931  12380\n",
       "3             unmarried   2539   274   2813\n",
       "4       widow / widower    897    63    960\n",
       "5                   All  19784  1741  21525"
      ]
     },
     "execution_count": 46,
     "metadata": {},
     "output_type": "execute_result"
    }
   ],
   "source": [
    "family_status= data.pivot_table(index='family_status',columns='debt',values='family_status_id',aggfunc='count', margins=True).reset_index()\n",
    "family_status"
   ]
  },
  {
   "cell_type": "code",
   "execution_count": 47,
   "metadata": {},
   "outputs": [
    {
     "data": {
      "text/html": [
       "<div>\n",
       "<style scoped>\n",
       "    .dataframe tbody tr th:only-of-type {\n",
       "        vertical-align: middle;\n",
       "    }\n",
       "\n",
       "    .dataframe tbody tr th {\n",
       "        vertical-align: top;\n",
       "    }\n",
       "\n",
       "    .dataframe thead th {\n",
       "        text-align: right;\n",
       "    }\n",
       "</style>\n",
       "<table border=\"1\" class=\"dataframe\">\n",
       "  <thead>\n",
       "    <tr style=\"text-align: right;\">\n",
       "      <th>debt</th>\n",
       "      <th>family_status</th>\n",
       "      <th>0</th>\n",
       "      <th>1</th>\n",
       "      <th>All</th>\n",
       "      <th>default_rate</th>\n",
       "    </tr>\n",
       "  </thead>\n",
       "  <tbody>\n",
       "    <tr>\n",
       "      <td>0</td>\n",
       "      <td>civil partnership</td>\n",
       "      <td>3789</td>\n",
       "      <td>388</td>\n",
       "      <td>4177</td>\n",
       "      <td>9.288963</td>\n",
       "    </tr>\n",
       "    <tr>\n",
       "      <td>1</td>\n",
       "      <td>divorced</td>\n",
       "      <td>1110</td>\n",
       "      <td>85</td>\n",
       "      <td>1195</td>\n",
       "      <td>7.112971</td>\n",
       "    </tr>\n",
       "    <tr>\n",
       "      <td>2</td>\n",
       "      <td>married</td>\n",
       "      <td>11449</td>\n",
       "      <td>931</td>\n",
       "      <td>12380</td>\n",
       "      <td>7.520194</td>\n",
       "    </tr>\n",
       "    <tr>\n",
       "      <td>3</td>\n",
       "      <td>unmarried</td>\n",
       "      <td>2539</td>\n",
       "      <td>274</td>\n",
       "      <td>2813</td>\n",
       "      <td>9.740491</td>\n",
       "    </tr>\n",
       "    <tr>\n",
       "      <td>4</td>\n",
       "      <td>widow / widower</td>\n",
       "      <td>897</td>\n",
       "      <td>63</td>\n",
       "      <td>960</td>\n",
       "      <td>6.562500</td>\n",
       "    </tr>\n",
       "    <tr>\n",
       "      <td>5</td>\n",
       "      <td>All</td>\n",
       "      <td>19784</td>\n",
       "      <td>1741</td>\n",
       "      <td>21525</td>\n",
       "      <td>8.088269</td>\n",
       "    </tr>\n",
       "  </tbody>\n",
       "</table>\n",
       "</div>"
      ],
      "text/plain": [
       "debt      family_status      0     1    All  default_rate\n",
       "0     civil partnership   3789   388   4177      9.288963\n",
       "1              divorced   1110    85   1195      7.112971\n",
       "2               married  11449   931  12380      7.520194\n",
       "3             unmarried   2539   274   2813      9.740491\n",
       "4       widow / widower    897    63    960      6.562500\n",
       "5                   All  19784  1741  21525      8.088269"
      ]
     },
     "execution_count": 47,
     "metadata": {},
     "output_type": "execute_result"
    }
   ],
   "source": [
    "family_status['default_rate']= (family_status[1]/ family_status['All'])*100\n",
    "family_status"
   ]
  },
  {
   "cell_type": "code",
   "execution_count": 48,
   "metadata": {},
   "outputs": [
    {
     "data": {
      "text/html": [
       "<div>\n",
       "<style scoped>\n",
       "    .dataframe tbody tr th:only-of-type {\n",
       "        vertical-align: middle;\n",
       "    }\n",
       "\n",
       "    .dataframe tbody tr th {\n",
       "        vertical-align: top;\n",
       "    }\n",
       "\n",
       "    .dataframe thead th {\n",
       "        text-align: right;\n",
       "    }\n",
       "</style>\n",
       "<table border=\"1\" class=\"dataframe\">\n",
       "  <thead>\n",
       "    <tr style=\"text-align: right;\">\n",
       "      <th></th>\n",
       "      <th>sum</th>\n",
       "      <th>count</th>\n",
       "      <th>default_ratio</th>\n",
       "    </tr>\n",
       "    <tr>\n",
       "      <th>family_status</th>\n",
       "      <th></th>\n",
       "      <th></th>\n",
       "      <th></th>\n",
       "    </tr>\n",
       "  </thead>\n",
       "  <tbody>\n",
       "    <tr>\n",
       "      <td>civil partnership</td>\n",
       "      <td>388</td>\n",
       "      <td>4177</td>\n",
       "      <td>9.288963</td>\n",
       "    </tr>\n",
       "    <tr>\n",
       "      <td>divorced</td>\n",
       "      <td>85</td>\n",
       "      <td>1195</td>\n",
       "      <td>7.112971</td>\n",
       "    </tr>\n",
       "    <tr>\n",
       "      <td>married</td>\n",
       "      <td>931</td>\n",
       "      <td>12380</td>\n",
       "      <td>7.520194</td>\n",
       "    </tr>\n",
       "    <tr>\n",
       "      <td>unmarried</td>\n",
       "      <td>274</td>\n",
       "      <td>2813</td>\n",
       "      <td>9.740491</td>\n",
       "    </tr>\n",
       "    <tr>\n",
       "      <td>widow / widower</td>\n",
       "      <td>63</td>\n",
       "      <td>960</td>\n",
       "      <td>6.562500</td>\n",
       "    </tr>\n",
       "  </tbody>\n",
       "</table>\n",
       "</div>"
      ],
      "text/plain": [
       "                   sum  count  default_ratio\n",
       "family_status                               \n",
       "civil partnership  388   4177       9.288963\n",
       "divorced            85   1195       7.112971\n",
       "married            931  12380       7.520194\n",
       "unmarried          274   2813       9.740491\n",
       "widow / widower     63    960       6.562500"
      ]
     },
     "execution_count": 48,
     "metadata": {},
     "output_type": "execute_result"
    }
   ],
   "source": [
    "family_debt_grouped= data.groupby('family_status').debt.agg(['sum','count'])\n",
    "family_debt_grouped['default_ratio']= (family_debt_grouped['sum']/family_debt_grouped['count'])*100\n",
    "family_debt_grouped"
   ]
  },
  {
   "cell_type": "code",
   "execution_count": 49,
   "metadata": {},
   "outputs": [
    {
     "data": {
      "text/html": [
       "<div>\n",
       "<style scoped>\n",
       "    .dataframe tbody tr th:only-of-type {\n",
       "        vertical-align: middle;\n",
       "    }\n",
       "\n",
       "    .dataframe tbody tr th {\n",
       "        vertical-align: top;\n",
       "    }\n",
       "\n",
       "    .dataframe thead th {\n",
       "        text-align: right;\n",
       "    }\n",
       "</style>\n",
       "<table border=\"1\" class=\"dataframe\">\n",
       "  <thead>\n",
       "    <tr style=\"text-align: right;\">\n",
       "      <th></th>\n",
       "      <th>sum</th>\n",
       "      <th>count</th>\n",
       "      <th>default_ratio</th>\n",
       "      <th>all</th>\n",
       "    </tr>\n",
       "    <tr>\n",
       "      <th>family_status</th>\n",
       "      <th></th>\n",
       "      <th></th>\n",
       "      <th></th>\n",
       "      <th></th>\n",
       "    </tr>\n",
       "  </thead>\n",
       "  <tbody>\n",
       "    <tr>\n",
       "      <td>civil partnership</td>\n",
       "      <td>388</td>\n",
       "      <td>4177</td>\n",
       "      <td>9.288963</td>\n",
       "      <td>8.088269</td>\n",
       "    </tr>\n",
       "    <tr>\n",
       "      <td>divorced</td>\n",
       "      <td>85</td>\n",
       "      <td>1195</td>\n",
       "      <td>7.112971</td>\n",
       "      <td>8.088269</td>\n",
       "    </tr>\n",
       "    <tr>\n",
       "      <td>married</td>\n",
       "      <td>931</td>\n",
       "      <td>12380</td>\n",
       "      <td>7.520194</td>\n",
       "      <td>8.088269</td>\n",
       "    </tr>\n",
       "    <tr>\n",
       "      <td>unmarried</td>\n",
       "      <td>274</td>\n",
       "      <td>2813</td>\n",
       "      <td>9.740491</td>\n",
       "      <td>8.088269</td>\n",
       "    </tr>\n",
       "    <tr>\n",
       "      <td>widow / widower</td>\n",
       "      <td>63</td>\n",
       "      <td>960</td>\n",
       "      <td>6.562500</td>\n",
       "      <td>8.088269</td>\n",
       "    </tr>\n",
       "  </tbody>\n",
       "</table>\n",
       "</div>"
      ],
      "text/plain": [
       "                   sum  count  default_ratio       all\n",
       "family_status                                         \n",
       "civil partnership  388   4177       9.288963  8.088269\n",
       "divorced            85   1195       7.112971  8.088269\n",
       "married            931  12380       7.520194  8.088269\n",
       "unmarried          274   2813       9.740491  8.088269\n",
       "widow / widower     63    960       6.562500  8.088269"
      ]
     },
     "execution_count": 49,
     "metadata": {},
     "output_type": "execute_result"
    }
   ],
   "source": [
    "family_debt_grouped['all']= ((family_debt_grouped['sum'].sum())/(family_debt_grouped['count']).sum())*100\n",
    "family_debt_grouped"
   ]
  },
  {
   "cell_type": "markdown",
   "metadata": {},
   "source": [
    "### Conclusion"
   ]
  },
  {
   "cell_type": "markdown",
   "metadata": {},
   "source": [
    "According to the table we can conclude that:\n",
    "1. civil partnership and unmarried are the groupes that are most likely won't pay the loan on time. \n",
    "2. married people on the othe hand will not fall behind. Same for divorced couples\n",
    "3. widow/widower is the group that will have the most credit for paying on time. Maybe because usually widows are senoirs that are more calculatives when it comes for handling money"
   ]
  },
  {
   "cell_type": "markdown",
   "metadata": {},
   "source": [
    "- Is there a relation between income level and repaying a loan on time?"
   ]
  },
  {
   "cell_type": "code",
   "execution_count": 50,
   "metadata": {},
   "outputs": [
    {
     "data": {
      "text/html": [
       "<div>\n",
       "<style scoped>\n",
       "    .dataframe tbody tr th:only-of-type {\n",
       "        vertical-align: middle;\n",
       "    }\n",
       "\n",
       "    .dataframe tbody tr th {\n",
       "        vertical-align: top;\n",
       "    }\n",
       "\n",
       "    .dataframe thead th {\n",
       "        text-align: right;\n",
       "    }\n",
       "</style>\n",
       "<table border=\"1\" class=\"dataframe\">\n",
       "  <thead>\n",
       "    <tr style=\"text-align: right;\">\n",
       "      <th>debt</th>\n",
       "      <th>income_group</th>\n",
       "      <th>0</th>\n",
       "      <th>1</th>\n",
       "      <th>All</th>\n",
       "    </tr>\n",
       "  </thead>\n",
       "  <tbody>\n",
       "    <tr>\n",
       "      <td>0</td>\n",
       "      <td>average income</td>\n",
       "      <td>9833</td>\n",
       "      <td>928</td>\n",
       "      <td>10761</td>\n",
       "    </tr>\n",
       "    <tr>\n",
       "      <td>1</td>\n",
       "      <td>high income</td>\n",
       "      <td>4995</td>\n",
       "      <td>386</td>\n",
       "      <td>5381</td>\n",
       "    </tr>\n",
       "    <tr>\n",
       "      <td>2</td>\n",
       "      <td>low income</td>\n",
       "      <td>4955</td>\n",
       "      <td>427</td>\n",
       "      <td>5382</td>\n",
       "    </tr>\n",
       "    <tr>\n",
       "      <td>3</td>\n",
       "      <td>All</td>\n",
       "      <td>19783</td>\n",
       "      <td>1741</td>\n",
       "      <td>21524</td>\n",
       "    </tr>\n",
       "  </tbody>\n",
       "</table>\n",
       "</div>"
      ],
      "text/plain": [
       "debt    income_group      0     1    All\n",
       "0     average income   9833   928  10761\n",
       "1        high income   4995   386   5381\n",
       "2         low income   4955   427   5382\n",
       "3                All  19783  1741  21524"
      ]
     },
     "execution_count": 50,
     "metadata": {},
     "output_type": "execute_result"
    }
   ],
   "source": [
    "income_level_loan_ratio= data.pivot_table(index='income_group',columns='debt',values='family_status_id',aggfunc='count', margins=True).reset_index()\n",
    "income_level_loan_ratio\n"
   ]
  },
  {
   "cell_type": "code",
   "execution_count": 51,
   "metadata": {},
   "outputs": [
    {
     "data": {
      "text/html": [
       "<div>\n",
       "<style scoped>\n",
       "    .dataframe tbody tr th:only-of-type {\n",
       "        vertical-align: middle;\n",
       "    }\n",
       "\n",
       "    .dataframe tbody tr th {\n",
       "        vertical-align: top;\n",
       "    }\n",
       "\n",
       "    .dataframe thead th {\n",
       "        text-align: right;\n",
       "    }\n",
       "</style>\n",
       "<table border=\"1\" class=\"dataframe\">\n",
       "  <thead>\n",
       "    <tr style=\"text-align: right;\">\n",
       "      <th>debt</th>\n",
       "      <th>income_group</th>\n",
       "      <th>0</th>\n",
       "      <th>1</th>\n",
       "      <th>All</th>\n",
       "      <th>default_rate</th>\n",
       "    </tr>\n",
       "  </thead>\n",
       "  <tbody>\n",
       "    <tr>\n",
       "      <td>0</td>\n",
       "      <td>average income</td>\n",
       "      <td>9833</td>\n",
       "      <td>928</td>\n",
       "      <td>10761</td>\n",
       "      <td>8.623734</td>\n",
       "    </tr>\n",
       "    <tr>\n",
       "      <td>1</td>\n",
       "      <td>high income</td>\n",
       "      <td>4995</td>\n",
       "      <td>386</td>\n",
       "      <td>5381</td>\n",
       "      <td>7.173388</td>\n",
       "    </tr>\n",
       "    <tr>\n",
       "      <td>2</td>\n",
       "      <td>low income</td>\n",
       "      <td>4955</td>\n",
       "      <td>427</td>\n",
       "      <td>5382</td>\n",
       "      <td>7.933854</td>\n",
       "    </tr>\n",
       "    <tr>\n",
       "      <td>3</td>\n",
       "      <td>All</td>\n",
       "      <td>19783</td>\n",
       "      <td>1741</td>\n",
       "      <td>21524</td>\n",
       "      <td>8.088645</td>\n",
       "    </tr>\n",
       "  </tbody>\n",
       "</table>\n",
       "</div>"
      ],
      "text/plain": [
       "debt    income_group      0     1    All  default_rate\n",
       "0     average income   9833   928  10761      8.623734\n",
       "1        high income   4995   386   5381      7.173388\n",
       "2         low income   4955   427   5382      7.933854\n",
       "3                All  19783  1741  21524      8.088645"
      ]
     },
     "execution_count": 51,
     "metadata": {},
     "output_type": "execute_result"
    }
   ],
   "source": [
    "income_level_loan_ratio['default_rate'] = (income_level_loan_ratio[1]/ income_level_loan_ratio['All'])*100\n",
    "income_level_loan_ratio"
   ]
  },
  {
   "cell_type": "markdown",
   "metadata": {},
   "source": [
    "### Conclusion"
   ]
  },
  {
   "cell_type": "markdown",
   "metadata": {},
   "source": [
    "According to the table we can conclude that:\n",
    "1. Costumers with average income is the group that have 8.6% chance for not paying on time when the overall income rate is 8%\n",
    "2. low income is more creditable than average income, maybe because they are aware of their finnacial status and they are more carefuls \n",
    "3. As we assumed high income is the group with most chances of paying the loan on time"
   ]
  },
  {
   "cell_type": "markdown",
   "metadata": {},
   "source": [
    "- How do different loan purposes affect on-time repayment of the loan?"
   ]
  },
  {
   "cell_type": "code",
   "execution_count": 52,
   "metadata": {},
   "outputs": [],
   "source": [
    "loan_purpose_debt= data.pivot_table(index='clean_purpose',columns='debt',values='family_status_id',aggfunc='count', margins=True).reset_index()\n"
   ]
  },
  {
   "cell_type": "code",
   "execution_count": 53,
   "metadata": {},
   "outputs": [
    {
     "data": {
      "text/html": [
       "<div>\n",
       "<style scoped>\n",
       "    .dataframe tbody tr th:only-of-type {\n",
       "        vertical-align: middle;\n",
       "    }\n",
       "\n",
       "    .dataframe tbody tr th {\n",
       "        vertical-align: top;\n",
       "    }\n",
       "\n",
       "    .dataframe thead th {\n",
       "        text-align: right;\n",
       "    }\n",
       "</style>\n",
       "<table border=\"1\" class=\"dataframe\">\n",
       "  <thead>\n",
       "    <tr style=\"text-align: right;\">\n",
       "      <th>debt</th>\n",
       "      <th>clean_purpose</th>\n",
       "      <th>0</th>\n",
       "      <th>1</th>\n",
       "      <th>All</th>\n",
       "      <th>default_rate</th>\n",
       "    </tr>\n",
       "  </thead>\n",
       "  <tbody>\n",
       "    <tr>\n",
       "      <td>0</td>\n",
       "      <td>car</td>\n",
       "      <td>3912</td>\n",
       "      <td>403</td>\n",
       "      <td>4315</td>\n",
       "      <td>9.339513</td>\n",
       "    </tr>\n",
       "    <tr>\n",
       "      <td>1</td>\n",
       "      <td>education</td>\n",
       "      <td>3652</td>\n",
       "      <td>370</td>\n",
       "      <td>4022</td>\n",
       "      <td>9.199403</td>\n",
       "    </tr>\n",
       "    <tr>\n",
       "      <td>2</td>\n",
       "      <td>house</td>\n",
       "      <td>10058</td>\n",
       "      <td>782</td>\n",
       "      <td>10840</td>\n",
       "      <td>7.214022</td>\n",
       "    </tr>\n",
       "    <tr>\n",
       "      <td>3</td>\n",
       "      <td>wedding</td>\n",
       "      <td>2162</td>\n",
       "      <td>186</td>\n",
       "      <td>2348</td>\n",
       "      <td>7.921635</td>\n",
       "    </tr>\n",
       "    <tr>\n",
       "      <td>4</td>\n",
       "      <td>All</td>\n",
       "      <td>19784</td>\n",
       "      <td>1741</td>\n",
       "      <td>21525</td>\n",
       "      <td>8.088269</td>\n",
       "    </tr>\n",
       "  </tbody>\n",
       "</table>\n",
       "</div>"
      ],
      "text/plain": [
       "debt clean_purpose      0     1    All  default_rate\n",
       "0              car   3912   403   4315      9.339513\n",
       "1        education   3652   370   4022      9.199403\n",
       "2            house  10058   782  10840      7.214022\n",
       "3          wedding   2162   186   2348      7.921635\n",
       "4              All  19784  1741  21525      8.088269"
      ]
     },
     "execution_count": 53,
     "metadata": {},
     "output_type": "execute_result"
    }
   ],
   "source": [
    "loan_purpose_debt['default_rate']= (loan_purpose_debt[1]/loan_purpose_debt['All'])*100\n",
    "loan_purpose_debt"
   ]
  },
  {
   "cell_type": "markdown",
   "metadata": {},
   "source": [
    "### Conclusion"
   ]
  },
  {
   "cell_type": "markdown",
   "metadata": {},
   "source": [
    "According to the table we can conclude that:\n",
    "1. Loans for car and education categories are the most riskiests. Above 9% wont pay on time\n",
    "2. Loans for house and wedding categories are less riskiests. They are below the overall default rate.\n",
    "3. We can assume that wedding is an investment that will payoff after the married couple will \n",
    "   diposit the money they will get from the guests.\n",
    "4. Usually, people who are asking for loans such as morgage are economical responsibles and more finnancial stables than youngsters asking loan for high education  "
   ]
  },
  {
   "cell_type": "markdown",
   "metadata": {},
   "source": [
    "## General conclusion"
   ]
  },
  {
   "cell_type": "markdown",
   "metadata": {},
   "source": [
    "Accordint to the dataset my results are:\n",
    "1. coustumers that are more risky than other are:\n",
    "A. Having children\n",
    "B. with an average income \n",
    "c. Asking a loan for Buying a new car and funding university tuition\n",
    "2. The data set needs to rewrite in the days employed column\n",
    "3. For deepen our research I advise to analyse the realations between costumers age and loan repayment. "
   ]
  }
 ],
 "metadata": {
  "ExecuteTimeLog": [
   {
    "duration": -222,
    "start_time": "2021-10-10T16:25:55.281Z"
   },
   {
    "duration": 1751,
    "start_time": "2021-10-10T16:26:09.688Z"
   },
   {
    "duration": 106,
    "start_time": "2021-10-10T16:29:25.103Z"
   },
   {
    "duration": 397,
    "start_time": "2021-10-10T18:50:27.930Z"
   },
   {
    "duration": 796,
    "start_time": "2021-10-10T18:50:54.560Z"
   },
   {
    "duration": 492,
    "start_time": "2021-10-10T18:52:10.701Z"
   },
   {
    "duration": 865,
    "start_time": "2021-10-10T18:52:28.700Z"
   },
   {
    "duration": 86,
    "start_time": "2021-10-10T18:53:34.556Z"
   },
   {
    "duration": 1198,
    "start_time": "2021-10-10T19:00:50.945Z"
   },
   {
    "duration": 90,
    "start_time": "2021-10-10T19:01:29.974Z"
   },
   {
    "duration": 146,
    "start_time": "2021-10-10T19:01:34.539Z"
   },
   {
    "duration": 66,
    "start_time": "2021-10-10T19:01:42.788Z"
   },
   {
    "duration": 97,
    "start_time": "2021-10-10T19:03:17.054Z"
   },
   {
    "duration": 62,
    "start_time": "2021-10-10T19:03:37.122Z"
   },
   {
    "duration": 68,
    "start_time": "2021-10-10T19:04:06.548Z"
   },
   {
    "duration": 32,
    "start_time": "2021-10-10T19:04:51.643Z"
   },
   {
    "duration": 15,
    "start_time": "2021-10-10T19:05:08.936Z"
   },
   {
    "duration": 264,
    "start_time": "2021-10-10T19:08:32.285Z"
   },
   {
    "duration": 13,
    "start_time": "2021-10-10T19:08:41.951Z"
   },
   {
    "duration": 13,
    "start_time": "2021-10-10T19:09:59.157Z"
   },
   {
    "duration": 13,
    "start_time": "2021-10-10T19:10:06.767Z"
   },
   {
    "duration": 12,
    "start_time": "2021-10-10T19:11:10.424Z"
   },
   {
    "duration": 12,
    "start_time": "2021-10-10T19:21:32.586Z"
   },
   {
    "duration": 7471,
    "start_time": "2021-10-10T19:22:22.478Z"
   },
   {
    "duration": -182,
    "start_time": "2021-10-10T19:22:37.280Z"
   },
   {
    "duration": 7132,
    "start_time": "2021-10-10T19:22:40.539Z"
   },
   {
    "duration": 1021,
    "start_time": "2021-10-10T19:23:11.581Z"
   },
   {
    "duration": 2438,
    "start_time": "2021-10-10T19:23:18.222Z"
   },
   {
    "duration": 307,
    "start_time": "2021-10-10T19:23:36.152Z"
   },
   {
    "duration": 88,
    "start_time": "2021-10-10T19:23:50.888Z"
   },
   {
    "duration": 13,
    "start_time": "2021-10-10T19:23:58.946Z"
   },
   {
    "duration": 6938,
    "start_time": "2021-10-10T19:24:24.131Z"
   },
   {
    "duration": 6590,
    "start_time": "2021-10-10T19:24:31.416Z"
   },
   {
    "duration": 19,
    "start_time": "2021-10-10T19:24:38.960Z"
   },
   {
    "duration": 274,
    "start_time": "2021-10-10T19:25:27.114Z"
   },
   {
    "duration": 286,
    "start_time": "2021-10-10T19:25:36.150Z"
   },
   {
    "duration": 295,
    "start_time": "2021-10-10T19:25:58.466Z"
   },
   {
    "duration": 260,
    "start_time": "2021-10-10T19:37:36.636Z"
   },
   {
    "duration": 6,
    "start_time": "2021-10-10T19:37:43.432Z"
   },
   {
    "duration": 10,
    "start_time": "2021-10-10T19:37:53.193Z"
   },
   {
    "duration": 83,
    "start_time": "2021-10-10T19:38:21.260Z"
   },
   {
    "duration": 102,
    "start_time": "2021-10-10T19:38:34.097Z"
   },
   {
    "duration": 95,
    "start_time": "2021-10-10T19:38:49.820Z"
   },
   {
    "duration": 269,
    "start_time": "2021-10-10T19:38:56.948Z"
   },
   {
    "duration": 268,
    "start_time": "2021-10-10T19:39:08.767Z"
   },
   {
    "duration": 5,
    "start_time": "2021-10-10T19:39:40.137Z"
   },
   {
    "duration": 6,
    "start_time": "2021-10-10T19:39:48.026Z"
   },
   {
    "duration": 6,
    "start_time": "2021-10-10T19:40:16.646Z"
   },
   {
    "duration": 267,
    "start_time": "2021-10-10T19:40:47.779Z"
   },
   {
    "duration": 270,
    "start_time": "2021-10-10T19:41:23.069Z"
   },
   {
    "duration": 9,
    "start_time": "2021-10-10T19:41:39.134Z"
   },
   {
    "duration": 11,
    "start_time": "2021-10-10T19:41:59.173Z"
   },
   {
    "duration": 10,
    "start_time": "2021-10-10T19:42:06.748Z"
   },
   {
    "duration": 36,
    "start_time": "2021-10-10T19:42:12.738Z"
   },
   {
    "duration": 33,
    "start_time": "2021-10-10T19:42:27.131Z"
   },
   {
    "duration": 34,
    "start_time": "2021-10-10T19:42:32.490Z"
   },
   {
    "duration": 2428,
    "start_time": "2021-10-10T19:43:02.528Z"
   },
   {
    "duration": 2414,
    "start_time": "2021-10-10T19:43:19.220Z"
   },
   {
    "duration": 5334,
    "start_time": "2021-10-10T19:43:45.224Z"
   },
   {
    "duration": 5661,
    "start_time": "2021-10-10T19:44:00.387Z"
   },
   {
    "duration": 7,
    "start_time": "2021-10-10T19:44:14.314Z"
   },
   {
    "duration": 9,
    "start_time": "2021-10-10T19:44:21.165Z"
   },
   {
    "duration": 22,
    "start_time": "2021-10-10T19:46:38.219Z"
   },
   {
    "duration": 20,
    "start_time": "2021-10-10T19:46:45.330Z"
   },
   {
    "duration": 22,
    "start_time": "2021-10-10T19:47:12.308Z"
   },
   {
    "duration": 22,
    "start_time": "2021-10-10T19:50:00.570Z"
   },
   {
    "duration": 24,
    "start_time": "2021-10-10T19:50:17.683Z"
   },
   {
    "duration": 281,
    "start_time": "2021-10-10T19:53:06.149Z"
   },
   {
    "duration": 268,
    "start_time": "2021-10-10T19:53:23.309Z"
   },
   {
    "duration": 22,
    "start_time": "2021-10-10T19:53:28.090Z"
   },
   {
    "duration": 21,
    "start_time": "2021-10-10T19:54:38.460Z"
   },
   {
    "duration": 8,
    "start_time": "2021-10-10T19:55:37.601Z"
   },
   {
    "duration": 8,
    "start_time": "2021-10-10T20:01:40.009Z"
   },
   {
    "duration": 7,
    "start_time": "2021-10-10T20:01:47.644Z"
   },
   {
    "duration": 290,
    "start_time": "2021-10-10T20:02:12.155Z"
   },
   {
    "duration": 23,
    "start_time": "2021-10-10T20:03:55.188Z"
   },
   {
    "duration": 284,
    "start_time": "2021-10-10T20:05:04.536Z"
   },
   {
    "duration": 311,
    "start_time": "2021-10-10T20:05:27.685Z"
   },
   {
    "duration": 40,
    "start_time": "2021-10-10T20:06:09.399Z"
   },
   {
    "duration": 39,
    "start_time": "2021-10-10T20:06:12.629Z"
   },
   {
    "duration": 64,
    "start_time": "2021-10-10T20:06:31.401Z"
   },
   {
    "duration": 56,
    "start_time": "2021-10-10T20:10:39.105Z"
   },
   {
    "duration": 366,
    "start_time": "2021-10-11T12:54:57.769Z"
   },
   {
    "duration": 355,
    "start_time": "2021-10-11T12:55:06.126Z"
   },
   {
    "duration": 794,
    "start_time": "2021-10-11T12:55:15.722Z"
   },
   {
    "duration": 40,
    "start_time": "2021-10-11T12:55:20.445Z"
   },
   {
    "duration": 38,
    "start_time": "2021-10-11T12:55:30.352Z"
   },
   {
    "duration": 39,
    "start_time": "2021-10-11T12:55:42.663Z"
   },
   {
    "duration": 13,
    "start_time": "2021-10-11T12:56:11.144Z"
   },
   {
    "duration": -199,
    "start_time": "2021-10-11T13:01:04.792Z"
   },
   {
    "duration": 8674,
    "start_time": "2021-10-11T13:01:07.852Z"
   },
   {
    "duration": 303,
    "start_time": "2021-10-11T13:01:41.569Z"
   },
   {
    "duration": 13,
    "start_time": "2021-10-11T13:01:47.479Z"
   },
   {
    "duration": 13,
    "start_time": "2021-10-11T13:03:41.079Z"
   },
   {
    "duration": 14,
    "start_time": "2021-10-11T13:04:07.178Z"
   },
   {
    "duration": 14,
    "start_time": "2021-10-11T13:04:17.806Z"
   },
   {
    "duration": 14,
    "start_time": "2021-10-11T13:04:38.435Z"
   },
   {
    "duration": 17,
    "start_time": "2021-10-11T13:07:12.840Z"
   },
   {
    "duration": 108,
    "start_time": "2021-10-11T13:08:28.973Z"
   },
   {
    "duration": 366,
    "start_time": "2021-10-11T13:08:52.520Z"
   },
   {
    "duration": 15,
    "start_time": "2021-10-11T13:08:58.759Z"
   },
   {
    "duration": 27,
    "start_time": "2021-10-11T13:10:20.655Z"
   },
   {
    "duration": 23,
    "start_time": "2021-10-11T13:11:46.357Z"
   },
   {
    "duration": 21,
    "start_time": "2021-10-11T13:15:58.004Z"
   },
   {
    "duration": 23,
    "start_time": "2021-10-11T13:18:10.443Z"
   },
   {
    "duration": 16,
    "start_time": "2021-10-11T13:18:20.765Z"
   },
   {
    "duration": 301,
    "start_time": "2021-10-11T13:19:02.899Z"
   },
   {
    "duration": 446,
    "start_time": "2021-10-11T13:19:13.160Z"
   },
   {
    "duration": 389,
    "start_time": "2021-10-11T13:19:32.643Z"
   },
   {
    "duration": 293,
    "start_time": "2021-10-11T13:19:43.256Z"
   },
   {
    "duration": 20,
    "start_time": "2021-10-11T13:19:49.225Z"
   },
   {
    "duration": 20,
    "start_time": "2021-10-11T13:20:02.872Z"
   },
   {
    "duration": 25,
    "start_time": "2021-10-11T13:25:04.010Z"
   },
   {
    "duration": 17,
    "start_time": "2021-10-11T13:25:13.443Z"
   },
   {
    "duration": 24,
    "start_time": "2021-10-11T13:25:34.587Z"
   },
   {
    "duration": 29,
    "start_time": "2021-10-11T13:25:43.761Z"
   },
   {
    "duration": 351,
    "start_time": "2021-10-11T13:27:24.129Z"
   },
   {
    "duration": 520,
    "start_time": "2021-10-11T13:27:38.326Z"
   },
   {
    "duration": 119,
    "start_time": "2021-10-11T13:28:09.915Z"
   },
   {
    "duration": 130,
    "start_time": "2021-10-11T13:28:13.132Z"
   },
   {
    "duration": 165,
    "start_time": "2021-10-11T13:28:27.579Z"
   },
   {
    "duration": 335,
    "start_time": "2021-10-11T13:28:40.621Z"
   },
   {
    "duration": 23,
    "start_time": "2021-10-11T13:29:23.314Z"
   },
   {
    "duration": 32,
    "start_time": "2021-10-11T13:29:56.085Z"
   },
   {
    "duration": 14,
    "start_time": "2021-10-11T13:30:03.728Z"
   },
   {
    "duration": 19,
    "start_time": "2021-10-11T13:35:18.099Z"
   },
   {
    "duration": 25,
    "start_time": "2021-10-11T13:36:02.882Z"
   },
   {
    "duration": 26,
    "start_time": "2021-10-11T13:37:26.485Z"
   },
   {
    "duration": 26,
    "start_time": "2021-10-11T13:37:31.387Z"
   },
   {
    "duration": 21,
    "start_time": "2021-10-11T13:37:42.922Z"
   },
   {
    "duration": 21,
    "start_time": "2021-10-11T13:38:23.139Z"
   },
   {
    "duration": 30,
    "start_time": "2021-10-11T13:39:35.878Z"
   },
   {
    "duration": 16,
    "start_time": "2021-10-11T13:40:07.439Z"
   },
   {
    "duration": 37,
    "start_time": "2021-10-11T13:40:40.056Z"
   },
   {
    "duration": 19,
    "start_time": "2021-10-11T13:40:45.836Z"
   },
   {
    "duration": 385,
    "start_time": "2021-10-11T13:46:55.028Z"
   },
   {
    "duration": 56,
    "start_time": "2021-10-11T13:48:36.389Z"
   },
   {
    "duration": 35,
    "start_time": "2021-10-11T13:48:58.004Z"
   },
   {
    "duration": 44,
    "start_time": "2021-10-11T13:49:03.059Z"
   },
   {
    "duration": 26,
    "start_time": "2021-10-11T13:49:12.252Z"
   },
   {
    "duration": 32,
    "start_time": "2021-10-11T13:49:32.866Z"
   },
   {
    "duration": 29,
    "start_time": "2021-10-11T13:54:51.623Z"
   },
   {
    "duration": 359,
    "start_time": "2021-10-11T13:55:05.531Z"
   },
   {
    "duration": 28,
    "start_time": "2021-10-11T13:55:15.110Z"
   },
   {
    "duration": 36,
    "start_time": "2021-10-11T13:55:34.815Z"
   },
   {
    "duration": 384,
    "start_time": "2021-10-11T13:56:05.837Z"
   },
   {
    "duration": 37,
    "start_time": "2021-10-11T13:56:45.382Z"
   },
   {
    "duration": 33,
    "start_time": "2021-10-11T13:57:02.378Z"
   },
   {
    "duration": 327,
    "start_time": "2021-10-11T13:59:09.535Z"
   },
   {
    "duration": 30,
    "start_time": "2021-10-11T13:59:27.616Z"
   },
   {
    "duration": 360,
    "start_time": "2021-10-11T14:02:11.256Z"
   },
   {
    "duration": 365,
    "start_time": "2021-10-11T14:04:00.413Z"
   },
   {
    "duration": 117,
    "start_time": "2021-10-11T14:08:18.795Z"
   },
   {
    "duration": 128,
    "start_time": "2021-10-11T14:08:46.986Z"
   },
   {
    "duration": 129,
    "start_time": "2021-10-11T14:08:53.023Z"
   },
   {
    "duration": 32,
    "start_time": "2021-10-11T14:09:24.905Z"
   },
   {
    "duration": 371,
    "start_time": "2021-10-11T14:10:21.691Z"
   },
   {
    "duration": 336,
    "start_time": "2021-10-11T14:10:46.649Z"
   },
   {
    "duration": 45,
    "start_time": "2021-10-11T14:14:18.537Z"
   },
   {
    "duration": 41,
    "start_time": "2021-10-11T14:20:00.660Z"
   },
   {
    "duration": 42,
    "start_time": "2021-10-11T14:20:11.485Z"
   },
   {
    "duration": 31,
    "start_time": "2021-10-11T14:20:36.713Z"
   },
   {
    "duration": 357,
    "start_time": "2021-10-11T14:21:10.793Z"
   },
   {
    "duration": 393,
    "start_time": "2021-10-11T14:25:16.253Z"
   },
   {
    "duration": 339,
    "start_time": "2021-10-11T14:25:19.501Z"
   },
   {
    "duration": 37,
    "start_time": "2021-10-11T14:35:46.299Z"
   },
   {
    "duration": 44,
    "start_time": "2021-10-11T14:36:08.181Z"
   },
   {
    "duration": 47,
    "start_time": "2021-10-11T14:37:30.564Z"
   },
   {
    "duration": 833,
    "start_time": "2021-10-11T14:38:25.283Z"
   },
   {
    "duration": 456,
    "start_time": "2021-10-11T14:38:30.804Z"
   },
   {
    "duration": 48,
    "start_time": "2021-10-11T14:38:38.166Z"
   },
   {
    "duration": 47,
    "start_time": "2021-10-11T14:38:46.396Z"
   },
   {
    "duration": 81,
    "start_time": "2021-10-11T14:38:54.211Z"
   },
   {
    "duration": 351,
    "start_time": "2021-10-11T14:59:53.814Z"
   },
   {
    "duration": 375,
    "start_time": "2021-10-11T15:00:03.501Z"
   },
   {
    "duration": 438,
    "start_time": "2021-10-11T15:00:13.348Z"
   },
   {
    "duration": 325,
    "start_time": "2021-10-11T18:27:28.246Z"
   },
   {
    "duration": 276,
    "start_time": "2021-10-11T18:28:36.780Z"
   },
   {
    "duration": 288,
    "start_time": "2021-10-11T18:29:08.934Z"
   },
   {
    "duration": 418,
    "start_time": "2021-10-11T18:29:35.176Z"
   },
   {
    "duration": 417,
    "start_time": "2021-10-11T18:29:58.789Z"
   },
   {
    "duration": 298,
    "start_time": "2021-10-11T18:30:15.370Z"
   },
   {
    "duration": 294,
    "start_time": "2021-10-11T18:31:00.113Z"
   },
   {
    "duration": 18,
    "start_time": "2021-10-11T18:45:04.271Z"
   },
   {
    "duration": 13,
    "start_time": "2021-10-11T18:45:52.879Z"
   },
   {
    "duration": 22,
    "start_time": "2021-10-11T18:46:14.703Z"
   },
   {
    "duration": 13,
    "start_time": "2021-10-11T18:46:22.348Z"
   },
   {
    "duration": 98,
    "start_time": "2021-10-11T18:47:47.697Z"
   },
   {
    "duration": 92,
    "start_time": "2021-10-11T18:47:56.457Z"
   },
   {
    "duration": 102,
    "start_time": "2021-10-11T18:48:10.711Z"
   },
   {
    "duration": 113,
    "start_time": "2021-10-11T18:48:15.226Z"
   },
   {
    "duration": 103,
    "start_time": "2021-10-11T18:48:43.695Z"
   },
   {
    "duration": 16,
    "start_time": "2021-10-11T18:48:56.882Z"
   },
   {
    "duration": 98,
    "start_time": "2021-10-11T18:51:52.867Z"
   },
   {
    "duration": 37,
    "start_time": "2021-10-11T18:52:33.624Z"
   },
   {
    "duration": 102,
    "start_time": "2021-10-11T18:56:57.078Z"
   },
   {
    "duration": 96,
    "start_time": "2021-10-11T18:57:13.083Z"
   },
   {
    "duration": 8,
    "start_time": "2021-10-11T18:57:27.391Z"
   },
   {
    "duration": 9,
    "start_time": "2021-10-11T18:58:44.786Z"
   },
   {
    "duration": 11,
    "start_time": "2021-10-11T19:01:34.239Z"
   },
   {
    "duration": 16,
    "start_time": "2021-10-11T19:02:58.174Z"
   },
   {
    "duration": 11,
    "start_time": "2021-10-11T19:04:46.673Z"
   },
   {
    "duration": 10,
    "start_time": "2021-10-11T19:06:26.896Z"
   },
   {
    "duration": 488,
    "start_time": "2021-10-11T19:17:20.384Z"
   },
   {
    "duration": 298,
    "start_time": "2021-10-11T19:17:25.217Z"
   },
   {
    "duration": 860,
    "start_time": "2021-10-11T19:17:30.290Z"
   },
   {
    "duration": 8,
    "start_time": "2021-10-11T19:17:35.171Z"
   },
   {
    "duration": 13,
    "start_time": "2021-10-11T20:14:47.447Z"
   },
   {
    "duration": 322,
    "start_time": "2021-10-11T20:16:03.894Z"
   },
   {
    "duration": 346,
    "start_time": "2021-10-11T20:16:19.350Z"
   },
   {
    "duration": 90,
    "start_time": "2021-10-11T20:19:08.014Z"
   },
   {
    "duration": 92,
    "start_time": "2021-10-11T20:19:13.009Z"
   },
   {
    "duration": 392,
    "start_time": "2021-10-11T20:19:19.453Z"
   },
   {
    "duration": 4081,
    "start_time": "2021-10-11T20:19:25.332Z"
   },
   {
    "duration": 99,
    "start_time": "2021-10-11T20:20:04.932Z"
   },
   {
    "duration": 394,
    "start_time": "2021-10-11T20:20:40.591Z"
   },
   {
    "duration": 322,
    "start_time": "2021-10-11T20:20:53.731Z"
   },
   {
    "duration": 39,
    "start_time": "2021-10-11T20:21:02.395Z"
   },
   {
    "duration": 37,
    "start_time": "2021-10-11T20:21:26.562Z"
   },
   {
    "duration": 16,
    "start_time": "2021-10-11T20:22:07.227Z"
   },
   {
    "duration": 105,
    "start_time": "2021-10-11T20:22:33.564Z"
   },
   {
    "duration": 24,
    "start_time": "2021-10-11T20:22:58.728Z"
   },
   {
    "duration": 34,
    "start_time": "2021-10-11T21:02:34.967Z"
   },
   {
    "duration": 34,
    "start_time": "2021-10-11T21:03:22.297Z"
   },
   {
    "duration": 393,
    "start_time": "2021-10-11T21:04:17.200Z"
   },
   {
    "duration": 11,
    "start_time": "2021-10-11T21:10:36.917Z"
   },
   {
    "duration": 6,
    "start_time": "2021-10-11T21:13:05.351Z"
   },
   {
    "duration": 342,
    "start_time": "2021-10-11T21:20:00.499Z"
   },
   {
    "duration": 320,
    "start_time": "2021-10-11T21:21:36.902Z"
   },
   {
    "duration": 275,
    "start_time": "2021-10-11T21:25:28.501Z"
   },
   {
    "duration": 249,
    "start_time": "2021-10-11T21:25:52.986Z"
   },
   {
    "duration": 96,
    "start_time": "2021-10-11T21:26:10.846Z"
   },
   {
    "duration": 89,
    "start_time": "2021-10-11T21:26:31.521Z"
   },
   {
    "duration": 34,
    "start_time": "2021-10-11T21:26:44.556Z"
   },
   {
    "duration": 280,
    "start_time": "2021-10-11T21:27:23.326Z"
   },
   {
    "duration": 292,
    "start_time": "2021-10-11T21:27:49.987Z"
   },
   {
    "duration": 274,
    "start_time": "2021-10-11T21:28:31.190Z"
   },
   {
    "duration": 37,
    "start_time": "2021-10-11T21:31:06.570Z"
   },
   {
    "duration": 35,
    "start_time": "2021-10-11T21:31:34.290Z"
   },
   {
    "duration": 47,
    "start_time": "2021-10-11T21:32:11.528Z"
   },
   {
    "duration": 4431,
    "start_time": "2021-10-11T21:34:50.482Z"
   },
   {
    "duration": 4542,
    "start_time": "2021-10-11T21:34:55.232Z"
   },
   {
    "duration": 15,
    "start_time": "2021-10-11T21:35:40.813Z"
   },
   {
    "duration": 51,
    "start_time": "2021-10-11T21:36:21.863Z"
   },
   {
    "duration": 37,
    "start_time": "2021-10-11T21:37:05.614Z"
   },
   {
    "duration": 37,
    "start_time": "2021-10-11T21:37:38.811Z"
   },
   {
    "duration": 4408,
    "start_time": "2021-10-11T21:38:05.996Z"
   },
   {
    "duration": 11,
    "start_time": "2021-10-11T21:39:46.746Z"
   },
   {
    "duration": 951,
    "start_time": "2021-10-11T21:44:40.621Z"
   },
   {
    "duration": 796,
    "start_time": "2021-10-11T21:45:12.828Z"
   },
   {
    "duration": 313,
    "start_time": "2021-10-11T21:45:18.300Z"
   },
   {
    "duration": 438,
    "start_time": "2021-10-11T21:50:00.071Z"
   },
   {
    "duration": 646,
    "start_time": "2021-10-11T21:50:14.367Z"
   },
   {
    "duration": 13,
    "start_time": "2021-10-11T21:54:47.782Z"
   },
   {
    "duration": 41,
    "start_time": "2021-10-11T21:54:54.594Z"
   },
   {
    "duration": 17,
    "start_time": "2021-10-11T21:55:18.888Z"
   },
   {
    "duration": 8,
    "start_time": "2021-10-11T21:55:56.127Z"
   },
   {
    "duration": 15,
    "start_time": "2021-10-11T21:56:27.959Z"
   },
   {
    "duration": 11,
    "start_time": "2021-10-11T21:56:39.572Z"
   },
   {
    "duration": 12,
    "start_time": "2021-10-11T21:56:49.299Z"
   },
   {
    "duration": 12,
    "start_time": "2021-10-11T21:56:54.846Z"
   },
   {
    "duration": 13,
    "start_time": "2021-10-11T21:56:58.867Z"
   },
   {
    "duration": 8,
    "start_time": "2021-10-11T21:57:24.061Z"
   },
   {
    "duration": 38,
    "start_time": "2021-10-11T21:57:43.428Z"
   },
   {
    "duration": 15,
    "start_time": "2021-10-11T21:58:02.716Z"
   },
   {
    "duration": 17,
    "start_time": "2021-10-11T21:58:20.627Z"
   },
   {
    "duration": 285,
    "start_time": "2021-10-11T21:58:43.050Z"
   },
   {
    "duration": 139,
    "start_time": "2021-10-11T21:59:29.730Z"
   },
   {
    "duration": 107,
    "start_time": "2021-10-11T22:00:20.666Z"
   },
   {
    "duration": 97,
    "start_time": "2021-10-11T22:00:56.036Z"
   },
   {
    "duration": 301,
    "start_time": "2021-10-11T22:01:44.769Z"
   },
   {
    "duration": 7,
    "start_time": "2021-10-11T22:07:39.383Z"
   },
   {
    "duration": 7,
    "start_time": "2021-10-11T22:07:50.084Z"
   },
   {
    "duration": 6,
    "start_time": "2021-10-11T22:07:52.631Z"
   },
   {
    "duration": 112,
    "start_time": "2021-10-11T22:13:21.526Z"
   },
   {
    "duration": 109,
    "start_time": "2021-10-11T22:13:52.404Z"
   },
   {
    "duration": 38,
    "start_time": "2021-10-11T22:14:06.014Z"
   },
   {
    "duration": 45,
    "start_time": "2021-10-11T22:14:38.036Z"
   },
   {
    "duration": 38,
    "start_time": "2021-10-11T22:14:57.433Z"
   },
   {
    "duration": 8,
    "start_time": "2021-10-11T22:15:52.193Z"
   },
   {
    "duration": 288,
    "start_time": "2021-10-11T22:16:10.335Z"
   },
   {
    "duration": 10,
    "start_time": "2021-10-11T22:16:15.168Z"
   },
   {
    "duration": 2333,
    "start_time": "2021-10-11T22:17:23.346Z"
   },
   {
    "duration": 11,
    "start_time": "2021-10-11T22:17:33.484Z"
   },
   {
    "duration": 15,
    "start_time": "2021-10-11T22:17:45.791Z"
   },
   {
    "duration": 351,
    "start_time": "2021-10-12T04:28:24.325Z"
   },
   {
    "duration": 325,
    "start_time": "2021-10-12T04:28:27.195Z"
   },
   {
    "duration": 895,
    "start_time": "2021-10-12T04:28:33.031Z"
   },
   {
    "duration": 10,
    "start_time": "2021-10-12T04:28:47.497Z"
   },
   {
    "duration": 98,
    "start_time": "2021-10-12T04:29:36.523Z"
   },
   {
    "duration": 8,
    "start_time": "2021-10-12T04:29:46.591Z"
   },
   {
    "duration": 8,
    "start_time": "2021-10-12T04:29:49.582Z"
   },
   {
    "duration": 8,
    "start_time": "2021-10-12T04:29:58.703Z"
   },
   {
    "duration": 9,
    "start_time": "2021-10-12T04:30:19.434Z"
   },
   {
    "duration": 8,
    "start_time": "2021-10-12T04:30:38.026Z"
   },
   {
    "duration": 8,
    "start_time": "2021-10-12T04:30:40.669Z"
   },
   {
    "duration": 10,
    "start_time": "2021-10-12T04:30:47.778Z"
   },
   {
    "duration": 13,
    "start_time": "2021-10-12T04:30:52.427Z"
   },
   {
    "duration": 10,
    "start_time": "2021-10-12T04:30:54.017Z"
   },
   {
    "duration": 10,
    "start_time": "2021-10-12T04:31:28.945Z"
   },
   {
    "duration": 9,
    "start_time": "2021-10-12T04:31:52.919Z"
   },
   {
    "duration": 10,
    "start_time": "2021-10-12T04:31:56.256Z"
   },
   {
    "duration": 9,
    "start_time": "2021-10-12T04:32:02.519Z"
   },
   {
    "duration": 8,
    "start_time": "2021-10-12T04:32:03.991Z"
   },
   {
    "duration": 11,
    "start_time": "2021-10-12T04:32:05.657Z"
   },
   {
    "duration": 11,
    "start_time": "2021-10-12T04:32:12.468Z"
   },
   {
    "duration": 10,
    "start_time": "2021-10-12T04:32:15.133Z"
   },
   {
    "duration": 10,
    "start_time": "2021-10-12T04:32:43.409Z"
   },
   {
    "duration": 10,
    "start_time": "2021-10-12T04:32:48.252Z"
   },
   {
    "duration": 10,
    "start_time": "2021-10-12T04:32:49.439Z"
   },
   {
    "duration": 9,
    "start_time": "2021-10-12T04:32:50.454Z"
   },
   {
    "duration": 8,
    "start_time": "2021-10-12T04:33:00.354Z"
   },
   {
    "duration": 9,
    "start_time": "2021-10-12T04:33:02.034Z"
   },
   {
    "duration": 10,
    "start_time": "2021-10-12T04:33:09.585Z"
   },
   {
    "duration": 349,
    "start_time": "2021-10-12T04:33:20.871Z"
   },
   {
    "duration": 302,
    "start_time": "2021-10-12T04:33:23.039Z"
   },
   {
    "duration": 871,
    "start_time": "2021-10-12T04:33:28.238Z"
   },
   {
    "duration": 8,
    "start_time": "2021-10-12T04:33:41.775Z"
   },
   {
    "duration": 9,
    "start_time": "2021-10-12T04:33:55.506Z"
   },
   {
    "duration": 7,
    "start_time": "2021-10-12T04:33:56.978Z"
   },
   {
    "duration": 8,
    "start_time": "2021-10-12T04:34:00.006Z"
   },
   {
    "duration": 837,
    "start_time": "2021-10-12T07:39:42.559Z"
   },
   {
    "duration": 17,
    "start_time": "2021-10-12T07:39:51.887Z"
   },
   {
    "duration": 8,
    "start_time": "2021-10-12T07:40:33.020Z"
   },
   {
    "duration": 14,
    "start_time": "2021-10-12T07:41:17.918Z"
   },
   {
    "duration": 12,
    "start_time": "2021-10-12T07:42:03.347Z"
   },
   {
    "duration": 8,
    "start_time": "2021-10-12T07:42:18.289Z"
   },
   {
    "duration": 352,
    "start_time": "2021-10-12T07:42:38.796Z"
   },
   {
    "duration": 344,
    "start_time": "2021-10-12T07:42:56.763Z"
   },
   {
    "duration": 311,
    "start_time": "2021-10-12T07:43:31.964Z"
   },
   {
    "duration": 261,
    "start_time": "2021-10-12T07:58:14.170Z"
   },
   {
    "duration": 296,
    "start_time": "2021-10-12T08:01:01.621Z"
   },
   {
    "duration": 288,
    "start_time": "2021-10-12T08:01:37.591Z"
   },
   {
    "duration": 32,
    "start_time": "2021-10-12T08:05:59.227Z"
   },
   {
    "duration": 60,
    "start_time": "2021-10-12T08:06:21.044Z"
   },
   {
    "duration": 10,
    "start_time": "2021-10-12T08:07:40.663Z"
   },
   {
    "duration": 314,
    "start_time": "2021-10-12T08:07:54.257Z"
   },
   {
    "duration": 6977,
    "start_time": "2021-10-12T08:09:53.575Z"
   },
   {
    "duration": -186,
    "start_time": "2021-10-12T08:10:13.073Z"
   },
   {
    "duration": 7004,
    "start_time": "2021-10-12T08:10:22.858Z"
   },
   {
    "duration": 7331,
    "start_time": "2021-10-12T08:11:13.766Z"
   },
   {
    "duration": 6464,
    "start_time": "2021-10-12T08:11:33.469Z"
   },
   {
    "duration": 60,
    "start_time": "2021-10-12T08:11:43.334Z"
   },
   {
    "duration": 6970,
    "start_time": "2021-10-12T08:11:45.713Z"
   },
   {
    "duration": 6950,
    "start_time": "2021-10-12T08:12:27.429Z"
   },
   {
    "duration": 60,
    "start_time": "2021-10-12T08:13:04.249Z"
   },
   {
    "duration": 6573,
    "start_time": "2021-10-12T08:14:53.932Z"
   },
   {
    "duration": 13,
    "start_time": "2021-10-12T08:16:12.771Z"
   },
   {
    "duration": 54,
    "start_time": "2021-10-12T08:19:37.299Z"
   },
   {
    "duration": 52,
    "start_time": "2021-10-12T08:19:42.872Z"
   },
   {
    "duration": 53,
    "start_time": "2021-10-12T08:21:19.947Z"
   },
   {
    "duration": 56,
    "start_time": "2021-10-12T08:21:34.909Z"
   },
   {
    "duration": 61,
    "start_time": "2021-10-12T08:21:47.486Z"
   },
   {
    "duration": 267,
    "start_time": "2021-10-12T08:22:04.863Z"
   },
   {
    "duration": 311,
    "start_time": "2021-10-12T08:22:34.805Z"
   },
   {
    "duration": 290,
    "start_time": "2021-10-12T08:23:06.235Z"
   },
   {
    "duration": 635,
    "start_time": "2021-10-12T08:23:45.113Z"
   },
   {
    "duration": 277,
    "start_time": "2021-10-12T08:24:16.307Z"
   },
   {
    "duration": 301,
    "start_time": "2021-10-12T08:24:35.455Z"
   },
   {
    "duration": 64,
    "start_time": "2021-10-12T08:25:33.743Z"
   },
   {
    "duration": 60,
    "start_time": "2021-10-12T08:26:13.679Z"
   },
   {
    "duration": 62,
    "start_time": "2021-10-12T08:31:33.938Z"
   },
   {
    "duration": 275,
    "start_time": "2021-10-12T08:32:14.048Z"
   },
   {
    "duration": 73,
    "start_time": "2021-10-12T08:32:56.735Z"
   },
   {
    "duration": 8,
    "start_time": "2021-10-12T08:33:57.194Z"
   },
   {
    "duration": 291,
    "start_time": "2021-10-12T08:34:03.406Z"
   },
   {
    "duration": 6,
    "start_time": "2021-10-12T08:34:07.289Z"
   },
   {
    "duration": 22,
    "start_time": "2021-10-12T08:34:45.729Z"
   },
   {
    "duration": 12,
    "start_time": "2021-10-12T08:39:50.987Z"
   },
   {
    "duration": 272,
    "start_time": "2021-10-12T08:41:57.320Z"
   },
   {
    "duration": 16,
    "start_time": "2021-10-12T08:42:11.529Z"
   },
   {
    "duration": 15,
    "start_time": "2021-10-12T08:42:30.149Z"
   },
   {
    "duration": 17,
    "start_time": "2021-10-12T08:42:37.750Z"
   },
   {
    "duration": 13,
    "start_time": "2021-10-12T08:43:10.274Z"
   },
   {
    "duration": 13,
    "start_time": "2021-10-12T08:43:15.377Z"
   },
   {
    "duration": 12,
    "start_time": "2021-10-12T08:43:26.645Z"
   },
   {
    "duration": 365,
    "start_time": "2021-10-12T08:48:19.995Z"
   },
   {
    "duration": 265,
    "start_time": "2021-10-12T08:48:25.023Z"
   },
   {
    "duration": 284,
    "start_time": "2021-10-12T08:48:32.977Z"
   },
   {
    "duration": 262,
    "start_time": "2021-10-12T08:48:54.850Z"
   },
   {
    "duration": 853,
    "start_time": "2021-10-12T08:49:02.036Z"
   },
   {
    "duration": 72,
    "start_time": "2021-10-12T08:49:20.435Z"
   },
   {
    "duration": 10,
    "start_time": "2021-10-12T08:49:34.846Z"
   },
   {
    "duration": 14,
    "start_time": "2021-10-12T08:49:39.602Z"
   },
   {
    "duration": 8,
    "start_time": "2021-10-12T08:49:42.273Z"
   },
   {
    "duration": 20,
    "start_time": "2021-10-12T08:49:45.064Z"
   },
   {
    "duration": 18,
    "start_time": "2021-10-12T08:50:20.611Z"
   },
   {
    "duration": 71,
    "start_time": "2021-10-12T08:50:27.816Z"
   },
   {
    "duration": 11,
    "start_time": "2021-10-12T08:50:31.811Z"
   },
   {
    "duration": 14,
    "start_time": "2021-10-12T08:50:35.750Z"
   },
   {
    "duration": 11,
    "start_time": "2021-10-12T08:50:45.845Z"
   },
   {
    "duration": 12,
    "start_time": "2021-10-12T08:50:48.483Z"
   },
   {
    "duration": 71,
    "start_time": "2021-10-12T08:50:56.391Z"
   },
   {
    "duration": 12,
    "start_time": "2021-10-12T08:51:00.279Z"
   },
   {
    "duration": 14,
    "start_time": "2021-10-12T08:51:03.556Z"
   },
   {
    "duration": 5,
    "start_time": "2021-10-12T08:51:28.992Z"
   },
   {
    "duration": 4,
    "start_time": "2021-10-12T08:51:33.927Z"
   },
   {
    "duration": 13,
    "start_time": "2021-10-12T08:51:36.171Z"
   },
   {
    "duration": 626,
    "start_time": "2021-10-12T17:05:05.079Z"
   },
   {
    "duration": 56,
    "start_time": "2021-10-12T17:05:24.869Z"
   },
   {
    "duration": 10,
    "start_time": "2021-10-12T17:05:24.927Z"
   },
   {
    "duration": 9,
    "start_time": "2021-10-12T17:05:24.939Z"
   },
   {
    "duration": 51,
    "start_time": "2021-10-12T17:05:24.950Z"
   },
   {
    "duration": 4,
    "start_time": "2021-10-12T17:05:25.003Z"
   },
   {
    "duration": 8,
    "start_time": "2021-10-12T17:05:25.009Z"
   },
   {
    "duration": 4,
    "start_time": "2021-10-12T17:05:25.019Z"
   },
   {
    "duration": 7,
    "start_time": "2021-10-12T17:05:25.026Z"
   },
   {
    "duration": 3,
    "start_time": "2021-10-12T17:05:25.035Z"
   },
   {
    "duration": 24,
    "start_time": "2021-10-12T17:05:25.039Z"
   },
   {
    "duration": 2483,
    "start_time": "2021-10-12T17:05:25.064Z"
   },
   {
    "duration": 8,
    "start_time": "2021-10-12T17:05:27.548Z"
   },
   {
    "duration": 7,
    "start_time": "2021-10-12T17:05:27.557Z"
   },
   {
    "duration": 7,
    "start_time": "2021-10-12T17:05:27.565Z"
   },
   {
    "duration": 5,
    "start_time": "2021-10-12T17:05:27.573Z"
   },
   {
    "duration": 14,
    "start_time": "2021-10-12T17:05:27.600Z"
   },
   {
    "duration": 191,
    "start_time": "2021-10-12T17:05:27.615Z"
   },
   {
    "duration": -528,
    "start_time": "2021-10-12T17:05:28.336Z"
   },
   {
    "duration": -557,
    "start_time": "2021-10-12T17:05:28.366Z"
   },
   {
    "duration": -599,
    "start_time": "2021-10-12T17:05:28.409Z"
   },
   {
    "duration": -606,
    "start_time": "2021-10-12T17:05:28.417Z"
   },
   {
    "duration": -625,
    "start_time": "2021-10-12T17:05:28.436Z"
   },
   {
    "duration": 134,
    "start_time": "2021-10-12T17:05:48.848Z"
   },
   {
    "duration": 42,
    "start_time": "2021-10-12T17:05:53.994Z"
   },
   {
    "duration": 3,
    "start_time": "2021-10-12T17:05:56.909Z"
   },
   {
    "duration": 9,
    "start_time": "2021-10-12T17:06:00.163Z"
   },
   {
    "duration": 37,
    "start_time": "2021-10-12T17:06:05.209Z"
   },
   {
    "duration": 9,
    "start_time": "2021-10-12T17:06:08.450Z"
   },
   {
    "duration": 136,
    "start_time": "2021-10-12T17:07:06.157Z"
   },
   {
    "duration": 9,
    "start_time": "2021-10-12T17:08:06.824Z"
   },
   {
    "duration": 137,
    "start_time": "2021-10-12T17:08:10.472Z"
   },
   {
    "duration": 155,
    "start_time": "2021-10-12T17:09:18.997Z"
   },
   {
    "duration": 51,
    "start_time": "2021-10-12T17:09:30.071Z"
   },
   {
    "duration": 1707,
    "start_time": "2021-10-12T17:09:45.807Z"
   },
   {
    "duration": 141,
    "start_time": "2021-10-12T17:10:22.124Z"
   },
   {
    "duration": 2004,
    "start_time": "2021-10-12T17:10:39.997Z"
   },
   {
    "duration": 1743,
    "start_time": "2021-10-12T17:11:18.522Z"
   },
   {
    "duration": 54,
    "start_time": "2021-10-12T17:11:38.568Z"
   },
   {
    "duration": 24,
    "start_time": "2021-10-12T17:11:45.882Z"
   },
   {
    "duration": 5,
    "start_time": "2021-10-12T17:12:21.323Z"
   },
   {
    "duration": 5,
    "start_time": "2021-10-12T17:12:55.195Z"
   },
   {
    "duration": 4,
    "start_time": "2021-10-12T17:13:15.055Z"
   },
   {
    "duration": 138,
    "start_time": "2021-10-12T17:13:19.488Z"
   },
   {
    "duration": 142,
    "start_time": "2021-10-12T17:13:26.347Z"
   },
   {
    "duration": 43,
    "start_time": "2021-10-12T17:13:46.164Z"
   },
   {
    "duration": 201,
    "start_time": "2021-10-12T17:13:52.516Z"
   },
   {
    "duration": 137,
    "start_time": "2021-10-12T17:13:58.669Z"
   },
   {
    "duration": 149,
    "start_time": "2021-10-12T17:14:03.251Z"
   },
   {
    "duration": 135,
    "start_time": "2021-10-12T17:16:24.115Z"
   },
   {
    "duration": 156,
    "start_time": "2021-10-12T17:17:04.147Z"
   },
   {
    "duration": 254,
    "start_time": "2021-10-12T17:17:20.004Z"
   },
   {
    "duration": 564,
    "start_time": "2021-10-12T17:17:27.745Z"
   },
   {
    "duration": 6,
    "start_time": "2021-10-12T17:17:41.960Z"
   },
   {
    "duration": 28,
    "start_time": "2021-10-12T17:17:44.019Z"
   },
   {
    "duration": 29,
    "start_time": "2021-10-12T17:19:32.210Z"
   },
   {
    "duration": 161,
    "start_time": "2021-10-12T17:21:03.200Z"
   },
   {
    "duration": 126,
    "start_time": "2021-10-12T17:21:40.260Z"
   },
   {
    "duration": 54,
    "start_time": "2021-10-12T17:21:48.367Z"
   },
   {
    "duration": 4,
    "start_time": "2021-10-12T17:22:02.711Z"
   },
   {
    "duration": 7,
    "start_time": "2021-10-12T17:22:24.060Z"
   },
   {
    "duration": 9,
    "start_time": "2021-10-12T17:22:43.995Z"
   },
   {
    "duration": 132,
    "start_time": "2021-10-12T17:22:57.563Z"
   },
   {
    "duration": 5,
    "start_time": "2021-10-12T17:23:08.189Z"
   },
   {
    "duration": 6,
    "start_time": "2021-10-12T17:23:36.552Z"
   },
   {
    "duration": 7,
    "start_time": "2021-10-12T17:24:19.130Z"
   },
   {
    "duration": 135,
    "start_time": "2021-10-12T17:36:58.377Z"
   },
   {
    "duration": 8,
    "start_time": "2021-10-12T17:37:05.481Z"
   },
   {
    "duration": 47,
    "start_time": "2021-10-12T17:39:21.661Z"
   },
   {
    "duration": 137,
    "start_time": "2021-10-12T17:39:30.743Z"
   },
   {
    "duration": 10,
    "start_time": "2021-10-12T17:40:04.063Z"
   },
   {
    "duration": 13,
    "start_time": "2021-10-12T17:40:46.605Z"
   },
   {
    "duration": 10,
    "start_time": "2021-10-12T17:41:13.466Z"
   },
   {
    "duration": 10,
    "start_time": "2021-10-12T17:41:26.950Z"
   },
   {
    "duration": 11,
    "start_time": "2021-10-12T17:41:31.031Z"
   },
   {
    "duration": 15,
    "start_time": "2021-10-12T17:41:57.200Z"
   },
   {
    "duration": 17,
    "start_time": "2021-10-12T17:42:08.248Z"
   },
   {
    "duration": 49,
    "start_time": "2021-10-12T17:45:13.410Z"
   },
   {
    "duration": 60,
    "start_time": "2021-10-12T17:46:12.485Z"
   },
   {
    "duration": 48,
    "start_time": "2021-10-12T17:46:57.575Z"
   },
   {
    "duration": 48,
    "start_time": "2021-10-12T17:47:03.760Z"
   },
   {
    "duration": 145,
    "start_time": "2021-10-12T17:48:06.354Z"
   },
   {
    "duration": 8,
    "start_time": "2021-10-12T17:50:32.779Z"
   },
   {
    "duration": 46,
    "start_time": "2021-10-12T17:50:50.587Z"
   },
   {
    "duration": 48,
    "start_time": "2021-10-12T17:51:14.592Z"
   },
   {
    "duration": 43,
    "start_time": "2021-10-12T17:52:59.698Z"
   },
   {
    "duration": 75,
    "start_time": "2021-10-12T17:53:15.672Z"
   },
   {
    "duration": 42,
    "start_time": "2021-10-12T17:53:31.936Z"
   },
   {
    "duration": 48,
    "start_time": "2021-10-12T17:53:56.777Z"
   },
   {
    "duration": 44,
    "start_time": "2021-10-12T17:54:32.076Z"
   },
   {
    "duration": 66,
    "start_time": "2021-10-12T17:55:57.723Z"
   },
   {
    "duration": 590,
    "start_time": "2021-10-12T17:56:06.221Z"
   },
   {
    "duration": 11,
    "start_time": "2021-10-12T17:56:06.812Z"
   },
   {
    "duration": 9,
    "start_time": "2021-10-12T17:56:06.824Z"
   },
   {
    "duration": 33,
    "start_time": "2021-10-12T17:56:06.835Z"
   },
   {
    "duration": 6,
    "start_time": "2021-10-12T17:56:06.870Z"
   },
   {
    "duration": 25,
    "start_time": "2021-10-12T17:56:06.878Z"
   },
   {
    "duration": 6,
    "start_time": "2021-10-12T17:56:06.905Z"
   },
   {
    "duration": 9,
    "start_time": "2021-10-12T17:56:06.914Z"
   },
   {
    "duration": 4,
    "start_time": "2021-10-12T17:56:06.925Z"
   },
   {
    "duration": 25,
    "start_time": "2021-10-12T17:56:06.931Z"
   },
   {
    "duration": 2355,
    "start_time": "2021-10-12T17:56:06.958Z"
   },
   {
    "duration": 8,
    "start_time": "2021-10-12T17:56:09.314Z"
   },
   {
    "duration": 33,
    "start_time": "2021-10-12T17:56:09.324Z"
   },
   {
    "duration": 8,
    "start_time": "2021-10-12T17:56:09.358Z"
   },
   {
    "duration": 14,
    "start_time": "2021-10-12T17:56:09.368Z"
   },
   {
    "duration": 6,
    "start_time": "2021-10-12T17:56:09.384Z"
   },
   {
    "duration": 19,
    "start_time": "2021-10-12T17:56:09.391Z"
   },
   {
    "duration": 6,
    "start_time": "2021-10-12T17:56:09.411Z"
   },
   {
    "duration": 45,
    "start_time": "2021-10-12T17:56:09.418Z"
   },
   {
    "duration": -605,
    "start_time": "2021-10-12T17:56:10.070Z"
   },
   {
    "duration": -611,
    "start_time": "2021-10-12T17:56:10.077Z"
   },
   {
    "duration": -618,
    "start_time": "2021-10-12T17:56:10.085Z"
   },
   {
    "duration": -622,
    "start_time": "2021-10-12T17:56:10.090Z"
   },
   {
    "duration": -625,
    "start_time": "2021-10-12T17:56:10.094Z"
   },
   {
    "duration": -631,
    "start_time": "2021-10-12T17:56:10.101Z"
   },
   {
    "duration": -636,
    "start_time": "2021-10-12T17:56:10.107Z"
   },
   {
    "duration": 38,
    "start_time": "2021-10-12T17:56:17.376Z"
   },
   {
    "duration": 42,
    "start_time": "2021-10-12T17:56:27.925Z"
   },
   {
    "duration": 25,
    "start_time": "2021-10-12T17:58:59.779Z"
   },
   {
    "duration": 5,
    "start_time": "2021-10-12T18:00:04.320Z"
   },
   {
    "duration": 8,
    "start_time": "2021-10-12T18:01:34.424Z"
   },
   {
    "duration": 26,
    "start_time": "2021-10-12T18:02:05.856Z"
   },
   {
    "duration": 10,
    "start_time": "2021-10-12T18:04:04.239Z"
   },
   {
    "duration": 15,
    "start_time": "2021-10-12T18:04:19.934Z"
   },
   {
    "duration": 53,
    "start_time": "2021-10-12T18:04:55.296Z"
   },
   {
    "duration": 21,
    "start_time": "2021-10-12T18:05:01.890Z"
   },
   {
    "duration": 22,
    "start_time": "2021-10-12T18:05:20.637Z"
   },
   {
    "duration": 21,
    "start_time": "2021-10-12T18:06:22.370Z"
   },
   {
    "duration": 20,
    "start_time": "2021-10-12T18:06:42.836Z"
   },
   {
    "duration": 18,
    "start_time": "2021-10-12T18:07:11.823Z"
   },
   {
    "duration": 185,
    "start_time": "2021-10-12T18:08:11.060Z"
   },
   {
    "duration": 7,
    "start_time": "2021-10-12T18:08:34.638Z"
   },
   {
    "duration": 6,
    "start_time": "2021-10-12T18:08:57.496Z"
   },
   {
    "duration": 6,
    "start_time": "2021-10-12T18:09:07.991Z"
   },
   {
    "duration": 749,
    "start_time": "2021-10-12T19:06:37.393Z"
   },
   {
    "duration": 10,
    "start_time": "2021-10-12T19:06:38.144Z"
   },
   {
    "duration": 8,
    "start_time": "2021-10-12T19:06:38.156Z"
   },
   {
    "duration": 39,
    "start_time": "2021-10-12T19:06:38.166Z"
   },
   {
    "duration": 5,
    "start_time": "2021-10-12T19:06:38.207Z"
   },
   {
    "duration": 7,
    "start_time": "2021-10-12T19:06:38.214Z"
   },
   {
    "duration": 9,
    "start_time": "2021-10-12T19:06:38.222Z"
   },
   {
    "duration": 8,
    "start_time": "2021-10-12T19:06:38.233Z"
   },
   {
    "duration": 4,
    "start_time": "2021-10-12T19:06:38.243Z"
   },
   {
    "duration": 23,
    "start_time": "2021-10-12T19:06:38.248Z"
   },
   {
    "duration": 2381,
    "start_time": "2021-10-12T19:06:38.300Z"
   },
   {
    "duration": 18,
    "start_time": "2021-10-12T19:06:40.682Z"
   },
   {
    "duration": 8,
    "start_time": "2021-10-12T19:06:40.701Z"
   },
   {
    "duration": 5,
    "start_time": "2021-10-12T19:06:40.710Z"
   },
   {
    "duration": 13,
    "start_time": "2021-10-12T19:06:40.717Z"
   },
   {
    "duration": 7,
    "start_time": "2021-10-12T19:06:40.732Z"
   },
   {
    "duration": 8,
    "start_time": "2021-10-12T19:06:40.740Z"
   },
   {
    "duration": 6,
    "start_time": "2021-10-12T19:06:40.750Z"
   },
   {
    "duration": 6,
    "start_time": "2021-10-12T19:06:40.758Z"
   },
   {
    "duration": 21,
    "start_time": "2021-10-12T19:06:40.799Z"
   },
   {
    "duration": 4,
    "start_time": "2021-10-12T19:06:40.822Z"
   },
   {
    "duration": 29,
    "start_time": "2021-10-12T19:06:40.828Z"
   },
   {
    "duration": 4,
    "start_time": "2021-10-12T19:06:40.859Z"
   },
   {
    "duration": 67,
    "start_time": "2021-10-12T19:06:40.865Z"
   },
   {
    "duration": 3,
    "start_time": "2021-10-12T19:06:40.934Z"
   },
   {
    "duration": 12,
    "start_time": "2021-10-12T19:06:40.938Z"
   },
   {
    "duration": 36,
    "start_time": "2021-10-12T19:06:40.951Z"
   },
   {
    "duration": 16,
    "start_time": "2021-10-12T19:06:40.988Z"
   },
   {
    "duration": 8,
    "start_time": "2021-10-12T19:06:41.006Z"
   },
   {
    "duration": 6,
    "start_time": "2021-10-12T19:07:34.460Z"
   },
   {
    "duration": 5,
    "start_time": "2021-10-12T19:07:41.970Z"
   },
   {
    "duration": 4,
    "start_time": "2021-10-12T19:07:46.937Z"
   },
   {
    "duration": 5,
    "start_time": "2021-10-12T19:09:07.311Z"
   },
   {
    "duration": 9,
    "start_time": "2021-10-12T19:09:12.240Z"
   },
   {
    "duration": 46,
    "start_time": "2021-10-12T19:16:31.667Z"
   },
   {
    "duration": 72,
    "start_time": "2021-10-12T19:16:52.109Z"
   },
   {
    "duration": 45,
    "start_time": "2021-10-12T19:17:15.421Z"
   },
   {
    "duration": 5,
    "start_time": "2021-10-12T19:17:24.272Z"
   },
   {
    "duration": 4,
    "start_time": "2021-10-12T19:17:33.448Z"
   },
   {
    "duration": 7,
    "start_time": "2021-10-12T19:17:44.356Z"
   },
   {
    "duration": 191,
    "start_time": "2021-10-12T19:19:37.858Z"
   },
   {
    "duration": 598,
    "start_time": "2021-10-12T19:20:18.310Z"
   },
   {
    "duration": 10,
    "start_time": "2021-10-12T19:20:18.909Z"
   },
   {
    "duration": 9,
    "start_time": "2021-10-12T19:20:18.921Z"
   },
   {
    "duration": 23,
    "start_time": "2021-10-12T19:20:18.931Z"
   },
   {
    "duration": 5,
    "start_time": "2021-10-12T19:20:18.955Z"
   },
   {
    "duration": 39,
    "start_time": "2021-10-12T19:20:18.961Z"
   },
   {
    "duration": 5,
    "start_time": "2021-10-12T19:20:19.002Z"
   },
   {
    "duration": 8,
    "start_time": "2021-10-12T19:20:19.009Z"
   },
   {
    "duration": 3,
    "start_time": "2021-10-12T19:20:19.019Z"
   },
   {
    "duration": 24,
    "start_time": "2021-10-12T19:20:19.023Z"
   },
   {
    "duration": 2337,
    "start_time": "2021-10-12T19:20:19.048Z"
   },
   {
    "duration": 16,
    "start_time": "2021-10-12T19:20:21.386Z"
   },
   {
    "duration": 8,
    "start_time": "2021-10-12T19:20:21.403Z"
   },
   {
    "duration": 5,
    "start_time": "2021-10-12T19:20:21.412Z"
   },
   {
    "duration": 14,
    "start_time": "2021-10-12T19:20:21.418Z"
   },
   {
    "duration": 6,
    "start_time": "2021-10-12T19:20:21.434Z"
   },
   {
    "duration": 11,
    "start_time": "2021-10-12T19:20:21.441Z"
   },
   {
    "duration": 6,
    "start_time": "2021-10-12T19:20:21.453Z"
   },
   {
    "duration": 42,
    "start_time": "2021-10-12T19:20:21.461Z"
   },
   {
    "duration": 21,
    "start_time": "2021-10-12T19:20:21.504Z"
   },
   {
    "duration": 5,
    "start_time": "2021-10-12T19:20:21.526Z"
   },
   {
    "duration": 33,
    "start_time": "2021-10-12T19:20:21.532Z"
   },
   {
    "duration": 32,
    "start_time": "2021-10-12T19:20:21.568Z"
   },
   {
    "duration": 3,
    "start_time": "2021-10-12T19:20:21.602Z"
   },
   {
    "duration": 193,
    "start_time": "2021-10-12T19:20:21.607Z"
   },
   {
    "duration": -587,
    "start_time": "2021-10-12T19:20:22.388Z"
   },
   {
    "duration": -593,
    "start_time": "2021-10-12T19:20:22.395Z"
   },
   {
    "duration": -597,
    "start_time": "2021-10-12T19:20:22.400Z"
   },
   {
    "duration": -601,
    "start_time": "2021-10-12T19:20:22.405Z"
   },
   {
    "duration": -684,
    "start_time": "2021-10-12T19:20:22.489Z"
   },
   {
    "duration": -692,
    "start_time": "2021-10-12T19:20:22.499Z"
   },
   {
    "duration": 152,
    "start_time": "2021-10-12T19:20:26.993Z"
   },
   {
    "duration": 142,
    "start_time": "2021-10-12T19:21:27.523Z"
   },
   {
    "duration": 27,
    "start_time": "2021-10-12T19:21:40.014Z"
   },
   {
    "duration": 4,
    "start_time": "2021-10-12T19:24:14.547Z"
   },
   {
    "duration": 139,
    "start_time": "2021-10-12T19:24:26.611Z"
   },
   {
    "duration": 222,
    "start_time": "2021-10-12T19:25:36.780Z"
   },
   {
    "duration": 134,
    "start_time": "2021-10-12T19:25:52.784Z"
   },
   {
    "duration": 144,
    "start_time": "2021-10-12T19:25:54.834Z"
   },
   {
    "duration": 221,
    "start_time": "2021-10-12T19:25:55.847Z"
   },
   {
    "duration": 148,
    "start_time": "2021-10-12T19:25:56.815Z"
   },
   {
    "duration": 130,
    "start_time": "2021-10-12T19:25:59.303Z"
   },
   {
    "duration": 24,
    "start_time": "2021-10-12T19:26:04.409Z"
   },
   {
    "duration": 9,
    "start_time": "2021-10-12T19:27:07.069Z"
   },
   {
    "duration": 29,
    "start_time": "2021-10-12T19:27:34.613Z"
   },
   {
    "duration": 38,
    "start_time": "2021-10-12T19:30:34.987Z"
   },
   {
    "duration": 37,
    "start_time": "2021-10-12T19:33:15.924Z"
   },
   {
    "duration": 164,
    "start_time": "2021-10-12T19:35:17.434Z"
   },
   {
    "duration": 138,
    "start_time": "2021-10-12T19:36:01.367Z"
   },
   {
    "duration": 38,
    "start_time": "2021-10-12T19:36:05.131Z"
   },
   {
    "duration": 8,
    "start_time": "2021-10-12T19:36:14.203Z"
   },
   {
    "duration": 138,
    "start_time": "2021-10-12T19:38:06.150Z"
   },
   {
    "duration": 44,
    "start_time": "2021-10-12T19:38:22.523Z"
   },
   {
    "duration": 47,
    "start_time": "2021-10-12T19:38:32.436Z"
   },
   {
    "duration": 133,
    "start_time": "2021-10-12T19:39:55.748Z"
   },
   {
    "duration": 50,
    "start_time": "2021-10-12T19:40:00.549Z"
   },
   {
    "duration": 3,
    "start_time": "2021-10-12T19:40:04.006Z"
   },
   {
    "duration": 10,
    "start_time": "2021-10-12T19:40:06.973Z"
   },
   {
    "duration": 38,
    "start_time": "2021-10-12T19:40:20.313Z"
   },
   {
    "duration": 311,
    "start_time": "2021-10-12T19:40:26.546Z"
   },
   {
    "duration": 156,
    "start_time": "2021-10-12T19:41:02.333Z"
   },
   {
    "duration": 9,
    "start_time": "2021-10-12T19:41:17.411Z"
   },
   {
    "duration": 129,
    "start_time": "2021-10-12T19:41:34.933Z"
   },
   {
    "duration": 137,
    "start_time": "2021-10-12T19:42:43.595Z"
   },
   {
    "duration": 41,
    "start_time": "2021-10-12T19:43:59.688Z"
   },
   {
    "duration": 137,
    "start_time": "2021-10-12T19:44:06.098Z"
   },
   {
    "duration": 39,
    "start_time": "2021-10-12T19:44:43.171Z"
   },
   {
    "duration": 10,
    "start_time": "2021-10-12T19:45:38.001Z"
   },
   {
    "duration": 3,
    "start_time": "2021-10-12T19:57:46.483Z"
   },
   {
    "duration": 29,
    "start_time": "2021-10-12T19:57:51.293Z"
   },
   {
    "duration": 39,
    "start_time": "2021-10-12T19:58:07.335Z"
   },
   {
    "duration": 9,
    "start_time": "2021-10-12T19:58:13.406Z"
   },
   {
    "duration": 7,
    "start_time": "2021-10-12T20:00:12.650Z"
   },
   {
    "duration": 10,
    "start_time": "2021-10-12T20:00:50.274Z"
   },
   {
    "duration": 142,
    "start_time": "2021-10-12T20:01:15.409Z"
   },
   {
    "duration": 136,
    "start_time": "2021-10-12T20:01:34.631Z"
   },
   {
    "duration": 10,
    "start_time": "2021-10-12T20:01:49.187Z"
   },
   {
    "duration": 11,
    "start_time": "2021-10-12T20:02:04.339Z"
   },
   {
    "duration": 415,
    "start_time": "2021-10-12T20:02:46.241Z"
   },
   {
    "duration": 7,
    "start_time": "2021-10-12T20:03:05.467Z"
   },
   {
    "duration": 11,
    "start_time": "2021-10-12T20:03:15.104Z"
   },
   {
    "duration": 134,
    "start_time": "2021-10-12T20:04:22.386Z"
   },
   {
    "duration": 265,
    "start_time": "2021-10-12T20:05:24.983Z"
   },
   {
    "duration": 1054,
    "start_time": "2021-10-12T20:05:47.054Z"
   },
   {
    "duration": 131,
    "start_time": "2021-10-12T20:10:19.061Z"
   },
   {
    "duration": 661,
    "start_time": "2021-10-12T20:14:13.493Z"
   },
   {
    "duration": 2485,
    "start_time": "2021-10-12T20:15:36.859Z"
   },
   {
    "duration": 6,
    "start_time": "2021-10-12T20:16:07.892Z"
   },
   {
    "duration": 7,
    "start_time": "2021-10-12T20:16:14.736Z"
   },
   {
    "duration": 27,
    "start_time": "2021-10-12T20:16:20.214Z"
   },
   {
    "duration": 34,
    "start_time": "2021-10-12T20:17:27.225Z"
   },
   {
    "duration": 2757,
    "start_time": "2021-10-12T20:23:42.684Z"
   },
   {
    "duration": 3789,
    "start_time": "2021-10-12T20:23:46.041Z"
   },
   {
    "duration": 2456,
    "start_time": "2021-10-12T20:24:05.000Z"
   },
   {
    "duration": 26,
    "start_time": "2021-10-12T20:24:14.043Z"
   },
   {
    "duration": 3228,
    "start_time": "2021-10-12T20:26:22.341Z"
   },
   {
    "duration": 53,
    "start_time": "2021-10-12T20:26:37.969Z"
   },
   {
    "duration": 136,
    "start_time": "2021-10-12T20:26:41.422Z"
   },
   {
    "duration": 34,
    "start_time": "2021-10-12T20:26:46.636Z"
   },
   {
    "duration": 41,
    "start_time": "2021-10-12T20:29:57.771Z"
   },
   {
    "duration": 3855,
    "start_time": "2021-10-12T20:37:24.121Z"
   },
   {
    "duration": 3314,
    "start_time": "2021-10-12T20:37:29.559Z"
   },
   {
    "duration": 11,
    "start_time": "2021-10-12T20:37:50.708Z"
   },
   {
    "duration": 633,
    "start_time": "2021-10-12T20:40:04.542Z"
   },
   {
    "duration": 20,
    "start_time": "2021-10-12T20:40:42.644Z"
   },
   {
    "duration": 20,
    "start_time": "2021-10-12T20:41:46.663Z"
   },
   {
    "duration": 39,
    "start_time": "2021-10-12T20:45:00.297Z"
   },
   {
    "duration": 38,
    "start_time": "2021-10-12T20:49:15.024Z"
   },
   {
    "duration": 997,
    "start_time": "2021-10-13T05:34:37.128Z"
   },
   {
    "duration": 70,
    "start_time": "2021-10-13T05:34:49.678Z"
   },
   {
    "duration": 7,
    "start_time": "2021-10-13T05:42:21.179Z"
   },
   {
    "duration": 9,
    "start_time": "2021-10-13T05:42:43.918Z"
   },
   {
    "duration": 5566,
    "start_time": "2021-10-13T05:44:17.681Z"
   },
   {
    "duration": 6700,
    "start_time": "2021-10-13T05:44:37.442Z"
   },
   {
    "duration": 7,
    "start_time": "2021-10-13T05:45:53.822Z"
   },
   {
    "duration": 105,
    "start_time": "2021-10-13T05:46:32.193Z"
   },
   {
    "duration": 109,
    "start_time": "2021-10-13T05:46:42.188Z"
   },
   {
    "duration": 22,
    "start_time": "2021-10-13T05:46:53.935Z"
   },
   {
    "duration": 24,
    "start_time": "2021-10-13T05:47:11.752Z"
   },
   {
    "duration": 91,
    "start_time": "2021-10-13T05:51:40.199Z"
   },
   {
    "duration": 107,
    "start_time": "2021-10-13T05:51:52.328Z"
   },
   {
    "duration": 82,
    "start_time": "2021-10-13T05:52:19.288Z"
   },
   {
    "duration": 91,
    "start_time": "2021-10-13T05:52:25.436Z"
   },
   {
    "duration": 14,
    "start_time": "2021-10-13T05:52:35.488Z"
   },
   {
    "duration": 13,
    "start_time": "2021-10-13T05:52:44.372Z"
   },
   {
    "duration": 12,
    "start_time": "2021-10-13T05:53:07.705Z"
   },
   {
    "duration": 833,
    "start_time": "2021-10-13T05:53:39.826Z"
   },
   {
    "duration": 15,
    "start_time": "2021-10-13T05:53:40.661Z"
   },
   {
    "duration": 52,
    "start_time": "2021-10-13T05:53:40.678Z"
   },
   {
    "duration": 37,
    "start_time": "2021-10-13T05:53:40.732Z"
   },
   {
    "duration": 7,
    "start_time": "2021-10-13T05:53:40.771Z"
   },
   {
    "duration": 20,
    "start_time": "2021-10-13T05:53:40.780Z"
   },
   {
    "duration": 8,
    "start_time": "2021-10-13T05:53:40.802Z"
   },
   {
    "duration": 11,
    "start_time": "2021-10-13T05:53:40.815Z"
   },
   {
    "duration": 6,
    "start_time": "2021-10-13T05:53:40.829Z"
   },
   {
    "duration": 81,
    "start_time": "2021-10-13T05:53:40.838Z"
   },
   {
    "duration": 4669,
    "start_time": "2021-10-13T05:53:40.921Z"
   },
   {
    "duration": 16,
    "start_time": "2021-10-13T05:53:45.592Z"
   },
   {
    "duration": 14,
    "start_time": "2021-10-13T05:53:45.610Z"
   },
   {
    "duration": 8,
    "start_time": "2021-10-13T05:53:45.626Z"
   },
   {
    "duration": 21,
    "start_time": "2021-10-13T05:53:45.636Z"
   },
   {
    "duration": 44,
    "start_time": "2021-10-13T05:53:45.660Z"
   },
   {
    "duration": 13,
    "start_time": "2021-10-13T05:53:45.706Z"
   },
   {
    "duration": 9,
    "start_time": "2021-10-13T05:53:45.721Z"
   },
   {
    "duration": 9,
    "start_time": "2021-10-13T05:53:45.732Z"
   },
   {
    "duration": 79,
    "start_time": "2021-10-13T05:53:45.744Z"
   },
   {
    "duration": 9,
    "start_time": "2021-10-13T05:53:45.825Z"
   },
   {
    "duration": 16,
    "start_time": "2021-10-13T05:53:45.836Z"
   },
   {
    "duration": 7,
    "start_time": "2021-10-13T05:53:45.857Z"
   },
   {
    "duration": 50,
    "start_time": "2021-10-13T05:53:45.902Z"
   },
   {
    "duration": 51,
    "start_time": "2021-10-13T05:53:45.955Z"
   },
   {
    "duration": 64,
    "start_time": "2021-10-13T05:53:46.008Z"
   },
   {
    "duration": 82,
    "start_time": "2021-10-13T05:53:46.075Z"
   },
   {
    "duration": 11,
    "start_time": "2021-10-13T05:53:46.160Z"
   },
   {
    "duration": 30,
    "start_time": "2021-10-13T05:53:46.173Z"
   },
   {
    "duration": 57,
    "start_time": "2021-10-13T05:53:46.205Z"
   },
   {
    "duration": 93,
    "start_time": "2021-10-13T05:53:46.265Z"
   },
   {
    "duration": 4,
    "start_time": "2021-10-13T05:53:46.361Z"
   },
   {
    "duration": 20,
    "start_time": "2021-10-13T05:53:46.367Z"
   },
   {
    "duration": 63,
    "start_time": "2021-10-13T05:53:46.401Z"
   },
   {
    "duration": 13,
    "start_time": "2021-10-13T05:53:46.466Z"
   },
   {
    "duration": 62,
    "start_time": "2021-10-13T05:53:46.501Z"
   },
   {
    "duration": 13,
    "start_time": "2021-10-13T05:53:46.565Z"
   },
   {
    "duration": 44,
    "start_time": "2021-10-13T05:53:46.601Z"
   },
   {
    "duration": 91,
    "start_time": "2021-10-13T05:53:46.647Z"
   },
   {
    "duration": 14,
    "start_time": "2021-10-13T05:53:46.741Z"
   },
   {
    "duration": 41,
    "start_time": "2021-10-13T05:54:23.110Z"
   },
   {
    "duration": 357,
    "start_time": "2021-10-13T05:55:27.338Z"
   },
   {
    "duration": 305,
    "start_time": "2021-10-13T06:00:41.001Z"
   },
   {
    "duration": 267,
    "start_time": "2021-10-13T06:00:47.557Z"
   },
   {
    "duration": 301,
    "start_time": "2021-10-13T06:00:59.769Z"
   },
   {
    "duration": 273,
    "start_time": "2021-10-13T06:01:07.098Z"
   },
   {
    "duration": 273,
    "start_time": "2021-10-13T06:01:23.920Z"
   },
   {
    "duration": 850,
    "start_time": "2021-10-13T06:01:46.325Z"
   },
   {
    "duration": 27,
    "start_time": "2021-10-13T06:01:47.178Z"
   },
   {
    "duration": 15,
    "start_time": "2021-10-13T06:01:47.209Z"
   },
   {
    "duration": 38,
    "start_time": "2021-10-13T06:01:47.227Z"
   },
   {
    "duration": 39,
    "start_time": "2021-10-13T06:01:47.268Z"
   },
   {
    "duration": 12,
    "start_time": "2021-10-13T06:01:47.310Z"
   },
   {
    "duration": 10,
    "start_time": "2021-10-13T06:01:47.325Z"
   },
   {
    "duration": 12,
    "start_time": "2021-10-13T06:01:47.340Z"
   },
   {
    "duration": 52,
    "start_time": "2021-10-13T06:01:47.354Z"
   },
   {
    "duration": 41,
    "start_time": "2021-10-13T06:01:47.409Z"
   },
   {
    "duration": 4796,
    "start_time": "2021-10-13T06:01:47.454Z"
   },
   {
    "duration": 14,
    "start_time": "2021-10-13T06:01:52.253Z"
   },
   {
    "duration": 39,
    "start_time": "2021-10-13T06:01:52.270Z"
   },
   {
    "duration": 9,
    "start_time": "2021-10-13T06:01:52.312Z"
   },
   {
    "duration": 20,
    "start_time": "2021-10-13T06:01:52.324Z"
   },
   {
    "duration": 14,
    "start_time": "2021-10-13T06:01:52.347Z"
   },
   {
    "duration": 14,
    "start_time": "2021-10-13T06:01:52.400Z"
   },
   {
    "duration": 12,
    "start_time": "2021-10-13T06:01:52.416Z"
   },
   {
    "duration": 12,
    "start_time": "2021-10-13T06:01:52.431Z"
   },
   {
    "duration": 82,
    "start_time": "2021-10-13T06:01:52.446Z"
   },
   {
    "duration": 11,
    "start_time": "2021-10-13T06:01:52.531Z"
   },
   {
    "duration": 66,
    "start_time": "2021-10-13T06:01:52.545Z"
   },
   {
    "duration": 37,
    "start_time": "2021-10-13T06:01:52.616Z"
   },
   {
    "duration": 10,
    "start_time": "2021-10-13T06:01:52.655Z"
   },
   {
    "duration": 83,
    "start_time": "2021-10-13T06:01:52.667Z"
   },
   {
    "duration": 53,
    "start_time": "2021-10-13T06:01:52.753Z"
   },
   {
    "duration": 64,
    "start_time": "2021-10-13T06:01:52.809Z"
   },
   {
    "duration": 78,
    "start_time": "2021-10-13T06:01:52.876Z"
   },
   {
    "duration": 11,
    "start_time": "2021-10-13T06:01:52.956Z"
   },
   {
    "duration": 4,
    "start_time": "2021-10-13T06:01:52.969Z"
   },
   {
    "duration": 70,
    "start_time": "2021-10-13T06:01:52.976Z"
   },
   {
    "duration": 94,
    "start_time": "2021-10-13T06:01:53.048Z"
   },
   {
    "duration": 4,
    "start_time": "2021-10-13T06:01:53.144Z"
   },
   {
    "duration": 16,
    "start_time": "2021-10-13T06:01:53.150Z"
   },
   {
    "duration": 91,
    "start_time": "2021-10-13T06:01:53.168Z"
   },
   {
    "duration": 12,
    "start_time": "2021-10-13T06:01:53.262Z"
   },
   {
    "duration": 81,
    "start_time": "2021-10-13T06:01:53.276Z"
   },
   {
    "duration": 13,
    "start_time": "2021-10-13T06:01:53.359Z"
   },
   {
    "duration": 57,
    "start_time": "2021-10-13T06:01:53.374Z"
   },
   {
    "duration": 91,
    "start_time": "2021-10-13T06:01:53.434Z"
   },
   {
    "duration": 13,
    "start_time": "2021-10-13T06:01:53.527Z"
   },
   {
    "duration": 40,
    "start_time": "2021-10-13T06:03:04.491Z"
   },
   {
    "duration": 15,
    "start_time": "2021-10-13T06:08:27.810Z"
   },
   {
    "duration": 8,
    "start_time": "2021-10-13T06:09:07.612Z"
   },
   {
    "duration": 9,
    "start_time": "2021-10-13T06:13:01.232Z"
   },
   {
    "duration": 14,
    "start_time": "2021-10-13T06:13:04.568Z"
   },
   {
    "duration": 10,
    "start_time": "2021-10-13T06:13:26.689Z"
   },
   {
    "duration": 7,
    "start_time": "2021-10-13T06:19:06.792Z"
   },
   {
    "duration": 7,
    "start_time": "2021-10-13T06:19:15.538Z"
   },
   {
    "duration": 844,
    "start_time": "2021-10-13T06:42:25.834Z"
   },
   {
    "duration": 450,
    "start_time": "2021-10-13T06:53:10.672Z"
   },
   {
    "duration": 313,
    "start_time": "2021-10-13T06:53:18.515Z"
   },
   {
    "duration": 333,
    "start_time": "2021-10-13T06:53:27.609Z"
   },
   {
    "duration": 4,
    "start_time": "2021-10-13T06:53:39.237Z"
   },
   {
    "duration": 4,
    "start_time": "2021-10-13T06:53:41.278Z"
   },
   {
    "duration": 1027,
    "start_time": "2021-10-13T06:53:43.456Z"
   },
   {
    "duration": 4,
    "start_time": "2021-10-13T06:55:36.679Z"
   },
   {
    "duration": 7,
    "start_time": "2021-10-13T06:56:17.726Z"
   },
   {
    "duration": 8,
    "start_time": "2021-10-13T07:00:24.165Z"
   },
   {
    "duration": 5,
    "start_time": "2021-10-13T07:00:41.570Z"
   },
   {
    "duration": 6,
    "start_time": "2021-10-13T07:00:51.927Z"
   },
   {
    "duration": 6,
    "start_time": "2021-10-13T07:01:24.088Z"
   },
   {
    "duration": 340,
    "start_time": "2021-10-13T07:04:32.804Z"
   },
   {
    "duration": 4,
    "start_time": "2021-10-13T07:04:38.766Z"
   },
   {
    "duration": 7,
    "start_time": "2021-10-13T07:04:42.949Z"
   },
   {
    "duration": 5,
    "start_time": "2021-10-13T07:14:24.767Z"
   },
   {
    "duration": 292,
    "start_time": "2021-10-13T07:15:32.570Z"
   },
   {
    "duration": 1975,
    "start_time": "2021-10-13T07:15:36.448Z"
   },
   {
    "duration": 2035,
    "start_time": "2021-10-13T07:15:39.996Z"
   },
   {
    "duration": 11,
    "start_time": "2021-10-13T07:15:48.011Z"
   },
   {
    "duration": 6,
    "start_time": "2021-10-13T07:21:48.519Z"
   },
   {
    "duration": 2152,
    "start_time": "2021-10-13T07:21:52.048Z"
   },
   {
    "duration": 12,
    "start_time": "2021-10-13T07:21:54.913Z"
   },
   {
    "duration": 11,
    "start_time": "2021-10-13T07:22:06.792Z"
   },
   {
    "duration": 91,
    "start_time": "2021-10-13T07:23:41.155Z"
   },
   {
    "duration": 22,
    "start_time": "2021-10-13T07:24:25.030Z"
   },
   {
    "duration": 15,
    "start_time": "2021-10-13T07:24:33.942Z"
   },
   {
    "duration": 11,
    "start_time": "2021-10-13T07:24:40.085Z"
   },
   {
    "duration": 50,
    "start_time": "2021-10-13T07:25:00.271Z"
   },
   {
    "duration": 4,
    "start_time": "2021-10-13T07:28:15.250Z"
   },
   {
    "duration": 2018,
    "start_time": "2021-10-13T07:28:25.013Z"
   },
   {
    "duration": 11,
    "start_time": "2021-10-13T07:28:28.697Z"
   },
   {
    "duration": 45,
    "start_time": "2021-10-13T07:28:40.928Z"
   },
   {
    "duration": 4,
    "start_time": "2021-10-13T07:29:06.066Z"
   },
   {
    "duration": 10,
    "start_time": "2021-10-13T07:29:12.064Z"
   },
   {
    "duration": 2022,
    "start_time": "2021-10-13T07:29:15.715Z"
   },
   {
    "duration": 11,
    "start_time": "2021-10-13T07:29:20.139Z"
   },
   {
    "duration": 15,
    "start_time": "2021-10-13T07:29:28.953Z"
   },
   {
    "duration": 903,
    "start_time": "2021-10-13T08:55:51.570Z"
   },
   {
    "duration": 27,
    "start_time": "2021-10-13T08:55:52.476Z"
   },
   {
    "duration": 19,
    "start_time": "2021-10-13T08:55:52.508Z"
   },
   {
    "duration": 44,
    "start_time": "2021-10-13T08:55:52.529Z"
   },
   {
    "duration": 7,
    "start_time": "2021-10-13T08:55:52.602Z"
   },
   {
    "duration": 15,
    "start_time": "2021-10-13T08:55:52.611Z"
   },
   {
    "duration": 7,
    "start_time": "2021-10-13T08:55:52.628Z"
   },
   {
    "duration": 10,
    "start_time": "2021-10-13T08:55:52.639Z"
   },
   {
    "duration": 5,
    "start_time": "2021-10-13T08:55:52.652Z"
   },
   {
    "duration": 86,
    "start_time": "2021-10-13T08:55:52.659Z"
   },
   {
    "duration": 4992,
    "start_time": "2021-10-13T08:55:52.748Z"
   },
   {
    "duration": 12,
    "start_time": "2021-10-13T08:55:57.742Z"
   },
   {
    "duration": 13,
    "start_time": "2021-10-13T08:55:57.756Z"
   },
   {
    "duration": 32,
    "start_time": "2021-10-13T08:55:57.772Z"
   },
   {
    "duration": 21,
    "start_time": "2021-10-13T08:55:57.807Z"
   },
   {
    "duration": 15,
    "start_time": "2021-10-13T08:55:57.832Z"
   },
   {
    "duration": 15,
    "start_time": "2021-10-13T08:55:57.850Z"
   },
   {
    "duration": 46,
    "start_time": "2021-10-13T08:55:57.868Z"
   },
   {
    "duration": 11,
    "start_time": "2021-10-13T08:55:57.916Z"
   },
   {
    "duration": 35,
    "start_time": "2021-10-13T08:55:57.930Z"
   },
   {
    "duration": 37,
    "start_time": "2021-10-13T08:55:57.968Z"
   },
   {
    "duration": 41,
    "start_time": "2021-10-13T08:55:58.008Z"
   },
   {
    "duration": 65,
    "start_time": "2021-10-13T08:55:58.057Z"
   },
   {
    "duration": 15,
    "start_time": "2021-10-13T08:55:58.125Z"
   },
   {
    "duration": 11,
    "start_time": "2021-10-13T08:55:58.143Z"
   },
   {
    "duration": 12,
    "start_time": "2021-10-13T08:55:58.156Z"
   },
   {
    "duration": 79,
    "start_time": "2021-10-13T08:55:58.170Z"
   },
   {
    "duration": 49,
    "start_time": "2021-10-13T08:55:58.252Z"
   },
   {
    "duration": 64,
    "start_time": "2021-10-13T08:55:58.304Z"
   },
   {
    "duration": 86,
    "start_time": "2021-10-13T08:55:58.371Z"
   },
   {
    "duration": 11,
    "start_time": "2021-10-13T08:55:58.459Z"
   },
   {
    "duration": 4,
    "start_time": "2021-10-13T08:55:58.473Z"
   },
   {
    "duration": 66,
    "start_time": "2021-10-13T08:55:58.479Z"
   },
   {
    "duration": 6,
    "start_time": "2021-10-13T08:55:58.547Z"
   },
   {
    "duration": 20,
    "start_time": "2021-10-13T08:55:58.555Z"
   },
   {
    "duration": 23,
    "start_time": "2021-10-13T08:55:58.577Z"
   },
   {
    "duration": 14,
    "start_time": "2021-10-13T08:55:58.603Z"
   },
   {
    "duration": 951,
    "start_time": "2021-10-13T08:55:58.619Z"
   },
   {
    "duration": 4,
    "start_time": "2021-10-13T08:55:59.572Z"
   },
   {
    "duration": 27,
    "start_time": "2021-10-13T08:55:59.578Z"
   },
   {
    "duration": 5,
    "start_time": "2021-10-13T08:55:59.607Z"
   },
   {
    "duration": 12,
    "start_time": "2021-10-13T08:55:59.614Z"
   },
   {
    "duration": 6,
    "start_time": "2021-10-13T08:55:59.629Z"
   },
   {
    "duration": 2012,
    "start_time": "2021-10-13T08:55:59.638Z"
   },
   {
    "duration": 12,
    "start_time": "2021-10-13T08:56:01.652Z"
   },
   {
    "duration": 51,
    "start_time": "2021-10-13T08:56:01.668Z"
   },
   {
    "duration": 93,
    "start_time": "2021-10-13T08:56:01.722Z"
   },
   {
    "duration": 5,
    "start_time": "2021-10-13T08:56:01.818Z"
   },
   {
    "duration": 24,
    "start_time": "2021-10-13T08:56:01.826Z"
   },
   {
    "duration": 85,
    "start_time": "2021-10-13T08:56:01.852Z"
   },
   {
    "duration": 13,
    "start_time": "2021-10-13T08:56:01.939Z"
   },
   {
    "duration": 80,
    "start_time": "2021-10-13T08:56:01.954Z"
   },
   {
    "duration": 12,
    "start_time": "2021-10-13T08:56:02.036Z"
   },
   {
    "duration": 70,
    "start_time": "2021-10-13T08:56:02.050Z"
   },
   {
    "duration": 78,
    "start_time": "2021-10-13T08:56:02.123Z"
   },
   {
    "duration": 13,
    "start_time": "2021-10-13T08:56:02.204Z"
   },
   {
    "duration": 60,
    "start_time": "2021-10-13T08:58:58.409Z"
   },
   {
    "duration": 56,
    "start_time": "2021-10-13T08:59:31.070Z"
   },
   {
    "duration": 13,
    "start_time": "2021-10-13T09:01:04.832Z"
   },
   {
    "duration": 8,
    "start_time": "2021-10-13T09:37:28.773Z"
   },
   {
    "duration": 10,
    "start_time": "2021-10-13T09:37:40.204Z"
   },
   {
    "duration": 9,
    "start_time": "2021-10-13T09:38:37.901Z"
   },
   {
    "duration": 351,
    "start_time": "2021-10-13T09:39:23.654Z"
   },
   {
    "duration": 275,
    "start_time": "2021-10-13T09:39:30.074Z"
   },
   {
    "duration": 9,
    "start_time": "2021-10-13T09:39:38.217Z"
   },
   {
    "duration": 286,
    "start_time": "2021-10-13T09:40:22.641Z"
   },
   {
    "duration": 432,
    "start_time": "2021-10-13T09:40:36.279Z"
   },
   {
    "duration": 252,
    "start_time": "2021-10-13T09:40:40.193Z"
   },
   {
    "duration": 12,
    "start_time": "2021-10-13T09:41:34.299Z"
   },
   {
    "duration": 315,
    "start_time": "2021-10-13T09:42:01.859Z"
   },
   {
    "duration": 349,
    "start_time": "2021-10-13T09:42:08.641Z"
   },
   {
    "duration": 386,
    "start_time": "2021-10-13T09:42:20.854Z"
   },
   {
    "duration": 287,
    "start_time": "2021-10-13T09:42:37.063Z"
   },
   {
    "duration": 393,
    "start_time": "2021-10-13T09:42:42.019Z"
   },
   {
    "duration": 13,
    "start_time": "2021-10-13T09:42:48.363Z"
   },
   {
    "duration": 95,
    "start_time": "2021-10-13T09:43:40.470Z"
   },
   {
    "duration": 25,
    "start_time": "2021-10-13T09:43:47.539Z"
   },
   {
    "duration": 27,
    "start_time": "2021-10-13T09:44:03.117Z"
   },
   {
    "duration": 25,
    "start_time": "2021-10-13T09:45:19.114Z"
   },
   {
    "duration": 26,
    "start_time": "2021-10-13T09:45:25.548Z"
   },
   {
    "duration": 28,
    "start_time": "2021-10-13T09:46:23.649Z"
   },
   {
    "duration": 28,
    "start_time": "2021-10-13T09:47:09.556Z"
   },
   {
    "duration": 70,
    "start_time": "2021-10-13T09:47:21.270Z"
   },
   {
    "duration": 156,
    "start_time": "2021-10-13T09:47:35.663Z"
   },
   {
    "duration": 116,
    "start_time": "2021-10-13T09:47:45.258Z"
   },
   {
    "duration": 25,
    "start_time": "2021-10-13T09:48:10.165Z"
   },
   {
    "duration": 17,
    "start_time": "2021-10-13T09:48:27.438Z"
   },
   {
    "duration": 285,
    "start_time": "2021-10-13T09:55:36.637Z"
   },
   {
    "duration": 18,
    "start_time": "2021-10-13T09:56:02.571Z"
   },
   {
    "duration": 34,
    "start_time": "2021-10-13T09:56:14.090Z"
   },
   {
    "duration": 22,
    "start_time": "2021-10-13T09:56:39.390Z"
   },
   {
    "duration": 294,
    "start_time": "2021-10-13T09:58:44.952Z"
   },
   {
    "duration": 24,
    "start_time": "2021-10-13T09:58:57.098Z"
   },
   {
    "duration": 285,
    "start_time": "2021-10-13T10:00:04.735Z"
   },
   {
    "duration": 108,
    "start_time": "2021-10-13T10:00:34.654Z"
   },
   {
    "duration": 548,
    "start_time": "2021-10-13T10:00:47.597Z"
   },
   {
    "duration": 272,
    "start_time": "2021-10-13T10:01:26.561Z"
   },
   {
    "duration": 20,
    "start_time": "2021-10-13T10:02:47.060Z"
   },
   {
    "duration": 18,
    "start_time": "2021-10-13T10:03:16.368Z"
   },
   {
    "duration": 101,
    "start_time": "2021-10-14T06:50:33.061Z"
   },
   {
    "duration": 386,
    "start_time": "2021-10-14T06:50:59.183Z"
   },
   {
    "duration": 883,
    "start_time": "2021-10-14T06:51:12.418Z"
   },
   {
    "duration": 15,
    "start_time": "2021-10-14T06:51:13.304Z"
   },
   {
    "duration": 17,
    "start_time": "2021-10-14T06:51:13.322Z"
   },
   {
    "duration": 71,
    "start_time": "2021-10-14T06:51:13.342Z"
   },
   {
    "duration": 7,
    "start_time": "2021-10-14T06:51:13.415Z"
   },
   {
    "duration": 19,
    "start_time": "2021-10-14T06:51:13.424Z"
   },
   {
    "duration": 10,
    "start_time": "2021-10-14T06:51:13.445Z"
   },
   {
    "duration": 19,
    "start_time": "2021-10-14T06:51:13.459Z"
   },
   {
    "duration": 5,
    "start_time": "2021-10-14T06:51:13.501Z"
   },
   {
    "duration": 45,
    "start_time": "2021-10-14T06:51:13.508Z"
   },
   {
    "duration": 4626,
    "start_time": "2021-10-14T06:51:13.555Z"
   },
   {
    "duration": 21,
    "start_time": "2021-10-14T06:51:18.184Z"
   },
   {
    "duration": 12,
    "start_time": "2021-10-14T06:51:18.207Z"
   },
   {
    "duration": 7,
    "start_time": "2021-10-14T06:51:18.221Z"
   },
   {
    "duration": 9,
    "start_time": "2021-10-14T06:51:18.230Z"
   },
   {
    "duration": 11,
    "start_time": "2021-10-14T06:51:18.241Z"
   },
   {
    "duration": 53,
    "start_time": "2021-10-14T06:51:18.254Z"
   },
   {
    "duration": 9,
    "start_time": "2021-10-14T06:51:18.309Z"
   },
   {
    "duration": 35,
    "start_time": "2021-10-14T06:51:18.320Z"
   },
   {
    "duration": 8,
    "start_time": "2021-10-14T06:51:18.357Z"
   },
   {
    "duration": 36,
    "start_time": "2021-10-14T06:51:18.401Z"
   },
   {
    "duration": 7,
    "start_time": "2021-10-14T06:51:18.439Z"
   },
   {
    "duration": 9,
    "start_time": "2021-10-14T06:51:18.452Z"
   },
   {
    "duration": 41,
    "start_time": "2021-10-14T06:51:18.464Z"
   },
   {
    "duration": 48,
    "start_time": "2021-10-14T06:51:18.508Z"
   },
   {
    "duration": 454,
    "start_time": "2021-10-14T06:51:18.558Z"
   },
   {
    "duration": -705,
    "start_time": "2021-10-14T06:51:19.719Z"
   },
   {
    "duration": -714,
    "start_time": "2021-10-14T06:51:19.730Z"
   },
   {
    "duration": -719,
    "start_time": "2021-10-14T06:51:19.736Z"
   },
   {
    "duration": -722,
    "start_time": "2021-10-14T06:51:19.741Z"
   },
   {
    "duration": -727,
    "start_time": "2021-10-14T06:51:19.748Z"
   },
   {
    "duration": -732,
    "start_time": "2021-10-14T06:51:19.754Z"
   },
   {
    "duration": -736,
    "start_time": "2021-10-14T06:51:19.760Z"
   },
   {
    "duration": -741,
    "start_time": "2021-10-14T06:51:19.766Z"
   },
   {
    "duration": -745,
    "start_time": "2021-10-14T06:51:19.772Z"
   },
   {
    "duration": -749,
    "start_time": "2021-10-14T06:51:19.777Z"
   },
   {
    "duration": -752,
    "start_time": "2021-10-14T06:51:19.783Z"
   },
   {
    "duration": -1043,
    "start_time": "2021-10-14T06:51:20.075Z"
   },
   {
    "duration": -1049,
    "start_time": "2021-10-14T06:51:20.082Z"
   },
   {
    "duration": -1054,
    "start_time": "2021-10-14T06:51:20.089Z"
   },
   {
    "duration": -1058,
    "start_time": "2021-10-14T06:51:20.095Z"
   },
   {
    "duration": -1063,
    "start_time": "2021-10-14T06:51:20.101Z"
   },
   {
    "duration": -1079,
    "start_time": "2021-10-14T06:51:20.119Z"
   },
   {
    "duration": -1087,
    "start_time": "2021-10-14T06:51:20.128Z"
   },
   {
    "duration": -1093,
    "start_time": "2021-10-14T06:51:20.136Z"
   },
   {
    "duration": -1108,
    "start_time": "2021-10-14T06:51:20.152Z"
   },
   {
    "duration": -1112,
    "start_time": "2021-10-14T06:51:20.158Z"
   },
   {
    "duration": -1117,
    "start_time": "2021-10-14T06:51:20.164Z"
   },
   {
    "duration": -1073,
    "start_time": "2021-10-14T06:51:20.173Z"
   },
   {
    "duration": -1076,
    "start_time": "2021-10-14T06:51:20.178Z"
   },
   {
    "duration": -1080,
    "start_time": "2021-10-14T06:51:20.184Z"
   },
   {
    "duration": -1084,
    "start_time": "2021-10-14T06:51:20.189Z"
   },
   {
    "duration": -1089,
    "start_time": "2021-10-14T06:51:20.195Z"
   },
   {
    "duration": -1092,
    "start_time": "2021-10-14T06:51:20.200Z"
   },
   {
    "duration": -1097,
    "start_time": "2021-10-14T06:51:20.206Z"
   },
   {
    "duration": -1100,
    "start_time": "2021-10-14T06:51:20.211Z"
   },
   {
    "duration": -1118,
    "start_time": "2021-10-14T06:51:20.231Z"
   },
   {
    "duration": -1133,
    "start_time": "2021-10-14T06:51:20.247Z"
   },
   {
    "duration": 375,
    "start_time": "2021-10-14T06:51:23.770Z"
   },
   {
    "duration": 334,
    "start_time": "2021-10-14T06:52:29.403Z"
   },
   {
    "duration": 478,
    "start_time": "2021-10-14T06:54:13.886Z"
   },
   {
    "duration": 5,
    "start_time": "2021-10-14T06:54:46.144Z"
   },
   {
    "duration": 5,
    "start_time": "2021-10-14T06:54:50.985Z"
   },
   {
    "duration": 8,
    "start_time": "2021-10-14T06:55:02.284Z"
   },
   {
    "duration": 11,
    "start_time": "2021-10-14T06:55:13.329Z"
   },
   {
    "duration": 10,
    "start_time": "2021-10-14T06:55:16.540Z"
   },
   {
    "duration": 11,
    "start_time": "2021-10-14T06:55:29.258Z"
   },
   {
    "duration": 901,
    "start_time": "2021-10-14T06:55:36.382Z"
   },
   {
    "duration": 14,
    "start_time": "2021-10-14T06:55:37.286Z"
   },
   {
    "duration": 12,
    "start_time": "2021-10-14T06:55:37.303Z"
   },
   {
    "duration": 39,
    "start_time": "2021-10-14T06:55:37.318Z"
   },
   {
    "duration": 7,
    "start_time": "2021-10-14T06:55:37.360Z"
   },
   {
    "duration": 39,
    "start_time": "2021-10-14T06:55:37.369Z"
   },
   {
    "duration": 7,
    "start_time": "2021-10-14T06:55:37.411Z"
   },
   {
    "duration": 12,
    "start_time": "2021-10-14T06:55:37.422Z"
   },
   {
    "duration": 10,
    "start_time": "2021-10-14T06:55:37.438Z"
   },
   {
    "duration": 75,
    "start_time": "2021-10-14T06:55:37.450Z"
   },
   {
    "duration": 4614,
    "start_time": "2021-10-14T06:55:37.528Z"
   },
   {
    "duration": 12,
    "start_time": "2021-10-14T06:55:42.145Z"
   },
   {
    "duration": 11,
    "start_time": "2021-10-14T06:55:42.159Z"
   },
   {
    "duration": 34,
    "start_time": "2021-10-14T06:55:42.172Z"
   },
   {
    "duration": 6,
    "start_time": "2021-10-14T06:55:42.209Z"
   },
   {
    "duration": 11,
    "start_time": "2021-10-14T06:55:42.218Z"
   },
   {
    "duration": 9,
    "start_time": "2021-10-14T06:55:42.232Z"
   },
   {
    "duration": 56,
    "start_time": "2021-10-14T06:55:42.244Z"
   },
   {
    "duration": 38,
    "start_time": "2021-10-14T06:55:42.302Z"
   },
   {
    "duration": 9,
    "start_time": "2021-10-14T06:55:42.342Z"
   },
   {
    "duration": 68,
    "start_time": "2021-10-14T06:55:42.354Z"
   },
   {
    "duration": 8,
    "start_time": "2021-10-14T06:55:42.424Z"
   },
   {
    "duration": 12,
    "start_time": "2021-10-14T06:55:42.438Z"
   },
   {
    "duration": 10,
    "start_time": "2021-10-14T06:55:42.453Z"
   },
   {
    "duration": 77,
    "start_time": "2021-10-14T06:55:42.465Z"
   },
   {
    "duration": 7,
    "start_time": "2021-10-14T06:55:42.545Z"
   },
   {
    "duration": 53,
    "start_time": "2021-10-14T06:55:42.554Z"
   },
   {
    "duration": 68,
    "start_time": "2021-10-14T06:55:42.609Z"
   },
   {
    "duration": 80,
    "start_time": "2021-10-14T06:55:42.679Z"
   },
   {
    "duration": 42,
    "start_time": "2021-10-14T06:55:42.762Z"
   },
   {
    "duration": 5,
    "start_time": "2021-10-14T06:55:42.808Z"
   },
   {
    "duration": 67,
    "start_time": "2021-10-14T06:55:42.816Z"
   },
   {
    "duration": 8,
    "start_time": "2021-10-14T06:55:42.900Z"
   },
   {
    "duration": 7,
    "start_time": "2021-10-14T06:55:42.911Z"
   },
   {
    "duration": 15,
    "start_time": "2021-10-14T06:55:42.920Z"
   },
   {
    "duration": 5,
    "start_time": "2021-10-14T06:55:42.938Z"
   },
   {
    "duration": 981,
    "start_time": "2021-10-14T06:55:42.946Z"
   },
   {
    "duration": 4,
    "start_time": "2021-10-14T06:55:43.931Z"
   },
   {
    "duration": 23,
    "start_time": "2021-10-14T06:55:43.938Z"
   },
   {
    "duration": 21,
    "start_time": "2021-10-14T06:55:43.965Z"
   },
   {
    "duration": 8,
    "start_time": "2021-10-14T06:55:44.000Z"
   },
   {
    "duration": 6,
    "start_time": "2021-10-14T06:55:44.011Z"
   },
   {
    "duration": 2105,
    "start_time": "2021-10-14T06:55:44.019Z"
   },
   {
    "duration": 10,
    "start_time": "2021-10-14T06:55:46.126Z"
   },
   {
    "duration": 27,
    "start_time": "2021-10-14T06:55:46.139Z"
   },
   {
    "duration": 92,
    "start_time": "2021-10-14T06:55:46.168Z"
   },
   {
    "duration": 4,
    "start_time": "2021-10-14T06:55:46.262Z"
   },
   {
    "duration": 33,
    "start_time": "2021-10-14T06:55:46.268Z"
   },
   {
    "duration": 60,
    "start_time": "2021-10-14T06:55:46.304Z"
   },
   {
    "duration": 12,
    "start_time": "2021-10-14T06:55:46.366Z"
   },
   {
    "duration": 37,
    "start_time": "2021-10-14T06:55:46.380Z"
   },
   {
    "duration": 85,
    "start_time": "2021-10-14T06:55:46.420Z"
   },
   {
    "duration": 13,
    "start_time": "2021-10-14T06:55:46.508Z"
   },
   {
    "duration": 46,
    "start_time": "2021-10-14T06:55:46.523Z"
   },
   {
    "duration": 91,
    "start_time": "2021-10-14T06:55:46.572Z"
   },
   {
    "duration": 15,
    "start_time": "2021-10-14T06:55:46.665Z"
   },
   {
    "duration": 71,
    "start_time": "2021-10-14T06:55:46.682Z"
   },
   {
    "duration": 13,
    "start_time": "2021-10-14T06:55:46.755Z"
   },
   {
    "duration": 12,
    "start_time": "2021-10-14T06:55:56.041Z"
   },
   {
    "duration": 8,
    "start_time": "2021-10-14T06:56:05.799Z"
   },
   {
    "duration": 70,
    "start_time": "2021-10-14T06:56:15.648Z"
   },
   {
    "duration": 11,
    "start_time": "2021-10-14T06:56:32.296Z"
   },
   {
    "duration": 12,
    "start_time": "2021-10-14T06:56:45.976Z"
   },
   {
    "duration": 12,
    "start_time": "2021-10-14T06:57:31.501Z"
   },
   {
    "duration": 52,
    "start_time": "2021-10-14T06:57:58.106Z"
   },
   {
    "duration": 423,
    "start_time": "2021-10-14T06:59:36.432Z"
   },
   {
    "duration": 1809,
    "start_time": "2021-10-14T06:59:49.163Z"
   },
   {
    "duration": 6,
    "start_time": "2021-10-14T07:00:09.795Z"
   },
   {
    "duration": 5,
    "start_time": "2021-10-14T07:00:40.227Z"
   },
   {
    "duration": 10,
    "start_time": "2021-10-14T07:00:48.676Z"
   },
   {
    "duration": 380,
    "start_time": "2021-10-14T07:01:19.450Z"
   },
   {
    "duration": 6,
    "start_time": "2021-10-14T07:01:26.884Z"
   },
   {
    "duration": 881,
    "start_time": "2021-10-14T07:06:08.223Z"
   },
   {
    "duration": 15,
    "start_time": "2021-10-14T07:06:09.106Z"
   },
   {
    "duration": 14,
    "start_time": "2021-10-14T07:06:09.124Z"
   },
   {
    "duration": 69,
    "start_time": "2021-10-14T07:06:09.141Z"
   },
   {
    "duration": 7,
    "start_time": "2021-10-14T07:06:09.212Z"
   },
   {
    "duration": 15,
    "start_time": "2021-10-14T07:06:09.221Z"
   },
   {
    "duration": 9,
    "start_time": "2021-10-14T07:06:09.239Z"
   },
   {
    "duration": 54,
    "start_time": "2021-10-14T07:06:09.252Z"
   },
   {
    "duration": 6,
    "start_time": "2021-10-14T07:06:09.309Z"
   },
   {
    "duration": 54,
    "start_time": "2021-10-14T07:06:09.318Z"
   },
   {
    "duration": 4797,
    "start_time": "2021-10-14T07:06:09.374Z"
   },
   {
    "duration": 12,
    "start_time": "2021-10-14T07:06:14.173Z"
   },
   {
    "duration": 12,
    "start_time": "2021-10-14T07:06:14.201Z"
   },
   {
    "duration": 7,
    "start_time": "2021-10-14T07:06:14.215Z"
   },
   {
    "duration": 6,
    "start_time": "2021-10-14T07:06:14.224Z"
   },
   {
    "duration": 11,
    "start_time": "2021-10-14T07:06:14.233Z"
   },
   {
    "duration": 56,
    "start_time": "2021-10-14T07:06:14.246Z"
   },
   {
    "duration": 9,
    "start_time": "2021-10-14T07:06:14.304Z"
   },
   {
    "duration": 36,
    "start_time": "2021-10-14T07:06:14.316Z"
   },
   {
    "duration": 7,
    "start_time": "2021-10-14T07:06:14.355Z"
   },
   {
    "duration": 66,
    "start_time": "2021-10-14T07:06:14.364Z"
   },
   {
    "duration": 8,
    "start_time": "2021-10-14T07:06:14.432Z"
   },
   {
    "duration": 12,
    "start_time": "2021-10-14T07:06:14.446Z"
   },
   {
    "duration": 42,
    "start_time": "2021-10-14T07:06:14.461Z"
   },
   {
    "duration": 47,
    "start_time": "2021-10-14T07:06:14.505Z"
   },
   {
    "duration": 10,
    "start_time": "2021-10-14T07:06:14.554Z"
   },
   {
    "duration": 29,
    "start_time": "2021-10-14T07:06:14.601Z"
   },
   {
    "duration": 84,
    "start_time": "2021-10-14T07:06:14.633Z"
   },
   {
    "duration": 96,
    "start_time": "2021-10-14T07:06:14.719Z"
   },
   {
    "duration": 11,
    "start_time": "2021-10-14T07:06:14.817Z"
   },
   {
    "duration": 5,
    "start_time": "2021-10-14T07:06:14.830Z"
   },
   {
    "duration": 11,
    "start_time": "2021-10-14T07:06:14.837Z"
   },
   {
    "duration": 78,
    "start_time": "2021-10-14T07:06:14.850Z"
   },
   {
    "duration": 6,
    "start_time": "2021-10-14T07:06:14.931Z"
   },
   {
    "duration": 6,
    "start_time": "2021-10-14T07:06:14.940Z"
   },
   {
    "duration": 18,
    "start_time": "2021-10-14T07:06:14.948Z"
   },
   {
    "duration": 4,
    "start_time": "2021-10-14T07:06:14.968Z"
   },
   {
    "duration": 962,
    "start_time": "2021-10-14T07:06:14.974Z"
   },
   {
    "duration": 3,
    "start_time": "2021-10-14T07:06:15.939Z"
   },
   {
    "duration": 20,
    "start_time": "2021-10-14T07:06:15.945Z"
   },
   {
    "duration": 5,
    "start_time": "2021-10-14T07:06:15.968Z"
   },
   {
    "duration": 6,
    "start_time": "2021-10-14T07:06:16.001Z"
   },
   {
    "duration": 8,
    "start_time": "2021-10-14T07:06:16.009Z"
   },
   {
    "duration": 2259,
    "start_time": "2021-10-14T07:06:16.019Z"
   },
   {
    "duration": 22,
    "start_time": "2021-10-14T07:06:18.280Z"
   },
   {
    "duration": 40,
    "start_time": "2021-10-14T07:06:18.305Z"
   },
   {
    "duration": 85,
    "start_time": "2021-10-14T07:06:18.348Z"
   },
   {
    "duration": 5,
    "start_time": "2021-10-14T07:06:18.436Z"
   },
   {
    "duration": 33,
    "start_time": "2021-10-14T07:06:18.443Z"
   },
   {
    "duration": 83,
    "start_time": "2021-10-14T07:06:18.479Z"
   },
   {
    "duration": 13,
    "start_time": "2021-10-14T07:06:18.565Z"
   },
   {
    "duration": 37,
    "start_time": "2021-10-14T07:06:18.581Z"
   },
   {
    "duration": 63,
    "start_time": "2021-10-14T07:06:18.621Z"
   },
   {
    "duration": 25,
    "start_time": "2021-10-14T07:06:18.686Z"
   },
   {
    "duration": 59,
    "start_time": "2021-10-14T07:06:18.714Z"
   },
   {
    "duration": 85,
    "start_time": "2021-10-14T07:06:18.776Z"
   },
   {
    "duration": 15,
    "start_time": "2021-10-14T07:06:18.864Z"
   },
   {
    "duration": 57,
    "start_time": "2021-10-14T07:06:18.901Z"
   },
   {
    "duration": 13,
    "start_time": "2021-10-14T07:06:18.961Z"
   },
   {
    "duration": 17,
    "start_time": "2021-10-14T07:06:21.428Z"
   },
   {
    "duration": 18,
    "start_time": "2021-10-14T07:37:09.729Z"
   },
   {
    "duration": 18,
    "start_time": "2021-10-14T07:40:50.494Z"
   },
   {
    "duration": 6,
    "start_time": "2021-10-14T07:43:42.914Z"
   },
   {
    "duration": 13,
    "start_time": "2021-10-14T07:43:58.017Z"
   },
   {
    "duration": 13,
    "start_time": "2021-10-14T07:44:50.164Z"
   },
   {
    "duration": 1658,
    "start_time": "2021-10-14T08:14:44.528Z"
   },
   {
    "duration": 187,
    "start_time": "2021-10-14T08:14:57.527Z"
   },
   {
    "duration": 9371,
    "start_time": "2021-10-14T08:15:03.416Z"
   },
   {
    "duration": 55,
    "start_time": "2021-10-14T08:15:21.966Z"
   },
   {
    "duration": 13,
    "start_time": "2021-10-14T08:15:24.596Z"
   },
   {
    "duration": 11,
    "start_time": "2021-10-14T08:17:39.980Z"
   },
   {
    "duration": 10,
    "start_time": "2021-10-14T08:18:17.215Z"
   },
   {
    "duration": 17,
    "start_time": "2021-10-14T08:18:30.522Z"
   },
   {
    "duration": 783,
    "start_time": "2021-10-14T08:18:55.553Z"
   },
   {
    "duration": 10,
    "start_time": "2021-10-14T08:19:10.987Z"
   },
   {
    "duration": 481,
    "start_time": "2021-10-14T08:19:30.943Z"
   },
   {
    "duration": 327,
    "start_time": "2021-10-14T08:20:14.738Z"
   },
   {
    "duration": 358,
    "start_time": "2021-10-14T08:20:45.560Z"
   },
   {
    "duration": 378,
    "start_time": "2021-10-14T08:20:55.451Z"
   },
   {
    "duration": 332,
    "start_time": "2021-10-14T08:21:10.659Z"
   },
   {
    "duration": 10,
    "start_time": "2021-10-14T08:21:19.484Z"
   },
   {
    "duration": 12,
    "start_time": "2021-10-14T08:22:06.775Z"
   },
   {
    "duration": 32,
    "start_time": "2021-10-14T08:22:14.664Z"
   },
   {
    "duration": 20,
    "start_time": "2021-10-14T08:22:29.986Z"
   },
   {
    "duration": 48,
    "start_time": "2021-10-14T08:51:53.730Z"
   },
   {
    "duration": 14,
    "start_time": "2021-10-14T08:55:31.143Z"
   },
   {
    "duration": 14,
    "start_time": "2021-10-14T08:55:38.369Z"
   },
   {
    "duration": 10,
    "start_time": "2021-10-14T08:55:47.068Z"
   },
   {
    "duration": 873,
    "start_time": "2021-10-14T08:56:06.440Z"
   },
   {
    "duration": 18,
    "start_time": "2021-10-14T08:56:07.317Z"
   },
   {
    "duration": 13,
    "start_time": "2021-10-14T08:56:07.338Z"
   },
   {
    "duration": 70,
    "start_time": "2021-10-14T08:56:07.354Z"
   },
   {
    "duration": 7,
    "start_time": "2021-10-14T08:56:07.426Z"
   },
   {
    "duration": 18,
    "start_time": "2021-10-14T08:56:07.436Z"
   },
   {
    "duration": 8,
    "start_time": "2021-10-14T08:56:07.457Z"
   },
   {
    "duration": 37,
    "start_time": "2021-10-14T08:56:07.469Z"
   },
   {
    "duration": 12,
    "start_time": "2021-10-14T08:56:07.509Z"
   },
   {
    "duration": 12,
    "start_time": "2021-10-14T08:56:07.523Z"
   },
   {
    "duration": 10,
    "start_time": "2021-10-14T08:56:07.537Z"
   },
   {
    "duration": 16,
    "start_time": "2021-10-14T08:56:07.549Z"
   },
   {
    "duration": 11,
    "start_time": "2021-10-14T08:56:07.600Z"
   },
   {
    "duration": 17,
    "start_time": "2021-10-14T08:56:07.614Z"
   },
   {
    "duration": 35,
    "start_time": "2021-10-14T08:56:07.633Z"
   },
   {
    "duration": 34,
    "start_time": "2021-10-14T08:56:07.671Z"
   },
   {
    "duration": 45,
    "start_time": "2021-10-14T08:56:07.707Z"
   },
   {
    "duration": 12,
    "start_time": "2021-10-14T08:56:07.754Z"
   },
   {
    "duration": 34,
    "start_time": "2021-10-14T08:56:07.768Z"
   },
   {
    "duration": 19,
    "start_time": "2021-10-14T08:56:07.805Z"
   },
   {
    "duration": 51,
    "start_time": "2021-10-14T08:56:07.827Z"
   },
   {
    "duration": 27,
    "start_time": "2021-10-14T08:56:07.880Z"
   },
   {
    "duration": 31,
    "start_time": "2021-10-14T08:56:07.912Z"
   },
   {
    "duration": 98,
    "start_time": "2021-10-14T08:56:07.946Z"
   },
   {
    "duration": 73,
    "start_time": "2021-10-14T08:56:08.047Z"
   },
   {
    "duration": 10,
    "start_time": "2021-10-14T08:56:08.122Z"
   },
   {
    "duration": 5,
    "start_time": "2021-10-14T08:56:08.135Z"
   },
   {
    "duration": 5,
    "start_time": "2021-10-14T08:56:08.142Z"
   },
   {
    "duration": 88,
    "start_time": "2021-10-14T08:56:08.149Z"
   },
   {
    "duration": 7,
    "start_time": "2021-10-14T08:56:08.240Z"
   },
   {
    "duration": 4,
    "start_time": "2021-10-14T08:56:08.249Z"
   },
   {
    "duration": 9,
    "start_time": "2021-10-14T08:56:08.256Z"
   },
   {
    "duration": 34,
    "start_time": "2021-10-14T08:56:08.267Z"
   },
   {
    "duration": 985,
    "start_time": "2021-10-14T08:56:08.304Z"
   },
   {
    "duration": 8,
    "start_time": "2021-10-14T08:56:09.292Z"
   },
   {
    "duration": 27,
    "start_time": "2021-10-14T08:56:09.302Z"
   },
   {
    "duration": 13,
    "start_time": "2021-10-14T08:56:09.331Z"
   },
   {
    "duration": 15,
    "start_time": "2021-10-14T08:56:09.347Z"
   },
   {
    "duration": 6,
    "start_time": "2021-10-14T08:56:09.364Z"
   },
   {
    "duration": 2049,
    "start_time": "2021-10-14T08:56:09.372Z"
   },
   {
    "duration": 11,
    "start_time": "2021-10-14T08:56:11.423Z"
   },
   {
    "duration": 28,
    "start_time": "2021-10-14T08:56:11.436Z"
   },
   {
    "duration": 98,
    "start_time": "2021-10-14T08:56:11.467Z"
   },
   {
    "duration": 4,
    "start_time": "2021-10-14T08:56:11.567Z"
   },
   {
    "duration": 37,
    "start_time": "2021-10-14T08:56:11.573Z"
   },
   {
    "duration": 64,
    "start_time": "2021-10-14T08:56:11.613Z"
   },
   {
    "duration": 30,
    "start_time": "2021-10-14T08:56:11.680Z"
   },
   {
    "duration": 24,
    "start_time": "2021-10-14T08:56:11.713Z"
   },
   {
    "duration": 13,
    "start_time": "2021-10-14T08:56:11.739Z"
   },
   {
    "duration": 95,
    "start_time": "2021-10-14T08:56:11.754Z"
   },
   {
    "duration": 12,
    "start_time": "2021-10-14T08:56:11.852Z"
   },
   {
    "duration": 74,
    "start_time": "2021-10-14T08:56:11.866Z"
   },
   {
    "duration": 13,
    "start_time": "2021-10-14T08:56:11.942Z"
   },
   {
    "duration": 15,
    "start_time": "2021-10-14T09:00:47.574Z"
   },
   {
    "duration": 13,
    "start_time": "2021-10-14T09:11:54.317Z"
   },
   {
    "duration": 877,
    "start_time": "2021-10-14T09:12:11.707Z"
   },
   {
    "duration": 15,
    "start_time": "2021-10-14T09:12:12.587Z"
   },
   {
    "duration": 19,
    "start_time": "2021-10-14T09:12:12.605Z"
   },
   {
    "duration": 38,
    "start_time": "2021-10-14T09:12:12.627Z"
   },
   {
    "duration": 7,
    "start_time": "2021-10-14T09:12:12.667Z"
   },
   {
    "duration": 31,
    "start_time": "2021-10-14T09:12:12.676Z"
   },
   {
    "duration": 16,
    "start_time": "2021-10-14T09:12:12.710Z"
   },
   {
    "duration": 11,
    "start_time": "2021-10-14T09:12:12.730Z"
   },
   {
    "duration": 12,
    "start_time": "2021-10-14T09:12:12.744Z"
   },
   {
    "duration": 54,
    "start_time": "2021-10-14T09:12:12.758Z"
   },
   {
    "duration": 28,
    "start_time": "2021-10-14T09:12:12.815Z"
   },
   {
    "duration": 11,
    "start_time": "2021-10-14T09:12:12.846Z"
   },
   {
    "duration": 18,
    "start_time": "2021-10-14T09:12:12.859Z"
   },
   {
    "duration": 22,
    "start_time": "2021-10-14T09:12:12.880Z"
   },
   {
    "duration": 12,
    "start_time": "2021-10-14T09:12:12.905Z"
   },
   {
    "duration": 49,
    "start_time": "2021-10-14T09:12:12.919Z"
   },
   {
    "duration": 66,
    "start_time": "2021-10-14T09:12:12.971Z"
   },
   {
    "duration": 19,
    "start_time": "2021-10-14T09:12:13.041Z"
   },
   {
    "duration": 18,
    "start_time": "2021-10-14T09:12:13.062Z"
   },
   {
    "duration": 20,
    "start_time": "2021-10-14T09:12:13.082Z"
   },
   {
    "duration": 59,
    "start_time": "2021-10-14T09:12:13.105Z"
   },
   {
    "duration": 8,
    "start_time": "2021-10-14T09:12:13.166Z"
   },
   {
    "duration": 35,
    "start_time": "2021-10-14T09:12:13.199Z"
   },
   {
    "duration": 82,
    "start_time": "2021-10-14T09:12:13.237Z"
   },
   {
    "duration": 63,
    "start_time": "2021-10-14T09:12:13.322Z"
   },
   {
    "duration": 11,
    "start_time": "2021-10-14T09:12:13.400Z"
   },
   {
    "duration": 14,
    "start_time": "2021-10-14T09:12:13.413Z"
   },
   {
    "duration": 18,
    "start_time": "2021-10-14T09:12:13.430Z"
   },
   {
    "duration": 65,
    "start_time": "2021-10-14T09:12:13.450Z"
   },
   {
    "duration": 6,
    "start_time": "2021-10-14T09:12:13.518Z"
   },
   {
    "duration": 13,
    "start_time": "2021-10-14T09:12:13.526Z"
   },
   {
    "duration": 11,
    "start_time": "2021-10-14T09:12:13.541Z"
   },
   {
    "duration": 6,
    "start_time": "2021-10-14T09:12:13.554Z"
   },
   {
    "duration": 1099,
    "start_time": "2021-10-14T09:12:13.562Z"
   },
   {
    "duration": 4,
    "start_time": "2021-10-14T09:12:14.664Z"
   },
   {
    "duration": 34,
    "start_time": "2021-10-14T09:12:14.671Z"
   },
   {
    "duration": 10,
    "start_time": "2021-10-14T09:12:14.708Z"
   },
   {
    "duration": 10,
    "start_time": "2021-10-14T09:12:14.720Z"
   },
   {
    "duration": 16,
    "start_time": "2021-10-14T09:12:14.732Z"
   },
   {
    "duration": 2094,
    "start_time": "2021-10-14T09:12:14.750Z"
   },
   {
    "duration": 11,
    "start_time": "2021-10-14T09:12:16.846Z"
   },
   {
    "duration": 49,
    "start_time": "2021-10-14T09:12:16.859Z"
   },
   {
    "duration": 72,
    "start_time": "2021-10-14T09:12:16.911Z"
   },
   {
    "duration": 4,
    "start_time": "2021-10-14T09:12:17.001Z"
   },
   {
    "duration": 21,
    "start_time": "2021-10-14T09:12:17.008Z"
   },
   {
    "duration": 85,
    "start_time": "2021-10-14T09:12:17.032Z"
   },
   {
    "duration": 14,
    "start_time": "2021-10-14T09:12:17.120Z"
   },
   {
    "duration": 28,
    "start_time": "2021-10-14T09:12:17.137Z"
   },
   {
    "duration": 39,
    "start_time": "2021-10-14T09:12:17.168Z"
   },
   {
    "duration": 71,
    "start_time": "2021-10-14T09:12:17.210Z"
   },
   {
    "duration": 25,
    "start_time": "2021-10-14T09:12:17.284Z"
   },
   {
    "duration": 72,
    "start_time": "2021-10-14T09:12:17.312Z"
   },
   {
    "duration": 19,
    "start_time": "2021-10-14T09:12:17.386Z"
   },
   {
    "duration": 13,
    "start_time": "2021-10-14T09:12:57.255Z"
   },
   {
    "duration": 926,
    "start_time": "2021-10-14T09:28:03.663Z"
   },
   {
    "duration": 58,
    "start_time": "2021-10-14T09:28:04.592Z"
   },
   {
    "duration": 12,
    "start_time": "2021-10-14T09:28:04.654Z"
   },
   {
    "duration": 37,
    "start_time": "2021-10-14T09:28:04.668Z"
   },
   {
    "duration": 7,
    "start_time": "2021-10-14T09:28:04.707Z"
   },
   {
    "duration": 18,
    "start_time": "2021-10-14T09:28:04.716Z"
   },
   {
    "duration": 7,
    "start_time": "2021-10-14T09:28:04.736Z"
   },
   {
    "duration": 11,
    "start_time": "2021-10-14T09:28:04.746Z"
   },
   {
    "duration": 42,
    "start_time": "2021-10-14T09:28:04.760Z"
   },
   {
    "duration": 12,
    "start_time": "2021-10-14T09:28:04.804Z"
   },
   {
    "duration": 10,
    "start_time": "2021-10-14T09:28:04.818Z"
   },
   {
    "duration": 15,
    "start_time": "2021-10-14T09:28:04.830Z"
   },
   {
    "duration": 6,
    "start_time": "2021-10-14T09:28:04.847Z"
   },
   {
    "duration": 54,
    "start_time": "2021-10-14T09:28:04.855Z"
   },
   {
    "duration": 9,
    "start_time": "2021-10-14T09:28:04.911Z"
   },
   {
    "duration": 9,
    "start_time": "2021-10-14T09:28:04.923Z"
   },
   {
    "duration": 67,
    "start_time": "2021-10-14T09:28:04.935Z"
   },
   {
    "duration": 39,
    "start_time": "2021-10-14T09:28:05.004Z"
   },
   {
    "duration": 20,
    "start_time": "2021-10-14T09:28:05.045Z"
   },
   {
    "duration": 12,
    "start_time": "2021-10-14T09:28:05.068Z"
   },
   {
    "duration": 7,
    "start_time": "2021-10-14T09:28:05.101Z"
   },
   {
    "duration": 57,
    "start_time": "2021-10-14T09:28:05.111Z"
   },
   {
    "duration": 29,
    "start_time": "2021-10-14T09:28:05.173Z"
   },
   {
    "duration": 36,
    "start_time": "2021-10-14T09:28:05.205Z"
   },
   {
    "duration": 91,
    "start_time": "2021-10-14T09:28:05.244Z"
   },
   {
    "duration": 76,
    "start_time": "2021-10-14T09:28:05.337Z"
   },
   {
    "duration": 11,
    "start_time": "2021-10-14T09:28:05.416Z"
   },
   {
    "duration": 5,
    "start_time": "2021-10-14T09:28:05.429Z"
   },
   {
    "duration": 5,
    "start_time": "2021-10-14T09:28:05.436Z"
   },
   {
    "duration": 84,
    "start_time": "2021-10-14T09:28:05.444Z"
   },
   {
    "duration": 7,
    "start_time": "2021-10-14T09:28:05.531Z"
   },
   {
    "duration": 16,
    "start_time": "2021-10-14T09:28:05.541Z"
   },
   {
    "duration": 13,
    "start_time": "2021-10-14T09:28:05.559Z"
   },
   {
    "duration": 4,
    "start_time": "2021-10-14T09:28:05.575Z"
   },
   {
    "duration": 988,
    "start_time": "2021-10-14T09:28:05.601Z"
   },
   {
    "duration": 11,
    "start_time": "2021-10-14T09:28:06.593Z"
   },
   {
    "duration": 19,
    "start_time": "2021-10-14T09:28:06.607Z"
   },
   {
    "duration": 7,
    "start_time": "2021-10-14T09:28:06.629Z"
   },
   {
    "duration": 8,
    "start_time": "2021-10-14T09:28:06.639Z"
   },
   {
    "duration": 53,
    "start_time": "2021-10-14T09:28:06.650Z"
   },
   {
    "duration": 2015,
    "start_time": "2021-10-14T09:28:06.706Z"
   },
   {
    "duration": 10,
    "start_time": "2021-10-14T09:28:08.723Z"
   },
   {
    "duration": 29,
    "start_time": "2021-10-14T09:28:08.736Z"
   },
   {
    "duration": 95,
    "start_time": "2021-10-14T09:28:08.767Z"
   },
   {
    "duration": 4,
    "start_time": "2021-10-14T09:28:08.864Z"
   },
   {
    "duration": 31,
    "start_time": "2021-10-14T09:28:08.870Z"
   },
   {
    "duration": 62,
    "start_time": "2021-10-14T09:28:08.904Z"
   },
   {
    "duration": 34,
    "start_time": "2021-10-14T09:28:08.968Z"
   },
   {
    "duration": 19,
    "start_time": "2021-10-14T09:28:09.004Z"
   },
   {
    "duration": 12,
    "start_time": "2021-10-14T09:28:09.026Z"
   },
   {
    "duration": 96,
    "start_time": "2021-10-14T09:28:09.040Z"
   },
   {
    "duration": 13,
    "start_time": "2021-10-14T09:28:09.138Z"
   },
   {
    "duration": 75,
    "start_time": "2021-10-14T09:28:09.153Z"
   },
   {
    "duration": 13,
    "start_time": "2021-10-14T09:28:09.230Z"
   },
   {
    "duration": 34,
    "start_time": "2021-10-14T09:30:27.029Z"
   },
   {
    "duration": 420,
    "start_time": "2021-10-14T09:45:20.998Z"
   },
   {
    "duration": 6,
    "start_time": "2021-10-14T09:45:25.812Z"
   },
   {
    "duration": 9,
    "start_time": "2021-10-14T09:45:45.009Z"
   },
   {
    "duration": 11,
    "start_time": "2021-10-14T09:45:59.172Z"
   },
   {
    "duration": 50,
    "start_time": "2021-10-14T10:04:19.655Z"
   },
   {
    "duration": 893,
    "start_time": "2021-10-14T10:11:02.899Z"
   },
   {
    "duration": 15,
    "start_time": "2021-10-14T10:11:03.795Z"
   },
   {
    "duration": 12,
    "start_time": "2021-10-14T10:11:03.813Z"
   },
   {
    "duration": 37,
    "start_time": "2021-10-14T10:11:03.827Z"
   },
   {
    "duration": 37,
    "start_time": "2021-10-14T10:11:03.867Z"
   },
   {
    "duration": 14,
    "start_time": "2021-10-14T10:11:03.906Z"
   },
   {
    "duration": 17,
    "start_time": "2021-10-14T10:11:03.923Z"
   },
   {
    "duration": 12,
    "start_time": "2021-10-14T10:11:03.945Z"
   },
   {
    "duration": 11,
    "start_time": "2021-10-14T10:11:03.960Z"
   },
   {
    "duration": 13,
    "start_time": "2021-10-14T10:11:04.001Z"
   },
   {
    "duration": 7,
    "start_time": "2021-10-14T10:11:04.017Z"
   },
   {
    "duration": 15,
    "start_time": "2021-10-14T10:11:04.027Z"
   },
   {
    "duration": 5,
    "start_time": "2021-10-14T10:11:04.045Z"
   },
   {
    "duration": 54,
    "start_time": "2021-10-14T10:11:04.052Z"
   },
   {
    "duration": 10,
    "start_time": "2021-10-14T10:11:04.108Z"
   },
   {
    "duration": 11,
    "start_time": "2021-10-14T10:11:04.121Z"
   },
   {
    "duration": 70,
    "start_time": "2021-10-14T10:11:04.134Z"
   },
   {
    "duration": 37,
    "start_time": "2021-10-14T10:11:04.206Z"
   },
   {
    "duration": 8,
    "start_time": "2021-10-14T10:11:04.246Z"
   },
   {
    "duration": 20,
    "start_time": "2021-10-14T10:11:04.256Z"
   },
   {
    "duration": 6,
    "start_time": "2021-10-14T10:11:04.301Z"
   },
   {
    "duration": 49,
    "start_time": "2021-10-14T10:11:04.310Z"
   },
   {
    "duration": 38,
    "start_time": "2021-10-14T10:11:04.364Z"
   },
   {
    "duration": 31,
    "start_time": "2021-10-14T10:11:04.405Z"
   },
   {
    "duration": 88,
    "start_time": "2021-10-14T10:11:04.439Z"
   },
   {
    "duration": 12,
    "start_time": "2021-10-14T10:11:04.529Z"
   },
   {
    "duration": 4,
    "start_time": "2021-10-14T10:11:04.543Z"
   },
   {
    "duration": 76,
    "start_time": "2021-10-14T10:11:04.549Z"
   },
   {
    "duration": 9,
    "start_time": "2021-10-14T10:11:04.627Z"
   },
   {
    "duration": 9,
    "start_time": "2021-10-14T10:11:04.638Z"
   },
   {
    "duration": 4,
    "start_time": "2021-10-14T10:11:04.650Z"
   },
   {
    "duration": 11,
    "start_time": "2021-10-14T10:11:04.656Z"
   },
   {
    "duration": 31,
    "start_time": "2021-10-14T10:11:04.670Z"
   },
   {
    "duration": 979,
    "start_time": "2021-10-14T10:11:04.703Z"
   },
   {
    "duration": 4,
    "start_time": "2021-10-14T10:11:05.684Z"
   },
   {
    "duration": 29,
    "start_time": "2021-10-14T10:11:05.690Z"
   },
   {
    "duration": 7,
    "start_time": "2021-10-14T10:11:05.722Z"
   },
   {
    "duration": 8,
    "start_time": "2021-10-14T10:11:05.731Z"
   },
   {
    "duration": 6,
    "start_time": "2021-10-14T10:11:05.741Z"
   },
   {
    "duration": 2085,
    "start_time": "2021-10-14T10:11:05.750Z"
   },
   {
    "duration": 11,
    "start_time": "2021-10-14T10:11:07.837Z"
   },
   {
    "duration": 103,
    "start_time": "2021-10-14T10:11:07.850Z"
   },
   {
    "duration": 4,
    "start_time": "2021-10-14T10:11:07.956Z"
   },
   {
    "duration": 38,
    "start_time": "2021-10-14T10:11:07.962Z"
   },
   {
    "duration": 62,
    "start_time": "2021-10-14T10:11:08.003Z"
   },
   {
    "duration": 12,
    "start_time": "2021-10-14T10:11:08.068Z"
   },
   {
    "duration": 17,
    "start_time": "2021-10-14T10:11:08.101Z"
   },
   {
    "duration": 13,
    "start_time": "2021-10-14T10:11:08.120Z"
   },
   {
    "duration": 89,
    "start_time": "2021-10-14T10:11:08.135Z"
   },
   {
    "duration": 12,
    "start_time": "2021-10-14T10:11:08.226Z"
   },
   {
    "duration": 76,
    "start_time": "2021-10-14T10:11:08.240Z"
   },
   {
    "duration": 12,
    "start_time": "2021-10-14T10:11:08.319Z"
   },
   {
    "duration": 834,
    "start_time": "2021-10-15T06:22:55.346Z"
   },
   {
    "duration": 15,
    "start_time": "2021-10-15T06:22:56.182Z"
   },
   {
    "duration": 13,
    "start_time": "2021-10-15T06:22:56.200Z"
   },
   {
    "duration": 65,
    "start_time": "2021-10-15T06:22:56.216Z"
   },
   {
    "duration": 6,
    "start_time": "2021-10-15T06:22:56.283Z"
   },
   {
    "duration": 11,
    "start_time": "2021-10-15T06:22:56.292Z"
   },
   {
    "duration": 7,
    "start_time": "2021-10-15T06:22:56.305Z"
   },
   {
    "duration": 12,
    "start_time": "2021-10-15T06:22:56.315Z"
   },
   {
    "duration": 13,
    "start_time": "2021-10-15T06:22:56.369Z"
   },
   {
    "duration": 12,
    "start_time": "2021-10-15T06:22:56.385Z"
   },
   {
    "duration": 7,
    "start_time": "2021-10-15T06:22:56.399Z"
   },
   {
    "duration": 12,
    "start_time": "2021-10-15T06:22:56.408Z"
   },
   {
    "duration": 48,
    "start_time": "2021-10-15T06:22:56.423Z"
   },
   {
    "duration": 14,
    "start_time": "2021-10-15T06:22:56.473Z"
   },
   {
    "duration": 10,
    "start_time": "2021-10-15T06:22:56.489Z"
   },
   {
    "duration": 11,
    "start_time": "2021-10-15T06:22:56.501Z"
   },
   {
    "duration": 75,
    "start_time": "2021-10-15T06:22:56.514Z"
   },
   {
    "duration": 37,
    "start_time": "2021-10-15T06:22:56.592Z"
   },
   {
    "duration": 35,
    "start_time": "2021-10-15T06:22:56.632Z"
   },
   {
    "duration": 11,
    "start_time": "2021-10-15T06:22:56.670Z"
   },
   {
    "duration": 9,
    "start_time": "2021-10-15T06:22:56.683Z"
   },
   {
    "duration": 80,
    "start_time": "2021-10-15T06:22:56.695Z"
   },
   {
    "duration": 9,
    "start_time": "2021-10-15T06:22:56.777Z"
   },
   {
    "duration": 40,
    "start_time": "2021-10-15T06:22:56.788Z"
   },
   {
    "duration": 102,
    "start_time": "2021-10-15T06:22:56.832Z"
   },
   {
    "duration": 10,
    "start_time": "2021-10-15T06:22:56.937Z"
   },
   {
    "duration": 4,
    "start_time": "2021-10-15T06:22:56.971Z"
   },
   {
    "duration": 50,
    "start_time": "2021-10-15T06:22:56.978Z"
   },
   {
    "duration": 37,
    "start_time": "2021-10-15T06:22:57.030Z"
   },
   {
    "duration": 6,
    "start_time": "2021-10-15T06:22:57.070Z"
   },
   {
    "duration": 4,
    "start_time": "2021-10-15T06:22:57.079Z"
   },
   {
    "duration": 11,
    "start_time": "2021-10-15T06:22:57.085Z"
   },
   {
    "duration": 3,
    "start_time": "2021-10-15T06:22:57.099Z"
   },
   {
    "duration": 899,
    "start_time": "2021-10-15T06:31:13.329Z"
   },
   {
    "duration": 11,
    "start_time": "2021-10-15T06:36:25.490Z"
   },
   {
    "duration": 11,
    "start_time": "2021-10-15T06:36:55.375Z"
   },
   {
    "duration": 5,
    "start_time": "2021-10-15T06:37:05.815Z"
   },
   {
    "duration": 320,
    "start_time": "2021-10-15T06:38:31.741Z"
   },
   {
    "duration": 874,
    "start_time": "2021-10-15T06:38:36.837Z"
   },
   {
    "duration": 18,
    "start_time": "2021-10-15T06:38:37.713Z"
   },
   {
    "duration": 33,
    "start_time": "2021-10-15T06:38:37.735Z"
   },
   {
    "duration": 36,
    "start_time": "2021-10-15T06:38:37.772Z"
   },
   {
    "duration": 7,
    "start_time": "2021-10-15T06:38:37.810Z"
   },
   {
    "duration": 15,
    "start_time": "2021-10-15T06:38:37.820Z"
   },
   {
    "duration": 37,
    "start_time": "2021-10-15T06:38:37.837Z"
   },
   {
    "duration": 11,
    "start_time": "2021-10-15T06:38:37.878Z"
   },
   {
    "duration": 11,
    "start_time": "2021-10-15T06:38:37.892Z"
   },
   {
    "duration": 11,
    "start_time": "2021-10-15T06:38:37.906Z"
   },
   {
    "duration": 53,
    "start_time": "2021-10-15T06:38:37.920Z"
   },
   {
    "duration": 11,
    "start_time": "2021-10-15T06:38:37.975Z"
   },
   {
    "duration": 6,
    "start_time": "2021-10-15T06:38:37.988Z"
   },
   {
    "duration": 15,
    "start_time": "2021-10-15T06:38:37.996Z"
   },
   {
    "duration": 55,
    "start_time": "2021-10-15T06:38:38.013Z"
   },
   {
    "duration": 10,
    "start_time": "2021-10-15T06:38:38.070Z"
   },
   {
    "duration": 884,
    "start_time": "2021-10-15T06:38:38.083Z"
   },
   {
    "duration": 37,
    "start_time": "2021-10-15T06:38:38.969Z"
   },
   {
    "duration": 59,
    "start_time": "2021-10-15T06:38:39.009Z"
   },
   {
    "duration": 9,
    "start_time": "2021-10-15T06:38:39.071Z"
   },
   {
    "duration": 15,
    "start_time": "2021-10-15T06:38:39.082Z"
   },
   {
    "duration": 10,
    "start_time": "2021-10-15T06:38:39.099Z"
   },
   {
    "duration": 84,
    "start_time": "2021-10-15T06:38:39.116Z"
   },
   {
    "duration": 9,
    "start_time": "2021-10-15T06:38:39.203Z"
   },
   {
    "duration": 56,
    "start_time": "2021-10-15T06:38:39.214Z"
   },
   {
    "duration": 68,
    "start_time": "2021-10-15T06:38:39.273Z"
   },
   {
    "duration": 33,
    "start_time": "2021-10-15T06:38:39.343Z"
   },
   {
    "duration": 4,
    "start_time": "2021-10-15T06:38:39.379Z"
   },
   {
    "duration": 6,
    "start_time": "2021-10-15T06:38:39.385Z"
   },
   {
    "duration": 799,
    "start_time": "2021-10-15T06:40:46.611Z"
   },
   {
    "duration": 15,
    "start_time": "2021-10-15T06:40:47.413Z"
   },
   {
    "duration": 36,
    "start_time": "2021-10-15T06:40:47.435Z"
   },
   {
    "duration": 38,
    "start_time": "2021-10-15T06:40:47.474Z"
   },
   {
    "duration": 8,
    "start_time": "2021-10-15T06:40:47.515Z"
   },
   {
    "duration": 48,
    "start_time": "2021-10-15T06:40:47.526Z"
   },
   {
    "duration": 7,
    "start_time": "2021-10-15T06:40:47.578Z"
   },
   {
    "duration": 13,
    "start_time": "2021-10-15T06:40:47.589Z"
   },
   {
    "duration": 13,
    "start_time": "2021-10-15T06:40:47.605Z"
   },
   {
    "duration": 15,
    "start_time": "2021-10-15T06:40:47.666Z"
   },
   {
    "duration": 11,
    "start_time": "2021-10-15T06:40:47.684Z"
   },
   {
    "duration": 17,
    "start_time": "2021-10-15T06:40:47.698Z"
   },
   {
    "duration": 6,
    "start_time": "2021-10-15T06:40:47.718Z"
   },
   {
    "duration": 50,
    "start_time": "2021-10-15T06:40:47.727Z"
   },
   {
    "duration": 11,
    "start_time": "2021-10-15T06:40:47.779Z"
   },
   {
    "duration": 9,
    "start_time": "2021-10-15T06:40:47.792Z"
   },
   {
    "duration": 1020,
    "start_time": "2021-10-15T06:40:47.804Z"
   },
   {
    "duration": 43,
    "start_time": "2021-10-15T06:40:48.826Z"
   },
   {
    "duration": 38,
    "start_time": "2021-10-15T06:40:48.872Z"
   },
   {
    "duration": 10,
    "start_time": "2021-10-15T06:40:48.912Z"
   },
   {
    "duration": 45,
    "start_time": "2021-10-15T06:40:48.925Z"
   },
   {
    "duration": 7,
    "start_time": "2021-10-15T06:40:48.976Z"
   },
   {
    "duration": 48,
    "start_time": "2021-10-15T06:40:48.986Z"
   },
   {
    "duration": 9,
    "start_time": "2021-10-15T06:40:49.068Z"
   },
   {
    "duration": 31,
    "start_time": "2021-10-15T06:40:49.079Z"
   },
   {
    "duration": 96,
    "start_time": "2021-10-15T06:40:49.112Z"
   },
   {
    "duration": 11,
    "start_time": "2021-10-15T06:40:49.210Z"
   },
   {
    "duration": 4,
    "start_time": "2021-10-15T06:40:49.224Z"
   },
   {
    "duration": 76,
    "start_time": "2021-10-15T06:40:49.231Z"
   },
   {
    "duration": 10,
    "start_time": "2021-10-15T06:40:49.309Z"
   },
   {
    "duration": 11,
    "start_time": "2021-10-15T06:40:49.322Z"
   },
   {
    "duration": 34,
    "start_time": "2021-10-15T06:40:49.336Z"
   },
   {
    "duration": 10,
    "start_time": "2021-10-15T06:40:49.373Z"
   },
   {
    "duration": 4,
    "start_time": "2021-10-15T06:40:49.386Z"
   },
   {
    "duration": 996,
    "start_time": "2021-10-15T06:40:49.393Z"
   },
   {
    "duration": 4,
    "start_time": "2021-10-15T06:40:50.392Z"
   },
   {
    "duration": 19,
    "start_time": "2021-10-15T06:40:50.398Z"
   },
   {
    "duration": 6,
    "start_time": "2021-10-15T06:40:50.419Z"
   },
   {
    "duration": 10,
    "start_time": "2021-10-15T06:40:50.427Z"
   },
   {
    "duration": 8,
    "start_time": "2021-10-15T06:40:50.440Z"
   },
   {
    "duration": 2369,
    "start_time": "2021-10-15T06:40:50.451Z"
   },
   {
    "duration": 10,
    "start_time": "2021-10-15T06:40:52.823Z"
   },
   {
    "duration": 102,
    "start_time": "2021-10-15T06:40:52.836Z"
   },
   {
    "duration": 4,
    "start_time": "2021-10-15T06:40:52.941Z"
   },
   {
    "duration": 29,
    "start_time": "2021-10-15T06:40:52.947Z"
   },
   {
    "duration": 61,
    "start_time": "2021-10-15T06:40:52.979Z"
   },
   {
    "duration": 34,
    "start_time": "2021-10-15T06:40:53.043Z"
   },
   {
    "duration": 23,
    "start_time": "2021-10-15T06:40:53.080Z"
   },
   {
    "duration": 14,
    "start_time": "2021-10-15T06:40:53.106Z"
   },
   {
    "duration": 99,
    "start_time": "2021-10-15T06:40:53.123Z"
   },
   {
    "duration": 14,
    "start_time": "2021-10-15T06:40:53.225Z"
   },
   {
    "duration": 77,
    "start_time": "2021-10-15T06:40:53.242Z"
   },
   {
    "duration": 15,
    "start_time": "2021-10-15T06:40:53.321Z"
   },
   {
    "duration": 67,
    "start_time": "2021-10-15T06:43:20.969Z"
   },
   {
    "duration": 822,
    "start_time": "2021-10-15T06:47:16.989Z"
   },
   {
    "duration": 16,
    "start_time": "2021-10-15T06:47:17.813Z"
   },
   {
    "duration": 37,
    "start_time": "2021-10-15T06:47:17.832Z"
   },
   {
    "duration": 39,
    "start_time": "2021-10-15T06:47:17.871Z"
   },
   {
    "duration": 8,
    "start_time": "2021-10-15T06:47:17.912Z"
   },
   {
    "duration": 16,
    "start_time": "2021-10-15T06:47:17.922Z"
   },
   {
    "duration": 8,
    "start_time": "2021-10-15T06:47:17.968Z"
   },
   {
    "duration": 11,
    "start_time": "2021-10-15T06:47:17.981Z"
   },
   {
    "duration": 13,
    "start_time": "2021-10-15T06:47:17.996Z"
   },
   {
    "duration": 57,
    "start_time": "2021-10-15T06:47:18.011Z"
   },
   {
    "duration": 7,
    "start_time": "2021-10-15T06:47:18.070Z"
   },
   {
    "duration": 10,
    "start_time": "2021-10-15T06:47:18.080Z"
   },
   {
    "duration": 6,
    "start_time": "2021-10-15T06:47:18.092Z"
   },
   {
    "duration": 14,
    "start_time": "2021-10-15T06:47:18.101Z"
   },
   {
    "duration": 56,
    "start_time": "2021-10-15T06:47:18.118Z"
   },
   {
    "duration": 9,
    "start_time": "2021-10-15T06:47:18.177Z"
   },
   {
    "duration": 887,
    "start_time": "2021-10-15T06:47:18.189Z"
   },
   {
    "duration": 36,
    "start_time": "2021-10-15T06:47:19.078Z"
   },
   {
    "duration": 60,
    "start_time": "2021-10-15T06:47:19.117Z"
   },
   {
    "duration": 8,
    "start_time": "2021-10-15T06:47:19.180Z"
   },
   {
    "duration": 13,
    "start_time": "2021-10-15T06:47:19.190Z"
   },
   {
    "duration": 9,
    "start_time": "2021-10-15T06:47:19.206Z"
   },
   {
    "duration": 79,
    "start_time": "2021-10-15T06:47:19.221Z"
   },
   {
    "duration": 8,
    "start_time": "2021-10-15T06:47:19.303Z"
   },
   {
    "duration": 54,
    "start_time": "2021-10-15T06:47:19.314Z"
   },
   {
    "duration": 70,
    "start_time": "2021-10-15T06:47:19.371Z"
   },
   {
    "duration": 30,
    "start_time": "2021-10-15T06:47:19.443Z"
   },
   {
    "duration": 5,
    "start_time": "2021-10-15T06:47:19.475Z"
   },
   {
    "duration": 61,
    "start_time": "2021-10-15T06:47:19.482Z"
   },
   {
    "duration": 26,
    "start_time": "2021-10-15T06:47:19.545Z"
   },
   {
    "duration": 9,
    "start_time": "2021-10-15T06:47:19.574Z"
   },
   {
    "duration": 9,
    "start_time": "2021-10-15T06:47:19.586Z"
   },
   {
    "duration": 14,
    "start_time": "2021-10-15T06:47:19.597Z"
   },
   {
    "duration": 5,
    "start_time": "2021-10-15T06:47:19.614Z"
   },
   {
    "duration": 964,
    "start_time": "2021-10-15T06:47:19.622Z"
   },
   {
    "duration": 4,
    "start_time": "2021-10-15T06:47:20.589Z"
   },
   {
    "duration": 22,
    "start_time": "2021-10-15T06:47:20.595Z"
   },
   {
    "duration": 5,
    "start_time": "2021-10-15T06:47:20.620Z"
   },
   {
    "duration": 40,
    "start_time": "2021-10-15T06:47:20.627Z"
   },
   {
    "duration": 6,
    "start_time": "2021-10-15T06:47:20.669Z"
   },
   {
    "duration": 2213,
    "start_time": "2021-10-15T06:47:20.677Z"
   },
   {
    "duration": 10,
    "start_time": "2021-10-15T06:47:22.893Z"
   },
   {
    "duration": 99,
    "start_time": "2021-10-15T06:47:22.905Z"
   },
   {
    "duration": 4,
    "start_time": "2021-10-15T06:47:23.006Z"
   },
   {
    "duration": 18,
    "start_time": "2021-10-15T06:47:23.012Z"
   },
   {
    "duration": 81,
    "start_time": "2021-10-15T06:47:23.032Z"
   },
   {
    "duration": 13,
    "start_time": "2021-10-15T06:47:23.116Z"
   },
   {
    "duration": 43,
    "start_time": "2021-10-15T06:47:23.131Z"
   },
   {
    "duration": 13,
    "start_time": "2021-10-15T06:47:23.177Z"
   },
   {
    "duration": 83,
    "start_time": "2021-10-15T06:47:23.192Z"
   },
   {
    "duration": 13,
    "start_time": "2021-10-15T06:47:23.277Z"
   },
   {
    "duration": 77,
    "start_time": "2021-10-15T06:47:23.293Z"
   },
   {
    "duration": 14,
    "start_time": "2021-10-15T06:47:23.373Z"
   },
   {
    "duration": 100,
    "start_time": "2021-10-15T07:53:12.279Z"
   },
   {
    "duration": 350,
    "start_time": "2021-10-15T07:53:29.211Z"
   },
   {
    "duration": 876,
    "start_time": "2021-10-15T07:53:36.046Z"
   },
   {
    "duration": 19,
    "start_time": "2021-10-15T07:53:42.792Z"
   },
   {
    "duration": 12,
    "start_time": "2021-10-15T07:54:00.218Z"
   },
   {
    "duration": 844,
    "start_time": "2021-10-15T16:41:05.950Z"
   },
   {
    "duration": 69,
    "start_time": "2021-10-15T16:41:25.128Z"
   },
   {
    "duration": 120,
    "start_time": "2021-10-15T16:41:54.246Z"
   },
   {
    "duration": 467,
    "start_time": "2021-10-15T16:42:07.642Z"
   },
   {
    "duration": 67,
    "start_time": "2021-10-15T16:42:41.651Z"
   },
   {
    "duration": 378,
    "start_time": "2021-10-15T16:43:25.701Z"
   },
   {
    "duration": 566,
    "start_time": "2021-10-16T14:33:55.124Z"
   },
   {
    "duration": 631,
    "start_time": "2021-10-16T14:34:01.608Z"
   },
   {
    "duration": 11,
    "start_time": "2021-10-16T14:34:02.242Z"
   },
   {
    "duration": 12,
    "start_time": "2021-10-16T14:34:02.257Z"
   },
   {
    "duration": 44,
    "start_time": "2021-10-16T14:34:02.270Z"
   },
   {
    "duration": 4,
    "start_time": "2021-10-16T14:34:02.316Z"
   },
   {
    "duration": 8,
    "start_time": "2021-10-16T14:34:02.322Z"
   },
   {
    "duration": 14,
    "start_time": "2021-10-16T14:34:02.332Z"
   },
   {
    "duration": 21,
    "start_time": "2021-10-16T14:34:02.348Z"
   },
   {
    "duration": 27,
    "start_time": "2021-10-16T14:34:02.371Z"
   },
   {
    "duration": 12,
    "start_time": "2021-10-16T14:34:02.400Z"
   },
   {
    "duration": 8,
    "start_time": "2021-10-16T14:34:02.414Z"
   },
   {
    "duration": 8,
    "start_time": "2021-10-16T14:34:02.424Z"
   },
   {
    "duration": 21,
    "start_time": "2021-10-16T14:34:02.433Z"
   },
   {
    "duration": 19,
    "start_time": "2021-10-16T14:34:02.456Z"
   },
   {
    "duration": 16,
    "start_time": "2021-10-16T14:34:02.477Z"
   },
   {
    "duration": 13,
    "start_time": "2021-10-16T14:34:02.494Z"
   },
   {
    "duration": 526,
    "start_time": "2021-10-16T14:34:02.509Z"
   },
   {
    "duration": 22,
    "start_time": "2021-10-16T14:34:03.037Z"
   },
   {
    "duration": 42,
    "start_time": "2021-10-16T14:34:03.061Z"
   },
   {
    "duration": 7,
    "start_time": "2021-10-16T14:34:03.105Z"
   },
   {
    "duration": 9,
    "start_time": "2021-10-16T14:34:03.113Z"
   },
   {
    "duration": 7,
    "start_time": "2021-10-16T14:34:03.126Z"
   },
   {
    "duration": 32,
    "start_time": "2021-10-16T14:34:03.135Z"
   },
   {
    "duration": 6,
    "start_time": "2021-10-16T14:34:03.192Z"
   },
   {
    "duration": 21,
    "start_time": "2021-10-16T14:34:03.200Z"
   },
   {
    "duration": 42,
    "start_time": "2021-10-16T14:34:03.222Z"
   },
   {
    "duration": 31,
    "start_time": "2021-10-16T14:34:03.266Z"
   },
   {
    "duration": 3,
    "start_time": "2021-10-16T14:34:03.299Z"
   },
   {
    "duration": 31,
    "start_time": "2021-10-16T14:34:03.303Z"
   },
   {
    "duration": 6,
    "start_time": "2021-10-16T14:34:03.336Z"
   },
   {
    "duration": 7,
    "start_time": "2021-10-16T14:34:03.343Z"
   },
   {
    "duration": 3,
    "start_time": "2021-10-16T14:34:03.351Z"
   },
   {
    "duration": 35,
    "start_time": "2021-10-16T14:34:03.356Z"
   },
   {
    "duration": 5,
    "start_time": "2021-10-16T14:34:03.393Z"
   },
   {
    "duration": 628,
    "start_time": "2021-10-16T14:34:03.399Z"
   },
   {
    "duration": 3,
    "start_time": "2021-10-16T14:34:04.029Z"
   },
   {
    "duration": 16,
    "start_time": "2021-10-16T14:34:04.033Z"
   },
   {
    "duration": 4,
    "start_time": "2021-10-16T14:34:04.051Z"
   },
   {
    "duration": 8,
    "start_time": "2021-10-16T14:34:04.057Z"
   },
   {
    "duration": 7,
    "start_time": "2021-10-16T14:34:04.067Z"
   },
   {
    "duration": 1477,
    "start_time": "2021-10-16T14:34:04.091Z"
   },
   {
    "duration": 28,
    "start_time": "2021-10-16T14:34:05.570Z"
   },
   {
    "duration": 53,
    "start_time": "2021-10-16T14:34:05.600Z"
   },
   {
    "duration": 3,
    "start_time": "2021-10-16T14:34:05.655Z"
   },
   {
    "duration": 15,
    "start_time": "2021-10-16T14:34:05.659Z"
   },
   {
    "duration": 45,
    "start_time": "2021-10-16T14:34:05.676Z"
   },
   {
    "duration": 8,
    "start_time": "2021-10-16T14:34:05.722Z"
   },
   {
    "duration": 14,
    "start_time": "2021-10-16T14:34:05.732Z"
   },
   {
    "duration": 8,
    "start_time": "2021-10-16T14:34:05.748Z"
   },
   {
    "duration": 66,
    "start_time": "2021-10-16T14:34:05.757Z"
   },
   {
    "duration": 9,
    "start_time": "2021-10-16T14:34:05.825Z"
   },
   {
    "duration": 37,
    "start_time": "2021-10-16T14:34:05.835Z"
   },
   {
    "duration": 24,
    "start_time": "2021-10-16T14:34:05.874Z"
   }
  ],
  "kernelspec": {
   "display_name": "Python 3 (ipykernel)",
   "language": "python",
   "name": "python3"
  },
  "language_info": {
   "codemirror_mode": {
    "name": "ipython",
    "version": 3
   },
   "file_extension": ".py",
   "mimetype": "text/x-python",
   "name": "python",
   "nbconvert_exporter": "python",
   "pygments_lexer": "ipython3",
   "version": "3.9.7"
  },
  "toc": {
   "base_numbering": 1,
   "nav_menu": {},
   "number_sections": true,
   "sideBar": true,
   "skip_h1_title": true,
   "title_cell": "Table of Contents",
   "title_sidebar": "Contents",
   "toc_cell": false,
   "toc_position": {},
   "toc_section_display": true,
   "toc_window_display": false
  }
 },
 "nbformat": 4,
 "nbformat_minor": 2
}
