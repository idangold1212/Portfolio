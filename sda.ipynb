{
 "cells": [
  {
   "cell_type": "markdown",
   "metadata": {},
   "source": [
    "# Research for telecom operator Megaline\n",
    "\n",
    "The company offers its clients two prepaid plans, Surf and Ultimate. The commercial department wants to know which of the plans brings in more revenue in order to adjust the advertising budget. \n",
    "In this research I will carry out a preliminary analysis of the plans based on a relatively small of 500 clients. \n",
    "stages of analysis:\n",
    "1. preprocessing and exploratory all data files\n",
    "2. mergning the data sets into one data \n",
    "3. claculate the clients revenue\n",
    "4. descriptive statistics of the data\n",
    "5. hypothesis testing\n",
    "6. Based on the datasets given to me, I will try to determine which prepaid plans bring more revenue and if there is a different behavior between the clients "
   ]
  },
  {
   "cell_type": "markdown",
   "metadata": {},
   "source": [
    "# 1. Preprocessing "
   ]
  },
  {
   "cell_type": "code",
   "execution_count": 1,
   "metadata": {},
   "outputs": [],
   "source": [
    "import numpy as np\n",
    "import pandas as pd\n",
    "import matplotlib.pyplot as plt\n",
    "from scipy import stats\n",
    "import seaborn as sns\n"
   ]
  },
  {
   "cell_type": "code",
   "execution_count": 2,
   "metadata": {},
   "outputs": [],
   "source": [
    "try:\n",
    "    data_calls= pd.read_csv('/datasets/megaline_calls.csv') \n",
    "    data_internet= pd.read_csv('/datasets/megaline_internet.csv') \n",
    "    data_sms= pd.read_csv('/datasets/megaline_messages.csv')\n",
    "    data_plans= pd.read_csv('/datasets/megaline_plans.csv') \n",
    "    data_users= pd.read_csv('/datasets/megaline_users.csv')\n",
    "except:\n",
    "    data_calls= pd.read_csv('megaline_calls.csv') \n",
    "    data_internet= pd.read_csv('megaline_internet.csv') \n",
    "    data_sms= pd.read_csv('megaline_messages.csv')\n",
    "    data_plans= pd.read_csv('megaline_plans.csv') \n",
    "    data_users= pd.read_csv('megaline_users.csv')\n"
   ]
  },
  {
   "cell_type": "code",
   "execution_count": 3,
   "metadata": {},
   "outputs": [
    {
     "data": {
      "text/html": [
       "<div>\n",
       "<style scoped>\n",
       "    .dataframe tbody tr th:only-of-type {\n",
       "        vertical-align: middle;\n",
       "    }\n",
       "\n",
       "    .dataframe tbody tr th {\n",
       "        vertical-align: top;\n",
       "    }\n",
       "\n",
       "    .dataframe thead th {\n",
       "        text-align: right;\n",
       "    }\n",
       "</style>\n",
       "<table border=\"1\" class=\"dataframe\">\n",
       "  <thead>\n",
       "    <tr style=\"text-align: right;\">\n",
       "      <th></th>\n",
       "      <th>id</th>\n",
       "      <th>user_id</th>\n",
       "      <th>call_date</th>\n",
       "      <th>duration</th>\n",
       "    </tr>\n",
       "  </thead>\n",
       "  <tbody>\n",
       "    <tr>\n",
       "      <td>0</td>\n",
       "      <td>1000_93</td>\n",
       "      <td>1000</td>\n",
       "      <td>2018-12-27</td>\n",
       "      <td>8.52</td>\n",
       "    </tr>\n",
       "    <tr>\n",
       "      <td>1</td>\n",
       "      <td>1000_145</td>\n",
       "      <td>1000</td>\n",
       "      <td>2018-12-27</td>\n",
       "      <td>13.66</td>\n",
       "    </tr>\n",
       "    <tr>\n",
       "      <td>2</td>\n",
       "      <td>1000_247</td>\n",
       "      <td>1000</td>\n",
       "      <td>2018-12-27</td>\n",
       "      <td>14.48</td>\n",
       "    </tr>\n",
       "    <tr>\n",
       "      <td>3</td>\n",
       "      <td>1000_309</td>\n",
       "      <td>1000</td>\n",
       "      <td>2018-12-28</td>\n",
       "      <td>5.76</td>\n",
       "    </tr>\n",
       "    <tr>\n",
       "      <td>4</td>\n",
       "      <td>1000_380</td>\n",
       "      <td>1000</td>\n",
       "      <td>2018-12-30</td>\n",
       "      <td>4.22</td>\n",
       "    </tr>\n",
       "  </tbody>\n",
       "</table>\n",
       "</div>"
      ],
      "text/plain": [
       "         id  user_id   call_date  duration\n",
       "0   1000_93     1000  2018-12-27      8.52\n",
       "1  1000_145     1000  2018-12-27     13.66\n",
       "2  1000_247     1000  2018-12-27     14.48\n",
       "3  1000_309     1000  2018-12-28      5.76\n",
       "4  1000_380     1000  2018-12-30      4.22"
      ]
     },
     "execution_count": 3,
     "metadata": {},
     "output_type": "execute_result"
    }
   ],
   "source": [
    "data_calls.head()\n",
    "#first I'm checking the calls dataset"
   ]
  },
  {
   "cell_type": "code",
   "execution_count": 4,
   "metadata": {},
   "outputs": [
    {
     "data": {
      "text/plain": [
       "id           0\n",
       "user_id      0\n",
       "call_date    0\n",
       "duration     0\n",
       "dtype: int64"
      ]
     },
     "execution_count": 4,
     "metadata": {},
     "output_type": "execute_result"
    }
   ],
   "source": [
    "data_calls.isnull().sum()\n",
    "#there is no missing values"
   ]
  },
  {
   "cell_type": "code",
   "execution_count": 5,
   "metadata": {
    "scrolled": true
   },
   "outputs": [
    {
     "data": {
      "text/html": [
       "<div>\n",
       "<style scoped>\n",
       "    .dataframe tbody tr th:only-of-type {\n",
       "        vertical-align: middle;\n",
       "    }\n",
       "\n",
       "    .dataframe tbody tr th {\n",
       "        vertical-align: top;\n",
       "    }\n",
       "\n",
       "    .dataframe thead th {\n",
       "        text-align: right;\n",
       "    }\n",
       "</style>\n",
       "<table border=\"1\" class=\"dataframe\">\n",
       "  <thead>\n",
       "    <tr style=\"text-align: right;\">\n",
       "      <th></th>\n",
       "      <th>id</th>\n",
       "      <th>user_id</th>\n",
       "      <th>call_date</th>\n",
       "      <th>duration</th>\n",
       "    </tr>\n",
       "  </thead>\n",
       "  <tbody>\n",
       "    <tr>\n",
       "      <td>count</td>\n",
       "      <td>137735</td>\n",
       "      <td>137735.000000</td>\n",
       "      <td>137735</td>\n",
       "      <td>137735.000000</td>\n",
       "    </tr>\n",
       "    <tr>\n",
       "      <td>unique</td>\n",
       "      <td>137735</td>\n",
       "      <td>NaN</td>\n",
       "      <td>351</td>\n",
       "      <td>NaN</td>\n",
       "    </tr>\n",
       "    <tr>\n",
       "      <td>top</td>\n",
       "      <td>1231_161</td>\n",
       "      <td>NaN</td>\n",
       "      <td>2018-12-27</td>\n",
       "      <td>NaN</td>\n",
       "    </tr>\n",
       "    <tr>\n",
       "      <td>freq</td>\n",
       "      <td>1</td>\n",
       "      <td>NaN</td>\n",
       "      <td>1091</td>\n",
       "      <td>NaN</td>\n",
       "    </tr>\n",
       "    <tr>\n",
       "      <td>mean</td>\n",
       "      <td>NaN</td>\n",
       "      <td>1247.658046</td>\n",
       "      <td>NaN</td>\n",
       "      <td>6.745927</td>\n",
       "    </tr>\n",
       "    <tr>\n",
       "      <td>std</td>\n",
       "      <td>NaN</td>\n",
       "      <td>139.416268</td>\n",
       "      <td>NaN</td>\n",
       "      <td>5.839241</td>\n",
       "    </tr>\n",
       "    <tr>\n",
       "      <td>min</td>\n",
       "      <td>NaN</td>\n",
       "      <td>1000.000000</td>\n",
       "      <td>NaN</td>\n",
       "      <td>0.000000</td>\n",
       "    </tr>\n",
       "    <tr>\n",
       "      <td>25%</td>\n",
       "      <td>NaN</td>\n",
       "      <td>1128.000000</td>\n",
       "      <td>NaN</td>\n",
       "      <td>1.290000</td>\n",
       "    </tr>\n",
       "    <tr>\n",
       "      <td>50%</td>\n",
       "      <td>NaN</td>\n",
       "      <td>1247.000000</td>\n",
       "      <td>NaN</td>\n",
       "      <td>5.980000</td>\n",
       "    </tr>\n",
       "    <tr>\n",
       "      <td>75%</td>\n",
       "      <td>NaN</td>\n",
       "      <td>1365.000000</td>\n",
       "      <td>NaN</td>\n",
       "      <td>10.690000</td>\n",
       "    </tr>\n",
       "    <tr>\n",
       "      <td>max</td>\n",
       "      <td>NaN</td>\n",
       "      <td>1499.000000</td>\n",
       "      <td>NaN</td>\n",
       "      <td>37.600000</td>\n",
       "    </tr>\n",
       "  </tbody>\n",
       "</table>\n",
       "</div>"
      ],
      "text/plain": [
       "              id        user_id   call_date       duration\n",
       "count     137735  137735.000000      137735  137735.000000\n",
       "unique    137735            NaN         351            NaN\n",
       "top     1231_161            NaN  2018-12-27            NaN\n",
       "freq           1            NaN        1091            NaN\n",
       "mean         NaN    1247.658046         NaN       6.745927\n",
       "std          NaN     139.416268         NaN       5.839241\n",
       "min          NaN    1000.000000         NaN       0.000000\n",
       "25%          NaN    1128.000000         NaN       1.290000\n",
       "50%          NaN    1247.000000         NaN       5.980000\n",
       "75%          NaN    1365.000000         NaN      10.690000\n",
       "max          NaN    1499.000000         NaN      37.600000"
      ]
     },
     "execution_count": 5,
     "metadata": {},
     "output_type": "execute_result"
    }
   ],
   "source": [
    "data_calls.describe(include='all')\n",
    "# we can notice that there is 0 value in duration column"
   ]
  },
  {
   "cell_type": "code",
   "execution_count": 6,
   "metadata": {},
   "outputs": [],
   "source": [
    "data_calls.duration= np.ceil(data_calls.duration)\n",
    "# I'm rounding up the minutes to an integer number "
   ]
  },
  {
   "cell_type": "code",
   "execution_count": 7,
   "metadata": {},
   "outputs": [
    {
     "data": {
      "text/html": [
       "<div>\n",
       "<style scoped>\n",
       "    .dataframe tbody tr th:only-of-type {\n",
       "        vertical-align: middle;\n",
       "    }\n",
       "\n",
       "    .dataframe tbody tr th {\n",
       "        vertical-align: top;\n",
       "    }\n",
       "\n",
       "    .dataframe thead th {\n",
       "        text-align: right;\n",
       "    }\n",
       "</style>\n",
       "<table border=\"1\" class=\"dataframe\">\n",
       "  <thead>\n",
       "    <tr style=\"text-align: right;\">\n",
       "      <th></th>\n",
       "      <th>id</th>\n",
       "      <th>user_id</th>\n",
       "      <th>call_date</th>\n",
       "      <th>duration</th>\n",
       "    </tr>\n",
       "  </thead>\n",
       "  <tbody>\n",
       "    <tr>\n",
       "      <td>0</td>\n",
       "      <td>1000_93</td>\n",
       "      <td>1000</td>\n",
       "      <td>2018-12-27</td>\n",
       "      <td>9.0</td>\n",
       "    </tr>\n",
       "    <tr>\n",
       "      <td>1</td>\n",
       "      <td>1000_145</td>\n",
       "      <td>1000</td>\n",
       "      <td>2018-12-27</td>\n",
       "      <td>14.0</td>\n",
       "    </tr>\n",
       "    <tr>\n",
       "      <td>2</td>\n",
       "      <td>1000_247</td>\n",
       "      <td>1000</td>\n",
       "      <td>2018-12-27</td>\n",
       "      <td>15.0</td>\n",
       "    </tr>\n",
       "    <tr>\n",
       "      <td>3</td>\n",
       "      <td>1000_309</td>\n",
       "      <td>1000</td>\n",
       "      <td>2018-12-28</td>\n",
       "      <td>6.0</td>\n",
       "    </tr>\n",
       "    <tr>\n",
       "      <td>4</td>\n",
       "      <td>1000_380</td>\n",
       "      <td>1000</td>\n",
       "      <td>2018-12-30</td>\n",
       "      <td>5.0</td>\n",
       "    </tr>\n",
       "  </tbody>\n",
       "</table>\n",
       "</div>"
      ],
      "text/plain": [
       "         id  user_id   call_date  duration\n",
       "0   1000_93     1000  2018-12-27       9.0\n",
       "1  1000_145     1000  2018-12-27      14.0\n",
       "2  1000_247     1000  2018-12-27      15.0\n",
       "3  1000_309     1000  2018-12-28       6.0\n",
       "4  1000_380     1000  2018-12-30       5.0"
      ]
     },
     "execution_count": 7,
     "metadata": {},
     "output_type": "execute_result"
    }
   ],
   "source": [
    "data_calls.head()"
   ]
  },
  {
   "cell_type": "code",
   "execution_count": 8,
   "metadata": {},
   "outputs": [
    {
     "data": {
      "text/plain": [
       "0        2018-12-27\n",
       "1        2018-12-27\n",
       "2        2018-12-27\n",
       "3        2018-12-28\n",
       "4        2018-12-30\n",
       "            ...    \n",
       "137730   2018-11-21\n",
       "137731   2018-10-20\n",
       "137732   2018-09-21\n",
       "137733   2018-10-10\n",
       "137734   2018-12-29\n",
       "Name: call_date, Length: 137735, dtype: datetime64[ns]"
      ]
     },
     "execution_count": 8,
     "metadata": {},
     "output_type": "execute_result"
    }
   ],
   "source": [
    "pd.to_datetime(data_calls['call_date'], format='%Y-%m-%d')\n",
    "#changing the date to a datetime format"
   ]
  },
  {
   "cell_type": "code",
   "execution_count": 9,
   "metadata": {},
   "outputs": [],
   "source": [
    "data_calls['month']= pd.DatetimeIndex(data_calls['call_date']).month\n",
    "#creating a new column for month so later I will use it to group the duration by month"
   ]
  },
  {
   "cell_type": "code",
   "execution_count": 10,
   "metadata": {},
   "outputs": [
    {
     "data": {
      "text/html": [
       "<div>\n",
       "<style scoped>\n",
       "    .dataframe tbody tr th:only-of-type {\n",
       "        vertical-align: middle;\n",
       "    }\n",
       "\n",
       "    .dataframe tbody tr th {\n",
       "        vertical-align: top;\n",
       "    }\n",
       "\n",
       "    .dataframe thead th {\n",
       "        text-align: right;\n",
       "    }\n",
       "</style>\n",
       "<table border=\"1\" class=\"dataframe\">\n",
       "  <thead>\n",
       "    <tr style=\"text-align: right;\">\n",
       "      <th></th>\n",
       "      <th>id</th>\n",
       "      <th>user_id</th>\n",
       "      <th>call_date</th>\n",
       "      <th>duration</th>\n",
       "      <th>month</th>\n",
       "    </tr>\n",
       "  </thead>\n",
       "  <tbody>\n",
       "    <tr>\n",
       "      <td>19</td>\n",
       "      <td>1001_4</td>\n",
       "      <td>1001</td>\n",
       "      <td>2018-12-05</td>\n",
       "      <td>0.0</td>\n",
       "      <td>12</td>\n",
       "    </tr>\n",
       "    <tr>\n",
       "      <td>25</td>\n",
       "      <td>1001_13</td>\n",
       "      <td>1001</td>\n",
       "      <td>2018-12-24</td>\n",
       "      <td>0.0</td>\n",
       "      <td>12</td>\n",
       "    </tr>\n",
       "    <tr>\n",
       "      <td>31</td>\n",
       "      <td>1001_30</td>\n",
       "      <td>1001</td>\n",
       "      <td>2018-10-17</td>\n",
       "      <td>0.0</td>\n",
       "      <td>10</td>\n",
       "    </tr>\n",
       "    <tr>\n",
       "      <td>32</td>\n",
       "      <td>1001_31</td>\n",
       "      <td>1001</td>\n",
       "      <td>2018-11-03</td>\n",
       "      <td>0.0</td>\n",
       "      <td>11</td>\n",
       "    </tr>\n",
       "    <tr>\n",
       "      <td>34</td>\n",
       "      <td>1001_35</td>\n",
       "      <td>1001</td>\n",
       "      <td>2018-12-21</td>\n",
       "      <td>0.0</td>\n",
       "      <td>12</td>\n",
       "    </tr>\n",
       "    <tr>\n",
       "      <td>...</td>\n",
       "      <td>...</td>\n",
       "      <td>...</td>\n",
       "      <td>...</td>\n",
       "      <td>...</td>\n",
       "      <td>...</td>\n",
       "    </tr>\n",
       "    <tr>\n",
       "      <td>137714</td>\n",
       "      <td>1499_183</td>\n",
       "      <td>1499</td>\n",
       "      <td>2018-11-10</td>\n",
       "      <td>0.0</td>\n",
       "      <td>11</td>\n",
       "    </tr>\n",
       "    <tr>\n",
       "      <td>137715</td>\n",
       "      <td>1499_184</td>\n",
       "      <td>1499</td>\n",
       "      <td>2018-09-15</td>\n",
       "      <td>0.0</td>\n",
       "      <td>9</td>\n",
       "    </tr>\n",
       "    <tr>\n",
       "      <td>137720</td>\n",
       "      <td>1499_189</td>\n",
       "      <td>1499</td>\n",
       "      <td>2018-12-27</td>\n",
       "      <td>0.0</td>\n",
       "      <td>12</td>\n",
       "    </tr>\n",
       "    <tr>\n",
       "      <td>137722</td>\n",
       "      <td>1499_191</td>\n",
       "      <td>1499</td>\n",
       "      <td>2018-12-24</td>\n",
       "      <td>0.0</td>\n",
       "      <td>12</td>\n",
       "    </tr>\n",
       "    <tr>\n",
       "      <td>137725</td>\n",
       "      <td>1499_194</td>\n",
       "      <td>1499</td>\n",
       "      <td>2018-10-31</td>\n",
       "      <td>0.0</td>\n",
       "      <td>10</td>\n",
       "    </tr>\n",
       "  </tbody>\n",
       "</table>\n",
       "<p>26834 rows × 5 columns</p>\n",
       "</div>"
      ],
      "text/plain": [
       "              id  user_id   call_date  duration  month\n",
       "19        1001_4     1001  2018-12-05       0.0     12\n",
       "25       1001_13     1001  2018-12-24       0.0     12\n",
       "31       1001_30     1001  2018-10-17       0.0     10\n",
       "32       1001_31     1001  2018-11-03       0.0     11\n",
       "34       1001_35     1001  2018-12-21       0.0     12\n",
       "...          ...      ...         ...       ...    ...\n",
       "137714  1499_183     1499  2018-11-10       0.0     11\n",
       "137715  1499_184     1499  2018-09-15       0.0      9\n",
       "137720  1499_189     1499  2018-12-27       0.0     12\n",
       "137722  1499_191     1499  2018-12-24       0.0     12\n",
       "137725  1499_194     1499  2018-10-31       0.0     10\n",
       "\n",
       "[26834 rows x 5 columns]"
      ]
     },
     "execution_count": 10,
     "metadata": {},
     "output_type": "execute_result"
    }
   ],
   "source": [
    "data_calls[data_calls['duration'] == 0 ]\n",
    "#As I already noticed there is zero in duration. I'm guessing the zero indicating a missing call\n",
    "#made and registered in the call log. Because I'm summing the duration and grouping by month\n",
    "#I don't mind to keep those values"
   ]
  },
  {
   "cell_type": "code",
   "execution_count": 11,
   "metadata": {},
   "outputs": [],
   "source": [
    "calls_grp= data_calls.groupby(['user_id','month'])['duration'].sum()\n",
    "calls_grp= calls_grp.to_frame()"
   ]
  },
  {
   "cell_type": "code",
   "execution_count": 12,
   "metadata": {},
   "outputs": [
    {
     "data": {
      "text/html": [
       "<div>\n",
       "<style scoped>\n",
       "    .dataframe tbody tr th:only-of-type {\n",
       "        vertical-align: middle;\n",
       "    }\n",
       "\n",
       "    .dataframe tbody tr th {\n",
       "        vertical-align: top;\n",
       "    }\n",
       "\n",
       "    .dataframe thead th {\n",
       "        text-align: right;\n",
       "    }\n",
       "</style>\n",
       "<table border=\"1\" class=\"dataframe\">\n",
       "  <thead>\n",
       "    <tr style=\"text-align: right;\">\n",
       "      <th></th>\n",
       "      <th></th>\n",
       "      <th>duration</th>\n",
       "    </tr>\n",
       "    <tr>\n",
       "      <th>user_id</th>\n",
       "      <th>month</th>\n",
       "      <th></th>\n",
       "    </tr>\n",
       "  </thead>\n",
       "  <tbody>\n",
       "    <tr>\n",
       "      <td>1000</td>\n",
       "      <td>12</td>\n",
       "      <td>124.0</td>\n",
       "    </tr>\n",
       "    <tr>\n",
       "      <td rowspan=\"5\" valign=\"top\">1001</td>\n",
       "      <td>8</td>\n",
       "      <td>182.0</td>\n",
       "    </tr>\n",
       "    <tr>\n",
       "      <td>9</td>\n",
       "      <td>315.0</td>\n",
       "    </tr>\n",
       "    <tr>\n",
       "      <td>10</td>\n",
       "      <td>393.0</td>\n",
       "    </tr>\n",
       "    <tr>\n",
       "      <td>11</td>\n",
       "      <td>426.0</td>\n",
       "    </tr>\n",
       "    <tr>\n",
       "      <td>12</td>\n",
       "      <td>412.0</td>\n",
       "    </tr>\n",
       "    <tr>\n",
       "      <td rowspan=\"3\" valign=\"top\">1002</td>\n",
       "      <td>10</td>\n",
       "      <td>59.0</td>\n",
       "    </tr>\n",
       "    <tr>\n",
       "      <td>11</td>\n",
       "      <td>386.0</td>\n",
       "    </tr>\n",
       "    <tr>\n",
       "      <td>12</td>\n",
       "      <td>384.0</td>\n",
       "    </tr>\n",
       "    <tr>\n",
       "      <td>1003</td>\n",
       "      <td>12</td>\n",
       "      <td>1104.0</td>\n",
       "    </tr>\n",
       "  </tbody>\n",
       "</table>\n",
       "</div>"
      ],
      "text/plain": [
       "               duration\n",
       "user_id month          \n",
       "1000    12        124.0\n",
       "1001    8         182.0\n",
       "        9         315.0\n",
       "        10        393.0\n",
       "        11        426.0\n",
       "        12        412.0\n",
       "1002    10         59.0\n",
       "        11        386.0\n",
       "        12        384.0\n",
       "1003    12       1104.0"
      ]
     },
     "execution_count": 12,
     "metadata": {},
     "output_type": "execute_result"
    }
   ],
   "source": [
    "calls_grp.head(10)"
   ]
  },
  {
   "cell_type": "code",
   "execution_count": 13,
   "metadata": {},
   "outputs": [
    {
     "data": {
      "text/html": [
       "<div>\n",
       "<style scoped>\n",
       "    .dataframe tbody tr th:only-of-type {\n",
       "        vertical-align: middle;\n",
       "    }\n",
       "\n",
       "    .dataframe tbody tr th {\n",
       "        vertical-align: top;\n",
       "    }\n",
       "\n",
       "    .dataframe thead th {\n",
       "        text-align: right;\n",
       "    }\n",
       "</style>\n",
       "<table border=\"1\" class=\"dataframe\">\n",
       "  <thead>\n",
       "    <tr style=\"text-align: right;\">\n",
       "      <th></th>\n",
       "      <th>id</th>\n",
       "      <th>user_id</th>\n",
       "      <th>session_date</th>\n",
       "      <th>mb_used</th>\n",
       "    </tr>\n",
       "  </thead>\n",
       "  <tbody>\n",
       "    <tr>\n",
       "      <td>0</td>\n",
       "      <td>1000_13</td>\n",
       "      <td>1000</td>\n",
       "      <td>2018-12-29</td>\n",
       "      <td>89.86</td>\n",
       "    </tr>\n",
       "    <tr>\n",
       "      <td>1</td>\n",
       "      <td>1000_204</td>\n",
       "      <td>1000</td>\n",
       "      <td>2018-12-31</td>\n",
       "      <td>0.00</td>\n",
       "    </tr>\n",
       "    <tr>\n",
       "      <td>2</td>\n",
       "      <td>1000_379</td>\n",
       "      <td>1000</td>\n",
       "      <td>2018-12-28</td>\n",
       "      <td>660.40</td>\n",
       "    </tr>\n",
       "    <tr>\n",
       "      <td>3</td>\n",
       "      <td>1000_413</td>\n",
       "      <td>1000</td>\n",
       "      <td>2018-12-26</td>\n",
       "      <td>270.99</td>\n",
       "    </tr>\n",
       "    <tr>\n",
       "      <td>4</td>\n",
       "      <td>1000_442</td>\n",
       "      <td>1000</td>\n",
       "      <td>2018-12-27</td>\n",
       "      <td>880.22</td>\n",
       "    </tr>\n",
       "  </tbody>\n",
       "</table>\n",
       "</div>"
      ],
      "text/plain": [
       "         id  user_id session_date  mb_used\n",
       "0   1000_13     1000   2018-12-29    89.86\n",
       "1  1000_204     1000   2018-12-31     0.00\n",
       "2  1000_379     1000   2018-12-28   660.40\n",
       "3  1000_413     1000   2018-12-26   270.99\n",
       "4  1000_442     1000   2018-12-27   880.22"
      ]
     },
     "execution_count": 13,
     "metadata": {},
     "output_type": "execute_result"
    }
   ],
   "source": [
    "data_internet.head()\n",
    "#next is the internet data usage. As we can see we need to convert the mb to gb. but after the grouping"
   ]
  },
  {
   "cell_type": "code",
   "execution_count": 14,
   "metadata": {},
   "outputs": [
    {
     "name": "stdout",
     "output_type": "stream",
     "text": [
      "<class 'pandas.core.frame.DataFrame'>\n",
      "RangeIndex: 104825 entries, 0 to 104824\n",
      "Data columns (total 4 columns):\n",
      "id              104825 non-null object\n",
      "user_id         104825 non-null int64\n",
      "session_date    104825 non-null object\n",
      "mb_used         104825 non-null float64\n",
      "dtypes: float64(1), int64(1), object(2)\n",
      "memory usage: 3.2+ MB\n"
     ]
    }
   ],
   "source": [
    "data_internet.info()\n",
    "#no null"
   ]
  },
  {
   "cell_type": "code",
   "execution_count": 15,
   "metadata": {},
   "outputs": [
    {
     "data": {
      "text/plain": [
       "0        2018-12-29\n",
       "1        2018-12-31\n",
       "2        2018-12-28\n",
       "3        2018-12-26\n",
       "4        2018-12-27\n",
       "            ...    \n",
       "104820   2018-10-20\n",
       "104821   2018-12-30\n",
       "104822   2018-09-22\n",
       "104823   2018-12-07\n",
       "104824   2018-12-24\n",
       "Name: session_date, Length: 104825, dtype: datetime64[ns]"
      ]
     },
     "execution_count": 15,
     "metadata": {},
     "output_type": "execute_result"
    }
   ],
   "source": [
    "pd.to_datetime(data_internet['session_date'], format='%Y-%m-%d')\n",
    "#same like I did in calls dataset. I'm converting the date format"
   ]
  },
  {
   "cell_type": "code",
   "execution_count": 16,
   "metadata": {},
   "outputs": [],
   "source": [
    "data_internet['month']= pd.DatetimeIndex(data_internet['session_date']).month\n",
    "# adding month column"
   ]
  },
  {
   "cell_type": "code",
   "execution_count": 17,
   "metadata": {},
   "outputs": [
    {
     "data": {
      "text/html": [
       "<div>\n",
       "<style scoped>\n",
       "    .dataframe tbody tr th:only-of-type {\n",
       "        vertical-align: middle;\n",
       "    }\n",
       "\n",
       "    .dataframe tbody tr th {\n",
       "        vertical-align: top;\n",
       "    }\n",
       "\n",
       "    .dataframe thead th {\n",
       "        text-align: right;\n",
       "    }\n",
       "</style>\n",
       "<table border=\"1\" class=\"dataframe\">\n",
       "  <thead>\n",
       "    <tr style=\"text-align: right;\">\n",
       "      <th></th>\n",
       "      <th></th>\n",
       "      <th>mb_used</th>\n",
       "    </tr>\n",
       "    <tr>\n",
       "      <th>user_id</th>\n",
       "      <th>month</th>\n",
       "      <th></th>\n",
       "    </tr>\n",
       "  </thead>\n",
       "  <tbody>\n",
       "    <tr>\n",
       "      <td>1000</td>\n",
       "      <td>12</td>\n",
       "      <td>1901.47</td>\n",
       "    </tr>\n",
       "    <tr>\n",
       "      <td rowspan=\"4\" valign=\"top\">1001</td>\n",
       "      <td>8</td>\n",
       "      <td>6919.15</td>\n",
       "    </tr>\n",
       "    <tr>\n",
       "      <td>9</td>\n",
       "      <td>13314.82</td>\n",
       "    </tr>\n",
       "    <tr>\n",
       "      <td>10</td>\n",
       "      <td>22330.49</td>\n",
       "    </tr>\n",
       "    <tr>\n",
       "      <td>11</td>\n",
       "      <td>18504.30</td>\n",
       "    </tr>\n",
       "    <tr>\n",
       "      <td>...</td>\n",
       "      <td>...</td>\n",
       "      <td>...</td>\n",
       "    </tr>\n",
       "    <tr>\n",
       "      <td>1498</td>\n",
       "      <td>12</td>\n",
       "      <td>23137.69</td>\n",
       "    </tr>\n",
       "    <tr>\n",
       "      <td rowspan=\"4\" valign=\"top\">1499</td>\n",
       "      <td>9</td>\n",
       "      <td>12984.76</td>\n",
       "    </tr>\n",
       "    <tr>\n",
       "      <td>10</td>\n",
       "      <td>19492.43</td>\n",
       "    </tr>\n",
       "    <tr>\n",
       "      <td>11</td>\n",
       "      <td>16813.83</td>\n",
       "    </tr>\n",
       "    <tr>\n",
       "      <td>12</td>\n",
       "      <td>22059.21</td>\n",
       "    </tr>\n",
       "  </tbody>\n",
       "</table>\n",
       "<p>2277 rows × 1 columns</p>\n",
       "</div>"
      ],
      "text/plain": [
       "                mb_used\n",
       "user_id month          \n",
       "1000    12      1901.47\n",
       "1001    8       6919.15\n",
       "        9      13314.82\n",
       "        10     22330.49\n",
       "        11     18504.30\n",
       "...                 ...\n",
       "1498    12     23137.69\n",
       "1499    9      12984.76\n",
       "        10     19492.43\n",
       "        11     16813.83\n",
       "        12     22059.21\n",
       "\n",
       "[2277 rows x 1 columns]"
      ]
     },
     "execution_count": 17,
     "metadata": {},
     "output_type": "execute_result"
    }
   ],
   "source": [
    "internet_grp= data_internet.groupby(['user_id','month'])['mb_used'].sum()\n",
    "internet_grp= internet_grp.to_frame()\n",
    "internet_grp\n",
    "#grouping as requested by user_id the gb usage per month"
   ]
  },
  {
   "cell_type": "code",
   "execution_count": 18,
   "metadata": {},
   "outputs": [
    {
     "data": {
      "text/html": [
       "<div>\n",
       "<style scoped>\n",
       "    .dataframe tbody tr th:only-of-type {\n",
       "        vertical-align: middle;\n",
       "    }\n",
       "\n",
       "    .dataframe tbody tr th {\n",
       "        vertical-align: top;\n",
       "    }\n",
       "\n",
       "    .dataframe thead th {\n",
       "        text-align: right;\n",
       "    }\n",
       "</style>\n",
       "<table border=\"1\" class=\"dataframe\">\n",
       "  <thead>\n",
       "    <tr style=\"text-align: right;\">\n",
       "      <th></th>\n",
       "      <th></th>\n",
       "      <th>mb_used</th>\n",
       "    </tr>\n",
       "    <tr>\n",
       "      <th>user_id</th>\n",
       "      <th>month</th>\n",
       "      <th></th>\n",
       "    </tr>\n",
       "  </thead>\n",
       "  <tbody>\n",
       "    <tr>\n",
       "      <td>1000</td>\n",
       "      <td>12</td>\n",
       "      <td>1.856904</td>\n",
       "    </tr>\n",
       "    <tr>\n",
       "      <td rowspan=\"5\" valign=\"top\">1001</td>\n",
       "      <td>8</td>\n",
       "      <td>6.756982</td>\n",
       "    </tr>\n",
       "    <tr>\n",
       "      <td>9</td>\n",
       "      <td>13.002754</td>\n",
       "    </tr>\n",
       "    <tr>\n",
       "      <td>10</td>\n",
       "      <td>21.807119</td>\n",
       "    </tr>\n",
       "    <tr>\n",
       "      <td>11</td>\n",
       "      <td>18.070605</td>\n",
       "    </tr>\n",
       "    <tr>\n",
       "      <td>12</td>\n",
       "      <td>18.915215</td>\n",
       "    </tr>\n",
       "    <tr>\n",
       "      <td rowspan=\"3\" valign=\"top\">1002</td>\n",
       "      <td>10</td>\n",
       "      <td>6.398447</td>\n",
       "    </tr>\n",
       "    <tr>\n",
       "      <td>11</td>\n",
       "      <td>18.891680</td>\n",
       "    </tr>\n",
       "    <tr>\n",
       "      <td>12</td>\n",
       "      <td>14.058828</td>\n",
       "    </tr>\n",
       "    <tr>\n",
       "      <td>1003</td>\n",
       "      <td>12</td>\n",
       "      <td>26.410293</td>\n",
       "    </tr>\n",
       "  </tbody>\n",
       "</table>\n",
       "</div>"
      ],
      "text/plain": [
       "                 mb_used\n",
       "user_id month           \n",
       "1000    12      1.856904\n",
       "1001    8       6.756982\n",
       "        9      13.002754\n",
       "        10     21.807119\n",
       "        11     18.070605\n",
       "        12     18.915215\n",
       "1002    10      6.398447\n",
       "        11     18.891680\n",
       "        12     14.058828\n",
       "1003    12     26.410293"
      ]
     },
     "execution_count": 18,
     "metadata": {},
     "output_type": "execute_result"
    }
   ],
   "source": [
    "internet_grp['mb_used']= internet_grp['mb_used']/ 1024 \n",
    "internet_grp.head(10)\n",
    "# 1024 mb= 1 gb"
   ]
  },
  {
   "cell_type": "code",
   "execution_count": 19,
   "metadata": {},
   "outputs": [
    {
     "data": {
      "text/html": [
       "<div>\n",
       "<style scoped>\n",
       "    .dataframe tbody tr th:only-of-type {\n",
       "        vertical-align: middle;\n",
       "    }\n",
       "\n",
       "    .dataframe tbody tr th {\n",
       "        vertical-align: top;\n",
       "    }\n",
       "\n",
       "    .dataframe thead th {\n",
       "        text-align: right;\n",
       "    }\n",
       "</style>\n",
       "<table border=\"1\" class=\"dataframe\">\n",
       "  <thead>\n",
       "    <tr style=\"text-align: right;\">\n",
       "      <th></th>\n",
       "      <th></th>\n",
       "      <th>mb_used</th>\n",
       "      <th>gb_used</th>\n",
       "    </tr>\n",
       "    <tr>\n",
       "      <th>user_id</th>\n",
       "      <th>month</th>\n",
       "      <th></th>\n",
       "      <th></th>\n",
       "    </tr>\n",
       "  </thead>\n",
       "  <tbody>\n",
       "    <tr>\n",
       "      <td>1000</td>\n",
       "      <td>12</td>\n",
       "      <td>1.856904</td>\n",
       "      <td>2</td>\n",
       "    </tr>\n",
       "    <tr>\n",
       "      <td rowspan=\"4\" valign=\"top\">1001</td>\n",
       "      <td>8</td>\n",
       "      <td>6.756982</td>\n",
       "      <td>7</td>\n",
       "    </tr>\n",
       "    <tr>\n",
       "      <td>9</td>\n",
       "      <td>13.002754</td>\n",
       "      <td>14</td>\n",
       "    </tr>\n",
       "    <tr>\n",
       "      <td>10</td>\n",
       "      <td>21.807119</td>\n",
       "      <td>22</td>\n",
       "    </tr>\n",
       "    <tr>\n",
       "      <td>11</td>\n",
       "      <td>18.070605</td>\n",
       "      <td>19</td>\n",
       "    </tr>\n",
       "  </tbody>\n",
       "</table>\n",
       "</div>"
      ],
      "text/plain": [
       "                 mb_used  gb_used\n",
       "user_id month                    \n",
       "1000    12      1.856904        2\n",
       "1001    8       6.756982        7\n",
       "        9      13.002754       14\n",
       "        10     21.807119       22\n",
       "        11     18.070605       19"
      ]
     },
     "execution_count": 19,
     "metadata": {},
     "output_type": "execute_result"
    }
   ],
   "source": [
    "internet_grp['gb_used']= internet_grp['mb_used'].apply(np.ceil).astype('int')\n",
    "internet_grp.head()\n",
    "#rounding up the gb usage and changing the type to 'int'"
   ]
  },
  {
   "cell_type": "code",
   "execution_count": 20,
   "metadata": {},
   "outputs": [
    {
     "data": {
      "text/html": [
       "<div>\n",
       "<style scoped>\n",
       "    .dataframe tbody tr th:only-of-type {\n",
       "        vertical-align: middle;\n",
       "    }\n",
       "\n",
       "    .dataframe tbody tr th {\n",
       "        vertical-align: top;\n",
       "    }\n",
       "\n",
       "    .dataframe thead th {\n",
       "        text-align: right;\n",
       "    }\n",
       "</style>\n",
       "<table border=\"1\" class=\"dataframe\">\n",
       "  <thead>\n",
       "    <tr style=\"text-align: right;\">\n",
       "      <th></th>\n",
       "      <th>id</th>\n",
       "      <th>user_id</th>\n",
       "      <th>message_date</th>\n",
       "    </tr>\n",
       "  </thead>\n",
       "  <tbody>\n",
       "    <tr>\n",
       "      <td>0</td>\n",
       "      <td>1000_125</td>\n",
       "      <td>1000</td>\n",
       "      <td>2018-12-27</td>\n",
       "    </tr>\n",
       "    <tr>\n",
       "      <td>1</td>\n",
       "      <td>1000_160</td>\n",
       "      <td>1000</td>\n",
       "      <td>2018-12-31</td>\n",
       "    </tr>\n",
       "    <tr>\n",
       "      <td>2</td>\n",
       "      <td>1000_223</td>\n",
       "      <td>1000</td>\n",
       "      <td>2018-12-31</td>\n",
       "    </tr>\n",
       "    <tr>\n",
       "      <td>3</td>\n",
       "      <td>1000_251</td>\n",
       "      <td>1000</td>\n",
       "      <td>2018-12-27</td>\n",
       "    </tr>\n",
       "    <tr>\n",
       "      <td>4</td>\n",
       "      <td>1000_255</td>\n",
       "      <td>1000</td>\n",
       "      <td>2018-12-26</td>\n",
       "    </tr>\n",
       "  </tbody>\n",
       "</table>\n",
       "</div>"
      ],
      "text/plain": [
       "         id  user_id message_date\n",
       "0  1000_125     1000   2018-12-27\n",
       "1  1000_160     1000   2018-12-31\n",
       "2  1000_223     1000   2018-12-31\n",
       "3  1000_251     1000   2018-12-27\n",
       "4  1000_255     1000   2018-12-26"
      ]
     },
     "execution_count": 20,
     "metadata": {},
     "output_type": "execute_result"
    }
   ],
   "source": [
    "data_sms.head()\n",
    "#Each message date equal to one message sent"
   ]
  },
  {
   "cell_type": "code",
   "execution_count": 21,
   "metadata": {},
   "outputs": [
    {
     "data": {
      "text/plain": [
       "id              0\n",
       "user_id         0\n",
       "message_date    0\n",
       "dtype: int64"
      ]
     },
     "execution_count": 21,
     "metadata": {},
     "output_type": "execute_result"
    }
   ],
   "source": [
    "data_sms.isnull().sum()"
   ]
  },
  {
   "cell_type": "code",
   "execution_count": 22,
   "metadata": {},
   "outputs": [
    {
     "data": {
      "text/plain": [
       "0       2018-12-27\n",
       "1       2018-12-31\n",
       "2       2018-12-31\n",
       "3       2018-12-27\n",
       "4       2018-12-26\n",
       "           ...    \n",
       "76046   2018-12-24\n",
       "76047   2018-12-24\n",
       "76048   2018-12-31\n",
       "76049   2018-12-24\n",
       "76050   2018-12-23\n",
       "Name: message_date, Length: 76051, dtype: datetime64[ns]"
      ]
     },
     "execution_count": 22,
     "metadata": {},
     "output_type": "execute_result"
    }
   ],
   "source": [
    "pd.to_datetime(data_sms['message_date'], format='%Y-%m-%d')\n",
    "#date format"
   ]
  },
  {
   "cell_type": "code",
   "execution_count": 23,
   "metadata": {},
   "outputs": [],
   "source": [
    "data_sms['month']= pd.DatetimeIndex(data_sms['message_date']).month"
   ]
  },
  {
   "cell_type": "code",
   "execution_count": 24,
   "metadata": {
    "scrolled": true
   },
   "outputs": [
    {
     "data": {
      "text/html": [
       "<div>\n",
       "<style scoped>\n",
       "    .dataframe tbody tr th:only-of-type {\n",
       "        vertical-align: middle;\n",
       "    }\n",
       "\n",
       "    .dataframe tbody tr th {\n",
       "        vertical-align: top;\n",
       "    }\n",
       "\n",
       "    .dataframe thead th {\n",
       "        text-align: right;\n",
       "    }\n",
       "</style>\n",
       "<table border=\"1\" class=\"dataframe\">\n",
       "  <thead>\n",
       "    <tr style=\"text-align: right;\">\n",
       "      <th></th>\n",
       "      <th>user_id</th>\n",
       "      <th>month</th>\n",
       "      <th>sms</th>\n",
       "    </tr>\n",
       "  </thead>\n",
       "  <tbody>\n",
       "    <tr>\n",
       "      <td>0</td>\n",
       "      <td>1000</td>\n",
       "      <td>12</td>\n",
       "      <td>11</td>\n",
       "    </tr>\n",
       "    <tr>\n",
       "      <td>1</td>\n",
       "      <td>1001</td>\n",
       "      <td>8</td>\n",
       "      <td>30</td>\n",
       "    </tr>\n",
       "    <tr>\n",
       "      <td>2</td>\n",
       "      <td>1001</td>\n",
       "      <td>9</td>\n",
       "      <td>44</td>\n",
       "    </tr>\n",
       "    <tr>\n",
       "      <td>3</td>\n",
       "      <td>1001</td>\n",
       "      <td>10</td>\n",
       "      <td>53</td>\n",
       "    </tr>\n",
       "    <tr>\n",
       "      <td>4</td>\n",
       "      <td>1001</td>\n",
       "      <td>11</td>\n",
       "      <td>36</td>\n",
       "    </tr>\n",
       "    <tr>\n",
       "      <td>5</td>\n",
       "      <td>1001</td>\n",
       "      <td>12</td>\n",
       "      <td>44</td>\n",
       "    </tr>\n",
       "    <tr>\n",
       "      <td>6</td>\n",
       "      <td>1002</td>\n",
       "      <td>10</td>\n",
       "      <td>15</td>\n",
       "    </tr>\n",
       "    <tr>\n",
       "      <td>7</td>\n",
       "      <td>1002</td>\n",
       "      <td>11</td>\n",
       "      <td>32</td>\n",
       "    </tr>\n",
       "    <tr>\n",
       "      <td>8</td>\n",
       "      <td>1002</td>\n",
       "      <td>12</td>\n",
       "      <td>41</td>\n",
       "    </tr>\n",
       "    <tr>\n",
       "      <td>9</td>\n",
       "      <td>1003</td>\n",
       "      <td>12</td>\n",
       "      <td>50</td>\n",
       "    </tr>\n",
       "  </tbody>\n",
       "</table>\n",
       "</div>"
      ],
      "text/plain": [
       "   user_id  month  sms\n",
       "0     1000     12   11\n",
       "1     1001      8   30\n",
       "2     1001      9   44\n",
       "3     1001     10   53\n",
       "4     1001     11   36\n",
       "5     1001     12   44\n",
       "6     1002     10   15\n",
       "7     1002     11   32\n",
       "8     1002     12   41\n",
       "9     1003     12   50"
      ]
     },
     "execution_count": 24,
     "metadata": {},
     "output_type": "execute_result"
    }
   ],
   "source": [
    "sms_grp= data_sms.groupby(['user_id','month'])['id'].count()\n",
    "sms_grp= sms_grp.to_frame()\n",
    "sms_grp= sms_grp.rename(columns={'id':'sms'}).reset_index()\n",
    "sms_grp.head(10)\n",
    "#As requested I grouped by user id the overall sms sent in each month "
   ]
  },
  {
   "cell_type": "code",
   "execution_count": 25,
   "metadata": {},
   "outputs": [
    {
     "data": {
      "text/html": [
       "<div>\n",
       "<style scoped>\n",
       "    .dataframe tbody tr th:only-of-type {\n",
       "        vertical-align: middle;\n",
       "    }\n",
       "\n",
       "    .dataframe tbody tr th {\n",
       "        vertical-align: top;\n",
       "    }\n",
       "\n",
       "    .dataframe thead th {\n",
       "        text-align: right;\n",
       "    }\n",
       "</style>\n",
       "<table border=\"1\" class=\"dataframe\">\n",
       "  <thead>\n",
       "    <tr style=\"text-align: right;\">\n",
       "      <th></th>\n",
       "      <th></th>\n",
       "      <th>duration</th>\n",
       "      <th>mb_used</th>\n",
       "      <th>gb_used</th>\n",
       "    </tr>\n",
       "    <tr>\n",
       "      <th>user_id</th>\n",
       "      <th>month</th>\n",
       "      <th></th>\n",
       "      <th></th>\n",
       "      <th></th>\n",
       "    </tr>\n",
       "  </thead>\n",
       "  <tbody>\n",
       "    <tr>\n",
       "      <td>1000</td>\n",
       "      <td>12</td>\n",
       "      <td>124.0</td>\n",
       "      <td>1.856904</td>\n",
       "      <td>2.0</td>\n",
       "    </tr>\n",
       "    <tr>\n",
       "      <td rowspan=\"4\" valign=\"top\">1001</td>\n",
       "      <td>8</td>\n",
       "      <td>182.0</td>\n",
       "      <td>6.756982</td>\n",
       "      <td>7.0</td>\n",
       "    </tr>\n",
       "    <tr>\n",
       "      <td>9</td>\n",
       "      <td>315.0</td>\n",
       "      <td>13.002754</td>\n",
       "      <td>14.0</td>\n",
       "    </tr>\n",
       "    <tr>\n",
       "      <td>10</td>\n",
       "      <td>393.0</td>\n",
       "      <td>21.807119</td>\n",
       "      <td>22.0</td>\n",
       "    </tr>\n",
       "    <tr>\n",
       "      <td>11</td>\n",
       "      <td>426.0</td>\n",
       "      <td>18.070605</td>\n",
       "      <td>19.0</td>\n",
       "    </tr>\n",
       "    <tr>\n",
       "      <td>...</td>\n",
       "      <td>...</td>\n",
       "      <td>...</td>\n",
       "      <td>...</td>\n",
       "      <td>...</td>\n",
       "    </tr>\n",
       "    <tr>\n",
       "      <td>1311</td>\n",
       "      <td>6</td>\n",
       "      <td>NaN</td>\n",
       "      <td>1.463701</td>\n",
       "      <td>2.0</td>\n",
       "    </tr>\n",
       "    <tr>\n",
       "      <td rowspan=\"3\" valign=\"top\">1349</td>\n",
       "      <td>10</td>\n",
       "      <td>NaN</td>\n",
       "      <td>12.786670</td>\n",
       "      <td>13.0</td>\n",
       "    </tr>\n",
       "    <tr>\n",
       "      <td>11</td>\n",
       "      <td>NaN</td>\n",
       "      <td>16.726816</td>\n",
       "      <td>17.0</td>\n",
       "    </tr>\n",
       "    <tr>\n",
       "      <td>12</td>\n",
       "      <td>NaN</td>\n",
       "      <td>12.734287</td>\n",
       "      <td>13.0</td>\n",
       "    </tr>\n",
       "    <tr>\n",
       "      <td>1361</td>\n",
       "      <td>5</td>\n",
       "      <td>NaN</td>\n",
       "      <td>1.484072</td>\n",
       "      <td>2.0</td>\n",
       "    </tr>\n",
       "  </tbody>\n",
       "</table>\n",
       "<p>2292 rows × 3 columns</p>\n",
       "</div>"
      ],
      "text/plain": [
       "               duration    mb_used  gb_used\n",
       "user_id month                              \n",
       "1000    12        124.0   1.856904      2.0\n",
       "1001    8         182.0   6.756982      7.0\n",
       "        9         315.0  13.002754     14.0\n",
       "        10        393.0  21.807119     22.0\n",
       "        11        426.0  18.070605     19.0\n",
       "...                 ...        ...      ...\n",
       "1311    6           NaN   1.463701      2.0\n",
       "1349    10          NaN  12.786670     13.0\n",
       "        11          NaN  16.726816     17.0\n",
       "        12          NaN  12.734287     13.0\n",
       "1361    5           NaN   1.484072      2.0\n",
       "\n",
       "[2292 rows x 3 columns]"
      ]
     },
     "execution_count": 25,
     "metadata": {},
     "output_type": "execute_result"
    }
   ],
   "source": [
    "total= pd.merge(left= calls_grp, right= internet_grp, how='outer', on=('user_id','month'))\n",
    "total\n",
    "#starting to merge the different data to one based on user_id and month"
   ]
  },
  {
   "cell_type": "code",
   "execution_count": 26,
   "metadata": {},
   "outputs": [
    {
     "data": {
      "text/html": [
       "<div>\n",
       "<style scoped>\n",
       "    .dataframe tbody tr th:only-of-type {\n",
       "        vertical-align: middle;\n",
       "    }\n",
       "\n",
       "    .dataframe tbody tr th {\n",
       "        vertical-align: top;\n",
       "    }\n",
       "\n",
       "    .dataframe thead th {\n",
       "        text-align: right;\n",
       "    }\n",
       "</style>\n",
       "<table border=\"1\" class=\"dataframe\">\n",
       "  <thead>\n",
       "    <tr style=\"text-align: right;\">\n",
       "      <th></th>\n",
       "      <th>index</th>\n",
       "      <th>user_id</th>\n",
       "      <th>month</th>\n",
       "      <th>duration</th>\n",
       "      <th>mb_used</th>\n",
       "      <th>gb_used</th>\n",
       "      <th>sms</th>\n",
       "    </tr>\n",
       "  </thead>\n",
       "  <tbody>\n",
       "    <tr>\n",
       "      <td>0</td>\n",
       "      <td>0</td>\n",
       "      <td>1000</td>\n",
       "      <td>12</td>\n",
       "      <td>124.0</td>\n",
       "      <td>1.856904</td>\n",
       "      <td>2.0</td>\n",
       "      <td>11.0</td>\n",
       "    </tr>\n",
       "    <tr>\n",
       "      <td>1</td>\n",
       "      <td>1</td>\n",
       "      <td>1001</td>\n",
       "      <td>8</td>\n",
       "      <td>182.0</td>\n",
       "      <td>6.756982</td>\n",
       "      <td>7.0</td>\n",
       "      <td>30.0</td>\n",
       "    </tr>\n",
       "    <tr>\n",
       "      <td>2</td>\n",
       "      <td>2</td>\n",
       "      <td>1001</td>\n",
       "      <td>9</td>\n",
       "      <td>315.0</td>\n",
       "      <td>13.002754</td>\n",
       "      <td>14.0</td>\n",
       "      <td>44.0</td>\n",
       "    </tr>\n",
       "    <tr>\n",
       "      <td>3</td>\n",
       "      <td>3</td>\n",
       "      <td>1001</td>\n",
       "      <td>10</td>\n",
       "      <td>393.0</td>\n",
       "      <td>21.807119</td>\n",
       "      <td>22.0</td>\n",
       "      <td>53.0</td>\n",
       "    </tr>\n",
       "    <tr>\n",
       "      <td>4</td>\n",
       "      <td>4</td>\n",
       "      <td>1001</td>\n",
       "      <td>11</td>\n",
       "      <td>426.0</td>\n",
       "      <td>18.070605</td>\n",
       "      <td>19.0</td>\n",
       "      <td>36.0</td>\n",
       "    </tr>\n",
       "    <tr>\n",
       "      <td>...</td>\n",
       "      <td>...</td>\n",
       "      <td>...</td>\n",
       "      <td>...</td>\n",
       "      <td>...</td>\n",
       "      <td>...</td>\n",
       "      <td>...</td>\n",
       "      <td>...</td>\n",
       "    </tr>\n",
       "    <tr>\n",
       "      <td>2288</td>\n",
       "      <td>2288</td>\n",
       "      <td>1349</td>\n",
       "      <td>10</td>\n",
       "      <td>0.0</td>\n",
       "      <td>12.786670</td>\n",
       "      <td>13.0</td>\n",
       "      <td>76.0</td>\n",
       "    </tr>\n",
       "    <tr>\n",
       "      <td>2289</td>\n",
       "      <td>2289</td>\n",
       "      <td>1349</td>\n",
       "      <td>11</td>\n",
       "      <td>0.0</td>\n",
       "      <td>16.726816</td>\n",
       "      <td>17.0</td>\n",
       "      <td>72.0</td>\n",
       "    </tr>\n",
       "    <tr>\n",
       "      <td>2290</td>\n",
       "      <td>2290</td>\n",
       "      <td>1349</td>\n",
       "      <td>12</td>\n",
       "      <td>0.0</td>\n",
       "      <td>12.734287</td>\n",
       "      <td>13.0</td>\n",
       "      <td>61.0</td>\n",
       "    </tr>\n",
       "    <tr>\n",
       "      <td>2291</td>\n",
       "      <td>2291</td>\n",
       "      <td>1361</td>\n",
       "      <td>5</td>\n",
       "      <td>0.0</td>\n",
       "      <td>1.484072</td>\n",
       "      <td>2.0</td>\n",
       "      <td>2.0</td>\n",
       "    </tr>\n",
       "    <tr>\n",
       "      <td>2292</td>\n",
       "      <td>2292</td>\n",
       "      <td>1482</td>\n",
       "      <td>10</td>\n",
       "      <td>0.0</td>\n",
       "      <td>0.000000</td>\n",
       "      <td>0.0</td>\n",
       "      <td>2.0</td>\n",
       "    </tr>\n",
       "  </tbody>\n",
       "</table>\n",
       "<p>2293 rows × 7 columns</p>\n",
       "</div>"
      ],
      "text/plain": [
       "      index  user_id  month  duration    mb_used  gb_used   sms\n",
       "0         0     1000     12     124.0   1.856904      2.0  11.0\n",
       "1         1     1001      8     182.0   6.756982      7.0  30.0\n",
       "2         2     1001      9     315.0  13.002754     14.0  44.0\n",
       "3         3     1001     10     393.0  21.807119     22.0  53.0\n",
       "4         4     1001     11     426.0  18.070605     19.0  36.0\n",
       "...     ...      ...    ...       ...        ...      ...   ...\n",
       "2288   2288     1349     10       0.0  12.786670     13.0  76.0\n",
       "2289   2289     1349     11       0.0  16.726816     17.0  72.0\n",
       "2290   2290     1349     12       0.0  12.734287     13.0  61.0\n",
       "2291   2291     1361      5       0.0   1.484072      2.0   2.0\n",
       "2292   2292     1482     10       0.0   0.000000      0.0   2.0\n",
       "\n",
       "[2293 rows x 7 columns]"
      ]
     },
     "execution_count": 26,
     "metadata": {},
     "output_type": "execute_result"
    }
   ],
   "source": [
    "total2= pd.merge(left= total, right= sms_grp, how='outer', on=('user_id','month')).fillna(0).reset_index()\n",
    "\n",
    "total2"
   ]
  },
  {
   "cell_type": "code",
   "execution_count": 27,
   "metadata": {},
   "outputs": [
    {
     "data": {
      "text/html": [
       "<div>\n",
       "<style scoped>\n",
       "    .dataframe tbody tr th:only-of-type {\n",
       "        vertical-align: middle;\n",
       "    }\n",
       "\n",
       "    .dataframe tbody tr th {\n",
       "        vertical-align: top;\n",
       "    }\n",
       "\n",
       "    .dataframe thead th {\n",
       "        text-align: right;\n",
       "    }\n",
       "</style>\n",
       "<table border=\"1\" class=\"dataframe\">\n",
       "  <thead>\n",
       "    <tr style=\"text-align: right;\">\n",
       "      <th></th>\n",
       "      <th>user_id</th>\n",
       "      <th>plan</th>\n",
       "    </tr>\n",
       "  </thead>\n",
       "  <tbody>\n",
       "    <tr>\n",
       "      <td>0</td>\n",
       "      <td>1000</td>\n",
       "      <td>ultimate</td>\n",
       "    </tr>\n",
       "    <tr>\n",
       "      <td>1</td>\n",
       "      <td>1001</td>\n",
       "      <td>surf</td>\n",
       "    </tr>\n",
       "    <tr>\n",
       "      <td>2</td>\n",
       "      <td>1002</td>\n",
       "      <td>surf</td>\n",
       "    </tr>\n",
       "    <tr>\n",
       "      <td>3</td>\n",
       "      <td>1003</td>\n",
       "      <td>surf</td>\n",
       "    </tr>\n",
       "    <tr>\n",
       "      <td>4</td>\n",
       "      <td>1004</td>\n",
       "      <td>surf</td>\n",
       "    </tr>\n",
       "    <tr>\n",
       "      <td>...</td>\n",
       "      <td>...</td>\n",
       "      <td>...</td>\n",
       "    </tr>\n",
       "    <tr>\n",
       "      <td>495</td>\n",
       "      <td>1495</td>\n",
       "      <td>surf</td>\n",
       "    </tr>\n",
       "    <tr>\n",
       "      <td>496</td>\n",
       "      <td>1496</td>\n",
       "      <td>surf</td>\n",
       "    </tr>\n",
       "    <tr>\n",
       "      <td>497</td>\n",
       "      <td>1497</td>\n",
       "      <td>ultimate</td>\n",
       "    </tr>\n",
       "    <tr>\n",
       "      <td>498</td>\n",
       "      <td>1498</td>\n",
       "      <td>surf</td>\n",
       "    </tr>\n",
       "    <tr>\n",
       "      <td>499</td>\n",
       "      <td>1499</td>\n",
       "      <td>surf</td>\n",
       "    </tr>\n",
       "  </tbody>\n",
       "</table>\n",
       "<p>500 rows × 2 columns</p>\n",
       "</div>"
      ],
      "text/plain": [
       "     user_id      plan\n",
       "0       1000  ultimate\n",
       "1       1001      surf\n",
       "2       1002      surf\n",
       "3       1003      surf\n",
       "4       1004      surf\n",
       "..       ...       ...\n",
       "495     1495      surf\n",
       "496     1496      surf\n",
       "497     1497  ultimate\n",
       "498     1498      surf\n",
       "499     1499      surf\n",
       "\n",
       "[500 rows x 2 columns]"
      ]
     },
     "execution_count": 27,
     "metadata": {},
     "output_type": "execute_result"
    }
   ],
   "source": [
    "users_grp= data_users[['user_id', 'plan']]\n",
    "users_grp\n",
    "#this data contain the pre paid plan for each user. It will help me to calculate the revenue"
   ]
  },
  {
   "cell_type": "code",
   "execution_count": 28,
   "metadata": {},
   "outputs": [
    {
     "data": {
      "text/html": [
       "<div>\n",
       "<style scoped>\n",
       "    .dataframe tbody tr th:only-of-type {\n",
       "        vertical-align: middle;\n",
       "    }\n",
       "\n",
       "    .dataframe tbody tr th {\n",
       "        vertical-align: top;\n",
       "    }\n",
       "\n",
       "    .dataframe thead th {\n",
       "        text-align: right;\n",
       "    }\n",
       "</style>\n",
       "<table border=\"1\" class=\"dataframe\">\n",
       "  <thead>\n",
       "    <tr style=\"text-align: right;\">\n",
       "      <th></th>\n",
       "      <th>index</th>\n",
       "      <th>user_id</th>\n",
       "      <th>month</th>\n",
       "      <th>duration</th>\n",
       "      <th>mb_used</th>\n",
       "      <th>gb_used</th>\n",
       "      <th>sms</th>\n",
       "      <th>plan</th>\n",
       "    </tr>\n",
       "  </thead>\n",
       "  <tbody>\n",
       "    <tr>\n",
       "      <td>0</td>\n",
       "      <td>0</td>\n",
       "      <td>1000</td>\n",
       "      <td>12</td>\n",
       "      <td>124.0</td>\n",
       "      <td>1.856904</td>\n",
       "      <td>2.0</td>\n",
       "      <td>11.0</td>\n",
       "      <td>ultimate</td>\n",
       "    </tr>\n",
       "    <tr>\n",
       "      <td>1</td>\n",
       "      <td>1</td>\n",
       "      <td>1001</td>\n",
       "      <td>8</td>\n",
       "      <td>182.0</td>\n",
       "      <td>6.756982</td>\n",
       "      <td>7.0</td>\n",
       "      <td>30.0</td>\n",
       "      <td>surf</td>\n",
       "    </tr>\n",
       "    <tr>\n",
       "      <td>2</td>\n",
       "      <td>2</td>\n",
       "      <td>1001</td>\n",
       "      <td>9</td>\n",
       "      <td>315.0</td>\n",
       "      <td>13.002754</td>\n",
       "      <td>14.0</td>\n",
       "      <td>44.0</td>\n",
       "      <td>surf</td>\n",
       "    </tr>\n",
       "    <tr>\n",
       "      <td>3</td>\n",
       "      <td>3</td>\n",
       "      <td>1001</td>\n",
       "      <td>10</td>\n",
       "      <td>393.0</td>\n",
       "      <td>21.807119</td>\n",
       "      <td>22.0</td>\n",
       "      <td>53.0</td>\n",
       "      <td>surf</td>\n",
       "    </tr>\n",
       "    <tr>\n",
       "      <td>4</td>\n",
       "      <td>4</td>\n",
       "      <td>1001</td>\n",
       "      <td>11</td>\n",
       "      <td>426.0</td>\n",
       "      <td>18.070605</td>\n",
       "      <td>19.0</td>\n",
       "      <td>36.0</td>\n",
       "      <td>surf</td>\n",
       "    </tr>\n",
       "    <tr>\n",
       "      <td>...</td>\n",
       "      <td>...</td>\n",
       "      <td>...</td>\n",
       "      <td>...</td>\n",
       "      <td>...</td>\n",
       "      <td>...</td>\n",
       "      <td>...</td>\n",
       "      <td>...</td>\n",
       "      <td>...</td>\n",
       "    </tr>\n",
       "    <tr>\n",
       "      <td>2288</td>\n",
       "      <td>2284</td>\n",
       "      <td>1204</td>\n",
       "      <td>11</td>\n",
       "      <td>0.0</td>\n",
       "      <td>20.846631</td>\n",
       "      <td>21.0</td>\n",
       "      <td>42.0</td>\n",
       "      <td>ultimate</td>\n",
       "    </tr>\n",
       "    <tr>\n",
       "      <td>2289</td>\n",
       "      <td>2285</td>\n",
       "      <td>1204</td>\n",
       "      <td>12</td>\n",
       "      <td>0.0</td>\n",
       "      <td>35.869189</td>\n",
       "      <td>36.0</td>\n",
       "      <td>78.0</td>\n",
       "      <td>ultimate</td>\n",
       "    </tr>\n",
       "    <tr>\n",
       "      <td>2290</td>\n",
       "      <td>2288</td>\n",
       "      <td>1349</td>\n",
       "      <td>10</td>\n",
       "      <td>0.0</td>\n",
       "      <td>12.786670</td>\n",
       "      <td>13.0</td>\n",
       "      <td>76.0</td>\n",
       "      <td>surf</td>\n",
       "    </tr>\n",
       "    <tr>\n",
       "      <td>2291</td>\n",
       "      <td>2289</td>\n",
       "      <td>1349</td>\n",
       "      <td>11</td>\n",
       "      <td>0.0</td>\n",
       "      <td>16.726816</td>\n",
       "      <td>17.0</td>\n",
       "      <td>72.0</td>\n",
       "      <td>surf</td>\n",
       "    </tr>\n",
       "    <tr>\n",
       "      <td>2292</td>\n",
       "      <td>2290</td>\n",
       "      <td>1349</td>\n",
       "      <td>12</td>\n",
       "      <td>0.0</td>\n",
       "      <td>12.734287</td>\n",
       "      <td>13.0</td>\n",
       "      <td>61.0</td>\n",
       "      <td>surf</td>\n",
       "    </tr>\n",
       "  </tbody>\n",
       "</table>\n",
       "<p>2293 rows × 8 columns</p>\n",
       "</div>"
      ],
      "text/plain": [
       "      index  user_id  month  duration    mb_used  gb_used   sms      plan\n",
       "0         0     1000     12     124.0   1.856904      2.0  11.0  ultimate\n",
       "1         1     1001      8     182.0   6.756982      7.0  30.0      surf\n",
       "2         2     1001      9     315.0  13.002754     14.0  44.0      surf\n",
       "3         3     1001     10     393.0  21.807119     22.0  53.0      surf\n",
       "4         4     1001     11     426.0  18.070605     19.0  36.0      surf\n",
       "...     ...      ...    ...       ...        ...      ...   ...       ...\n",
       "2288   2284     1204     11       0.0  20.846631     21.0  42.0  ultimate\n",
       "2289   2285     1204     12       0.0  35.869189     36.0  78.0  ultimate\n",
       "2290   2288     1349     10       0.0  12.786670     13.0  76.0      surf\n",
       "2291   2289     1349     11       0.0  16.726816     17.0  72.0      surf\n",
       "2292   2290     1349     12       0.0  12.734287     13.0  61.0      surf\n",
       "\n",
       "[2293 rows x 8 columns]"
      ]
     },
     "execution_count": 28,
     "metadata": {},
     "output_type": "execute_result"
    }
   ],
   "source": [
    "merged_data=pd.merge(left=total2, right=users_grp, how='inner', on=('user_id'))\n",
    "merged_data\n",
    "#final data merged"
   ]
  },
  {
   "cell_type": "code",
   "execution_count": 29,
   "metadata": {},
   "outputs": [
    {
     "data": {
      "text/html": [
       "<div>\n",
       "<style scoped>\n",
       "    .dataframe tbody tr th:only-of-type {\n",
       "        vertical-align: middle;\n",
       "    }\n",
       "\n",
       "    .dataframe tbody tr th {\n",
       "        vertical-align: top;\n",
       "    }\n",
       "\n",
       "    .dataframe thead th {\n",
       "        text-align: right;\n",
       "    }\n",
       "</style>\n",
       "<table border=\"1\" class=\"dataframe\">\n",
       "  <thead>\n",
       "    <tr style=\"text-align: right;\">\n",
       "      <th></th>\n",
       "      <th>index</th>\n",
       "      <th>user_id</th>\n",
       "      <th>month</th>\n",
       "      <th>duration</th>\n",
       "      <th>mb_used</th>\n",
       "      <th>gb_used</th>\n",
       "      <th>sms</th>\n",
       "      <th>plan</th>\n",
       "    </tr>\n",
       "  </thead>\n",
       "  <tbody>\n",
       "    <tr>\n",
       "      <td>0</td>\n",
       "      <td>0</td>\n",
       "      <td>1000</td>\n",
       "      <td>12</td>\n",
       "      <td>124</td>\n",
       "      <td>1.856904</td>\n",
       "      <td>2</td>\n",
       "      <td>11</td>\n",
       "      <td>ultimate</td>\n",
       "    </tr>\n",
       "    <tr>\n",
       "      <td>1</td>\n",
       "      <td>1</td>\n",
       "      <td>1001</td>\n",
       "      <td>8</td>\n",
       "      <td>182</td>\n",
       "      <td>6.756982</td>\n",
       "      <td>7</td>\n",
       "      <td>30</td>\n",
       "      <td>surf</td>\n",
       "    </tr>\n",
       "    <tr>\n",
       "      <td>2</td>\n",
       "      <td>2</td>\n",
       "      <td>1001</td>\n",
       "      <td>9</td>\n",
       "      <td>315</td>\n",
       "      <td>13.002754</td>\n",
       "      <td>14</td>\n",
       "      <td>44</td>\n",
       "      <td>surf</td>\n",
       "    </tr>\n",
       "    <tr>\n",
       "      <td>3</td>\n",
       "      <td>3</td>\n",
       "      <td>1001</td>\n",
       "      <td>10</td>\n",
       "      <td>393</td>\n",
       "      <td>21.807119</td>\n",
       "      <td>22</td>\n",
       "      <td>53</td>\n",
       "      <td>surf</td>\n",
       "    </tr>\n",
       "    <tr>\n",
       "      <td>4</td>\n",
       "      <td>4</td>\n",
       "      <td>1001</td>\n",
       "      <td>11</td>\n",
       "      <td>426</td>\n",
       "      <td>18.070605</td>\n",
       "      <td>19</td>\n",
       "      <td>36</td>\n",
       "      <td>surf</td>\n",
       "    </tr>\n",
       "  </tbody>\n",
       "</table>\n",
       "</div>"
      ],
      "text/plain": [
       "   index  user_id  month  duration    mb_used  gb_used  sms      plan\n",
       "0      0     1000     12       124   1.856904        2   11  ultimate\n",
       "1      1     1001      8       182   6.756982        7   30      surf\n",
       "2      2     1001      9       315  13.002754       14   44      surf\n",
       "3      3     1001     10       393  21.807119       22   53      surf\n",
       "4      4     1001     11       426  18.070605       19   36      surf"
      ]
     },
     "execution_count": 29,
     "metadata": {},
     "output_type": "execute_result"
    }
   ],
   "source": [
    "#changing to integer so the data will be more readable\n",
    "merged_data.gb_used= merged_data.gb_used.astype('int')\n",
    "merged_data.sms= merged_data.sms.astype('int')\n",
    "merged_data.duration= merged_data.duration.astype('int')\n",
    "merged_data.head()"
   ]
  },
  {
   "cell_type": "code",
   "execution_count": 30,
   "metadata": {},
   "outputs": [
    {
     "data": {
      "text/html": [
       "<div>\n",
       "<style scoped>\n",
       "    .dataframe tbody tr th:only-of-type {\n",
       "        vertical-align: middle;\n",
       "    }\n",
       "\n",
       "    .dataframe tbody tr th {\n",
       "        vertical-align: top;\n",
       "    }\n",
       "\n",
       "    .dataframe thead th {\n",
       "        text-align: right;\n",
       "    }\n",
       "</style>\n",
       "<table border=\"1\" class=\"dataframe\">\n",
       "  <thead>\n",
       "    <tr style=\"text-align: right;\">\n",
       "      <th></th>\n",
       "      <th>messages_included</th>\n",
       "      <th>mb_per_month_included</th>\n",
       "      <th>minutes_included</th>\n",
       "      <th>usd_monthly_pay</th>\n",
       "      <th>usd_per_gb</th>\n",
       "      <th>usd_per_message</th>\n",
       "      <th>usd_per_minute</th>\n",
       "      <th>plan_name</th>\n",
       "    </tr>\n",
       "  </thead>\n",
       "  <tbody>\n",
       "    <tr>\n",
       "      <td>0</td>\n",
       "      <td>50</td>\n",
       "      <td>15360</td>\n",
       "      <td>500</td>\n",
       "      <td>20</td>\n",
       "      <td>10</td>\n",
       "      <td>0.03</td>\n",
       "      <td>0.03</td>\n",
       "      <td>surf</td>\n",
       "    </tr>\n",
       "    <tr>\n",
       "      <td>1</td>\n",
       "      <td>1000</td>\n",
       "      <td>30720</td>\n",
       "      <td>3000</td>\n",
       "      <td>70</td>\n",
       "      <td>7</td>\n",
       "      <td>0.01</td>\n",
       "      <td>0.01</td>\n",
       "      <td>ultimate</td>\n",
       "    </tr>\n",
       "  </tbody>\n",
       "</table>\n",
       "</div>"
      ],
      "text/plain": [
       "   messages_included  mb_per_month_included  minutes_included  \\\n",
       "0                 50                  15360               500   \n",
       "1               1000                  30720              3000   \n",
       "\n",
       "   usd_monthly_pay  usd_per_gb  usd_per_message  usd_per_minute plan_name  \n",
       "0               20          10             0.03            0.03      surf  \n",
       "1               70           7             0.01            0.01  ultimate  "
      ]
     },
     "execution_count": 30,
     "metadata": {},
     "output_type": "execute_result"
    }
   ],
   "source": [
    "data_plans\n",
    "#These is the information and monthly charge for each plan"
   ]
  },
  {
   "cell_type": "code",
   "execution_count": 31,
   "metadata": {},
   "outputs": [],
   "source": [
    "# Im creating a function that will check every user and calculate their revenue depending on plan and exceeding taarif\n",
    "def cost(row):\n",
    "    plan= row['plan']\n",
    "    minutes= row['duration']\n",
    "    gb= row['gb_used']\n",
    "    sms= row['sms']\n",
    "    \n",
    "    if plan == 'surf':\n",
    "        cost_plan= 20\n",
    "    else:\n",
    "        cost_plan= 70\n",
    "        \n",
    "    if minutes > 500 and plan== 'surf':\n",
    "        cost_minutes= ((minutes-500)*0.03)\n",
    "    elif minutes > 3000 and plan== 'ultimate':\n",
    "        cost_minutes= ((minutes- 3000)*0.01)\n",
    "    else:\n",
    "        cost_minutes= 0\n",
    "        \n",
    "    if gb > 15 and plan=='surf':\n",
    "        gb_cost= ((gb- 15)*10)\n",
    "    elif gb > 30 and plan=='ultimate':\n",
    "        gb_cost = ((gb-30)*7)\n",
    "    else:\n",
    "        gb_cost= 0\n",
    "        \n",
    "    if sms > 50 and plan=='surf':\n",
    "        sms_cost= ((sms- 50)*0.03)\n",
    "    elif sms> 1000 and plan=='ultimate':\n",
    "        sms_cost= ((sms- 1000)*0.01)\n",
    "    else:\n",
    "        sms_cost= 0\n",
    "    \n",
    "    total= cost_plan+cost_minutes+gb_cost+sms_cost\n",
    "    return total "
   ]
  },
  {
   "cell_type": "code",
   "execution_count": 32,
   "metadata": {},
   "outputs": [],
   "source": [
    "merged_data['revenue']= merged_data.apply(cost, axis=1)\n",
    "#implementing the function into a new column"
   ]
  },
  {
   "cell_type": "code",
   "execution_count": 33,
   "metadata": {},
   "outputs": [
    {
     "data": {
      "text/html": [
       "<div>\n",
       "<style scoped>\n",
       "    .dataframe tbody tr th:only-of-type {\n",
       "        vertical-align: middle;\n",
       "    }\n",
       "\n",
       "    .dataframe tbody tr th {\n",
       "        vertical-align: top;\n",
       "    }\n",
       "\n",
       "    .dataframe thead th {\n",
       "        text-align: right;\n",
       "    }\n",
       "</style>\n",
       "<table border=\"1\" class=\"dataframe\">\n",
       "  <thead>\n",
       "    <tr style=\"text-align: right;\">\n",
       "      <th></th>\n",
       "      <th>index</th>\n",
       "      <th>user_id</th>\n",
       "      <th>month</th>\n",
       "      <th>duration</th>\n",
       "      <th>mb_used</th>\n",
       "      <th>gb_used</th>\n",
       "      <th>sms</th>\n",
       "      <th>plan</th>\n",
       "      <th>revenue</th>\n",
       "    </tr>\n",
       "  </thead>\n",
       "  <tbody>\n",
       "    <tr>\n",
       "      <td>0</td>\n",
       "      <td>0</td>\n",
       "      <td>1000</td>\n",
       "      <td>12</td>\n",
       "      <td>124</td>\n",
       "      <td>1.856904</td>\n",
       "      <td>2</td>\n",
       "      <td>11</td>\n",
       "      <td>ultimate</td>\n",
       "      <td>70.00</td>\n",
       "    </tr>\n",
       "    <tr>\n",
       "      <td>1</td>\n",
       "      <td>1</td>\n",
       "      <td>1001</td>\n",
       "      <td>8</td>\n",
       "      <td>182</td>\n",
       "      <td>6.756982</td>\n",
       "      <td>7</td>\n",
       "      <td>30</td>\n",
       "      <td>surf</td>\n",
       "      <td>20.00</td>\n",
       "    </tr>\n",
       "    <tr>\n",
       "      <td>2</td>\n",
       "      <td>2</td>\n",
       "      <td>1001</td>\n",
       "      <td>9</td>\n",
       "      <td>315</td>\n",
       "      <td>13.002754</td>\n",
       "      <td>14</td>\n",
       "      <td>44</td>\n",
       "      <td>surf</td>\n",
       "      <td>20.00</td>\n",
       "    </tr>\n",
       "    <tr>\n",
       "      <td>3</td>\n",
       "      <td>3</td>\n",
       "      <td>1001</td>\n",
       "      <td>10</td>\n",
       "      <td>393</td>\n",
       "      <td>21.807119</td>\n",
       "      <td>22</td>\n",
       "      <td>53</td>\n",
       "      <td>surf</td>\n",
       "      <td>90.09</td>\n",
       "    </tr>\n",
       "    <tr>\n",
       "      <td>4</td>\n",
       "      <td>4</td>\n",
       "      <td>1001</td>\n",
       "      <td>11</td>\n",
       "      <td>426</td>\n",
       "      <td>18.070605</td>\n",
       "      <td>19</td>\n",
       "      <td>36</td>\n",
       "      <td>surf</td>\n",
       "      <td>60.00</td>\n",
       "    </tr>\n",
       "  </tbody>\n",
       "</table>\n",
       "</div>"
      ],
      "text/plain": [
       "   index  user_id  month  duration    mb_used  gb_used  sms      plan  revenue\n",
       "0      0     1000     12       124   1.856904        2   11  ultimate    70.00\n",
       "1      1     1001      8       182   6.756982        7   30      surf    20.00\n",
       "2      2     1001      9       315  13.002754       14   44      surf    20.00\n",
       "3      3     1001     10       393  21.807119       22   53      surf    90.09\n",
       "4      4     1001     11       426  18.070605       19   36      surf    60.00"
      ]
     },
     "execution_count": 33,
     "metadata": {},
     "output_type": "execute_result"
    }
   ],
   "source": [
    "merged_data.head()"
   ]
  },
  {
   "cell_type": "markdown",
   "metadata": {},
   "source": [
    "# 2. EDA\n",
    "   Analyisng the distribution of the data using Histograms"
   ]
  },
  {
   "cell_type": "code",
   "execution_count": 34,
   "metadata": {},
   "outputs": [
    {
     "data": {
      "text/plain": [
       "plan\n",
       "surf        333\n",
       "ultimate    157\n",
       "Name: user_id, dtype: int64"
      ]
     },
     "execution_count": 34,
     "metadata": {},
     "output_type": "execute_result"
    }
   ],
   "source": [
    "merged_data.groupby(['plan'])['user_id'].nunique()"
   ]
  },
  {
   "cell_type": "code",
   "execution_count": 35,
   "metadata": {},
   "outputs": [
    {
     "data": {
      "text/html": [
       "<div>\n",
       "<style scoped>\n",
       "    .dataframe tbody tr th:only-of-type {\n",
       "        vertical-align: middle;\n",
       "    }\n",
       "\n",
       "    .dataframe tbody tr th {\n",
       "        vertical-align: top;\n",
       "    }\n",
       "\n",
       "    .dataframe thead th {\n",
       "        text-align: right;\n",
       "    }\n",
       "</style>\n",
       "<table border=\"1\" class=\"dataframe\">\n",
       "  <thead>\n",
       "    <tr style=\"text-align: right;\">\n",
       "      <th></th>\n",
       "      <th>index</th>\n",
       "      <th>user_id</th>\n",
       "      <th>month</th>\n",
       "      <th>duration</th>\n",
       "      <th>mb_used</th>\n",
       "      <th>gb_used</th>\n",
       "      <th>sms</th>\n",
       "      <th>plan</th>\n",
       "      <th>revenue</th>\n",
       "    </tr>\n",
       "  </thead>\n",
       "  <tbody>\n",
       "    <tr>\n",
       "      <td>1</td>\n",
       "      <td>1</td>\n",
       "      <td>1001</td>\n",
       "      <td>8</td>\n",
       "      <td>182</td>\n",
       "      <td>6.756982</td>\n",
       "      <td>7</td>\n",
       "      <td>30</td>\n",
       "      <td>surf</td>\n",
       "      <td>20.00</td>\n",
       "    </tr>\n",
       "    <tr>\n",
       "      <td>2</td>\n",
       "      <td>2</td>\n",
       "      <td>1001</td>\n",
       "      <td>9</td>\n",
       "      <td>315</td>\n",
       "      <td>13.002754</td>\n",
       "      <td>14</td>\n",
       "      <td>44</td>\n",
       "      <td>surf</td>\n",
       "      <td>20.00</td>\n",
       "    </tr>\n",
       "    <tr>\n",
       "      <td>3</td>\n",
       "      <td>3</td>\n",
       "      <td>1001</td>\n",
       "      <td>10</td>\n",
       "      <td>393</td>\n",
       "      <td>21.807119</td>\n",
       "      <td>22</td>\n",
       "      <td>53</td>\n",
       "      <td>surf</td>\n",
       "      <td>90.09</td>\n",
       "    </tr>\n",
       "    <tr>\n",
       "      <td>4</td>\n",
       "      <td>4</td>\n",
       "      <td>1001</td>\n",
       "      <td>11</td>\n",
       "      <td>426</td>\n",
       "      <td>18.070605</td>\n",
       "      <td>19</td>\n",
       "      <td>36</td>\n",
       "      <td>surf</td>\n",
       "      <td>60.00</td>\n",
       "    </tr>\n",
       "    <tr>\n",
       "      <td>5</td>\n",
       "      <td>5</td>\n",
       "      <td>1001</td>\n",
       "      <td>12</td>\n",
       "      <td>412</td>\n",
       "      <td>18.915215</td>\n",
       "      <td>19</td>\n",
       "      <td>44</td>\n",
       "      <td>surf</td>\n",
       "      <td>60.00</td>\n",
       "    </tr>\n",
       "    <tr>\n",
       "      <td>...</td>\n",
       "      <td>...</td>\n",
       "      <td>...</td>\n",
       "      <td>...</td>\n",
       "      <td>...</td>\n",
       "      <td>...</td>\n",
       "      <td>...</td>\n",
       "      <td>...</td>\n",
       "      <td>...</td>\n",
       "      <td>...</td>\n",
       "    </tr>\n",
       "    <tr>\n",
       "      <td>2286</td>\n",
       "      <td>2282</td>\n",
       "      <td>1194</td>\n",
       "      <td>11</td>\n",
       "      <td>0</td>\n",
       "      <td>41.861426</td>\n",
       "      <td>42</td>\n",
       "      <td>62</td>\n",
       "      <td>surf</td>\n",
       "      <td>290.36</td>\n",
       "    </tr>\n",
       "    <tr>\n",
       "      <td>2287</td>\n",
       "      <td>2283</td>\n",
       "      <td>1194</td>\n",
       "      <td>12</td>\n",
       "      <td>0</td>\n",
       "      <td>30.359854</td>\n",
       "      <td>31</td>\n",
       "      <td>56</td>\n",
       "      <td>surf</td>\n",
       "      <td>180.18</td>\n",
       "    </tr>\n",
       "    <tr>\n",
       "      <td>2290</td>\n",
       "      <td>2288</td>\n",
       "      <td>1349</td>\n",
       "      <td>10</td>\n",
       "      <td>0</td>\n",
       "      <td>12.786670</td>\n",
       "      <td>13</td>\n",
       "      <td>76</td>\n",
       "      <td>surf</td>\n",
       "      <td>20.78</td>\n",
       "    </tr>\n",
       "    <tr>\n",
       "      <td>2291</td>\n",
       "      <td>2289</td>\n",
       "      <td>1349</td>\n",
       "      <td>11</td>\n",
       "      <td>0</td>\n",
       "      <td>16.726816</td>\n",
       "      <td>17</td>\n",
       "      <td>72</td>\n",
       "      <td>surf</td>\n",
       "      <td>40.66</td>\n",
       "    </tr>\n",
       "    <tr>\n",
       "      <td>2292</td>\n",
       "      <td>2290</td>\n",
       "      <td>1349</td>\n",
       "      <td>12</td>\n",
       "      <td>0</td>\n",
       "      <td>12.734287</td>\n",
       "      <td>13</td>\n",
       "      <td>61</td>\n",
       "      <td>surf</td>\n",
       "      <td>20.33</td>\n",
       "    </tr>\n",
       "  </tbody>\n",
       "</table>\n",
       "<p>1573 rows × 9 columns</p>\n",
       "</div>"
      ],
      "text/plain": [
       "      index  user_id  month  duration    mb_used  gb_used  sms  plan  revenue\n",
       "1         1     1001      8       182   6.756982        7   30  surf    20.00\n",
       "2         2     1001      9       315  13.002754       14   44  surf    20.00\n",
       "3         3     1001     10       393  21.807119       22   53  surf    90.09\n",
       "4         4     1001     11       426  18.070605       19   36  surf    60.00\n",
       "5         5     1001     12       412  18.915215       19   44  surf    60.00\n",
       "...     ...      ...    ...       ...        ...      ...  ...   ...      ...\n",
       "2286   2282     1194     11         0  41.861426       42   62  surf   290.36\n",
       "2287   2283     1194     12         0  30.359854       31   56  surf   180.18\n",
       "2290   2288     1349     10         0  12.786670       13   76  surf    20.78\n",
       "2291   2289     1349     11         0  16.726816       17   72  surf    40.66\n",
       "2292   2290     1349     12         0  12.734287       13   61  surf    20.33\n",
       "\n",
       "[1573 rows x 9 columns]"
      ]
     },
     "execution_count": 35,
     "metadata": {},
     "output_type": "execute_result"
    }
   ],
   "source": [
    "surf= merged_data.query('plan==\"surf\"')\n",
    "surf\n",
    "#each user from the surf plan grouping by month and we can show the total duration, data usage and messages"
   ]
  },
  {
   "cell_type": "code",
   "execution_count": 36,
   "metadata": {},
   "outputs": [
    {
     "data": {
      "text/html": [
       "<div>\n",
       "<style scoped>\n",
       "    .dataframe tbody tr th:only-of-type {\n",
       "        vertical-align: middle;\n",
       "    }\n",
       "\n",
       "    .dataframe tbody tr th {\n",
       "        vertical-align: top;\n",
       "    }\n",
       "\n",
       "    .dataframe thead th {\n",
       "        text-align: right;\n",
       "    }\n",
       "</style>\n",
       "<table border=\"1\" class=\"dataframe\">\n",
       "  <thead>\n",
       "    <tr style=\"text-align: right;\">\n",
       "      <th></th>\n",
       "      <th>index</th>\n",
       "      <th>user_id</th>\n",
       "      <th>month</th>\n",
       "      <th>duration</th>\n",
       "      <th>mb_used</th>\n",
       "      <th>gb_used</th>\n",
       "      <th>sms</th>\n",
       "      <th>plan</th>\n",
       "      <th>revenue</th>\n",
       "    </tr>\n",
       "  </thead>\n",
       "  <tbody>\n",
       "    <tr>\n",
       "      <td>0</td>\n",
       "      <td>0</td>\n",
       "      <td>1000</td>\n",
       "      <td>12</td>\n",
       "      <td>124</td>\n",
       "      <td>1.856904</td>\n",
       "      <td>2</td>\n",
       "      <td>11</td>\n",
       "      <td>ultimate</td>\n",
       "      <td>70.0</td>\n",
       "    </tr>\n",
       "    <tr>\n",
       "      <td>19</td>\n",
       "      <td>19</td>\n",
       "      <td>1006</td>\n",
       "      <td>11</td>\n",
       "      <td>10</td>\n",
       "      <td>2.019893</td>\n",
       "      <td>3</td>\n",
       "      <td>15</td>\n",
       "      <td>ultimate</td>\n",
       "      <td>70.0</td>\n",
       "    </tr>\n",
       "    <tr>\n",
       "      <td>20</td>\n",
       "      <td>20</td>\n",
       "      <td>1006</td>\n",
       "      <td>12</td>\n",
       "      <td>59</td>\n",
       "      <td>31.366035</td>\n",
       "      <td>32</td>\n",
       "      <td>139</td>\n",
       "      <td>ultimate</td>\n",
       "      <td>84.0</td>\n",
       "    </tr>\n",
       "    <tr>\n",
       "      <td>26</td>\n",
       "      <td>26</td>\n",
       "      <td>1008</td>\n",
       "      <td>10</td>\n",
       "      <td>476</td>\n",
       "      <td>16.706045</td>\n",
       "      <td>17</td>\n",
       "      <td>21</td>\n",
       "      <td>ultimate</td>\n",
       "      <td>70.0</td>\n",
       "    </tr>\n",
       "    <tr>\n",
       "      <td>27</td>\n",
       "      <td>27</td>\n",
       "      <td>1008</td>\n",
       "      <td>11</td>\n",
       "      <td>446</td>\n",
       "      <td>23.121797</td>\n",
       "      <td>24</td>\n",
       "      <td>37</td>\n",
       "      <td>ultimate</td>\n",
       "      <td>70.0</td>\n",
       "    </tr>\n",
       "    <tr>\n",
       "      <td>...</td>\n",
       "      <td>...</td>\n",
       "      <td>...</td>\n",
       "      <td>...</td>\n",
       "      <td>...</td>\n",
       "      <td>...</td>\n",
       "      <td>...</td>\n",
       "      <td>...</td>\n",
       "      <td>...</td>\n",
       "      <td>...</td>\n",
       "    </tr>\n",
       "    <tr>\n",
       "      <td>2231</td>\n",
       "      <td>2226</td>\n",
       "      <td>1493</td>\n",
       "      <td>12</td>\n",
       "      <td>473</td>\n",
       "      <td>14.930752</td>\n",
       "      <td>15</td>\n",
       "      <td>0</td>\n",
       "      <td>ultimate</td>\n",
       "      <td>70.0</td>\n",
       "    </tr>\n",
       "    <tr>\n",
       "      <td>2247</td>\n",
       "      <td>2242</td>\n",
       "      <td>1497</td>\n",
       "      <td>12</td>\n",
       "      <td>300</td>\n",
       "      <td>10.846240</td>\n",
       "      <td>11</td>\n",
       "      <td>50</td>\n",
       "      <td>ultimate</td>\n",
       "      <td>70.0</td>\n",
       "    </tr>\n",
       "    <tr>\n",
       "      <td>2269</td>\n",
       "      <td>2265</td>\n",
       "      <td>1108</td>\n",
       "      <td>12</td>\n",
       "      <td>0</td>\n",
       "      <td>0.227705</td>\n",
       "      <td>1</td>\n",
       "      <td>0</td>\n",
       "      <td>ultimate</td>\n",
       "      <td>70.0</td>\n",
       "    </tr>\n",
       "    <tr>\n",
       "      <td>2288</td>\n",
       "      <td>2284</td>\n",
       "      <td>1204</td>\n",
       "      <td>11</td>\n",
       "      <td>0</td>\n",
       "      <td>20.846631</td>\n",
       "      <td>21</td>\n",
       "      <td>42</td>\n",
       "      <td>ultimate</td>\n",
       "      <td>70.0</td>\n",
       "    </tr>\n",
       "    <tr>\n",
       "      <td>2289</td>\n",
       "      <td>2285</td>\n",
       "      <td>1204</td>\n",
       "      <td>12</td>\n",
       "      <td>0</td>\n",
       "      <td>35.869189</td>\n",
       "      <td>36</td>\n",
       "      <td>78</td>\n",
       "      <td>ultimate</td>\n",
       "      <td>112.0</td>\n",
       "    </tr>\n",
       "  </tbody>\n",
       "</table>\n",
       "<p>720 rows × 9 columns</p>\n",
       "</div>"
      ],
      "text/plain": [
       "      index  user_id  month  duration    mb_used  gb_used  sms      plan  \\\n",
       "0         0     1000     12       124   1.856904        2   11  ultimate   \n",
       "19       19     1006     11        10   2.019893        3   15  ultimate   \n",
       "20       20     1006     12        59  31.366035       32  139  ultimate   \n",
       "26       26     1008     10       476  16.706045       17   21  ultimate   \n",
       "27       27     1008     11       446  23.121797       24   37  ultimate   \n",
       "...     ...      ...    ...       ...        ...      ...  ...       ...   \n",
       "2231   2226     1493     12       473  14.930752       15    0  ultimate   \n",
       "2247   2242     1497     12       300  10.846240       11   50  ultimate   \n",
       "2269   2265     1108     12         0   0.227705        1    0  ultimate   \n",
       "2288   2284     1204     11         0  20.846631       21   42  ultimate   \n",
       "2289   2285     1204     12         0  35.869189       36   78  ultimate   \n",
       "\n",
       "      revenue  \n",
       "0        70.0  \n",
       "19       70.0  \n",
       "20       84.0  \n",
       "26       70.0  \n",
       "27       70.0  \n",
       "...       ...  \n",
       "2231     70.0  \n",
       "2247     70.0  \n",
       "2269     70.0  \n",
       "2288     70.0  \n",
       "2289    112.0  \n",
       "\n",
       "[720 rows x 9 columns]"
      ]
     },
     "execution_count": 36,
     "metadata": {},
     "output_type": "execute_result"
    }
   ],
   "source": [
    "ultimate= merged_data.query('plan==\"ultimate\"')\n",
    "ultimate"
   ]
  },
  {
   "cell_type": "code",
   "execution_count": 37,
   "metadata": {},
   "outputs": [],
   "source": [
    "def stat(x1,x2):\n",
    "    mean_surf= surf[x1].mean()\n",
    "    std_surf= surf[x1].std()\n",
    "    var_surf= surf[x1].var()\n",
    "    cv_surf= std_surf/mean_surf\n",
    "\n",
    "    mean_ultimate= ultimate[x2].mean()\n",
    "    std_ultimate= ultimate[x2].std()\n",
    "    var_ultimate= ultimate[x2].var()\n",
    "    cv_ultimate= std_ultimate/mean_ultimate\n",
    "\n",
    "    fig, (ax1,ax2)= plt.subplots(nrows=1, ncols=2, figsize=(8,5))\n",
    "    ax1.hist(surf[x1], bins=30, alpha=0.8)\n",
    "    ax1.set_title('surf')\n",
    "    ax2.hist(ultimate[x2], bins=30, alpha=0.8)\n",
    "    ax2.set_title('ultimate')\n",
    "    plt.show()\n",
    "    print('surf plan average is:',mean_surf)\n",
    "    print('ultimate plan average is:', mean_ultimate)\n",
    "    print('surf plan Coefficient of Variation is:',cv_surf)\n",
    "    print('ultimate plan Coefficient of Variation is:',cv_ultimate)\n",
    "    print('surf plan dispertion is:',var_surf)\n",
    "    print('ultimate plan dispertion is:', var_ultimate)\n",
    "    print('surf plan std is:',std_surf)\n",
    "    print('ultimate plan std is:',std_ultimate)"
   ]
  },
  {
   "cell_type": "code",
   "execution_count": 38,
   "metadata": {
    "scrolled": true
   },
   "outputs": [
    {
     "data": {
      "image/png": "[encoded data removed]",
      "text/plain": [
       "<Figure size 576x360 with 2 Axes>"
      ]
     },
     "metadata": {
      "needs_background": "light"
     },
     "output_type": "display_data"
    },
    {
     "name": "stdout",
     "output_type": "stream",
     "text": [
      "surf plan average is: 428.7495232040687\n",
      "ultimate plan average is: 430.45\n",
      "surf plan Coefficient of Variation is: 0.546830112062162\n",
      "ultimate plan Coefficient of Variation is: 0.5587379775671537\n",
      "surf plan dispertion is: 54968.27946065038\n",
      "ultimate plan dispertion is: 57844.464812239225\n",
      "surf plan std is: 234.4531498202794\n",
      "ultimate plan std is: 240.5087624437813\n"
     ]
    }
   ],
   "source": [
    "stat('duration', 'duration')"
   ]
  },
  {
   "cell_type": "markdown",
   "metadata": {},
   "source": [
    "We can see that both plan distribution has a slightly positive skeweness and most of the values compact around the mean. We can notice the outliers above 1000 minutes. "
   ]
  },
  {
   "cell_type": "code",
   "execution_count": 39,
   "metadata": {
    "scrolled": false
   },
   "outputs": [
    {
     "data": {
      "image/png": "[encoded data removed]",
      "text/plain": [
       "<Figure size 576x360 with 2 Axes>"
      ]
     },
     "metadata": {
      "needs_background": "light"
     },
     "output_type": "display_data"
    },
    {
     "name": "stdout",
     "output_type": "stream",
     "text": [
      "surf plan average is: 16.670692943420217\n",
      "ultimate plan average is: 17.306944444444444\n",
      "surf plan Coefficient of Variation is: 0.4707375943000931\n",
      "ultimate plan Coefficient of Variation is: 0.44318091909187274\n",
      "surf plan dispertion is: 61.58359983759012\n",
      "ultimate plan dispertion is: 58.830549760469786\n",
      "surf plan std is: 7.847521891501171\n",
      "ultimate plan std is: 7.670107545560869\n"
     ]
    }
   ],
   "source": [
    "stat('gb_used','gb_used')"
   ]
  },
  {
   "cell_type": "markdown",
   "metadata": {},
   "source": [
    "Ultimate plan has a normal distribution of internet data with high peak around the mean.\n",
    "Surf plan has a noraml distribution of internet data with high peak around the mean.\n",
    "Both of the plan has a low cv which indicate that distribution centred around the mean"
   ]
  },
  {
   "cell_type": "code",
   "execution_count": 40,
   "metadata": {},
   "outputs": [
    {
     "data": {
      "image/png": "[encoded data removed]",
      "text/plain": [
       "<Figure size 576x360 with 2 Axes>"
      ]
     },
     "metadata": {
      "needs_background": "light"
     },
     "output_type": "display_data"
    },
    {
     "name": "stdout",
     "output_type": "stream",
     "text": [
      "surf plan average is: 31.15956770502225\n",
      "ultimate plan average is: 37.55138888888889\n",
      "surf plan Coefficient of Variation is: 1.077252348021466\n",
      "ultimate plan Coefficient of Variation is: 0.9258560107302188\n",
      "surf plan dispertion is: 1126.7245219504066\n",
      "ultimate plan dispertion is: 1208.7567435481378\n",
      "surf plan std is: 33.566717473569064\n",
      "ultimate plan std is: 34.76717911404573\n"
     ]
    }
   ],
   "source": [
    "stat('sms','sms')"
   ]
  },
  {
   "cell_type": "markdown",
   "metadata": {},
   "source": [
    "The message distrubation for both plan has a positively skeweness "
   ]
  },
  {
   "cell_type": "markdown",
   "metadata": {},
   "source": [
    "# 3. Hypothesis\n"
   ]
  },
  {
   "cell_type": "code",
   "execution_count": 41,
   "metadata": {},
   "outputs": [
    {
     "data": {
      "text/html": [
       "<div>\n",
       "<style scoped>\n",
       "    .dataframe tbody tr th:only-of-type {\n",
       "        vertical-align: middle;\n",
       "    }\n",
       "\n",
       "    .dataframe tbody tr th {\n",
       "        vertical-align: top;\n",
       "    }\n",
       "\n",
       "    .dataframe thead th {\n",
       "        text-align: right;\n",
       "    }\n",
       "</style>\n",
       "<table border=\"1\" class=\"dataframe\">\n",
       "  <thead>\n",
       "    <tr style=\"text-align: right;\">\n",
       "      <th></th>\n",
       "      <th>plan</th>\n",
       "      <th>mean</th>\n",
       "      <th>median</th>\n",
       "    </tr>\n",
       "  </thead>\n",
       "  <tbody>\n",
       "    <tr>\n",
       "      <td>0</td>\n",
       "      <td>surf</td>\n",
       "      <td>60.706408</td>\n",
       "      <td>40.36</td>\n",
       "    </tr>\n",
       "    <tr>\n",
       "      <td>1</td>\n",
       "      <td>ultimate</td>\n",
       "      <td>72.313889</td>\n",
       "      <td>70.00</td>\n",
       "    </tr>\n",
       "  </tbody>\n",
       "</table>\n",
       "</div>"
      ],
      "text/plain": [
       "       plan       mean  median\n",
       "0      surf  60.706408   40.36\n",
       "1  ultimate  72.313889   70.00"
      ]
     },
     "execution_count": 41,
     "metadata": {},
     "output_type": "execute_result"
    }
   ],
   "source": [
    "plan_grp= merged_data.pivot_table(index='plan', values='revenue', aggfunc=('mean','median')).reset_index()\n",
    "plan_grp"
   ]
  },
  {
   "cell_type": "code",
   "execution_count": 42,
   "metadata": {},
   "outputs": [],
   "source": [
    "def ttest(sample1,sample2,alpha=0.05):\n",
    "    p_value_levene= stats.levene(sample1, sample2).pvalue.astype(int)\n",
    "    if p_value_levene<alpha:\n",
    "        option_var=False\n",
    "    else:\n",
    "        option_var=True\n",
    "    p_value=stats.ttest_ind(sample1, sample2,nan_policy='omit',equal_var=option_var).pvalue.astype(int)\n",
    "    if p_value<alpha:\n",
    "        print('Reject H0: average of sample 1 is not equal to average of sample 2')\n",
    "    else:\n",
    "        print( \"Fail to Reject H0: We don't have enough evidence to say that averages of sample 1 \\\n",
    "  and sample 2 are not the same\")"
   ]
  },
  {
   "cell_type": "code",
   "execution_count": 43,
   "metadata": {},
   "outputs": [
    {
     "name": "stdout",
     "output_type": "stream",
     "text": [
      "Reject H0: average of sample 1 is not equal to average of sample 2\n"
     ]
    }
   ],
   "source": [
    "ttest(surf['revenue'],ultimate['revenue'],alpha=0.05)"
   ]
  },
  {
   "cell_type": "markdown",
   "metadata": {},
   "source": [
    "I decided to test the two samples with t-test of independent samples. The null hypotheses is that the two samples are equal, therefore there isn't a difference between the plan's average revenue. The alternative hypotheses is that we can't prove that the samples are equal.\n",
    "I decided to set the alpha on 5% and calculate if p-value is higher or lower than the alpha."
   ]
  },
  {
   "cell_type": "code",
   "execution_count": 44,
   "metadata": {},
   "outputs": [
    {
     "data": {
      "text/plain": [
       "New York-Newark-Jersey City, NY-NJ-PA MSA          80\n",
       "Los Angeles-Long Beach-Anaheim, CA MSA             29\n",
       "Dallas-Fort Worth-Arlington, TX MSA                21\n",
       "Chicago-Naperville-Elgin, IL-IN-WI MSA             19\n",
       "Philadelphia-Camden-Wilmington, PA-NJ-DE-MD MSA    17\n",
       "                                                   ..\n",
       "Oxnard-Thousand Oaks-Ventura, CA MSA                1\n",
       "Greensboro-High Point, NC MSA                       1\n",
       "Stockton, CA MSA                                    1\n",
       "Raleigh-Cary, NC MSA                                1\n",
       "Jacksonville, FL MSA                                1\n",
       "Name: city, Length: 73, dtype: int64"
      ]
     },
     "execution_count": 44,
     "metadata": {},
     "output_type": "execute_result"
    }
   ],
   "source": [
    "data_users.city.value_counts()\n",
    "#looking for New-York/New-Jearsey "
   ]
  },
  {
   "cell_type": "code",
   "execution_count": 45,
   "metadata": {},
   "outputs": [],
   "source": [
    "city_revenue= data_users.query('user_id in @merged_data.user_id')\n"
   ]
  },
  {
   "cell_type": "code",
   "execution_count": 46,
   "metadata": {},
   "outputs": [],
   "source": [
    "city_revenue_final= pd.merge(left= city_revenue, right= merged_data, how='outer', on=('user_id'))\n"
   ]
  },
  {
   "cell_type": "code",
   "execution_count": 47,
   "metadata": {},
   "outputs": [
    {
     "ename": "TypeError",
     "evalue": "'DataFrameGroupBy' object is not callable",
     "output_type": "error",
     "traceback": [
      "\u001b[0;31m---------------------------------------------------------------------------\u001b[0m",
      "\u001b[0;31mTypeError\u001b[0m                                 Traceback (most recent call last)",
      "\u001b[0;32m<ipython-input-47-28d27b627c22>\u001b[0m in \u001b[0;36m<module>\u001b[0;34m\u001b[0m\n\u001b[0;32m----> 1\u001b[0;31m \u001b[0mcity_revenue_final\u001b[0m\u001b[0;34m.\u001b[0m\u001b[0mgroupby\u001b[0m\u001b[0;34m(\u001b[0m\u001b[0;34m[\u001b[0m\u001b[0;34m'city'\u001b[0m\u001b[0;34m]\u001b[0m\u001b[0;34m)\u001b[0m\u001b[0;34m(\u001b[0m\u001b[0;34m'revenue'\u001b[0m\u001b[0;34m)\u001b[0m\u001b[0;34m.\u001b[0m\u001b[0mmean\u001b[0m\u001b[0;34m(\u001b[0m\u001b[0;34m)\u001b[0m\u001b[0;34m\u001b[0m\u001b[0;34m\u001b[0m\u001b[0m\n\u001b[0m",
      "\u001b[0;31mTypeError\u001b[0m: 'DataFrameGroupBy' object is not callable"
     ]
    }
   ],
   "source": [
    "city_revenue_final.groupby(['city'])('revenue').mean()"
   ]
  },
  {
   "cell_type": "code",
   "execution_count": 48,
   "metadata": {},
   "outputs": [],
   "source": [
    "rest= city_revenue_final.query('city != \"New York-Newark-Jersey City, NY-NJ-PA MSA\"')\n",
    "#creating sample for the H0"
   ]
  },
  {
   "cell_type": "code",
   "execution_count": 49,
   "metadata": {},
   "outputs": [],
   "source": [
    "nynj= city_revenue_final.query('city== \"New York-Newark-Jersey City, NY-NJ-PA MSA\"')\n",
    "#creating sample fot the H0"
   ]
  },
  {
   "cell_type": "code",
   "execution_count": 50,
   "metadata": {},
   "outputs": [
    {
     "name": "stdout",
     "output_type": "stream",
     "text": [
      "Reject H0: average of sample 1 is not equal to average of sample 2\n"
     ]
    }
   ],
   "source": [
    "ttest(rest['revenue'],nynj['revenue'],alpha=0.05)"
   ]
  },
  {
   "cell_type": "markdown",
   "metadata": {},
   "source": [
    "I decided to test the two samples with t-test of independent samples. The null hypotheses is that the two samples are equal, therefore there isn't a difference between the revenue of Ny-Nj area and the rest of the states. The alternative hypotheses is that we can't prove that the samples are equal. I decided to set the alpha on 5% and calculate if p-value is higher or lower than the alpha."
   ]
  },
  {
   "cell_type": "code",
   "execution_count": 51,
   "metadata": {},
   "outputs": [
    {
     "data": {
      "image/png": "[encoded data removed]",
      "text/plain": [
       "<Figure size 720x720 with 2 Axes>"
      ]
     },
     "metadata": {
      "needs_background": "light"
     },
     "output_type": "display_data"
    }
   ],
   "source": [
    "plt.figure(figsize=(10, 10))\n",
    "heatmap = sns.heatmap(surf.corr(), vmin=-1, vmax=1, annot=True)\n",
    "heatmap.set_title('Correlation Heatmap surf plan', fontdict={'fontsize':12}, pad=12);"
   ]
  },
  {
   "cell_type": "markdown",
   "metadata": {},
   "source": [
    "We can see the correlation between the revenue and internet data payment. many clients exceeded the limit of internet data therefore the revenue was higher "
   ]
  },
  {
   "cell_type": "code",
   "execution_count": 52,
   "metadata": {},
   "outputs": [
    {
     "data": {
      "image/png": "[encoded data removed]",
      "text/plain": [
       "<Figure size 720x720 with 2 Axes>"
      ]
     },
     "metadata": {
      "needs_background": "light"
     },
     "output_type": "display_data"
    }
   ],
   "source": [
    "plt.figure(figsize=(10, 10))\n",
    "heatmap = sns.heatmap(ultimate.corr(), vmin=-1, vmax=1, annot=True)\n",
    "heatmap.set_title('Correlation Heatmap ultimate plan', fontdict={'fontsize':12}, pad=12);"
   ]
  },
  {
   "cell_type": "markdown",
   "metadata": {},
   "source": [
    "Comparing to the surf plan, this plan has not have high correlation between revenue and Gb_used. The reason is because many clients didn't exceed the plan limit and didn't pay on top of monthly charge."
   ]
  },
  {
   "cell_type": "markdown",
   "metadata": {},
   "source": [
    "# Overall conclusion\n",
    "\n",
    "After analyize the data we can conclude a number of interesting results regarding the behavoir of clients on the two pre paid plans:\n",
    "1. The average duration of calls made in both plans are similar: 428 minutes for surf and 430 ultimate.\n",
    "2. The average use of internet data is similar aswell. 16 GB for surf and 17 GB for ultimate\n",
    "3. The average messages sent is also similar. 31 sms for surf and 37 sms for ultimate.\n",
    "4. The distribution of both plans tells us that there is a similar behavior of usage.\n",
    "5. We can notice that Ultimate clients hardly exceed much from the monthly charge compare to the surf clients that exceed much more. In the heatmap correlation we can see that the high revenue in surf correlate with the high usage of internet data.\n",
    "6. The average of total revenue in surf plan is 60 dollars. Three times higher from the fixed monthly charge.\n",
    "7. The average of total revenue in ultimate plan is 72 dollars. \n",
    "8. In my opinion based on the data and results we can raise the price of surf and make the clients move to the ultimate plan easily and be able to use the services in the limit of the plan without exceed it.\n",
    "9. As for the question where to invest more advertisment budget is in the ultimate plan due to the facts that I mentioned before.\n"
   ]
  }
 ],
 "metadata": {
  "ExecuteTimeLog": [
   {
    "duration": 1418,
    "start_time": "2021-11-04T09:50:28.615Z"
   },
   {
    "duration": 406,
    "start_time": "2021-11-04T09:54:23.006Z"
   },
   {
    "duration": 22,
    "start_time": "2021-11-04T09:54:37.042Z"
   },
   {
    "duration": 13,
    "start_time": "2021-11-04T09:55:01.291Z"
   },
   {
    "duration": 11,
    "start_time": "2021-11-04T09:55:52.971Z"
   },
   {
    "duration": 13,
    "start_time": "2021-11-04T09:56:21.554Z"
   },
   {
    "duration": 3355,
    "start_time": "2021-11-04T09:57:18.999Z"
   },
   {
    "duration": 369,
    "start_time": "2021-11-04T09:57:49.184Z"
   },
   {
    "duration": 389,
    "start_time": "2021-11-04T09:58:12.603Z"
   },
   {
    "duration": 10,
    "start_time": "2021-11-04T10:04:26.828Z"
   },
   {
    "duration": 10,
    "start_time": "2021-11-04T10:04:35.525Z"
   },
   {
    "duration": 24,
    "start_time": "2021-11-04T10:05:00.188Z"
   },
   {
    "duration": 12,
    "start_time": "2021-11-04T10:05:34.378Z"
   },
   {
    "duration": 19,
    "start_time": "2021-11-04T10:05:54.583Z"
   },
   {
    "duration": 11,
    "start_time": "2021-11-04T10:09:03.129Z"
   },
   {
    "duration": 10,
    "start_time": "2021-11-04T10:09:26.910Z"
   },
   {
    "duration": 13,
    "start_time": "2021-11-04T10:09:36.196Z"
   },
   {
    "duration": 15,
    "start_time": "2021-11-04T10:09:59.762Z"
   },
   {
    "duration": 9,
    "start_time": "2021-11-04T10:10:14.155Z"
   },
   {
    "duration": 22,
    "start_time": "2021-11-04T10:10:26.390Z"
   },
   {
    "duration": 10,
    "start_time": "2021-11-04T10:10:39.009Z"
   },
   {
    "duration": 9,
    "start_time": "2021-11-04T10:10:46.319Z"
   },
   {
    "duration": 14,
    "start_time": "2021-11-04T10:10:53.658Z"
   },
   {
    "duration": 9,
    "start_time": "2021-11-04T10:11:30.489Z"
   },
   {
    "duration": 10,
    "start_time": "2021-11-04T10:14:29.506Z"
   },
   {
    "duration": 7,
    "start_time": "2021-11-04T10:28:54.375Z"
   },
   {
    "duration": 368,
    "start_time": "2021-11-04T10:30:59.035Z"
   },
   {
    "duration": 8,
    "start_time": "2021-11-04T10:32:24.752Z"
   },
   {
    "duration": 418,
    "start_time": "2021-11-04T10:32:35.780Z"
   },
   {
    "duration": 394,
    "start_time": "2021-11-04T10:35:22.008Z"
   },
   {
    "duration": 373,
    "start_time": "2021-11-04T10:36:32.527Z"
   },
   {
    "duration": 374,
    "start_time": "2021-11-04T10:36:54.059Z"
   },
   {
    "duration": 101,
    "start_time": "2021-11-04T14:28:25.594Z"
   },
   {
    "duration": 360,
    "start_time": "2021-11-04T14:28:38.435Z"
   },
   {
    "duration": 1269,
    "start_time": "2021-11-04T14:28:47.209Z"
   },
   {
    "duration": 1204,
    "start_time": "2021-11-04T14:28:48.481Z"
   },
   {
    "duration": 23,
    "start_time": "2021-11-04T14:28:49.689Z"
   },
   {
    "duration": 350,
    "start_time": "2021-11-04T14:28:49.714Z"
   },
   {
    "duration": 17,
    "start_time": "2021-11-04T14:28:50.067Z"
   },
   {
    "duration": 9,
    "start_time": "2021-11-04T14:28:50.087Z"
   },
   {
    "duration": 10,
    "start_time": "2021-11-04T14:29:34.607Z"
   },
   {
    "duration": 7,
    "start_time": "2021-11-04T14:30:39.184Z"
   },
   {
    "duration": 15,
    "start_time": "2021-11-04T14:32:03.342Z"
   },
   {
    "duration": 7,
    "start_time": "2021-11-04T14:32:36.942Z"
   },
   {
    "duration": 423,
    "start_time": "2021-11-04T14:33:10.158Z"
   },
   {
    "duration": 292,
    "start_time": "2021-11-04T14:35:03.170Z"
   },
   {
    "duration": 12,
    "start_time": "2021-11-04T14:35:37.607Z"
   },
   {
    "duration": 1243,
    "start_time": "2021-11-04T14:35:48.853Z"
   },
   {
    "duration": 378,
    "start_time": "2021-11-04T14:35:50.098Z"
   },
   {
    "duration": 23,
    "start_time": "2021-11-04T14:35:50.479Z"
   },
   {
    "duration": 13,
    "start_time": "2021-11-04T14:35:50.504Z"
   },
   {
    "duration": 15,
    "start_time": "2021-11-04T14:35:50.520Z"
   },
   {
    "duration": 13,
    "start_time": "2021-11-04T14:35:50.537Z"
   },
   {
    "duration": 372,
    "start_time": "2021-11-04T14:40:08.615Z"
   },
   {
    "duration": 17,
    "start_time": "2021-11-04T14:40:54.591Z"
   },
   {
    "duration": 17,
    "start_time": "2021-11-04T14:40:58.198Z"
   },
   {
    "duration": 8,
    "start_time": "2021-11-04T14:41:02.951Z"
   },
   {
    "duration": 17,
    "start_time": "2021-11-04T14:41:11.040Z"
   },
   {
    "duration": 6,
    "start_time": "2021-11-04T14:41:27.502Z"
   },
   {
    "duration": 428,
    "start_time": "2021-11-04T14:41:35.485Z"
   },
   {
    "duration": 18,
    "start_time": "2021-11-04T14:41:41.453Z"
   },
   {
    "duration": 11,
    "start_time": "2021-11-04T14:41:51.787Z"
   },
   {
    "duration": 11,
    "start_time": "2021-11-04T14:41:57.447Z"
   },
   {
    "duration": 18,
    "start_time": "2021-11-04T14:42:10.853Z"
   },
   {
    "duration": 20,
    "start_time": "2021-11-04T14:46:53.773Z"
   },
   {
    "duration": 5,
    "start_time": "2021-11-04T14:47:27.443Z"
   },
   {
    "duration": 1109,
    "start_time": "2021-11-04T17:07:36.477Z"
   },
   {
    "duration": 310,
    "start_time": "2021-11-04T17:07:37.588Z"
   },
   {
    "duration": 16,
    "start_time": "2021-11-04T17:07:37.901Z"
   },
   {
    "duration": 6,
    "start_time": "2021-11-04T17:07:37.920Z"
   },
   {
    "duration": 4,
    "start_time": "2021-11-04T17:07:37.928Z"
   },
   {
    "duration": 17,
    "start_time": "2021-11-04T17:07:37.934Z"
   },
   {
    "duration": 5,
    "start_time": "2021-11-04T17:07:44.042Z"
   },
   {
    "duration": 13,
    "start_time": "2021-11-04T17:08:05.440Z"
   },
   {
    "duration": 18,
    "start_time": "2021-11-04T17:11:46.892Z"
   },
   {
    "duration": 27,
    "start_time": "2021-11-04T17:12:08.995Z"
   },
   {
    "duration": 21,
    "start_time": "2021-11-04T17:12:54.721Z"
   },
   {
    "duration": 39,
    "start_time": "2021-11-04T17:14:52.770Z"
   },
   {
    "duration": 109,
    "start_time": "2021-11-04T17:15:03.171Z"
   },
   {
    "duration": 10,
    "start_time": "2021-11-04T17:15:10.968Z"
   },
   {
    "duration": 9,
    "start_time": "2021-11-04T17:15:48.527Z"
   },
   {
    "duration": 19,
    "start_time": "2021-11-04T17:16:24.229Z"
   },
   {
    "duration": 30,
    "start_time": "2021-11-04T17:17:02.926Z"
   },
   {
    "duration": 9,
    "start_time": "2021-11-04T17:17:12.284Z"
   },
   {
    "duration": 8,
    "start_time": "2021-11-04T17:17:19.289Z"
   },
   {
    "duration": 10,
    "start_time": "2021-11-04T17:18:03.124Z"
   },
   {
    "duration": 18,
    "start_time": "2021-11-04T17:18:13.794Z"
   },
   {
    "duration": 18,
    "start_time": "2021-11-04T17:19:00.628Z"
   },
   {
    "duration": 12,
    "start_time": "2021-11-04T17:19:49.904Z"
   },
   {
    "duration": 19,
    "start_time": "2021-11-04T17:20:29.781Z"
   },
   {
    "duration": 18,
    "start_time": "2021-11-04T17:25:23.142Z"
   },
   {
    "duration": 8,
    "start_time": "2021-11-04T17:26:20.628Z"
   },
   {
    "duration": 11,
    "start_time": "2021-11-04T17:26:29.965Z"
   },
   {
    "duration": 10,
    "start_time": "2021-11-04T17:26:40.183Z"
   },
   {
    "duration": 5,
    "start_time": "2021-11-04T17:27:54.590Z"
   },
   {
    "duration": 13,
    "start_time": "2021-11-04T17:28:03.161Z"
   },
   {
    "duration": 11,
    "start_time": "2021-11-04T17:28:24.318Z"
   },
   {
    "duration": 439,
    "start_time": "2021-11-04T17:28:43.113Z"
   },
   {
    "duration": 12,
    "start_time": "2021-11-04T17:28:56.438Z"
   },
   {
    "duration": 13,
    "start_time": "2021-11-04T17:29:03.255Z"
   },
   {
    "duration": 3,
    "start_time": "2021-11-04T17:29:23.771Z"
   },
   {
    "duration": 117,
    "start_time": "2021-11-04T17:29:41.569Z"
   },
   {
    "duration": -62,
    "start_time": "2021-11-04T17:29:42.446Z"
   },
   {
    "duration": 354,
    "start_time": "2021-11-04T17:29:45.911Z"
   },
   {
    "duration": 13,
    "start_time": "2021-11-04T17:29:57.591Z"
   },
   {
    "duration": 388,
    "start_time": "2021-11-04T17:30:12.339Z"
   },
   {
    "duration": 1147,
    "start_time": "2021-11-04T17:30:23.870Z"
   },
   {
    "duration": 327,
    "start_time": "2021-11-04T17:30:25.021Z"
   },
   {
    "duration": 10,
    "start_time": "2021-11-04T17:30:25.351Z"
   },
   {
    "duration": 5,
    "start_time": "2021-11-04T17:30:25.363Z"
   },
   {
    "duration": 17,
    "start_time": "2021-11-04T17:30:25.369Z"
   },
   {
    "duration": 25,
    "start_time": "2021-11-04T17:30:25.388Z"
   },
   {
    "duration": 44,
    "start_time": "2021-11-04T17:30:25.415Z"
   },
   {
    "duration": 9,
    "start_time": "2021-11-04T17:30:25.461Z"
   },
   {
    "duration": 10,
    "start_time": "2021-11-04T17:30:25.471Z"
   },
   {
    "duration": 41,
    "start_time": "2021-11-04T17:30:25.483Z"
   },
   {
    "duration": 30,
    "start_time": "2021-11-04T17:30:25.525Z"
   },
   {
    "duration": 22,
    "start_time": "2021-11-04T17:30:25.557Z"
   },
   {
    "duration": 16,
    "start_time": "2021-11-04T17:30:25.607Z"
   },
   {
    "duration": 5,
    "start_time": "2021-11-04T17:30:25.625Z"
   },
   {
    "duration": 10,
    "start_time": "2021-11-04T17:32:33.882Z"
   },
   {
    "duration": 9,
    "start_time": "2021-11-04T17:35:37.537Z"
   },
   {
    "duration": 5,
    "start_time": "2021-11-04T17:35:50.279Z"
   },
   {
    "duration": 6,
    "start_time": "2021-11-04T17:35:59.039Z"
   },
   {
    "duration": 8,
    "start_time": "2021-11-04T17:36:00.728Z"
   },
   {
    "duration": 449,
    "start_time": "2021-11-04T17:36:36.590Z"
   },
   {
    "duration": 18,
    "start_time": "2021-11-04T17:36:48.116Z"
   },
   {
    "duration": 9,
    "start_time": "2021-11-04T17:36:49.669Z"
   },
   {
    "duration": 364,
    "start_time": "2021-11-04T17:38:53.425Z"
   },
   {
    "duration": 371,
    "start_time": "2021-11-04T17:38:58.459Z"
   },
   {
    "duration": 370,
    "start_time": "2021-11-04T17:39:01.504Z"
   },
   {
    "duration": 15,
    "start_time": "2021-11-04T17:39:07.056Z"
   },
   {
    "duration": 9,
    "start_time": "2021-11-04T17:39:09.092Z"
   },
   {
    "duration": 23,
    "start_time": "2021-11-04T17:40:10.315Z"
   },
   {
    "duration": 9,
    "start_time": "2021-11-04T17:40:16.136Z"
   },
   {
    "duration": 11,
    "start_time": "2021-11-04T17:40:23.319Z"
   },
   {
    "duration": 8,
    "start_time": "2021-11-04T17:40:59.416Z"
   },
   {
    "duration": 14,
    "start_time": "2021-11-04T17:42:40.549Z"
   },
   {
    "duration": 25,
    "start_time": "2021-11-04T17:43:21.197Z"
   },
   {
    "duration": 10,
    "start_time": "2021-11-04T17:44:30.446Z"
   },
   {
    "duration": 14,
    "start_time": "2021-11-04T17:45:21.844Z"
   },
   {
    "duration": 16,
    "start_time": "2021-11-04T17:45:53.552Z"
   },
   {
    "duration": 347,
    "start_time": "2021-11-04T18:25:43.581Z"
   },
   {
    "duration": 17,
    "start_time": "2021-11-04T18:25:54.695Z"
   },
   {
    "duration": 1124,
    "start_time": "2021-11-04T18:26:08.632Z"
   },
   {
    "duration": 324,
    "start_time": "2021-11-04T18:26:09.758Z"
   },
   {
    "duration": 12,
    "start_time": "2021-11-04T18:26:10.084Z"
   },
   {
    "duration": 34,
    "start_time": "2021-11-04T18:26:10.098Z"
   },
   {
    "duration": 5,
    "start_time": "2021-11-04T18:26:10.134Z"
   },
   {
    "duration": 16,
    "start_time": "2021-11-04T18:26:10.141Z"
   },
   {
    "duration": 32,
    "start_time": "2021-11-04T18:26:10.158Z"
   },
   {
    "duration": 38,
    "start_time": "2021-11-04T18:26:10.193Z"
   },
   {
    "duration": 9,
    "start_time": "2021-11-04T18:26:10.233Z"
   },
   {
    "duration": 19,
    "start_time": "2021-11-04T18:26:10.244Z"
   },
   {
    "duration": 8,
    "start_time": "2021-11-04T18:26:10.265Z"
   },
   {
    "duration": 34,
    "start_time": "2021-11-04T18:26:10.275Z"
   },
   {
    "duration": 29,
    "start_time": "2021-11-04T18:26:10.312Z"
   },
   {
    "duration": 68,
    "start_time": "2021-11-04T18:26:10.343Z"
   },
   {
    "duration": 37,
    "start_time": "2021-11-04T18:26:10.414Z"
   },
   {
    "duration": 19,
    "start_time": "2021-11-04T18:26:10.453Z"
   },
   {
    "duration": 34,
    "start_time": "2021-11-04T18:26:10.474Z"
   },
   {
    "duration": 7,
    "start_time": "2021-11-04T18:26:10.510Z"
   },
   {
    "duration": 16,
    "start_time": "2021-11-04T18:26:10.519Z"
   },
   {
    "duration": 23,
    "start_time": "2021-11-04T18:26:10.537Z"
   },
   {
    "duration": 48,
    "start_time": "2021-11-04T18:26:10.563Z"
   },
   {
    "duration": 433,
    "start_time": "2021-11-04T18:27:15.862Z"
   },
   {
    "duration": 16,
    "start_time": "2021-11-04T18:27:33.662Z"
   },
   {
    "duration": 9,
    "start_time": "2021-11-04T18:27:53.853Z"
   },
   {
    "duration": 8,
    "start_time": "2021-11-04T18:28:09.280Z"
   },
   {
    "duration": 17,
    "start_time": "2021-11-04T18:28:38.433Z"
   },
   {
    "duration": 348,
    "start_time": "2021-11-04T18:30:07.663Z"
   },
   {
    "duration": 17,
    "start_time": "2021-11-04T18:30:20.817Z"
   },
   {
    "duration": 20,
    "start_time": "2021-11-04T18:30:50.202Z"
   },
   {
    "duration": 15,
    "start_time": "2021-11-04T18:30:58.746Z"
   },
   {
    "duration": 12,
    "start_time": "2021-11-04T18:31:19.192Z"
   },
   {
    "duration": 9,
    "start_time": "2021-11-04T18:31:28.463Z"
   },
   {
    "duration": 224,
    "start_time": "2021-11-04T18:34:08.909Z"
   },
   {
    "duration": 14,
    "start_time": "2021-11-04T18:35:34.179Z"
   },
   {
    "duration": 1361,
    "start_time": "2021-11-04T19:13:51.282Z"
   },
   {
    "duration": 366,
    "start_time": "2021-11-04T19:13:52.646Z"
   },
   {
    "duration": 18,
    "start_time": "2021-11-04T19:13:53.015Z"
   },
   {
    "duration": 30,
    "start_time": "2021-11-04T19:13:53.035Z"
   },
   {
    "duration": 6,
    "start_time": "2021-11-04T19:13:53.067Z"
   },
   {
    "duration": 33,
    "start_time": "2021-11-04T19:13:53.075Z"
   },
   {
    "duration": 29,
    "start_time": "2021-11-04T19:13:53.111Z"
   },
   {
    "duration": 65,
    "start_time": "2021-11-04T19:13:53.143Z"
   },
   {
    "duration": 12,
    "start_time": "2021-11-04T19:13:53.211Z"
   },
   {
    "duration": 41,
    "start_time": "2021-11-04T19:13:53.225Z"
   },
   {
    "duration": 18,
    "start_time": "2021-11-04T19:13:53.268Z"
   },
   {
    "duration": 264,
    "start_time": "2021-11-04T19:13:53.288Z"
   },
   {
    "duration": 11,
    "start_time": "2021-11-04T19:13:53.554Z"
   },
   {
    "duration": 14,
    "start_time": "2021-11-04T19:13:53.567Z"
   },
   {
    "duration": 31,
    "start_time": "2021-11-04T19:13:53.583Z"
   },
   {
    "duration": 27,
    "start_time": "2021-11-04T19:13:53.616Z"
   },
   {
    "duration": 25,
    "start_time": "2021-11-04T19:13:53.646Z"
   },
   {
    "duration": 37,
    "start_time": "2021-11-04T19:13:53.673Z"
   },
   {
    "duration": 30,
    "start_time": "2021-11-04T19:13:53.712Z"
   },
   {
    "duration": 15,
    "start_time": "2021-11-04T19:13:53.744Z"
   },
   {
    "duration": 10,
    "start_time": "2021-11-04T19:13:53.760Z"
   },
   {
    "duration": 40,
    "start_time": "2021-11-04T19:13:53.772Z"
   },
   {
    "duration": 20,
    "start_time": "2021-11-04T19:13:53.816Z"
   },
   {
    "duration": 23,
    "start_time": "2021-11-04T19:13:53.838Z"
   },
   {
    "duration": 44,
    "start_time": "2021-11-04T19:13:53.863Z"
   },
   {
    "duration": 1030,
    "start_time": "2021-11-04T19:19:57.331Z"
   },
   {
    "duration": 37,
    "start_time": "2021-11-04T19:20:48.727Z"
   },
   {
    "duration": 56,
    "start_time": "2021-11-04T19:20:53.002Z"
   },
   {
    "duration": 22,
    "start_time": "2021-11-04T19:21:29.897Z"
   },
   {
    "duration": 30,
    "start_time": "2021-11-04T19:23:03.407Z"
   },
   {
    "duration": 12,
    "start_time": "2021-11-04T19:25:18.534Z"
   },
   {
    "duration": 24,
    "start_time": "2021-11-04T19:25:32.776Z"
   },
   {
    "duration": 540,
    "start_time": "2021-11-04T19:28:42.165Z"
   },
   {
    "duration": 382,
    "start_time": "2021-11-04T19:29:01.094Z"
   },
   {
    "duration": 23,
    "start_time": "2021-11-04T19:29:50.335Z"
   },
   {
    "duration": 23,
    "start_time": "2021-11-04T19:30:16.282Z"
   },
   {
    "duration": 27,
    "start_time": "2021-11-04T19:32:54.103Z"
   },
   {
    "duration": 25,
    "start_time": "2021-11-04T19:33:16.938Z"
   },
   {
    "duration": 1456,
    "start_time": "2021-11-04T19:33:27.815Z"
   },
   {
    "duration": 128,
    "start_time": "2021-11-04T19:33:50.030Z"
   },
   {
    "duration": 29,
    "start_time": "2021-11-04T19:36:04.306Z"
   },
   {
    "duration": 23,
    "start_time": "2021-11-04T19:36:25.209Z"
   },
   {
    "duration": 12,
    "start_time": "2021-11-04T19:37:48.098Z"
   },
   {
    "duration": 16,
    "start_time": "2021-11-04T19:38:11.018Z"
   },
   {
    "duration": 359,
    "start_time": "2021-11-04T19:45:07.437Z"
   },
   {
    "duration": 9,
    "start_time": "2021-11-04T19:45:17.590Z"
   },
   {
    "duration": 10,
    "start_time": "2021-11-04T19:46:05.252Z"
   },
   {
    "duration": 10,
    "start_time": "2021-11-04T19:46:08.065Z"
   },
   {
    "duration": 21,
    "start_time": "2021-11-04T19:47:29.249Z"
   },
   {
    "duration": 419,
    "start_time": "2021-11-04T19:50:18.836Z"
   },
   {
    "duration": 3,
    "start_time": "2021-11-04T19:50:33.375Z"
   },
   {
    "duration": 5,
    "start_time": "2021-11-04T19:50:41.599Z"
   },
   {
    "duration": 380,
    "start_time": "2021-11-04T19:51:13.798Z"
   },
   {
    "duration": 397,
    "start_time": "2021-11-04T19:51:26.257Z"
   },
   {
    "duration": 4973,
    "start_time": "2021-11-04T19:52:02.040Z"
   },
   {
    "duration": 4644,
    "start_time": "2021-11-04T19:52:24.760Z"
   },
   {
    "duration": 372,
    "start_time": "2021-11-04T20:48:52.891Z"
   },
   {
    "duration": 5,
    "start_time": "2021-11-04T20:49:19.591Z"
   },
   {
    "duration": 6,
    "start_time": "2021-11-04T20:49:31.142Z"
   },
   {
    "duration": 11,
    "start_time": "2021-11-04T20:52:11.558Z"
   },
   {
    "duration": 9,
    "start_time": "2021-11-04T20:53:01.105Z"
   },
   {
    "duration": 16,
    "start_time": "2021-11-04T20:53:12.896Z"
   },
   {
    "duration": 401,
    "start_time": "2021-11-04T20:53:26.578Z"
   },
   {
    "duration": 7,
    "start_time": "2021-11-04T20:53:33.491Z"
   },
   {
    "duration": 7,
    "start_time": "2021-11-04T20:54:06.408Z"
   },
   {
    "duration": 10,
    "start_time": "2021-11-04T20:54:21.941Z"
   },
   {
    "duration": 7,
    "start_time": "2021-11-04T20:54:41.665Z"
   },
   {
    "duration": 8,
    "start_time": "2021-11-04T20:55:05.274Z"
   },
   {
    "duration": 9,
    "start_time": "2021-11-04T20:55:07.245Z"
   },
   {
    "duration": 11,
    "start_time": "2021-11-04T20:55:24.474Z"
   },
   {
    "duration": 408,
    "start_time": "2021-11-04T20:55:51.595Z"
   },
   {
    "duration": 390,
    "start_time": "2021-11-04T20:56:20.677Z"
   },
   {
    "duration": 19,
    "start_time": "2021-11-04T20:56:53.314Z"
   },
   {
    "duration": 7,
    "start_time": "2021-11-04T20:57:47.899Z"
   },
   {
    "duration": 10,
    "start_time": "2021-11-04T20:58:17.692Z"
   },
   {
    "duration": 16,
    "start_time": "2021-11-04T20:58:30.319Z"
   },
   {
    "duration": 11,
    "start_time": "2021-11-04T20:59:00.989Z"
   },
   {
    "duration": 10,
    "start_time": "2021-11-04T20:59:18.594Z"
   },
   {
    "duration": 18,
    "start_time": "2021-11-04T20:59:28.114Z"
   },
   {
    "duration": 9,
    "start_time": "2021-11-04T21:00:12.850Z"
   },
   {
    "duration": 9328,
    "start_time": "2021-11-04T21:56:23.601Z"
   },
   {
    "duration": 388,
    "start_time": "2021-11-04T22:02:06.520Z"
   },
   {
    "duration": 587,
    "start_time": "2021-11-04T22:02:29.092Z"
   },
   {
    "duration": 592,
    "start_time": "2021-11-04T22:02:47.892Z"
   },
   {
    "duration": 3,
    "start_time": "2021-11-04T22:06:53.024Z"
   },
   {
    "duration": 1728,
    "start_time": "2021-11-04T22:08:21.605Z"
   },
   {
    "duration": 47,
    "start_time": "2021-11-04T22:10:39.961Z"
   },
   {
    "duration": 32,
    "start_time": "2021-11-04T22:11:28.729Z"
   },
   {
    "duration": 16,
    "start_time": "2021-11-04T22:11:38.625Z"
   },
   {
    "duration": 3,
    "start_time": "2021-11-04T22:21:31.045Z"
   },
   {
    "duration": 1061,
    "start_time": "2021-11-04T22:21:35.463Z"
   },
   {
    "duration": 4,
    "start_time": "2021-11-04T22:22:16.786Z"
   },
   {
    "duration": 56,
    "start_time": "2021-11-04T22:22:18.816Z"
   },
   {
    "duration": 16,
    "start_time": "2021-11-04T22:22:21.175Z"
   },
   {
    "duration": 4,
    "start_time": "2021-11-04T22:22:56.280Z"
   },
   {
    "duration": 64,
    "start_time": "2021-11-04T22:22:58.859Z"
   },
   {
    "duration": 16,
    "start_time": "2021-11-04T22:23:00.528Z"
   },
   {
    "duration": 3,
    "start_time": "2021-11-04T22:23:07.898Z"
   },
   {
    "duration": 54,
    "start_time": "2021-11-04T22:23:10.019Z"
   },
   {
    "duration": 18,
    "start_time": "2021-11-04T22:23:12.015Z"
   },
   {
    "duration": 10,
    "start_time": "2021-11-04T22:23:29.223Z"
   },
   {
    "duration": 18,
    "start_time": "2021-11-04T22:23:55.615Z"
   },
   {
    "duration": 4,
    "start_time": "2021-11-04T22:24:53.596Z"
   },
   {
    "duration": 63,
    "start_time": "2021-11-04T22:24:56.095Z"
   },
   {
    "duration": 14,
    "start_time": "2021-11-04T22:24:59.148Z"
   },
   {
    "duration": 3,
    "start_time": "2021-11-04T22:27:15.027Z"
   },
   {
    "duration": 58,
    "start_time": "2021-11-04T22:27:17.951Z"
   },
   {
    "duration": 12,
    "start_time": "2021-11-04T22:27:19.748Z"
   },
   {
    "duration": 126,
    "start_time": "2021-11-04T22:33:09.203Z"
   },
   {
    "duration": 4,
    "start_time": "2021-11-04T22:33:30.220Z"
   },
   {
    "duration": 95,
    "start_time": "2021-11-04T22:33:32.353Z"
   },
   {
    "duration": 14,
    "start_time": "2021-11-04T22:33:34.156Z"
   },
   {
    "duration": 4,
    "start_time": "2021-11-04T22:37:32.978Z"
   },
   {
    "duration": 77,
    "start_time": "2021-11-04T22:37:34.694Z"
   },
   {
    "duration": 14,
    "start_time": "2021-11-04T22:37:36.443Z"
   },
   {
    "duration": 4,
    "start_time": "2021-11-04T22:38:16.578Z"
   },
   {
    "duration": 94,
    "start_time": "2021-11-04T22:38:18.645Z"
   },
   {
    "duration": 20,
    "start_time": "2021-11-04T22:38:20.517Z"
   },
   {
    "duration": 116,
    "start_time": "2021-11-04T22:40:27.105Z"
   },
   {
    "duration": 17,
    "start_time": "2021-11-04T22:40:28.954Z"
   },
   {
    "duration": 123,
    "start_time": "2021-11-04T22:40:40.777Z"
   },
   {
    "duration": 4,
    "start_time": "2021-11-04T22:40:50.832Z"
   },
   {
    "duration": 95,
    "start_time": "2021-11-04T22:40:53.379Z"
   },
   {
    "duration": 14,
    "start_time": "2021-11-04T22:40:54.873Z"
   },
   {
    "duration": 4,
    "start_time": "2021-11-04T22:43:59.492Z"
   },
   {
    "duration": 941,
    "start_time": "2021-11-04T22:44:03.619Z"
   },
   {
    "duration": 4,
    "start_time": "2021-11-04T22:45:51.040Z"
   },
   {
    "duration": 949,
    "start_time": "2021-11-04T22:45:53.435Z"
   },
   {
    "duration": 5,
    "start_time": "2021-11-04T22:46:47.555Z"
   },
   {
    "duration": 965,
    "start_time": "2021-11-04T22:46:49.782Z"
   },
   {
    "duration": 4,
    "start_time": "2021-11-04T22:47:45.683Z"
   },
   {
    "duration": 91,
    "start_time": "2021-11-04T22:47:47.501Z"
   },
   {
    "duration": 17,
    "start_time": "2021-11-04T22:47:51.336Z"
   },
   {
    "duration": 114,
    "start_time": "2021-11-04T22:48:53.661Z"
   },
   {
    "duration": 113,
    "start_time": "2021-11-04T22:49:01.277Z"
   },
   {
    "duration": 5,
    "start_time": "2021-11-04T22:49:37.837Z"
   },
   {
    "duration": 100,
    "start_time": "2021-11-04T22:49:40.170Z"
   },
   {
    "duration": 12,
    "start_time": "2021-11-04T22:49:42.247Z"
   },
   {
    "duration": 16,
    "start_time": "2021-11-04T22:52:11.724Z"
   },
   {
    "duration": 7,
    "start_time": "2021-11-04T22:54:28.015Z"
   },
   {
    "duration": 109,
    "start_time": "2021-11-04T22:54:30.167Z"
   },
   {
    "duration": 15,
    "start_time": "2021-11-04T22:54:32.264Z"
   },
   {
    "duration": 5,
    "start_time": "2021-11-04T22:55:05.289Z"
   },
   {
    "duration": 95,
    "start_time": "2021-11-04T22:55:07.281Z"
   },
   {
    "duration": 16,
    "start_time": "2021-11-04T22:55:09.009Z"
   },
   {
    "duration": 129,
    "start_time": "2021-11-04T23:09:27.059Z"
   },
   {
    "duration": 108,
    "start_time": "2021-11-04T23:09:33.762Z"
   },
   {
    "duration": 4,
    "start_time": "2021-11-04T23:09:42.009Z"
   },
   {
    "duration": 70,
    "start_time": "2021-11-04T23:09:44.466Z"
   },
   {
    "duration": 15,
    "start_time": "2021-11-04T23:09:46.525Z"
   },
   {
    "duration": 4,
    "start_time": "2021-11-04T23:11:00.859Z"
   },
   {
    "duration": 931,
    "start_time": "2021-11-04T23:11:04.981Z"
   },
   {
    "duration": 4,
    "start_time": "2021-11-04T23:11:36.655Z"
   },
   {
    "duration": 952,
    "start_time": "2021-11-04T23:11:39.024Z"
   },
   {
    "duration": 5,
    "start_time": "2021-11-04T23:12:39.002Z"
   },
   {
    "duration": 989,
    "start_time": "2021-11-04T23:12:42.166Z"
   },
   {
    "duration": 4,
    "start_time": "2021-11-04T23:13:24.288Z"
   },
   {
    "duration": 943,
    "start_time": "2021-11-04T23:13:27.835Z"
   },
   {
    "duration": 4,
    "start_time": "2021-11-04T23:13:34.442Z"
   },
   {
    "duration": 977,
    "start_time": "2021-11-04T23:13:37.692Z"
   },
   {
    "duration": 4,
    "start_time": "2021-11-04T23:16:36.731Z"
   },
   {
    "duration": 960,
    "start_time": "2021-11-04T23:16:39.468Z"
   },
   {
    "duration": 962,
    "start_time": "2021-11-04T23:17:20.284Z"
   },
   {
    "duration": 4,
    "start_time": "2021-11-04T23:18:08.206Z"
   },
   {
    "duration": 962,
    "start_time": "2021-11-04T23:18:10.729Z"
   },
   {
    "duration": 745,
    "start_time": "2021-11-04T23:20:14.973Z"
   },
   {
    "duration": 115,
    "start_time": "2021-11-04T23:25:01.622Z"
   },
   {
    "duration": 4,
    "start_time": "2021-11-04T23:25:30.710Z"
   },
   {
    "duration": 751,
    "start_time": "2021-11-04T23:25:33.871Z"
   },
   {
    "duration": 4,
    "start_time": "2021-11-04T23:26:04.702Z"
   },
   {
    "duration": 761,
    "start_time": "2021-11-04T23:26:06.161Z"
   },
   {
    "duration": 15,
    "start_time": "2021-11-04T23:32:10.697Z"
   },
   {
    "duration": 4,
    "start_time": "2021-11-04T23:32:30.285Z"
   },
   {
    "duration": 720,
    "start_time": "2021-11-04T23:32:31.982Z"
   },
   {
    "duration": 4,
    "start_time": "2021-11-04T23:32:52.407Z"
   },
   {
    "duration": 74,
    "start_time": "2021-11-04T23:32:54.190Z"
   },
   {
    "duration": 15,
    "start_time": "2021-11-04T23:32:56.505Z"
   },
   {
    "duration": 3,
    "start_time": "2021-11-04T23:34:17.224Z"
   },
   {
    "duration": 685,
    "start_time": "2021-11-04T23:34:19.442Z"
   },
   {
    "duration": 829,
    "start_time": "2021-11-04T23:34:33.486Z"
   },
   {
    "duration": 129,
    "start_time": "2021-11-04T23:35:47.232Z"
   },
   {
    "duration": 129,
    "start_time": "2021-11-04T23:35:59.678Z"
   },
   {
    "duration": 116,
    "start_time": "2021-11-04T23:36:32.704Z"
   },
   {
    "duration": 124,
    "start_time": "2021-11-04T23:36:44.419Z"
   },
   {
    "duration": 114,
    "start_time": "2021-11-04T23:36:49.464Z"
   },
   {
    "duration": 124,
    "start_time": "2021-11-04T23:36:53.682Z"
   },
   {
    "duration": 115,
    "start_time": "2021-11-04T23:37:05.040Z"
   },
   {
    "duration": 110,
    "start_time": "2021-11-04T23:37:09.880Z"
   },
   {
    "duration": 122,
    "start_time": "2021-11-04T23:37:34.401Z"
   },
   {
    "duration": 4,
    "start_time": "2021-11-04T23:37:53.002Z"
   },
   {
    "duration": 1282,
    "start_time": "2021-11-04T23:37:56.237Z"
   },
   {
    "duration": 3,
    "start_time": "2021-11-04T23:39:49.822Z"
   },
   {
    "duration": 74,
    "start_time": "2021-11-04T23:39:51.363Z"
   },
   {
    "duration": 14,
    "start_time": "2021-11-04T23:39:53.388Z"
   },
   {
    "duration": 4,
    "start_time": "2021-11-04T23:42:40.752Z"
   },
   {
    "duration": 70,
    "start_time": "2021-11-04T23:42:42.412Z"
   },
   {
    "duration": 15,
    "start_time": "2021-11-04T23:42:44.055Z"
   },
   {
    "duration": 4,
    "start_time": "2021-11-04T23:43:16.063Z"
   },
   {
    "duration": 68,
    "start_time": "2021-11-04T23:43:17.894Z"
   },
   {
    "duration": 17,
    "start_time": "2021-11-04T23:43:19.192Z"
   },
   {
    "duration": 6,
    "start_time": "2021-11-04T23:44:17.059Z"
   },
   {
    "duration": 716,
    "start_time": "2021-11-04T23:44:21.083Z"
   },
   {
    "duration": 4,
    "start_time": "2021-11-04T23:44:50.957Z"
   },
   {
    "duration": 706,
    "start_time": "2021-11-04T23:44:52.884Z"
   },
   {
    "duration": 946,
    "start_time": "2021-11-05T08:01:33.880Z"
   },
   {
    "duration": 302,
    "start_time": "2021-11-05T08:01:34.827Z"
   },
   {
    "duration": 10,
    "start_time": "2021-11-05T08:01:35.130Z"
   },
   {
    "duration": 17,
    "start_time": "2021-11-05T08:01:35.142Z"
   },
   {
    "duration": 5,
    "start_time": "2021-11-05T08:01:35.161Z"
   },
   {
    "duration": 11,
    "start_time": "2021-11-05T08:01:35.168Z"
   },
   {
    "duration": 20,
    "start_time": "2021-11-05T08:01:35.181Z"
   },
   {
    "duration": 32,
    "start_time": "2021-11-05T08:01:35.204Z"
   },
   {
    "duration": 8,
    "start_time": "2021-11-05T08:01:35.238Z"
   },
   {
    "duration": 18,
    "start_time": "2021-11-05T08:01:35.248Z"
   },
   {
    "duration": 15,
    "start_time": "2021-11-05T08:01:35.292Z"
   },
   {
    "duration": 209,
    "start_time": "2021-11-05T08:01:35.308Z"
   },
   {
    "duration": 12,
    "start_time": "2021-11-05T08:01:35.518Z"
   },
   {
    "duration": 7,
    "start_time": "2021-11-05T08:01:35.532Z"
   },
   {
    "duration": 11,
    "start_time": "2021-11-05T08:01:35.541Z"
   },
   {
    "duration": 14,
    "start_time": "2021-11-05T08:01:35.554Z"
   },
   {
    "duration": 17,
    "start_time": "2021-11-05T08:01:35.592Z"
   },
   {
    "duration": 27,
    "start_time": "2021-11-05T08:01:35.610Z"
   },
   {
    "duration": 21,
    "start_time": "2021-11-05T08:01:35.638Z"
   },
   {
    "duration": 33,
    "start_time": "2021-11-05T08:01:35.661Z"
   },
   {
    "duration": 10,
    "start_time": "2021-11-05T08:01:35.696Z"
   },
   {
    "duration": 7,
    "start_time": "2021-11-05T08:01:35.707Z"
   },
   {
    "duration": 15,
    "start_time": "2021-11-05T08:01:35.718Z"
   },
   {
    "duration": 19,
    "start_time": "2021-11-05T08:01:35.735Z"
   },
   {
    "duration": 49,
    "start_time": "2021-11-05T08:01:35.756Z"
   },
   {
    "duration": 18,
    "start_time": "2021-11-05T08:01:35.807Z"
   },
   {
    "duration": 258,
    "start_time": "2021-11-05T08:01:35.827Z"
   },
   {
    "duration": -108,
    "start_time": "2021-11-05T08:01:36.195Z"
   },
   {
    "duration": -113,
    "start_time": "2021-11-05T08:01:36.201Z"
   },
   {
    "duration": -115,
    "start_time": "2021-11-05T08:01:36.205Z"
   },
   {
    "duration": -118,
    "start_time": "2021-11-05T08:01:36.209Z"
   },
   {
    "duration": -120,
    "start_time": "2021-11-05T08:01:36.212Z"
   },
   {
    "duration": -121,
    "start_time": "2021-11-05T08:01:36.215Z"
   },
   {
    "duration": 187,
    "start_time": "2021-11-05T08:02:02.693Z"
   },
   {
    "duration": 4,
    "start_time": "2021-11-05T08:02:06.326Z"
   },
   {
    "duration": 171,
    "start_time": "2021-11-05T08:02:10.326Z"
   },
   {
    "duration": 178,
    "start_time": "2021-11-05T08:02:16.207Z"
   },
   {
    "duration": 990,
    "start_time": "2021-11-05T08:02:29.873Z"
   },
   {
    "duration": 291,
    "start_time": "2021-11-05T08:02:30.865Z"
   },
   {
    "duration": 10,
    "start_time": "2021-11-05T08:02:31.158Z"
   },
   {
    "duration": 20,
    "start_time": "2021-11-05T08:02:31.170Z"
   },
   {
    "duration": 16,
    "start_time": "2021-11-05T08:02:31.192Z"
   },
   {
    "duration": 19,
    "start_time": "2021-11-05T08:02:31.209Z"
   },
   {
    "duration": 27,
    "start_time": "2021-11-05T08:02:31.229Z"
   },
   {
    "duration": 33,
    "start_time": "2021-11-05T08:02:31.258Z"
   },
   {
    "duration": 8,
    "start_time": "2021-11-05T08:02:31.294Z"
   },
   {
    "duration": 22,
    "start_time": "2021-11-05T08:02:31.303Z"
   },
   {
    "duration": 15,
    "start_time": "2021-11-05T08:02:31.326Z"
   },
   {
    "duration": 215,
    "start_time": "2021-11-05T08:02:31.343Z"
   },
   {
    "duration": 12,
    "start_time": "2021-11-05T08:02:31.559Z"
   },
   {
    "duration": 19,
    "start_time": "2021-11-05T08:02:31.573Z"
   },
   {
    "duration": 9,
    "start_time": "2021-11-05T08:02:31.594Z"
   },
   {
    "duration": 14,
    "start_time": "2021-11-05T08:02:31.605Z"
   },
   {
    "duration": 17,
    "start_time": "2021-11-05T08:02:31.620Z"
   },
   {
    "duration": 53,
    "start_time": "2021-11-05T08:02:31.638Z"
   },
   {
    "duration": 20,
    "start_time": "2021-11-05T08:02:31.693Z"
   },
   {
    "duration": 9,
    "start_time": "2021-11-05T08:02:31.714Z"
   },
   {
    "duration": 9,
    "start_time": "2021-11-05T08:02:31.724Z"
   },
   {
    "duration": 9,
    "start_time": "2021-11-05T08:02:31.735Z"
   },
   {
    "duration": 19,
    "start_time": "2021-11-05T08:02:31.745Z"
   },
   {
    "duration": 44,
    "start_time": "2021-11-05T08:02:31.765Z"
   },
   {
    "duration": 16,
    "start_time": "2021-11-05T08:02:31.811Z"
   },
   {
    "duration": 19,
    "start_time": "2021-11-05T08:02:31.828Z"
   },
   {
    "duration": 299,
    "start_time": "2021-11-05T08:02:31.850Z"
   },
   {
    "duration": -115,
    "start_time": "2021-11-05T08:02:32.266Z"
   },
   {
    "duration": -119,
    "start_time": "2021-11-05T08:02:32.271Z"
   },
   {
    "duration": -124,
    "start_time": "2021-11-05T08:02:32.277Z"
   },
   {
    "duration": -127,
    "start_time": "2021-11-05T08:02:32.281Z"
   },
   {
    "duration": -131,
    "start_time": "2021-11-05T08:02:32.285Z"
   },
   {
    "duration": -138,
    "start_time": "2021-11-05T08:02:32.293Z"
   },
   {
    "duration": 186,
    "start_time": "2021-11-05T08:02:41.528Z"
   },
   {
    "duration": 19,
    "start_time": "2021-11-05T08:02:46.556Z"
   },
   {
    "duration": 194,
    "start_time": "2021-11-05T08:03:07.921Z"
   },
   {
    "duration": 20,
    "start_time": "2021-11-05T08:03:59.428Z"
   },
   {
    "duration": 20,
    "start_time": "2021-11-05T08:04:20.824Z"
   },
   {
    "duration": 10,
    "start_time": "2021-11-05T08:04:25.406Z"
   },
   {
    "duration": 16,
    "start_time": "2021-11-05T08:04:28.095Z"
   },
   {
    "duration": 8,
    "start_time": "2021-11-05T08:04:34.116Z"
   },
   {
    "duration": 906,
    "start_time": "2021-11-05T08:04:39.318Z"
   },
   {
    "duration": 13,
    "start_time": "2021-11-05T08:04:45.303Z"
   },
   {
    "duration": 447,
    "start_time": "2021-11-05T08:08:12.286Z"
   },
   {
    "duration": 523,
    "start_time": "2021-11-05T08:08:23.428Z"
   },
   {
    "duration": 4,
    "start_time": "2021-11-05T08:08:37.045Z"
   },
   {
    "duration": 355,
    "start_time": "2021-11-05T08:08:39.491Z"
   },
   {
    "duration": 2446,
    "start_time": "2021-11-05T08:10:02.691Z"
   },
   {
    "duration": 540,
    "start_time": "2021-11-05T08:10:30.222Z"
   },
   {
    "duration": 4,
    "start_time": "2021-11-05T08:13:08.375Z"
   },
   {
    "duration": 339,
    "start_time": "2021-11-05T08:13:10.648Z"
   },
   {
    "duration": 4,
    "start_time": "2021-11-05T08:13:41.394Z"
   },
   {
    "duration": 354,
    "start_time": "2021-11-05T08:13:43.655Z"
   },
   {
    "duration": 4,
    "start_time": "2021-11-05T08:14:18.508Z"
   },
   {
    "duration": 64,
    "start_time": "2021-11-05T08:14:20.333Z"
   },
   {
    "duration": 14,
    "start_time": "2021-11-05T08:14:22.076Z"
   },
   {
    "duration": 3,
    "start_time": "2021-11-05T08:16:02.834Z"
   },
   {
    "duration": 65,
    "start_time": "2021-11-05T08:16:04.251Z"
   },
   {
    "duration": 13,
    "start_time": "2021-11-05T08:16:05.678Z"
   },
   {
    "duration": 3,
    "start_time": "2021-11-05T08:16:51.684Z"
   },
   {
    "duration": 392,
    "start_time": "2021-11-05T08:16:53.097Z"
   },
   {
    "duration": 3,
    "start_time": "2021-11-05T08:18:57.382Z"
   },
   {
    "duration": 350,
    "start_time": "2021-11-05T08:18:58.657Z"
   },
   {
    "duration": 3,
    "start_time": "2021-11-05T08:19:10.719Z"
   },
   {
    "duration": 66,
    "start_time": "2021-11-05T08:19:12.383Z"
   },
   {
    "duration": 14,
    "start_time": "2021-11-05T08:19:16.675Z"
   },
   {
    "duration": 4,
    "start_time": "2021-11-05T08:20:04.527Z"
   },
   {
    "duration": 65,
    "start_time": "2021-11-05T08:20:06.155Z"
   },
   {
    "duration": 14,
    "start_time": "2021-11-05T08:20:07.517Z"
   },
   {
    "duration": 4,
    "start_time": "2021-11-05T08:21:44.088Z"
   },
   {
    "duration": 348,
    "start_time": "2021-11-05T08:21:45.530Z"
   },
   {
    "duration": 3,
    "start_time": "2021-11-05T08:22:07.276Z"
   },
   {
    "duration": 347,
    "start_time": "2021-11-05T08:22:09.786Z"
   },
   {
    "duration": 4,
    "start_time": "2021-11-05T08:22:29.930Z"
   },
   {
    "duration": 361,
    "start_time": "2021-11-05T08:22:31.837Z"
   },
   {
    "duration": 5,
    "start_time": "2021-11-05T08:22:51.047Z"
   },
   {
    "duration": 65,
    "start_time": "2021-11-05T08:22:52.771Z"
   },
   {
    "duration": 14,
    "start_time": "2021-11-05T08:22:57.852Z"
   },
   {
    "duration": 5,
    "start_time": "2021-11-05T08:23:07.933Z"
   },
   {
    "duration": 345,
    "start_time": "2021-11-05T08:23:09.352Z"
   },
   {
    "duration": 3,
    "start_time": "2021-11-05T08:23:24.171Z"
   },
   {
    "duration": 348,
    "start_time": "2021-11-05T08:23:25.960Z"
   },
   {
    "duration": 3,
    "start_time": "2021-11-05T08:24:03.000Z"
   },
   {
    "duration": 1082,
    "start_time": "2021-11-05T08:24:04.926Z"
   },
   {
    "duration": 188,
    "start_time": "2021-11-05T08:24:26.777Z"
   },
   {
    "duration": 3,
    "start_time": "2021-11-05T08:25:11.305Z"
   },
   {
    "duration": 406,
    "start_time": "2021-11-05T08:25:12.772Z"
   },
   {
    "duration": 3,
    "start_time": "2021-11-05T08:26:15.035Z"
   },
   {
    "duration": 358,
    "start_time": "2021-11-05T08:26:16.671Z"
   },
   {
    "duration": 3,
    "start_time": "2021-11-05T08:26:31.120Z"
   },
   {
    "duration": 346,
    "start_time": "2021-11-05T08:26:33.056Z"
   },
   {
    "duration": 17,
    "start_time": "2021-11-05T08:27:37.797Z"
   },
   {
    "duration": 3,
    "start_time": "2021-11-05T08:27:46.579Z"
   },
   {
    "duration": 1222,
    "start_time": "2021-11-05T08:27:48.938Z"
   },
   {
    "duration": 15,
    "start_time": "2021-11-05T08:27:57.995Z"
   },
   {
    "duration": 352,
    "start_time": "2021-11-05T08:41:46.820Z"
   },
   {
    "duration": 3,
    "start_time": "2021-11-05T08:41:57.338Z"
   },
   {
    "duration": 366,
    "start_time": "2021-11-05T08:41:58.761Z"
   },
   {
    "duration": 59,
    "start_time": "2021-11-05T08:43:04.839Z"
   },
   {
    "duration": 59,
    "start_time": "2021-11-05T08:43:21.399Z"
   },
   {
    "duration": 4,
    "start_time": "2021-11-05T08:43:32.803Z"
   },
   {
    "duration": 353,
    "start_time": "2021-11-05T08:43:34.843Z"
   },
   {
    "duration": 4,
    "start_time": "2021-11-05T08:43:45.063Z"
   },
   {
    "duration": 360,
    "start_time": "2021-11-05T08:43:46.650Z"
   },
   {
    "duration": 347,
    "start_time": "2021-11-05T08:44:01.108Z"
   },
   {
    "duration": 13,
    "start_time": "2021-11-05T08:44:24.013Z"
   },
   {
    "duration": 280,
    "start_time": "2021-11-05T08:45:11.653Z"
   },
   {
    "duration": 2,
    "start_time": "2021-11-05T08:45:19.670Z"
   },
   {
    "duration": 363,
    "start_time": "2021-11-05T08:45:21.716Z"
   },
   {
    "duration": 3,
    "start_time": "2021-11-05T08:45:47.783Z"
   },
   {
    "duration": 5855,
    "start_time": "2021-11-05T08:45:50.100Z"
   },
   {
    "duration": 4,
    "start_time": "2021-11-05T08:49:56.812Z"
   },
   {
    "duration": 65,
    "start_time": "2021-11-05T08:50:04.112Z"
   },
   {
    "duration": 13,
    "start_time": "2021-11-05T08:50:06.133Z"
   },
   {
    "duration": 4,
    "start_time": "2021-11-05T08:52:53.851Z"
   },
   {
    "duration": 64,
    "start_time": "2021-11-05T08:52:55.549Z"
   },
   {
    "duration": 14,
    "start_time": "2021-11-05T08:52:58.421Z"
   },
   {
    "duration": 4,
    "start_time": "2021-11-05T08:53:23.506Z"
   },
   {
    "duration": 65,
    "start_time": "2021-11-05T08:53:25.464Z"
   },
   {
    "duration": 4,
    "start_time": "2021-11-05T08:56:49.991Z"
   },
   {
    "duration": 64,
    "start_time": "2021-11-05T08:56:51.609Z"
   },
   {
    "duration": 13,
    "start_time": "2021-11-05T08:56:53.773Z"
   },
   {
    "duration": 5,
    "start_time": "2021-11-05T09:02:01.957Z"
   },
   {
    "duration": 62,
    "start_time": "2021-11-05T09:02:05.209Z"
   },
   {
    "duration": 15,
    "start_time": "2021-11-05T09:02:07.238Z"
   },
   {
    "duration": 6,
    "start_time": "2021-11-05T09:03:33.262Z"
   },
   {
    "duration": 65,
    "start_time": "2021-11-05T09:03:35.769Z"
   },
   {
    "duration": 15,
    "start_time": "2021-11-05T09:03:37.499Z"
   },
   {
    "duration": 30,
    "start_time": "2021-11-05T09:13:27.939Z"
   },
   {
    "duration": 127,
    "start_time": "2021-11-05T09:14:41.656Z"
   },
   {
    "duration": 201,
    "start_time": "2021-11-05T09:27:52.563Z"
   },
   {
    "duration": 200,
    "start_time": "2021-11-05T09:28:00.317Z"
   },
   {
    "duration": 1429,
    "start_time": "2021-11-05T11:49:21.303Z"
   },
   {
    "duration": 406,
    "start_time": "2021-11-05T11:49:22.734Z"
   },
   {
    "duration": 15,
    "start_time": "2021-11-05T11:49:23.143Z"
   },
   {
    "duration": 22,
    "start_time": "2021-11-05T11:49:23.161Z"
   },
   {
    "duration": 201,
    "start_time": "2021-11-05T11:49:23.185Z"
   },
   {
    "duration": 12,
    "start_time": "2021-11-05T11:49:23.389Z"
   },
   {
    "duration": 19,
    "start_time": "2021-11-05T11:49:23.404Z"
   },
   {
    "duration": 32,
    "start_time": "2021-11-05T11:49:23.429Z"
   },
   {
    "duration": 80,
    "start_time": "2021-11-05T11:49:23.465Z"
   },
   {
    "duration": 12,
    "start_time": "2021-11-05T11:49:23.547Z"
   },
   {
    "duration": 53,
    "start_time": "2021-11-05T11:49:23.561Z"
   },
   {
    "duration": 20,
    "start_time": "2021-11-05T11:49:23.616Z"
   },
   {
    "duration": 357,
    "start_time": "2021-11-05T11:49:23.638Z"
   },
   {
    "duration": 16,
    "start_time": "2021-11-05T11:49:24.001Z"
   },
   {
    "duration": 12,
    "start_time": "2021-11-05T11:49:24.020Z"
   },
   {
    "duration": 12,
    "start_time": "2021-11-05T11:49:24.034Z"
   },
   {
    "duration": 59,
    "start_time": "2021-11-05T11:49:24.048Z"
   },
   {
    "duration": 24,
    "start_time": "2021-11-05T11:49:24.109Z"
   },
   {
    "duration": 41,
    "start_time": "2021-11-05T11:49:24.135Z"
   },
   {
    "duration": 50,
    "start_time": "2021-11-05T11:49:24.179Z"
   },
   {
    "duration": 17,
    "start_time": "2021-11-05T11:49:24.232Z"
   },
   {
    "duration": 14,
    "start_time": "2021-11-05T11:49:24.251Z"
   },
   {
    "duration": 39,
    "start_time": "2021-11-05T11:49:24.270Z"
   },
   {
    "duration": 23,
    "start_time": "2021-11-05T11:49:24.311Z"
   },
   {
    "duration": 29,
    "start_time": "2021-11-05T11:49:24.336Z"
   },
   {
    "duration": 47,
    "start_time": "2021-11-05T11:49:24.368Z"
   },
   {
    "duration": 30,
    "start_time": "2021-11-05T11:49:24.418Z"
   },
   {
    "duration": 56,
    "start_time": "2021-11-05T11:49:24.450Z"
   },
   {
    "duration": 14,
    "start_time": "2021-11-05T11:49:24.509Z"
   },
   {
    "duration": 23,
    "start_time": "2021-11-05T11:49:24.525Z"
   },
   {
    "duration": 12,
    "start_time": "2021-11-05T11:49:24.550Z"
   },
   {
    "duration": 44,
    "start_time": "2021-11-05T11:49:24.565Z"
   },
   {
    "duration": 133,
    "start_time": "2021-11-05T11:49:24.612Z"
   },
   {
    "duration": 24,
    "start_time": "2021-11-05T11:49:24.747Z"
   },
   {
    "duration": 23,
    "start_time": "2021-11-05T11:49:31.006Z"
   },
   {
    "duration": 1498,
    "start_time": "2021-11-05T12:29:16.643Z"
   },
   {
    "duration": 407,
    "start_time": "2021-11-05T12:29:18.143Z"
   },
   {
    "duration": 15,
    "start_time": "2021-11-05T12:29:18.554Z"
   },
   {
    "duration": 23,
    "start_time": "2021-11-05T12:29:18.573Z"
   },
   {
    "duration": 196,
    "start_time": "2021-11-05T12:29:18.598Z"
   },
   {
    "duration": 6,
    "start_time": "2021-11-05T12:29:18.796Z"
   },
   {
    "duration": 21,
    "start_time": "2021-11-05T12:29:18.804Z"
   },
   {
    "duration": 30,
    "start_time": "2021-11-05T12:29:18.829Z"
   },
   {
    "duration": 84,
    "start_time": "2021-11-05T12:29:18.863Z"
   },
   {
    "duration": 13,
    "start_time": "2021-11-05T12:29:18.949Z"
   },
   {
    "duration": 50,
    "start_time": "2021-11-05T12:29:18.964Z"
   },
   {
    "duration": 23,
    "start_time": "2021-11-05T12:29:19.017Z"
   },
   {
    "duration": 377,
    "start_time": "2021-11-05T12:29:19.044Z"
   },
   {
    "duration": 17,
    "start_time": "2021-11-05T12:29:19.424Z"
   },
   {
    "duration": 11,
    "start_time": "2021-11-05T12:29:19.444Z"
   },
   {
    "duration": 43,
    "start_time": "2021-11-05T12:29:19.457Z"
   },
   {
    "duration": 20,
    "start_time": "2021-11-05T12:29:19.502Z"
   },
   {
    "duration": 26,
    "start_time": "2021-11-05T12:29:19.525Z"
   },
   {
    "duration": 66,
    "start_time": "2021-11-05T12:29:19.554Z"
   },
   {
    "duration": 31,
    "start_time": "2021-11-05T12:29:19.623Z"
   },
   {
    "duration": 18,
    "start_time": "2021-11-05T12:29:19.657Z"
   },
   {
    "duration": 16,
    "start_time": "2021-11-05T12:29:19.701Z"
   },
   {
    "duration": 15,
    "start_time": "2021-11-05T12:29:19.721Z"
   },
   {
    "duration": 23,
    "start_time": "2021-11-05T12:29:19.738Z"
   },
   {
    "duration": 60,
    "start_time": "2021-11-05T12:29:19.763Z"
   },
   {
    "duration": 24,
    "start_time": "2021-11-05T12:29:19.825Z"
   },
   {
    "duration": 65,
    "start_time": "2021-11-05T12:29:19.851Z"
   },
   {
    "duration": 33,
    "start_time": "2021-11-05T12:29:19.918Z"
   },
   {
    "duration": 14,
    "start_time": "2021-11-05T12:29:19.954Z"
   },
   {
    "duration": 49,
    "start_time": "2021-11-05T12:29:19.970Z"
   },
   {
    "duration": 12,
    "start_time": "2021-11-05T12:29:20.022Z"
   },
   {
    "duration": 8,
    "start_time": "2021-11-05T12:29:20.037Z"
   },
   {
    "duration": 159,
    "start_time": "2021-11-05T12:29:20.048Z"
   },
   {
    "duration": 25,
    "start_time": "2021-11-05T12:29:20.209Z"
   },
   {
    "duration": 23,
    "start_time": "2021-11-05T12:29:38.182Z"
   },
   {
    "duration": 27,
    "start_time": "2021-11-05T12:30:56.531Z"
   },
   {
    "duration": 1071,
    "start_time": "2021-11-05T12:32:02.661Z"
   },
   {
    "duration": 32,
    "start_time": "2021-11-05T12:32:10.489Z"
   },
   {
    "duration": 20,
    "start_time": "2021-11-05T12:32:50.092Z"
   },
   {
    "duration": 47,
    "start_time": "2021-11-05T12:43:17.064Z"
   },
   {
    "duration": 45,
    "start_time": "2021-11-05T12:44:38.518Z"
   },
   {
    "duration": 790,
    "start_time": "2021-11-05T12:45:08.228Z"
   },
   {
    "duration": 458,
    "start_time": "2021-11-05T12:45:33.473Z"
   },
   {
    "duration": -356,
    "start_time": "2021-11-05T12:47:14.517Z"
   },
   {
    "duration": 1448,
    "start_time": "2021-11-05T12:47:24.457Z"
   },
   {
    "duration": 407,
    "start_time": "2021-11-05T12:47:25.908Z"
   },
   {
    "duration": 17,
    "start_time": "2021-11-05T12:47:26.318Z"
   },
   {
    "duration": 24,
    "start_time": "2021-11-05T12:47:26.339Z"
   },
   {
    "duration": 221,
    "start_time": "2021-11-05T12:47:26.366Z"
   },
   {
    "duration": 4,
    "start_time": "2021-11-05T12:47:26.590Z"
   },
   {
    "duration": 16,
    "start_time": "2021-11-05T12:47:26.601Z"
   },
   {
    "duration": 28,
    "start_time": "2021-11-05T12:47:26.621Z"
   },
   {
    "duration": 79,
    "start_time": "2021-11-05T12:47:26.652Z"
   },
   {
    "duration": 12,
    "start_time": "2021-11-05T12:47:26.734Z"
   },
   {
    "duration": 53,
    "start_time": "2021-11-05T12:47:26.748Z"
   },
   {
    "duration": 20,
    "start_time": "2021-11-05T12:47:26.803Z"
   },
   {
    "duration": 364,
    "start_time": "2021-11-05T12:47:26.825Z"
   },
   {
    "duration": 23,
    "start_time": "2021-11-05T12:47:27.192Z"
   },
   {
    "duration": 18,
    "start_time": "2021-11-05T12:47:27.217Z"
   },
   {
    "duration": 12,
    "start_time": "2021-11-05T12:47:27.238Z"
   },
   {
    "duration": 52,
    "start_time": "2021-11-05T12:47:27.252Z"
   },
   {
    "duration": 25,
    "start_time": "2021-11-05T12:47:27.306Z"
   },
   {
    "duration": 66,
    "start_time": "2021-11-05T12:47:27.334Z"
   },
   {
    "duration": 31,
    "start_time": "2021-11-05T12:47:27.403Z"
   },
   {
    "duration": 17,
    "start_time": "2021-11-05T12:47:27.437Z"
   },
   {
    "duration": 14,
    "start_time": "2021-11-05T12:47:27.456Z"
   },
   {
    "duration": 11,
    "start_time": "2021-11-05T12:47:27.501Z"
   },
   {
    "duration": 22,
    "start_time": "2021-11-05T12:47:27.515Z"
   },
   {
    "duration": 30,
    "start_time": "2021-11-05T12:47:27.539Z"
   },
   {
    "duration": 52,
    "start_time": "2021-11-05T12:47:27.571Z"
   },
   {
    "duration": 34,
    "start_time": "2021-11-05T12:47:27.625Z"
   },
   {
    "duration": 61,
    "start_time": "2021-11-05T12:47:27.661Z"
   },
   {
    "duration": 14,
    "start_time": "2021-11-05T12:47:27.724Z"
   },
   {
    "duration": 25,
    "start_time": "2021-11-05T12:47:27.741Z"
   },
   {
    "duration": 37,
    "start_time": "2021-11-05T12:47:27.769Z"
   },
   {
    "duration": 8,
    "start_time": "2021-11-05T12:47:27.809Z"
   },
   {
    "duration": 150,
    "start_time": "2021-11-05T12:47:27.820Z"
   },
   {
    "duration": 16,
    "start_time": "2021-11-05T12:47:27.972Z"
   },
   {
    "duration": 46,
    "start_time": "2021-11-05T12:47:28.000Z"
   },
   {
    "duration": 356,
    "start_time": "2021-11-05T12:47:28.049Z"
   },
   {
    "duration": -290,
    "start_time": "2021-11-05T12:48:12.826Z"
   },
   {
    "duration": 1428,
    "start_time": "2021-11-05T16:22:30.847Z"
   },
   {
    "duration": 431,
    "start_time": "2021-11-05T16:22:32.278Z"
   },
   {
    "duration": 16,
    "start_time": "2021-11-05T16:22:32.712Z"
   },
   {
    "duration": 23,
    "start_time": "2021-11-05T16:22:32.730Z"
   },
   {
    "duration": 206,
    "start_time": "2021-11-05T16:22:32.756Z"
   },
   {
    "duration": 5,
    "start_time": "2021-11-05T16:22:32.966Z"
   },
   {
    "duration": 19,
    "start_time": "2021-11-05T16:22:32.973Z"
   },
   {
    "duration": 30,
    "start_time": "2021-11-05T16:22:32.996Z"
   },
   {
    "duration": 82,
    "start_time": "2021-11-05T16:22:33.029Z"
   },
   {
    "duration": 12,
    "start_time": "2021-11-05T16:22:33.114Z"
   },
   {
    "duration": 55,
    "start_time": "2021-11-05T16:22:33.129Z"
   },
   {
    "duration": 22,
    "start_time": "2021-11-05T16:22:33.187Z"
   },
   {
    "duration": 389,
    "start_time": "2021-11-05T16:22:33.212Z"
   },
   {
    "duration": 20,
    "start_time": "2021-11-05T16:22:33.604Z"
   },
   {
    "duration": 43,
    "start_time": "2021-11-05T16:22:33.627Z"
   },
   {
    "duration": 12,
    "start_time": "2021-11-05T16:22:33.672Z"
   },
   {
    "duration": 25,
    "start_time": "2021-11-05T16:22:33.686Z"
   },
   {
    "duration": 24,
    "start_time": "2021-11-05T16:22:33.714Z"
   },
   {
    "duration": 40,
    "start_time": "2021-11-05T16:22:33.767Z"
   },
   {
    "duration": 30,
    "start_time": "2021-11-05T16:22:33.809Z"
   },
   {
    "duration": 40,
    "start_time": "2021-11-05T16:22:33.842Z"
   },
   {
    "duration": 14,
    "start_time": "2021-11-05T16:22:33.884Z"
   },
   {
    "duration": 11,
    "start_time": "2021-11-05T16:22:33.902Z"
   },
   {
    "duration": 53,
    "start_time": "2021-11-05T16:22:33.915Z"
   },
   {
    "duration": 31,
    "start_time": "2021-11-05T16:22:33.971Z"
   },
   {
    "duration": 24,
    "start_time": "2021-11-05T16:22:34.004Z"
   },
   {
    "duration": 60,
    "start_time": "2021-11-05T16:22:34.030Z"
   },
   {
    "duration": 33,
    "start_time": "2021-11-05T16:22:34.093Z"
   },
   {
    "duration": 39,
    "start_time": "2021-11-05T16:22:34.129Z"
   },
   {
    "duration": 24,
    "start_time": "2021-11-05T16:22:34.170Z"
   },
   {
    "duration": 11,
    "start_time": "2021-11-05T16:22:34.197Z"
   },
   {
    "duration": 11,
    "start_time": "2021-11-05T16:22:34.211Z"
   },
   {
    "duration": 157,
    "start_time": "2021-11-05T16:22:34.224Z"
   },
   {
    "duration": 16,
    "start_time": "2021-11-05T16:22:34.384Z"
   },
   {
    "duration": 66,
    "start_time": "2021-11-05T16:22:34.403Z"
   },
   {
    "duration": 343,
    "start_time": "2021-11-05T16:22:34.471Z"
   },
   {
    "duration": 27,
    "start_time": "2021-11-05T16:23:40.898Z"
   },
   {
    "duration": 7,
    "start_time": "2021-11-05T16:24:04.690Z"
   },
   {
    "duration": 1777,
    "start_time": "2021-11-05T16:24:19.198Z"
   },
   {
    "duration": 356,
    "start_time": "2021-11-05T16:24:44.305Z"
   },
   {
    "duration": 445,
    "start_time": "2021-11-05T16:27:02.116Z"
   },
   {
    "duration": 346,
    "start_time": "2021-11-05T16:27:31.070Z"
   },
   {
    "duration": 132,
    "start_time": "2021-11-05T16:47:30.032Z"
   },
   {
    "duration": 16,
    "start_time": "2021-11-05T16:48:02.406Z"
   },
   {
    "duration": 501,
    "start_time": "2021-11-05T16:48:48.198Z"
   },
   {
    "duration": 438,
    "start_time": "2021-11-05T16:51:36.829Z"
   },
   {
    "duration": 685,
    "start_time": "2021-11-05T16:51:54.282Z"
   },
   {
    "duration": 15,
    "start_time": "2021-11-05T16:54:25.066Z"
   },
   {
    "duration": 17,
    "start_time": "2021-11-05T16:55:47.173Z"
   },
   {
    "duration": 26,
    "start_time": "2021-11-05T16:55:53.229Z"
   },
   {
    "duration": 12,
    "start_time": "2021-11-05T16:56:02.131Z"
   },
   {
    "duration": 120,
    "start_time": "2021-11-05T16:56:06.620Z"
   },
   {
    "duration": 17,
    "start_time": "2021-11-05T16:56:08.236Z"
   },
   {
    "duration": 51,
    "start_time": "2021-11-05T16:56:11.666Z"
   },
   {
    "duration": 459,
    "start_time": "2021-11-05T16:57:21.452Z"
   },
   {
    "duration": 8,
    "start_time": "2021-11-05T16:57:57.222Z"
   },
   {
    "duration": 28,
    "start_time": "2021-11-05T16:58:04.127Z"
   },
   {
    "duration": 679,
    "start_time": "2021-11-05T16:58:17.248Z"
   },
   {
    "duration": 19,
    "start_time": "2021-11-05T16:59:49.180Z"
   },
   {
    "duration": 14,
    "start_time": "2021-11-05T17:00:28.846Z"
   },
   {
    "duration": 338,
    "start_time": "2021-11-05T17:00:35.317Z"
   },
   {
    "duration": 19,
    "start_time": "2021-11-05T17:00:43.115Z"
   },
   {
    "duration": 22,
    "start_time": "2021-11-05T17:02:04.794Z"
   },
   {
    "duration": 343,
    "start_time": "2021-11-05T17:02:36.149Z"
   },
   {
    "duration": 640,
    "start_time": "2021-11-05T17:03:03.071Z"
   },
   {
    "duration": 494,
    "start_time": "2021-11-05T17:03:41.993Z"
   },
   {
    "duration": 334,
    "start_time": "2021-11-05T17:04:00.232Z"
   },
   {
    "duration": 14,
    "start_time": "2021-11-05T17:04:08.688Z"
   },
   {
    "duration": 24,
    "start_time": "2021-11-05T17:04:12.612Z"
   },
   {
    "duration": 317,
    "start_time": "2021-11-05T17:04:29.592Z"
   },
   {
    "duration": 27,
    "start_time": "2021-11-05T17:04:35.308Z"
   },
   {
    "duration": 330,
    "start_time": "2021-11-05T17:05:48.847Z"
   },
   {
    "duration": 24,
    "start_time": "2021-11-05T17:06:07.349Z"
   },
   {
    "duration": 27,
    "start_time": "2021-11-05T17:06:18.758Z"
   },
   {
    "duration": 1506,
    "start_time": "2021-11-05T18:28:44.732Z"
   },
   {
    "duration": 375,
    "start_time": "2021-11-05T18:28:46.241Z"
   },
   {
    "duration": 15,
    "start_time": "2021-11-05T18:28:46.620Z"
   },
   {
    "duration": 24,
    "start_time": "2021-11-05T18:28:46.638Z"
   },
   {
    "duration": 220,
    "start_time": "2021-11-05T18:28:46.665Z"
   },
   {
    "duration": 5,
    "start_time": "2021-11-05T18:28:46.887Z"
   },
   {
    "duration": 19,
    "start_time": "2021-11-05T18:28:46.894Z"
   },
   {
    "duration": 64,
    "start_time": "2021-11-05T18:28:46.919Z"
   },
   {
    "duration": 51,
    "start_time": "2021-11-05T18:28:46.986Z"
   },
   {
    "duration": 28,
    "start_time": "2021-11-05T18:28:47.039Z"
   },
   {
    "duration": 31,
    "start_time": "2021-11-05T18:28:47.069Z"
   },
   {
    "duration": 23,
    "start_time": "2021-11-05T18:28:47.102Z"
   },
   {
    "duration": 395,
    "start_time": "2021-11-05T18:28:47.127Z"
   },
   {
    "duration": 18,
    "start_time": "2021-11-05T18:28:47.524Z"
   },
   {
    "duration": 32,
    "start_time": "2021-11-05T18:28:47.545Z"
   },
   {
    "duration": 12,
    "start_time": "2021-11-05T18:28:47.580Z"
   },
   {
    "duration": 20,
    "start_time": "2021-11-05T18:28:47.594Z"
   },
   {
    "duration": 54,
    "start_time": "2021-11-05T18:28:47.617Z"
   },
   {
    "duration": 40,
    "start_time": "2021-11-05T18:28:47.673Z"
   },
   {
    "duration": 53,
    "start_time": "2021-11-05T18:28:47.716Z"
   },
   {
    "duration": 17,
    "start_time": "2021-11-05T18:28:47.772Z"
   },
   {
    "duration": 15,
    "start_time": "2021-11-05T18:28:47.792Z"
   },
   {
    "duration": 11,
    "start_time": "2021-11-05T18:28:47.812Z"
   },
   {
    "duration": 53,
    "start_time": "2021-11-05T18:28:47.826Z"
   },
   {
    "duration": 29,
    "start_time": "2021-11-05T18:28:47.882Z"
   },
   {
    "duration": 24,
    "start_time": "2021-11-05T18:28:47.913Z"
   },
   {
    "duration": 59,
    "start_time": "2021-11-05T18:28:47.939Z"
   },
   {
    "duration": 35,
    "start_time": "2021-11-05T18:28:48.001Z"
   },
   {
    "duration": 15,
    "start_time": "2021-11-05T18:28:48.067Z"
   },
   {
    "duration": 27,
    "start_time": "2021-11-05T18:28:48.084Z"
   },
   {
    "duration": 12,
    "start_time": "2021-11-05T18:28:48.113Z"
   },
   {
    "duration": 41,
    "start_time": "2021-11-05T18:28:48.127Z"
   },
   {
    "duration": 130,
    "start_time": "2021-11-05T18:28:48.171Z"
   },
   {
    "duration": 16,
    "start_time": "2021-11-05T18:28:48.303Z"
   },
   {
    "duration": 72,
    "start_time": "2021-11-05T18:28:48.322Z"
   },
   {
    "duration": 8,
    "start_time": "2021-11-05T18:28:48.397Z"
   },
   {
    "duration": 384,
    "start_time": "2021-11-05T18:28:48.408Z"
   },
   {
    "duration": 365,
    "start_time": "2021-11-05T18:28:48.794Z"
   },
   {
    "duration": 27,
    "start_time": "2021-11-05T18:28:49.166Z"
   },
   {
    "duration": 428,
    "start_time": "2021-11-05T18:28:49.195Z"
   },
   {
    "duration": 13296,
    "start_time": "2021-11-05T18:28:36.329Z"
   },
   {
    "duration": 333,
    "start_time": "2021-11-05T18:28:53.134Z"
   },
   {
    "duration": 336,
    "start_time": "2021-11-05T18:29:12.699Z"
   },
   {
    "duration": 2174,
    "start_time": "2021-11-05T18:32:47.749Z"
   },
   {
    "duration": 2401,
    "start_time": "2021-11-05T18:33:45.594Z"
   },
   {
    "duration": 74530,
    "start_time": "2021-11-05T18:34:04.054Z"
   },
   {
    "duration": 13,
    "start_time": "2021-11-05T18:38:33.074Z"
   },
   {
    "duration": 339,
    "start_time": "2021-11-05T18:39:39.677Z"
   },
   {
    "duration": 1280,
    "start_time": "2021-11-05T18:39:53.770Z"
   },
   {
    "duration": 449,
    "start_time": "2021-11-05T18:40:37.846Z"
   },
   {
    "duration": 651,
    "start_time": "2021-11-05T18:42:13.765Z"
   },
   {
    "duration": 655,
    "start_time": "2021-11-05T18:42:47.063Z"
   },
   {
    "duration": 1042,
    "start_time": "2021-11-05T18:42:54.772Z"
   },
   {
    "duration": 670,
    "start_time": "2021-11-05T18:43:10.070Z"
   },
   {
    "duration": 100,
    "start_time": "2021-11-05T18:45:55.193Z"
   },
   {
    "duration": 662,
    "start_time": "2021-11-05T18:46:07.801Z"
   },
   {
    "duration": 637,
    "start_time": "2021-11-05T18:47:35.896Z"
   },
   {
    "duration": 635,
    "start_time": "2021-11-05T18:48:00.171Z"
   },
   {
    "duration": 689,
    "start_time": "2021-11-05T18:48:10.390Z"
   },
   {
    "duration": 636,
    "start_time": "2021-11-05T18:48:29.482Z"
   },
   {
    "duration": 4,
    "start_time": "2021-11-05T18:49:14.814Z"
   },
   {
    "duration": 650,
    "start_time": "2021-11-05T18:49:22.278Z"
   },
   {
    "duration": 443,
    "start_time": "2021-11-05T18:50:34.451Z"
   },
   {
    "duration": 4,
    "start_time": "2021-11-05T18:50:44.028Z"
   },
   {
    "duration": 1113,
    "start_time": "2021-11-05T20:37:21.709Z"
   },
   {
    "duration": 287,
    "start_time": "2021-11-05T20:37:22.824Z"
   },
   {
    "duration": 11,
    "start_time": "2021-11-05T20:37:23.114Z"
   },
   {
    "duration": 16,
    "start_time": "2021-11-05T20:37:23.127Z"
   },
   {
    "duration": 168,
    "start_time": "2021-11-05T20:37:23.145Z"
   },
   {
    "duration": 4,
    "start_time": "2021-11-05T20:37:23.314Z"
   },
   {
    "duration": 13,
    "start_time": "2021-11-05T20:37:23.319Z"
   },
   {
    "duration": 38,
    "start_time": "2021-11-05T20:37:23.334Z"
   },
   {
    "duration": 34,
    "start_time": "2021-11-05T20:37:23.374Z"
   },
   {
    "duration": 9,
    "start_time": "2021-11-05T20:37:23.410Z"
   },
   {
    "duration": 43,
    "start_time": "2021-11-05T20:37:23.420Z"
   },
   {
    "duration": 14,
    "start_time": "2021-11-05T20:37:23.465Z"
   },
   {
    "duration": 222,
    "start_time": "2021-11-05T20:37:23.481Z"
   },
   {
    "duration": 13,
    "start_time": "2021-11-05T20:37:23.704Z"
   },
   {
    "duration": 10,
    "start_time": "2021-11-05T20:37:23.719Z"
   },
   {
    "duration": 33,
    "start_time": "2021-11-05T20:37:23.731Z"
   },
   {
    "duration": 14,
    "start_time": "2021-11-05T20:37:23.766Z"
   },
   {
    "duration": 18,
    "start_time": "2021-11-05T20:37:23.781Z"
   },
   {
    "duration": 27,
    "start_time": "2021-11-05T20:37:23.801Z"
   },
   {
    "duration": 50,
    "start_time": "2021-11-05T20:37:23.830Z"
   },
   {
    "duration": 13,
    "start_time": "2021-11-05T20:37:23.881Z"
   },
   {
    "duration": 9,
    "start_time": "2021-11-05T20:37:23.896Z"
   },
   {
    "duration": 8,
    "start_time": "2021-11-05T20:37:23.908Z"
   },
   {
    "duration": 47,
    "start_time": "2021-11-05T20:37:23.917Z"
   },
   {
    "duration": 22,
    "start_time": "2021-11-05T20:37:23.966Z"
   },
   {
    "duration": 18,
    "start_time": "2021-11-05T20:37:23.990Z"
   },
   {
    "duration": 22,
    "start_time": "2021-11-05T20:37:24.009Z"
   },
   {
    "duration": 50,
    "start_time": "2021-11-05T20:37:24.033Z"
   },
   {
    "duration": 11,
    "start_time": "2021-11-05T20:37:24.084Z"
   },
   {
    "duration": 18,
    "start_time": "2021-11-05T20:37:24.097Z"
   },
   {
    "duration": 47,
    "start_time": "2021-11-05T20:37:24.117Z"
   },
   {
    "duration": 7,
    "start_time": "2021-11-05T20:37:24.166Z"
   },
   {
    "duration": 67,
    "start_time": "2021-11-05T20:37:24.175Z"
   },
   {
    "duration": 31,
    "start_time": "2021-11-05T20:37:24.243Z"
   },
   {
    "duration": 34,
    "start_time": "2021-11-05T20:37:24.276Z"
   },
   {
    "duration": 7,
    "start_time": "2021-11-05T20:37:24.312Z"
   },
   {
    "duration": 255,
    "start_time": "2021-11-05T20:37:24.321Z"
   },
   {
    "duration": 210,
    "start_time": "2021-11-05T20:37:24.578Z"
   },
   {
    "duration": 18,
    "start_time": "2021-11-05T20:37:24.790Z"
   },
   {
    "duration": 335,
    "start_time": "2021-11-05T20:37:24.810Z"
   },
   {
    "duration": -118,
    "start_time": "2021-11-05T20:37:25.266Z"
   },
   {
    "duration": 9,
    "start_time": "2021-11-05T20:38:56.500Z"
   },
   {
    "duration": 241,
    "start_time": "2021-11-05T20:39:04.502Z"
   },
   {
    "duration": 14,
    "start_time": "2021-11-05T20:39:09.341Z"
   },
   {
    "duration": 6,
    "start_time": "2021-11-05T20:44:43.942Z"
   },
   {
    "duration": 25,
    "start_time": "2021-11-05T20:44:53.143Z"
   },
   {
    "duration": 6,
    "start_time": "2021-11-05T20:45:31.246Z"
   },
   {
    "duration": 5,
    "start_time": "2021-11-05T20:46:20.251Z"
   },
   {
    "duration": 5,
    "start_time": "2021-11-05T20:46:42.807Z"
   },
   {
    "duration": 11,
    "start_time": "2021-11-05T20:48:01.884Z"
   },
   {
    "duration": 15,
    "start_time": "2021-11-05T20:48:09.683Z"
   },
   {
    "duration": 431,
    "start_time": "2021-11-05T20:49:14.081Z"
   },
   {
    "duration": 6,
    "start_time": "2021-11-05T20:49:29.102Z"
   },
   {
    "duration": 5,
    "start_time": "2021-11-05T20:50:01.915Z"
   },
   {
    "duration": 6,
    "start_time": "2021-11-05T20:50:10.904Z"
   },
   {
    "duration": 5,
    "start_time": "2021-11-05T20:51:18.213Z"
   },
   {
    "duration": 6,
    "start_time": "2021-11-05T20:58:06.053Z"
   },
   {
    "duration": 248,
    "start_time": "2021-11-05T20:59:18.830Z"
   },
   {
    "duration": 250,
    "start_time": "2021-11-05T21:01:28.985Z"
   },
   {
    "duration": 6,
    "start_time": "2021-11-05T21:02:56.359Z"
   },
   {
    "duration": 14,
    "start_time": "2021-11-05T21:06:33.300Z"
   },
   {
    "duration": 9,
    "start_time": "2021-11-05T21:06:55.235Z"
   },
   {
    "duration": 6494,
    "start_time": "2021-11-05T21:08:06.279Z"
   },
   {
    "duration": 13,
    "start_time": "2021-11-05T21:08:30.527Z"
   },
   {
    "duration": 6438,
    "start_time": "2021-11-05T21:08:35.398Z"
   },
   {
    "duration": 6282,
    "start_time": "2021-11-05T21:08:43.462Z"
   },
   {
    "duration": 6992,
    "start_time": "2021-11-05T21:08:55.788Z"
   },
   {
    "duration": 9,
    "start_time": "2021-11-05T21:09:44.091Z"
   },
   {
    "duration": 11,
    "start_time": "2021-11-05T21:09:56.461Z"
   },
   {
    "duration": 9,
    "start_time": "2021-11-05T21:09:57.991Z"
   },
   {
    "duration": 7,
    "start_time": "2021-11-05T21:11:06.225Z"
   },
   {
    "duration": 5,
    "start_time": "2021-11-05T21:13:40.515Z"
   },
   {
    "duration": 4,
    "start_time": "2021-11-05T21:14:25.562Z"
   },
   {
    "duration": 6,
    "start_time": "2021-11-05T21:14:34.412Z"
   },
   {
    "duration": 6,
    "start_time": "2021-11-05T21:14:41.305Z"
   },
   {
    "duration": 6,
    "start_time": "2021-11-05T21:14:49.599Z"
   },
   {
    "duration": 5,
    "start_time": "2021-11-05T21:14:59.291Z"
   },
   {
    "duration": 5,
    "start_time": "2021-11-05T21:15:06.010Z"
   },
   {
    "duration": 293,
    "start_time": "2021-11-05T21:16:50.789Z"
   },
   {
    "duration": 514,
    "start_time": "2021-11-05T21:17:13.263Z"
   },
   {
    "duration": 629,
    "start_time": "2021-11-05T21:18:27.924Z"
   },
   {
    "duration": 503,
    "start_time": "2021-11-05T21:18:34.691Z"
   },
   {
    "duration": 211,
    "start_time": "2021-11-05T21:27:12.974Z"
   },
   {
    "duration": 6,
    "start_time": "2021-11-05T21:28:41.424Z"
   },
   {
    "duration": 4,
    "start_time": "2021-11-05T21:29:03.554Z"
   },
   {
    "duration": 12,
    "start_time": "2021-11-05T21:29:34.617Z"
   },
   {
    "duration": 28,
    "start_time": "2021-11-05T21:35:21.289Z"
   },
   {
    "duration": 29,
    "start_time": "2021-11-05T21:35:43.546Z"
   },
   {
    "duration": 5,
    "start_time": "2021-11-05T21:36:12.547Z"
   },
   {
    "duration": 1413,
    "start_time": "2021-11-07T08:51:45.512Z"
   },
   {
    "duration": 394,
    "start_time": "2021-11-07T08:51:46.928Z"
   },
   {
    "duration": 14,
    "start_time": "2021-11-07T08:51:47.326Z"
   },
   {
    "duration": 20,
    "start_time": "2021-11-07T08:51:47.343Z"
   },
   {
    "duration": 197,
    "start_time": "2021-11-07T08:51:47.366Z"
   },
   {
    "duration": 5,
    "start_time": "2021-11-07T08:51:47.565Z"
   },
   {
    "duration": 13,
    "start_time": "2021-11-07T08:51:47.572Z"
   },
   {
    "duration": 29,
    "start_time": "2021-11-07T08:51:47.589Z"
   },
   {
    "duration": 84,
    "start_time": "2021-11-07T08:51:47.621Z"
   },
   {
    "duration": 12,
    "start_time": "2021-11-07T08:51:47.707Z"
   },
   {
    "duration": 49,
    "start_time": "2021-11-07T08:51:47.721Z"
   },
   {
    "duration": 20,
    "start_time": "2021-11-07T08:51:47.772Z"
   },
   {
    "duration": 368,
    "start_time": "2021-11-07T08:51:47.794Z"
   },
   {
    "duration": 18,
    "start_time": "2021-11-07T08:51:48.167Z"
   },
   {
    "duration": 12,
    "start_time": "2021-11-07T08:51:48.187Z"
   },
   {
    "duration": 12,
    "start_time": "2021-11-07T08:51:48.201Z"
   },
   {
    "duration": 56,
    "start_time": "2021-11-07T08:51:48.215Z"
   },
   {
    "duration": 24,
    "start_time": "2021-11-07T08:51:48.274Z"
   },
   {
    "duration": 41,
    "start_time": "2021-11-07T08:51:48.301Z"
   },
   {
    "duration": 32,
    "start_time": "2021-11-07T08:51:48.368Z"
   },
   {
    "duration": 20,
    "start_time": "2021-11-07T08:51:48.402Z"
   },
   {
    "duration": 14,
    "start_time": "2021-11-07T08:51:48.425Z"
   },
   {
    "duration": 10,
    "start_time": "2021-11-07T08:51:48.473Z"
   },
   {
    "duration": 21,
    "start_time": "2021-11-07T08:51:48.488Z"
   },
   {
    "duration": 60,
    "start_time": "2021-11-07T08:51:48.512Z"
   },
   {
    "duration": 23,
    "start_time": "2021-11-07T08:51:48.574Z"
   },
   {
    "duration": 31,
    "start_time": "2021-11-07T08:51:48.599Z"
   },
   {
    "duration": 64,
    "start_time": "2021-11-07T08:51:48.632Z"
   },
   {
    "duration": 14,
    "start_time": "2021-11-07T08:51:48.698Z"
   },
   {
    "duration": 54,
    "start_time": "2021-11-07T08:51:48.715Z"
   },
   {
    "duration": 17,
    "start_time": "2021-11-07T08:51:48.771Z"
   },
   {
    "duration": 9,
    "start_time": "2021-11-07T08:51:48.791Z"
   },
   {
    "duration": 144,
    "start_time": "2021-11-07T08:51:48.802Z"
   },
   {
    "duration": 21,
    "start_time": "2021-11-07T08:51:48.948Z"
   },
   {
    "duration": 49,
    "start_time": "2021-11-07T08:51:48.972Z"
   },
   {
    "duration": 8,
    "start_time": "2021-11-07T08:51:49.024Z"
   },
   {
    "duration": 389,
    "start_time": "2021-11-07T08:51:49.034Z"
   },
   {
    "duration": 364,
    "start_time": "2021-11-07T08:51:49.425Z"
   },
   {
    "duration": 29,
    "start_time": "2021-11-07T08:51:49.791Z"
   },
   {
    "duration": 8,
    "start_time": "2021-11-07T08:51:49.822Z"
   },
   {
    "duration": 72,
    "start_time": "2021-11-07T08:51:49.832Z"
   },
   {
    "duration": 62,
    "start_time": "2021-11-07T08:51:49.906Z"
   },
   {
    "duration": 18,
    "start_time": "2021-11-07T08:51:49.970Z"
   },
   {
    "duration": 9,
    "start_time": "2021-11-07T08:51:49.990Z"
   },
   {
    "duration": 22,
    "start_time": "2021-11-07T08:51:50.001Z"
   },
   {
    "duration": 11,
    "start_time": "2021-11-07T08:51:50.025Z"
   },
   {
    "duration": 33,
    "start_time": "2021-11-07T08:51:50.038Z"
   },
   {
    "duration": 19,
    "start_time": "2021-11-07T08:51:50.074Z"
   },
   {
    "duration": 772,
    "start_time": "2021-11-07T08:51:50.095Z"
   },
   {
    "duration": 10,
    "start_time": "2021-11-07T08:56:38.322Z"
   },
   {
    "duration": 21,
    "start_time": "2021-11-07T08:58:41.343Z"
   },
   {
    "duration": 427,
    "start_time": "2021-11-07T08:59:09.870Z"
   },
   {
    "duration": 14,
    "start_time": "2021-11-07T08:59:14.885Z"
   },
   {
    "duration": 39,
    "start_time": "2021-11-07T09:07:54.391Z"
   },
   {
    "duration": 14,
    "start_time": "2021-11-07T09:27:35.983Z"
   },
   {
    "duration": 16,
    "start_time": "2021-11-07T09:28:30.113Z"
   },
   {
    "duration": 122,
    "start_time": "2021-11-07T09:29:43.954Z"
   },
   {
    "duration": 23,
    "start_time": "2021-11-07T09:35:22.944Z"
   },
   {
    "duration": 14,
    "start_time": "2021-11-07T09:35:59.335Z"
   },
   {
    "duration": 1537,
    "start_time": "2021-11-07T09:36:20.264Z"
   },
   {
    "duration": 410,
    "start_time": "2021-11-07T09:36:21.804Z"
   },
   {
    "duration": 17,
    "start_time": "2021-11-07T09:36:22.218Z"
   },
   {
    "duration": 22,
    "start_time": "2021-11-07T09:36:22.238Z"
   },
   {
    "duration": 216,
    "start_time": "2021-11-07T09:36:22.263Z"
   },
   {
    "duration": 5,
    "start_time": "2021-11-07T09:36:22.482Z"
   },
   {
    "duration": 15,
    "start_time": "2021-11-07T09:36:22.490Z"
   },
   {
    "duration": 57,
    "start_time": "2021-11-07T09:36:22.511Z"
   },
   {
    "duration": 32,
    "start_time": "2021-11-07T09:36:22.572Z"
   },
   {
    "duration": 72,
    "start_time": "2021-11-07T09:36:22.607Z"
   },
   {
    "duration": 12,
    "start_time": "2021-11-07T09:36:22.681Z"
   },
   {
    "duration": 40,
    "start_time": "2021-11-07T09:36:22.695Z"
   },
   {
    "duration": 37,
    "start_time": "2021-11-07T09:36:22.737Z"
   },
   {
    "duration": 356,
    "start_time": "2021-11-07T09:36:22.776Z"
   },
   {
    "duration": 33,
    "start_time": "2021-11-07T09:36:23.134Z"
   },
   {
    "duration": 12,
    "start_time": "2021-11-07T09:36:23.169Z"
   },
   {
    "duration": 20,
    "start_time": "2021-11-07T09:36:23.183Z"
   },
   {
    "duration": 11,
    "start_time": "2021-11-07T09:36:23.206Z"
   },
   {
    "duration": 48,
    "start_time": "2021-11-07T09:36:23.220Z"
   },
   {
    "duration": 26,
    "start_time": "2021-11-07T09:36:23.271Z"
   },
   {
    "duration": 40,
    "start_time": "2021-11-07T09:36:23.299Z"
   },
   {
    "duration": 30,
    "start_time": "2021-11-07T09:36:23.368Z"
   },
   {
    "duration": 13,
    "start_time": "2021-11-07T09:36:23.404Z"
   },
   {
    "duration": 19,
    "start_time": "2021-11-07T09:36:23.420Z"
   },
   {
    "duration": 11,
    "start_time": "2021-11-07T09:36:23.468Z"
   },
   {
    "duration": 22,
    "start_time": "2021-11-07T09:36:23.481Z"
   },
   {
    "duration": 62,
    "start_time": "2021-11-07T09:36:23.505Z"
   },
   {
    "duration": 24,
    "start_time": "2021-11-07T09:36:23.570Z"
   },
   {
    "duration": 35,
    "start_time": "2021-11-07T09:36:23.597Z"
   },
   {
    "duration": 63,
    "start_time": "2021-11-07T09:36:23.634Z"
   },
   {
    "duration": 23,
    "start_time": "2021-11-07T09:36:23.700Z"
   },
   {
    "duration": 42,
    "start_time": "2021-11-07T09:36:23.726Z"
   },
   {
    "duration": 25,
    "start_time": "2021-11-07T09:36:23.771Z"
   },
   {
    "duration": 12,
    "start_time": "2021-11-07T09:36:23.799Z"
   },
   {
    "duration": 9,
    "start_time": "2021-11-07T09:36:23.813Z"
   },
   {
    "duration": 158,
    "start_time": "2021-11-07T09:36:23.825Z"
   },
   {
    "duration": 17,
    "start_time": "2021-11-07T09:36:23.985Z"
   },
   {
    "duration": 32,
    "start_time": "2021-11-07T09:36:24.004Z"
   },
   {
    "duration": 85,
    "start_time": "2021-11-07T09:36:24.038Z"
   },
   {
    "duration": 7,
    "start_time": "2021-11-07T09:36:24.125Z"
   },
   {
    "duration": 377,
    "start_time": "2021-11-07T09:36:24.135Z"
   },
   {
    "duration": 355,
    "start_time": "2021-11-07T09:36:24.515Z"
   },
   {
    "duration": 27,
    "start_time": "2021-11-07T09:36:24.872Z"
   },
   {
    "duration": 12,
    "start_time": "2021-11-07T09:36:24.902Z"
   },
   {
    "duration": 69,
    "start_time": "2021-11-07T09:36:24.916Z"
   },
   {
    "duration": 44,
    "start_time": "2021-11-07T09:36:24.988Z"
   },
   {
    "duration": 44,
    "start_time": "2021-11-07T09:36:25.034Z"
   },
   {
    "duration": 9,
    "start_time": "2021-11-07T09:36:25.080Z"
   },
   {
    "duration": 20,
    "start_time": "2021-11-07T09:36:25.092Z"
   },
   {
    "duration": 11,
    "start_time": "2021-11-07T09:36:25.116Z"
   },
   {
    "duration": 42,
    "start_time": "2021-11-07T09:36:25.130Z"
   },
   {
    "duration": 20,
    "start_time": "2021-11-07T09:36:25.175Z"
   },
   {
    "duration": 798,
    "start_time": "2021-11-07T09:36:25.197Z"
   },
   {
    "duration": 25,
    "start_time": "2021-11-07T09:37:11.370Z"
   },
   {
    "duration": 881,
    "start_time": "2021-11-07T09:38:31.382Z"
   },
   {
    "duration": 310,
    "start_time": "2021-11-07T09:42:29.213Z"
   },
   {
    "duration": 293,
    "start_time": "2021-11-07T09:43:23.032Z"
   },
   {
    "duration": 309,
    "start_time": "2021-11-07T09:44:21.509Z"
   },
   {
    "duration": 96,
    "start_time": "2021-11-07T09:44:40.247Z"
   },
   {
    "duration": 96,
    "start_time": "2021-11-07T09:44:48.282Z"
   },
   {
    "duration": 24,
    "start_time": "2021-11-07T09:45:03.609Z"
   },
   {
    "duration": 109,
    "start_time": "2021-11-07T09:46:49.412Z"
   },
   {
    "duration": 95,
    "start_time": "2021-11-07T09:46:55.593Z"
   },
   {
    "duration": 87,
    "start_time": "2021-11-07T09:47:04.584Z"
   },
   {
    "duration": 95,
    "start_time": "2021-11-07T09:47:32.728Z"
   },
   {
    "duration": 95,
    "start_time": "2021-11-07T09:47:53.581Z"
   },
   {
    "duration": 31,
    "start_time": "2021-11-07T09:48:16.426Z"
   },
   {
    "duration": 23,
    "start_time": "2021-11-07T09:48:33.824Z"
   },
   {
    "duration": 14,
    "start_time": "2021-11-07T09:50:55.631Z"
   },
   {
    "duration": 24,
    "start_time": "2021-11-07T09:50:59.387Z"
   },
   {
    "duration": 15,
    "start_time": "2021-11-07T09:51:08.590Z"
   },
   {
    "duration": 119,
    "start_time": "2021-11-07T09:51:12.043Z"
   },
   {
    "duration": 29,
    "start_time": "2021-11-07T09:51:15.681Z"
   },
   {
    "duration": 58,
    "start_time": "2021-11-07T09:51:21.974Z"
   },
   {
    "duration": 26,
    "start_time": "2021-11-07T09:51:30.452Z"
   },
   {
    "duration": 19,
    "start_time": "2021-11-07T09:51:53.472Z"
   },
   {
    "duration": 11,
    "start_time": "2021-11-07T09:52:11.587Z"
   },
   {
    "duration": 296,
    "start_time": "2021-11-07T09:52:21.547Z"
   },
   {
    "duration": 332,
    "start_time": "2021-11-07T09:53:53.717Z"
   },
   {
    "duration": 9,
    "start_time": "2021-11-07T09:54:17.291Z"
   },
   {
    "duration": 15,
    "start_time": "2021-11-07T09:54:25.448Z"
   },
   {
    "duration": 8,
    "start_time": "2021-11-07T10:02:01.862Z"
   },
   {
    "duration": 18,
    "start_time": "2021-11-07T10:02:23.514Z"
   },
   {
    "duration": 17,
    "start_time": "2021-11-07T10:02:58.443Z"
   },
   {
    "duration": 17,
    "start_time": "2021-11-07T10:03:01.779Z"
   },
   {
    "duration": 1786,
    "start_time": "2021-11-07T10:03:16.238Z"
   },
   {
    "duration": 499,
    "start_time": "2021-11-07T10:03:18.028Z"
   },
   {
    "duration": 16,
    "start_time": "2021-11-07T10:03:18.530Z"
   },
   {
    "duration": 21,
    "start_time": "2021-11-07T10:03:18.549Z"
   },
   {
    "duration": 226,
    "start_time": "2021-11-07T10:03:18.573Z"
   },
   {
    "duration": 5,
    "start_time": "2021-11-07T10:03:18.802Z"
   },
   {
    "duration": 14,
    "start_time": "2021-11-07T10:03:18.810Z"
   },
   {
    "duration": 54,
    "start_time": "2021-11-07T10:03:18.828Z"
   },
   {
    "duration": 58,
    "start_time": "2021-11-07T10:03:18.885Z"
   },
   {
    "duration": 35,
    "start_time": "2021-11-07T10:03:18.946Z"
   },
   {
    "duration": 41,
    "start_time": "2021-11-07T10:03:18.984Z"
   },
   {
    "duration": 52,
    "start_time": "2021-11-07T10:03:19.028Z"
   },
   {
    "duration": 18,
    "start_time": "2021-11-07T10:03:19.082Z"
   },
   {
    "duration": 14,
    "start_time": "2021-11-07T10:03:19.102Z"
   },
   {
    "duration": 17,
    "start_time": "2021-11-07T10:03:19.118Z"
   },
   {
    "duration": 42,
    "start_time": "2021-11-07T10:03:19.137Z"
   },
   {
    "duration": 12,
    "start_time": "2021-11-07T10:03:19.181Z"
   },
   {
    "duration": 20,
    "start_time": "2021-11-07T10:03:19.195Z"
   },
   {
    "duration": 62,
    "start_time": "2021-11-07T10:03:19.218Z"
   },
   {
    "duration": 42,
    "start_time": "2021-11-07T10:03:19.283Z"
   },
   {
    "duration": 56,
    "start_time": "2021-11-07T10:03:19.327Z"
   },
   {
    "duration": 12,
    "start_time": "2021-11-07T10:03:19.385Z"
   },
   {
    "duration": 15,
    "start_time": "2021-11-07T10:03:19.403Z"
   },
   {
    "duration": 46,
    "start_time": "2021-11-07T10:03:19.421Z"
   },
   {
    "duration": 20,
    "start_time": "2021-11-07T10:03:19.469Z"
   },
   {
    "duration": 31,
    "start_time": "2021-11-07T10:03:19.491Z"
   },
   {
    "duration": 51,
    "start_time": "2021-11-07T10:03:19.524Z"
   },
   {
    "duration": 31,
    "start_time": "2021-11-07T10:03:19.578Z"
   },
   {
    "duration": 56,
    "start_time": "2021-11-07T10:03:19.611Z"
   },
   {
    "duration": 26,
    "start_time": "2021-11-07T10:03:19.669Z"
   },
   {
    "duration": 15,
    "start_time": "2021-11-07T10:03:19.697Z"
   },
   {
    "duration": 62,
    "start_time": "2021-11-07T10:03:19.715Z"
   },
   {
    "duration": 12,
    "start_time": "2021-11-07T10:03:19.779Z"
   },
   {
    "duration": 9,
    "start_time": "2021-11-07T10:03:19.794Z"
   },
   {
    "duration": 152,
    "start_time": "2021-11-07T10:03:19.805Z"
   },
   {
    "duration": 26,
    "start_time": "2021-11-07T10:03:19.960Z"
   },
   {
    "duration": 34,
    "start_time": "2021-11-07T10:03:19.988Z"
   },
   {
    "duration": 75,
    "start_time": "2021-11-07T10:03:20.024Z"
   },
   {
    "duration": 7,
    "start_time": "2021-11-07T10:03:20.101Z"
   },
   {
    "duration": 393,
    "start_time": "2021-11-07T10:03:20.110Z"
   },
   {
    "duration": 367,
    "start_time": "2021-11-07T10:03:20.505Z"
   },
   {
    "duration": 35,
    "start_time": "2021-11-07T10:03:20.875Z"
   },
   {
    "duration": 9,
    "start_time": "2021-11-07T10:03:20.913Z"
   },
   {
    "duration": 79,
    "start_time": "2021-11-07T10:03:20.925Z"
   },
   {
    "duration": 68,
    "start_time": "2021-11-07T10:03:21.007Z"
   },
   {
    "duration": 20,
    "start_time": "2021-11-07T10:03:21.078Z"
   },
   {
    "duration": 10,
    "start_time": "2021-11-07T10:03:21.101Z"
   },
   {
    "duration": 453,
    "start_time": "2021-11-07T10:03:21.114Z"
   },
   {
    "duration": -273,
    "start_time": "2021-11-07T10:03:21.842Z"
   },
   {
    "duration": -289,
    "start_time": "2021-11-07T10:03:21.859Z"
   },
   {
    "duration": -299,
    "start_time": "2021-11-07T10:03:21.871Z"
   },
   {
    "duration": -304,
    "start_time": "2021-11-07T10:03:21.877Z"
   },
   {
    "duration": 33,
    "start_time": "2021-11-07T10:04:35.324Z"
   },
   {
    "duration": 32,
    "start_time": "2021-11-07T10:04:41.199Z"
   },
   {
    "duration": 23,
    "start_time": "2021-11-07T10:04:47.926Z"
   },
   {
    "duration": 25,
    "start_time": "2021-11-07T10:04:57.689Z"
   },
   {
    "duration": 303,
    "start_time": "2021-11-07T10:24:20.802Z"
   },
   {
    "duration": 43,
    "start_time": "2021-11-07T10:24:29.780Z"
   },
   {
    "duration": 22,
    "start_time": "2021-11-07T10:24:44.221Z"
   },
   {
    "duration": 8,
    "start_time": "2021-11-07T10:25:39.893Z"
   },
   {
    "duration": 119,
    "start_time": "2021-11-07T10:25:43.471Z"
   },
   {
    "duration": 17,
    "start_time": "2021-11-07T10:25:45.440Z"
   },
   {
    "duration": 9,
    "start_time": "2021-11-07T10:26:20.475Z"
   },
   {
    "duration": 24,
    "start_time": "2021-11-07T10:26:53.608Z"
   },
   {
    "duration": 18,
    "start_time": "2021-11-07T10:27:14.770Z"
   },
   {
    "duration": 7,
    "start_time": "2021-11-07T10:27:21.748Z"
   },
   {
    "duration": 7,
    "start_time": "2021-11-07T10:27:30.494Z"
   },
   {
    "duration": 7,
    "start_time": "2021-11-07T10:27:44.638Z"
   },
   {
    "duration": 23,
    "start_time": "2021-11-07T10:28:34.660Z"
   },
   {
    "duration": 14,
    "start_time": "2021-11-07T10:28:46.310Z"
   },
   {
    "duration": 15,
    "start_time": "2021-11-07T10:28:49.868Z"
   },
   {
    "duration": 100,
    "start_time": "2021-11-07T10:29:44.821Z"
   },
   {
    "duration": 131,
    "start_time": "2021-11-07T10:30:19.160Z"
   },
   {
    "duration": 9,
    "start_time": "2021-11-07T10:30:41.000Z"
   },
   {
    "duration": 9,
    "start_time": "2021-11-07T10:30:58.160Z"
   },
   {
    "duration": 339,
    "start_time": "2021-11-07T10:31:21.820Z"
   },
   {
    "duration": 327,
    "start_time": "2021-11-07T10:32:43.076Z"
   },
   {
    "duration": 12,
    "start_time": "2021-11-07T10:35:11.663Z"
   },
   {
    "duration": 9,
    "start_time": "2021-11-07T10:38:58.228Z"
   },
   {
    "duration": 7,
    "start_time": "2021-11-07T10:40:32.872Z"
   },
   {
    "duration": 22,
    "start_time": "2021-11-07T10:40:35.399Z"
   },
   {
    "duration": 25,
    "start_time": "2021-11-07T10:41:08.087Z"
   },
   {
    "duration": 97,
    "start_time": "2021-11-07T10:44:34.310Z"
   },
   {
    "duration": 12,
    "start_time": "2021-11-07T10:44:46.650Z"
   },
   {
    "duration": 39,
    "start_time": "2021-11-07T10:44:58.440Z"
   },
   {
    "duration": 7,
    "start_time": "2021-11-07T10:45:33.478Z"
   },
   {
    "duration": 23,
    "start_time": "2021-11-07T10:46:50.109Z"
   },
   {
    "duration": 14,
    "start_time": "2021-11-07T10:47:30.244Z"
   },
   {
    "duration": 21,
    "start_time": "2021-11-07T10:48:16.280Z"
   },
   {
    "duration": 10,
    "start_time": "2021-11-07T10:49:22.761Z"
   },
   {
    "duration": 7917,
    "start_time": "2021-11-07T10:49:43.430Z"
   },
   {
    "duration": 20,
    "start_time": "2021-11-07T10:50:16.028Z"
   },
   {
    "duration": 10,
    "start_time": "2021-11-07T10:50:18.111Z"
   },
   {
    "duration": 5,
    "start_time": "2021-11-07T10:51:22.671Z"
   },
   {
    "duration": 471,
    "start_time": "2021-11-07T10:52:09.048Z"
   },
   {
    "duration": 6,
    "start_time": "2021-11-07T10:52:51.646Z"
   },
   {
    "duration": 16,
    "start_time": "2021-11-07T10:55:20.754Z"
   },
   {
    "duration": 11,
    "start_time": "2021-11-07T10:55:27.638Z"
   },
   {
    "duration": 16,
    "start_time": "2021-11-07T10:55:29.290Z"
   },
   {
    "duration": 35,
    "start_time": "2021-11-07T10:55:48.921Z"
   },
   {
    "duration": 46,
    "start_time": "2021-11-07T10:56:55.669Z"
   },
   {
    "duration": 40,
    "start_time": "2021-11-07T10:57:18.980Z"
   },
   {
    "duration": 13,
    "start_time": "2021-11-07T10:57:44.169Z"
   },
   {
    "duration": 27,
    "start_time": "2021-11-07T10:57:49.947Z"
   },
   {
    "duration": 26,
    "start_time": "2021-11-07T10:57:52.931Z"
   },
   {
    "duration": 6,
    "start_time": "2021-11-07T10:58:02.236Z"
   },
   {
    "duration": 7,
    "start_time": "2021-11-07T10:59:10.501Z"
   },
   {
    "duration": 8,
    "start_time": "2021-11-07T11:00:49.380Z"
   },
   {
    "duration": 25,
    "start_time": "2021-11-07T11:00:59.482Z"
   },
   {
    "duration": 9,
    "start_time": "2021-11-07T11:01:07.992Z"
   },
   {
    "duration": 7,
    "start_time": "2021-11-07T11:01:20.262Z"
   },
   {
    "duration": 8,
    "start_time": "2021-11-07T11:21:51.968Z"
   },
   {
    "duration": 7,
    "start_time": "2021-11-07T11:24:23.362Z"
   },
   {
    "duration": 752,
    "start_time": "2021-11-07T11:25:22.378Z"
   },
   {
    "duration": 834,
    "start_time": "2021-11-07T11:25:55.513Z"
   },
   {
    "duration": 850,
    "start_time": "2021-11-07T11:27:41.331Z"
   },
   {
    "duration": 940,
    "start_time": "2021-11-07T11:28:27.233Z"
   },
   {
    "duration": 832,
    "start_time": "2021-11-07T11:28:38.728Z"
   },
   {
    "duration": 806,
    "start_time": "2021-11-07T11:29:00.071Z"
   },
   {
    "duration": 809,
    "start_time": "2021-11-07T11:29:52.579Z"
   },
   {
    "duration": 869,
    "start_time": "2021-11-07T11:30:02.165Z"
   },
   {
    "duration": 14,
    "start_time": "2021-11-07T11:34:04.621Z"
   },
   {
    "duration": 43,
    "start_time": "2021-11-07T11:34:07.501Z"
   },
   {
    "duration": 342,
    "start_time": "2021-11-07T11:38:00.059Z"
   },
   {
    "duration": 372,
    "start_time": "2021-11-07T11:42:06.759Z"
   },
   {
    "duration": 373,
    "start_time": "2021-11-07T11:43:11.960Z"
   },
   {
    "duration": 287,
    "start_time": "2021-11-07T11:44:08.808Z"
   },
   {
    "duration": 349,
    "start_time": "2021-11-07T11:44:14.578Z"
   },
   {
    "duration": 899,
    "start_time": "2021-11-07T11:49:10.143Z"
   },
   {
    "duration": 370,
    "start_time": "2021-11-07T11:49:21.220Z"
   },
   {
    "duration": 497,
    "start_time": "2021-11-07T11:50:18.900Z"
   },
   {
    "duration": 1175,
    "start_time": "2021-11-07T15:20:39.955Z"
   },
   {
    "duration": 303,
    "start_time": "2021-11-07T15:20:41.132Z"
   },
   {
    "duration": 10,
    "start_time": "2021-11-07T15:20:41.438Z"
   },
   {
    "duration": 17,
    "start_time": "2021-11-07T15:20:41.450Z"
   },
   {
    "duration": 172,
    "start_time": "2021-11-07T15:20:41.469Z"
   },
   {
    "duration": 4,
    "start_time": "2021-11-07T15:20:41.643Z"
   },
   {
    "duration": 18,
    "start_time": "2021-11-07T15:20:41.648Z"
   },
   {
    "duration": 21,
    "start_time": "2021-11-07T15:20:41.669Z"
   },
   {
    "duration": 34,
    "start_time": "2021-11-07T15:20:41.692Z"
   },
   {
    "duration": 9,
    "start_time": "2021-11-07T15:20:41.728Z"
   },
   {
    "duration": 42,
    "start_time": "2021-11-07T15:20:41.739Z"
   },
   {
    "duration": 15,
    "start_time": "2021-11-07T15:20:41.783Z"
   },
   {
    "duration": 11,
    "start_time": "2021-11-07T15:20:41.800Z"
   },
   {
    "duration": 11,
    "start_time": "2021-11-07T15:20:41.812Z"
   },
   {
    "duration": 13,
    "start_time": "2021-11-07T15:20:41.825Z"
   },
   {
    "duration": 33,
    "start_time": "2021-11-07T15:20:41.839Z"
   },
   {
    "duration": 17,
    "start_time": "2021-11-07T15:20:41.873Z"
   },
   {
    "duration": 19,
    "start_time": "2021-11-07T15:20:41.891Z"
   },
   {
    "duration": 17,
    "start_time": "2021-11-07T15:20:41.912Z"
   },
   {
    "duration": 40,
    "start_time": "2021-11-07T15:20:41.931Z"
   },
   {
    "duration": 22,
    "start_time": "2021-11-07T15:20:41.973Z"
   },
   {
    "duration": 10,
    "start_time": "2021-11-07T15:20:41.997Z"
   },
   {
    "duration": 15,
    "start_time": "2021-11-07T15:20:42.012Z"
   },
   {
    "duration": 40,
    "start_time": "2021-11-07T15:20:42.030Z"
   },
   {
    "duration": 15,
    "start_time": "2021-11-07T15:20:42.072Z"
   },
   {
    "duration": 20,
    "start_time": "2021-11-07T15:20:42.089Z"
   },
   {
    "duration": 16,
    "start_time": "2021-11-07T15:20:42.110Z"
   },
   {
    "duration": 47,
    "start_time": "2021-11-07T15:20:42.128Z"
   },
   {
    "duration": 19,
    "start_time": "2021-11-07T15:20:42.177Z"
   },
   {
    "duration": 13,
    "start_time": "2021-11-07T15:20:42.198Z"
   },
   {
    "duration": 16,
    "start_time": "2021-11-07T15:20:42.213Z"
   },
   {
    "duration": 38,
    "start_time": "2021-11-07T15:20:42.230Z"
   },
   {
    "duration": 8,
    "start_time": "2021-11-07T15:20:42.269Z"
   },
   {
    "duration": 8,
    "start_time": "2021-11-07T15:20:42.279Z"
   },
   {
    "duration": 87,
    "start_time": "2021-11-07T15:20:42.289Z"
   },
   {
    "duration": 11,
    "start_time": "2021-11-07T15:20:42.377Z"
   },
   {
    "duration": 41,
    "start_time": "2021-11-07T15:20:42.389Z"
   },
   {
    "duration": 5,
    "start_time": "2021-11-07T15:20:42.432Z"
   },
   {
    "duration": 37,
    "start_time": "2021-11-07T15:20:42.439Z"
   },
   {
    "duration": 225,
    "start_time": "2021-11-07T15:20:42.477Z"
   },
   {
    "duration": 259,
    "start_time": "2021-11-07T15:20:42.704Z"
   },
   {
    "duration": 273,
    "start_time": "2021-11-07T15:20:42.966Z"
   },
   {
    "duration": 5,
    "start_time": "2021-11-07T15:20:43.241Z"
   },
   {
    "duration": 39,
    "start_time": "2021-11-07T15:20:43.247Z"
   },
   {
    "duration": 239,
    "start_time": "2021-11-07T15:20:43.287Z"
   },
   {
    "duration": 14,
    "start_time": "2021-11-07T15:20:43.527Z"
   },
   {
    "duration": 22,
    "start_time": "2021-11-07T15:20:43.543Z"
   },
   {
    "duration": 24,
    "start_time": "2021-11-07T15:20:43.567Z"
   },
   {
    "duration": 18,
    "start_time": "2021-11-07T15:20:43.593Z"
   },
   {
    "duration": 13,
    "start_time": "2021-11-07T15:20:43.613Z"
   },
   {
    "duration": 6,
    "start_time": "2021-11-07T15:20:43.628Z"
   },
   {
    "duration": 25,
    "start_time": "2021-11-07T15:20:43.636Z"
   },
   {
    "duration": 9,
    "start_time": "2021-11-07T15:20:43.663Z"
   },
   {
    "duration": 22,
    "start_time": "2021-11-07T15:20:43.673Z"
   },
   {
    "duration": 544,
    "start_time": "2021-11-07T15:20:43.697Z"
   },
   {
    "duration": 680,
    "start_time": "2021-11-07T15:20:44.243Z"
   },
   {
    "duration": 1122,
    "start_time": "2021-11-07T18:58:16.782Z"
   },
   {
    "duration": 280,
    "start_time": "2021-11-07T18:58:17.906Z"
   },
   {
    "duration": 11,
    "start_time": "2021-11-07T18:58:18.188Z"
   },
   {
    "duration": 17,
    "start_time": "2021-11-07T18:58:18.200Z"
   },
   {
    "duration": 156,
    "start_time": "2021-11-07T18:58:18.218Z"
   },
   {
    "duration": 3,
    "start_time": "2021-11-07T18:58:18.376Z"
   },
   {
    "duration": 8,
    "start_time": "2021-11-07T18:58:18.380Z"
   },
   {
    "duration": 23,
    "start_time": "2021-11-07T18:58:18.391Z"
   },
   {
    "duration": 55,
    "start_time": "2021-11-07T18:58:18.416Z"
   },
   {
    "duration": 9,
    "start_time": "2021-11-07T18:58:18.472Z"
   },
   {
    "duration": 24,
    "start_time": "2021-11-07T18:58:18.482Z"
   },
   {
    "duration": 14,
    "start_time": "2021-11-07T18:58:18.508Z"
   },
   {
    "duration": 10,
    "start_time": "2021-11-07T18:58:18.524Z"
   },
   {
    "duration": 34,
    "start_time": "2021-11-07T18:58:18.535Z"
   },
   {
    "duration": 11,
    "start_time": "2021-11-07T18:58:18.571Z"
   },
   {
    "duration": 9,
    "start_time": "2021-11-07T18:58:18.583Z"
   },
   {
    "duration": 9,
    "start_time": "2021-11-07T18:58:18.593Z"
   },
   {
    "duration": 14,
    "start_time": "2021-11-07T18:58:18.604Z"
   },
   {
    "duration": 16,
    "start_time": "2021-11-07T18:58:18.620Z"
   },
   {
    "duration": 48,
    "start_time": "2021-11-07T18:58:18.637Z"
   },
   {
    "duration": 22,
    "start_time": "2021-11-07T18:58:18.686Z"
   },
   {
    "duration": 9,
    "start_time": "2021-11-07T18:58:18.709Z"
   },
   {
    "duration": 14,
    "start_time": "2021-11-07T18:58:18.721Z"
   },
   {
    "duration": 31,
    "start_time": "2021-11-07T18:58:18.736Z"
   },
   {
    "duration": 13,
    "start_time": "2021-11-07T18:58:18.769Z"
   },
   {
    "duration": 24,
    "start_time": "2021-11-07T18:58:18.783Z"
   },
   {
    "duration": 16,
    "start_time": "2021-11-07T18:58:18.809Z"
   },
   {
    "duration": 40,
    "start_time": "2021-11-07T18:58:18.827Z"
   },
   {
    "duration": 21,
    "start_time": "2021-11-07T18:58:18.869Z"
   },
   {
    "duration": 14,
    "start_time": "2021-11-07T18:58:18.892Z"
   },
   {
    "duration": 12,
    "start_time": "2021-11-07T18:58:18.907Z"
   },
   {
    "duration": 16,
    "start_time": "2021-11-07T18:58:18.920Z"
   },
   {
    "duration": 11,
    "start_time": "2021-11-07T18:58:18.963Z"
   },
   {
    "duration": 12,
    "start_time": "2021-11-07T18:58:18.975Z"
   },
   {
    "duration": 81,
    "start_time": "2021-11-07T18:58:18.988Z"
   },
   {
    "duration": 10,
    "start_time": "2021-11-07T18:58:19.071Z"
   },
   {
    "duration": 29,
    "start_time": "2021-11-07T18:58:19.083Z"
   },
   {
    "duration": 5,
    "start_time": "2021-11-07T18:58:19.114Z"
   },
   {
    "duration": 47,
    "start_time": "2021-11-07T18:58:19.120Z"
   },
   {
    "duration": 215,
    "start_time": "2021-11-07T18:58:19.169Z"
   },
   {
    "duration": 210,
    "start_time": "2021-11-07T18:58:19.386Z"
   },
   {
    "duration": 208,
    "start_time": "2021-11-07T18:58:19.598Z"
   },
   {
    "duration": 6,
    "start_time": "2021-11-07T18:58:19.807Z"
   },
   {
    "duration": 28,
    "start_time": "2021-11-07T18:58:19.815Z"
   },
   {
    "duration": 239,
    "start_time": "2021-11-07T18:58:19.844Z"
   },
   {
    "duration": 13,
    "start_time": "2021-11-07T18:58:20.084Z"
   },
   {
    "duration": 9,
    "start_time": "2021-11-07T18:58:20.099Z"
   },
   {
    "duration": 33,
    "start_time": "2021-11-07T18:58:20.110Z"
   },
   {
    "duration": 8,
    "start_time": "2021-11-07T18:58:20.145Z"
   },
   {
    "duration": 15,
    "start_time": "2021-11-07T18:58:20.155Z"
   },
   {
    "duration": 17,
    "start_time": "2021-11-07T18:58:20.171Z"
   },
   {
    "duration": 23,
    "start_time": "2021-11-07T18:58:20.189Z"
   },
   {
    "duration": 11,
    "start_time": "2021-11-07T18:58:20.214Z"
   },
   {
    "duration": 14,
    "start_time": "2021-11-07T18:58:20.227Z"
   },
   {
    "duration": 548,
    "start_time": "2021-11-07T18:58:20.243Z"
   },
   {
    "duration": 595,
    "start_time": "2021-11-07T18:58:20.792Z"
   },
   {
    "duration": 1276,
    "start_time": "2021-11-07T19:41:26.927Z"
   },
   {
    "duration": 1286,
    "start_time": "2021-11-07T19:41:57.990Z"
   },
   {
    "duration": 11,
    "start_time": "2021-11-07T19:43:36.441Z"
   },
   {
    "duration": 1176,
    "start_time": "2021-11-07T19:44:41.544Z"
   },
   {
    "duration": 819,
    "start_time": "2021-11-07T19:44:56.252Z"
   },
   {
    "duration": 84,
    "start_time": "2021-11-07T19:45:34.341Z"
   },
   {
    "duration": 105,
    "start_time": "2021-11-07T19:45:45.337Z"
   },
   {
    "duration": 87,
    "start_time": "2021-11-07T19:45:58.260Z"
   },
   {
    "duration": 924,
    "start_time": "2021-11-07T19:47:01.187Z"
   },
   {
    "duration": 840,
    "start_time": "2021-11-07T19:47:48.545Z"
   },
   {
    "duration": 522,
    "start_time": "2021-11-07T19:48:08.667Z"
   },
   {
    "duration": 449,
    "start_time": "2021-11-07T19:48:15.424Z"
   },
   {
    "duration": 585,
    "start_time": "2021-11-07T19:48:22.406Z"
   },
   {
    "duration": 1143,
    "start_time": "2021-11-07T19:48:37.700Z"
   },
   {
    "duration": 622,
    "start_time": "2021-11-07T19:48:58.348Z"
   },
   {
    "duration": 627,
    "start_time": "2021-11-07T19:49:18.231Z"
   },
   {
    "duration": 1555,
    "start_time": "2021-11-07T19:49:33.886Z"
   },
   {
    "duration": 1237,
    "start_time": "2021-11-07T19:49:48.191Z"
   },
   {
    "duration": 532,
    "start_time": "2021-11-07T20:04:46.770Z"
   },
   {
    "duration": 515,
    "start_time": "2021-11-07T20:05:12.449Z"
   },
   {
    "duration": 76,
    "start_time": "2021-11-07T20:05:36.257Z"
   },
   {
    "duration": 607,
    "start_time": "2021-11-07T20:05:43.068Z"
   },
   {
    "duration": 939,
    "start_time": "2021-11-07T20:07:20.719Z"
   },
   {
    "duration": 309,
    "start_time": "2021-11-07T20:07:37.612Z"
   },
   {
    "duration": 328,
    "start_time": "2021-11-07T20:09:05.669Z"
   },
   {
    "duration": 442,
    "start_time": "2021-11-07T20:09:16.422Z"
   },
   {
    "duration": 1264,
    "start_time": "2021-11-07T20:09:31.044Z"
   },
   {
    "duration": 439,
    "start_time": "2021-11-07T20:09:40.526Z"
   },
   {
    "duration": 624,
    "start_time": "2021-11-07T20:09:54.870Z"
   },
   {
    "duration": 989,
    "start_time": "2021-11-07T20:10:02.950Z"
   },
   {
    "duration": 643,
    "start_time": "2021-11-07T20:11:31.040Z"
   },
   {
    "duration": 612,
    "start_time": "2021-11-07T20:12:04.312Z"
   },
   {
    "duration": 622,
    "start_time": "2021-11-07T20:13:27.549Z"
   },
   {
    "duration": 235,
    "start_time": "2021-11-07T20:14:15.996Z"
   },
   {
    "duration": 231,
    "start_time": "2021-11-07T20:14:32.060Z"
   },
   {
    "duration": 236,
    "start_time": "2021-11-07T20:15:25.017Z"
   },
   {
    "duration": 226,
    "start_time": "2021-11-07T20:16:19.672Z"
   },
   {
    "duration": 843,
    "start_time": "2021-11-07T20:16:39.315Z"
   },
   {
    "duration": 634,
    "start_time": "2021-11-07T20:16:53.663Z"
   },
   {
    "duration": 415,
    "start_time": "2021-11-07T20:17:22.400Z"
   },
   {
    "duration": 417,
    "start_time": "2021-11-07T20:17:43.782Z"
   },
   {
    "duration": 419,
    "start_time": "2021-11-07T20:18:25.405Z"
   },
   {
    "duration": 407,
    "start_time": "2021-11-07T20:18:42.372Z"
   },
   {
    "duration": 794,
    "start_time": "2021-11-07T20:19:09.383Z"
   },
   {
    "duration": 588,
    "start_time": "2021-11-07T20:19:28.257Z"
   },
   {
    "duration": 617,
    "start_time": "2021-11-07T20:19:43.934Z"
   },
   {
    "duration": 1602,
    "start_time": "2021-11-07T20:20:10.547Z"
   },
   {
    "duration": 656,
    "start_time": "2021-11-07T20:20:59.120Z"
   },
   {
    "duration": 641,
    "start_time": "2021-11-07T20:21:19.060Z"
   },
   {
    "duration": 755,
    "start_time": "2021-11-07T20:21:31.554Z"
   },
   {
    "duration": 792,
    "start_time": "2021-11-07T20:21:38.895Z"
   },
   {
    "duration": 468,
    "start_time": "2021-11-07T20:23:44.344Z"
   },
   {
    "duration": 241,
    "start_time": "2021-11-07T20:24:53.064Z"
   },
   {
    "duration": 253,
    "start_time": "2021-11-07T20:25:03.240Z"
   },
   {
    "duration": 434,
    "start_time": "2021-11-07T20:25:13.635Z"
   },
   {
    "duration": 627,
    "start_time": "2021-11-07T20:25:20.130Z"
   },
   {
    "duration": 436,
    "start_time": "2021-11-07T20:25:34.527Z"
   },
   {
    "duration": 461,
    "start_time": "2021-11-07T20:25:42.650Z"
   },
   {
    "duration": 599,
    "start_time": "2021-11-07T20:25:50.848Z"
   },
   {
    "duration": 482,
    "start_time": "2021-11-07T20:26:00.146Z"
   },
   {
    "duration": 460,
    "start_time": "2021-11-07T20:26:06.431Z"
   },
   {
    "duration": 416,
    "start_time": "2021-11-07T20:26:12.037Z"
   },
   {
    "duration": 451,
    "start_time": "2021-11-07T20:26:20.165Z"
   },
   {
    "duration": 484,
    "start_time": "2021-11-07T20:26:43.287Z"
   },
   {
    "duration": 653,
    "start_time": "2021-11-07T20:26:57.989Z"
   },
   {
    "duration": 559,
    "start_time": "2021-11-07T20:27:05.645Z"
   },
   {
    "duration": 275,
    "start_time": "2021-11-07T20:27:19.483Z"
   },
   {
    "duration": 256,
    "start_time": "2021-11-07T20:27:27.524Z"
   },
   {
    "duration": 685,
    "start_time": "2021-11-07T20:27:38.285Z"
   },
   {
    "duration": 550,
    "start_time": "2021-11-07T20:27:50.959Z"
   },
   {
    "duration": 792,
    "start_time": "2021-11-07T20:29:08.055Z"
   },
   {
    "duration": 564,
    "start_time": "2021-11-07T20:29:26.713Z"
   },
   {
    "duration": 572,
    "start_time": "2021-11-07T20:30:23.146Z"
   },
   {
    "duration": 731,
    "start_time": "2021-11-07T20:31:14.683Z"
   },
   {
    "duration": 585,
    "start_time": "2021-11-07T20:31:43.104Z"
   },
   {
    "duration": 600,
    "start_time": "2021-11-07T20:42:09.589Z"
   },
   {
    "duration": 1488,
    "start_time": "2021-11-08T07:49:17.559Z"
   },
   {
    "duration": 370,
    "start_time": "2021-11-08T07:49:19.049Z"
   },
   {
    "duration": 15,
    "start_time": "2021-11-08T07:49:19.422Z"
   },
   {
    "duration": 30,
    "start_time": "2021-11-08T07:49:19.440Z"
   },
   {
    "duration": 201,
    "start_time": "2021-11-08T07:49:19.472Z"
   },
   {
    "duration": 7,
    "start_time": "2021-11-08T07:49:19.675Z"
   },
   {
    "duration": 13,
    "start_time": "2021-11-08T07:49:19.684Z"
   },
   {
    "duration": 28,
    "start_time": "2021-11-08T07:49:19.701Z"
   },
   {
    "duration": 78,
    "start_time": "2021-11-08T07:49:19.732Z"
   },
   {
    "duration": 13,
    "start_time": "2021-11-08T07:49:19.812Z"
   },
   {
    "duration": 36,
    "start_time": "2021-11-08T07:49:19.827Z"
   },
   {
    "duration": 20,
    "start_time": "2021-11-08T07:49:19.882Z"
   },
   {
    "duration": 16,
    "start_time": "2021-11-08T07:49:19.904Z"
   },
   {
    "duration": 16,
    "start_time": "2021-11-08T07:49:19.923Z"
   },
   {
    "duration": 41,
    "start_time": "2021-11-08T07:49:19.942Z"
   },
   {
    "duration": 18,
    "start_time": "2021-11-08T07:49:19.985Z"
   },
   {
    "duration": 12,
    "start_time": "2021-11-08T07:49:20.006Z"
   },
   {
    "duration": 22,
    "start_time": "2021-11-08T07:49:20.020Z"
   },
   {
    "duration": 58,
    "start_time": "2021-11-08T07:49:20.044Z"
   },
   {
    "duration": 39,
    "start_time": "2021-11-08T07:49:20.105Z"
   },
   {
    "duration": 53,
    "start_time": "2021-11-08T07:49:20.146Z"
   },
   {
    "duration": 14,
    "start_time": "2021-11-08T07:49:20.201Z"
   },
   {
    "duration": 16,
    "start_time": "2021-11-08T07:49:20.220Z"
   },
   {
    "duration": 41,
    "start_time": "2021-11-08T07:49:20.240Z"
   },
   {
    "duration": 20,
    "start_time": "2021-11-08T07:49:20.284Z"
   },
   {
    "duration": 28,
    "start_time": "2021-11-08T07:49:20.307Z"
   },
   {
    "duration": 52,
    "start_time": "2021-11-08T07:49:20.338Z"
   },
   {
    "duration": 31,
    "start_time": "2021-11-08T07:49:20.392Z"
   },
   {
    "duration": 56,
    "start_time": "2021-11-08T07:49:20.426Z"
   },
   {
    "duration": 23,
    "start_time": "2021-11-08T07:49:20.485Z"
   },
   {
    "duration": 14,
    "start_time": "2021-11-08T07:49:20.510Z"
   },
   {
    "duration": 58,
    "start_time": "2021-11-08T07:49:20.526Z"
   },
   {
    "duration": 16,
    "start_time": "2021-11-08T07:49:20.587Z"
   },
   {
    "duration": 10,
    "start_time": "2021-11-08T07:49:20.606Z"
   },
   {
    "duration": 139,
    "start_time": "2021-11-08T07:49:20.619Z"
   },
   {
    "duration": 27,
    "start_time": "2021-11-08T07:49:20.761Z"
   },
   {
    "duration": 48,
    "start_time": "2021-11-08T07:49:20.791Z"
   },
   {
    "duration": 9,
    "start_time": "2021-11-08T07:49:20.842Z"
   },
   {
    "duration": 44,
    "start_time": "2021-11-08T07:49:20.882Z"
   },
   {
    "duration": 16,
    "start_time": "2021-11-08T07:49:20.929Z"
   },
   {
    "duration": 1037,
    "start_time": "2021-11-08T07:49:20.947Z"
   },
   {
    "duration": 7,
    "start_time": "2021-11-08T07:49:21.986Z"
   },
   {
    "duration": 44,
    "start_time": "2021-11-08T07:49:21.995Z"
   },
   {
    "duration": 1151,
    "start_time": "2021-11-08T07:49:22.041Z"
   },
   {
    "duration": 17,
    "start_time": "2021-11-08T07:49:23.194Z"
   },
   {
    "duration": 9,
    "start_time": "2021-11-08T07:49:23.214Z"
   },
   {
    "duration": 13,
    "start_time": "2021-11-08T07:49:23.225Z"
   },
   {
    "duration": 9,
    "start_time": "2021-11-08T07:49:23.240Z"
   },
   {
    "duration": 87,
    "start_time": "2021-11-08T07:49:23.282Z"
   },
   {
    "duration": 8,
    "start_time": "2021-11-08T07:49:23.382Z"
   },
   {
    "duration": 33,
    "start_time": "2021-11-08T07:49:23.393Z"
   },
   {
    "duration": 10,
    "start_time": "2021-11-08T07:49:23.429Z"
   },
   {
    "duration": 43,
    "start_time": "2021-11-08T07:49:23.441Z"
   },
   {
    "duration": 772,
    "start_time": "2021-11-08T07:49:23.486Z"
   },
   {
    "duration": 777,
    "start_time": "2021-11-08T07:49:24.260Z"
   },
   {
    "duration": 1105,
    "start_time": "2021-11-08T07:52:57.163Z"
   },
   {
    "duration": 459,
    "start_time": "2021-11-08T07:54:50.794Z"
   },
   {
    "duration": 971,
    "start_time": "2021-11-08T07:54:59.434Z"
   },
   {
    "duration": 1078,
    "start_time": "2021-11-08T07:55:28.276Z"
   },
   {
    "duration": 1313,
    "start_time": "2021-11-08T07:55:44.963Z"
   },
   {
    "duration": 1337,
    "start_time": "2021-11-08T07:56:07.876Z"
   },
   {
    "duration": 1000,
    "start_time": "2021-11-08T07:57:54.005Z"
   },
   {
    "duration": 1212,
    "start_time": "2021-11-08T07:58:08.901Z"
   },
   {
    "duration": 1188,
    "start_time": "2021-11-08T07:58:38.402Z"
   },
   {
    "duration": 1093,
    "start_time": "2021-11-08T07:58:53.026Z"
   },
   {
    "duration": 1104,
    "start_time": "2021-11-08T07:59:04.012Z"
   },
   {
    "duration": 1114,
    "start_time": "2021-11-08T07:59:16.185Z"
   },
   {
    "duration": 1011,
    "start_time": "2021-11-08T07:59:29.991Z"
   },
   {
    "duration": 289,
    "start_time": "2021-11-08T07:59:42.598Z"
   },
   {
    "duration": 1020,
    "start_time": "2021-11-08T08:00:07.124Z"
   },
   {
    "duration": 1017,
    "start_time": "2021-11-08T08:00:13.617Z"
   },
   {
    "duration": 1164,
    "start_time": "2021-11-08T08:00:36.925Z"
   },
   {
    "duration": 1006,
    "start_time": "2021-11-08T08:00:57.122Z"
   },
   {
    "duration": 990,
    "start_time": "2021-11-08T08:01:05.716Z"
   },
   {
    "duration": 1098,
    "start_time": "2021-11-08T08:01:14.494Z"
   },
   {
    "duration": 5,
    "start_time": "2021-11-08T08:05:25.850Z"
   },
   {
    "duration": 12,
    "start_time": "2021-11-08T08:05:32.605Z"
   },
   {
    "duration": 1385,
    "start_time": "2021-11-08T08:41:03.029Z"
   },
   {
    "duration": 367,
    "start_time": "2021-11-08T08:41:04.418Z"
   },
   {
    "duration": 14,
    "start_time": "2021-11-08T08:41:04.788Z"
   },
   {
    "duration": 24,
    "start_time": "2021-11-08T08:41:04.805Z"
   },
   {
    "duration": 209,
    "start_time": "2021-11-08T08:41:04.831Z"
   },
   {
    "duration": 5,
    "start_time": "2021-11-08T08:41:05.042Z"
   },
   {
    "duration": 11,
    "start_time": "2021-11-08T08:41:05.049Z"
   },
   {
    "duration": 25,
    "start_time": "2021-11-08T08:41:05.062Z"
   },
   {
    "duration": 33,
    "start_time": "2021-11-08T08:41:05.090Z"
   },
   {
    "duration": 73,
    "start_time": "2021-11-08T08:41:05.126Z"
   },
   {
    "duration": 28,
    "start_time": "2021-11-08T08:41:05.202Z"
   },
   {
    "duration": 20,
    "start_time": "2021-11-08T08:41:05.233Z"
   },
   {
    "duration": 36,
    "start_time": "2021-11-08T08:41:05.255Z"
   },
   {
    "duration": 15,
    "start_time": "2021-11-08T08:41:05.294Z"
   },
   {
    "duration": 20,
    "start_time": "2021-11-08T08:41:05.311Z"
   },
   {
    "duration": 25,
    "start_time": "2021-11-08T08:41:05.333Z"
   },
   {
    "duration": 39,
    "start_time": "2021-11-08T08:41:05.360Z"
   },
   {
    "duration": 39,
    "start_time": "2021-11-08T08:41:05.401Z"
   },
   {
    "duration": 55,
    "start_time": "2021-11-08T08:41:05.443Z"
   },
   {
    "duration": 18,
    "start_time": "2021-11-08T08:41:05.501Z"
   },
   {
    "duration": 14,
    "start_time": "2021-11-08T08:41:05.521Z"
   },
   {
    "duration": 17,
    "start_time": "2021-11-08T08:41:05.538Z"
   },
   {
    "duration": 44,
    "start_time": "2021-11-08T08:41:05.558Z"
   },
   {
    "duration": 31,
    "start_time": "2021-11-08T08:41:05.605Z"
   },
   {
    "duration": 59,
    "start_time": "2021-11-08T08:41:05.639Z"
   },
   {
    "duration": 33,
    "start_time": "2021-11-08T08:41:05.701Z"
   },
   {
    "duration": 59,
    "start_time": "2021-11-08T08:41:05.742Z"
   },
   {
    "duration": 22,
    "start_time": "2021-11-08T08:41:05.804Z"
   },
   {
    "duration": 18,
    "start_time": "2021-11-08T08:41:05.829Z"
   },
   {
    "duration": 50,
    "start_time": "2021-11-08T08:41:05.849Z"
   },
   {
    "duration": 12,
    "start_time": "2021-11-08T08:41:05.902Z"
   },
   {
    "duration": 13,
    "start_time": "2021-11-08T08:41:05.917Z"
   },
   {
    "duration": 144,
    "start_time": "2021-11-08T08:41:05.932Z"
   },
   {
    "duration": 17,
    "start_time": "2021-11-08T08:41:06.078Z"
   },
   {
    "duration": 55,
    "start_time": "2021-11-08T08:41:06.097Z"
   },
   {
    "duration": 27,
    "start_time": "2021-11-08T08:41:06.154Z"
   },
   {
    "duration": 40,
    "start_time": "2021-11-08T08:41:06.184Z"
   },
   {
    "duration": 14,
    "start_time": "2021-11-08T08:41:06.227Z"
   },
   {
    "duration": 1118,
    "start_time": "2021-11-08T08:41:06.244Z"
   },
   {
    "duration": 17,
    "start_time": "2021-11-08T08:41:07.365Z"
   },
   {
    "duration": 42,
    "start_time": "2021-11-08T08:41:07.384Z"
   },
   {
    "duration": 1007,
    "start_time": "2021-11-08T08:41:07.428Z"
   },
   {
    "duration": 17,
    "start_time": "2021-11-08T08:41:08.437Z"
   },
   {
    "duration": 26,
    "start_time": "2021-11-08T08:41:08.457Z"
   },
   {
    "duration": 11,
    "start_time": "2021-11-08T08:41:08.486Z"
   },
   {
    "duration": 19,
    "start_time": "2021-11-08T08:41:08.499Z"
   },
   {
    "duration": 101,
    "start_time": "2021-11-08T08:41:08.520Z"
   },
   {
    "duration": 9,
    "start_time": "2021-11-08T08:41:08.623Z"
   },
   {
    "duration": 35,
    "start_time": "2021-11-08T08:41:08.635Z"
   },
   {
    "duration": 10,
    "start_time": "2021-11-08T08:41:08.682Z"
   },
   {
    "duration": 38,
    "start_time": "2021-11-08T08:41:08.694Z"
   },
   {
    "duration": 806,
    "start_time": "2021-11-08T08:41:08.734Z"
   },
   {
    "duration": 810,
    "start_time": "2021-11-08T08:41:09.543Z"
   },
   {
    "duration": 1424,
    "start_time": "2021-11-08T09:26:58.500Z"
   },
   {
    "duration": 389,
    "start_time": "2021-11-08T09:26:59.927Z"
   },
   {
    "duration": 18,
    "start_time": "2021-11-08T09:27:00.320Z"
   },
   {
    "duration": 24,
    "start_time": "2021-11-08T09:27:00.342Z"
   },
   {
    "duration": 214,
    "start_time": "2021-11-08T09:27:00.369Z"
   },
   {
    "duration": 6,
    "start_time": "2021-11-08T09:27:00.586Z"
   },
   {
    "duration": 14,
    "start_time": "2021-11-08T09:27:00.595Z"
   },
   {
    "duration": 20,
    "start_time": "2021-11-08T09:27:00.614Z"
   },
   {
    "duration": 61,
    "start_time": "2021-11-08T09:27:00.638Z"
   },
   {
    "duration": 51,
    "start_time": "2021-11-08T09:27:00.702Z"
   },
   {
    "duration": 53,
    "start_time": "2021-11-08T09:27:00.756Z"
   },
   {
    "duration": 21,
    "start_time": "2021-11-08T09:27:00.811Z"
   },
   {
    "duration": 16,
    "start_time": "2021-11-08T09:27:00.835Z"
   },
   {
    "duration": 45,
    "start_time": "2021-11-08T09:27:00.853Z"
   },
   {
    "duration": 30,
    "start_time": "2021-11-08T09:27:00.901Z"
   },
   {
    "duration": 27,
    "start_time": "2021-11-08T09:27:00.933Z"
   },
   {
    "duration": 38,
    "start_time": "2021-11-08T09:27:00.963Z"
   },
   {
    "duration": 41,
    "start_time": "2021-11-08T09:27:01.003Z"
   },
   {
    "duration": 51,
    "start_time": "2021-11-08T09:27:01.046Z"
   },
   {
    "duration": 17,
    "start_time": "2021-11-08T09:27:01.099Z"
   },
   {
    "duration": 14,
    "start_time": "2021-11-08T09:27:01.119Z"
   },
   {
    "duration": 15,
    "start_time": "2021-11-08T09:27:01.136Z"
   },
   {
    "duration": 44,
    "start_time": "2021-11-08T09:27:01.156Z"
   },
   {
    "duration": 29,
    "start_time": "2021-11-08T09:27:01.203Z"
   },
   {
    "duration": 49,
    "start_time": "2021-11-08T09:27:01.235Z"
   },
   {
    "duration": 33,
    "start_time": "2021-11-08T09:27:01.286Z"
   },
   {
    "duration": 33,
    "start_time": "2021-11-08T09:27:01.321Z"
   },
   {
    "duration": 25,
    "start_time": "2021-11-08T09:27:01.383Z"
   },
   {
    "duration": 19,
    "start_time": "2021-11-08T09:27:01.411Z"
   },
   {
    "duration": 55,
    "start_time": "2021-11-08T09:27:01.433Z"
   },
   {
    "duration": 14,
    "start_time": "2021-11-08T09:27:01.491Z"
   },
   {
    "duration": 12,
    "start_time": "2021-11-08T09:27:01.508Z"
   },
   {
    "duration": 147,
    "start_time": "2021-11-08T09:27:01.522Z"
   },
   {
    "duration": 26,
    "start_time": "2021-11-08T09:27:01.671Z"
   },
   {
    "duration": 50,
    "start_time": "2021-11-08T09:27:01.700Z"
   },
   {
    "duration": 33,
    "start_time": "2021-11-08T09:27:01.753Z"
   },
   {
    "duration": 45,
    "start_time": "2021-11-08T09:27:01.790Z"
   },
   {
    "duration": 50,
    "start_time": "2021-11-08T09:27:01.838Z"
   },
   {
    "duration": 1126,
    "start_time": "2021-11-08T09:27:01.891Z"
   },
   {
    "duration": 9,
    "start_time": "2021-11-08T09:27:03.020Z"
   },
   {
    "duration": 66,
    "start_time": "2021-11-08T09:27:03.032Z"
   },
   {
    "duration": 998,
    "start_time": "2021-11-08T09:27:03.101Z"
   },
   {
    "duration": 19,
    "start_time": "2021-11-08T09:27:04.102Z"
   },
   {
    "duration": 9,
    "start_time": "2021-11-08T09:27:04.124Z"
   },
   {
    "duration": 49,
    "start_time": "2021-11-08T09:27:04.136Z"
   },
   {
    "duration": 10,
    "start_time": "2021-11-08T09:27:04.188Z"
   },
   {
    "duration": 107,
    "start_time": "2021-11-08T09:27:04.201Z"
   },
   {
    "duration": 11,
    "start_time": "2021-11-08T09:27:04.311Z"
   },
   {
    "duration": 27,
    "start_time": "2021-11-08T09:27:04.325Z"
   },
   {
    "duration": 8,
    "start_time": "2021-11-08T09:27:04.383Z"
   },
   {
    "duration": 25,
    "start_time": "2021-11-08T09:27:04.394Z"
   },
   {
    "duration": 823,
    "start_time": "2021-11-08T09:27:04.422Z"
   },
   {
    "duration": 806,
    "start_time": "2021-11-08T09:27:05.248Z"
   },
   {
    "duration": 465,
    "start_time": "2021-11-08T09:33:44.321Z"
   },
   {
    "duration": 7,
    "start_time": "2021-11-08T09:33:54.378Z"
   },
   {
    "duration": 6,
    "start_time": "2021-11-08T09:34:22.335Z"
   },
   {
    "duration": 14,
    "start_time": "2021-11-08T09:34:35.311Z"
   },
   {
    "duration": 14,
    "start_time": "2021-11-08T09:34:45.294Z"
   },
   {
    "duration": 15,
    "start_time": "2021-11-08T09:37:20.525Z"
   },
   {
    "duration": 23,
    "start_time": "2021-11-08T09:39:37.936Z"
   },
   {
    "duration": 331,
    "start_time": "2021-11-08T09:39:52.302Z"
   },
   {
    "duration": 23,
    "start_time": "2021-11-08T09:39:59.030Z"
   },
   {
    "duration": 32,
    "start_time": "2021-11-08T09:40:14.754Z"
   },
   {
    "duration": 32,
    "start_time": "2021-11-08T09:42:14.392Z"
   },
   {
    "duration": 296,
    "start_time": "2021-11-08T09:44:44.050Z"
   },
   {
    "duration": 294,
    "start_time": "2021-11-08T09:44:46.500Z"
   },
   {
    "duration": 9,
    "start_time": "2021-11-08T09:44:54.626Z"
   },
   {
    "duration": 8,
    "start_time": "2021-11-08T09:45:32.110Z"
   },
   {
    "duration": 13,
    "start_time": "2021-11-08T09:45:46.603Z"
   },
   {
    "duration": 583,
    "start_time": "2021-11-08T09:46:07.353Z"
   },
   {
    "duration": 8,
    "start_time": "2021-11-08T09:46:22.546Z"
   },
   {
    "duration": 17,
    "start_time": "2021-11-08T09:46:32.085Z"
   },
   {
    "duration": 1389,
    "start_time": "2021-11-08T09:46:45.635Z"
   },
   {
    "duration": 369,
    "start_time": "2021-11-08T09:46:47.027Z"
   },
   {
    "duration": 15,
    "start_time": "2021-11-08T09:46:47.399Z"
   },
   {
    "duration": 23,
    "start_time": "2021-11-08T09:46:47.417Z"
   },
   {
    "duration": 246,
    "start_time": "2021-11-08T09:46:47.443Z"
   },
   {
    "duration": 4,
    "start_time": "2021-11-08T09:46:47.692Z"
   },
   {
    "duration": 8,
    "start_time": "2021-11-08T09:46:47.698Z"
   },
   {
    "duration": 12,
    "start_time": "2021-11-08T09:46:47.709Z"
   },
   {
    "duration": 62,
    "start_time": "2021-11-08T09:46:47.723Z"
   },
   {
    "duration": 52,
    "start_time": "2021-11-08T09:46:47.787Z"
   },
   {
    "duration": 55,
    "start_time": "2021-11-08T09:46:47.841Z"
   },
   {
    "duration": 23,
    "start_time": "2021-11-08T09:46:47.899Z"
   },
   {
    "duration": 12,
    "start_time": "2021-11-08T09:46:47.925Z"
   },
   {
    "duration": 47,
    "start_time": "2021-11-08T09:46:47.940Z"
   },
   {
    "duration": 22,
    "start_time": "2021-11-08T09:46:47.990Z"
   },
   {
    "duration": 27,
    "start_time": "2021-11-08T09:46:48.015Z"
   },
   {
    "duration": 73,
    "start_time": "2021-11-08T09:46:48.045Z"
   },
   {
    "duration": 34,
    "start_time": "2021-11-08T09:46:48.120Z"
   },
   {
    "duration": 41,
    "start_time": "2021-11-08T09:46:48.157Z"
   },
   {
    "duration": 15,
    "start_time": "2021-11-08T09:46:48.201Z"
   },
   {
    "duration": 17,
    "start_time": "2021-11-08T09:46:48.219Z"
   },
   {
    "duration": 49,
    "start_time": "2021-11-08T09:46:48.240Z"
   },
   {
    "duration": 20,
    "start_time": "2021-11-08T09:46:48.297Z"
   },
   {
    "duration": 61,
    "start_time": "2021-11-08T09:46:48.321Z"
   },
   {
    "duration": 26,
    "start_time": "2021-11-08T09:46:48.384Z"
   },
   {
    "duration": 32,
    "start_time": "2021-11-08T09:46:48.413Z"
   },
   {
    "duration": 62,
    "start_time": "2021-11-08T09:46:48.448Z"
   },
   {
    "duration": 14,
    "start_time": "2021-11-08T09:46:48.514Z"
   },
   {
    "duration": 53,
    "start_time": "2021-11-08T09:46:48.531Z"
   },
   {
    "duration": 17,
    "start_time": "2021-11-08T09:46:48.587Z"
   },
   {
    "duration": 15,
    "start_time": "2021-11-08T09:46:48.607Z"
   },
   {
    "duration": 10,
    "start_time": "2021-11-08T09:46:48.624Z"
   },
   {
    "duration": 157,
    "start_time": "2021-11-08T09:46:48.637Z"
   },
   {
    "duration": 16,
    "start_time": "2021-11-08T09:46:48.796Z"
   },
   {
    "duration": 71,
    "start_time": "2021-11-08T09:46:48.815Z"
   },
   {
    "duration": 9,
    "start_time": "2021-11-08T09:46:48.889Z"
   },
   {
    "duration": 44,
    "start_time": "2021-11-08T09:46:48.901Z"
   },
   {
    "duration": 45,
    "start_time": "2021-11-08T09:46:48.948Z"
   },
   {
    "duration": 1002,
    "start_time": "2021-11-08T09:46:48.996Z"
   },
   {
    "duration": 8,
    "start_time": "2021-11-08T09:46:50.001Z"
   },
   {
    "duration": 45,
    "start_time": "2021-11-08T09:46:50.011Z"
   },
   {
    "duration": 984,
    "start_time": "2021-11-08T09:46:50.082Z"
   },
   {
    "duration": 26,
    "start_time": "2021-11-08T09:46:51.069Z"
   },
   {
    "duration": 10,
    "start_time": "2021-11-08T09:46:51.098Z"
   },
   {
    "duration": 15,
    "start_time": "2021-11-08T09:46:51.110Z"
   },
   {
    "duration": 10,
    "start_time": "2021-11-08T09:46:51.127Z"
   },
   {
    "duration": 110,
    "start_time": "2021-11-08T09:46:51.140Z"
   },
   {
    "duration": 9,
    "start_time": "2021-11-08T09:46:51.253Z"
   },
   {
    "duration": 37,
    "start_time": "2021-11-08T09:46:51.264Z"
   },
   {
    "duration": 7,
    "start_time": "2021-11-08T09:46:51.304Z"
   },
   {
    "duration": 29,
    "start_time": "2021-11-08T09:46:51.313Z"
   },
   {
    "duration": 803,
    "start_time": "2021-11-08T09:46:51.344Z"
   },
   {
    "duration": 806,
    "start_time": "2021-11-08T09:46:52.150Z"
   },
   {
    "duration": 994,
    "start_time": "2021-11-08T09:47:05.644Z"
   },
   {
    "duration": 9,
    "start_time": "2021-11-08T09:47:38.492Z"
   },
   {
    "duration": 18,
    "start_time": "2021-11-08T09:48:22.626Z"
   },
   {
    "duration": 353,
    "start_time": "2021-11-08T09:48:52.484Z"
   },
   {
    "duration": 298,
    "start_time": "2021-11-08T09:48:56.112Z"
   },
   {
    "duration": 1410,
    "start_time": "2021-11-08T09:49:06.328Z"
   },
   {
    "duration": 368,
    "start_time": "2021-11-08T09:49:07.740Z"
   },
   {
    "duration": 16,
    "start_time": "2021-11-08T09:49:08.111Z"
   },
   {
    "duration": 22,
    "start_time": "2021-11-08T09:49:08.129Z"
   },
   {
    "duration": 202,
    "start_time": "2021-11-08T09:49:08.154Z"
   },
   {
    "duration": 4,
    "start_time": "2021-11-08T09:49:08.359Z"
   },
   {
    "duration": 17,
    "start_time": "2021-11-08T09:49:08.365Z"
   },
   {
    "duration": 11,
    "start_time": "2021-11-08T09:49:08.386Z"
   },
   {
    "duration": 30,
    "start_time": "2021-11-08T09:49:08.399Z"
   },
   {
    "duration": 73,
    "start_time": "2021-11-08T09:49:08.432Z"
   },
   {
    "duration": 29,
    "start_time": "2021-11-08T09:49:08.507Z"
   },
   {
    "duration": 45,
    "start_time": "2021-11-08T09:49:08.538Z"
   },
   {
    "duration": 11,
    "start_time": "2021-11-08T09:49:08.585Z"
   },
   {
    "duration": 17,
    "start_time": "2021-11-08T09:49:08.599Z"
   },
   {
    "duration": 29,
    "start_time": "2021-11-08T09:49:08.619Z"
   },
   {
    "duration": 50,
    "start_time": "2021-11-08T09:49:08.651Z"
   },
   {
    "duration": 37,
    "start_time": "2021-11-08T09:49:08.703Z"
   },
   {
    "duration": 54,
    "start_time": "2021-11-08T09:49:08.743Z"
   },
   {
    "duration": 18,
    "start_time": "2021-11-08T09:49:08.799Z"
   },
   {
    "duration": 14,
    "start_time": "2021-11-08T09:49:08.819Z"
   },
   {
    "duration": 13,
    "start_time": "2021-11-08T09:49:08.835Z"
   },
   {
    "duration": 15,
    "start_time": "2021-11-08T09:49:08.882Z"
   },
   {
    "duration": 19,
    "start_time": "2021-11-08T09:49:08.903Z"
   },
   {
    "duration": 57,
    "start_time": "2021-11-08T09:49:08.925Z"
   },
   {
    "duration": 27,
    "start_time": "2021-11-08T09:49:08.985Z"
   },
   {
    "duration": 33,
    "start_time": "2021-11-08T09:49:09.015Z"
   },
   {
    "duration": 32,
    "start_time": "2021-11-08T09:49:09.082Z"
   },
   {
    "duration": 14,
    "start_time": "2021-11-08T09:49:09.116Z"
   },
   {
    "duration": 53,
    "start_time": "2021-11-08T09:49:09.132Z"
   },
   {
    "duration": 17,
    "start_time": "2021-11-08T09:49:09.188Z"
   },
   {
    "duration": 12,
    "start_time": "2021-11-08T09:49:09.207Z"
   },
   {
    "duration": 12,
    "start_time": "2021-11-08T09:49:09.221Z"
   },
   {
    "duration": 146,
    "start_time": "2021-11-08T09:49:09.235Z"
   },
   {
    "duration": 13,
    "start_time": "2021-11-08T09:49:09.384Z"
   },
   {
    "duration": 45,
    "start_time": "2021-11-08T09:49:09.399Z"
   },
   {
    "duration": 7,
    "start_time": "2021-11-08T09:49:09.446Z"
   },
   {
    "duration": 48,
    "start_time": "2021-11-08T09:49:09.482Z"
   },
   {
    "duration": 13,
    "start_time": "2021-11-08T09:49:09.532Z"
   },
   {
    "duration": 1017,
    "start_time": "2021-11-08T09:49:09.547Z"
   },
   {
    "duration": 17,
    "start_time": "2021-11-08T09:49:10.567Z"
   },
   {
    "duration": 45,
    "start_time": "2021-11-08T09:49:10.586Z"
   },
   {
    "duration": 1058,
    "start_time": "2021-11-08T09:49:10.634Z"
   },
   {
    "duration": 19,
    "start_time": "2021-11-08T09:49:11.694Z"
   },
   {
    "duration": 9,
    "start_time": "2021-11-08T09:49:11.715Z"
   },
   {
    "duration": 9,
    "start_time": "2021-11-08T09:49:11.726Z"
   },
   {
    "duration": 46,
    "start_time": "2021-11-08T09:49:11.738Z"
   },
   {
    "duration": 107,
    "start_time": "2021-11-08T09:49:11.787Z"
   },
   {
    "duration": 8,
    "start_time": "2021-11-08T09:49:11.897Z"
   },
   {
    "duration": 27,
    "start_time": "2021-11-08T09:49:11.908Z"
   },
   {
    "duration": 9,
    "start_time": "2021-11-08T09:49:11.938Z"
   },
   {
    "duration": 48,
    "start_time": "2021-11-08T09:49:11.949Z"
   },
   {
    "duration": 794,
    "start_time": "2021-11-08T09:49:11.999Z"
   },
   {
    "duration": 790,
    "start_time": "2021-11-08T09:49:12.795Z"
   },
   {
    "duration": 17,
    "start_time": "2021-11-08T09:49:14.611Z"
   },
   {
    "duration": 26,
    "start_time": "2021-11-08T09:49:23.202Z"
   },
   {
    "duration": 18,
    "start_time": "2021-11-08T09:49:28.029Z"
   },
   {
    "duration": 116,
    "start_time": "2021-11-08T09:53:53.636Z"
   },
   {
    "duration": 14,
    "start_time": "2021-11-08T09:54:00.002Z"
   },
   {
    "duration": 16,
    "start_time": "2021-11-08T09:54:05.752Z"
   },
   {
    "duration": 44,
    "start_time": "2021-11-08T10:59:38.955Z"
   },
   {
    "duration": 1027,
    "start_time": "2021-11-08T11:14:01.103Z"
   },
   {
    "duration": 1011,
    "start_time": "2021-11-08T11:14:17.642Z"
   },
   {
    "duration": 1710,
    "start_time": "2021-11-08T11:14:46.447Z"
   },
   {
    "duration": 7,
    "start_time": "2021-11-08T11:18:06.431Z"
   },
   {
    "duration": 7,
    "start_time": "2021-11-08T11:18:20.926Z"
   },
   {
    "duration": 7,
    "start_time": "2021-11-08T11:18:27.741Z"
   },
   {
    "duration": 7,
    "start_time": "2021-11-08T11:18:35.661Z"
   },
   {
    "duration": 1094,
    "start_time": "2021-11-08T11:31:19.020Z"
   },
   {
    "duration": 1143,
    "start_time": "2021-11-08T11:31:40.817Z"
   },
   {
    "duration": 1236,
    "start_time": "2021-11-08T11:31:57.669Z"
   },
   {
    "duration": 1239,
    "start_time": "2021-11-08T11:32:10.990Z"
   },
   {
    "duration": 1283,
    "start_time": "2021-11-08T11:34:07.038Z"
   },
   {
    "duration": 1234,
    "start_time": "2021-11-08T11:34:28.352Z"
   },
   {
    "duration": 1541,
    "start_time": "2021-11-08T15:41:43.128Z"
   },
   {
    "duration": 436,
    "start_time": "2021-11-08T15:41:44.671Z"
   },
   {
    "duration": 15,
    "start_time": "2021-11-08T15:41:45.110Z"
   },
   {
    "duration": 26,
    "start_time": "2021-11-08T15:41:45.128Z"
   },
   {
    "duration": 248,
    "start_time": "2021-11-08T15:41:45.157Z"
   },
   {
    "duration": 4,
    "start_time": "2021-11-08T15:41:45.408Z"
   },
   {
    "duration": 8,
    "start_time": "2021-11-08T15:41:45.414Z"
   },
   {
    "duration": 13,
    "start_time": "2021-11-08T15:41:45.426Z"
   },
   {
    "duration": 63,
    "start_time": "2021-11-08T15:41:45.442Z"
   },
   {
    "duration": 53,
    "start_time": "2021-11-08T15:41:45.507Z"
   },
   {
    "duration": 45,
    "start_time": "2021-11-08T15:41:45.562Z"
   },
   {
    "duration": 21,
    "start_time": "2021-11-08T15:41:45.609Z"
   },
   {
    "duration": 11,
    "start_time": "2021-11-08T15:41:45.632Z"
   },
   {
    "duration": 13,
    "start_time": "2021-11-08T15:41:45.645Z"
   },
   {
    "duration": 56,
    "start_time": "2021-11-08T15:41:45.660Z"
   },
   {
    "duration": 24,
    "start_time": "2021-11-08T15:41:45.718Z"
   },
   {
    "duration": 61,
    "start_time": "2021-11-08T15:41:45.745Z"
   },
   {
    "duration": 31,
    "start_time": "2021-11-08T15:41:45.809Z"
   },
   {
    "duration": 18,
    "start_time": "2021-11-08T15:41:45.842Z"
   },
   {
    "duration": 42,
    "start_time": "2021-11-08T15:41:45.863Z"
   },
   {
    "duration": 13,
    "start_time": "2021-11-08T15:41:45.908Z"
   },
   {
    "duration": 18,
    "start_time": "2021-11-08T15:41:45.924Z"
   },
   {
    "duration": 62,
    "start_time": "2021-11-08T15:41:45.949Z"
   },
   {
    "duration": 33,
    "start_time": "2021-11-08T15:41:46.016Z"
   },
   {
    "duration": 51,
    "start_time": "2021-11-08T15:41:46.052Z"
   },
   {
    "duration": 33,
    "start_time": "2021-11-08T15:41:46.105Z"
   },
   {
    "duration": 32,
    "start_time": "2021-11-08T15:41:46.140Z"
   },
   {
    "duration": 39,
    "start_time": "2021-11-08T15:41:46.174Z"
   },
   {
    "duration": 30,
    "start_time": "2021-11-08T15:41:46.215Z"
   },
   {
    "duration": 17,
    "start_time": "2021-11-08T15:41:46.248Z"
   },
   {
    "duration": 42,
    "start_time": "2021-11-08T15:41:46.267Z"
   },
   {
    "duration": 10,
    "start_time": "2021-11-08T15:41:46.312Z"
   },
   {
    "duration": 140,
    "start_time": "2021-11-08T15:41:46.324Z"
   },
   {
    "duration": 17,
    "start_time": "2021-11-08T15:41:46.466Z"
   },
   {
    "duration": 45,
    "start_time": "2021-11-08T15:41:46.500Z"
   },
   {
    "duration": 8,
    "start_time": "2021-11-08T15:41:46.547Z"
   },
   {
    "duration": 67,
    "start_time": "2021-11-08T15:41:46.557Z"
   },
   {
    "duration": 12,
    "start_time": "2021-11-08T15:41:46.626Z"
   },
   {
    "duration": 1308,
    "start_time": "2021-11-08T15:41:46.640Z"
   },
   {
    "duration": 7,
    "start_time": "2021-11-08T15:41:47.951Z"
   },
   {
    "duration": 70,
    "start_time": "2021-11-08T15:41:47.961Z"
   },
   {
    "duration": 1153,
    "start_time": "2021-11-08T15:41:48.033Z"
   },
   {
    "duration": 26,
    "start_time": "2021-11-08T15:41:49.189Z"
   },
   {
    "duration": 7,
    "start_time": "2021-11-08T15:41:49.217Z"
   },
   {
    "duration": 10,
    "start_time": "2021-11-08T15:41:49.226Z"
   },
   {
    "duration": 8,
    "start_time": "2021-11-08T15:41:49.238Z"
   },
   {
    "duration": 127,
    "start_time": "2021-11-08T15:41:49.249Z"
   },
   {
    "duration": 9,
    "start_time": "2021-11-08T15:41:49.378Z"
   },
   {
    "duration": 25,
    "start_time": "2021-11-08T15:41:49.402Z"
   },
   {
    "duration": 8,
    "start_time": "2021-11-08T15:41:49.429Z"
   },
   {
    "duration": 23,
    "start_time": "2021-11-08T15:41:49.439Z"
   },
   {
    "duration": 840,
    "start_time": "2021-11-08T15:41:49.464Z"
   },
   {
    "duration": 790,
    "start_time": "2021-11-08T15:41:50.306Z"
   },
   {
    "duration": 1244,
    "start_time": "2021-11-08T15:43:44.723Z"
   },
   {
    "duration": 1507,
    "start_time": "2021-11-09T11:16:30.210Z"
   },
   {
    "duration": 391,
    "start_time": "2021-11-09T11:16:31.720Z"
   },
   {
    "duration": 16,
    "start_time": "2021-11-09T11:16:32.114Z"
   },
   {
    "duration": 23,
    "start_time": "2021-11-09T11:16:32.133Z"
   },
   {
    "duration": 218,
    "start_time": "2021-11-09T11:16:32.158Z"
   },
   {
    "duration": 5,
    "start_time": "2021-11-09T11:16:32.378Z"
   },
   {
    "duration": 8,
    "start_time": "2021-11-09T11:16:32.386Z"
   },
   {
    "duration": 13,
    "start_time": "2021-11-09T11:16:32.397Z"
   },
   {
    "duration": 66,
    "start_time": "2021-11-09T11:16:32.413Z"
   },
   {
    "duration": 51,
    "start_time": "2021-11-09T11:16:32.481Z"
   },
   {
    "duration": 49,
    "start_time": "2021-11-09T11:16:32.534Z"
   },
   {
    "duration": 29,
    "start_time": "2021-11-09T11:16:32.586Z"
   },
   {
    "duration": 15,
    "start_time": "2021-11-09T11:16:32.618Z"
   },
   {
    "duration": 44,
    "start_time": "2021-11-09T11:16:32.637Z"
   },
   {
    "duration": 28,
    "start_time": "2021-11-09T11:16:32.684Z"
   },
   {
    "duration": 62,
    "start_time": "2021-11-09T11:16:32.715Z"
   },
   {
    "duration": 68,
    "start_time": "2021-11-09T11:16:32.780Z"
   },
   {
    "duration": 55,
    "start_time": "2021-11-09T11:16:32.851Z"
   },
   {
    "duration": 22,
    "start_time": "2021-11-09T11:16:32.908Z"
   },
   {
    "duration": 45,
    "start_time": "2021-11-09T11:16:32.933Z"
   },
   {
    "duration": 15,
    "start_time": "2021-11-09T11:16:32.981Z"
   },
   {
    "duration": 16,
    "start_time": "2021-11-09T11:16:32.999Z"
   },
   {
    "duration": 56,
    "start_time": "2021-11-09T11:16:33.021Z"
   },
   {
    "duration": 31,
    "start_time": "2021-11-09T11:16:33.081Z"
   },
   {
    "duration": 27,
    "start_time": "2021-11-09T11:16:33.115Z"
   },
   {
    "duration": 34,
    "start_time": "2021-11-09T11:16:33.168Z"
   },
   {
    "duration": 62,
    "start_time": "2021-11-09T11:16:33.205Z"
   },
   {
    "duration": 16,
    "start_time": "2021-11-09T11:16:33.269Z"
   },
   {
    "duration": 27,
    "start_time": "2021-11-09T11:16:33.290Z"
   },
   {
    "duration": 54,
    "start_time": "2021-11-09T11:16:33.320Z"
   },
   {
    "duration": 13,
    "start_time": "2021-11-09T11:16:33.377Z"
   },
   {
    "duration": 10,
    "start_time": "2021-11-09T11:16:33.393Z"
   },
   {
    "duration": 233,
    "start_time": "2021-11-09T11:16:33.406Z"
   },
   {
    "duration": 30,
    "start_time": "2021-11-09T11:16:33.643Z"
   },
   {
    "duration": 43,
    "start_time": "2021-11-09T11:16:33.675Z"
   },
   {
    "duration": 7,
    "start_time": "2021-11-09T11:16:33.720Z"
   },
   {
    "duration": 85,
    "start_time": "2021-11-09T11:16:33.730Z"
   },
   {
    "duration": 19,
    "start_time": "2021-11-09T11:16:33.818Z"
   },
   {
    "duration": 1804,
    "start_time": "2021-11-09T11:16:33.840Z"
   },
   {
    "duration": 20,
    "start_time": "2021-11-09T11:16:35.647Z"
   },
   {
    "duration": 68,
    "start_time": "2021-11-09T11:16:35.670Z"
   },
   {
    "duration": 1908,
    "start_time": "2021-11-09T11:16:35.741Z"
   },
   {
    "duration": 35,
    "start_time": "2021-11-09T11:16:37.652Z"
   },
   {
    "duration": 15,
    "start_time": "2021-11-09T11:16:37.690Z"
   },
   {
    "duration": 12,
    "start_time": "2021-11-09T11:16:37.708Z"
   },
   {
    "duration": 21,
    "start_time": "2021-11-09T11:16:37.722Z"
   },
   {
    "duration": 103,
    "start_time": "2021-11-09T11:16:37.767Z"
   },
   {
    "duration": 9,
    "start_time": "2021-11-09T11:16:37.872Z"
   },
   {
    "duration": 26,
    "start_time": "2021-11-09T11:16:37.884Z"
   },
   {
    "duration": 14,
    "start_time": "2021-11-09T11:16:37.912Z"
   },
   {
    "duration": 51,
    "start_time": "2021-11-09T11:16:37.929Z"
   },
   {
    "duration": 796,
    "start_time": "2021-11-09T11:16:37.983Z"
   },
   {
    "duration": 814,
    "start_time": "2021-11-09T11:16:38.781Z"
   },
   {
    "duration": 450,
    "start_time": "2021-11-09T11:17:22.475Z"
   },
   {
    "duration": 657,
    "start_time": "2021-11-09T11:18:30.936Z"
   },
   {
    "duration": 670,
    "start_time": "2021-11-09T11:19:19.588Z"
   },
   {
    "duration": 750,
    "start_time": "2021-11-09T11:19:42.846Z"
   },
   {
    "duration": 19,
    "start_time": "2021-11-09T11:23:47.545Z"
   },
   {
    "duration": 279,
    "start_time": "2021-11-09T11:27:54.840Z"
   },
   {
    "duration": 277,
    "start_time": "2021-11-09T11:29:13.065Z"
   },
   {
    "duration": 292,
    "start_time": "2021-11-09T11:29:21.705Z"
   },
   {
    "duration": 286,
    "start_time": "2021-11-09T11:29:33.064Z"
   },
   {
    "duration": 3,
    "start_time": "2021-11-09T11:29:53.601Z"
   },
   {
    "duration": 296,
    "start_time": "2021-11-09T11:29:55.333Z"
   },
   {
    "duration": 1595,
    "start_time": "2021-11-09T11:35:09.162Z"
   },
   {
    "duration": 431,
    "start_time": "2021-11-09T11:35:10.760Z"
   },
   {
    "duration": 15,
    "start_time": "2021-11-09T11:35:11.194Z"
   },
   {
    "duration": 27,
    "start_time": "2021-11-09T11:35:11.212Z"
   },
   {
    "duration": 217,
    "start_time": "2021-11-09T11:35:11.242Z"
   },
   {
    "duration": 6,
    "start_time": "2021-11-09T11:35:11.466Z"
   },
   {
    "duration": 24,
    "start_time": "2021-11-09T11:35:11.475Z"
   },
   {
    "duration": 14,
    "start_time": "2021-11-09T11:35:11.504Z"
   },
   {
    "duration": 62,
    "start_time": "2021-11-09T11:35:11.522Z"
   },
   {
    "duration": 52,
    "start_time": "2021-11-09T11:35:11.587Z"
   },
   {
    "duration": 46,
    "start_time": "2021-11-09T11:35:11.641Z"
   },
   {
    "duration": 21,
    "start_time": "2021-11-09T11:35:11.689Z"
   },
   {
    "duration": 11,
    "start_time": "2021-11-09T11:35:11.712Z"
   },
   {
    "duration": 46,
    "start_time": "2021-11-09T11:35:11.726Z"
   },
   {
    "duration": 23,
    "start_time": "2021-11-09T11:35:11.774Z"
   },
   {
    "duration": 24,
    "start_time": "2021-11-09T11:35:11.799Z"
   },
   {
    "duration": 60,
    "start_time": "2021-11-09T11:35:11.826Z"
   },
   {
    "duration": 32,
    "start_time": "2021-11-09T11:35:11.888Z"
   },
   {
    "duration": 18,
    "start_time": "2021-11-09T11:35:11.923Z"
   },
   {
    "duration": 14,
    "start_time": "2021-11-09T11:35:11.967Z"
   },
   {
    "duration": 17,
    "start_time": "2021-11-09T11:35:11.984Z"
   },
   {
    "duration": 24,
    "start_time": "2021-11-09T11:35:12.003Z"
   },
   {
    "duration": 45,
    "start_time": "2021-11-09T11:35:12.033Z"
   },
   {
    "duration": 30,
    "start_time": "2021-11-09T11:35:12.081Z"
   },
   {
    "duration": 25,
    "start_time": "2021-11-09T11:35:12.113Z"
   },
   {
    "duration": 57,
    "start_time": "2021-11-09T11:35:12.140Z"
   },
   {
    "duration": 32,
    "start_time": "2021-11-09T11:35:12.199Z"
   },
   {
    "duration": 43,
    "start_time": "2021-11-09T11:35:12.234Z"
   },
   {
    "duration": 31,
    "start_time": "2021-11-09T11:35:12.280Z"
   },
   {
    "duration": 16,
    "start_time": "2021-11-09T11:35:12.313Z"
   },
   {
    "duration": 44,
    "start_time": "2021-11-09T11:35:12.331Z"
   },
   {
    "duration": 12,
    "start_time": "2021-11-09T11:35:12.379Z"
   },
   {
    "duration": 217,
    "start_time": "2021-11-09T11:35:12.393Z"
   },
   {
    "duration": 18,
    "start_time": "2021-11-09T11:35:12.613Z"
   },
   {
    "duration": 65,
    "start_time": "2021-11-09T11:35:12.634Z"
   },
   {
    "duration": 775,
    "start_time": "2021-11-09T11:35:12.702Z"
   },
   {
    "duration": 18,
    "start_time": "2021-11-09T11:35:13.479Z"
   },
   {
    "duration": 440,
    "start_time": "2021-11-09T11:35:13.499Z"
   },
   {
    "duration": -422,
    "start_time": "2021-11-09T11:35:14.363Z"
   },
   {
    "duration": -426,
    "start_time": "2021-11-09T11:35:14.369Z"
   },
   {
    "duration": -431,
    "start_time": "2021-11-09T11:35:14.375Z"
   },
   {
    "duration": -436,
    "start_time": "2021-11-09T11:35:14.381Z"
   },
   {
    "duration": -440,
    "start_time": "2021-11-09T11:35:14.387Z"
   },
   {
    "duration": -443,
    "start_time": "2021-11-09T11:35:14.392Z"
   },
   {
    "duration": -446,
    "start_time": "2021-11-09T11:35:14.397Z"
   },
   {
    "duration": -449,
    "start_time": "2021-11-09T11:35:14.401Z"
   },
   {
    "duration": -456,
    "start_time": "2021-11-09T11:35:14.409Z"
   },
   {
    "duration": -459,
    "start_time": "2021-11-09T11:35:14.414Z"
   },
   {
    "duration": -463,
    "start_time": "2021-11-09T11:35:14.419Z"
   },
   {
    "duration": -467,
    "start_time": "2021-11-09T11:35:14.424Z"
   },
   {
    "duration": -469,
    "start_time": "2021-11-09T11:35:14.428Z"
   },
   {
    "duration": -473,
    "start_time": "2021-11-09T11:35:14.433Z"
   },
   {
    "duration": -477,
    "start_time": "2021-11-09T11:35:14.439Z"
   },
   {
    "duration": -480,
    "start_time": "2021-11-09T11:35:14.443Z"
   },
   {
    "duration": -483,
    "start_time": "2021-11-09T11:35:14.448Z"
   },
   {
    "duration": -487,
    "start_time": "2021-11-09T11:35:14.454Z"
   },
   {
    "duration": 291,
    "start_time": "2021-11-09T11:35:19.712Z"
   },
   {
    "duration": 967,
    "start_time": "2021-11-09T11:35:26.192Z"
   },
   {
    "duration": 9,
    "start_time": "2021-11-09T11:35:32.008Z"
   },
   {
    "duration": 51,
    "start_time": "2021-11-09T11:35:34.242Z"
   },
   {
    "duration": 14,
    "start_time": "2021-11-09T11:35:37.345Z"
   },
   {
    "duration": 1471,
    "start_time": "2021-11-09T11:35:39.468Z"
   },
   {
    "duration": 347,
    "start_time": "2021-11-09T11:35:48.281Z"
   },
   {
    "duration": 6,
    "start_time": "2021-11-09T11:36:02.176Z"
   },
   {
    "duration": 1514,
    "start_time": "2021-11-09T14:59:21.182Z"
   },
   {
    "duration": 460,
    "start_time": "2021-11-09T14:59:22.700Z"
   },
   {
    "duration": 16,
    "start_time": "2021-11-09T14:59:23.162Z"
   },
   {
    "duration": 22,
    "start_time": "2021-11-09T14:59:23.180Z"
   },
   {
    "duration": 203,
    "start_time": "2021-11-09T14:59:23.204Z"
   },
   {
    "duration": 14,
    "start_time": "2021-11-09T14:59:23.410Z"
   },
   {
    "duration": 10,
    "start_time": "2021-11-09T14:59:23.428Z"
   },
   {
    "duration": 11,
    "start_time": "2021-11-09T14:59:23.441Z"
   },
   {
    "duration": 31,
    "start_time": "2021-11-09T14:59:23.455Z"
   },
   {
    "duration": 78,
    "start_time": "2021-11-09T14:59:23.488Z"
   },
   {
    "duration": 29,
    "start_time": "2021-11-09T14:59:23.569Z"
   },
   {
    "duration": 41,
    "start_time": "2021-11-09T14:59:23.600Z"
   },
   {
    "duration": 10,
    "start_time": "2021-11-09T14:59:23.643Z"
   },
   {
    "duration": 11,
    "start_time": "2021-11-09T14:59:23.656Z"
   },
   {
    "duration": 55,
    "start_time": "2021-11-09T14:59:23.670Z"
   },
   {
    "duration": 24,
    "start_time": "2021-11-09T14:59:23.727Z"
   },
   {
    "duration": 40,
    "start_time": "2021-11-09T14:59:23.754Z"
   },
   {
    "duration": 36,
    "start_time": "2021-11-09T14:59:23.822Z"
   },
   {
    "duration": 19,
    "start_time": "2021-11-09T14:59:23.861Z"
   },
   {
    "duration": 45,
    "start_time": "2021-11-09T14:59:23.883Z"
   },
   {
    "duration": 13,
    "start_time": "2021-11-09T14:59:23.930Z"
   },
   {
    "duration": 16,
    "start_time": "2021-11-09T14:59:23.945Z"
   },
   {
    "duration": 57,
    "start_time": "2021-11-09T14:59:23.968Z"
   },
   {
    "duration": 29,
    "start_time": "2021-11-09T14:59:24.028Z"
   },
   {
    "duration": 25,
    "start_time": "2021-11-09T14:59:24.060Z"
   },
   {
    "duration": 60,
    "start_time": "2021-11-09T14:59:24.087Z"
   },
   {
    "duration": 30,
    "start_time": "2021-11-09T14:59:24.149Z"
   },
   {
    "duration": 68,
    "start_time": "2021-11-09T14:59:24.182Z"
   },
   {
    "duration": 27,
    "start_time": "2021-11-09T14:59:24.252Z"
   },
   {
    "duration": 18,
    "start_time": "2021-11-09T14:59:24.282Z"
   },
   {
    "duration": 19,
    "start_time": "2021-11-09T14:59:24.302Z"
   },
   {
    "duration": 24,
    "start_time": "2021-11-09T14:59:24.324Z"
   },
   {
    "duration": 139,
    "start_time": "2021-11-09T14:59:24.351Z"
   },
   {
    "duration": 16,
    "start_time": "2021-11-09T14:59:24.492Z"
   },
   {
    "duration": 42,
    "start_time": "2021-11-09T14:59:24.522Z"
   },
   {
    "duration": 736,
    "start_time": "2021-11-09T14:59:24.567Z"
   },
   {
    "duration": 32,
    "start_time": "2021-11-09T14:59:25.306Z"
   },
   {
    "duration": 485,
    "start_time": "2021-11-09T14:59:25.340Z"
   },
   {
    "duration": 14841,
    "start_time": "2021-11-09T14:59:10.986Z"
   },
   {
    "duration": 14684,
    "start_time": "2021-11-09T14:59:11.145Z"
   },
   {
    "duration": 14679,
    "start_time": "2021-11-09T14:59:11.152Z"
   },
   {
    "duration": 14673,
    "start_time": "2021-11-09T14:59:11.159Z"
   },
   {
    "duration": 14664,
    "start_time": "2021-11-09T14:59:11.170Z"
   },
   {
    "duration": 14651,
    "start_time": "2021-11-09T14:59:11.184Z"
   },
   {
    "duration": 14645,
    "start_time": "2021-11-09T14:59:11.192Z"
   },
   {
    "duration": 14639,
    "start_time": "2021-11-09T14:59:11.199Z"
   },
   {
    "duration": 14586,
    "start_time": "2021-11-09T14:59:11.254Z"
   },
   {
    "duration": 14556,
    "start_time": "2021-11-09T14:59:11.286Z"
   },
   {
    "duration": 14529,
    "start_time": "2021-11-09T14:59:11.314Z"
   },
   {
    "duration": 14523,
    "start_time": "2021-11-09T14:59:11.322Z"
   },
   {
    "duration": 14516,
    "start_time": "2021-11-09T14:59:11.331Z"
   },
   {
    "duration": 14511,
    "start_time": "2021-11-09T14:59:11.338Z"
   },
   {
    "duration": 14506,
    "start_time": "2021-11-09T14:59:11.345Z"
   },
   {
    "duration": 14502,
    "start_time": "2021-11-09T14:59:11.351Z"
   },
   {
    "duration": 14496,
    "start_time": "2021-11-09T14:59:11.358Z"
   },
   {
    "duration": 14491,
    "start_time": "2021-11-09T14:59:11.365Z"
   },
   {
    "duration": 1266,
    "start_time": "2021-11-09T14:59:33.578Z"
   },
   {
    "duration": 8,
    "start_time": "2021-11-09T14:59:38.668Z"
   },
   {
    "duration": 58,
    "start_time": "2021-11-09T14:59:41.029Z"
   },
   {
    "duration": 15,
    "start_time": "2021-11-09T14:59:46.344Z"
   },
   {
    "duration": 1264,
    "start_time": "2021-11-09T14:59:48.759Z"
   },
   {
    "duration": 334,
    "start_time": "2021-11-09T15:00:16.573Z"
   },
   {
    "duration": 4,
    "start_time": "2021-11-09T15:03:00.764Z"
   },
   {
    "duration": 277,
    "start_time": "2021-11-09T15:03:29.197Z"
   },
   {
    "duration": 293,
    "start_time": "2021-11-09T15:03:48.744Z"
   },
   {
    "duration": 284,
    "start_time": "2021-11-09T15:04:55.487Z"
   },
   {
    "duration": 18,
    "start_time": "2021-11-09T15:05:17.622Z"
   },
   {
    "duration": 304,
    "start_time": "2021-11-09T15:05:20.043Z"
   },
   {
    "duration": 5,
    "start_time": "2021-11-09T16:36:01.608Z"
   },
   {
    "duration": 278,
    "start_time": "2021-11-09T16:36:17.318Z"
   },
   {
    "duration": 1445,
    "start_time": "2021-11-09T16:40:10.637Z"
   },
   {
    "duration": 381,
    "start_time": "2021-11-09T16:40:12.085Z"
   },
   {
    "duration": 15,
    "start_time": "2021-11-09T16:40:12.469Z"
   },
   {
    "duration": 26,
    "start_time": "2021-11-09T16:40:12.487Z"
   },
   {
    "duration": 299,
    "start_time": "2021-11-09T16:40:12.515Z"
   },
   {
    "duration": 8,
    "start_time": "2021-11-09T16:40:12.817Z"
   },
   {
    "duration": 6,
    "start_time": "2021-11-09T16:40:12.828Z"
   },
   {
    "duration": 11,
    "start_time": "2021-11-09T16:40:12.838Z"
   },
   {
    "duration": 75,
    "start_time": "2021-11-09T16:40:12.853Z"
   },
   {
    "duration": 53,
    "start_time": "2021-11-09T16:40:12.930Z"
   },
   {
    "duration": 55,
    "start_time": "2021-11-09T16:40:12.985Z"
   },
   {
    "duration": 24,
    "start_time": "2021-11-09T16:40:13.043Z"
   },
   {
    "duration": 13,
    "start_time": "2021-11-09T16:40:13.069Z"
   },
   {
    "duration": 19,
    "start_time": "2021-11-09T16:40:13.124Z"
   },
   {
    "duration": 35,
    "start_time": "2021-11-09T16:40:13.146Z"
   },
   {
    "duration": 41,
    "start_time": "2021-11-09T16:40:13.184Z"
   },
   {
    "duration": 39,
    "start_time": "2021-11-09T16:40:13.228Z"
   },
   {
    "duration": 54,
    "start_time": "2021-11-09T16:40:13.270Z"
   },
   {
    "duration": 18,
    "start_time": "2021-11-09T16:40:13.326Z"
   },
   {
    "duration": 17,
    "start_time": "2021-11-09T16:40:13.346Z"
   },
   {
    "duration": 12,
    "start_time": "2021-11-09T16:40:13.365Z"
   },
   {
    "duration": 52,
    "start_time": "2021-11-09T16:40:13.380Z"
   },
   {
    "duration": 19,
    "start_time": "2021-11-09T16:40:13.438Z"
   },
   {
    "duration": 61,
    "start_time": "2021-11-09T16:40:13.461Z"
   },
   {
    "duration": 33,
    "start_time": "2021-11-09T16:40:13.525Z"
   },
   {
    "duration": 32,
    "start_time": "2021-11-09T16:40:13.560Z"
   },
   {
    "duration": 66,
    "start_time": "2021-11-09T16:40:13.628Z"
   },
   {
    "duration": 49,
    "start_time": "2021-11-09T16:40:13.698Z"
   },
   {
    "duration": 39,
    "start_time": "2021-11-09T16:40:13.752Z"
   },
   {
    "duration": 39,
    "start_time": "2021-11-09T16:40:13.794Z"
   },
   {
    "duration": 25,
    "start_time": "2021-11-09T16:40:13.836Z"
   },
   {
    "duration": 18,
    "start_time": "2021-11-09T16:40:13.871Z"
   },
   {
    "duration": 265,
    "start_time": "2021-11-09T16:40:13.904Z"
   },
   {
    "duration": 21,
    "start_time": "2021-11-09T16:40:14.173Z"
   },
   {
    "duration": 67,
    "start_time": "2021-11-09T16:40:14.198Z"
   },
   {
    "duration": 837,
    "start_time": "2021-11-09T16:40:14.268Z"
   },
   {
    "duration": 29,
    "start_time": "2021-11-09T16:40:15.108Z"
   },
   {
    "duration": 413,
    "start_time": "2021-11-09T16:40:15.141Z"
   },
   {
    "duration": -140,
    "start_time": "2021-11-09T16:40:15.696Z"
   },
   {
    "duration": -145,
    "start_time": "2021-11-09T16:40:15.703Z"
   },
   {
    "duration": -150,
    "start_time": "2021-11-09T16:40:15.709Z"
   },
   {
    "duration": -153,
    "start_time": "2021-11-09T16:40:15.714Z"
   },
   {
    "duration": -157,
    "start_time": "2021-11-09T16:40:15.719Z"
   },
   {
    "duration": 8,
    "start_time": "2021-11-09T16:41:53.282Z"
   },
   {
    "duration": 286,
    "start_time": "2021-11-09T16:41:55.119Z"
   },
   {
    "duration": 276,
    "start_time": "2021-11-09T16:41:58.562Z"
   },
   {
    "duration": 316,
    "start_time": "2021-11-09T16:44:45.060Z"
   },
   {
    "duration": 289,
    "start_time": "2021-11-09T16:45:20.076Z"
   },
   {
    "duration": 272,
    "start_time": "2021-11-09T16:45:24.652Z"
   },
   {
    "duration": 522,
    "start_time": "2021-11-09T16:45:58.234Z"
   },
   {
    "duration": 1484,
    "start_time": "2021-11-09T16:52:05.115Z"
   },
   {
    "duration": 1478,
    "start_time": "2021-11-09T16:52:50.595Z"
   },
   {
    "duration": 4657,
    "start_time": "2021-11-09T16:53:34.420Z"
   },
   {
    "duration": 1474,
    "start_time": "2021-11-09T16:53:49.003Z"
   },
   {
    "duration": 1606,
    "start_time": "2021-11-09T16:53:50.480Z"
   },
   {
    "duration": 3494,
    "start_time": "2021-11-09T16:53:52.089Z"
   },
   {
    "duration": 386,
    "start_time": "2021-11-09T16:53:55.586Z"
   },
   {
    "duration": 17,
    "start_time": "2021-11-09T16:53:55.975Z"
   },
   {
    "duration": 28,
    "start_time": "2021-11-09T16:53:55.996Z"
   },
   {
    "duration": 223,
    "start_time": "2021-11-09T16:53:56.027Z"
   },
   {
    "duration": 5,
    "start_time": "2021-11-09T16:53:56.254Z"
   },
   {
    "duration": 6,
    "start_time": "2021-11-09T16:53:56.262Z"
   },
   {
    "duration": 11,
    "start_time": "2021-11-09T16:53:56.270Z"
   },
   {
    "duration": 69,
    "start_time": "2021-11-09T16:53:56.283Z"
   },
   {
    "duration": 75,
    "start_time": "2021-11-09T16:53:56.354Z"
   },
   {
    "duration": 31,
    "start_time": "2021-11-09T16:53:56.431Z"
   },
   {
    "duration": 56,
    "start_time": "2021-11-09T16:53:56.466Z"
   },
   {
    "duration": 13,
    "start_time": "2021-11-09T16:53:56.525Z"
   },
   {
    "duration": 16,
    "start_time": "2021-11-09T16:53:56.541Z"
   },
   {
    "duration": 70,
    "start_time": "2021-11-09T16:53:56.560Z"
   },
   {
    "duration": 28,
    "start_time": "2021-11-09T16:53:56.634Z"
   },
   {
    "duration": 64,
    "start_time": "2021-11-09T16:53:56.665Z"
   },
   {
    "duration": 34,
    "start_time": "2021-11-09T16:53:56.731Z"
   },
   {
    "duration": 17,
    "start_time": "2021-11-09T16:53:56.767Z"
   },
   {
    "duration": 46,
    "start_time": "2021-11-09T16:53:56.787Z"
   },
   {
    "duration": 15,
    "start_time": "2021-11-09T16:53:56.839Z"
   },
   {
    "duration": 22,
    "start_time": "2021-11-09T16:53:56.857Z"
   },
   {
    "duration": 55,
    "start_time": "2021-11-09T16:53:56.883Z"
   },
   {
    "duration": 31,
    "start_time": "2021-11-09T16:53:56.941Z"
   },
   {
    "duration": 54,
    "start_time": "2021-11-09T16:53:56.975Z"
   },
   {
    "duration": 33,
    "start_time": "2021-11-09T16:53:57.031Z"
   },
   {
    "duration": 61,
    "start_time": "2021-11-09T16:53:57.067Z"
   },
   {
    "duration": 14,
    "start_time": "2021-11-09T16:53:57.131Z"
   },
   {
    "duration": 27,
    "start_time": "2021-11-09T16:53:57.147Z"
   },
   {
    "duration": 54,
    "start_time": "2021-11-09T16:53:57.176Z"
   },
   {
    "duration": 15,
    "start_time": "2021-11-09T16:53:57.232Z"
   },
   {
    "duration": 10,
    "start_time": "2021-11-09T16:53:57.249Z"
   },
   {
    "duration": 154,
    "start_time": "2021-11-09T16:53:57.261Z"
   },
   {
    "duration": 18,
    "start_time": "2021-11-09T16:53:57.417Z"
   },
   {
    "duration": 44,
    "start_time": "2021-11-09T16:53:57.437Z"
   },
   {
    "duration": 771,
    "start_time": "2021-11-09T16:53:57.483Z"
   },
   {
    "duration": 18,
    "start_time": "2021-11-09T16:53:58.257Z"
   },
   {
    "duration": 1327,
    "start_time": "2021-11-09T16:53:58.277Z"
   },
   {
    "duration": 16,
    "start_time": "2021-11-09T16:53:59.607Z"
   },
   {
    "duration": 48,
    "start_time": "2021-11-09T16:53:59.626Z"
   },
   {
    "duration": 15,
    "start_time": "2021-11-09T16:53:59.676Z"
   },
   {
    "duration": 1400,
    "start_time": "2021-11-09T16:53:59.693Z"
   },
   {
    "duration": 7,
    "start_time": "2021-11-09T16:54:01.096Z"
   },
   {
    "duration": 64,
    "start_time": "2021-11-09T16:54:01.105Z"
   },
   {
    "duration": 1425,
    "start_time": "2021-11-09T16:54:01.171Z"
   },
   {
    "duration": 31,
    "start_time": "2021-11-09T16:54:02.598Z"
   },
   {
    "duration": 18,
    "start_time": "2021-11-09T16:54:02.631Z"
   },
   {
    "duration": 19,
    "start_time": "2021-11-09T16:54:02.651Z"
   },
   {
    "duration": 32,
    "start_time": "2021-11-09T16:54:02.673Z"
   },
   {
    "duration": 39,
    "start_time": "2021-11-09T16:54:02.708Z"
   },
   {
    "duration": 16,
    "start_time": "2021-11-09T16:54:02.750Z"
   },
   {
    "duration": 43,
    "start_time": "2021-11-09T16:54:02.768Z"
   },
   {
    "duration": 27,
    "start_time": "2021-11-09T16:54:02.814Z"
   },
   {
    "duration": 31,
    "start_time": "2021-11-09T16:54:02.844Z"
   },
   {
    "duration": 897,
    "start_time": "2021-11-09T16:54:02.878Z"
   },
   {
    "duration": 901,
    "start_time": "2021-11-09T16:54:03.777Z"
   },
   {
    "duration": 1153,
    "start_time": "2021-11-09T16:54:37.484Z"
   },
   {
    "duration": 1190,
    "start_time": "2021-11-09T16:54:41.551Z"
   },
   {
    "duration": 3523,
    "start_time": "2021-11-09T18:40:18.032Z"
   },
   {
    "duration": 1415,
    "start_time": "2021-11-09T18:40:21.558Z"
   },
   {
    "duration": 381,
    "start_time": "2021-11-09T18:40:22.976Z"
   },
   {
    "duration": 16,
    "start_time": "2021-11-09T18:40:23.360Z"
   },
   {
    "duration": 26,
    "start_time": "2021-11-09T18:40:23.378Z"
   },
   {
    "duration": 190,
    "start_time": "2021-11-09T18:40:23.407Z"
   },
   {
    "duration": 5,
    "start_time": "2021-11-09T18:40:23.599Z"
   },
   {
    "duration": 5,
    "start_time": "2021-11-09T18:40:23.624Z"
   },
   {
    "duration": 17,
    "start_time": "2021-11-09T18:40:23.632Z"
   },
   {
    "duration": 32,
    "start_time": "2021-11-09T18:40:23.652Z"
   },
   {
    "duration": 76,
    "start_time": "2021-11-09T18:40:23.687Z"
   },
   {
    "duration": 29,
    "start_time": "2021-11-09T18:40:23.766Z"
   },
   {
    "duration": 40,
    "start_time": "2021-11-09T18:40:23.797Z"
   },
   {
    "duration": 11,
    "start_time": "2021-11-09T18:40:23.839Z"
   },
   {
    "duration": 18,
    "start_time": "2021-11-09T18:40:23.852Z"
   },
   {
    "duration": 19,
    "start_time": "2021-11-09T18:40:23.873Z"
   },
   {
    "duration": 25,
    "start_time": "2021-11-09T18:40:23.923Z"
   },
   {
    "duration": 42,
    "start_time": "2021-11-09T18:40:23.950Z"
   },
   {
    "duration": 56,
    "start_time": "2021-11-09T18:40:23.994Z"
   },
   {
    "duration": 17,
    "start_time": "2021-11-09T18:40:24.053Z"
   },
   {
    "duration": 13,
    "start_time": "2021-11-09T18:40:24.072Z"
   },
   {
    "duration": 39,
    "start_time": "2021-11-09T18:40:24.088Z"
   },
   {
    "duration": 15,
    "start_time": "2021-11-09T18:40:24.133Z"
   },
   {
    "duration": 19,
    "start_time": "2021-11-09T18:40:24.152Z"
   },
   {
    "duration": 64,
    "start_time": "2021-11-09T18:40:24.174Z"
   },
   {
    "duration": 24,
    "start_time": "2021-11-09T18:40:24.240Z"
   },
   {
    "duration": 57,
    "start_time": "2021-11-09T18:40:24.267Z"
   },
   {
    "duration": 31,
    "start_time": "2021-11-09T18:40:24.327Z"
   },
   {
    "duration": 14,
    "start_time": "2021-11-09T18:40:24.361Z"
   },
   {
    "duration": 61,
    "start_time": "2021-11-09T18:40:24.377Z"
   },
   {
    "duration": 17,
    "start_time": "2021-11-09T18:40:24.440Z"
   },
   {
    "duration": 13,
    "start_time": "2021-11-09T18:40:24.460Z"
   },
   {
    "duration": 9,
    "start_time": "2021-11-09T18:40:24.475Z"
   },
   {
    "duration": 150,
    "start_time": "2021-11-09T18:40:24.486Z"
   },
   {
    "duration": 16,
    "start_time": "2021-11-09T18:40:24.638Z"
   },
   {
    "duration": 43,
    "start_time": "2021-11-09T18:40:24.656Z"
   },
   {
    "duration": 725,
    "start_time": "2021-11-09T18:40:24.722Z"
   },
   {
    "duration": 18,
    "start_time": "2021-11-09T18:40:25.449Z"
   },
   {
    "duration": 1171,
    "start_time": "2021-11-09T18:40:25.469Z"
   },
   {
    "duration": 7,
    "start_time": "2021-11-09T18:40:26.643Z"
   },
   {
    "duration": 44,
    "start_time": "2021-11-09T18:40:26.652Z"
   },
   {
    "duration": 37,
    "start_time": "2021-11-09T18:40:26.699Z"
   },
   {
    "duration": 1309,
    "start_time": "2021-11-09T18:40:26.739Z"
   },
   {
    "duration": 8,
    "start_time": "2021-11-09T18:40:28.050Z"
   },
   {
    "duration": 63,
    "start_time": "2021-11-09T18:40:28.061Z"
   },
   {
    "duration": 1325,
    "start_time": "2021-11-09T18:40:28.127Z"
   },
   {
    "duration": 20,
    "start_time": "2021-11-09T18:40:29.456Z"
   },
   {
    "duration": 15,
    "start_time": "2021-11-09T18:40:29.479Z"
   },
   {
    "duration": 36,
    "start_time": "2021-11-09T18:40:29.497Z"
   },
   {
    "duration": 15,
    "start_time": "2021-11-09T18:40:29.535Z"
   },
   {
    "duration": 17,
    "start_time": "2021-11-09T18:40:29.552Z"
   },
   {
    "duration": 9,
    "start_time": "2021-11-09T18:40:29.571Z"
   },
   {
    "duration": 47,
    "start_time": "2021-11-09T18:40:29.582Z"
   },
   {
    "duration": 7,
    "start_time": "2021-11-09T18:40:29.631Z"
   },
   {
    "duration": 22,
    "start_time": "2021-11-09T18:40:29.641Z"
   },
   {
    "duration": 906,
    "start_time": "2021-11-09T18:40:29.665Z"
   },
   {
    "duration": 899,
    "start_time": "2021-11-09T18:40:30.573Z"
   },
   {
    "duration": 1188,
    "start_time": "2021-11-09T18:40:37.253Z"
   },
   {
    "duration": 3830,
    "start_time": "2021-11-09T18:47:55.128Z"
   },
   {
    "duration": 3617,
    "start_time": "2021-11-09T18:48:10.990Z"
   },
   {
    "duration": 1441,
    "start_time": "2021-11-09T18:48:14.610Z"
   },
   {
    "duration": 394,
    "start_time": "2021-11-09T18:48:16.054Z"
   },
   {
    "duration": 18,
    "start_time": "2021-11-09T18:48:16.451Z"
   },
   {
    "duration": 22,
    "start_time": "2021-11-09T18:48:16.471Z"
   },
   {
    "duration": 208,
    "start_time": "2021-11-09T18:48:16.496Z"
   },
   {
    "duration": 17,
    "start_time": "2021-11-09T18:48:16.706Z"
   },
   {
    "duration": 5,
    "start_time": "2021-11-09T18:48:16.727Z"
   },
   {
    "duration": 12,
    "start_time": "2021-11-09T18:48:16.736Z"
   },
   {
    "duration": 36,
    "start_time": "2021-11-09T18:48:16.750Z"
   },
   {
    "duration": 83,
    "start_time": "2021-11-09T18:48:16.788Z"
   },
   {
    "duration": 67,
    "start_time": "2021-11-09T18:48:16.873Z"
   },
   {
    "duration": 21,
    "start_time": "2021-11-09T18:48:16.943Z"
   },
   {
    "duration": 11,
    "start_time": "2021-11-09T18:48:16.966Z"
   },
   {
    "duration": 42,
    "start_time": "2021-11-09T18:48:16.980Z"
   },
   {
    "duration": 18,
    "start_time": "2021-11-09T18:48:17.025Z"
   },
   {
    "duration": 25,
    "start_time": "2021-11-09T18:48:17.045Z"
   },
   {
    "duration": 50,
    "start_time": "2021-11-09T18:48:17.072Z"
   },
   {
    "duration": 30,
    "start_time": "2021-11-09T18:48:17.124Z"
   },
   {
    "duration": 16,
    "start_time": "2021-11-09T18:48:17.157Z"
   },
   {
    "duration": 14,
    "start_time": "2021-11-09T18:48:17.175Z"
   },
   {
    "duration": 16,
    "start_time": "2021-11-09T18:48:17.191Z"
   },
   {
    "duration": 19,
    "start_time": "2021-11-09T18:48:17.212Z"
   },
   {
    "duration": 20,
    "start_time": "2021-11-09T18:48:17.235Z"
   },
   {
    "duration": 28,
    "start_time": "2021-11-09T18:48:17.258Z"
   },
   {
    "duration": 34,
    "start_time": "2021-11-09T18:48:17.289Z"
   },
   {
    "duration": 31,
    "start_time": "2021-11-09T18:48:17.326Z"
   },
   {
    "duration": 29,
    "start_time": "2021-11-09T18:48:17.359Z"
   },
   {
    "duration": 14,
    "start_time": "2021-11-09T18:48:17.390Z"
   },
   {
    "duration": 38,
    "start_time": "2021-11-09T18:48:17.407Z"
   },
   {
    "duration": 18,
    "start_time": "2021-11-09T18:48:17.448Z"
   },
   {
    "duration": 14,
    "start_time": "2021-11-09T18:48:17.468Z"
   },
   {
    "duration": 9,
    "start_time": "2021-11-09T18:48:17.484Z"
   },
   {
    "duration": 127,
    "start_time": "2021-11-09T18:48:17.495Z"
   },
   {
    "duration": 17,
    "start_time": "2021-11-09T18:48:17.625Z"
   },
   {
    "duration": 56,
    "start_time": "2021-11-09T18:48:17.645Z"
   },
   {
    "duration": 857,
    "start_time": "2021-11-09T18:48:17.703Z"
   },
   {
    "duration": 19,
    "start_time": "2021-11-09T18:48:18.563Z"
   },
   {
    "duration": 1441,
    "start_time": "2021-11-09T18:48:18.584Z"
   },
   {
    "duration": 8,
    "start_time": "2021-11-09T18:48:20.028Z"
   },
   {
    "duration": 52,
    "start_time": "2021-11-09T18:48:20.038Z"
   },
   {
    "duration": 42,
    "start_time": "2021-11-09T18:48:20.093Z"
   },
   {
    "duration": 1306,
    "start_time": "2021-11-09T18:48:20.137Z"
   },
   {
    "duration": 9,
    "start_time": "2021-11-09T18:48:21.445Z"
   },
   {
    "duration": 75,
    "start_time": "2021-11-09T18:48:21.456Z"
   },
   {
    "duration": 1320,
    "start_time": "2021-11-09T18:48:21.534Z"
   },
   {
    "duration": 20,
    "start_time": "2021-11-09T18:48:22.856Z"
   },
   {
    "duration": 17,
    "start_time": "2021-11-09T18:48:22.879Z"
   },
   {
    "duration": 10,
    "start_time": "2021-11-09T18:48:22.924Z"
   },
   {
    "duration": 13,
    "start_time": "2021-11-09T18:48:22.936Z"
   },
   {
    "duration": 25,
    "start_time": "2021-11-09T18:48:22.951Z"
   },
   {
    "duration": 44,
    "start_time": "2021-11-09T18:48:22.978Z"
   },
   {
    "duration": 26,
    "start_time": "2021-11-09T18:48:23.025Z"
   },
   {
    "duration": 15,
    "start_time": "2021-11-09T18:48:23.053Z"
   },
   {
    "duration": 53,
    "start_time": "2021-11-09T18:48:23.071Z"
   },
   {
    "duration": 935,
    "start_time": "2021-11-09T18:48:23.127Z"
   },
   {
    "duration": 1079,
    "start_time": "2021-11-09T18:48:24.065Z"
   },
   {
    "duration": 425,
    "start_time": "2021-11-09T18:49:29.490Z"
   },
   {
    "duration": 1254,
    "start_time": "2021-11-09T18:49:34.074Z"
   },
   {
    "duration": 25,
    "start_time": "2021-11-09T18:49:55.574Z"
   },
   {
    "duration": 9,
    "start_time": "2021-11-09T18:56:02.201Z"
   },
   {
    "duration": 4,
    "start_time": "2021-11-09T19:12:30.285Z"
   },
   {
    "duration": 1521,
    "start_time": "2021-11-09T19:12:30.292Z"
   },
   {
    "duration": 404,
    "start_time": "2021-11-09T19:12:31.816Z"
   },
   {
    "duration": 16,
    "start_time": "2021-11-09T19:12:32.222Z"
   },
   {
    "duration": 26,
    "start_time": "2021-11-09T19:12:32.240Z"
   },
   {
    "duration": 250,
    "start_time": "2021-11-09T19:12:32.268Z"
   },
   {
    "duration": 5,
    "start_time": "2021-11-09T19:12:32.524Z"
   },
   {
    "duration": 6,
    "start_time": "2021-11-09T19:12:32.532Z"
   },
   {
    "duration": 13,
    "start_time": "2021-11-09T19:12:32.541Z"
   },
   {
    "duration": 76,
    "start_time": "2021-11-09T19:12:32.557Z"
   },
   {
    "duration": 52,
    "start_time": "2021-11-09T19:12:32.636Z"
   },
   {
    "duration": 54,
    "start_time": "2021-11-09T19:12:32.690Z"
   },
   {
    "duration": 21,
    "start_time": "2021-11-09T19:12:32.747Z"
   },
   {
    "duration": 11,
    "start_time": "2021-11-09T19:12:32.770Z"
   },
   {
    "duration": 44,
    "start_time": "2021-11-09T19:12:32.784Z"
   },
   {
    "duration": 22,
    "start_time": "2021-11-09T19:12:32.831Z"
   },
   {
    "duration": 24,
    "start_time": "2021-11-09T19:12:32.855Z"
   },
   {
    "duration": 77,
    "start_time": "2021-11-09T19:12:32.882Z"
   },
   {
    "duration": 64,
    "start_time": "2021-11-09T19:12:32.964Z"
   },
   {
    "duration": 19,
    "start_time": "2021-11-09T19:12:33.032Z"
   },
   {
    "duration": 17,
    "start_time": "2021-11-09T19:12:33.055Z"
   },
   {
    "duration": 55,
    "start_time": "2021-11-09T19:12:33.075Z"
   },
   {
    "duration": 17,
    "start_time": "2021-11-09T19:12:33.133Z"
   },
   {
    "duration": 22,
    "start_time": "2021-11-09T19:12:33.153Z"
   },
   {
    "duration": 66,
    "start_time": "2021-11-09T19:12:33.178Z"
   },
   {
    "duration": 27,
    "start_time": "2021-11-09T19:12:33.246Z"
   },
   {
    "duration": 69,
    "start_time": "2021-11-09T19:12:33.276Z"
   },
   {
    "duration": 33,
    "start_time": "2021-11-09T19:12:33.349Z"
   },
   {
    "duration": 48,
    "start_time": "2021-11-09T19:12:33.385Z"
   },
   {
    "duration": 26,
    "start_time": "2021-11-09T19:12:33.435Z"
   },
   {
    "duration": 17,
    "start_time": "2021-11-09T19:12:33.464Z"
   },
   {
    "duration": 15,
    "start_time": "2021-11-09T19:12:33.524Z"
   },
   {
    "duration": 11,
    "start_time": "2021-11-09T19:12:33.543Z"
   },
   {
    "duration": 160,
    "start_time": "2021-11-09T19:12:33.557Z"
   },
   {
    "duration": 17,
    "start_time": "2021-11-09T19:12:33.719Z"
   },
   {
    "duration": 46,
    "start_time": "2021-11-09T19:12:33.739Z"
   },
   {
    "duration": 42,
    "start_time": "2021-11-09T19:12:33.788Z"
   },
   {
    "duration": 810,
    "start_time": "2021-11-09T19:12:33.833Z"
   },
   {
    "duration": 21,
    "start_time": "2021-11-09T19:12:34.646Z"
   },
   {
    "duration": 1269,
    "start_time": "2021-11-09T19:12:34.671Z"
   },
   {
    "duration": 9,
    "start_time": "2021-11-09T19:12:35.944Z"
   },
   {
    "duration": 90,
    "start_time": "2021-11-09T19:12:35.956Z"
   },
   {
    "duration": 14,
    "start_time": "2021-11-09T19:12:36.050Z"
   },
   {
    "duration": 1314,
    "start_time": "2021-11-09T19:12:36.067Z"
   },
   {
    "duration": 7,
    "start_time": "2021-11-09T19:12:37.384Z"
   },
   {
    "duration": 81,
    "start_time": "2021-11-09T19:12:37.393Z"
   },
   {
    "duration": 1524,
    "start_time": "2021-11-09T19:12:37.477Z"
   },
   {
    "duration": 34,
    "start_time": "2021-11-09T19:12:39.005Z"
   },
   {
    "duration": 10,
    "start_time": "2021-11-09T19:12:39.042Z"
   },
   {
    "duration": 12,
    "start_time": "2021-11-09T19:12:39.055Z"
   },
   {
    "duration": 55,
    "start_time": "2021-11-09T19:12:39.070Z"
   },
   {
    "duration": 15,
    "start_time": "2021-11-09T19:12:39.128Z"
   },
   {
    "duration": 9,
    "start_time": "2021-11-09T19:12:39.146Z"
   },
   {
    "duration": 66,
    "start_time": "2021-11-09T19:12:39.158Z"
   },
   {
    "duration": 7,
    "start_time": "2021-11-09T19:12:39.231Z"
   },
   {
    "duration": 27,
    "start_time": "2021-11-09T19:12:39.242Z"
   },
   {
    "duration": 1291,
    "start_time": "2021-11-09T19:12:39.272Z"
   },
   {
    "duration": 1018,
    "start_time": "2021-11-09T19:12:40.566Z"
   },
   {
    "duration": 27,
    "start_time": "2021-11-09T19:13:03.375Z"
   },
   {
    "duration": 27,
    "start_time": "2021-11-09T19:15:09.635Z"
   },
   {
    "duration": 3,
    "start_time": "2021-11-09T19:15:33.050Z"
   },
   {
    "duration": 5,
    "start_time": "2021-11-09T19:16:41.832Z"
   },
   {
    "duration": 1498,
    "start_time": "2021-11-09T19:16:41.839Z"
   },
   {
    "duration": 393,
    "start_time": "2021-11-09T19:16:43.340Z"
   },
   {
    "duration": 15,
    "start_time": "2021-11-09T19:16:43.736Z"
   },
   {
    "duration": 21,
    "start_time": "2021-11-09T19:16:43.753Z"
   },
   {
    "duration": 238,
    "start_time": "2021-11-09T19:16:43.776Z"
   },
   {
    "duration": 7,
    "start_time": "2021-11-09T19:16:44.017Z"
   },
   {
    "duration": 32,
    "start_time": "2021-11-09T19:16:44.027Z"
   },
   {
    "duration": 28,
    "start_time": "2021-11-09T19:16:44.063Z"
   },
   {
    "duration": 36,
    "start_time": "2021-11-09T19:16:44.094Z"
   },
   {
    "duration": 48,
    "start_time": "2021-11-09T19:16:44.133Z"
   },
   {
    "duration": 53,
    "start_time": "2021-11-09T19:16:44.184Z"
   },
   {
    "duration": 23,
    "start_time": "2021-11-09T19:16:44.239Z"
   },
   {
    "duration": 13,
    "start_time": "2021-11-09T19:16:44.265Z"
   },
   {
    "duration": 53,
    "start_time": "2021-11-09T19:16:44.281Z"
   },
   {
    "duration": 22,
    "start_time": "2021-11-09T19:16:44.337Z"
   },
   {
    "duration": 76,
    "start_time": "2021-11-09T19:16:44.362Z"
   },
   {
    "duration": 41,
    "start_time": "2021-11-09T19:16:44.442Z"
   },
   {
    "duration": 55,
    "start_time": "2021-11-09T19:16:44.485Z"
   },
   {
    "duration": 17,
    "start_time": "2021-11-09T19:16:44.542Z"
   },
   {
    "duration": 13,
    "start_time": "2021-11-09T19:16:44.561Z"
   },
   {
    "duration": 51,
    "start_time": "2021-11-09T19:16:44.576Z"
   },
   {
    "duration": 22,
    "start_time": "2021-11-09T19:16:44.630Z"
   },
   {
    "duration": 21,
    "start_time": "2021-11-09T19:16:44.654Z"
   },
   {
    "duration": 53,
    "start_time": "2021-11-09T19:16:44.677Z"
   },
   {
    "duration": 26,
    "start_time": "2021-11-09T19:16:44.733Z"
   },
   {
    "duration": 63,
    "start_time": "2021-11-09T19:16:44.765Z"
   },
   {
    "duration": 29,
    "start_time": "2021-11-09T19:16:44.831Z"
   },
   {
    "duration": 13,
    "start_time": "2021-11-09T19:16:44.863Z"
   },
   {
    "duration": 67,
    "start_time": "2021-11-09T19:16:44.878Z"
   },
   {
    "duration": 18,
    "start_time": "2021-11-09T19:16:44.949Z"
   },
   {
    "duration": 23,
    "start_time": "2021-11-09T19:16:44.969Z"
   },
   {
    "duration": 8,
    "start_time": "2021-11-09T19:16:45.023Z"
   },
   {
    "duration": 139,
    "start_time": "2021-11-09T19:16:45.035Z"
   },
   {
    "duration": 18,
    "start_time": "2021-11-09T19:16:45.177Z"
   },
   {
    "duration": 69,
    "start_time": "2021-11-09T19:16:45.199Z"
   },
   {
    "duration": 8,
    "start_time": "2021-11-09T19:16:45.271Z"
   },
   {
    "duration": 71,
    "start_time": "2021-11-09T19:16:45.281Z"
   },
   {
    "duration": 26,
    "start_time": "2021-11-09T19:16:45.354Z"
   },
   {
    "duration": 747,
    "start_time": "2021-11-09T19:16:45.382Z"
   },
   {
    "duration": 19,
    "start_time": "2021-11-09T19:16:46.131Z"
   },
   {
    "duration": 10,
    "start_time": "2021-11-09T19:16:46.153Z"
   },
   {
    "duration": 20,
    "start_time": "2021-11-09T19:16:46.166Z"
   },
   {
    "duration": 77,
    "start_time": "2021-11-09T19:16:46.189Z"
   },
   {
    "duration": 14,
    "start_time": "2021-11-09T19:16:46.270Z"
   },
   {
    "duration": 1292,
    "start_time": "2021-11-09T19:16:46.287Z"
   },
   {
    "duration": 8,
    "start_time": "2021-11-09T19:16:47.582Z"
   },
   {
    "duration": 70,
    "start_time": "2021-11-09T19:16:47.592Z"
   },
   {
    "duration": 1410,
    "start_time": "2021-11-09T19:16:47.664Z"
   },
   {
    "duration": 18,
    "start_time": "2021-11-09T19:16:49.077Z"
   },
   {
    "duration": 30,
    "start_time": "2021-11-09T19:16:49.097Z"
   },
   {
    "duration": 11,
    "start_time": "2021-11-09T19:16:49.130Z"
   },
   {
    "duration": 9,
    "start_time": "2021-11-09T19:16:49.143Z"
   },
   {
    "duration": 13,
    "start_time": "2021-11-09T19:16:49.155Z"
   },
   {
    "duration": 51,
    "start_time": "2021-11-09T19:16:49.171Z"
   },
   {
    "duration": 27,
    "start_time": "2021-11-09T19:16:49.225Z"
   },
   {
    "duration": 8,
    "start_time": "2021-11-09T19:16:49.255Z"
   },
   {
    "duration": 69,
    "start_time": "2021-11-09T19:16:49.265Z"
   },
   {
    "duration": 940,
    "start_time": "2021-11-09T19:16:49.337Z"
   },
   {
    "duration": 989,
    "start_time": "2021-11-09T19:16:50.279Z"
   },
   {
    "duration": 798,
    "start_time": "2021-11-09T19:24:03.224Z"
   },
   {
    "duration": 736,
    "start_time": "2021-11-09T19:24:17.445Z"
   },
   {
    "duration": 605,
    "start_time": "2021-11-09T19:24:24.970Z"
   },
   {
    "duration": 725,
    "start_time": "2021-11-09T19:25:42.405Z"
   },
   {
    "duration": 642,
    "start_time": "2021-11-09T19:25:51.194Z"
   },
   {
    "duration": 629,
    "start_time": "2021-11-09T19:26:04.973Z"
   },
   {
    "duration": 619,
    "start_time": "2021-11-09T19:27:14.765Z"
   },
   {
    "duration": 609,
    "start_time": "2021-11-09T19:27:34.242Z"
   },
   {
    "duration": 96,
    "start_time": "2021-11-09T19:27:57.448Z"
   },
   {
    "duration": 99,
    "start_time": "2021-11-09T19:28:02.863Z"
   },
   {
    "duration": 102,
    "start_time": "2021-11-09T19:29:19.334Z"
   },
   {
    "duration": 123,
    "start_time": "2021-11-09T19:31:00.305Z"
   },
   {
    "duration": 95,
    "start_time": "2021-11-09T19:31:38.825Z"
   },
   {
    "duration": 140,
    "start_time": "2021-11-09T19:34:35.801Z"
   },
   {
    "duration": 783,
    "start_time": "2021-11-09T19:34:40.429Z"
   },
   {
    "duration": 661,
    "start_time": "2021-11-09T19:34:51.167Z"
   },
   {
    "duration": 616,
    "start_time": "2021-11-09T19:34:57.671Z"
   },
   {
    "duration": 630,
    "start_time": "2021-11-09T19:35:44.522Z"
   },
   {
    "duration": 96,
    "start_time": "2021-11-09T19:52:39.369Z"
   },
   {
    "duration": 89,
    "start_time": "2021-11-09T19:52:46.375Z"
   },
   {
    "duration": 113,
    "start_time": "2021-11-09T19:53:11.848Z"
   },
   {
    "duration": 99,
    "start_time": "2021-11-09T19:54:49.213Z"
   },
   {
    "duration": 137,
    "start_time": "2021-11-09T19:55:24.020Z"
   },
   {
    "duration": 312,
    "start_time": "2021-11-09T20:00:42.045Z"
   },
   {
    "duration": 98,
    "start_time": "2021-11-09T20:00:53.852Z"
   },
   {
    "duration": 7,
    "start_time": "2021-11-09T20:01:14.745Z"
   },
   {
    "duration": 99,
    "start_time": "2021-11-09T20:02:24.745Z"
   },
   {
    "duration": 106,
    "start_time": "2021-11-09T20:02:58.873Z"
   },
   {
    "duration": 127,
    "start_time": "2021-11-09T20:03:04.497Z"
   },
   {
    "duration": 8,
    "start_time": "2021-11-09T20:04:07.783Z"
   },
   {
    "duration": 412,
    "start_time": "2021-11-09T20:04:48.380Z"
   },
   {
    "duration": 587,
    "start_time": "2021-11-09T20:04:55.813Z"
   },
   {
    "duration": 283,
    "start_time": "2021-11-09T20:05:24.147Z"
   },
   {
    "duration": 1016,
    "start_time": "2021-11-09T20:05:32.797Z"
   },
   {
    "duration": 7,
    "start_time": "2021-11-09T20:06:16.228Z"
   },
   {
    "duration": 630,
    "start_time": "2021-11-09T20:06:18.383Z"
   },
   {
    "duration": 8,
    "start_time": "2021-11-09T20:07:21.476Z"
   },
   {
    "duration": 689,
    "start_time": "2021-11-09T20:07:24.010Z"
   },
   {
    "duration": 7,
    "start_time": "2021-11-09T20:07:33.418Z"
   },
   {
    "duration": 651,
    "start_time": "2021-11-09T20:07:35.551Z"
   },
   {
    "duration": 8,
    "start_time": "2021-11-09T20:07:43.528Z"
   },
   {
    "duration": 624,
    "start_time": "2021-11-09T20:07:45.808Z"
   },
   {
    "duration": 8,
    "start_time": "2021-11-09T20:08:16.692Z"
   },
   {
    "duration": 1095,
    "start_time": "2021-11-09T20:08:19.584Z"
   },
   {
    "duration": 8,
    "start_time": "2021-11-09T20:08:42.820Z"
   },
   {
    "duration": 1633,
    "start_time": "2021-11-09T20:08:45.338Z"
   },
   {
    "duration": 8,
    "start_time": "2021-11-09T20:09:08.127Z"
   },
   {
    "duration": 1258,
    "start_time": "2021-11-09T20:09:10.183Z"
   },
   {
    "duration": 7,
    "start_time": "2021-11-09T20:09:19.685Z"
   },
   {
    "duration": 1234,
    "start_time": "2021-11-09T20:09:27.725Z"
   },
   {
    "duration": 8,
    "start_time": "2021-11-09T20:09:52.187Z"
   },
   {
    "duration": 726,
    "start_time": "2021-11-09T20:09:54.619Z"
   },
   {
    "duration": 8,
    "start_time": "2021-11-09T20:10:14.084Z"
   },
   {
    "duration": 1195,
    "start_time": "2021-11-09T20:10:16.906Z"
   },
   {
    "duration": 8,
    "start_time": "2021-11-09T20:10:32.339Z"
   },
   {
    "duration": 1165,
    "start_time": "2021-11-09T20:10:34.314Z"
   },
   {
    "duration": 8,
    "start_time": "2021-11-09T20:11:00.527Z"
   },
   {
    "duration": 648,
    "start_time": "2021-11-09T20:11:02.331Z"
   },
   {
    "duration": 291,
    "start_time": "2021-11-09T20:11:57.170Z"
   },
   {
    "duration": 621,
    "start_time": "2021-11-09T20:12:11.913Z"
   },
   {
    "duration": 5,
    "start_time": "2021-11-09T20:32:25.393Z"
   },
   {
    "duration": 1578,
    "start_time": "2021-11-09T20:32:25.401Z"
   },
   {
    "duration": 403,
    "start_time": "2021-11-09T20:32:26.982Z"
   },
   {
    "duration": 16,
    "start_time": "2021-11-09T20:32:27.388Z"
   },
   {
    "duration": 23,
    "start_time": "2021-11-09T20:32:27.407Z"
   },
   {
    "duration": 223,
    "start_time": "2021-11-09T20:32:27.433Z"
   },
   {
    "duration": 6,
    "start_time": "2021-11-09T20:32:27.661Z"
   },
   {
    "duration": 7,
    "start_time": "2021-11-09T20:32:27.670Z"
   },
   {
    "duration": 48,
    "start_time": "2021-11-09T20:32:27.680Z"
   },
   {
    "duration": 33,
    "start_time": "2021-11-09T20:32:27.730Z"
   },
   {
    "duration": 91,
    "start_time": "2021-11-09T20:32:27.766Z"
   },
   {
    "duration": 41,
    "start_time": "2021-11-09T20:32:27.860Z"
   },
   {
    "duration": 44,
    "start_time": "2021-11-09T20:32:27.904Z"
   },
   {
    "duration": 11,
    "start_time": "2021-11-09T20:32:27.950Z"
   },
   {
    "duration": 13,
    "start_time": "2021-11-09T20:32:27.963Z"
   },
   {
    "duration": 50,
    "start_time": "2021-11-09T20:32:27.979Z"
   },
   {
    "duration": 24,
    "start_time": "2021-11-09T20:32:28.032Z"
   },
   {
    "duration": 63,
    "start_time": "2021-11-09T20:32:28.059Z"
   },
   {
    "duration": 34,
    "start_time": "2021-11-09T20:32:28.128Z"
   },
   {
    "duration": 19,
    "start_time": "2021-11-09T20:32:28.166Z"
   },
   {
    "duration": 37,
    "start_time": "2021-11-09T20:32:28.187Z"
   },
   {
    "duration": 11,
    "start_time": "2021-11-09T20:32:28.226Z"
   },
   {
    "duration": 16,
    "start_time": "2021-11-09T20:32:28.239Z"
   },
   {
    "duration": 19,
    "start_time": "2021-11-09T20:32:28.258Z"
   },
   {
    "duration": 65,
    "start_time": "2021-11-09T20:32:28.279Z"
   },
   {
    "duration": 26,
    "start_time": "2021-11-09T20:32:28.346Z"
   },
   {
    "duration": 57,
    "start_time": "2021-11-09T20:32:28.374Z"
   },
   {
    "duration": 30,
    "start_time": "2021-11-09T20:32:28.434Z"
   },
   {
    "duration": 15,
    "start_time": "2021-11-09T20:32:28.466Z"
   },
   {
    "duration": 58,
    "start_time": "2021-11-09T20:32:28.483Z"
   },
   {
    "duration": 16,
    "start_time": "2021-11-09T20:32:28.543Z"
   },
   {
    "duration": 13,
    "start_time": "2021-11-09T20:32:28.562Z"
   },
   {
    "duration": 8,
    "start_time": "2021-11-09T20:32:28.578Z"
   },
   {
    "duration": 149,
    "start_time": "2021-11-09T20:32:28.588Z"
   },
   {
    "duration": 20,
    "start_time": "2021-11-09T20:32:28.740Z"
   },
   {
    "duration": 72,
    "start_time": "2021-11-09T20:32:28.762Z"
   },
   {
    "duration": 9,
    "start_time": "2021-11-09T20:32:28.837Z"
   },
   {
    "duration": 30,
    "start_time": "2021-11-09T20:32:28.848Z"
   },
   {
    "duration": 58,
    "start_time": "2021-11-09T20:32:28.881Z"
   },
   {
    "duration": 9,
    "start_time": "2021-11-09T20:32:28.942Z"
   },
   {
    "duration": 646,
    "start_time": "2021-11-09T20:32:28.954Z"
   },
   {
    "duration": 629,
    "start_time": "2021-11-09T20:32:29.603Z"
   },
   {
    "duration": 657,
    "start_time": "2021-11-09T20:32:30.235Z"
   },
   {
    "duration": 38,
    "start_time": "2021-11-09T20:32:30.895Z"
   },
   {
    "duration": 4,
    "start_time": "2021-11-09T20:32:30.936Z"
   },
   {
    "duration": 15,
    "start_time": "2021-11-09T20:32:30.943Z"
   },
   {
    "duration": 74,
    "start_time": "2021-11-09T20:32:30.961Z"
   },
   {
    "duration": 16,
    "start_time": "2021-11-09T20:32:31.039Z"
   },
   {
    "duration": 1417,
    "start_time": "2021-11-09T20:32:31.058Z"
   },
   {
    "duration": 8,
    "start_time": "2021-11-09T20:32:32.479Z"
   },
   {
    "duration": 71,
    "start_time": "2021-11-09T20:32:32.490Z"
   },
   {
    "duration": 1304,
    "start_time": "2021-11-09T20:32:32.564Z"
   },
   {
    "duration": 20,
    "start_time": "2021-11-09T20:32:33.871Z"
   },
   {
    "duration": 30,
    "start_time": "2021-11-09T20:32:33.895Z"
   },
   {
    "duration": 10,
    "start_time": "2021-11-09T20:32:33.934Z"
   },
   {
    "duration": 7,
    "start_time": "2021-11-09T20:32:33.947Z"
   },
   {
    "duration": 15,
    "start_time": "2021-11-09T20:32:33.957Z"
   },
   {
    "duration": 55,
    "start_time": "2021-11-09T20:32:33.974Z"
   },
   {
    "duration": 26,
    "start_time": "2021-11-09T20:32:34.032Z"
   },
   {
    "duration": 10,
    "start_time": "2021-11-09T20:32:34.060Z"
   },
   {
    "duration": 65,
    "start_time": "2021-11-09T20:32:34.072Z"
   },
   {
    "duration": 945,
    "start_time": "2021-11-09T20:32:34.140Z"
   },
   {
    "duration": 1068,
    "start_time": "2021-11-09T20:32:35.089Z"
   },
   {
    "duration": 1126,
    "start_time": "2021-11-09T20:33:33.904Z"
   },
   {
    "duration": 7,
    "start_time": "2021-11-09T20:40:53.073Z"
   },
   {
    "duration": 15,
    "start_time": "2021-11-09T20:41:03.801Z"
   },
   {
    "duration": 29,
    "start_time": "2021-11-09T20:41:10.942Z"
   },
   {
    "duration": 479,
    "start_time": "2021-11-09T20:42:06.920Z"
   },
   {
    "duration": 11,
    "start_time": "2021-11-09T20:42:13.947Z"
   },
   {
    "duration": 284,
    "start_time": "2021-11-09T20:44:37.761Z"
   },
   {
    "duration": 4,
    "start_time": "2021-11-09T20:45:22.088Z"
   },
   {
    "duration": 560,
    "start_time": "2021-11-09T20:45:40.992Z"
   },
   {
    "duration": 11,
    "start_time": "2021-11-09T20:46:04.774Z"
   },
   {
    "duration": 7,
    "start_time": "2021-11-09T20:46:25.945Z"
   },
   {
    "duration": 5,
    "start_time": "2021-11-09T20:54:39.172Z"
   },
   {
    "duration": 29,
    "start_time": "2021-11-09T20:55:21.323Z"
   },
   {
    "duration": 30,
    "start_time": "2021-11-09T20:55:38.647Z"
   },
   {
    "duration": 6750,
    "start_time": "2021-11-09T20:56:43.008Z"
   },
   {
    "duration": 8,
    "start_time": "2021-11-09T20:57:00.598Z"
   },
   {
    "duration": 8,
    "start_time": "2021-11-09T20:58:11.508Z"
   },
   {
    "duration": 8,
    "start_time": "2021-11-09T20:58:48.402Z"
   },
   {
    "duration": 295,
    "start_time": "2021-11-09T21:06:46.052Z"
   },
   {
    "duration": 34,
    "start_time": "2021-11-09T21:06:51.535Z"
   },
   {
    "duration": 29,
    "start_time": "2021-11-09T21:07:59.311Z"
   },
   {
    "duration": 408,
    "start_time": "2021-11-09T21:08:40.124Z"
   },
   {
    "duration": 402,
    "start_time": "2021-11-09T21:10:32.483Z"
   },
   {
    "duration": 366,
    "start_time": "2021-11-09T21:10:53.706Z"
   },
   {
    "duration": 349,
    "start_time": "2021-11-09T21:11:05.241Z"
   },
   {
    "duration": 323,
    "start_time": "2021-11-09T21:11:10.595Z"
   },
   {
    "duration": 324,
    "start_time": "2021-11-09T21:11:25.874Z"
   },
   {
    "duration": 5,
    "start_time": "2021-11-10T07:44:48.736Z"
   },
   {
    "duration": 1527,
    "start_time": "2021-11-10T07:44:48.744Z"
   },
   {
    "duration": 402,
    "start_time": "2021-11-10T07:44:50.275Z"
   },
   {
    "duration": 16,
    "start_time": "2021-11-10T07:44:50.680Z"
   },
   {
    "duration": 20,
    "start_time": "2021-11-10T07:44:50.699Z"
   },
   {
    "duration": 221,
    "start_time": "2021-11-10T07:44:50.721Z"
   },
   {
    "duration": 4,
    "start_time": "2021-11-10T07:44:50.945Z"
   },
   {
    "duration": 12,
    "start_time": "2021-11-10T07:44:50.952Z"
   },
   {
    "duration": 21,
    "start_time": "2021-11-10T07:44:50.968Z"
   },
   {
    "duration": 31,
    "start_time": "2021-11-10T07:44:51.002Z"
   },
   {
    "duration": 77,
    "start_time": "2021-11-10T07:44:51.035Z"
   },
   {
    "duration": 29,
    "start_time": "2021-11-10T07:44:51.115Z"
   },
   {
    "duration": 20,
    "start_time": "2021-11-10T07:44:51.146Z"
   },
   {
    "duration": 35,
    "start_time": "2021-11-10T07:44:51.168Z"
   },
   {
    "duration": 18,
    "start_time": "2021-11-10T07:44:51.205Z"
   },
   {
    "duration": 26,
    "start_time": "2021-11-10T07:44:51.226Z"
   },
   {
    "duration": 54,
    "start_time": "2021-11-10T07:44:51.255Z"
   },
   {
    "duration": 41,
    "start_time": "2021-11-10T07:44:51.313Z"
   },
   {
    "duration": 64,
    "start_time": "2021-11-10T07:44:51.357Z"
   },
   {
    "duration": 18,
    "start_time": "2021-11-10T07:44:51.424Z"
   },
   {
    "duration": 14,
    "start_time": "2021-11-10T07:44:51.444Z"
   },
   {
    "duration": 15,
    "start_time": "2021-11-10T07:44:51.460Z"
   },
   {
    "duration": 15,
    "start_time": "2021-11-10T07:44:51.501Z"
   },
   {
    "duration": 22,
    "start_time": "2021-11-10T07:44:51.518Z"
   },
   {
    "duration": 60,
    "start_time": "2021-11-10T07:44:51.542Z"
   },
   {
    "duration": 27,
    "start_time": "2021-11-10T07:44:51.605Z"
   },
   {
    "duration": 32,
    "start_time": "2021-11-10T07:44:51.637Z"
   },
   {
    "duration": 55,
    "start_time": "2021-11-10T07:44:51.672Z"
   },
   {
    "duration": 14,
    "start_time": "2021-11-10T07:44:51.729Z"
   },
   {
    "duration": 33,
    "start_time": "2021-11-10T07:44:51.745Z"
   },
   {
    "duration": 35,
    "start_time": "2021-11-10T07:44:51.780Z"
   },
   {
    "duration": 17,
    "start_time": "2021-11-10T07:44:51.818Z"
   },
   {
    "duration": 9,
    "start_time": "2021-11-10T07:44:51.837Z"
   },
   {
    "duration": 148,
    "start_time": "2021-11-10T07:44:51.849Z"
   },
   {
    "duration": 17,
    "start_time": "2021-11-10T07:44:52.001Z"
   },
   {
    "duration": 56,
    "start_time": "2021-11-10T07:44:52.020Z"
   },
   {
    "duration": 29,
    "start_time": "2021-11-10T07:44:52.078Z"
   },
   {
    "duration": 32,
    "start_time": "2021-11-10T07:44:52.110Z"
   },
   {
    "duration": 28,
    "start_time": "2021-11-10T07:44:52.145Z"
   },
   {
    "duration": 8,
    "start_time": "2021-11-10T07:44:52.200Z"
   },
   {
    "duration": 641,
    "start_time": "2021-11-10T07:44:52.210Z"
   },
   {
    "duration": 647,
    "start_time": "2021-11-10T07:44:52.854Z"
   },
   {
    "duration": 660,
    "start_time": "2021-11-10T07:44:53.504Z"
   },
   {
    "duration": 51,
    "start_time": "2021-11-10T07:44:54.167Z"
   },
   {
    "duration": 390,
    "start_time": "2021-11-10T07:44:54.221Z"
   },
   {
    "duration": 347,
    "start_time": "2021-11-10T07:44:54.614Z"
   },
   {
    "duration": 6,
    "start_time": "2021-11-10T07:44:54.963Z"
   },
   {
    "duration": 28,
    "start_time": "2021-11-10T07:44:54.972Z"
   },
   {
    "duration": 9,
    "start_time": "2021-11-10T07:44:55.002Z"
   },
   {
    "duration": 14,
    "start_time": "2021-11-10T07:44:55.014Z"
   },
   {
    "duration": 21,
    "start_time": "2021-11-10T07:44:55.031Z"
   },
   {
    "duration": 10,
    "start_time": "2021-11-10T07:44:55.054Z"
   },
   {
    "duration": 37,
    "start_time": "2021-11-10T07:44:55.066Z"
   },
   {
    "duration": 23,
    "start_time": "2021-11-10T07:44:55.105Z"
   },
   {
    "duration": 918,
    "start_time": "2021-11-10T07:44:55.131Z"
   },
   {
    "duration": 891,
    "start_time": "2021-11-10T07:44:56.052Z"
   },
   {
    "duration": 24,
    "start_time": "2021-11-10T07:46:22.525Z"
   },
   {
    "duration": 25,
    "start_time": "2021-11-10T07:46:32.595Z"
   },
   {
    "duration": 30,
    "start_time": "2021-11-10T07:47:27.516Z"
   },
   {
    "duration": 7,
    "start_time": "2021-11-10T08:06:33.989Z"
   },
   {
    "duration": 613,
    "start_time": "2021-11-10T08:06:36.129Z"
   },
   {
    "duration": 616,
    "start_time": "2021-11-10T08:07:13.228Z"
   },
   {
    "duration": 719,
    "start_time": "2021-11-10T08:07:25.405Z"
   },
   {
    "duration": 8,
    "start_time": "2021-11-10T08:09:28.933Z"
   },
   {
    "duration": 622,
    "start_time": "2021-11-10T08:09:30.717Z"
   },
   {
    "duration": 605,
    "start_time": "2021-11-10T08:09:35.767Z"
   },
   {
    "duration": 627,
    "start_time": "2021-11-10T08:09:40.649Z"
   },
   {
    "duration": 4,
    "start_time": "2021-11-10T08:11:18.170Z"
   },
   {
    "duration": 18,
    "start_time": "2021-11-10T08:12:26.134Z"
   },
   {
    "duration": 1605,
    "start_time": "2021-11-10T08:21:21.165Z"
   },
   {
    "duration": 411,
    "start_time": "2021-11-10T08:21:22.773Z"
   },
   {
    "duration": 16,
    "start_time": "2021-11-10T08:21:23.187Z"
   },
   {
    "duration": 26,
    "start_time": "2021-11-10T08:21:23.205Z"
   },
   {
    "duration": 225,
    "start_time": "2021-11-10T08:21:23.233Z"
   },
   {
    "duration": 5,
    "start_time": "2021-11-10T08:21:23.460Z"
   },
   {
    "duration": 13,
    "start_time": "2021-11-10T08:21:23.468Z"
   },
   {
    "duration": 31,
    "start_time": "2021-11-10T08:21:23.501Z"
   },
   {
    "duration": 71,
    "start_time": "2021-11-10T08:21:23.536Z"
   },
   {
    "duration": 29,
    "start_time": "2021-11-10T08:21:23.611Z"
   },
   {
    "duration": 21,
    "start_time": "2021-11-10T08:21:23.643Z"
   },
   {
    "duration": 36,
    "start_time": "2021-11-10T08:21:23.667Z"
   },
   {
    "duration": 13,
    "start_time": "2021-11-10T08:21:23.706Z"
   },
   {
    "duration": 21,
    "start_time": "2021-11-10T08:21:23.721Z"
   },
   {
    "duration": 57,
    "start_time": "2021-11-10T08:21:23.745Z"
   },
   {
    "duration": 41,
    "start_time": "2021-11-10T08:21:23.804Z"
   },
   {
    "duration": 53,
    "start_time": "2021-11-10T08:21:23.848Z"
   },
   {
    "duration": 17,
    "start_time": "2021-11-10T08:21:23.904Z"
   },
   {
    "duration": 13,
    "start_time": "2021-11-10T08:21:23.924Z"
   },
   {
    "duration": 12,
    "start_time": "2021-11-10T08:21:23.939Z"
   },
   {
    "duration": 15,
    "start_time": "2021-11-10T08:21:23.954Z"
   },
   {
    "duration": 21,
    "start_time": "2021-11-10T08:21:24.001Z"
   },
   {
    "duration": 29,
    "start_time": "2021-11-10T08:21:24.024Z"
   },
   {
    "duration": 55,
    "start_time": "2021-11-10T08:21:24.055Z"
   },
   {
    "duration": 32,
    "start_time": "2021-11-10T08:21:24.113Z"
   },
   {
    "duration": 53,
    "start_time": "2021-11-10T08:21:24.147Z"
   },
   {
    "duration": 15,
    "start_time": "2021-11-10T08:21:24.206Z"
   },
   {
    "duration": 27,
    "start_time": "2021-11-10T08:21:24.225Z"
   },
   {
    "duration": 48,
    "start_time": "2021-11-10T08:21:24.254Z"
   },
   {
    "duration": 13,
    "start_time": "2021-11-10T08:21:24.305Z"
   },
   {
    "duration": 9,
    "start_time": "2021-11-10T08:21:24.321Z"
   },
   {
    "duration": 152,
    "start_time": "2021-11-10T08:21:24.332Z"
   },
   {
    "duration": 23,
    "start_time": "2021-11-10T08:21:24.487Z"
   },
   {
    "duration": 13,
    "start_time": "2021-11-10T08:21:24.513Z"
   },
   {
    "duration": 31,
    "start_time": "2021-11-10T08:21:24.529Z"
   },
   {
    "duration": 58,
    "start_time": "2021-11-10T08:21:24.563Z"
   },
   {
    "duration": 7,
    "start_time": "2021-11-10T08:21:24.624Z"
   },
   {
    "duration": 659,
    "start_time": "2021-11-10T08:21:24.633Z"
   },
   {
    "duration": 636,
    "start_time": "2021-11-10T08:21:25.294Z"
   },
   {
    "duration": 645,
    "start_time": "2021-11-10T08:21:25.933Z"
   },
   {
    "duration": 38,
    "start_time": "2021-11-10T08:21:26.580Z"
   },
   {
    "duration": 317,
    "start_time": "2021-11-10T08:21:26.620Z"
   },
   {
    "duration": 396,
    "start_time": "2021-11-10T08:21:26.939Z"
   },
   {
    "duration": 5,
    "start_time": "2021-11-10T08:21:27.338Z"
   },
   {
    "duration": 11,
    "start_time": "2021-11-10T08:21:27.346Z"
   },
   {
    "duration": 14,
    "start_time": "2021-11-10T08:21:27.359Z"
   },
   {
    "duration": 27,
    "start_time": "2021-11-10T08:21:27.376Z"
   },
   {
    "duration": 13,
    "start_time": "2021-11-10T08:21:27.405Z"
   },
   {
    "duration": 10,
    "start_time": "2021-11-10T08:21:27.420Z"
   },
   {
    "duration": 8,
    "start_time": "2021-11-10T08:21:27.432Z"
   },
   {
    "duration": 17,
    "start_time": "2021-11-10T08:21:27.443Z"
   },
   {
    "duration": 909,
    "start_time": "2021-11-10T08:21:27.463Z"
   },
   {
    "duration": 882,
    "start_time": "2021-11-10T08:21:28.375Z"
   },
   {
    "duration": 630,
    "start_time": "2021-11-10T08:21:37.821Z"
   },
   {
    "duration": 5,
    "start_time": "2021-11-10T08:21:41.348Z"
   },
   {
    "duration": 405,
    "start_time": "2021-11-10T08:21:41.355Z"
   },
   {
    "duration": 11,
    "start_time": "2021-11-10T08:21:41.763Z"
   },
   {
    "duration": 23,
    "start_time": "2021-11-10T08:21:41.777Z"
   },
   {
    "duration": 198,
    "start_time": "2021-11-10T08:21:41.802Z"
   },
   {
    "duration": 4,
    "start_time": "2021-11-10T08:21:42.003Z"
   },
   {
    "duration": 14,
    "start_time": "2021-11-10T08:21:42.010Z"
   },
   {
    "duration": 29,
    "start_time": "2021-11-10T08:21:42.026Z"
   },
   {
    "duration": 81,
    "start_time": "2021-11-10T08:21:42.059Z"
   },
   {
    "duration": 58,
    "start_time": "2021-11-10T08:21:42.143Z"
   },
   {
    "duration": 20,
    "start_time": "2021-11-10T08:21:42.203Z"
   },
   {
    "duration": 12,
    "start_time": "2021-11-10T08:21:42.226Z"
   },
   {
    "duration": 13,
    "start_time": "2021-11-10T08:21:42.241Z"
   },
   {
    "duration": 55,
    "start_time": "2021-11-10T08:21:42.257Z"
   },
   {
    "duration": 24,
    "start_time": "2021-11-10T08:21:42.314Z"
   },
   {
    "duration": 72,
    "start_time": "2021-11-10T08:21:42.341Z"
   },
   {
    "duration": 32,
    "start_time": "2021-11-10T08:21:42.416Z"
   },
   {
    "duration": 13,
    "start_time": "2021-11-10T08:21:42.450Z"
   },
   {
    "duration": 43,
    "start_time": "2021-11-10T08:21:42.465Z"
   },
   {
    "duration": 14,
    "start_time": "2021-11-10T08:21:42.510Z"
   },
   {
    "duration": 15,
    "start_time": "2021-11-10T08:21:42.526Z"
   },
   {
    "duration": 55,
    "start_time": "2021-11-10T08:21:42.544Z"
   },
   {
    "duration": 32,
    "start_time": "2021-11-10T08:21:42.602Z"
   },
   {
    "duration": 28,
    "start_time": "2021-11-10T08:21:42.641Z"
   },
   {
    "duration": 60,
    "start_time": "2021-11-10T08:21:42.673Z"
   },
   {
    "duration": 32,
    "start_time": "2021-11-10T08:21:42.736Z"
   },
   {
    "duration": 45,
    "start_time": "2021-11-10T08:21:42.770Z"
   },
   {
    "duration": 29,
    "start_time": "2021-11-10T08:21:42.818Z"
   },
   {
    "duration": 57,
    "start_time": "2021-11-10T08:21:42.850Z"
   },
   {
    "duration": 14,
    "start_time": "2021-11-10T08:21:42.910Z"
   },
   {
    "duration": 10,
    "start_time": "2021-11-10T08:21:42.927Z"
   },
   {
    "duration": 168,
    "start_time": "2021-11-10T08:21:42.940Z"
   },
   {
    "duration": 21,
    "start_time": "2021-11-10T08:21:43.111Z"
   },
   {
    "duration": 14,
    "start_time": "2021-11-10T08:21:43.134Z"
   },
   {
    "duration": 63,
    "start_time": "2021-11-10T08:21:43.151Z"
   },
   {
    "duration": 28,
    "start_time": "2021-11-10T08:21:43.216Z"
   },
   {
    "duration": 7,
    "start_time": "2021-11-10T08:21:43.246Z"
   },
   {
    "duration": 657,
    "start_time": "2021-11-10T08:21:43.256Z"
   },
   {
    "duration": 648,
    "start_time": "2021-11-10T08:21:43.915Z"
   },
   {
    "duration": 803,
    "start_time": "2021-11-10T08:21:44.567Z"
   },
   {
    "duration": 44,
    "start_time": "2021-11-10T08:21:45.373Z"
   },
   {
    "duration": 315,
    "start_time": "2021-11-10T08:21:45.421Z"
   },
   {
    "duration": 321,
    "start_time": "2021-11-10T08:21:45.739Z"
   },
   {
    "duration": 5,
    "start_time": "2021-11-10T08:21:46.062Z"
   },
   {
    "duration": 12,
    "start_time": "2021-11-10T08:21:46.070Z"
   },
   {
    "duration": 17,
    "start_time": "2021-11-10T08:21:46.085Z"
   },
   {
    "duration": 18,
    "start_time": "2021-11-10T08:21:46.105Z"
   },
   {
    "duration": 31,
    "start_time": "2021-11-10T08:21:46.125Z"
   },
   {
    "duration": 10,
    "start_time": "2021-11-10T08:21:46.159Z"
   },
   {
    "duration": 18,
    "start_time": "2021-11-10T08:21:46.171Z"
   },
   {
    "duration": 9,
    "start_time": "2021-11-10T08:21:46.200Z"
   },
   {
    "duration": 875,
    "start_time": "2021-11-10T08:21:46.211Z"
   },
   {
    "duration": 893,
    "start_time": "2021-11-10T08:21:47.089Z"
   },
   {
    "duration": 604,
    "start_time": "2021-11-10T08:21:56.976Z"
   },
   {
    "duration": 730,
    "start_time": "2021-11-10T08:22:13.343Z"
   },
   {
    "duration": 623,
    "start_time": "2021-11-10T08:22:38.780Z"
   },
   {
    "duration": 7,
    "start_time": "2021-11-10T08:27:52.027Z"
   },
   {
    "duration": 1559,
    "start_time": "2021-11-10T10:38:20.120Z"
   },
   {
    "duration": 457,
    "start_time": "2021-11-10T10:38:21.682Z"
   },
   {
    "duration": 18,
    "start_time": "2021-11-10T10:38:22.143Z"
   },
   {
    "duration": 28,
    "start_time": "2021-11-10T10:38:22.165Z"
   },
   {
    "duration": 213,
    "start_time": "2021-11-10T10:38:22.196Z"
   },
   {
    "duration": 5,
    "start_time": "2021-11-10T10:38:22.412Z"
   },
   {
    "duration": 20,
    "start_time": "2021-11-10T10:38:22.419Z"
   },
   {
    "duration": 36,
    "start_time": "2021-11-10T10:38:22.441Z"
   },
   {
    "duration": 70,
    "start_time": "2021-11-10T10:38:22.482Z"
   },
   {
    "duration": 51,
    "start_time": "2021-11-10T10:38:22.555Z"
   },
   {
    "duration": 23,
    "start_time": "2021-11-10T10:38:22.608Z"
   },
   {
    "duration": 11,
    "start_time": "2021-11-10T10:38:22.633Z"
   },
   {
    "duration": 18,
    "start_time": "2021-11-10T10:38:22.646Z"
   },
   {
    "duration": 49,
    "start_time": "2021-11-10T10:38:22.666Z"
   },
   {
    "duration": 25,
    "start_time": "2021-11-10T10:38:22.718Z"
   },
   {
    "duration": 59,
    "start_time": "2021-11-10T10:38:22.746Z"
   },
   {
    "duration": 32,
    "start_time": "2021-11-10T10:38:22.808Z"
   },
   {
    "duration": 18,
    "start_time": "2021-11-10T10:38:22.842Z"
   },
   {
    "duration": 43,
    "start_time": "2021-11-10T10:38:22.862Z"
   },
   {
    "duration": 13,
    "start_time": "2021-11-10T10:38:22.907Z"
   },
   {
    "duration": 19,
    "start_time": "2021-11-10T10:38:22.923Z"
   },
   {
    "duration": 23,
    "start_time": "2021-11-10T10:38:22.945Z"
   },
   {
    "duration": 54,
    "start_time": "2021-11-10T10:38:22.971Z"
   },
   {
    "duration": 28,
    "start_time": "2021-11-10T10:38:23.028Z"
   },
   {
    "duration": 61,
    "start_time": "2021-11-10T10:38:23.059Z"
   },
   {
    "duration": 30,
    "start_time": "2021-11-10T10:38:23.123Z"
   },
   {
    "duration": 41,
    "start_time": "2021-11-10T10:38:23.158Z"
   },
   {
    "duration": 25,
    "start_time": "2021-11-10T10:38:23.202Z"
   },
   {
    "duration": 16,
    "start_time": "2021-11-10T10:38:23.230Z"
   },
   {
    "duration": 12,
    "start_time": "2021-11-10T10:38:23.249Z"
   },
   {
    "duration": 42,
    "start_time": "2021-11-10T10:38:23.264Z"
   },
   {
    "duration": 139,
    "start_time": "2021-11-10T10:38:23.308Z"
   },
   {
    "duration": 19,
    "start_time": "2021-11-10T10:38:23.449Z"
   },
   {
    "duration": 11,
    "start_time": "2021-11-10T10:38:23.470Z"
   },
   {
    "duration": 30,
    "start_time": "2021-11-10T10:38:23.501Z"
   },
   {
    "duration": 28,
    "start_time": "2021-11-10T10:38:23.533Z"
   },
   {
    "duration": 7,
    "start_time": "2021-11-10T10:38:23.563Z"
   },
   {
    "duration": 678,
    "start_time": "2021-11-10T10:38:23.572Z"
   },
   {
    "duration": 638,
    "start_time": "2021-11-10T10:38:24.252Z"
   },
   {
    "duration": 649,
    "start_time": "2021-11-10T10:38:24.892Z"
   },
   {
    "duration": 27,
    "start_time": "2021-11-10T10:38:25.543Z"
   },
   {
    "duration": 317,
    "start_time": "2021-11-10T10:38:25.572Z"
   },
   {
    "duration": 388,
    "start_time": "2021-11-10T10:38:25.891Z"
   },
   {
    "duration": 5,
    "start_time": "2021-11-10T10:38:26.282Z"
   },
   {
    "duration": 15,
    "start_time": "2021-11-10T10:38:26.289Z"
   },
   {
    "duration": 11,
    "start_time": "2021-11-10T10:38:26.306Z"
   },
   {
    "duration": 11,
    "start_time": "2021-11-10T10:38:26.320Z"
   },
   {
    "duration": 15,
    "start_time": "2021-11-10T10:38:26.333Z"
   },
   {
    "duration": 9,
    "start_time": "2021-11-10T10:38:26.350Z"
   },
   {
    "duration": 40,
    "start_time": "2021-11-10T10:38:26.361Z"
   },
   {
    "duration": 13,
    "start_time": "2021-11-10T10:38:26.404Z"
   },
   {
    "duration": 897,
    "start_time": "2021-11-10T10:38:26.419Z"
   },
   {
    "duration": 889,
    "start_time": "2021-11-10T10:38:27.319Z"
   },
   {
    "duration": 28,
    "start_time": "2021-11-10T10:38:36.807Z"
   },
   {
    "duration": 1618,
    "start_time": "2021-11-10T12:33:12.057Z"
   },
   {
    "duration": 415,
    "start_time": "2021-11-10T12:33:13.678Z"
   },
   {
    "duration": 15,
    "start_time": "2021-11-10T12:33:14.097Z"
   },
   {
    "duration": 20,
    "start_time": "2021-11-10T12:33:14.115Z"
   },
   {
    "duration": 266,
    "start_time": "2021-11-10T12:33:14.137Z"
   },
   {
    "duration": 4,
    "start_time": "2021-11-10T12:33:14.406Z"
   },
   {
    "duration": 13,
    "start_time": "2021-11-10T12:33:14.412Z"
   },
   {
    "duration": 62,
    "start_time": "2021-11-10T12:33:14.427Z"
   },
   {
    "duration": 56,
    "start_time": "2021-11-10T12:33:14.493Z"
   },
   {
    "duration": 50,
    "start_time": "2021-11-10T12:33:14.552Z"
   },
   {
    "duration": 22,
    "start_time": "2021-11-10T12:33:14.605Z"
   },
   {
    "duration": 10,
    "start_time": "2021-11-10T12:33:14.629Z"
   },
   {
    "duration": 44,
    "start_time": "2021-11-10T12:33:14.642Z"
   },
   {
    "duration": 19,
    "start_time": "2021-11-10T12:33:14.690Z"
   },
   {
    "duration": 25,
    "start_time": "2021-11-10T12:33:14.711Z"
   },
   {
    "duration": 65,
    "start_time": "2021-11-10T12:33:14.738Z"
   },
   {
    "duration": 32,
    "start_time": "2021-11-10T12:33:14.807Z"
   },
   {
    "duration": 45,
    "start_time": "2021-11-10T12:33:14.842Z"
   },
   {
    "duration": 17,
    "start_time": "2021-11-10T12:33:14.891Z"
   },
   {
    "duration": 11,
    "start_time": "2021-11-10T12:33:14.911Z"
   },
   {
    "duration": 15,
    "start_time": "2021-11-10T12:33:14.925Z"
   },
   {
    "duration": 63,
    "start_time": "2021-11-10T12:33:14.942Z"
   },
   {
    "duration": 32,
    "start_time": "2021-11-10T12:33:15.008Z"
   },
   {
    "duration": 54,
    "start_time": "2021-11-10T12:33:15.042Z"
   },
   {
    "duration": 31,
    "start_time": "2021-11-10T12:33:15.098Z"
   },
   {
    "duration": 28,
    "start_time": "2021-11-10T12:33:15.131Z"
   },
   {
    "duration": 15,
    "start_time": "2021-11-10T12:33:15.189Z"
   },
   {
    "duration": 32,
    "start_time": "2021-11-10T12:33:15.207Z"
   },
   {
    "duration": 42,
    "start_time": "2021-11-10T12:33:15.241Z"
   },
   {
    "duration": 23,
    "start_time": "2021-11-10T12:33:15.286Z"
   },
   {
    "duration": 8,
    "start_time": "2021-11-10T12:33:15.311Z"
   },
   {
    "duration": 146,
    "start_time": "2021-11-10T12:33:15.322Z"
   },
   {
    "duration": 32,
    "start_time": "2021-11-10T12:33:15.470Z"
   },
   {
    "duration": 11,
    "start_time": "2021-11-10T12:33:15.505Z"
   },
   {
    "duration": 460,
    "start_time": "2021-11-10T12:33:15.518Z"
   },
   {
    "duration": 953,
    "start_time": "2021-11-10T12:33:15.029Z"
   },
   {
    "duration": 942,
    "start_time": "2021-11-10T12:33:15.043Z"
   },
   {
    "duration": 940,
    "start_time": "2021-11-10T12:33:15.047Z"
   },
   {
    "duration": 934,
    "start_time": "2021-11-10T12:33:15.056Z"
   },
   {
    "duration": 921,
    "start_time": "2021-11-10T12:33:15.071Z"
   },
   {
    "duration": 918,
    "start_time": "2021-11-10T12:33:15.076Z"
   },
   {
    "duration": 917,
    "start_time": "2021-11-10T12:33:15.080Z"
   },
   {
    "duration": 914,
    "start_time": "2021-11-10T12:33:15.085Z"
   },
   {
    "duration": 910,
    "start_time": "2021-11-10T12:33:15.091Z"
   },
   {
    "duration": 907,
    "start_time": "2021-11-10T12:33:15.096Z"
   },
   {
    "duration": 904,
    "start_time": "2021-11-10T12:33:15.101Z"
   },
   {
    "duration": 899,
    "start_time": "2021-11-10T12:33:15.108Z"
   },
   {
    "duration": 898,
    "start_time": "2021-11-10T12:33:15.112Z"
   },
   {
    "duration": 896,
    "start_time": "2021-11-10T12:33:15.116Z"
   },
   {
    "duration": 894,
    "start_time": "2021-11-10T12:33:15.120Z"
   },
   {
    "duration": 880,
    "start_time": "2021-11-10T12:33:15.135Z"
   },
   {
    "duration": 871,
    "start_time": "2021-11-10T12:33:15.146Z"
   },
   {
    "duration": 853,
    "start_time": "2021-11-10T12:33:15.165Z"
   },
   {
    "duration": 27,
    "start_time": "2021-11-10T12:33:51.422Z"
   },
   {
    "duration": 26,
    "start_time": "2021-11-10T12:34:08.224Z"
   },
   {
    "duration": 402,
    "start_time": "2021-11-10T12:34:31.261Z"
   },
   {
    "duration": 7,
    "start_time": "2021-11-10T12:34:37.073Z"
   },
   {
    "duration": 654,
    "start_time": "2021-11-10T12:34:38.852Z"
   },
   {
    "duration": 640,
    "start_time": "2021-11-10T12:34:44.250Z"
   },
   {
    "duration": 642,
    "start_time": "2021-11-10T12:34:58.100Z"
   },
   {
    "duration": 730,
    "start_time": "2021-11-10T12:43:14.464Z"
   },
   {
    "duration": 35,
    "start_time": "2021-11-10T12:43:41.263Z"
   },
   {
    "duration": 1526,
    "start_time": "2021-11-10T12:43:55.435Z"
   },
   {
    "duration": 410,
    "start_time": "2021-11-10T12:43:56.964Z"
   },
   {
    "duration": 22,
    "start_time": "2021-11-10T12:43:57.377Z"
   },
   {
    "duration": 20,
    "start_time": "2021-11-10T12:43:57.402Z"
   },
   {
    "duration": 236,
    "start_time": "2021-11-10T12:43:57.425Z"
   },
   {
    "duration": 5,
    "start_time": "2021-11-10T12:43:57.664Z"
   },
   {
    "duration": 18,
    "start_time": "2021-11-10T12:43:57.682Z"
   },
   {
    "duration": 30,
    "start_time": "2021-11-10T12:43:57.703Z"
   },
   {
    "duration": 88,
    "start_time": "2021-11-10T12:43:57.736Z"
   },
   {
    "duration": 30,
    "start_time": "2021-11-10T12:43:57.827Z"
   },
   {
    "duration": 43,
    "start_time": "2021-11-10T12:43:57.860Z"
   },
   {
    "duration": 11,
    "start_time": "2021-11-10T12:43:57.905Z"
   },
   {
    "duration": 14,
    "start_time": "2021-11-10T12:43:57.918Z"
   },
   {
    "duration": 60,
    "start_time": "2021-11-10T12:43:57.934Z"
   },
   {
    "duration": 26,
    "start_time": "2021-11-10T12:43:57.997Z"
   },
   {
    "duration": 64,
    "start_time": "2021-11-10T12:43:58.025Z"
   },
   {
    "duration": 35,
    "start_time": "2021-11-10T12:43:58.092Z"
   },
   {
    "duration": 19,
    "start_time": "2021-11-10T12:43:58.129Z"
   },
   {
    "duration": 46,
    "start_time": "2021-11-10T12:43:58.151Z"
   },
   {
    "duration": 11,
    "start_time": "2021-11-10T12:43:58.199Z"
   },
   {
    "duration": 14,
    "start_time": "2021-11-10T12:43:58.213Z"
   },
   {
    "duration": 66,
    "start_time": "2021-11-10T12:43:58.229Z"
   },
   {
    "duration": 29,
    "start_time": "2021-11-10T12:43:58.298Z"
   },
   {
    "duration": 27,
    "start_time": "2021-11-10T12:43:58.330Z"
   },
   {
    "duration": 59,
    "start_time": "2021-11-10T12:43:58.359Z"
   },
   {
    "duration": 31,
    "start_time": "2021-11-10T12:43:58.421Z"
   },
   {
    "duration": 18,
    "start_time": "2021-11-10T12:43:58.486Z"
   },
   {
    "duration": 25,
    "start_time": "2021-11-10T12:43:58.507Z"
   },
   {
    "duration": 17,
    "start_time": "2021-11-10T12:43:58.534Z"
   },
   {
    "duration": 14,
    "start_time": "2021-11-10T12:43:58.590Z"
   },
   {
    "duration": 8,
    "start_time": "2021-11-10T12:43:58.607Z"
   },
   {
    "duration": 147,
    "start_time": "2021-11-10T12:43:58.617Z"
   },
   {
    "duration": 22,
    "start_time": "2021-11-10T12:43:58.766Z"
   },
   {
    "duration": 11,
    "start_time": "2021-11-10T12:43:58.792Z"
   },
   {
    "duration": 27,
    "start_time": "2021-11-10T12:43:58.805Z"
   },
   {
    "duration": 64,
    "start_time": "2021-11-10T12:43:58.835Z"
   },
   {
    "duration": 8,
    "start_time": "2021-11-10T12:43:58.901Z"
   },
   {
    "duration": 691,
    "start_time": "2021-11-10T12:43:58.911Z"
   },
   {
    "duration": 667,
    "start_time": "2021-11-10T12:43:59.605Z"
   },
   {
    "duration": 666,
    "start_time": "2021-11-10T12:44:00.285Z"
   },
   {
    "duration": 44,
    "start_time": "2021-11-10T12:44:00.953Z"
   },
   {
    "duration": 324,
    "start_time": "2021-11-10T12:44:01.000Z"
   },
   {
    "duration": 416,
    "start_time": "2021-11-10T12:44:01.327Z"
   },
   {
    "duration": 5,
    "start_time": "2021-11-10T12:44:01.746Z"
   },
   {
    "duration": 20,
    "start_time": "2021-11-10T12:44:01.754Z"
   },
   {
    "duration": 30,
    "start_time": "2021-11-10T12:44:01.776Z"
   },
   {
    "duration": 29,
    "start_time": "2021-11-10T12:44:01.810Z"
   },
   {
    "duration": 32,
    "start_time": "2021-11-10T12:44:01.841Z"
   },
   {
    "duration": 30,
    "start_time": "2021-11-10T12:44:01.876Z"
   },
   {
    "duration": 27,
    "start_time": "2021-11-10T12:44:01.909Z"
   },
   {
    "duration": 27,
    "start_time": "2021-11-10T12:44:01.939Z"
   },
   {
    "duration": 972,
    "start_time": "2021-11-10T12:44:01.970Z"
   },
   {
    "duration": 937,
    "start_time": "2021-11-10T12:44:02.945Z"
   },
   {
    "duration": 4869,
    "start_time": "2021-11-10T12:50:02.249Z"
   },
   {
    "duration": 3699,
    "start_time": "2021-11-10T12:50:22.930Z"
   },
   {
    "duration": 1475,
    "start_time": "2021-11-10T12:50:26.633Z"
   },
   {
    "duration": 413,
    "start_time": "2021-11-10T12:50:28.110Z"
   },
   {
    "duration": 15,
    "start_time": "2021-11-10T12:50:28.526Z"
   },
   {
    "duration": 22,
    "start_time": "2021-11-10T12:50:28.543Z"
   },
   {
    "duration": 252,
    "start_time": "2021-11-10T12:50:28.568Z"
   },
   {
    "duration": 4,
    "start_time": "2021-11-10T12:50:28.823Z"
   },
   {
    "duration": 14,
    "start_time": "2021-11-10T12:50:28.829Z"
   },
   {
    "duration": 56,
    "start_time": "2021-11-10T12:50:28.846Z"
   },
   {
    "duration": 50,
    "start_time": "2021-11-10T12:50:28.904Z"
   },
   {
    "duration": 58,
    "start_time": "2021-11-10T12:50:28.956Z"
   },
   {
    "duration": 21,
    "start_time": "2021-11-10T12:50:29.017Z"
   },
   {
    "duration": 12,
    "start_time": "2021-11-10T12:50:29.040Z"
   },
   {
    "duration": 45,
    "start_time": "2021-11-10T12:50:29.055Z"
   },
   {
    "duration": 23,
    "start_time": "2021-11-10T12:50:29.102Z"
   },
   {
    "duration": 26,
    "start_time": "2021-11-10T12:50:29.128Z"
   },
   {
    "duration": 64,
    "start_time": "2021-11-10T12:50:29.156Z"
   },
   {
    "duration": 30,
    "start_time": "2021-11-10T12:50:29.225Z"
   },
   {
    "duration": 37,
    "start_time": "2021-11-10T12:50:29.258Z"
   },
   {
    "duration": 16,
    "start_time": "2021-11-10T12:50:29.298Z"
   },
   {
    "duration": 13,
    "start_time": "2021-11-10T12:50:29.317Z"
   },
   {
    "duration": 55,
    "start_time": "2021-11-10T12:50:29.333Z"
   },
   {
    "duration": 23,
    "start_time": "2021-11-10T12:50:29.391Z"
   },
   {
    "duration": 32,
    "start_time": "2021-11-10T12:50:29.417Z"
   },
   {
    "duration": 61,
    "start_time": "2021-11-10T12:50:29.452Z"
   },
   {
    "duration": 34,
    "start_time": "2021-11-10T12:50:29.516Z"
   },
   {
    "duration": 65,
    "start_time": "2021-11-10T12:50:29.553Z"
   },
   {
    "duration": 14,
    "start_time": "2021-11-10T12:50:29.620Z"
   },
   {
    "duration": 62,
    "start_time": "2021-11-10T12:50:29.636Z"
   },
   {
    "duration": 19,
    "start_time": "2021-11-10T12:50:29.700Z"
   },
   {
    "duration": 16,
    "start_time": "2021-11-10T12:50:29.722Z"
   },
   {
    "duration": 9,
    "start_time": "2021-11-10T12:50:29.740Z"
   },
   {
    "duration": 151,
    "start_time": "2021-11-10T12:50:29.751Z"
   },
   {
    "duration": 18,
    "start_time": "2021-11-10T12:50:29.905Z"
   },
   {
    "duration": 9,
    "start_time": "2021-11-10T12:50:29.925Z"
   },
   {
    "duration": 55,
    "start_time": "2021-11-10T12:50:29.936Z"
   },
   {
    "duration": 29,
    "start_time": "2021-11-10T12:50:29.994Z"
   },
   {
    "duration": 22,
    "start_time": "2021-11-10T12:50:30.026Z"
   },
   {
    "duration": 689,
    "start_time": "2021-11-10T12:50:30.050Z"
   },
   {
    "duration": 668,
    "start_time": "2021-11-10T12:50:30.741Z"
   },
   {
    "duration": 717,
    "start_time": "2021-11-10T12:50:31.416Z"
   },
   {
    "duration": 27,
    "start_time": "2021-11-10T12:50:32.135Z"
   },
   {
    "duration": 333,
    "start_time": "2021-11-10T12:50:32.165Z"
   },
   {
    "duration": 321,
    "start_time": "2021-11-10T12:50:32.501Z"
   },
   {
    "duration": 5,
    "start_time": "2021-11-10T12:50:32.825Z"
   },
   {
    "duration": 11,
    "start_time": "2021-11-10T12:50:32.832Z"
   },
   {
    "duration": 8,
    "start_time": "2021-11-10T12:50:32.846Z"
   },
   {
    "duration": 34,
    "start_time": "2021-11-10T12:50:32.856Z"
   },
   {
    "duration": 100,
    "start_time": "2021-11-10T12:50:32.893Z"
   },
   {
    "duration": 13,
    "start_time": "2021-11-10T12:50:32.998Z"
   },
   {
    "duration": 13,
    "start_time": "2021-11-10T12:50:33.013Z"
   },
   {
    "duration": 10,
    "start_time": "2021-11-10T12:50:33.028Z"
   },
   {
    "duration": 1007,
    "start_time": "2021-11-10T12:50:33.040Z"
   },
   {
    "duration": 996,
    "start_time": "2021-11-10T12:50:34.054Z"
   },
   {
    "duration": 5,
    "start_time": "2021-11-10T12:52:31.186Z"
   },
   {
    "duration": 1330,
    "start_time": "2021-11-11T08:23:38.159Z"
   },
   {
    "duration": 367,
    "start_time": "2021-11-11T08:23:39.492Z"
   },
   {
    "duration": 15,
    "start_time": "2021-11-11T08:23:39.861Z"
   },
   {
    "duration": 26,
    "start_time": "2021-11-11T08:23:39.879Z"
   },
   {
    "duration": 206,
    "start_time": "2021-11-11T08:23:39.907Z"
   },
   {
    "duration": 4,
    "start_time": "2021-11-11T08:23:40.115Z"
   },
   {
    "duration": 11,
    "start_time": "2021-11-11T08:23:40.129Z"
   },
   {
    "duration": 30,
    "start_time": "2021-11-11T08:23:40.144Z"
   },
   {
    "duration": 73,
    "start_time": "2021-11-11T08:23:40.177Z"
   },
   {
    "duration": 28,
    "start_time": "2021-11-11T08:23:40.252Z"
   },
   {
    "duration": 48,
    "start_time": "2021-11-11T08:23:40.283Z"
   },
   {
    "duration": 12,
    "start_time": "2021-11-11T08:23:40.333Z"
   },
   {
    "duration": 12,
    "start_time": "2021-11-11T08:23:40.347Z"
   },
   {
    "duration": 21,
    "start_time": "2021-11-11T08:23:40.361Z"
   },
   {
    "duration": 57,
    "start_time": "2021-11-11T08:23:40.384Z"
   },
   {
    "duration": 40,
    "start_time": "2021-11-11T08:23:40.444Z"
   },
   {
    "duration": 51,
    "start_time": "2021-11-11T08:23:40.486Z"
   },
   {
    "duration": 17,
    "start_time": "2021-11-11T08:23:40.539Z"
   },
   {
    "duration": 14,
    "start_time": "2021-11-11T08:23:40.558Z"
   },
   {
    "duration": 15,
    "start_time": "2021-11-11T08:23:40.574Z"
   },
   {
    "duration": 42,
    "start_time": "2021-11-11T08:23:40.592Z"
   },
   {
    "duration": 19,
    "start_time": "2021-11-11T08:23:40.636Z"
   },
   {
    "duration": 29,
    "start_time": "2021-11-11T08:23:40.660Z"
   },
   {
    "duration": 54,
    "start_time": "2021-11-11T08:23:40.693Z"
   },
   {
    "duration": 32,
    "start_time": "2021-11-11T08:23:40.750Z"
   },
   {
    "duration": 54,
    "start_time": "2021-11-11T08:23:40.784Z"
   },
   {
    "duration": 14,
    "start_time": "2021-11-11T08:23:40.840Z"
   },
   {
    "duration": 35,
    "start_time": "2021-11-11T08:23:40.856Z"
   },
   {
    "duration": 36,
    "start_time": "2021-11-11T08:23:40.894Z"
   },
   {
    "duration": 12,
    "start_time": "2021-11-11T08:23:40.932Z"
   },
   {
    "duration": 10,
    "start_time": "2021-11-11T08:23:40.946Z"
   },
   {
    "duration": 144,
    "start_time": "2021-11-11T08:23:40.958Z"
   },
   {
    "duration": 24,
    "start_time": "2021-11-11T08:23:41.104Z"
   },
   {
    "duration": 9,
    "start_time": "2021-11-11T08:23:41.131Z"
   },
   {
    "duration": 27,
    "start_time": "2021-11-11T08:23:41.142Z"
   },
   {
    "duration": 27,
    "start_time": "2021-11-11T08:23:41.171Z"
   },
   {
    "duration": 7,
    "start_time": "2021-11-11T08:23:41.230Z"
   },
   {
    "duration": 646,
    "start_time": "2021-11-11T08:23:41.239Z"
   },
   {
    "duration": 611,
    "start_time": "2021-11-11T08:23:41.888Z"
   },
   {
    "duration": 647,
    "start_time": "2021-11-11T08:23:42.502Z"
   },
   {
    "duration": 27,
    "start_time": "2021-11-11T08:23:43.151Z"
   },
   {
    "duration": 8,
    "start_time": "2021-11-11T08:23:43.180Z"
   },
   {
    "duration": 16,
    "start_time": "2021-11-11T08:23:43.191Z"
   },
   {
    "duration": 10,
    "start_time": "2021-11-11T08:23:43.230Z"
   },
   {
    "duration": 11,
    "start_time": "2021-11-11T08:23:43.243Z"
   },
   {
    "duration": 22,
    "start_time": "2021-11-11T08:23:43.256Z"
   },
   {
    "duration": 12,
    "start_time": "2021-11-11T08:23:43.281Z"
   },
   {
    "duration": 7,
    "start_time": "2021-11-11T08:23:43.329Z"
   },
   {
    "duration": 14,
    "start_time": "2021-11-11T08:23:43.339Z"
   },
   {
    "duration": 499,
    "start_time": "2021-11-11T08:23:43.355Z"
   },
   {
    "duration": -28,
    "start_time": "2021-11-11T08:23:43.885Z"
   },
   {
    "duration": 23,
    "start_time": "2021-11-11T08:29:23.284Z"
   },
   {
    "duration": 17,
    "start_time": "2021-11-11T08:29:34.430Z"
   },
   {
    "duration": 1092,
    "start_time": "2021-11-11T09:00:45.546Z"
   },
   {
    "duration": 1084,
    "start_time": "2021-11-11T09:25:35.601Z"
   },
   {
    "duration": 302,
    "start_time": "2021-11-11T09:25:36.687Z"
   },
   {
    "duration": 10,
    "start_time": "2021-11-11T09:25:36.991Z"
   },
   {
    "duration": 17,
    "start_time": "2021-11-11T09:25:37.004Z"
   },
   {
    "duration": 180,
    "start_time": "2021-11-11T09:25:37.023Z"
   },
   {
    "duration": 4,
    "start_time": "2021-11-11T09:25:37.205Z"
   },
   {
    "duration": 10,
    "start_time": "2021-11-11T09:25:37.211Z"
   },
   {
    "duration": 22,
    "start_time": "2021-11-11T09:25:37.224Z"
   },
   {
    "duration": 64,
    "start_time": "2021-11-11T09:25:37.249Z"
   },
   {
    "duration": 20,
    "start_time": "2021-11-11T09:25:37.314Z"
   },
   {
    "duration": 15,
    "start_time": "2021-11-11T09:25:37.336Z"
   },
   {
    "duration": 15,
    "start_time": "2021-11-11T09:25:37.353Z"
   },
   {
    "duration": 28,
    "start_time": "2021-11-11T09:25:37.369Z"
   },
   {
    "duration": 30,
    "start_time": "2021-11-11T09:25:37.399Z"
   },
   {
    "duration": 16,
    "start_time": "2021-11-11T09:25:37.431Z"
   },
   {
    "duration": 40,
    "start_time": "2021-11-11T09:25:37.448Z"
   },
   {
    "duration": 22,
    "start_time": "2021-11-11T09:25:37.490Z"
   },
   {
    "duration": 9,
    "start_time": "2021-11-11T09:25:37.513Z"
   },
   {
    "duration": 13,
    "start_time": "2021-11-11T09:25:37.523Z"
   },
   {
    "duration": 33,
    "start_time": "2021-11-11T09:25:37.538Z"
   },
   {
    "duration": 32,
    "start_time": "2021-11-11T09:25:37.572Z"
   },
   {
    "duration": 30,
    "start_time": "2021-11-11T09:25:37.605Z"
   },
   {
    "duration": 25,
    "start_time": "2021-11-11T09:25:37.638Z"
   },
   {
    "duration": 27,
    "start_time": "2021-11-11T09:25:37.665Z"
   },
   {
    "duration": 27,
    "start_time": "2021-11-11T09:25:37.693Z"
   },
   {
    "duration": 20,
    "start_time": "2021-11-11T09:25:37.721Z"
   },
   {
    "duration": 18,
    "start_time": "2021-11-11T09:25:37.742Z"
   },
   {
    "duration": 41,
    "start_time": "2021-11-11T09:25:37.762Z"
   },
   {
    "duration": 18,
    "start_time": "2021-11-11T09:25:37.805Z"
   },
   {
    "duration": 11,
    "start_time": "2021-11-11T09:25:37.826Z"
   },
   {
    "duration": 6,
    "start_time": "2021-11-11T09:25:37.839Z"
   },
   {
    "duration": 99,
    "start_time": "2021-11-11T09:25:37.847Z"
   },
   {
    "duration": 11,
    "start_time": "2021-11-11T09:25:37.948Z"
   },
   {
    "duration": 9,
    "start_time": "2021-11-11T09:25:37.961Z"
   },
   {
    "duration": 32,
    "start_time": "2021-11-11T09:25:37.972Z"
   },
   {
    "duration": 17,
    "start_time": "2021-11-11T09:25:38.005Z"
   },
   {
    "duration": 5,
    "start_time": "2021-11-11T09:25:38.062Z"
   },
   {
    "duration": 426,
    "start_time": "2021-11-11T09:25:38.069Z"
   },
   {
    "duration": 1110,
    "start_time": "2021-11-11T09:27:12.121Z"
   },
   {
    "duration": 305,
    "start_time": "2021-11-11T09:27:13.234Z"
   },
   {
    "duration": 12,
    "start_time": "2021-11-11T09:27:13.541Z"
   },
   {
    "duration": 16,
    "start_time": "2021-11-11T09:27:13.555Z"
   },
   {
    "duration": 164,
    "start_time": "2021-11-11T09:27:13.573Z"
   },
   {
    "duration": 3,
    "start_time": "2021-11-11T09:27:13.739Z"
   },
   {
    "duration": 10,
    "start_time": "2021-11-11T09:27:13.744Z"
   },
   {
    "duration": 37,
    "start_time": "2021-11-11T09:27:13.757Z"
   },
   {
    "duration": 37,
    "start_time": "2021-11-11T09:27:13.796Z"
   },
   {
    "duration": 19,
    "start_time": "2021-11-11T09:27:13.834Z"
   },
   {
    "duration": 37,
    "start_time": "2021-11-11T09:27:13.855Z"
   },
   {
    "duration": 8,
    "start_time": "2021-11-11T09:27:13.894Z"
   },
   {
    "duration": 10,
    "start_time": "2021-11-11T09:27:13.904Z"
   },
   {
    "duration": 15,
    "start_time": "2021-11-11T09:27:13.916Z"
   },
   {
    "duration": 16,
    "start_time": "2021-11-11T09:27:13.932Z"
   },
   {
    "duration": 62,
    "start_time": "2021-11-11T09:27:13.950Z"
   },
   {
    "duration": 21,
    "start_time": "2021-11-11T09:27:14.014Z"
   },
   {
    "duration": 9,
    "start_time": "2021-11-11T09:27:14.036Z"
   },
   {
    "duration": 10,
    "start_time": "2021-11-11T09:27:14.046Z"
   },
   {
    "duration": 40,
    "start_time": "2021-11-11T09:27:14.057Z"
   },
   {
    "duration": 14,
    "start_time": "2021-11-11T09:27:14.098Z"
   },
   {
    "duration": 13,
    "start_time": "2021-11-11T09:27:14.114Z"
   },
   {
    "duration": 20,
    "start_time": "2021-11-11T09:27:14.130Z"
   },
   {
    "duration": 39,
    "start_time": "2021-11-11T09:27:14.153Z"
   },
   {
    "duration": 21,
    "start_time": "2021-11-11T09:27:14.194Z"
   },
   {
    "duration": 18,
    "start_time": "2021-11-11T09:27:14.217Z"
   },
   {
    "duration": 13,
    "start_time": "2021-11-11T09:27:14.237Z"
   },
   {
    "duration": 54,
    "start_time": "2021-11-11T09:27:14.252Z"
   },
   {
    "duration": 15,
    "start_time": "2021-11-11T09:27:14.308Z"
   },
   {
    "duration": 7,
    "start_time": "2021-11-11T09:27:14.325Z"
   },
   {
    "duration": 6,
    "start_time": "2021-11-11T09:27:14.334Z"
   },
   {
    "duration": 96,
    "start_time": "2021-11-11T09:27:14.341Z"
   },
   {
    "duration": 11,
    "start_time": "2021-11-11T09:27:14.439Z"
   },
   {
    "duration": 9,
    "start_time": "2021-11-11T09:27:14.451Z"
   },
   {
    "duration": 32,
    "start_time": "2021-11-11T09:27:14.461Z"
   },
   {
    "duration": 23,
    "start_time": "2021-11-11T09:27:14.494Z"
   },
   {
    "duration": 4,
    "start_time": "2021-11-11T09:27:14.519Z"
   },
   {
    "duration": 390,
    "start_time": "2021-11-11T09:27:14.525Z"
   },
   {
    "duration": 381,
    "start_time": "2021-11-11T09:27:14.916Z"
   },
   {
    "duration": 392,
    "start_time": "2021-11-11T09:27:15.299Z"
   },
   {
    "duration": 17,
    "start_time": "2021-11-11T09:27:15.692Z"
   },
   {
    "duration": 5,
    "start_time": "2021-11-11T09:27:15.710Z"
   },
   {
    "duration": 16,
    "start_time": "2021-11-11T09:27:15.717Z"
   },
   {
    "duration": 19,
    "start_time": "2021-11-11T09:27:15.735Z"
   },
   {
    "duration": 23,
    "start_time": "2021-11-11T09:27:15.755Z"
   },
   {
    "duration": 23,
    "start_time": "2021-11-11T09:27:15.779Z"
   },
   {
    "duration": 42,
    "start_time": "2021-11-11T09:27:15.804Z"
   },
   {
    "duration": 22,
    "start_time": "2021-11-11T09:27:15.848Z"
   },
   {
    "duration": 19,
    "start_time": "2021-11-11T09:27:15.872Z"
   },
   {
    "duration": 694,
    "start_time": "2021-11-11T09:27:15.893Z"
   },
   {
    "duration": 609,
    "start_time": "2021-11-11T09:27:16.589Z"
   },
   {
    "duration": 4,
    "start_time": "2021-11-11T09:29:49.162Z"
   },
   {
    "duration": 6,
    "start_time": "2021-11-11T09:39:59.207Z"
   },
   {
    "duration": 396,
    "start_time": "2021-11-11T09:40:02.261Z"
   },
   {
    "duration": 360,
    "start_time": "2021-11-11T09:40:10.265Z"
   },
   {
    "duration": 367,
    "start_time": "2021-11-11T09:40:15.537Z"
   },
   {
    "duration": 7,
    "start_time": "2021-11-11T11:07:09.859Z"
   },
   {
    "duration": 369,
    "start_time": "2021-11-11T11:07:14.123Z"
   },
   {
    "duration": 460,
    "start_time": "2021-11-11T11:07:26.456Z"
   },
   {
    "duration": 362,
    "start_time": "2021-11-11T11:07:31.708Z"
   },
   {
    "duration": 4,
    "start_time": "2021-11-11T12:19:28.256Z"
   },
   {
    "duration": 6,
    "start_time": "2021-11-11T12:19:44.886Z"
   },
   {
    "duration": 19,
    "start_time": "2021-11-11T12:19:50.334Z"
   },
   {
    "duration": 317,
    "start_time": "2021-11-11T12:27:32.980Z"
   },
   {
    "duration": 5,
    "start_time": "2021-11-11T12:28:12.862Z"
   },
   {
    "duration": 16,
    "start_time": "2021-11-11T12:28:14.942Z"
   },
   {
    "duration": 11,
    "start_time": "2021-11-11T12:28:31.486Z"
   },
   {
    "duration": 15,
    "start_time": "2021-11-11T12:28:41.117Z"
   },
   {
    "duration": 7,
    "start_time": "2021-11-11T12:29:47.945Z"
   },
   {
    "duration": 17,
    "start_time": "2021-11-11T12:29:50.016Z"
   },
   {
    "duration": 57,
    "start_time": "2021-11-11T12:30:31.429Z"
   },
   {
    "duration": 56,
    "start_time": "2021-11-11T12:30:58.183Z"
   },
   {
    "duration": 6,
    "start_time": "2021-11-11T12:31:42.350Z"
   },
   {
    "duration": 17,
    "start_time": "2021-11-11T12:31:44.067Z"
   },
   {
    "duration": 4,
    "start_time": "2021-11-11T12:31:56.753Z"
   },
   {
    "duration": 4,
    "start_time": "2021-11-11T12:32:00.766Z"
   },
   {
    "duration": 6,
    "start_time": "2021-11-11T12:32:40.918Z"
   },
   {
    "duration": 6,
    "start_time": "2021-11-11T12:33:10.399Z"
   },
   {
    "duration": 18,
    "start_time": "2021-11-11T12:33:17.565Z"
   },
   {
    "duration": 16,
    "start_time": "2021-11-11T12:33:32.245Z"
   },
   {
    "duration": 1200,
    "start_time": "2021-11-11T14:16:14.344Z"
   },
   {
    "duration": 318,
    "start_time": "2021-11-11T14:16:15.546Z"
   },
   {
    "duration": 12,
    "start_time": "2021-11-11T14:16:15.866Z"
   },
   {
    "duration": 26,
    "start_time": "2021-11-11T14:16:15.880Z"
   },
   {
    "duration": 179,
    "start_time": "2021-11-11T14:16:15.907Z"
   },
   {
    "duration": 4,
    "start_time": "2021-11-11T14:16:16.088Z"
   },
   {
    "duration": 19,
    "start_time": "2021-11-11T14:16:16.094Z"
   },
   {
    "duration": 28,
    "start_time": "2021-11-11T14:16:16.116Z"
   },
   {
    "duration": 38,
    "start_time": "2021-11-11T14:16:16.147Z"
   },
   {
    "duration": 39,
    "start_time": "2021-11-11T14:16:16.187Z"
   },
   {
    "duration": 19,
    "start_time": "2021-11-11T14:16:16.227Z"
   },
   {
    "duration": 8,
    "start_time": "2021-11-11T14:16:16.248Z"
   },
   {
    "duration": 13,
    "start_time": "2021-11-11T14:16:16.258Z"
   },
   {
    "duration": 44,
    "start_time": "2021-11-11T14:16:16.273Z"
   },
   {
    "duration": 18,
    "start_time": "2021-11-11T14:16:16.319Z"
   },
   {
    "duration": 29,
    "start_time": "2021-11-11T14:16:16.339Z"
   },
   {
    "duration": 44,
    "start_time": "2021-11-11T14:16:16.370Z"
   },
   {
    "duration": 14,
    "start_time": "2021-11-11T14:16:16.415Z"
   },
   {
    "duration": 9,
    "start_time": "2021-11-11T14:16:16.431Z"
   },
   {
    "duration": 11,
    "start_time": "2021-11-11T14:16:16.442Z"
   },
   {
    "duration": 14,
    "start_time": "2021-11-11T14:16:16.454Z"
   },
   {
    "duration": 38,
    "start_time": "2021-11-11T14:16:16.469Z"
   },
   {
    "duration": 24,
    "start_time": "2021-11-11T14:16:16.512Z"
   },
   {
    "duration": 22,
    "start_time": "2021-11-11T14:16:16.539Z"
   },
   {
    "duration": 44,
    "start_time": "2021-11-11T14:16:16.563Z"
   },
   {
    "duration": 20,
    "start_time": "2021-11-11T14:16:16.610Z"
   },
   {
    "duration": 10,
    "start_time": "2021-11-11T14:16:16.633Z"
   },
   {
    "duration": 19,
    "start_time": "2021-11-11T14:16:16.645Z"
   },
   {
    "duration": 46,
    "start_time": "2021-11-11T14:16:16.666Z"
   },
   {
    "duration": 8,
    "start_time": "2021-11-11T14:16:16.715Z"
   },
   {
    "duration": 24,
    "start_time": "2021-11-11T14:16:16.725Z"
   },
   {
    "duration": 81,
    "start_time": "2021-11-11T14:16:16.751Z"
   },
   {
    "duration": 3,
    "start_time": "2021-11-11T14:16:16.834Z"
   },
   {
    "duration": 21,
    "start_time": "2021-11-11T14:16:16.839Z"
   },
   {
    "duration": 9,
    "start_time": "2021-11-11T14:16:16.862Z"
   },
   {
    "duration": 34,
    "start_time": "2021-11-11T14:16:16.873Z"
   },
   {
    "duration": 18,
    "start_time": "2021-11-11T14:16:16.909Z"
   },
   {
    "duration": 11,
    "start_time": "2021-11-11T14:16:16.928Z"
   },
   {
    "duration": 414,
    "start_time": "2021-11-11T14:16:16.941Z"
   },
   {
    "duration": 385,
    "start_time": "2021-11-11T14:16:17.357Z"
   },
   {
    "duration": 397,
    "start_time": "2021-11-11T14:16:17.744Z"
   },
   {
    "duration": 18,
    "start_time": "2021-11-11T14:16:18.143Z"
   },
   {
    "duration": 4,
    "start_time": "2021-11-11T14:16:18.163Z"
   },
   {
    "duration": 11,
    "start_time": "2021-11-11T14:16:18.169Z"
   },
   {
    "duration": 29,
    "start_time": "2021-11-11T14:16:18.181Z"
   },
   {
    "duration": 7,
    "start_time": "2021-11-11T14:16:18.211Z"
   },
   {
    "duration": 19,
    "start_time": "2021-11-11T14:16:18.219Z"
   },
   {
    "duration": 14,
    "start_time": "2021-11-11T14:16:18.240Z"
   },
   {
    "duration": 12,
    "start_time": "2021-11-11T14:16:18.256Z"
   },
   {
    "duration": 10,
    "start_time": "2021-11-11T14:16:18.270Z"
   },
   {
    "duration": 700,
    "start_time": "2021-11-11T14:16:18.282Z"
   },
   {
    "duration": 618,
    "start_time": "2021-11-11T14:16:18.985Z"
   },
   {
    "duration": 462,
    "start_time": "2021-11-11T14:16:50.408Z"
   },
   {
    "duration": 9,
    "start_time": "2021-11-11T14:16:54.030Z"
   },
   {
    "duration": 132,
    "start_time": "2021-11-11T14:30:03.457Z"
   },
   {
    "duration": 4,
    "start_time": "2021-11-11T14:30:30.341Z"
   },
   {
    "duration": 4,
    "start_time": "2021-11-11T14:30:39.879Z"
   },
   {
    "duration": 4,
    "start_time": "2021-11-11T14:31:16.733Z"
   },
   {
    "duration": 8,
    "start_time": "2021-11-11T14:31:24.175Z"
   },
   {
    "duration": 7,
    "start_time": "2021-11-11T14:31:37.696Z"
   },
   {
    "duration": 9,
    "start_time": "2021-11-11T14:32:27.745Z"
   },
   {
    "duration": 9,
    "start_time": "2021-11-11T14:33:03.793Z"
   },
   {
    "duration": 1273,
    "start_time": "2021-11-11T16:04:20.602Z"
   },
   {
    "duration": 346,
    "start_time": "2021-11-11T16:04:21.877Z"
   },
   {
    "duration": 11,
    "start_time": "2021-11-11T16:04:22.226Z"
   },
   {
    "duration": 18,
    "start_time": "2021-11-11T16:04:22.239Z"
   },
   {
    "duration": 165,
    "start_time": "2021-11-11T16:04:22.259Z"
   },
   {
    "duration": 3,
    "start_time": "2021-11-11T16:04:22.426Z"
   },
   {
    "duration": 10,
    "start_time": "2021-11-11T16:04:22.431Z"
   },
   {
    "duration": 24,
    "start_time": "2021-11-11T16:04:22.444Z"
   },
   {
    "duration": 58,
    "start_time": "2021-11-11T16:04:22.470Z"
   },
   {
    "duration": 20,
    "start_time": "2021-11-11T16:04:22.530Z"
   },
   {
    "duration": 15,
    "start_time": "2021-11-11T16:04:22.551Z"
   },
   {
    "duration": 9,
    "start_time": "2021-11-11T16:04:22.568Z"
   },
   {
    "duration": 30,
    "start_time": "2021-11-11T16:04:22.579Z"
   },
   {
    "duration": 15,
    "start_time": "2021-11-11T16:04:22.611Z"
   },
   {
    "duration": 18,
    "start_time": "2021-11-11T16:04:22.628Z"
   },
   {
    "duration": 58,
    "start_time": "2021-11-11T16:04:22.648Z"
   },
   {
    "duration": 22,
    "start_time": "2021-11-11T16:04:22.708Z"
   },
   {
    "duration": 22,
    "start_time": "2021-11-11T16:04:22.732Z"
   },
   {
    "duration": 8,
    "start_time": "2021-11-11T16:04:22.756Z"
   },
   {
    "duration": 11,
    "start_time": "2021-11-11T16:04:22.765Z"
   },
   {
    "duration": 12,
    "start_time": "2021-11-11T16:04:22.778Z"
   },
   {
    "duration": 29,
    "start_time": "2021-11-11T16:04:22.792Z"
   },
   {
    "duration": 23,
    "start_time": "2021-11-11T16:04:22.826Z"
   },
   {
    "duration": 20,
    "start_time": "2021-11-11T16:04:22.852Z"
   },
   {
    "duration": 51,
    "start_time": "2021-11-11T16:04:22.875Z"
   },
   {
    "duration": 19,
    "start_time": "2021-11-11T16:04:22.928Z"
   },
   {
    "duration": 11,
    "start_time": "2021-11-11T16:04:22.949Z"
   },
   {
    "duration": 26,
    "start_time": "2021-11-11T16:04:22.961Z"
   },
   {
    "duration": 12,
    "start_time": "2021-11-11T16:04:23.007Z"
   },
   {
    "duration": 34,
    "start_time": "2021-11-11T16:04:23.021Z"
   },
   {
    "duration": 23,
    "start_time": "2021-11-11T16:04:23.057Z"
   },
   {
    "duration": 77,
    "start_time": "2021-11-11T16:04:23.082Z"
   },
   {
    "duration": 10,
    "start_time": "2021-11-11T16:04:23.161Z"
   },
   {
    "duration": 9,
    "start_time": "2021-11-11T16:04:23.173Z"
   },
   {
    "duration": 33,
    "start_time": "2021-11-11T16:04:23.183Z"
   },
   {
    "duration": 16,
    "start_time": "2021-11-11T16:04:23.218Z"
   },
   {
    "duration": 9,
    "start_time": "2021-11-11T16:04:23.236Z"
   },
   {
    "duration": 397,
    "start_time": "2021-11-11T16:04:23.247Z"
   },
   {
    "duration": 479,
    "start_time": "2021-11-11T16:04:23.645Z"
   },
   {
    "duration": 396,
    "start_time": "2021-11-11T16:04:24.126Z"
   },
   {
    "duration": 20,
    "start_time": "2021-11-11T16:04:24.524Z"
   },
   {
    "duration": 14,
    "start_time": "2021-11-11T16:04:24.546Z"
   },
   {
    "duration": 23,
    "start_time": "2021-11-11T16:04:24.562Z"
   },
   {
    "duration": 25,
    "start_time": "2021-11-11T16:04:24.587Z"
   },
   {
    "duration": 29,
    "start_time": "2021-11-11T16:04:24.614Z"
   },
   {
    "duration": 37,
    "start_time": "2021-11-11T16:04:24.645Z"
   },
   {
    "duration": 44,
    "start_time": "2021-11-11T16:04:24.684Z"
   },
   {
    "duration": 46,
    "start_time": "2021-11-11T16:04:24.730Z"
   },
   {
    "duration": 30,
    "start_time": "2021-11-11T16:04:24.778Z"
   },
   {
    "duration": 685,
    "start_time": "2021-11-11T16:04:24.810Z"
   },
   {
    "duration": 622,
    "start_time": "2021-11-11T16:04:25.497Z"
   },
   {
    "duration": 520,
    "start_time": "2021-11-11T16:42:36.103Z"
   },
   {
    "duration": 1526,
    "start_time": "2021-11-12T12:30:07.118Z"
   },
   {
    "duration": 362,
    "start_time": "2021-11-12T12:30:08.647Z"
   },
   {
    "duration": 19,
    "start_time": "2021-11-12T12:30:09.012Z"
   },
   {
    "duration": 31,
    "start_time": "2021-11-12T12:30:09.034Z"
   },
   {
    "duration": 221,
    "start_time": "2021-11-12T12:30:09.069Z"
   },
   {
    "duration": 6,
    "start_time": "2021-11-12T12:30:09.293Z"
   },
   {
    "duration": 32,
    "start_time": "2021-11-12T12:30:09.301Z"
   },
   {
    "duration": 35,
    "start_time": "2021-11-12T12:30:09.339Z"
   },
   {
    "duration": 68,
    "start_time": "2021-11-12T12:30:09.378Z"
   },
   {
    "duration": 30,
    "start_time": "2021-11-12T12:30:09.448Z"
   },
   {
    "duration": 48,
    "start_time": "2021-11-12T12:30:09.481Z"
   },
   {
    "duration": 13,
    "start_time": "2021-11-12T12:30:09.531Z"
   },
   {
    "duration": 20,
    "start_time": "2021-11-12T12:30:09.546Z"
   },
   {
    "duration": 23,
    "start_time": "2021-11-12T12:30:09.568Z"
   },
   {
    "duration": 49,
    "start_time": "2021-11-12T12:30:09.593Z"
   },
   {
    "duration": 40,
    "start_time": "2021-11-12T12:30:09.645Z"
   },
   {
    "duration": 56,
    "start_time": "2021-11-12T12:30:09.688Z"
   },
   {
    "duration": 16,
    "start_time": "2021-11-12T12:30:09.747Z"
   },
   {
    "duration": 12,
    "start_time": "2021-11-12T12:30:09.765Z"
   },
   {
    "duration": 13,
    "start_time": "2021-11-12T12:30:09.779Z"
   },
   {
    "duration": 45,
    "start_time": "2021-11-12T12:30:09.794Z"
   },
   {
    "duration": 34,
    "start_time": "2021-11-12T12:30:09.841Z"
   },
   {
    "duration": 29,
    "start_time": "2021-11-12T12:30:09.881Z"
   },
   {
    "duration": 34,
    "start_time": "2021-11-12T12:30:09.913Z"
   },
   {
    "duration": 31,
    "start_time": "2021-11-12T12:30:09.949Z"
   },
   {
    "duration": 57,
    "start_time": "2021-11-12T12:30:09.982Z"
   },
   {
    "duration": 14,
    "start_time": "2021-11-12T12:30:10.042Z"
   },
   {
    "duration": 31,
    "start_time": "2021-11-12T12:30:10.059Z"
   },
   {
    "duration": 39,
    "start_time": "2021-11-12T12:30:10.092Z"
   },
   {
    "duration": 21,
    "start_time": "2021-11-12T12:30:10.133Z"
   },
   {
    "duration": 11,
    "start_time": "2021-11-12T12:30:10.157Z"
   },
   {
    "duration": 141,
    "start_time": "2021-11-12T12:30:10.170Z"
   },
   {
    "duration": 19,
    "start_time": "2021-11-12T12:30:10.313Z"
   },
   {
    "duration": 12,
    "start_time": "2021-11-12T12:30:10.335Z"
   },
   {
    "duration": 28,
    "start_time": "2021-11-12T12:30:10.350Z"
   },
   {
    "duration": 68,
    "start_time": "2021-11-12T12:30:10.381Z"
   },
   {
    "duration": 7,
    "start_time": "2021-11-12T12:30:10.451Z"
   },
   {
    "duration": 634,
    "start_time": "2021-11-12T12:30:10.460Z"
   },
   {
    "duration": 608,
    "start_time": "2021-11-12T12:30:11.096Z"
   },
   {
    "duration": 748,
    "start_time": "2021-11-12T12:30:11.707Z"
   },
   {
    "duration": 27,
    "start_time": "2021-11-12T12:30:12.457Z"
   },
   {
    "duration": 6,
    "start_time": "2021-11-12T12:30:12.486Z"
   },
   {
    "duration": 37,
    "start_time": "2021-11-12T12:30:12.494Z"
   },
   {
    "duration": 12,
    "start_time": "2021-11-12T12:30:12.534Z"
   },
   {
    "duration": 14,
    "start_time": "2021-11-12T12:30:12.548Z"
   },
   {
    "duration": 17,
    "start_time": "2021-11-12T12:30:12.564Z"
   },
   {
    "duration": 475,
    "start_time": "2021-11-12T12:30:12.583Z"
   },
   {
    "duration": -137,
    "start_time": "2021-11-12T12:30:13.197Z"
   },
   {
    "duration": -141,
    "start_time": "2021-11-12T12:30:13.202Z"
   },
   {
    "duration": -144,
    "start_time": "2021-11-12T12:30:13.207Z"
   },
   {
    "duration": -147,
    "start_time": "2021-11-12T12:30:13.211Z"
   },
   {
    "duration": -149,
    "start_time": "2021-11-12T12:30:13.214Z"
   },
   {
    "duration": 8,
    "start_time": "2021-11-12T12:30:56.134Z"
   },
   {
    "duration": 6,
    "start_time": "2021-11-12T12:30:56.766Z"
   },
   {
    "duration": 7,
    "start_time": "2021-11-12T12:30:57.239Z"
   },
   {
    "duration": 955,
    "start_time": "2021-11-12T12:30:58.292Z"
   },
   {
    "duration": 867,
    "start_time": "2021-11-12T12:31:00.016Z"
   }
  ],
  "kernelspec": {
   "display_name": "Python 3 (ipykernel)",
   "language": "python",
   "name": "python3"
  },
  "language_info": {
   "codemirror_mode": {
    "name": "ipython",
    "version": 3
   },
   "file_extension": ".py",
   "mimetype": "text/x-python",
   "name": "python",
   "nbconvert_exporter": "python",
   "pygments_lexer": "ipython3",
   "version": "3.9.7"
  },
  "toc": {
   "base_numbering": 1,
   "nav_menu": {},
   "number_sections": true,
   "sideBar": true,
   "skip_h1_title": true,
   "title_cell": "Table of Contents",
   "title_sidebar": "Contents",
   "toc_cell": false,
   "toc_position": {},
   "toc_section_display": true,
   "toc_window_display": false
  }
 },
 "nbformat": 4,
 "nbformat_minor": 2
}
