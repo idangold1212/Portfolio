{
 "cells": [
  {
   "cell_type": "markdown",
   "metadata": {},
   "source": [
    "# Project Forecasts & Predictions"
   ]
  },
  {
   "cell_type": "markdown",
   "metadata": {},
   "source": [
    "Gym chain Model Fitness is developing a customer interaction strategy based on analytical data.\n",
    "In order to fight churn, Model Fitness has digitized a number of its customer profiles. My task is to analyze them and come up with a customer retention strategy.\n",
    "1. Preprocessing the data\n",
    "2. EDA \n",
    "3. Prediction models and testing\n",
    "4. Clustring the data\n",
    "5. Conclusion & Recommendations"
   ]
  },
  {
   "cell_type": "code",
   "execution_count": 1,
   "metadata": {},
   "outputs": [],
   "source": [
    "import pandas as pd\n",
    "import numpy as np\n",
    "import seaborn as sns\n",
    "import matplotlib.pyplot as plt\n",
    "from sklearn.model_selection import train_test_split\n",
    "from sklearn.linear_model import LogisticRegression\n",
    "from sklearn.ensemble import RandomForestClassifier, GradientBoostingClassifier\n",
    "from sklearn.tree import DecisionTreeClassifier\n",
    "from sklearn.preprocessing import StandardScaler\n",
    "from sklearn.metrics import confusion_matrix\n",
    "from sklearn.cluster import KMeans\n",
    "from scipy.cluster.hierarchy import dendrogram, linkage \n",
    "from sklearn.metrics import accuracy_score, precision_score, recall_score, f1_score"
   ]
  },
  {
   "cell_type": "code",
   "execution_count": 2,
   "metadata": {},
   "outputs": [],
   "source": [
    "try:\n",
    "    data=pd.read_csv('/datasets/gym_churn_us.csv')\n",
    "except:\n",
    "    data=pd.read_csv('gym_churn_us.csv')"
   ]
  },
  {
   "cell_type": "code",
   "execution_count": 3,
   "metadata": {
    "scrolled": false
   },
   "outputs": [
    {
     "data": {
      "text/html": [
       "<div>\n",
       "<style scoped>\n",
       "    .dataframe tbody tr th:only-of-type {\n",
       "        vertical-align: middle;\n",
       "    }\n",
       "\n",
       "    .dataframe tbody tr th {\n",
       "        vertical-align: top;\n",
       "    }\n",
       "\n",
       "    .dataframe thead th {\n",
       "        text-align: right;\n",
       "    }\n",
       "</style>\n",
       "<table border=\"1\" class=\"dataframe\">\n",
       "  <thead>\n",
       "    <tr style=\"text-align: right;\">\n",
       "      <th></th>\n",
       "      <th>gender</th>\n",
       "      <th>Near_Location</th>\n",
       "      <th>Partner</th>\n",
       "      <th>Promo_friends</th>\n",
       "      <th>Phone</th>\n",
       "      <th>Contract_period</th>\n",
       "      <th>Group_visits</th>\n",
       "      <th>Age</th>\n",
       "      <th>Avg_additional_charges_total</th>\n",
       "      <th>Month_to_end_contract</th>\n",
       "      <th>Lifetime</th>\n",
       "      <th>Avg_class_frequency_total</th>\n",
       "      <th>Avg_class_frequency_current_month</th>\n",
       "      <th>Churn</th>\n",
       "    </tr>\n",
       "  </thead>\n",
       "  <tbody>\n",
       "    <tr>\n",
       "      <th>0</th>\n",
       "      <td>1</td>\n",
       "      <td>1</td>\n",
       "      <td>1</td>\n",
       "      <td>1</td>\n",
       "      <td>0</td>\n",
       "      <td>6</td>\n",
       "      <td>1</td>\n",
       "      <td>29</td>\n",
       "      <td>14.227470</td>\n",
       "      <td>5.0</td>\n",
       "      <td>3</td>\n",
       "      <td>0.020398</td>\n",
       "      <td>0.000000</td>\n",
       "      <td>0</td>\n",
       "    </tr>\n",
       "    <tr>\n",
       "      <th>1</th>\n",
       "      <td>0</td>\n",
       "      <td>1</td>\n",
       "      <td>0</td>\n",
       "      <td>0</td>\n",
       "      <td>1</td>\n",
       "      <td>12</td>\n",
       "      <td>1</td>\n",
       "      <td>31</td>\n",
       "      <td>113.202938</td>\n",
       "      <td>12.0</td>\n",
       "      <td>7</td>\n",
       "      <td>1.922936</td>\n",
       "      <td>1.910244</td>\n",
       "      <td>0</td>\n",
       "    </tr>\n",
       "    <tr>\n",
       "      <th>2</th>\n",
       "      <td>0</td>\n",
       "      <td>1</td>\n",
       "      <td>1</td>\n",
       "      <td>0</td>\n",
       "      <td>1</td>\n",
       "      <td>1</td>\n",
       "      <td>0</td>\n",
       "      <td>28</td>\n",
       "      <td>129.448479</td>\n",
       "      <td>1.0</td>\n",
       "      <td>2</td>\n",
       "      <td>1.859098</td>\n",
       "      <td>1.736502</td>\n",
       "      <td>0</td>\n",
       "    </tr>\n",
       "    <tr>\n",
       "      <th>3</th>\n",
       "      <td>0</td>\n",
       "      <td>1</td>\n",
       "      <td>1</td>\n",
       "      <td>1</td>\n",
       "      <td>1</td>\n",
       "      <td>12</td>\n",
       "      <td>1</td>\n",
       "      <td>33</td>\n",
       "      <td>62.669863</td>\n",
       "      <td>12.0</td>\n",
       "      <td>2</td>\n",
       "      <td>3.205633</td>\n",
       "      <td>3.357215</td>\n",
       "      <td>0</td>\n",
       "    </tr>\n",
       "    <tr>\n",
       "      <th>4</th>\n",
       "      <td>1</td>\n",
       "      <td>1</td>\n",
       "      <td>1</td>\n",
       "      <td>1</td>\n",
       "      <td>1</td>\n",
       "      <td>1</td>\n",
       "      <td>0</td>\n",
       "      <td>26</td>\n",
       "      <td>198.362265</td>\n",
       "      <td>1.0</td>\n",
       "      <td>3</td>\n",
       "      <td>1.113884</td>\n",
       "      <td>1.120078</td>\n",
       "      <td>0</td>\n",
       "    </tr>\n",
       "    <tr>\n",
       "      <th>5</th>\n",
       "      <td>1</td>\n",
       "      <td>1</td>\n",
       "      <td>0</td>\n",
       "      <td>0</td>\n",
       "      <td>1</td>\n",
       "      <td>1</td>\n",
       "      <td>1</td>\n",
       "      <td>34</td>\n",
       "      <td>450.743960</td>\n",
       "      <td>1.0</td>\n",
       "      <td>3</td>\n",
       "      <td>2.623477</td>\n",
       "      <td>2.637007</td>\n",
       "      <td>0</td>\n",
       "    </tr>\n",
       "    <tr>\n",
       "      <th>6</th>\n",
       "      <td>1</td>\n",
       "      <td>1</td>\n",
       "      <td>1</td>\n",
       "      <td>1</td>\n",
       "      <td>0</td>\n",
       "      <td>6</td>\n",
       "      <td>1</td>\n",
       "      <td>32</td>\n",
       "      <td>94.266389</td>\n",
       "      <td>6.0</td>\n",
       "      <td>2</td>\n",
       "      <td>1.138941</td>\n",
       "      <td>1.277242</td>\n",
       "      <td>0</td>\n",
       "    </tr>\n",
       "    <tr>\n",
       "      <th>7</th>\n",
       "      <td>0</td>\n",
       "      <td>1</td>\n",
       "      <td>0</td>\n",
       "      <td>0</td>\n",
       "      <td>1</td>\n",
       "      <td>1</td>\n",
       "      <td>0</td>\n",
       "      <td>30</td>\n",
       "      <td>217.786641</td>\n",
       "      <td>1.0</td>\n",
       "      <td>0</td>\n",
       "      <td>1.213502</td>\n",
       "      <td>1.049387</td>\n",
       "      <td>1</td>\n",
       "    </tr>\n",
       "    <tr>\n",
       "      <th>8</th>\n",
       "      <td>1</td>\n",
       "      <td>1</td>\n",
       "      <td>1</td>\n",
       "      <td>1</td>\n",
       "      <td>1</td>\n",
       "      <td>1</td>\n",
       "      <td>1</td>\n",
       "      <td>23</td>\n",
       "      <td>45.409909</td>\n",
       "      <td>1.0</td>\n",
       "      <td>1</td>\n",
       "      <td>1.106239</td>\n",
       "      <td>1.059333</td>\n",
       "      <td>0</td>\n",
       "    </tr>\n",
       "    <tr>\n",
       "      <th>9</th>\n",
       "      <td>0</td>\n",
       "      <td>1</td>\n",
       "      <td>0</td>\n",
       "      <td>0</td>\n",
       "      <td>1</td>\n",
       "      <td>1</td>\n",
       "      <td>0</td>\n",
       "      <td>31</td>\n",
       "      <td>65.310836</td>\n",
       "      <td>1.0</td>\n",
       "      <td>11</td>\n",
       "      <td>1.810852</td>\n",
       "      <td>1.951368</td>\n",
       "      <td>0</td>\n",
       "    </tr>\n",
       "  </tbody>\n",
       "</table>\n",
       "</div>"
      ],
      "text/plain": [
       "   gender  Near_Location  Partner  Promo_friends  Phone  Contract_period  \\\n",
       "0       1              1        1              1      0                6   \n",
       "1       0              1        0              0      1               12   \n",
       "2       0              1        1              0      1                1   \n",
       "3       0              1        1              1      1               12   \n",
       "4       1              1        1              1      1                1   \n",
       "5       1              1        0              0      1                1   \n",
       "6       1              1        1              1      0                6   \n",
       "7       0              1        0              0      1                1   \n",
       "8       1              1        1              1      1                1   \n",
       "9       0              1        0              0      1                1   \n",
       "\n",
       "   Group_visits  Age  Avg_additional_charges_total  Month_to_end_contract  \\\n",
       "0             1   29                     14.227470                    5.0   \n",
       "1             1   31                    113.202938                   12.0   \n",
       "2             0   28                    129.448479                    1.0   \n",
       "3             1   33                     62.669863                   12.0   \n",
       "4             0   26                    198.362265                    1.0   \n",
       "5             1   34                    450.743960                    1.0   \n",
       "6             1   32                     94.266389                    6.0   \n",
       "7             0   30                    217.786641                    1.0   \n",
       "8             1   23                     45.409909                    1.0   \n",
       "9             0   31                     65.310836                    1.0   \n",
       "\n",
       "   Lifetime  Avg_class_frequency_total  Avg_class_frequency_current_month  \\\n",
       "0         3                   0.020398                           0.000000   \n",
       "1         7                   1.922936                           1.910244   \n",
       "2         2                   1.859098                           1.736502   \n",
       "3         2                   3.205633                           3.357215   \n",
       "4         3                   1.113884                           1.120078   \n",
       "5         3                   2.623477                           2.637007   \n",
       "6         2                   1.138941                           1.277242   \n",
       "7         0                   1.213502                           1.049387   \n",
       "8         1                   1.106239                           1.059333   \n",
       "9        11                   1.810852                           1.951368   \n",
       "\n",
       "   Churn  \n",
       "0      0  \n",
       "1      0  \n",
       "2      0  \n",
       "3      0  \n",
       "4      0  \n",
       "5      0  \n",
       "6      0  \n",
       "7      1  \n",
       "8      0  \n",
       "9      0  "
      ]
     },
     "execution_count": 3,
     "metadata": {},
     "output_type": "execute_result"
    }
   ],
   "source": [
    "data.head(10)"
   ]
  },
  {
   "cell_type": "code",
   "execution_count": 4,
   "metadata": {},
   "outputs": [],
   "source": [
    "data.columns= data.columns.str.lower() #lowering the letters "
   ]
  },
  {
   "cell_type": "code",
   "execution_count": 5,
   "metadata": {},
   "outputs": [
    {
     "data": {
      "text/plain": [
       "(4000, 14)"
      ]
     },
     "execution_count": 5,
     "metadata": {},
     "output_type": "execute_result"
    }
   ],
   "source": [
    "data.shape"
   ]
  },
  {
   "cell_type": "markdown",
   "metadata": {},
   "source": [
    "4000 observation is relatively small amount.\n",
    "The data has 14 columns or 13 features from machine learning point of view."
   ]
  },
  {
   "cell_type": "code",
   "execution_count": 6,
   "metadata": {},
   "outputs": [
    {
     "name": "stdout",
     "output_type": "stream",
     "text": [
      "<class 'pandas.core.frame.DataFrame'>\n",
      "RangeIndex: 4000 entries, 0 to 3999\n",
      "Data columns (total 14 columns):\n",
      " #   Column                             Non-Null Count  Dtype  \n",
      "---  ------                             --------------  -----  \n",
      " 0   gender                             4000 non-null   int64  \n",
      " 1   near_location                      4000 non-null   int64  \n",
      " 2   partner                            4000 non-null   int64  \n",
      " 3   promo_friends                      4000 non-null   int64  \n",
      " 4   phone                              4000 non-null   int64  \n",
      " 5   contract_period                    4000 non-null   int64  \n",
      " 6   group_visits                       4000 non-null   int64  \n",
      " 7   age                                4000 non-null   int64  \n",
      " 8   avg_additional_charges_total       4000 non-null   float64\n",
      " 9   month_to_end_contract              4000 non-null   float64\n",
      " 10  lifetime                           4000 non-null   int64  \n",
      " 11  avg_class_frequency_total          4000 non-null   float64\n",
      " 12  avg_class_frequency_current_month  4000 non-null   float64\n",
      " 13  churn                              4000 non-null   int64  \n",
      "dtypes: float64(4), int64(10)\n",
      "memory usage: 437.6 KB\n"
     ]
    }
   ],
   "source": [
    "data.info()"
   ]
  },
  {
   "cell_type": "markdown",
   "metadata": {},
   "source": [
    "First of all there isn't any missing values. Also the values are numbers and not strings so the part of modeling and predictions will be done well."
   ]
  },
  {
   "cell_type": "markdown",
   "metadata": {},
   "source": [
    "# Step 2. Carry out exploratory data analysis (EDA)"
   ]
  },
  {
   "cell_type": "code",
   "execution_count": 7,
   "metadata": {
    "scrolled": true
   },
   "outputs": [
    {
     "data": {
      "text/html": [
       "<div>\n",
       "<style scoped>\n",
       "    .dataframe tbody tr th:only-of-type {\n",
       "        vertical-align: middle;\n",
       "    }\n",
       "\n",
       "    .dataframe tbody tr th {\n",
       "        vertical-align: top;\n",
       "    }\n",
       "\n",
       "    .dataframe thead th {\n",
       "        text-align: right;\n",
       "    }\n",
       "</style>\n",
       "<table border=\"1\" class=\"dataframe\">\n",
       "  <thead>\n",
       "    <tr style=\"text-align: right;\">\n",
       "      <th></th>\n",
       "      <th>gender</th>\n",
       "      <th>near_location</th>\n",
       "      <th>partner</th>\n",
       "      <th>promo_friends</th>\n",
       "      <th>phone</th>\n",
       "      <th>contract_period</th>\n",
       "      <th>group_visits</th>\n",
       "      <th>age</th>\n",
       "      <th>avg_additional_charges_total</th>\n",
       "      <th>month_to_end_contract</th>\n",
       "      <th>lifetime</th>\n",
       "      <th>avg_class_frequency_total</th>\n",
       "      <th>avg_class_frequency_current_month</th>\n",
       "      <th>churn</th>\n",
       "    </tr>\n",
       "  </thead>\n",
       "  <tbody>\n",
       "    <tr>\n",
       "      <th>count</th>\n",
       "      <td>4000.000000</td>\n",
       "      <td>4000.000000</td>\n",
       "      <td>4000.000000</td>\n",
       "      <td>4000.000000</td>\n",
       "      <td>4000.000000</td>\n",
       "      <td>4000.000000</td>\n",
       "      <td>4000.000000</td>\n",
       "      <td>4000.000000</td>\n",
       "      <td>4000.000000</td>\n",
       "      <td>4000.000000</td>\n",
       "      <td>4000.000000</td>\n",
       "      <td>4000.000000</td>\n",
       "      <td>4000.000000</td>\n",
       "      <td>4000.000000</td>\n",
       "    </tr>\n",
       "    <tr>\n",
       "      <th>mean</th>\n",
       "      <td>0.510250</td>\n",
       "      <td>0.845250</td>\n",
       "      <td>0.486750</td>\n",
       "      <td>0.308500</td>\n",
       "      <td>0.903500</td>\n",
       "      <td>4.681250</td>\n",
       "      <td>0.412250</td>\n",
       "      <td>29.184250</td>\n",
       "      <td>146.943728</td>\n",
       "      <td>4.322750</td>\n",
       "      <td>3.724750</td>\n",
       "      <td>1.879020</td>\n",
       "      <td>1.767052</td>\n",
       "      <td>0.265250</td>\n",
       "    </tr>\n",
       "    <tr>\n",
       "      <th>std</th>\n",
       "      <td>0.499957</td>\n",
       "      <td>0.361711</td>\n",
       "      <td>0.499887</td>\n",
       "      <td>0.461932</td>\n",
       "      <td>0.295313</td>\n",
       "      <td>4.549706</td>\n",
       "      <td>0.492301</td>\n",
       "      <td>3.258367</td>\n",
       "      <td>96.355602</td>\n",
       "      <td>4.191297</td>\n",
       "      <td>3.749267</td>\n",
       "      <td>0.972245</td>\n",
       "      <td>1.052906</td>\n",
       "      <td>0.441521</td>\n",
       "    </tr>\n",
       "    <tr>\n",
       "      <th>min</th>\n",
       "      <td>0.000000</td>\n",
       "      <td>0.000000</td>\n",
       "      <td>0.000000</td>\n",
       "      <td>0.000000</td>\n",
       "      <td>0.000000</td>\n",
       "      <td>1.000000</td>\n",
       "      <td>0.000000</td>\n",
       "      <td>18.000000</td>\n",
       "      <td>0.148205</td>\n",
       "      <td>1.000000</td>\n",
       "      <td>0.000000</td>\n",
       "      <td>0.000000</td>\n",
       "      <td>0.000000</td>\n",
       "      <td>0.000000</td>\n",
       "    </tr>\n",
       "    <tr>\n",
       "      <th>25%</th>\n",
       "      <td>0.000000</td>\n",
       "      <td>1.000000</td>\n",
       "      <td>0.000000</td>\n",
       "      <td>0.000000</td>\n",
       "      <td>1.000000</td>\n",
       "      <td>1.000000</td>\n",
       "      <td>0.000000</td>\n",
       "      <td>27.000000</td>\n",
       "      <td>68.868830</td>\n",
       "      <td>1.000000</td>\n",
       "      <td>1.000000</td>\n",
       "      <td>1.180875</td>\n",
       "      <td>0.963003</td>\n",
       "      <td>0.000000</td>\n",
       "    </tr>\n",
       "    <tr>\n",
       "      <th>50%</th>\n",
       "      <td>1.000000</td>\n",
       "      <td>1.000000</td>\n",
       "      <td>0.000000</td>\n",
       "      <td>0.000000</td>\n",
       "      <td>1.000000</td>\n",
       "      <td>1.000000</td>\n",
       "      <td>0.000000</td>\n",
       "      <td>29.000000</td>\n",
       "      <td>136.220159</td>\n",
       "      <td>1.000000</td>\n",
       "      <td>3.000000</td>\n",
       "      <td>1.832768</td>\n",
       "      <td>1.719574</td>\n",
       "      <td>0.000000</td>\n",
       "    </tr>\n",
       "    <tr>\n",
       "      <th>75%</th>\n",
       "      <td>1.000000</td>\n",
       "      <td>1.000000</td>\n",
       "      <td>1.000000</td>\n",
       "      <td>1.000000</td>\n",
       "      <td>1.000000</td>\n",
       "      <td>6.000000</td>\n",
       "      <td>1.000000</td>\n",
       "      <td>31.000000</td>\n",
       "      <td>210.949625</td>\n",
       "      <td>6.000000</td>\n",
       "      <td>5.000000</td>\n",
       "      <td>2.536078</td>\n",
       "      <td>2.510336</td>\n",
       "      <td>1.000000</td>\n",
       "    </tr>\n",
       "    <tr>\n",
       "      <th>max</th>\n",
       "      <td>1.000000</td>\n",
       "      <td>1.000000</td>\n",
       "      <td>1.000000</td>\n",
       "      <td>1.000000</td>\n",
       "      <td>1.000000</td>\n",
       "      <td>12.000000</td>\n",
       "      <td>1.000000</td>\n",
       "      <td>41.000000</td>\n",
       "      <td>552.590740</td>\n",
       "      <td>12.000000</td>\n",
       "      <td>31.000000</td>\n",
       "      <td>6.023668</td>\n",
       "      <td>6.146783</td>\n",
       "      <td>1.000000</td>\n",
       "    </tr>\n",
       "  </tbody>\n",
       "</table>\n",
       "</div>"
      ],
      "text/plain": [
       "            gender  near_location      partner  promo_friends        phone  \\\n",
       "count  4000.000000    4000.000000  4000.000000    4000.000000  4000.000000   \n",
       "mean      0.510250       0.845250     0.486750       0.308500     0.903500   \n",
       "std       0.499957       0.361711     0.499887       0.461932     0.295313   \n",
       "min       0.000000       0.000000     0.000000       0.000000     0.000000   \n",
       "25%       0.000000       1.000000     0.000000       0.000000     1.000000   \n",
       "50%       1.000000       1.000000     0.000000       0.000000     1.000000   \n",
       "75%       1.000000       1.000000     1.000000       1.000000     1.000000   \n",
       "max       1.000000       1.000000     1.000000       1.000000     1.000000   \n",
       "\n",
       "       contract_period  group_visits          age  \\\n",
       "count      4000.000000   4000.000000  4000.000000   \n",
       "mean          4.681250      0.412250    29.184250   \n",
       "std           4.549706      0.492301     3.258367   \n",
       "min           1.000000      0.000000    18.000000   \n",
       "25%           1.000000      0.000000    27.000000   \n",
       "50%           1.000000      0.000000    29.000000   \n",
       "75%           6.000000      1.000000    31.000000   \n",
       "max          12.000000      1.000000    41.000000   \n",
       "\n",
       "       avg_additional_charges_total  month_to_end_contract     lifetime  \\\n",
       "count                   4000.000000            4000.000000  4000.000000   \n",
       "mean                     146.943728               4.322750     3.724750   \n",
       "std                       96.355602               4.191297     3.749267   \n",
       "min                        0.148205               1.000000     0.000000   \n",
       "25%                       68.868830               1.000000     1.000000   \n",
       "50%                      136.220159               1.000000     3.000000   \n",
       "75%                      210.949625               6.000000     5.000000   \n",
       "max                      552.590740              12.000000    31.000000   \n",
       "\n",
       "       avg_class_frequency_total  avg_class_frequency_current_month  \\\n",
       "count                4000.000000                        4000.000000   \n",
       "mean                    1.879020                           1.767052   \n",
       "std                     0.972245                           1.052906   \n",
       "min                     0.000000                           0.000000   \n",
       "25%                     1.180875                           0.963003   \n",
       "50%                     1.832768                           1.719574   \n",
       "75%                     2.536078                           2.510336   \n",
       "max                     6.023668                           6.146783   \n",
       "\n",
       "             churn  \n",
       "count  4000.000000  \n",
       "mean      0.265250  \n",
       "std       0.441521  \n",
       "min       0.000000  \n",
       "25%       0.000000  \n",
       "50%       0.000000  \n",
       "75%       1.000000  \n",
       "max       1.000000  "
      ]
     },
     "execution_count": 7,
     "metadata": {},
     "output_type": "execute_result"
    }
   ],
   "source": [
    "data.describe()"
   ]
  },
  {
   "cell_type": "markdown",
   "metadata": {},
   "source": [
    "Describe method gives us some important insights:\n",
    "1. Gender column has binaries values. The mean and std is almost equal so the distribution is normal and the data spilted equally between men and women.\n",
    "2. Near_location column has binaries values. More users comes to the gym from nearby rather then from far. \n",
    "3. My hypothesis regarding partner, promo_friends and phone columns that they are not impacting on the churn rate and doesn't correlate with it. Most users provided a phone number so that why the data doesn't varies much. Half of the users comes from a signed company (partner column) and few of the users signed up through \"bring a friend\" plan.\n",
    "4. Contract period has a mean of 4.6 month, median of 1 month and the std is 4.5. the distribution is skewed and my guess is that more users tend to take the shorter contracts.\n",
    "5. Age column has a normal distribution. the average age is 29\n",
    "6. Avg_additional_charges_total has a positive skewed curve. The values varies a lot and the mean is 147 dollars\n",
    "7. Due to the fact that most users tend to sign up for short contracts also the month to end contract is low and that is why the median in month_to_end_contract column is 1 month\n",
    "8. The lifetime distribution is positive skewed \n",
    "9. The average frequency columns has more or less normal distribution\n",
    "10. Churn column has binaries values and according to the mean more people tend to stay rather to leave the gym."
   ]
  },
  {
   "cell_type": "code",
   "execution_count": 8,
   "metadata": {},
   "outputs": [
    {
     "data": {
      "text/plain": [
       "0"
      ]
     },
     "execution_count": 8,
     "metadata": {},
     "output_type": "execute_result"
    }
   ],
   "source": [
    "data.duplicated().sum() #there is no duplicates values"
   ]
  },
  {
   "cell_type": "code",
   "execution_count": 9,
   "metadata": {
    "scrolled": false
   },
   "outputs": [
    {
     "data": {
      "text/html": [
       "<div>\n",
       "<style scoped>\n",
       "    .dataframe tbody tr th:only-of-type {\n",
       "        vertical-align: middle;\n",
       "    }\n",
       "\n",
       "    .dataframe tbody tr th {\n",
       "        vertical-align: top;\n",
       "    }\n",
       "\n",
       "    .dataframe thead th {\n",
       "        text-align: right;\n",
       "    }\n",
       "</style>\n",
       "<table border=\"1\" class=\"dataframe\">\n",
       "  <thead>\n",
       "    <tr style=\"text-align: right;\">\n",
       "      <th></th>\n",
       "      <th>churn</th>\n",
       "      <th>gender</th>\n",
       "      <th>near_location</th>\n",
       "      <th>partner</th>\n",
       "      <th>promo_friends</th>\n",
       "      <th>phone</th>\n",
       "      <th>contract_period</th>\n",
       "      <th>group_visits</th>\n",
       "      <th>age</th>\n",
       "      <th>avg_additional_charges_total</th>\n",
       "      <th>month_to_end_contract</th>\n",
       "      <th>lifetime</th>\n",
       "      <th>avg_class_frequency_total</th>\n",
       "      <th>avg_class_frequency_current_month</th>\n",
       "    </tr>\n",
       "  </thead>\n",
       "  <tbody>\n",
       "    <tr>\n",
       "      <th>0</th>\n",
       "      <td>0</td>\n",
       "      <td>0.510037</td>\n",
       "      <td>0.873086</td>\n",
       "      <td>0.534195</td>\n",
       "      <td>0.353522</td>\n",
       "      <td>0.903709</td>\n",
       "      <td>5.747193</td>\n",
       "      <td>0.464103</td>\n",
       "      <td>29.976523</td>\n",
       "      <td>158.445715</td>\n",
       "      <td>5.283089</td>\n",
       "      <td>4.711807</td>\n",
       "      <td>2.024876</td>\n",
       "      <td>2.027882</td>\n",
       "    </tr>\n",
       "    <tr>\n",
       "      <th>1</th>\n",
       "      <td>1</td>\n",
       "      <td>0.510839</td>\n",
       "      <td>0.768143</td>\n",
       "      <td>0.355325</td>\n",
       "      <td>0.183789</td>\n",
       "      <td>0.902922</td>\n",
       "      <td>1.728558</td>\n",
       "      <td>0.268615</td>\n",
       "      <td>26.989632</td>\n",
       "      <td>115.082899</td>\n",
       "      <td>1.662582</td>\n",
       "      <td>0.990575</td>\n",
       "      <td>1.474995</td>\n",
       "      <td>1.044546</td>\n",
       "    </tr>\n",
       "  </tbody>\n",
       "</table>\n",
       "</div>"
      ],
      "text/plain": [
       "   churn    gender  near_location   partner  promo_friends     phone  \\\n",
       "0      0  0.510037       0.873086  0.534195       0.353522  0.903709   \n",
       "1      1  0.510839       0.768143  0.355325       0.183789  0.902922   \n",
       "\n",
       "   contract_period  group_visits        age  avg_additional_charges_total  \\\n",
       "0         5.747193      0.464103  29.976523                    158.445715   \n",
       "1         1.728558      0.268615  26.989632                    115.082899   \n",
       "\n",
       "   month_to_end_contract  lifetime  avg_class_frequency_total  \\\n",
       "0               5.283089  4.711807                   2.024876   \n",
       "1               1.662582  0.990575                   1.474995   \n",
       "\n",
       "   avg_class_frequency_current_month  \n",
       "0                           2.027882  \n",
       "1                           1.044546  "
      ]
     },
     "execution_count": 9,
     "metadata": {},
     "output_type": "execute_result"
    }
   ],
   "source": [
    "data.groupby('churn').mean().reset_index()"
   ]
  },
  {
   "cell_type": "markdown",
   "metadata": {},
   "source": [
    "When grouping by churn we can conclude that:\n",
    "1. Users with short contracts tend to leave more often\n",
    "2. The average age of users leaving the gym is lower then the one who stay (27 compare to 30)\n",
    "3. The additional money spend is higher for the users who are staying (158 Dollars)\n",
    "4. The average month_to_end_contract is only 1.6 for churn and 5.2 for not churn which indicates that users tend to leave towards the end of the contract\n",
    "5. average liftime is much higher in users who are not leaving (4.7 compare to 1)\n",
    "6. The average frequency for the current month is twice higher for the users who stayed"
   ]
  },
  {
   "cell_type": "code",
   "execution_count": 35,
   "metadata": {
    "scrolled": false
   },
   "outputs": [
    {
     "data": {
      "image/png": "[encoded data removed]",
      "text/plain": [
       "<Figure size 360x288 with 1 Axes>"
      ]
     },
     "metadata": {
      "needs_background": "light"
     },
     "output_type": "display_data"
    },
    {
     "data": {
      "image/png": "[encoded data removed]",
      "text/plain": [
       "<Figure size 360x288 with 1 Axes>"
      ]
     },
     "metadata": {
      "needs_background": "light"
     },
     "output_type": "display_data"
    },
    {
     "data": {
      "image/png": "[encoded data removed]",
      "text/plain": [
       "<Figure size 360x288 with 1 Axes>"
      ]
     },
     "metadata": {
      "needs_background": "light"
     },
     "output_type": "display_data"
    },
    {
     "data": {
      "image/png": "[encoded data removed]",
      "text/plain": [
       "<Figure size 360x288 with 1 Axes>"
      ]
     },
     "metadata": {
      "needs_background": "light"
     },
     "output_type": "display_data"
    },
    {
     "data": {
      "image/png": "[encoded data removed]",
      "text/plain": [
       "<Figure size 360x288 with 1 Axes>"
      ]
     },
     "metadata": {
      "needs_background": "light"
     },
     "output_type": "display_data"
    },
    {
     "data": {
      "image/png": "[encoded data removed]",
      "text/plain": [
       "<Figure size 360x288 with 1 Axes>"
      ]
     },
     "metadata": {
      "needs_background": "light"
     },
     "output_type": "display_data"
    },
    {
     "data": {
      "image/png": "[encoded data removed]",
      "text/plain": [
       "<Figure size 360x288 with 1 Axes>"
      ]
     },
     "metadata": {
      "needs_background": "light"
     },
     "output_type": "display_data"
    },
    {
     "data": {
      "image/png": "[encoded data removed]",
      "text/plain": [
       "<Figure size 360x288 with 1 Axes>"
      ]
     },
     "metadata": {
      "needs_background": "light"
     },
     "output_type": "display_data"
    },
    {
     "data": {
      "image/png": "[encoded data removed]",
      "text/plain": [
       "<Figure size 360x288 with 1 Axes>"
      ]
     },
     "metadata": {
      "needs_background": "light"
     },
     "output_type": "display_data"
    },
    {
     "data": {
      "image/png": "[encoded data removed]",
      "text/plain": [
       "<Figure size 360x288 with 1 Axes>"
      ]
     },
     "metadata": {
      "needs_background": "light"
     },
     "output_type": "display_data"
    },
    {
     "data": {
      "image/png": "[encoded data removed]",
      "text/plain": [
       "<Figure size 360x288 with 1 Axes>"
      ]
     },
     "metadata": {
      "needs_background": "light"
     },
     "output_type": "display_data"
    },
    {
     "data": {
      "image/png": "[encoded data removed]",
      "text/plain": [
       "<Figure size 360x288 with 1 Axes>"
      ]
     },
     "metadata": {
      "needs_background": "light"
     },
     "output_type": "display_data"
    },
    {
     "data": {
      "image/png": "[encoded data removed]",
      "text/plain": [
       "<Figure size 360x288 with 1 Axes>"
      ]
     },
     "metadata": {
      "needs_background": "light"
     },
     "output_type": "display_data"
    },
    {
     "data": {
      "image/png": "[encoded data removed]",
      "text/plain": [
       "<Figure size 360x288 with 1 Axes>"
      ]
     },
     "metadata": {
      "needs_background": "light"
     },
     "output_type": "display_data"
    },
    {
     "data": {
      "image/png": "[encoded data removed]",
      "text/plain": [
       "<Figure size 360x288 with 1 Axes>"
      ]
     },
     "metadata": {
      "needs_background": "light"
     },
     "output_type": "display_data"
    }
   ],
   "source": [
    "for i, col in enumerate(data.columns):\n",
    "    plt.figure(i, figsize=(5,4))\n",
    "    sns.histplot(\n",
    "        data, x= col, hue='churn', palette= 'dark',multiple='dodge'\n",
    "    )\n",
    "    "
   ]
  },
  {
   "cell_type": "markdown",
   "metadata": {},
   "source": [
    "In columns: age, life time, avg additional charge, avg frequency the churn users follows the same pattern as the non churn users. \n",
    "In contract period the churn users tends to be more in the shorter period"
   ]
  },
  {
   "cell_type": "code",
   "execution_count": 11,
   "metadata": {},
   "outputs": [
    {
     "data": {
      "text/plain": [
       "<AxesSubplot:>"
      ]
     },
     "execution_count": 11,
     "metadata": {},
     "output_type": "execute_result"
    },
    {
     "data": {
      "image/png": "[encoded data removed]",
      "text/plain": [
       "<Figure size 1080x576 with 2 Axes>"
      ]
     },
     "metadata": {
      "needs_background": "light"
     },
     "output_type": "display_data"
    }
   ],
   "source": [
    "corr= data.corr()\n",
    "plt.figure(figsize= (15,8))\n",
    "sns.heatmap(corr, annot= True)"
   ]
  },
  {
   "cell_type": "markdown",
   "metadata": {},
   "source": [
    "We can noticed that contract_period and month_to_end_contract correlation is high which is make sense.\n",
    "average frequency of month and overall has high correlation of 0.95.\n",
    "All other features doesn't preform high correlation at all"
   ]
  },
  {
   "cell_type": "markdown",
   "metadata": {},
   "source": [
    "# Step 3. Build a model to predict user churn"
   ]
  },
  {
   "cell_type": "code",
   "execution_count": 12,
   "metadata": {},
   "outputs": [],
   "source": [
    "X= data.drop('churn', axis=1)\n",
    "y= data['churn'] # dividing the data to features and target"
   ]
  },
  {
   "cell_type": "code",
   "execution_count": 13,
   "metadata": {},
   "outputs": [],
   "source": [
    "X_train, X_test, y_train, y_test = train_test_split(X, y, test_size=0.2, random_state=0)"
   ]
  },
  {
   "cell_type": "code",
   "execution_count": 14,
   "metadata": {},
   "outputs": [],
   "source": [
    "lr_model = LogisticRegression(random_state=0)\n",
    "# train the model"
   ]
  },
  {
   "cell_type": "code",
   "execution_count": 15,
   "metadata": {},
   "outputs": [],
   "source": [
    "scaler = StandardScaler()\n",
    "scaler.fit(X_train)# train the scaler on the train set using the fit method\n",
    "X_train_st =scaler.transform(X_train) # standardize the train set using the transform scaler method\n",
    "X_test_st = scaler.transform(X_test)"
   ]
  },
  {
   "cell_type": "code",
   "execution_count": 16,
   "metadata": {},
   "outputs": [
    {
     "data": {
      "text/plain": [
       "LogisticRegression(random_state=0)"
      ]
     },
     "execution_count": 16,
     "metadata": {},
     "output_type": "execute_result"
    }
   ],
   "source": [
    "lr_model.fit(X_train_st, y_train)"
   ]
  },
  {
   "cell_type": "code",
   "execution_count": 17,
   "metadata": {
    "scrolled": false
   },
   "outputs": [
    {
     "data": {
      "text/plain": [
       "array([0, 1, 0, 1, 0, 0, 0, 0, 0, 0, 0, 0, 0, 0, 0, 0, 0, 0, 1, 0, 0, 0,\n",
       "       0, 0, 0, 1, 0, 1, 0, 0, 0, 0, 0, 0, 0, 0, 0, 0, 0, 0, 0, 0, 0, 0,\n",
       "       0, 1, 0, 0, 1, 1, 1, 0, 0, 0, 0, 0, 0, 0, 0, 0, 1, 1, 1, 0, 0, 0,\n",
       "       0, 0, 0, 0, 0, 0, 0, 0, 0, 0, 1, 1, 1, 0, 1, 0, 0, 0, 0, 1, 1, 0,\n",
       "       0, 0, 0, 0, 1, 0, 0, 0, 0, 0, 0, 1, 0, 1, 1, 0, 0, 0, 0, 0, 1, 0,\n",
       "       0, 0, 1, 0, 1, 0, 0, 1, 0, 0, 0, 0, 0, 0, 1, 0, 0, 0, 1, 0, 1, 0,\n",
       "       1, 0, 0, 1, 0, 1, 1, 1, 1, 1, 0, 0, 0, 1, 0, 1, 0, 0, 0, 1, 0, 0,\n",
       "       0, 1, 0, 1, 0, 1, 0, 0, 0, 1, 0, 0, 0, 0, 0, 1, 0, 0, 1, 0, 1, 0,\n",
       "       0, 0, 1, 0, 1, 1, 1, 0, 0, 1, 0, 0, 0, 0, 0, 0, 0, 0, 1, 0, 0, 0,\n",
       "       1, 0, 0, 0, 0, 0, 0, 0, 0, 0, 0, 0, 0, 0, 0, 0, 1, 0, 0, 0, 0, 0,\n",
       "       1, 0, 0, 0, 1, 1, 0, 0, 0, 0, 0, 0, 0, 0, 0, 0, 0, 0, 0, 0, 0, 0,\n",
       "       1, 0, 0, 0, 0, 0, 0, 0, 0, 0, 0, 0, 0, 0, 0, 1, 1, 0, 0, 0, 0, 0,\n",
       "       1, 1, 0, 0, 1, 0, 0, 1, 0, 0, 0, 0, 0, 1, 1, 0, 0, 0, 0, 0, 0, 0,\n",
       "       0, 0, 0, 0, 1, 0, 0, 0, 1, 1, 0, 0, 0, 0, 1, 0, 0, 1, 0, 0, 0, 0,\n",
       "       0, 0, 0, 0, 0, 0, 0, 0, 0, 0, 0, 0, 0, 0, 0, 0, 0, 0, 0, 0, 0, 0,\n",
       "       0, 0, 0, 0, 1, 1, 0, 1, 0, 1, 1, 0, 1, 0, 0, 0, 0, 0, 1, 0, 0, 0,\n",
       "       0, 0, 1, 0, 0, 1, 0, 1, 1, 1, 0, 1, 0, 0, 1, 0, 0, 0, 1, 0, 0, 1,\n",
       "       0, 1, 1, 1, 0, 0, 1, 1, 0, 0, 0, 0, 1, 0, 0, 0, 0, 0, 0, 0, 1, 0,\n",
       "       1, 0, 0, 0, 0, 0, 1, 0, 1, 0, 0, 0, 0, 0, 0, 0, 0, 0, 0, 0, 0, 0,\n",
       "       1, 0, 0, 0, 0, 0, 1, 0, 1, 0, 1, 0, 0, 0, 0, 1, 1, 0, 0, 1, 1, 0,\n",
       "       0, 0, 0, 0, 0, 0, 0, 0, 0, 0, 1, 0, 0, 0, 0, 1, 0, 0, 1, 0, 0, 0,\n",
       "       0, 1, 0, 0, 0, 0, 0, 1, 1, 0, 0, 0, 0, 0, 0, 1, 0, 1, 0, 0, 0, 0,\n",
       "       1, 0, 0, 0, 1, 1, 0, 0, 0, 0, 0, 0, 0, 0, 0, 0, 0, 0, 0, 0, 0, 0,\n",
       "       0, 1, 0, 0, 0, 0, 0, 0, 1, 0, 0, 0, 0, 1, 1, 0, 0, 1, 0, 0, 0, 0,\n",
       "       0, 0, 1, 0, 1, 0, 0, 0, 0, 1, 1, 1, 0, 1, 0, 0, 0, 0, 0, 1, 0, 1,\n",
       "       1, 0, 0, 0, 0, 1, 0, 1, 1, 0, 0, 0, 0, 1, 0, 0, 0, 0, 0, 1, 0, 1,\n",
       "       0, 0, 0, 1, 0, 0, 0, 1, 1, 0, 1, 0, 0, 0, 0, 1, 1, 0, 0, 1, 0, 0,\n",
       "       0, 0, 0, 0, 0, 0, 0, 0, 1, 1, 0, 1, 0, 1, 0, 0, 0, 1, 0, 0, 0, 1,\n",
       "       1, 1, 0, 1, 0, 1, 0, 0, 1, 0, 0, 0, 0, 0, 0, 0, 0, 0, 0, 0, 0, 1,\n",
       "       0, 0, 0, 0, 0, 0, 0, 0, 0, 1, 0, 0, 0, 0, 0, 0, 1, 0, 1, 0, 1, 1,\n",
       "       1, 0, 0, 0, 0, 0, 1, 0, 1, 0, 0, 0, 0, 0, 0, 0, 0, 0, 0, 0, 0, 0,\n",
       "       0, 0, 0, 1, 0, 0, 0, 0, 0, 0, 0, 0, 1, 0, 0, 0, 0, 1, 1, 0, 0, 0,\n",
       "       0, 0, 0, 0, 0, 0, 0, 0, 0, 0, 0, 0, 0, 1, 0, 0, 0, 0, 0, 0, 0, 1,\n",
       "       0, 0, 0, 1, 1, 1, 0, 0, 0, 0, 0, 1, 1, 1, 0, 0, 0, 0, 0, 0, 0, 0,\n",
       "       0, 0, 1, 1, 1, 1, 0, 0, 0, 0, 0, 0, 0, 0, 0, 0, 0, 0, 0, 1, 0, 0,\n",
       "       0, 0, 0, 0, 1, 1, 0, 1, 1, 0, 1, 0, 1, 1, 0, 1, 0, 0, 0, 0, 1, 1,\n",
       "       0, 1, 0, 1, 0, 0, 0, 0])"
      ]
     },
     "execution_count": 17,
     "metadata": {},
     "output_type": "execute_result"
    }
   ],
   "source": [
    "lr_predictions = lr_model.predict(X_test_st)\n",
    "lr_predictions"
   ]
  },
  {
   "cell_type": "code",
   "execution_count": 18,
   "metadata": {},
   "outputs": [],
   "source": [
    "lr_probabilities = lr_model.predict_proba(X_test_st)"
   ]
  },
  {
   "cell_type": "code",
   "execution_count": 19,
   "metadata": {},
   "outputs": [
    {
     "data": {
      "text/plain": [
       "array([[9.98389807e-01, 1.61019339e-03],\n",
       "       [2.26997245e-02, 9.77300276e-01],\n",
       "       [5.35484766e-01, 4.64515234e-01],\n",
       "       ...,\n",
       "       [8.67956658e-01, 1.32043342e-01],\n",
       "       [9.99994981e-01, 5.01899641e-06],\n",
       "       [9.99500115e-01, 4.99885356e-04]])"
      ]
     },
     "execution_count": 19,
     "metadata": {},
     "output_type": "execute_result"
    }
   ],
   "source": [
    "lr_probabilities"
   ]
  },
  {
   "cell_type": "code",
   "execution_count": 20,
   "metadata": {},
   "outputs": [],
   "source": [
    "def score(y_test,predictions):\n",
    "    acc= accuracy_score(y_test, predictions)\n",
    "    prec= precision_score(y_test, predictions)\n",
    "    recall= recall_score(y_test, predictions)\n",
    "    f1= f1_score(y_test, predictions)\n",
    "    print('Accuracy score is: {:.2f}'.format(acc))\n",
    "    print('Precision score is: {:.2f}'.format(prec))\n",
    "    print('Recall score is: {:.2f}'.format(recall))\n",
    "    print('F1 score is: {:.2f}'.format(f1))"
   ]
  },
  {
   "cell_type": "code",
   "execution_count": 21,
   "metadata": {},
   "outputs": [
    {
     "name": "stdout",
     "output_type": "stream",
     "text": [
      "Accuracy score is: 0.92\n",
      "Precision score is: 0.85\n",
      "Recall score is: 0.83\n",
      "F1 score is: 0.84\n"
     ]
    }
   ],
   "source": [
    "score(y_test, lr_predictions)"
   ]
  },
  {
   "cell_type": "code",
   "execution_count": 22,
   "metadata": {},
   "outputs": [],
   "source": [
    "rf_model= RandomForestClassifier()"
   ]
  },
  {
   "cell_type": "code",
   "execution_count": 23,
   "metadata": {},
   "outputs": [
    {
     "data": {
      "text/plain": [
       "RandomForestClassifier()"
      ]
     },
     "execution_count": 23,
     "metadata": {},
     "output_type": "execute_result"
    }
   ],
   "source": [
    "rf_model.fit(X_train_st, y_train)"
   ]
  },
  {
   "cell_type": "code",
   "execution_count": 24,
   "metadata": {},
   "outputs": [],
   "source": [
    "rf_predictions= rf_model.predict(X_test_st)"
   ]
  },
  {
   "cell_type": "code",
   "execution_count": 25,
   "metadata": {},
   "outputs": [
    {
     "name": "stdout",
     "output_type": "stream",
     "text": [
      "Accuracy score is: 0.92\n",
      "Precision score is: 0.85\n",
      "Recall score is: 0.83\n",
      "F1 score is: 0.84\n"
     ]
    }
   ],
   "source": [
    "score(y_test, rf_predictions)"
   ]
  },
  {
   "cell_type": "markdown",
   "metadata": {},
   "source": [
    "Logistics regression model preformed better then random forest model. It shows that the model is more accuracy in terms of true positives and overall probabilities"
   ]
  },
  {
   "cell_type": "code",
   "execution_count": 26,
   "metadata": {},
   "outputs": [],
   "source": [
    "sc = StandardScaler()\n",
    "X_sc = sc.fit_transform(X)\n",
    "\n",
    "km = KMeans(n_clusters = 5, random_state= 0) # setting the number of clusters as 5\n",
    "labels = km.fit_predict(X_sc)"
   ]
  },
  {
   "cell_type": "code",
   "execution_count": 27,
   "metadata": {},
   "outputs": [],
   "source": [
    "linked = linkage(X_sc, method = 'ward') \n"
   ]
  },
  {
   "cell_type": "code",
   "execution_count": 28,
   "metadata": {},
   "outputs": [
    {
     "data": {
      "image/png": "[encoded data removed]",
      "text/plain": [
       "<Figure size 1080x720 with 1 Axes>"
      ]
     },
     "metadata": {
      "needs_background": "light"
     },
     "output_type": "display_data"
    }
   ],
   "source": [
    "plt.figure(figsize=(15, 10))  \n",
    "dendrogram(linked, orientation='top')\n",
    "plt.title('Hierarchical clustering dendrogram')\n",
    "plt.show()"
   ]
  },
  {
   "cell_type": "code",
   "execution_count": 29,
   "metadata": {},
   "outputs": [],
   "source": [
    "data['cluster'] = labels"
   ]
  },
  {
   "cell_type": "code",
   "execution_count": 37,
   "metadata": {
    "scrolled": false
   },
   "outputs": [
    {
     "data": {
      "text/html": [
       "<div>\n",
       "<style scoped>\n",
       "    .dataframe tbody tr th:only-of-type {\n",
       "        vertical-align: middle;\n",
       "    }\n",
       "\n",
       "    .dataframe tbody tr th {\n",
       "        vertical-align: top;\n",
       "    }\n",
       "\n",
       "    .dataframe thead th {\n",
       "        text-align: right;\n",
       "    }\n",
       "</style>\n",
       "<table border=\"1\" class=\"dataframe\">\n",
       "  <thead>\n",
       "    <tr style=\"text-align: right;\">\n",
       "      <th></th>\n",
       "      <th>cluster</th>\n",
       "      <th>gender</th>\n",
       "      <th>near_location</th>\n",
       "      <th>partner</th>\n",
       "      <th>promo_friends</th>\n",
       "      <th>phone</th>\n",
       "      <th>contract_period</th>\n",
       "      <th>group_visits</th>\n",
       "      <th>age</th>\n",
       "      <th>avg_additional_charges_total</th>\n",
       "      <th>month_to_end_contract</th>\n",
       "      <th>lifetime</th>\n",
       "      <th>avg_class_frequency_total</th>\n",
       "      <th>avg_class_frequency_current_month</th>\n",
       "      <th>churn</th>\n",
       "    </tr>\n",
       "  </thead>\n",
       "  <tbody>\n",
       "    <tr>\n",
       "      <th>0</th>\n",
       "      <td>0</td>\n",
       "      <td>0.502970</td>\n",
       "      <td>0.959406</td>\n",
       "      <td>0.783168</td>\n",
       "      <td>0.574257</td>\n",
       "      <td>1.000000</td>\n",
       "      <td>10.889109</td>\n",
       "      <td>0.542574</td>\n",
       "      <td>29.982178</td>\n",
       "      <td>160.761016</td>\n",
       "      <td>9.954455</td>\n",
       "      <td>4.736634</td>\n",
       "      <td>1.982055</td>\n",
       "      <td>1.974789</td>\n",
       "      <td>0.027723</td>\n",
       "    </tr>\n",
       "    <tr>\n",
       "      <th>1</th>\n",
       "      <td>1</td>\n",
       "      <td>0.522078</td>\n",
       "      <td>0.862338</td>\n",
       "      <td>0.470130</td>\n",
       "      <td>0.306494</td>\n",
       "      <td>0.000000</td>\n",
       "      <td>4.787013</td>\n",
       "      <td>0.425974</td>\n",
       "      <td>29.301299</td>\n",
       "      <td>143.957664</td>\n",
       "      <td>4.475325</td>\n",
       "      <td>3.924675</td>\n",
       "      <td>1.847220</td>\n",
       "      <td>1.716369</td>\n",
       "      <td>0.267532</td>\n",
       "    </tr>\n",
       "    <tr>\n",
       "      <th>2</th>\n",
       "      <td>2</td>\n",
       "      <td>0.495050</td>\n",
       "      <td>0.000000</td>\n",
       "      <td>0.463366</td>\n",
       "      <td>0.079208</td>\n",
       "      <td>1.000000</td>\n",
       "      <td>2.352475</td>\n",
       "      <td>0.215842</td>\n",
       "      <td>28.477228</td>\n",
       "      <td>135.457501</td>\n",
       "      <td>2.198020</td>\n",
       "      <td>2.809901</td>\n",
       "      <td>1.660461</td>\n",
       "      <td>1.477324</td>\n",
       "      <td>0.443564</td>\n",
       "    </tr>\n",
       "    <tr>\n",
       "      <th>3</th>\n",
       "      <td>3</td>\n",
       "      <td>0.485737</td>\n",
       "      <td>1.000000</td>\n",
       "      <td>0.350238</td>\n",
       "      <td>0.240095</td>\n",
       "      <td>1.000000</td>\n",
       "      <td>1.948494</td>\n",
       "      <td>0.341521</td>\n",
       "      <td>28.167987</td>\n",
       "      <td>131.622204</td>\n",
       "      <td>1.856577</td>\n",
       "      <td>2.440571</td>\n",
       "      <td>1.247634</td>\n",
       "      <td>1.012983</td>\n",
       "      <td>0.514263</td>\n",
       "    </tr>\n",
       "    <tr>\n",
       "      <th>4</th>\n",
       "      <td>4</td>\n",
       "      <td>0.559666</td>\n",
       "      <td>0.976134</td>\n",
       "      <td>0.356802</td>\n",
       "      <td>0.230310</td>\n",
       "      <td>0.998807</td>\n",
       "      <td>2.669451</td>\n",
       "      <td>0.473747</td>\n",
       "      <td>30.125298</td>\n",
       "      <td>161.657905</td>\n",
       "      <td>2.459427</td>\n",
       "      <td>4.898568</td>\n",
       "      <td>2.852002</td>\n",
       "      <td>2.850161</td>\n",
       "      <td>0.068019</td>\n",
       "    </tr>\n",
       "  </tbody>\n",
       "</table>\n",
       "</div>"
      ],
      "text/plain": [
       "   cluster    gender  near_location   partner  promo_friends     phone  \\\n",
       "0        0  0.502970       0.959406  0.783168       0.574257  1.000000   \n",
       "1        1  0.522078       0.862338  0.470130       0.306494  0.000000   \n",
       "2        2  0.495050       0.000000  0.463366       0.079208  1.000000   \n",
       "3        3  0.485737       1.000000  0.350238       0.240095  1.000000   \n",
       "4        4  0.559666       0.976134  0.356802       0.230310  0.998807   \n",
       "\n",
       "   contract_period  group_visits        age  avg_additional_charges_total  \\\n",
       "0        10.889109      0.542574  29.982178                    160.761016   \n",
       "1         4.787013      0.425974  29.301299                    143.957664   \n",
       "2         2.352475      0.215842  28.477228                    135.457501   \n",
       "3         1.948494      0.341521  28.167987                    131.622204   \n",
       "4         2.669451      0.473747  30.125298                    161.657905   \n",
       "\n",
       "   month_to_end_contract  lifetime  avg_class_frequency_total  \\\n",
       "0               9.954455  4.736634                   1.982055   \n",
       "1               4.475325  3.924675                   1.847220   \n",
       "2               2.198020  2.809901                   1.660461   \n",
       "3               1.856577  2.440571                   1.247634   \n",
       "4               2.459427  4.898568                   2.852002   \n",
       "\n",
       "   avg_class_frequency_current_month     churn  \n",
       "0                           1.974789  0.027723  \n",
       "1                           1.716369  0.267532  \n",
       "2                           1.477324  0.443564  \n",
       "3                           1.012983  0.514263  \n",
       "4                           2.850161  0.068019  "
      ]
     },
     "execution_count": 37,
     "metadata": {},
     "output_type": "execute_result"
    }
   ],
   "source": [
    "cluster= data.groupby('cluster').mean().reset_index()\n",
    "cluster"
   ]
  },
  {
   "cell_type": "markdown",
   "metadata": {},
   "source": [
    "Conclusion: the features that impact the clusters the most are the ones that the mean values are different from one cluster to another one:\n",
    "1. contract_period\n",
    "2. month_to_end_contract\n",
    "3. avg_class_frequency_total\n",
    "4. avg_class_frequency_current_month\n",
    "5. avg_additional_charges_total\n",
    "6. lifetime\n",
    "7. churn"
   ]
  },
  {
   "cell_type": "code",
   "execution_count": 31,
   "metadata": {},
   "outputs": [
    {
     "data": {
      "image/png": "[encoded data removed]",
      "text/plain": [
       "<Figure size 432x288 with 1 Axes>"
      ]
     },
     "metadata": {
      "needs_background": "light"
     },
     "output_type": "display_data"
    },
    {
     "data": {
      "image/png": "[encoded data removed]",
      "text/plain": [
       "<Figure size 432x288 with 1 Axes>"
      ]
     },
     "metadata": {
      "needs_background": "light"
     },
     "output_type": "display_data"
    },
    {
     "data": {
      "image/png": "[encoded data removed]",
      "text/plain": [
       "<Figure size 432x288 with 1 Axes>"
      ]
     },
     "metadata": {
      "needs_background": "light"
     },
     "output_type": "display_data"
    },
    {
     "data": {
      "image/png": "[encoded data removed]",
      "text/plain": [
       "<Figure size 432x288 with 1 Axes>"
      ]
     },
     "metadata": {
      "needs_background": "light"
     },
     "output_type": "display_data"
    },
    {
     "data": {
      "image/png": "[encoded data removed]",
      "text/plain": [
       "<Figure size 432x288 with 1 Axes>"
      ]
     },
     "metadata": {
      "needs_background": "light"
     },
     "output_type": "display_data"
    },
    {
     "data": {
      "image/png": "[encoded data removed]",
      "text/plain": [
       "<Figure size 432x288 with 1 Axes>"
      ]
     },
     "metadata": {
      "needs_background": "light"
     },
     "output_type": "display_data"
    },
    {
     "data": {
      "image/png": "[encoded data removed]",
      "text/plain": [
       "<Figure size 432x288 with 1 Axes>"
      ]
     },
     "metadata": {
      "needs_background": "light"
     },
     "output_type": "display_data"
    },
    {
     "data": {
      "image/png": "[encoded data removed]",
      "text/plain": [
       "<Figure size 432x288 with 1 Axes>"
      ]
     },
     "metadata": {
      "needs_background": "light"
     },
     "output_type": "display_data"
    },
    {
     "data": {
      "image/png": "[encoded data removed]",
      "text/plain": [
       "<Figure size 432x288 with 1 Axes>"
      ]
     },
     "metadata": {
      "needs_background": "light"
     },
     "output_type": "display_data"
    },
    {
     "data": {
      "image/png": "[encoded data removed]",
      "text/plain": [
       "<Figure size 432x288 with 1 Axes>"
      ]
     },
     "metadata": {
      "needs_background": "light"
     },
     "output_type": "display_data"
    },
    {
     "data": {
      "image/png": "[encoded data removed]",
      "text/plain": [
       "<Figure size 432x288 with 1 Axes>"
      ]
     },
     "metadata": {
      "needs_background": "light"
     },
     "output_type": "display_data"
    },
    {
     "data": {
      "image/png": "[encoded data removed]",
      "text/plain": [
       "<Figure size 432x288 with 1 Axes>"
      ]
     },
     "metadata": {
      "needs_background": "light"
     },
     "output_type": "display_data"
    },
    {
     "data": {
      "image/png": "[encoded data removed]",
      "text/plain": [
       "<Figure size 432x288 with 1 Axes>"
      ]
     },
     "metadata": {
      "needs_background": "light"
     },
     "output_type": "display_data"
    },
    {
     "data": {
      "image/png": "[encoded data removed]",
      "text/plain": [
       "<Figure size 432x288 with 1 Axes>"
      ]
     },
     "metadata": {
      "needs_background": "light"
     },
     "output_type": "display_data"
    },
    {
     "data": {
      "image/png": "[encoded data removed]",
      "text/plain": [
       "<Figure size 432x288 with 1 Axes>"
      ]
     },
     "metadata": {
      "needs_background": "light"
     },
     "output_type": "display_data"
    }
   ],
   "source": [
    "for i in data: \n",
    "    \n",
    "    if i == 'cluster': #plotting for cluster\n",
    "        plt.figure(figsize=(6,4))\n",
    "        sns.histplot(data=data, x='cluster', color='green')\n",
    "        plt.xlabel('CLUSTER')\n",
    "        plt.ylabel('COUNT')\n",
    "    elif data[i].nunique() > 2 and data[i].nunique() !=3: #plotting for continous without contract period\n",
    "        plt.figure(figsize=(6,4))\n",
    "        sns.boxplot(data=data, x='cluster',y=i, palette= 'dark')\n",
    "        plt.xlabel('Cluster'.upper())\n",
    "        plt.ylabel(i.upper())\n",
    "    else:\n",
    "        plt.figure(figsize=(6,4)) #plotting for discrete\n",
    "        sns.barplot(data=data, x= i, y=data.index,hue='cluster', palette='dark')\n",
    "        plt.xlabel(i.upper())\n",
    "        plt.ylabel('COUNT')\n",
    "        "
   ]
  },
  {
   "cell_type": "code",
   "execution_count": 32,
   "metadata": {},
   "outputs": [
    {
     "data": {
      "text/html": [
       "<div>\n",
       "<style scoped>\n",
       "    .dataframe tbody tr th:only-of-type {\n",
       "        vertical-align: middle;\n",
       "    }\n",
       "\n",
       "    .dataframe tbody tr th {\n",
       "        vertical-align: top;\n",
       "    }\n",
       "\n",
       "    .dataframe thead th {\n",
       "        text-align: right;\n",
       "    }\n",
       "</style>\n",
       "<table border=\"1\" class=\"dataframe\">\n",
       "  <thead>\n",
       "    <tr style=\"text-align: right;\">\n",
       "      <th></th>\n",
       "      <th>cluster</th>\n",
       "      <th>churn</th>\n",
       "    </tr>\n",
       "  </thead>\n",
       "  <tbody>\n",
       "    <tr>\n",
       "      <th>0</th>\n",
       "      <td>0</td>\n",
       "      <td>28</td>\n",
       "    </tr>\n",
       "    <tr>\n",
       "      <th>1</th>\n",
       "      <td>1</td>\n",
       "      <td>103</td>\n",
       "    </tr>\n",
       "    <tr>\n",
       "      <th>2</th>\n",
       "      <td>2</td>\n",
       "      <td>224</td>\n",
       "    </tr>\n",
       "    <tr>\n",
       "      <th>3</th>\n",
       "      <td>3</td>\n",
       "      <td>649</td>\n",
       "    </tr>\n",
       "    <tr>\n",
       "      <th>4</th>\n",
       "      <td>4</td>\n",
       "      <td>57</td>\n",
       "    </tr>\n",
       "  </tbody>\n",
       "</table>\n",
       "</div>"
      ],
      "text/plain": [
       "   cluster  churn\n",
       "0        0     28\n",
       "1        1    103\n",
       "2        2    224\n",
       "3        3    649\n",
       "4        4     57"
      ]
     },
     "execution_count": 32,
     "metadata": {},
     "output_type": "execute_result"
    }
   ],
   "source": [
    "churn= data.query('churn==1').groupby('cluster')['churn'].count().reset_index()\n",
    "churn"
   ]
  },
  {
   "cell_type": "code",
   "execution_count": 33,
   "metadata": {},
   "outputs": [
    {
     "data": {
      "text/html": [
       "<div>\n",
       "<style scoped>\n",
       "    .dataframe tbody tr th:only-of-type {\n",
       "        vertical-align: middle;\n",
       "    }\n",
       "\n",
       "    .dataframe tbody tr th {\n",
       "        vertical-align: top;\n",
       "    }\n",
       "\n",
       "    .dataframe thead th {\n",
       "        text-align: right;\n",
       "    }\n",
       "</style>\n",
       "<table border=\"1\" class=\"dataframe\">\n",
       "  <thead>\n",
       "    <tr style=\"text-align: right;\">\n",
       "      <th></th>\n",
       "      <th>cluster</th>\n",
       "      <th>churn</th>\n",
       "    </tr>\n",
       "  </thead>\n",
       "  <tbody>\n",
       "    <tr>\n",
       "      <th>0</th>\n",
       "      <td>0</td>\n",
       "      <td>1010</td>\n",
       "    </tr>\n",
       "    <tr>\n",
       "      <th>1</th>\n",
       "      <td>1</td>\n",
       "      <td>385</td>\n",
       "    </tr>\n",
       "    <tr>\n",
       "      <th>2</th>\n",
       "      <td>2</td>\n",
       "      <td>505</td>\n",
       "    </tr>\n",
       "    <tr>\n",
       "      <th>3</th>\n",
       "      <td>3</td>\n",
       "      <td>1262</td>\n",
       "    </tr>\n",
       "    <tr>\n",
       "      <th>4</th>\n",
       "      <td>4</td>\n",
       "      <td>838</td>\n",
       "    </tr>\n",
       "  </tbody>\n",
       "</table>\n",
       "</div>"
      ],
      "text/plain": [
       "   cluster  churn\n",
       "0        0   1010\n",
       "1        1    385\n",
       "2        2    505\n",
       "3        3   1262\n",
       "4        4    838"
      ]
     },
     "execution_count": 33,
     "metadata": {},
     "output_type": "execute_result"
    }
   ],
   "source": [
    "users=data.groupby('cluster')['churn'].count().reset_index()\n",
    "users"
   ]
  },
  {
   "cell_type": "code",
   "execution_count": 45,
   "metadata": {
    "scrolled": true
   },
   "outputs": [
    {
     "data": {
      "text/plain": [
       "Text(0, 0.5, 'Churn %')"
      ]
     },
     "execution_count": 45,
     "metadata": {},
     "output_type": "execute_result"
    },
    {
     "data": {
      "image/png": "[encoded data removed]",
      "text/plain": [
       "<Figure size 432x288 with 1 Axes>"
      ]
     },
     "metadata": {
      "needs_background": "light"
     },
     "output_type": "display_data"
    }
   ],
   "source": [
    "churn_rate= (churn['churn'] / users['churn'] * 100\n",
    "            ).reset_index().sort_values(\n",
    "    by='churn', ascending=False\n",
    ")\n",
    "sns.barplot(data=churn_rate, x=churn_rate.index, y='churn')\n",
    "plt.xlabel('Cluster')\n",
    "plt.ylabel('Churn %')"
   ]
  },
  {
   "cell_type": "markdown",
   "metadata": {},
   "source": [
    "Cluster 3 has 51% churn rate while cluster 0 has only 2%"
   ]
  },
  {
   "cell_type": "markdown",
   "metadata": {},
   "source": [
    "<div class=\"alert alert-success\">\n",
    "<b>Reviewer's comment</b>\n",
    "\n",
    "Clusters were identified and studied successfully! It's nice that you used `random_state` to ensure reproducibility of your research\n",
    "\n",
    "</div>"
   ]
  },
  {
   "cell_type": "markdown",
   "metadata": {},
   "source": [
    "# Step 5. Come up with conclusions and basic recommendations on working with customers"
   ]
  },
  {
   "cell_type": "markdown",
   "metadata": {},
   "source": [
    "In order to gain higher retension rate we need to pay attension to cluster 2 and 3. Both of them have high churn rate. The features that can indicates leaving the gym the following month are:\n",
    "1. Contract period- the shorter contract the higher chance of churn.\n",
    "2. Users which are spending more money on others gym services likely to stay and not leave.\n",
    "3. Users that comes less then 2 times per week are not showing stability and having high chance of leaving.\n",
    "4. After 4 month since the first time user came to the gym there is a good chance he will stay and not leave according to lifetime column."
   ]
  }
 ],
 "metadata": {
  "ExecuteTimeLog": [
   {
    "duration": 467,
    "start_time": "2022-03-19T13:41:11.595Z"
   },
   {
    "duration": 133,
    "start_time": "2022-03-19T13:42:07.078Z"
   },
   {
    "duration": 48,
    "start_time": "2022-03-19T13:42:14.669Z"
   },
   {
    "duration": 4,
    "start_time": "2022-03-19T13:42:59.276Z"
   },
   {
    "duration": 1246,
    "start_time": "2022-03-19T13:43:07.781Z"
   },
   {
    "duration": 551,
    "start_time": "2022-03-19T13:43:41.929Z"
   },
   {
    "duration": 27,
    "start_time": "2022-03-19T13:44:48.734Z"
   },
   {
    "duration": 21,
    "start_time": "2022-03-19T13:45:03.298Z"
   },
   {
    "duration": 70,
    "start_time": "2022-03-19T13:45:47.742Z"
   },
   {
    "duration": 6,
    "start_time": "2022-03-19T13:46:03.383Z"
   },
   {
    "duration": 18,
    "start_time": "2022-03-19T13:46:11.181Z"
   },
   {
    "duration": 19,
    "start_time": "2022-03-19T13:48:14.471Z"
   },
   {
    "duration": 13,
    "start_time": "2022-03-19T13:48:24.095Z"
   },
   {
    "duration": 5,
    "start_time": "2022-03-19T13:52:12.014Z"
   },
   {
    "duration": 15,
    "start_time": "2022-03-19T13:52:15.613Z"
   },
   {
    "duration": 70,
    "start_time": "2022-03-19T13:52:18.498Z"
   },
   {
    "duration": 153,
    "start_time": "2022-03-19T13:52:31.475Z"
   },
   {
    "duration": 25,
    "start_time": "2022-03-19T13:52:46.731Z"
   },
   {
    "duration": 6,
    "start_time": "2022-03-19T16:02:01.619Z"
   },
   {
    "duration": 1511,
    "start_time": "2022-03-20T20:26:52.374Z"
   },
   {
    "duration": 47,
    "start_time": "2022-03-20T20:26:53.887Z"
   },
   {
    "duration": 15,
    "start_time": "2022-03-20T20:26:53.936Z"
   },
   {
    "duration": 3,
    "start_time": "2022-03-20T20:26:53.953Z"
   },
   {
    "duration": 7,
    "start_time": "2022-03-20T20:26:53.957Z"
   },
   {
    "duration": 12,
    "start_time": "2022-03-20T20:26:53.965Z"
   },
   {
    "duration": 40,
    "start_time": "2022-03-20T20:26:53.978Z"
   },
   {
    "duration": 24,
    "start_time": "2022-03-20T20:26:54.019Z"
   },
   {
    "duration": 15,
    "start_time": "2022-03-20T20:26:54.045Z"
   },
   {
    "duration": 102,
    "start_time": "2022-03-20T20:29:19.820Z"
   },
   {
    "duration": 14,
    "start_time": "2022-03-20T20:29:44.503Z"
   },
   {
    "duration": 7,
    "start_time": "2022-03-20T20:30:20.945Z"
   },
   {
    "duration": 15,
    "start_time": "2022-03-20T20:30:30.051Z"
   },
   {
    "duration": 15,
    "start_time": "2022-03-20T20:30:59.071Z"
   },
   {
    "duration": 8,
    "start_time": "2022-03-20T20:31:05.078Z"
   },
   {
    "duration": 238,
    "start_time": "2022-03-20T20:35:20.546Z"
   },
   {
    "duration": 105,
    "start_time": "2022-03-20T20:35:42.867Z"
   },
   {
    "duration": 101,
    "start_time": "2022-03-20T20:36:42.845Z"
   },
   {
    "duration": 101,
    "start_time": "2022-03-20T20:37:21.869Z"
   },
   {
    "duration": 9,
    "start_time": "2022-03-20T20:48:00.406Z"
   },
   {
    "duration": 107,
    "start_time": "2022-03-20T20:48:08.993Z"
   },
   {
    "duration": 309,
    "start_time": "2022-03-20T20:49:02.359Z"
   },
   {
    "duration": 135,
    "start_time": "2022-03-20T20:49:13.757Z"
   },
   {
    "duration": 202,
    "start_time": "2022-03-20T20:49:30.825Z"
   },
   {
    "duration": 515,
    "start_time": "2022-03-20T20:50:07.028Z"
   },
   {
    "duration": 160,
    "start_time": "2022-03-20T20:51:14.155Z"
   },
   {
    "duration": 13,
    "start_time": "2022-03-20T20:52:09.078Z"
   },
   {
    "duration": 9,
    "start_time": "2022-03-20T20:52:24.584Z"
   },
   {
    "duration": 105,
    "start_time": "2022-03-20T20:52:31.376Z"
   },
   {
    "duration": 573,
    "start_time": "2022-03-20T20:55:08.241Z"
   },
   {
    "duration": 158,
    "start_time": "2022-03-20T20:55:22.238Z"
   },
   {
    "duration": 179,
    "start_time": "2022-03-20T20:55:41.077Z"
   },
   {
    "duration": 154,
    "start_time": "2022-03-20T20:56:03.502Z"
   },
   {
    "duration": 10,
    "start_time": "2022-03-20T20:58:27.767Z"
   },
   {
    "duration": 3,
    "start_time": "2022-03-20T20:59:04.796Z"
   },
   {
    "duration": 12,
    "start_time": "2022-03-20T20:59:09.337Z"
   },
   {
    "duration": 4,
    "start_time": "2022-03-20T21:00:07.483Z"
   },
   {
    "duration": 2217,
    "start_time": "2022-03-20T21:00:12.620Z"
   },
   {
    "duration": 2083,
    "start_time": "2022-03-20T21:02:32.130Z"
   },
   {
    "duration": 17,
    "start_time": "2022-03-20T21:03:31.001Z"
   },
   {
    "duration": 14,
    "start_time": "2022-03-20T21:05:08.662Z"
   },
   {
    "duration": 125,
    "start_time": "2022-03-20T21:05:19.933Z"
   },
   {
    "duration": 10,
    "start_time": "2022-03-20T21:05:36.786Z"
   },
   {
    "duration": 10,
    "start_time": "2022-03-20T21:06:01.131Z"
   },
   {
    "duration": 165,
    "start_time": "2022-03-20T21:06:13.058Z"
   },
   {
    "duration": 302,
    "start_time": "2022-03-20T21:06:20.636Z"
   },
   {
    "duration": 15,
    "start_time": "2022-03-20T21:06:28.625Z"
   },
   {
    "duration": 147,
    "start_time": "2022-03-20T21:06:33.159Z"
   },
   {
    "duration": 205,
    "start_time": "2022-03-20T21:06:42.120Z"
   },
   {
    "duration": 3326,
    "start_time": "2022-03-20T21:07:01.234Z"
   },
   {
    "duration": 6,
    "start_time": "2022-03-20T21:09:44.957Z"
   },
   {
    "duration": 1414,
    "start_time": "2022-03-20T21:10:03.556Z"
   },
   {
    "duration": 116,
    "start_time": "2022-03-20T21:12:39.254Z"
   },
   {
    "duration": 1584,
    "start_time": "2022-03-20T21:12:54.965Z"
   },
   {
    "duration": 1846,
    "start_time": "2022-03-21T07:30:48.499Z"
   },
   {
    "duration": 254,
    "start_time": "2022-03-21T07:30:50.347Z"
   },
   {
    "duration": 18,
    "start_time": "2022-03-21T07:30:50.603Z"
   },
   {
    "duration": 3,
    "start_time": "2022-03-21T07:30:50.623Z"
   },
   {
    "duration": 9,
    "start_time": "2022-03-21T07:30:50.628Z"
   },
   {
    "duration": 19,
    "start_time": "2022-03-21T07:30:50.638Z"
   },
   {
    "duration": 43,
    "start_time": "2022-03-21T07:30:50.659Z"
   },
   {
    "duration": 8,
    "start_time": "2022-03-21T07:30:50.704Z"
   },
   {
    "duration": 33,
    "start_time": "2022-03-21T07:30:50.713Z"
   },
   {
    "duration": 9,
    "start_time": "2022-03-21T07:30:50.748Z"
   },
   {
    "duration": 252,
    "start_time": "2022-03-21T07:30:50.758Z"
   },
   {
    "duration": 3637,
    "start_time": "2022-03-21T07:30:51.012Z"
   },
   {
    "duration": 1729,
    "start_time": "2022-03-21T07:30:54.651Z"
   },
   {
    "duration": 4,
    "start_time": "2022-03-21T07:31:20.372Z"
   },
   {
    "duration": 5,
    "start_time": "2022-03-21T07:31:31.642Z"
   },
   {
    "duration": 5,
    "start_time": "2022-03-21T07:32:23.319Z"
   },
   {
    "duration": 3,
    "start_time": "2022-03-21T07:32:59.776Z"
   },
   {
    "duration": 1118,
    "start_time": "2022-03-21T07:33:31.016Z"
   },
   {
    "duration": 6,
    "start_time": "2022-03-21T07:34:05.100Z"
   },
   {
    "duration": 11,
    "start_time": "2022-03-21T07:34:13.995Z"
   },
   {
    "duration": 5,
    "start_time": "2022-03-21T07:34:57.090Z"
   },
   {
    "duration": 11,
    "start_time": "2022-03-21T07:35:06.173Z"
   },
   {
    "duration": 6,
    "start_time": "2022-03-21T07:35:15.501Z"
   },
   {
    "duration": 4,
    "start_time": "2022-03-21T07:35:16.983Z"
   },
   {
    "duration": 5,
    "start_time": "2022-03-21T07:35:25.140Z"
   },
   {
    "duration": 107,
    "start_time": "2022-03-21T07:36:16.428Z"
   },
   {
    "duration": 12,
    "start_time": "2022-03-21T07:36:28.455Z"
   },
   {
    "duration": 9,
    "start_time": "2022-03-21T07:40:59.578Z"
   },
   {
    "duration": 14,
    "start_time": "2022-03-21T07:41:19.946Z"
   },
   {
    "duration": 12,
    "start_time": "2022-03-21T07:41:41.557Z"
   },
   {
    "duration": 9,
    "start_time": "2022-03-21T07:42:47.912Z"
   },
   {
    "duration": 12,
    "start_time": "2022-03-21T07:42:52.564Z"
   },
   {
    "duration": 13,
    "start_time": "2022-03-21T07:44:44.253Z"
   },
   {
    "duration": 13,
    "start_time": "2022-03-21T07:51:56.597Z"
   },
   {
    "duration": 10,
    "start_time": "2022-03-21T07:54:29.423Z"
   },
   {
    "duration": 414,
    "start_time": "2022-03-21T07:54:41.324Z"
   },
   {
    "duration": 9,
    "start_time": "2022-03-21T07:54:48.193Z"
   },
   {
    "duration": 7,
    "start_time": "2022-03-21T07:54:53.953Z"
   },
   {
    "duration": 5,
    "start_time": "2022-03-21T07:54:55.923Z"
   },
   {
    "duration": 6,
    "start_time": "2022-03-21T07:55:05.074Z"
   },
   {
    "duration": 13,
    "start_time": "2022-03-21T07:55:12.373Z"
   },
   {
    "duration": 5,
    "start_time": "2022-03-21T07:57:04.002Z"
   },
   {
    "duration": 5,
    "start_time": "2022-03-21T07:57:09.931Z"
   },
   {
    "duration": 217,
    "start_time": "2022-03-21T07:57:28.672Z"
   },
   {
    "duration": 6,
    "start_time": "2022-03-21T07:58:07.896Z"
   },
   {
    "duration": 6,
    "start_time": "2022-03-21T07:58:22.948Z"
   },
   {
    "duration": 6,
    "start_time": "2022-03-21T07:58:35.645Z"
   },
   {
    "duration": 14,
    "start_time": "2022-03-21T08:03:41.050Z"
   },
   {
    "duration": 3,
    "start_time": "2022-03-21T08:06:59.082Z"
   },
   {
    "duration": 357,
    "start_time": "2022-03-21T08:07:30.684Z"
   },
   {
    "duration": 24,
    "start_time": "2022-03-21T08:08:10.134Z"
   },
   {
    "duration": 5,
    "start_time": "2022-03-21T08:08:40.252Z"
   },
   {
    "duration": 6,
    "start_time": "2022-03-21T08:08:58.152Z"
   },
   {
    "duration": 7,
    "start_time": "2022-03-21T08:09:27.545Z"
   },
   {
    "duration": 1980,
    "start_time": "2022-03-21T14:29:12.379Z"
   },
   {
    "duration": 30,
    "start_time": "2022-03-21T14:29:14.362Z"
   },
   {
    "duration": 25,
    "start_time": "2022-03-21T14:29:14.394Z"
   },
   {
    "duration": 16,
    "start_time": "2022-03-21T14:29:14.421Z"
   },
   {
    "duration": 16,
    "start_time": "2022-03-21T14:29:14.440Z"
   },
   {
    "duration": 27,
    "start_time": "2022-03-21T14:29:14.458Z"
   },
   {
    "duration": 52,
    "start_time": "2022-03-21T14:29:14.487Z"
   },
   {
    "duration": 8,
    "start_time": "2022-03-21T14:29:14.541Z"
   },
   {
    "duration": 16,
    "start_time": "2022-03-21T14:29:14.550Z"
   },
   {
    "duration": 16,
    "start_time": "2022-03-21T14:29:14.568Z"
   },
   {
    "duration": 253,
    "start_time": "2022-03-21T14:29:14.586Z"
   },
   {
    "duration": 3749,
    "start_time": "2022-03-21T14:29:14.840Z"
   },
   {
    "duration": 1771,
    "start_time": "2022-03-21T14:29:18.591Z"
   },
   {
    "duration": 4,
    "start_time": "2022-03-21T14:29:20.365Z"
   },
   {
    "duration": 12,
    "start_time": "2022-03-21T14:29:20.371Z"
   },
   {
    "duration": 8,
    "start_time": "2022-03-21T14:29:20.385Z"
   },
   {
    "duration": 24,
    "start_time": "2022-03-21T14:29:20.395Z"
   },
   {
    "duration": 502,
    "start_time": "2022-03-21T14:29:20.421Z"
   },
   {
    "duration": 184,
    "start_time": "2022-03-21T14:29:20.924Z"
   },
   {
    "duration": 99,
    "start_time": "2022-03-21T14:29:21.110Z"
   },
   {
    "duration": 101,
    "start_time": "2022-03-21T14:29:21.211Z"
   },
   {
    "duration": 7,
    "start_time": "2022-03-21T14:29:21.316Z"
   },
   {
    "duration": 298,
    "start_time": "2022-03-21T14:29:21.326Z"
   },
   {
    "duration": 0,
    "start_time": "2022-03-21T14:29:21.625Z"
   },
   {
    "duration": 0,
    "start_time": "2022-03-21T14:29:21.626Z"
   },
   {
    "duration": 0,
    "start_time": "2022-03-21T14:29:21.627Z"
   },
   {
    "duration": 0,
    "start_time": "2022-03-21T14:29:21.628Z"
   },
   {
    "duration": 0,
    "start_time": "2022-03-21T14:29:21.630Z"
   },
   {
    "duration": 0,
    "start_time": "2022-03-21T14:29:21.631Z"
   },
   {
    "duration": 0,
    "start_time": "2022-03-21T14:29:21.632Z"
   },
   {
    "duration": 0,
    "start_time": "2022-03-21T14:29:21.633Z"
   },
   {
    "duration": 0,
    "start_time": "2022-03-21T14:29:21.634Z"
   },
   {
    "duration": 4,
    "start_time": "2022-03-21T14:31:38.392Z"
   },
   {
    "duration": 238,
    "start_time": "2022-03-21T14:31:44.032Z"
   },
   {
    "duration": 5,
    "start_time": "2022-03-21T14:31:46.312Z"
   },
   {
    "duration": 7,
    "start_time": "2022-03-21T14:31:48.211Z"
   },
   {
    "duration": 6,
    "start_time": "2022-03-21T14:31:49.877Z"
   },
   {
    "duration": 2,
    "start_time": "2022-03-21T14:31:53.682Z"
   },
   {
    "duration": 329,
    "start_time": "2022-03-21T14:31:54.952Z"
   },
   {
    "duration": 24,
    "start_time": "2022-03-21T14:31:56.292Z"
   },
   {
    "duration": 6,
    "start_time": "2022-03-21T14:31:57.332Z"
   },
   {
    "duration": 6,
    "start_time": "2022-03-21T14:31:59.042Z"
   },
   {
    "duration": 7,
    "start_time": "2022-03-21T14:32:01.692Z"
   },
   {
    "duration": 14,
    "start_time": "2022-03-21T14:32:55.963Z"
   },
   {
    "duration": 22,
    "start_time": "2022-03-21T14:33:14.653Z"
   },
   {
    "duration": 1348,
    "start_time": "2022-03-21T14:33:18.952Z"
   },
   {
    "duration": 4,
    "start_time": "2022-03-21T14:33:28.242Z"
   },
   {
    "duration": 12,
    "start_time": "2022-03-21T14:35:27.242Z"
   },
   {
    "duration": 4,
    "start_time": "2022-03-21T14:35:54.513Z"
   },
   {
    "duration": 10,
    "start_time": "2022-03-21T14:36:02.593Z"
   },
   {
    "duration": 830,
    "start_time": "2022-03-21T14:36:09.406Z"
   },
   {
    "duration": 122574,
    "start_time": "2022-03-21T14:36:48.442Z"
   },
   {
    "duration": 7,
    "start_time": "2022-03-21T14:41:59.299Z"
   },
   {
    "duration": 13,
    "start_time": "2022-03-21T14:42:07.918Z"
   },
   {
    "duration": 11,
    "start_time": "2022-03-21T14:50:45.963Z"
   },
   {
    "duration": 11,
    "start_time": "2022-03-21T14:50:59.806Z"
   },
   {
    "duration": 11,
    "start_time": "2022-03-21T14:51:13.528Z"
   },
   {
    "duration": 764,
    "start_time": "2022-03-21T14:51:30.841Z"
   },
   {
    "duration": 10829,
    "start_time": "2022-03-21T14:51:42.581Z"
   },
   {
    "duration": 5,
    "start_time": "2022-03-21T14:52:00.414Z"
   },
   {
    "duration": 140,
    "start_time": "2022-03-21T14:53:26.581Z"
   },
   {
    "duration": 11364,
    "start_time": "2022-03-21T14:54:41.847Z"
   },
   {
    "duration": 5,
    "start_time": "2022-03-21T14:54:55.107Z"
   },
   {
    "duration": 123,
    "start_time": "2022-03-21T14:54:58.158Z"
   },
   {
    "duration": 10,
    "start_time": "2022-03-21T14:56:17.086Z"
   },
   {
    "duration": 436,
    "start_time": "2022-03-21T14:56:24.067Z"
   },
   {
    "duration": 982,
    "start_time": "2022-03-21T14:56:38.819Z"
   },
   {
    "duration": 436,
    "start_time": "2022-03-21T14:56:44.367Z"
   },
   {
    "duration": 1069,
    "start_time": "2022-03-21T14:56:54.338Z"
   },
   {
    "duration": 501,
    "start_time": "2022-03-21T14:56:59.210Z"
   },
   {
    "duration": 1552,
    "start_time": "2022-03-21T14:57:20.958Z"
   },
   {
    "duration": 518,
    "start_time": "2022-03-21T14:57:25.601Z"
   },
   {
    "duration": 2043,
    "start_time": "2022-03-21T14:57:37.072Z"
   },
   {
    "duration": 460,
    "start_time": "2022-03-21T14:57:44.842Z"
   },
   {
    "duration": 1141,
    "start_time": "2022-03-21T14:58:42.666Z"
   },
   {
    "duration": 645,
    "start_time": "2022-03-21T14:58:47.045Z"
   },
   {
    "duration": 113240,
    "start_time": "2022-03-21T14:58:51.362Z"
   },
   {
    "duration": 3,
    "start_time": "2022-03-21T15:00:55.655Z"
   },
   {
    "duration": 11133,
    "start_time": "2022-03-21T15:01:02.074Z"
   },
   {
    "duration": 5,
    "start_time": "2022-03-21T15:01:20.774Z"
   },
   {
    "duration": 124,
    "start_time": "2022-03-21T15:01:23.936Z"
   },
   {
    "duration": 496,
    "start_time": "2022-03-21T15:01:28.806Z"
   },
   {
    "duration": 1230,
    "start_time": "2022-03-21T15:01:41.572Z"
   },
   {
    "duration": 472,
    "start_time": "2022-03-21T15:01:45.738Z"
   },
   {
    "duration": 813,
    "start_time": "2022-03-21T15:01:52.688Z"
   },
   {
    "duration": 487,
    "start_time": "2022-03-21T15:01:57.626Z"
   },
   {
    "duration": 1337,
    "start_time": "2022-03-21T15:02:07.765Z"
   },
   {
    "duration": 463,
    "start_time": "2022-03-21T15:02:11.647Z"
   },
   {
    "duration": 1567,
    "start_time": "2022-03-21T15:02:18.846Z"
   },
   {
    "duration": 483,
    "start_time": "2022-03-21T15:02:23.626Z"
   },
   {
    "duration": 1658,
    "start_time": "2022-03-21T15:02:32.263Z"
   },
   {
    "duration": 486,
    "start_time": "2022-03-21T15:02:38.522Z"
   },
   {
    "duration": 1392,
    "start_time": "2022-03-21T15:02:46.918Z"
   },
   {
    "duration": 456,
    "start_time": "2022-03-21T15:02:51.546Z"
   },
   {
    "duration": 510,
    "start_time": "2022-03-21T15:02:55.491Z"
   },
   {
    "duration": 3,
    "start_time": "2022-03-21T15:03:46.207Z"
   },
   {
    "duration": 11465,
    "start_time": "2022-03-21T15:03:48.845Z"
   },
   {
    "duration": 20,
    "start_time": "2022-03-21T15:04:24.351Z"
   },
   {
    "duration": 10,
    "start_time": "2022-03-21T15:06:13.809Z"
   },
   {
    "duration": 179,
    "start_time": "2022-03-21T15:07:12.144Z"
   },
   {
    "duration": 166,
    "start_time": "2022-03-21T15:07:50.783Z"
   },
   {
    "duration": 9,
    "start_time": "2022-03-21T15:08:00.785Z"
   },
   {
    "duration": 11,
    "start_time": "2022-03-21T15:08:40.182Z"
   },
   {
    "duration": 6,
    "start_time": "2022-03-21T15:11:23.342Z"
   },
   {
    "duration": 8,
    "start_time": "2022-03-21T15:11:43.726Z"
   },
   {
    "duration": 10,
    "start_time": "2022-03-21T15:11:52.916Z"
   },
   {
    "duration": 159,
    "start_time": "2022-03-21T15:12:09.897Z"
   },
   {
    "duration": 11,
    "start_time": "2022-03-21T15:12:31.646Z"
   },
   {
    "duration": 12,
    "start_time": "2022-03-21T15:13:17.768Z"
   },
   {
    "duration": 1908,
    "start_time": "2022-03-21T19:34:22.718Z"
   },
   {
    "duration": 19,
    "start_time": "2022-03-21T19:34:24.629Z"
   },
   {
    "duration": 19,
    "start_time": "2022-03-21T19:34:24.650Z"
   },
   {
    "duration": 5,
    "start_time": "2022-03-21T19:34:24.671Z"
   },
   {
    "duration": 8,
    "start_time": "2022-03-21T19:34:24.678Z"
   },
   {
    "duration": 12,
    "start_time": "2022-03-21T19:34:24.702Z"
   },
   {
    "duration": 46,
    "start_time": "2022-03-21T19:34:24.717Z"
   },
   {
    "duration": 37,
    "start_time": "2022-03-21T19:34:24.765Z"
   },
   {
    "duration": 17,
    "start_time": "2022-03-21T19:34:24.804Z"
   },
   {
    "duration": 9,
    "start_time": "2022-03-21T19:34:24.824Z"
   },
   {
    "duration": 242,
    "start_time": "2022-03-21T19:34:24.835Z"
   },
   {
    "duration": 3770,
    "start_time": "2022-03-21T19:34:25.079Z"
   },
   {
    "duration": 1758,
    "start_time": "2022-03-21T19:34:28.852Z"
   },
   {
    "duration": 4,
    "start_time": "2022-03-21T19:34:30.612Z"
   },
   {
    "duration": 27,
    "start_time": "2022-03-21T19:34:30.618Z"
   },
   {
    "duration": 35,
    "start_time": "2022-03-21T19:34:30.646Z"
   },
   {
    "duration": 37,
    "start_time": "2022-03-21T19:34:30.684Z"
   },
   {
    "duration": 188,
    "start_time": "2022-03-21T19:34:30.723Z"
   },
   {
    "duration": 94,
    "start_time": "2022-03-21T19:34:30.915Z"
   },
   {
    "duration": 92,
    "start_time": "2022-03-21T19:34:31.012Z"
   },
   {
    "duration": 102,
    "start_time": "2022-03-21T19:34:31.110Z"
   },
   {
    "duration": 90,
    "start_time": "2022-03-21T19:34:31.215Z"
   },
   {
    "duration": 451,
    "start_time": "2022-03-21T19:34:31.309Z"
   },
   {
    "duration": 5,
    "start_time": "2022-03-21T19:34:31.762Z"
   },
   {
    "duration": 17,
    "start_time": "2022-03-21T19:34:31.769Z"
   },
   {
    "duration": 19,
    "start_time": "2022-03-21T19:34:31.788Z"
   },
   {
    "duration": 11,
    "start_time": "2022-03-21T19:34:31.809Z"
   },
   {
    "duration": 360,
    "start_time": "2022-03-21T19:34:31.825Z"
   },
   {
    "duration": 33,
    "start_time": "2022-03-21T19:34:32.187Z"
   },
   {
    "duration": 6,
    "start_time": "2022-03-21T19:34:32.221Z"
   },
   {
    "duration": 29,
    "start_time": "2022-03-21T19:34:32.229Z"
   },
   {
    "duration": 13,
    "start_time": "2022-03-21T19:34:32.260Z"
   },
   {
    "duration": 1530,
    "start_time": "2022-03-21T19:34:32.275Z"
   },
   {
    "duration": 631,
    "start_time": "2022-03-21T19:34:33.806Z"
   },
   {
    "duration": 125127,
    "start_time": "2022-03-21T19:34:34.439Z"
   },
   {
    "duration": 4,
    "start_time": "2022-03-21T19:36:39.568Z"
   },
   {
    "duration": 12750,
    "start_time": "2022-03-21T19:36:39.573Z"
   },
   {
    "duration": 6,
    "start_time": "2022-03-21T19:36:52.325Z"
   },
   {
    "duration": 152,
    "start_time": "2022-03-21T19:36:52.333Z"
   },
   {
    "duration": 509,
    "start_time": "2022-03-21T19:36:52.487Z"
   },
   {
    "duration": 23,
    "start_time": "2022-03-21T19:36:52.998Z"
   },
   {
    "duration": 9,
    "start_time": "2022-03-21T19:36:53.023Z"
   },
   {
    "duration": 14,
    "start_time": "2022-03-21T19:36:53.034Z"
   },
   {
    "duration": 14,
    "start_time": "2022-03-21T19:36:53.050Z"
   },
   {
    "duration": 459,
    "start_time": "2022-03-21T19:43:55.740Z"
   },
   {
    "duration": 477,
    "start_time": "2022-03-21T19:43:57.233Z"
   },
   {
    "duration": 1080,
    "start_time": "2022-03-21T19:44:08.822Z"
   },
   {
    "duration": 509,
    "start_time": "2022-03-21T19:44:14.993Z"
   },
   {
    "duration": 1130,
    "start_time": "2022-03-21T19:44:24.774Z"
   },
   {
    "duration": 501,
    "start_time": "2022-03-21T19:44:32.001Z"
   },
   {
    "duration": 498,
    "start_time": "2022-03-21T19:44:34.711Z"
   },
   {
    "duration": 1147,
    "start_time": "2022-03-21T19:45:11.858Z"
   },
   {
    "duration": 516,
    "start_time": "2022-03-21T19:45:22.258Z"
   },
   {
    "duration": 1329,
    "start_time": "2022-03-21T19:46:34.274Z"
   },
   {
    "duration": 455,
    "start_time": "2022-03-21T19:46:42.150Z"
   },
   {
    "duration": 9,
    "start_time": "2022-03-21T20:35:19.725Z"
   },
   {
    "duration": 56,
    "start_time": "2022-03-21T20:35:30.308Z"
   },
   {
    "duration": 1693,
    "start_time": "2022-03-21T20:39:41.024Z"
   },
   {
    "duration": 1572,
    "start_time": "2022-03-21T20:39:52.394Z"
   },
   {
    "duration": 1596,
    "start_time": "2022-03-21T20:47:46.726Z"
   },
   {
    "duration": 658,
    "start_time": "2022-03-21T20:47:52.643Z"
   },
   {
    "duration": 118479,
    "start_time": "2022-03-21T20:47:58.047Z"
   },
   {
    "duration": 1558,
    "start_time": "2022-03-21T20:54:59.142Z"
   },
   {
    "duration": 669,
    "start_time": "2022-03-21T20:55:13.971Z"
   },
   {
    "duration": 118239,
    "start_time": "2022-03-21T20:55:16.029Z"
   },
   {
    "duration": 3,
    "start_time": "2022-03-21T20:57:28.043Z"
   },
   {
    "duration": 115,
    "start_time": "2022-03-21T20:58:19.169Z"
   },
   {
    "duration": 115615,
    "start_time": "2022-03-21T20:58:35.360Z"
   },
   {
    "duration": 13,
    "start_time": "2022-03-21T21:04:27.182Z"
   },
   {
    "duration": 9,
    "start_time": "2022-03-21T21:05:08.054Z"
   },
   {
    "duration": 15,
    "start_time": "2022-03-21T21:05:15.973Z"
   },
   {
    "duration": 10,
    "start_time": "2022-03-21T21:05:30.576Z"
   },
   {
    "duration": 11,
    "start_time": "2022-03-21T21:06:58.919Z"
   },
   {
    "duration": 22,
    "start_time": "2022-03-21T21:07:11.186Z"
   },
   {
    "duration": 15,
    "start_time": "2022-03-21T21:07:28.925Z"
   },
   {
    "duration": 19,
    "start_time": "2022-03-21T21:08:04.394Z"
   },
   {
    "duration": 15,
    "start_time": "2022-03-21T21:08:45.344Z"
   },
   {
    "duration": 19,
    "start_time": "2022-03-21T21:08:51.573Z"
   },
   {
    "duration": 10,
    "start_time": "2022-03-21T21:09:20.485Z"
   },
   {
    "duration": 18,
    "start_time": "2022-03-21T21:09:25.490Z"
   },
   {
    "duration": 24,
    "start_time": "2022-03-21T21:09:34.845Z"
   },
   {
    "duration": 16,
    "start_time": "2022-03-21T21:10:35.592Z"
   },
   {
    "duration": 15,
    "start_time": "2022-03-21T21:10:59.315Z"
   },
   {
    "duration": 13,
    "start_time": "2022-03-21T21:11:21.280Z"
   },
   {
    "duration": 15,
    "start_time": "2022-03-21T21:12:11.916Z"
   },
   {
    "duration": 16,
    "start_time": "2022-03-21T21:12:18.907Z"
   },
   {
    "duration": 16,
    "start_time": "2022-03-21T21:13:31.874Z"
   },
   {
    "duration": 17,
    "start_time": "2022-03-21T21:13:51.940Z"
   },
   {
    "duration": 14,
    "start_time": "2022-03-21T21:14:25.466Z"
   },
   {
    "duration": 122,
    "start_time": "2022-03-21T21:15:07.159Z"
   },
   {
    "duration": 19,
    "start_time": "2022-03-21T21:15:18.557Z"
   },
   {
    "duration": 123,
    "start_time": "2022-03-21T21:15:45.369Z"
   },
   {
    "duration": 125,
    "start_time": "2022-03-21T21:17:25.265Z"
   },
   {
    "duration": 129,
    "start_time": "2022-03-21T21:17:36.822Z"
   },
   {
    "duration": 329,
    "start_time": "2022-03-21T21:18:00.017Z"
   },
   {
    "duration": 151,
    "start_time": "2022-03-21T21:20:01.201Z"
   },
   {
    "duration": 10,
    "start_time": "2022-03-21T21:20:30.484Z"
   },
   {
    "duration": 110,
    "start_time": "2022-03-21T21:20:47.880Z"
   },
   {
    "duration": 170,
    "start_time": "2022-03-21T21:21:02.701Z"
   },
   {
    "duration": 1715,
    "start_time": "2022-03-22T16:02:01.926Z"
   },
   {
    "duration": 22,
    "start_time": "2022-03-22T16:02:03.643Z"
   },
   {
    "duration": 16,
    "start_time": "2022-03-22T16:02:03.666Z"
   },
   {
    "duration": 6,
    "start_time": "2022-03-22T16:02:03.684Z"
   },
   {
    "duration": 18,
    "start_time": "2022-03-22T16:02:03.691Z"
   },
   {
    "duration": 20,
    "start_time": "2022-03-22T16:02:03.711Z"
   },
   {
    "duration": 43,
    "start_time": "2022-03-22T16:02:03.732Z"
   },
   {
    "duration": 6,
    "start_time": "2022-03-22T16:02:03.777Z"
   },
   {
    "duration": 23,
    "start_time": "2022-03-22T16:02:03.784Z"
   },
   {
    "duration": 8,
    "start_time": "2022-03-22T16:02:03.809Z"
   },
   {
    "duration": 176,
    "start_time": "2022-03-22T16:02:03.818Z"
   },
   {
    "duration": 2689,
    "start_time": "2022-03-22T16:02:03.996Z"
   },
   {
    "duration": 1366,
    "start_time": "2022-03-22T16:02:06.687Z"
   },
   {
    "duration": 4,
    "start_time": "2022-03-22T16:02:08.054Z"
   },
   {
    "duration": 7,
    "start_time": "2022-03-22T16:02:08.060Z"
   },
   {
    "duration": 5,
    "start_time": "2022-03-22T16:02:08.068Z"
   },
   {
    "duration": 9,
    "start_time": "2022-03-22T16:02:08.075Z"
   },
   {
    "duration": 198,
    "start_time": "2022-03-22T16:02:08.086Z"
   },
   {
    "duration": 96,
    "start_time": "2022-03-22T16:02:08.286Z"
   },
   {
    "duration": 3,
    "start_time": "2022-03-22T16:02:08.384Z"
   },
   {
    "duration": 94,
    "start_time": "2022-03-22T16:02:08.390Z"
   },
   {
    "duration": 97,
    "start_time": "2022-03-22T16:02:08.487Z"
   },
   {
    "duration": 414,
    "start_time": "2022-03-22T16:02:08.586Z"
   },
   {
    "duration": 4,
    "start_time": "2022-03-22T16:02:09.002Z"
   },
   {
    "duration": 6,
    "start_time": "2022-03-22T16:02:09.008Z"
   },
   {
    "duration": 10,
    "start_time": "2022-03-22T16:02:09.016Z"
   },
   {
    "duration": 3,
    "start_time": "2022-03-22T16:02:09.027Z"
   },
   {
    "duration": 308,
    "start_time": "2022-03-22T16:02:09.034Z"
   },
   {
    "duration": 20,
    "start_time": "2022-03-22T16:02:09.344Z"
   },
   {
    "duration": 16,
    "start_time": "2022-03-22T16:02:09.366Z"
   },
   {
    "duration": 5,
    "start_time": "2022-03-22T16:02:09.383Z"
   },
   {
    "duration": 6,
    "start_time": "2022-03-22T16:02:09.390Z"
   },
   {
    "duration": 991,
    "start_time": "2022-03-22T16:02:09.398Z"
   },
   {
    "duration": 568,
    "start_time": "2022-03-22T16:02:10.390Z"
   },
   {
    "duration": 96218,
    "start_time": "2022-03-22T16:02:10.959Z"
   },
   {
    "duration": 3,
    "start_time": "2022-03-22T16:03:47.181Z"
   },
   {
    "duration": 20,
    "start_time": "2022-03-22T16:03:47.186Z"
   },
   {
    "duration": 7,
    "start_time": "2022-03-22T16:03:47.207Z"
   },
   {
    "duration": 10,
    "start_time": "2022-03-22T16:03:47.216Z"
   },
   {
    "duration": 9,
    "start_time": "2022-03-22T16:03:47.227Z"
   },
   {
    "duration": 9,
    "start_time": "2022-03-22T16:03:47.237Z"
   },
   {
    "duration": 294,
    "start_time": "2022-03-22T16:03:47.248Z"
   },
   {
    "duration": 138,
    "start_time": "2022-03-22T16:03:47.544Z"
   },
   {
    "duration": 1995,
    "start_time": "2022-03-22T19:30:48.756Z"
   },
   {
    "duration": 23,
    "start_time": "2022-03-22T19:30:50.753Z"
   },
   {
    "duration": 18,
    "start_time": "2022-03-22T19:30:50.777Z"
   },
   {
    "duration": 4,
    "start_time": "2022-03-22T19:30:50.797Z"
   },
   {
    "duration": 9,
    "start_time": "2022-03-22T19:30:50.803Z"
   },
   {
    "duration": 14,
    "start_time": "2022-03-22T19:30:50.814Z"
   },
   {
    "duration": 43,
    "start_time": "2022-03-22T19:30:50.830Z"
   },
   {
    "duration": 32,
    "start_time": "2022-03-22T19:30:50.875Z"
   },
   {
    "duration": 17,
    "start_time": "2022-03-22T19:30:50.909Z"
   },
   {
    "duration": 10,
    "start_time": "2022-03-22T19:30:50.929Z"
   },
   {
    "duration": 249,
    "start_time": "2022-03-22T19:30:50.941Z"
   },
   {
    "duration": 3331,
    "start_time": "2022-03-22T19:30:51.192Z"
   },
   {
    "duration": 1673,
    "start_time": "2022-03-22T19:30:54.525Z"
   },
   {
    "duration": 4,
    "start_time": "2022-03-22T19:30:56.200Z"
   },
   {
    "duration": 10,
    "start_time": "2022-03-22T19:30:56.206Z"
   },
   {
    "duration": 4,
    "start_time": "2022-03-22T19:30:56.218Z"
   },
   {
    "duration": 14,
    "start_time": "2022-03-22T19:30:56.224Z"
   },
   {
    "duration": 263,
    "start_time": "2022-03-22T19:30:56.240Z"
   },
   {
    "duration": 99,
    "start_time": "2022-03-22T19:30:56.505Z"
   },
   {
    "duration": 102,
    "start_time": "2022-03-22T19:30:56.607Z"
   },
   {
    "duration": 192,
    "start_time": "2022-03-22T19:30:56.712Z"
   },
   {
    "duration": 20,
    "start_time": "2022-03-22T19:30:56.906Z"
   },
   {
    "duration": 434,
    "start_time": "2022-03-22T19:30:56.928Z"
   },
   {
    "duration": 5,
    "start_time": "2022-03-22T19:30:57.364Z"
   },
   {
    "duration": 10,
    "start_time": "2022-03-22T19:30:57.371Z"
   },
   {
    "duration": 7,
    "start_time": "2022-03-22T19:30:57.401Z"
   },
   {
    "duration": 3,
    "start_time": "2022-03-22T19:30:57.410Z"
   },
   {
    "duration": 357,
    "start_time": "2022-03-22T19:30:57.418Z"
   },
   {
    "duration": 37,
    "start_time": "2022-03-22T19:30:57.778Z"
   },
   {
    "duration": 6,
    "start_time": "2022-03-22T19:30:57.817Z"
   },
   {
    "duration": 9,
    "start_time": "2022-03-22T19:30:57.825Z"
   },
   {
    "duration": 11,
    "start_time": "2022-03-22T19:30:57.836Z"
   },
   {
    "duration": 1460,
    "start_time": "2022-03-22T19:30:57.850Z"
   },
   {
    "duration": 601,
    "start_time": "2022-03-22T19:30:59.402Z"
   },
   {
    "duration": 112572,
    "start_time": "2022-03-22T19:31:00.005Z"
   },
   {
    "duration": 4,
    "start_time": "2022-03-22T19:32:52.579Z"
   },
   {
    "duration": 33,
    "start_time": "2022-03-22T19:32:52.584Z"
   },
   {
    "duration": 8,
    "start_time": "2022-03-22T19:32:52.619Z"
   },
   {
    "duration": 12,
    "start_time": "2022-03-22T19:32:52.628Z"
   },
   {
    "duration": 11,
    "start_time": "2022-03-22T19:32:52.641Z"
   },
   {
    "duration": 12,
    "start_time": "2022-03-22T19:32:52.654Z"
   },
   {
    "duration": 350,
    "start_time": "2022-03-22T19:32:52.668Z"
   },
   {
    "duration": 174,
    "start_time": "2022-03-22T19:32:53.019Z"
   },
   {
    "duration": 1832,
    "start_time": "2022-03-22T19:41:50.478Z"
   },
   {
    "duration": 19,
    "start_time": "2022-03-22T19:41:52.312Z"
   },
   {
    "duration": 20,
    "start_time": "2022-03-22T19:41:52.333Z"
   },
   {
    "duration": 4,
    "start_time": "2022-03-22T19:41:52.356Z"
   },
   {
    "duration": 9,
    "start_time": "2022-03-22T19:41:52.361Z"
   },
   {
    "duration": 37,
    "start_time": "2022-03-22T19:41:52.371Z"
   },
   {
    "duration": 48,
    "start_time": "2022-03-22T19:41:52.410Z"
   },
   {
    "duration": 9,
    "start_time": "2022-03-22T19:41:52.460Z"
   },
   {
    "duration": 41,
    "start_time": "2022-03-22T19:41:52.470Z"
   },
   {
    "duration": 9,
    "start_time": "2022-03-22T19:41:52.514Z"
   },
   {
    "duration": 238,
    "start_time": "2022-03-22T19:41:52.525Z"
   },
   {
    "duration": 3431,
    "start_time": "2022-03-22T19:41:52.765Z"
   },
   {
    "duration": 1704,
    "start_time": "2022-03-22T19:41:56.202Z"
   },
   {
    "duration": 5,
    "start_time": "2022-03-22T19:41:57.907Z"
   },
   {
    "duration": 11,
    "start_time": "2022-03-22T19:41:57.914Z"
   },
   {
    "duration": 7,
    "start_time": "2022-03-22T19:41:57.927Z"
   },
   {
    "duration": 12,
    "start_time": "2022-03-22T19:41:57.936Z"
   },
   {
    "duration": 252,
    "start_time": "2022-03-22T19:41:57.950Z"
   },
   {
    "duration": 99,
    "start_time": "2022-03-22T19:41:58.204Z"
   },
   {
    "duration": 97,
    "start_time": "2022-03-22T19:41:58.306Z"
   },
   {
    "duration": 99,
    "start_time": "2022-03-22T19:41:58.406Z"
   },
   {
    "duration": 101,
    "start_time": "2022-03-22T19:41:58.507Z"
   },
   {
    "duration": 432,
    "start_time": "2022-03-22T19:41:58.611Z"
   },
   {
    "duration": 6,
    "start_time": "2022-03-22T19:41:59.044Z"
   },
   {
    "duration": 9,
    "start_time": "2022-03-22T19:41:59.051Z"
   },
   {
    "duration": 7,
    "start_time": "2022-03-22T19:41:59.062Z"
   },
   {
    "duration": 5,
    "start_time": "2022-03-22T19:41:59.071Z"
   },
   {
    "duration": 356,
    "start_time": "2022-03-22T19:41:59.079Z"
   },
   {
    "duration": 23,
    "start_time": "2022-03-22T19:41:59.438Z"
   },
   {
    "duration": 5,
    "start_time": "2022-03-22T19:41:59.462Z"
   },
   {
    "duration": 7,
    "start_time": "2022-03-22T19:41:59.469Z"
   },
   {
    "duration": 8,
    "start_time": "2022-03-22T19:41:59.500Z"
   },
   {
    "duration": 1399,
    "start_time": "2022-03-22T19:41:59.510Z"
   },
   {
    "duration": 756,
    "start_time": "2022-03-22T19:42:00.911Z"
   },
   {
    "duration": 111232,
    "start_time": "2022-03-22T19:42:01.669Z"
   },
   {
    "duration": 3,
    "start_time": "2022-03-22T19:43:52.903Z"
   },
   {
    "duration": 23,
    "start_time": "2022-03-22T19:43:52.908Z"
   },
   {
    "duration": 9,
    "start_time": "2022-03-22T19:43:52.933Z"
   },
   {
    "duration": 11,
    "start_time": "2022-03-22T19:43:52.943Z"
   },
   {
    "duration": 13,
    "start_time": "2022-03-22T19:43:52.956Z"
   },
   {
    "duration": 43,
    "start_time": "2022-03-22T19:43:52.971Z"
   },
   {
    "duration": 337,
    "start_time": "2022-03-22T19:43:53.016Z"
   },
   {
    "duration": 164,
    "start_time": "2022-03-22T19:43:53.355Z"
   },
   {
    "duration": 1745,
    "start_time": "2022-03-22T21:10:23.202Z"
   },
   {
    "duration": 18,
    "start_time": "2022-03-22T21:10:24.949Z"
   },
   {
    "duration": 18,
    "start_time": "2022-03-22T21:10:24.969Z"
   },
   {
    "duration": 12,
    "start_time": "2022-03-22T21:10:24.989Z"
   },
   {
    "duration": 9,
    "start_time": "2022-03-22T21:10:25.003Z"
   },
   {
    "duration": 14,
    "start_time": "2022-03-22T21:10:25.014Z"
   },
   {
    "duration": 45,
    "start_time": "2022-03-22T21:10:25.030Z"
   },
   {
    "duration": 30,
    "start_time": "2022-03-22T21:10:25.077Z"
   },
   {
    "duration": 18,
    "start_time": "2022-03-22T21:10:25.109Z"
   },
   {
    "duration": 10,
    "start_time": "2022-03-22T21:10:25.130Z"
   },
   {
    "duration": 245,
    "start_time": "2022-03-22T21:10:25.141Z"
   },
   {
    "duration": 3364,
    "start_time": "2022-03-22T21:10:25.388Z"
   },
   {
    "duration": 1605,
    "start_time": "2022-03-22T21:10:28.753Z"
   },
   {
    "duration": 4,
    "start_time": "2022-03-22T21:10:30.360Z"
   },
   {
    "duration": 20,
    "start_time": "2022-03-22T21:10:30.366Z"
   },
   {
    "duration": 12,
    "start_time": "2022-03-22T21:10:30.388Z"
   },
   {
    "duration": 24,
    "start_time": "2022-03-22T21:10:30.402Z"
   },
   {
    "duration": 178,
    "start_time": "2022-03-22T21:10:30.428Z"
   },
   {
    "duration": 195,
    "start_time": "2022-03-22T21:10:30.608Z"
   },
   {
    "duration": 97,
    "start_time": "2022-03-22T21:10:30.806Z"
   },
   {
    "duration": 198,
    "start_time": "2022-03-22T21:10:30.906Z"
   },
   {
    "duration": 16,
    "start_time": "2022-03-22T21:10:31.107Z"
   },
   {
    "duration": 348,
    "start_time": "2022-03-22T21:10:31.208Z"
   },
   {
    "duration": 6,
    "start_time": "2022-03-22T21:10:31.558Z"
   },
   {
    "duration": 40,
    "start_time": "2022-03-22T21:10:31.565Z"
   },
   {
    "duration": 17,
    "start_time": "2022-03-22T21:10:31.607Z"
   },
   {
    "duration": 10,
    "start_time": "2022-03-22T21:10:31.626Z"
   },
   {
    "duration": 342,
    "start_time": "2022-03-22T21:10:31.639Z"
   },
   {
    "duration": 32,
    "start_time": "2022-03-22T21:10:31.983Z"
   },
   {
    "duration": 5,
    "start_time": "2022-03-22T21:10:32.017Z"
   },
   {
    "duration": 20,
    "start_time": "2022-03-22T21:10:32.024Z"
   },
   {
    "duration": 20,
    "start_time": "2022-03-22T21:10:32.046Z"
   },
   {
    "duration": 1439,
    "start_time": "2022-03-22T21:10:32.068Z"
   },
   {
    "duration": 732,
    "start_time": "2022-03-22T21:10:33.510Z"
   },
   {
    "duration": 109917,
    "start_time": "2022-03-22T21:10:34.244Z"
   },
   {
    "duration": 4,
    "start_time": "2022-03-22T21:12:24.163Z"
   },
   {
    "duration": 37,
    "start_time": "2022-03-22T21:12:24.168Z"
   },
   {
    "duration": 9,
    "start_time": "2022-03-22T21:12:24.207Z"
   },
   {
    "duration": 25,
    "start_time": "2022-03-22T21:12:24.218Z"
   },
   {
    "duration": 19,
    "start_time": "2022-03-22T21:12:24.245Z"
   },
   {
    "duration": 17,
    "start_time": "2022-03-22T21:12:24.266Z"
   },
   {
    "duration": 434,
    "start_time": "2022-03-22T21:12:24.285Z"
   },
   {
    "duration": 185,
    "start_time": "2022-03-22T21:12:24.721Z"
   },
   {
    "duration": 68,
    "start_time": "2022-03-23T10:49:43.692Z"
   },
   {
    "duration": 2149,
    "start_time": "2022-03-23T10:49:55.801Z"
   },
   {
    "duration": 78,
    "start_time": "2022-03-23T10:49:57.952Z"
   },
   {
    "duration": 27,
    "start_time": "2022-03-23T10:49:58.032Z"
   },
   {
    "duration": 5,
    "start_time": "2022-03-23T10:49:58.061Z"
   },
   {
    "duration": 8,
    "start_time": "2022-03-23T10:49:58.068Z"
   },
   {
    "duration": 17,
    "start_time": "2022-03-23T10:49:58.078Z"
   },
   {
    "duration": 100,
    "start_time": "2022-03-23T10:49:58.097Z"
   },
   {
    "duration": 11,
    "start_time": "2022-03-23T10:49:58.199Z"
   },
   {
    "duration": 24,
    "start_time": "2022-03-23T10:49:58.213Z"
   },
   {
    "duration": 27,
    "start_time": "2022-03-23T10:49:58.241Z"
   },
   {
    "duration": 7246,
    "start_time": "2022-03-23T10:49:58.270Z"
   },
   {
    "duration": 2310,
    "start_time": "2022-03-23T10:50:05.518Z"
   },
   {
    "duration": 6,
    "start_time": "2022-03-23T10:50:07.831Z"
   },
   {
    "duration": 9,
    "start_time": "2022-03-23T10:50:07.839Z"
   },
   {
    "duration": 4,
    "start_time": "2022-03-23T10:50:07.850Z"
   },
   {
    "duration": 18,
    "start_time": "2022-03-23T10:50:07.856Z"
   },
   {
    "duration": 204,
    "start_time": "2022-03-23T10:50:07.877Z"
   },
   {
    "duration": 100,
    "start_time": "2022-03-23T10:50:08.170Z"
   },
   {
    "duration": 7,
    "start_time": "2022-03-23T10:50:08.273Z"
   },
   {
    "duration": 98,
    "start_time": "2022-03-23T10:50:08.283Z"
   },
   {
    "duration": 106,
    "start_time": "2022-03-23T10:50:08.469Z"
   },
   {
    "duration": 390,
    "start_time": "2022-03-23T10:50:08.578Z"
   },
   {
    "duration": 7,
    "start_time": "2022-03-23T10:50:08.970Z"
   },
   {
    "duration": 8,
    "start_time": "2022-03-23T10:50:08.979Z"
   },
   {
    "duration": 8,
    "start_time": "2022-03-23T10:50:08.989Z"
   },
   {
    "duration": 3,
    "start_time": "2022-03-23T10:50:08.999Z"
   },
   {
    "duration": 507,
    "start_time": "2022-03-23T10:50:09.004Z"
   },
   {
    "duration": 32,
    "start_time": "2022-03-23T10:50:09.515Z"
   },
   {
    "duration": 20,
    "start_time": "2022-03-23T10:50:09.550Z"
   },
   {
    "duration": 10,
    "start_time": "2022-03-23T10:50:09.573Z"
   },
   {
    "duration": 9,
    "start_time": "2022-03-23T10:50:09.586Z"
   },
   {
    "duration": 1980,
    "start_time": "2022-03-23T10:50:09.597Z"
   },
   {
    "duration": 762,
    "start_time": "2022-03-23T10:50:11.579Z"
   },
   {
    "duration": 160951,
    "start_time": "2022-03-23T10:50:12.344Z"
   },
   {
    "duration": 5,
    "start_time": "2022-03-23T10:52:53.298Z"
   },
   {
    "duration": 39,
    "start_time": "2022-03-23T10:52:53.306Z"
   },
   {
    "duration": 13,
    "start_time": "2022-03-23T10:52:53.368Z"
   },
   {
    "duration": 15,
    "start_time": "2022-03-23T10:52:53.383Z"
   },
   {
    "duration": 12,
    "start_time": "2022-03-23T10:52:53.399Z"
   },
   {
    "duration": 17,
    "start_time": "2022-03-23T10:52:53.414Z"
   },
   {
    "duration": 622,
    "start_time": "2022-03-23T10:52:53.468Z"
   },
   {
    "duration": 333,
    "start_time": "2022-03-23T10:52:54.092Z"
   },
   {
    "duration": 5432,
    "start_time": "2022-03-23T10:52:54.430Z"
   },
   {
    "duration": 6842,
    "start_time": "2022-03-23T10:53:25.657Z"
   },
   {
    "duration": 372,
    "start_time": "2022-03-23T10:53:46.737Z"
   },
   {
    "duration": 5919,
    "start_time": "2022-03-23T10:54:05.584Z"
   },
   {
    "duration": 5991,
    "start_time": "2022-03-23T10:54:15.646Z"
   },
   {
    "duration": 4,
    "start_time": "2022-03-23T11:05:15.532Z"
   },
   {
    "duration": 6,
    "start_time": "2022-03-23T11:05:24.427Z"
   },
   {
    "duration": 8,
    "start_time": "2022-03-23T11:05:26.186Z"
   },
   {
    "duration": 3,
    "start_time": "2022-03-23T11:05:28.726Z"
   },
   {
    "duration": 1583,
    "start_time": "2022-03-23T11:05:32.490Z"
   },
   {
    "duration": 17,
    "start_time": "2022-03-23T11:05:57.244Z"
   },
   {
    "duration": 208,
    "start_time": "2022-03-23T11:05:58.869Z"
   },
   {
    "duration": 12,
    "start_time": "2022-03-23T11:06:01.565Z"
   },
   {
    "duration": 7,
    "start_time": "2022-03-23T11:06:23.809Z"
   },
   {
    "duration": 9,
    "start_time": "2022-03-23T11:06:25.867Z"
   },
   {
    "duration": 10,
    "start_time": "2022-03-23T11:06:32.167Z"
   },
   {
    "duration": 6,
    "start_time": "2022-03-23T11:27:50.595Z"
   },
   {
    "duration": 7,
    "start_time": "2022-03-23T11:27:53.770Z"
   },
   {
    "duration": 7,
    "start_time": "2022-03-23T11:27:56.066Z"
   },
   {
    "duration": 110,
    "start_time": "2022-03-23T11:31:17.222Z"
   },
   {
    "duration": 109,
    "start_time": "2022-03-23T11:31:25.174Z"
   },
   {
    "duration": 153,
    "start_time": "2022-03-23T11:31:59.092Z"
   },
   {
    "duration": 94,
    "start_time": "2022-03-23T11:32:11.504Z"
   },
   {
    "duration": 94,
    "start_time": "2022-03-23T11:32:29.360Z"
   },
   {
    "duration": 105,
    "start_time": "2022-03-23T11:32:48.158Z"
   },
   {
    "duration": 97,
    "start_time": "2022-03-23T11:34:23.340Z"
   },
   {
    "duration": 98,
    "start_time": "2022-03-23T11:34:41.515Z"
   },
   {
    "duration": 8,
    "start_time": "2022-03-23T11:34:58.512Z"
   },
   {
    "duration": 9,
    "start_time": "2022-03-23T11:35:18.434Z"
   },
   {
    "duration": 118,
    "start_time": "2022-03-23T11:35:50.999Z"
   },
   {
    "duration": 4,
    "start_time": "2022-03-23T11:35:55.804Z"
   },
   {
    "duration": 1117,
    "start_time": "2022-03-23T11:36:31.960Z"
   },
   {
    "duration": 4,
    "start_time": "2022-03-23T11:36:42.926Z"
   },
   {
    "duration": 11,
    "start_time": "2022-03-23T11:36:58.101Z"
   },
   {
    "duration": 108,
    "start_time": "2022-03-23T11:37:17.609Z"
   },
   {
    "duration": 5,
    "start_time": "2022-03-23T11:38:03.086Z"
   },
   {
    "duration": 12,
    "start_time": "2022-03-23T11:38:05.051Z"
   },
   {
    "duration": 5,
    "start_time": "2022-03-23T11:38:17.156Z"
   },
   {
    "duration": 11,
    "start_time": "2022-03-23T11:38:19.646Z"
   },
   {
    "duration": 105,
    "start_time": "2022-03-23T11:39:41.017Z"
   },
   {
    "duration": 6,
    "start_time": "2022-03-23T11:40:06.405Z"
   },
   {
    "duration": 10,
    "start_time": "2022-03-23T11:40:08.765Z"
   },
   {
    "duration": 5,
    "start_time": "2022-03-23T11:40:34.095Z"
   },
   {
    "duration": 5,
    "start_time": "2022-03-23T11:40:51.967Z"
   },
   {
    "duration": 11,
    "start_time": "2022-03-23T11:40:53.582Z"
   },
   {
    "duration": 10,
    "start_time": "2022-03-23T11:45:41.957Z"
   },
   {
    "duration": 1724,
    "start_time": "2022-03-23T19:31:20.706Z"
   },
   {
    "duration": 67,
    "start_time": "2022-03-23T19:31:22.432Z"
   },
   {
    "duration": 19,
    "start_time": "2022-03-23T19:31:22.501Z"
   },
   {
    "duration": 3,
    "start_time": "2022-03-23T19:31:22.523Z"
   },
   {
    "duration": 7,
    "start_time": "2022-03-23T19:31:22.528Z"
   },
   {
    "duration": 16,
    "start_time": "2022-03-23T19:31:22.536Z"
   },
   {
    "duration": 67,
    "start_time": "2022-03-23T19:31:22.553Z"
   },
   {
    "duration": 9,
    "start_time": "2022-03-23T19:31:22.623Z"
   },
   {
    "duration": 17,
    "start_time": "2022-03-23T19:31:22.634Z"
   },
   {
    "duration": 2,
    "start_time": "2022-03-23T19:31:22.654Z"
   },
   {
    "duration": 3636,
    "start_time": "2022-03-23T19:31:22.657Z"
   },
   {
    "duration": 1730,
    "start_time": "2022-03-23T19:31:26.295Z"
   },
   {
    "duration": 4,
    "start_time": "2022-03-23T19:31:28.027Z"
   },
   {
    "duration": 8,
    "start_time": "2022-03-23T19:31:28.033Z"
   },
   {
    "duration": 4,
    "start_time": "2022-03-23T19:31:28.043Z"
   },
   {
    "duration": 11,
    "start_time": "2022-03-23T19:31:28.049Z"
   },
   {
    "duration": 148,
    "start_time": "2022-03-23T19:31:28.062Z"
   },
   {
    "duration": 9,
    "start_time": "2022-03-23T19:31:28.212Z"
   },
   {
    "duration": 88,
    "start_time": "2022-03-23T19:31:28.223Z"
   },
   {
    "duration": 5,
    "start_time": "2022-03-23T19:31:28.314Z"
   },
   {
    "duration": 7,
    "start_time": "2022-03-23T19:31:28.409Z"
   },
   {
    "duration": 9,
    "start_time": "2022-03-23T19:31:28.508Z"
   },
   {
    "duration": 2,
    "start_time": "2022-03-23T19:31:28.519Z"
   },
   {
    "duration": 346,
    "start_time": "2022-03-23T19:31:28.523Z"
   },
   {
    "duration": 26,
    "start_time": "2022-03-23T19:31:28.870Z"
   },
   {
    "duration": 16,
    "start_time": "2022-03-23T19:31:28.898Z"
   },
   {
    "duration": 1404,
    "start_time": "2022-03-23T19:31:28.915Z"
   },
   {
    "duration": 719,
    "start_time": "2022-03-23T19:31:30.328Z"
   },
   {
    "duration": 115394,
    "start_time": "2022-03-23T19:31:31.049Z"
   },
   {
    "duration": 4,
    "start_time": "2022-03-23T19:33:26.444Z"
   },
   {
    "duration": 20,
    "start_time": "2022-03-23T19:33:26.449Z"
   },
   {
    "duration": 7,
    "start_time": "2022-03-23T19:33:26.471Z"
   },
   {
    "duration": 29,
    "start_time": "2022-03-23T19:33:26.480Z"
   },
   {
    "duration": 9,
    "start_time": "2022-03-23T19:33:26.511Z"
   },
   {
    "duration": 11,
    "start_time": "2022-03-23T19:33:26.522Z"
   },
   {
    "duration": 336,
    "start_time": "2022-03-23T19:33:26.535Z"
   },
   {
    "duration": 168,
    "start_time": "2022-03-23T19:33:26.873Z"
   },
   {
    "duration": 5,
    "start_time": "2022-03-23T19:38:15.717Z"
   },
   {
    "duration": 115534,
    "start_time": "2022-03-23T19:38:44.662Z"
   },
   {
    "duration": 115213,
    "start_time": "2022-03-23T19:51:47.807Z"
   },
   {
    "duration": 4,
    "start_time": "2022-03-23T19:56:29.406Z"
   },
   {
    "duration": 8,
    "start_time": "2022-03-23T19:56:32.647Z"
   },
   {
    "duration": 10,
    "start_time": "2022-03-23T19:56:40.254Z"
   },
   {
    "duration": 164,
    "start_time": "2022-03-23T20:19:38.514Z"
   },
   {
    "duration": 6,
    "start_time": "2022-03-23T20:22:08.979Z"
   },
   {
    "duration": 20,
    "start_time": "2022-03-23T20:22:13.663Z"
   },
   {
    "duration": 148,
    "start_time": "2022-03-23T20:22:22.395Z"
   },
   {
    "duration": 81,
    "start_time": "2022-03-23T20:22:40.213Z"
   },
   {
    "duration": 154,
    "start_time": "2022-03-23T20:22:48.206Z"
   },
   {
    "duration": 90,
    "start_time": "2022-03-23T20:24:03.666Z"
   },
   {
    "duration": 89,
    "start_time": "2022-03-23T20:24:18.299Z"
   },
   {
    "duration": 111,
    "start_time": "2022-03-23T20:24:25.152Z"
   },
   {
    "duration": 116,
    "start_time": "2022-03-23T20:24:45.075Z"
   },
   {
    "duration": 165,
    "start_time": "2022-03-23T20:25:02.022Z"
   },
   {
    "duration": 152,
    "start_time": "2022-03-23T20:26:12.643Z"
   },
   {
    "duration": 148,
    "start_time": "2022-03-23T20:26:39.358Z"
   },
   {
    "duration": 146,
    "start_time": "2022-03-23T20:27:32.656Z"
   },
   {
    "duration": 134,
    "start_time": "2022-03-23T20:28:30.428Z"
   },
   {
    "duration": 224,
    "start_time": "2022-03-23T20:28:43.543Z"
   },
   {
    "duration": 361,
    "start_time": "2022-03-23T20:29:41.156Z"
   },
   {
    "duration": 14,
    "start_time": "2022-03-23T20:33:01.537Z"
   },
   {
    "duration": 18,
    "start_time": "2022-03-23T20:33:59.199Z"
   },
   {
    "duration": 8,
    "start_time": "2022-03-23T20:34:37.965Z"
   },
   {
    "duration": 8,
    "start_time": "2022-03-23T20:34:51.822Z"
   },
   {
    "duration": 12,
    "start_time": "2022-03-23T20:35:01.666Z"
   },
   {
    "duration": 11,
    "start_time": "2022-03-23T20:37:17.105Z"
   },
   {
    "duration": 10,
    "start_time": "2022-03-23T20:38:06.004Z"
   },
   {
    "duration": 13,
    "start_time": "2022-03-23T20:44:59.010Z"
   },
   {
    "duration": 11,
    "start_time": "2022-03-23T20:59:33.292Z"
   },
   {
    "duration": 8,
    "start_time": "2022-03-23T20:59:54.207Z"
   },
   {
    "duration": 7,
    "start_time": "2022-03-23T21:00:19.363Z"
   },
   {
    "duration": 6,
    "start_time": "2022-03-23T21:00:32.719Z"
   },
   {
    "duration": 208,
    "start_time": "2022-03-23T21:05:28.048Z"
   },
   {
    "duration": 1770,
    "start_time": "2022-03-24T12:32:04.623Z"
   },
   {
    "duration": 151,
    "start_time": "2022-03-24T12:32:06.395Z"
   },
   {
    "duration": 16,
    "start_time": "2022-03-24T12:32:06.548Z"
   },
   {
    "duration": 5,
    "start_time": "2022-03-24T12:32:06.566Z"
   },
   {
    "duration": 11,
    "start_time": "2022-03-24T12:32:06.573Z"
   },
   {
    "duration": 24,
    "start_time": "2022-03-24T12:32:06.586Z"
   },
   {
    "duration": 37,
    "start_time": "2022-03-24T12:32:06.611Z"
   },
   {
    "duration": 6,
    "start_time": "2022-03-24T12:32:06.650Z"
   },
   {
    "duration": 14,
    "start_time": "2022-03-24T12:32:06.658Z"
   },
   {
    "duration": 2,
    "start_time": "2022-03-24T12:32:06.686Z"
   },
   {
    "duration": 3170,
    "start_time": "2022-03-24T12:32:06.690Z"
   },
   {
    "duration": 1521,
    "start_time": "2022-03-24T12:32:09.861Z"
   },
   {
    "duration": 7,
    "start_time": "2022-03-24T12:32:11.386Z"
   },
   {
    "duration": 17,
    "start_time": "2022-03-24T12:32:11.395Z"
   },
   {
    "duration": 11,
    "start_time": "2022-03-24T12:32:11.413Z"
   },
   {
    "duration": 41,
    "start_time": "2022-03-24T12:32:11.425Z"
   },
   {
    "duration": 216,
    "start_time": "2022-03-24T12:32:11.468Z"
   },
   {
    "duration": 116,
    "start_time": "2022-03-24T12:32:11.686Z"
   },
   {
    "duration": 77,
    "start_time": "2022-03-24T12:32:11.804Z"
   },
   {
    "duration": 193,
    "start_time": "2022-03-24T12:32:11.888Z"
   },
   {
    "duration": 5,
    "start_time": "2022-03-24T12:32:12.084Z"
   },
   {
    "duration": 24,
    "start_time": "2022-03-24T12:32:12.091Z"
   },
   {
    "duration": 5,
    "start_time": "2022-03-24T12:32:12.118Z"
   },
   {
    "duration": 317,
    "start_time": "2022-03-24T12:32:12.125Z"
   },
   {
    "duration": 22,
    "start_time": "2022-03-24T12:32:12.444Z"
   },
   {
    "duration": 19,
    "start_time": "2022-03-24T12:32:12.468Z"
   },
   {
    "duration": 992,
    "start_time": "2022-03-24T12:32:12.489Z"
   },
   {
    "duration": 681,
    "start_time": "2022-03-24T12:32:13.486Z"
   },
   {
    "duration": 104337,
    "start_time": "2022-03-24T12:32:14.169Z"
   },
   {
    "duration": 4,
    "start_time": "2022-03-24T12:33:58.508Z"
   },
   {
    "duration": 23,
    "start_time": "2022-03-24T12:33:58.514Z"
   },
   {
    "duration": 232,
    "start_time": "2022-03-24T12:33:58.538Z"
   },
   {
    "duration": 151,
    "start_time": "2022-03-24T12:33:58.772Z"
   },
   {
    "duration": 141,
    "start_time": "2022-03-24T12:33:58.925Z"
   },
   {
    "duration": 363,
    "start_time": "2022-03-24T12:33:59.068Z"
   },
   {
    "duration": 11,
    "start_time": "2022-03-24T12:33:59.433Z"
   },
   {
    "duration": 15,
    "start_time": "2022-03-24T12:33:59.445Z"
   },
   {
    "duration": 25,
    "start_time": "2022-03-24T12:33:59.461Z"
   },
   {
    "duration": 5,
    "start_time": "2022-03-24T12:33:59.488Z"
   },
   {
    "duration": 5,
    "start_time": "2022-03-24T12:34:53.355Z"
   },
   {
    "duration": 284,
    "start_time": "2022-03-24T12:35:22.005Z"
   },
   {
    "duration": 321,
    "start_time": "2022-03-24T12:35:27.106Z"
   },
   {
    "duration": 397,
    "start_time": "2022-03-24T12:35:34.883Z"
   },
   {
    "duration": 118,
    "start_time": "2022-03-24T12:36:06.903Z"
   },
   {
    "duration": 13,
    "start_time": "2022-03-24T12:36:39.275Z"
   },
   {
    "duration": 6,
    "start_time": "2022-03-24T12:36:53.603Z"
   },
   {
    "duration": 5,
    "start_time": "2022-03-24T12:37:08.290Z"
   },
   {
    "duration": 4,
    "start_time": "2022-03-24T12:37:23.473Z"
   },
   {
    "duration": 201,
    "start_time": "2022-03-24T12:38:28.753Z"
   },
   {
    "duration": 4,
    "start_time": "2022-03-24T12:38:36.735Z"
   },
   {
    "duration": 15,
    "start_time": "2022-03-24T12:39:04.585Z"
   },
   {
    "duration": 3254,
    "start_time": "2022-03-24T12:39:17.286Z"
   },
   {
    "duration": 13,
    "start_time": "2022-03-24T12:39:47.135Z"
   },
   {
    "duration": 9,
    "start_time": "2022-03-24T12:40:08.345Z"
   },
   {
    "duration": 10,
    "start_time": "2022-03-24T12:40:33.715Z"
   },
   {
    "duration": 222,
    "start_time": "2022-03-24T12:41:15.035Z"
   },
   {
    "duration": 198,
    "start_time": "2022-03-24T12:41:19.788Z"
   },
   {
    "duration": 4,
    "start_time": "2022-03-24T12:41:31.145Z"
   },
   {
    "duration": 4,
    "start_time": "2022-03-24T12:41:47.545Z"
   },
   {
    "duration": 18,
    "start_time": "2022-03-24T12:43:22.244Z"
   },
   {
    "duration": 1037,
    "start_time": "2022-03-24T12:44:20.534Z"
   },
   {
    "duration": 27,
    "start_time": "2022-03-24T12:46:14.814Z"
   },
   {
    "duration": 16,
    "start_time": "2022-03-24T12:46:24.733Z"
   },
   {
    "duration": 24,
    "start_time": "2022-03-24T12:46:28.164Z"
   },
   {
    "duration": 17,
    "start_time": "2022-03-24T12:46:42.636Z"
   },
   {
    "duration": 20,
    "start_time": "2022-03-24T12:48:05.474Z"
   },
   {
    "duration": 18,
    "start_time": "2022-03-24T12:48:20.273Z"
   },
   {
    "duration": 13,
    "start_time": "2022-03-24T12:49:10.774Z"
   },
   {
    "duration": 198,
    "start_time": "2022-03-24T12:51:43.063Z"
   },
   {
    "duration": 20,
    "start_time": "2022-03-24T12:51:48.054Z"
   },
   {
    "duration": 10,
    "start_time": "2022-03-24T12:52:28.322Z"
   },
   {
    "duration": 11,
    "start_time": "2022-03-24T12:53:54.254Z"
   },
   {
    "duration": 1356,
    "start_time": "2022-03-24T12:54:12.014Z"
   },
   {
    "duration": 2470,
    "start_time": "2022-03-24T12:55:47.474Z"
   },
   {
    "duration": 2238,
    "start_time": "2022-03-24T12:56:03.354Z"
   },
   {
    "duration": 3108,
    "start_time": "2022-03-24T12:56:17.403Z"
   },
   {
    "duration": 198,
    "start_time": "2022-03-24T12:56:35.103Z"
   },
   {
    "duration": 5870,
    "start_time": "2022-03-24T12:56:38.114Z"
   },
   {
    "duration": 1747,
    "start_time": "2022-03-24T17:56:47.777Z"
   },
   {
    "duration": 27,
    "start_time": "2022-03-24T17:56:49.526Z"
   },
   {
    "duration": 17,
    "start_time": "2022-03-24T17:56:49.555Z"
   },
   {
    "duration": 3,
    "start_time": "2022-03-24T17:56:49.575Z"
   },
   {
    "duration": 14,
    "start_time": "2022-03-24T17:56:49.580Z"
   },
   {
    "duration": 12,
    "start_time": "2022-03-24T17:56:49.596Z"
   },
   {
    "duration": 62,
    "start_time": "2022-03-24T17:56:49.610Z"
   },
   {
    "duration": 8,
    "start_time": "2022-03-24T17:56:49.673Z"
   },
   {
    "duration": 34,
    "start_time": "2022-03-24T17:56:49.683Z"
   },
   {
    "duration": 6,
    "start_time": "2022-03-24T17:56:49.720Z"
   },
   {
    "duration": 3074,
    "start_time": "2022-03-24T17:56:49.727Z"
   },
   {
    "duration": 1628,
    "start_time": "2022-03-24T17:56:52.803Z"
   },
   {
    "duration": 4,
    "start_time": "2022-03-24T17:56:54.433Z"
   },
   {
    "duration": 8,
    "start_time": "2022-03-24T17:56:54.439Z"
   },
   {
    "duration": 2,
    "start_time": "2022-03-24T17:56:54.449Z"
   },
   {
    "duration": 9,
    "start_time": "2022-03-24T17:56:54.453Z"
   },
   {
    "duration": 207,
    "start_time": "2022-03-24T17:56:54.463Z"
   },
   {
    "duration": 96,
    "start_time": "2022-03-24T17:56:54.673Z"
   },
   {
    "duration": 194,
    "start_time": "2022-03-24T17:56:54.771Z"
   },
   {
    "duration": 197,
    "start_time": "2022-03-24T17:56:54.967Z"
   },
   {
    "duration": 4,
    "start_time": "2022-03-24T17:56:55.165Z"
   },
   {
    "duration": 10,
    "start_time": "2022-03-24T17:56:55.171Z"
   },
   {
    "duration": 3,
    "start_time": "2022-03-24T17:56:55.183Z"
   },
   {
    "duration": 325,
    "start_time": "2022-03-24T17:56:55.187Z"
   },
   {
    "duration": 23,
    "start_time": "2022-03-24T17:56:55.514Z"
   },
   {
    "duration": 29,
    "start_time": "2022-03-24T17:56:55.538Z"
   },
   {
    "duration": 1004,
    "start_time": "2022-03-24T17:56:55.568Z"
   },
   {
    "duration": 535,
    "start_time": "2022-03-24T17:56:56.662Z"
   },
   {
    "duration": 99726,
    "start_time": "2022-03-24T17:56:57.199Z"
   },
   {
    "duration": 3,
    "start_time": "2022-03-24T17:58:36.927Z"
   },
   {
    "duration": 32,
    "start_time": "2022-03-24T17:58:36.932Z"
   },
   {
    "duration": 190,
    "start_time": "2022-03-24T17:58:36.966Z"
   },
   {
    "duration": 139,
    "start_time": "2022-03-24T17:58:37.158Z"
   },
   {
    "duration": 135,
    "start_time": "2022-03-24T17:58:37.298Z"
   },
   {
    "duration": 350,
    "start_time": "2022-03-24T17:58:37.435Z"
   },
   {
    "duration": 12,
    "start_time": "2022-03-24T17:58:37.787Z"
   },
   {
    "duration": 1718,
    "start_time": "2022-03-24T17:58:37.801Z"
   },
   {
    "duration": 0,
    "start_time": "2022-03-24T17:58:39.520Z"
   },
   {
    "duration": 0,
    "start_time": "2022-03-24T17:58:39.522Z"
   },
   {
    "duration": 0,
    "start_time": "2022-03-24T17:58:39.523Z"
   },
   {
    "duration": 0,
    "start_time": "2022-03-24T17:58:39.524Z"
   },
   {
    "duration": 1828,
    "start_time": "2022-03-24T18:11:57.600Z"
   },
   {
    "duration": 5161,
    "start_time": "2022-03-24T18:12:10.858Z"
   },
   {
    "duration": 15,
    "start_time": "2022-03-24T18:14:52.079Z"
   },
   {
    "duration": 3820,
    "start_time": "2022-03-24T18:15:25.354Z"
   },
   {
    "duration": 156,
    "start_time": "2022-03-24T18:15:34.844Z"
   },
   {
    "duration": 3796,
    "start_time": "2022-03-24T18:15:49.402Z"
   },
   {
    "duration": 3612,
    "start_time": "2022-03-24T18:16:25.538Z"
   },
   {
    "duration": 3575,
    "start_time": "2022-03-24T18:20:04.799Z"
   },
   {
    "duration": 3567,
    "start_time": "2022-03-24T18:20:38.371Z"
   },
   {
    "duration": 3585,
    "start_time": "2022-03-24T18:32:21.081Z"
   },
   {
    "duration": 2112,
    "start_time": "2022-03-24T18:32:55.688Z"
   },
   {
    "duration": 3561,
    "start_time": "2022-03-24T18:34:11.107Z"
   },
   {
    "duration": 3682,
    "start_time": "2022-03-24T18:34:34.316Z"
   },
   {
    "duration": 3862,
    "start_time": "2022-03-24T18:35:16.228Z"
   },
   {
    "duration": 3749,
    "start_time": "2022-03-24T18:36:04.656Z"
   },
   {
    "duration": 3714,
    "start_time": "2022-03-24T18:36:44.129Z"
   },
   {
    "duration": 3592,
    "start_time": "2022-03-24T18:36:56.128Z"
   },
   {
    "duration": 12,
    "start_time": "2022-03-24T18:37:23.624Z"
   },
   {
    "duration": 9,
    "start_time": "2022-03-24T18:37:27.578Z"
   },
   {
    "duration": 7,
    "start_time": "2022-03-24T18:37:30.457Z"
   },
   {
    "duration": 5,
    "start_time": "2022-03-24T20:04:57.082Z"
   },
   {
    "duration": 3212,
    "start_time": "2022-03-24T20:05:45.562Z"
   },
   {
    "duration": 3553,
    "start_time": "2022-03-24T20:05:55.515Z"
   },
   {
    "duration": 181,
    "start_time": "2022-03-24T20:06:24.784Z"
   },
   {
    "duration": 4011,
    "start_time": "2022-03-24T20:08:54.580Z"
   },
   {
    "duration": 3412,
    "start_time": "2022-03-24T20:09:14.605Z"
   },
   {
    "duration": 3272,
    "start_time": "2022-03-24T20:09:28.502Z"
   },
   {
    "duration": 3226,
    "start_time": "2022-03-24T20:09:42.767Z"
   },
   {
    "duration": 3472,
    "start_time": "2022-03-24T20:10:06.599Z"
   },
   {
    "duration": 3375,
    "start_time": "2022-03-24T20:10:34.007Z"
   },
   {
    "duration": 1560,
    "start_time": "2022-03-25T05:31:02.053Z"
   },
   {
    "duration": 18,
    "start_time": "2022-03-25T05:31:03.615Z"
   },
   {
    "duration": 17,
    "start_time": "2022-03-25T05:31:03.634Z"
   },
   {
    "duration": 3,
    "start_time": "2022-03-25T05:31:03.653Z"
   },
   {
    "duration": 16,
    "start_time": "2022-03-25T05:31:03.657Z"
   },
   {
    "duration": 21,
    "start_time": "2022-03-25T05:31:03.674Z"
   },
   {
    "duration": 62,
    "start_time": "2022-03-25T05:31:03.696Z"
   },
   {
    "duration": 8,
    "start_time": "2022-03-25T05:31:03.760Z"
   },
   {
    "duration": 21,
    "start_time": "2022-03-25T05:31:03.770Z"
   },
   {
    "duration": 2957,
    "start_time": "2022-03-25T05:31:03.794Z"
   },
   {
    "duration": 1490,
    "start_time": "2022-03-25T05:31:06.752Z"
   },
   {
    "duration": 5,
    "start_time": "2022-03-25T05:31:08.243Z"
   },
   {
    "duration": 10,
    "start_time": "2022-03-25T05:31:08.249Z"
   },
   {
    "duration": 4,
    "start_time": "2022-03-25T05:31:08.261Z"
   },
   {
    "duration": 11,
    "start_time": "2022-03-25T05:31:08.267Z"
   },
   {
    "duration": 158,
    "start_time": "2022-03-25T05:31:08.280Z"
   },
   {
    "duration": 100,
    "start_time": "2022-03-25T05:31:08.440Z"
   },
   {
    "duration": 194,
    "start_time": "2022-03-25T05:31:08.542Z"
   },
   {
    "duration": 194,
    "start_time": "2022-03-25T05:31:08.739Z"
   },
   {
    "duration": 4,
    "start_time": "2022-03-25T05:31:08.935Z"
   },
   {
    "duration": 11,
    "start_time": "2022-03-25T05:31:08.941Z"
   },
   {
    "duration": 3,
    "start_time": "2022-03-25T05:31:08.953Z"
   },
   {
    "duration": 326,
    "start_time": "2022-03-25T05:31:08.958Z"
   },
   {
    "duration": 24,
    "start_time": "2022-03-25T05:31:09.285Z"
   },
   {
    "duration": 24,
    "start_time": "2022-03-25T05:31:09.311Z"
   },
   {
    "duration": 1399,
    "start_time": "2022-03-25T05:31:09.337Z"
   },
   {
    "duration": 642,
    "start_time": "2022-03-25T05:31:10.739Z"
   },
   {
    "duration": 95372,
    "start_time": "2022-03-25T05:31:11.384Z"
   },
   {
    "duration": 3,
    "start_time": "2022-03-25T05:32:46.758Z"
   },
   {
    "duration": 25,
    "start_time": "2022-03-25T05:32:46.763Z"
   },
   {
    "duration": 3663,
    "start_time": "2022-03-25T05:32:46.789Z"
   },
   {
    "duration": 11,
    "start_time": "2022-03-25T05:32:50.453Z"
   },
   {
    "duration": 16,
    "start_time": "2022-03-25T05:32:50.466Z"
   },
   {
    "duration": 5,
    "start_time": "2022-03-25T05:32:50.484Z"
   },
   {
    "duration": 5,
    "start_time": "2022-03-25T06:18:18.275Z"
   },
   {
    "duration": 126,
    "start_time": "2022-03-25T06:18:31.883Z"
   },
   {
    "duration": 114,
    "start_time": "2022-03-25T06:19:13.048Z"
   },
   {
    "duration": 115,
    "start_time": "2022-03-25T06:19:31.264Z"
   },
   {
    "duration": 130,
    "start_time": "2022-03-25T06:19:39.143Z"
   },
   {
    "duration": 183,
    "start_time": "2022-03-25T06:19:49.934Z"
   },
   {
    "duration": 119,
    "start_time": "2022-03-25T06:20:08.250Z"
   },
   {
    "duration": 125,
    "start_time": "2022-03-25T06:20:15.738Z"
   },
   {
    "duration": 3459,
    "start_time": "2022-03-25T06:20:53.102Z"
   },
   {
    "duration": 128,
    "start_time": "2022-03-25T06:21:04.623Z"
   },
   {
    "duration": 115,
    "start_time": "2022-03-25T06:21:18.611Z"
   },
   {
    "duration": 119,
    "start_time": "2022-03-25T06:21:24.769Z"
   },
   {
    "duration": 103,
    "start_time": "2022-03-25T06:21:53.739Z"
   },
   {
    "duration": 3969,
    "start_time": "2022-03-25T06:23:25.858Z"
   },
   {
    "duration": 2293,
    "start_time": "2022-03-25T06:25:02.198Z"
   },
   {
    "duration": 5,
    "start_time": "2022-03-25T06:25:09.690Z"
   },
   {
    "duration": 3921,
    "start_time": "2022-03-25T06:25:46.744Z"
   },
   {
    "duration": 3844,
    "start_time": "2022-03-25T06:28:25.607Z"
   },
   {
    "duration": 12,
    "start_time": "2022-03-25T07:50:25.107Z"
   },
   {
    "duration": 10,
    "start_time": "2022-03-25T07:50:45.764Z"
   },
   {
    "duration": 13,
    "start_time": "2022-03-25T07:52:30.129Z"
   },
   {
    "duration": 128,
    "start_time": "2022-03-25T07:53:07.161Z"
   },
   {
    "duration": 124,
    "start_time": "2022-03-25T07:53:44.413Z"
   },
   {
    "duration": 105,
    "start_time": "2022-03-25T07:54:18.962Z"
   },
   {
    "duration": 1401,
    "start_time": "2022-03-25T14:43:37.221Z"
   },
   {
    "duration": 16,
    "start_time": "2022-03-25T14:43:38.624Z"
   },
   {
    "duration": 17,
    "start_time": "2022-03-25T14:43:38.642Z"
   },
   {
    "duration": 3,
    "start_time": "2022-03-25T14:43:38.661Z"
   },
   {
    "duration": 7,
    "start_time": "2022-03-25T14:43:38.665Z"
   },
   {
    "duration": 13,
    "start_time": "2022-03-25T14:43:38.673Z"
   },
   {
    "duration": 43,
    "start_time": "2022-03-25T14:43:38.709Z"
   },
   {
    "duration": 6,
    "start_time": "2022-03-25T14:43:38.754Z"
   },
   {
    "duration": 16,
    "start_time": "2022-03-25T14:43:38.762Z"
   },
   {
    "duration": 3257,
    "start_time": "2022-03-25T14:43:38.780Z"
   },
   {
    "duration": 1610,
    "start_time": "2022-03-25T14:43:42.039Z"
   },
   {
    "duration": 4,
    "start_time": "2022-03-25T14:43:43.651Z"
   },
   {
    "duration": 8,
    "start_time": "2022-03-25T14:43:43.656Z"
   },
   {
    "duration": 3,
    "start_time": "2022-03-25T14:43:43.665Z"
   },
   {
    "duration": 12,
    "start_time": "2022-03-25T14:43:43.670Z"
   },
   {
    "duration": 226,
    "start_time": "2022-03-25T14:43:43.684Z"
   },
   {
    "duration": 100,
    "start_time": "2022-03-25T14:43:43.912Z"
   },
   {
    "duration": 94,
    "start_time": "2022-03-25T14:43:44.014Z"
   },
   {
    "duration": 9,
    "start_time": "2022-03-25T14:43:44.112Z"
   },
   {
    "duration": 3,
    "start_time": "2022-03-25T14:43:44.210Z"
   },
   {
    "duration": 11,
    "start_time": "2022-03-25T14:43:44.215Z"
   },
   {
    "duration": 3,
    "start_time": "2022-03-25T14:43:44.227Z"
   },
   {
    "duration": 344,
    "start_time": "2022-03-25T14:43:44.231Z"
   },
   {
    "duration": 34,
    "start_time": "2022-03-25T14:43:44.577Z"
   },
   {
    "duration": 8,
    "start_time": "2022-03-25T14:43:44.612Z"
   },
   {
    "duration": 1487,
    "start_time": "2022-03-25T14:43:44.622Z"
   },
   {
    "duration": 656,
    "start_time": "2022-03-25T14:43:46.111Z"
   },
   {
    "duration": 113713,
    "start_time": "2022-03-25T14:43:46.770Z"
   },
   {
    "duration": 3,
    "start_time": "2022-03-25T14:45:40.485Z"
   },
   {
    "duration": 29,
    "start_time": "2022-03-25T14:45:40.490Z"
   },
   {
    "duration": 4323,
    "start_time": "2022-03-25T14:45:40.520Z"
   },
   {
    "duration": 10,
    "start_time": "2022-03-25T14:45:44.845Z"
   },
   {
    "duration": 7,
    "start_time": "2022-03-25T14:45:44.857Z"
   },
   {
    "duration": 130,
    "start_time": "2022-03-25T14:45:44.865Z"
   },
   {
    "duration": 2048,
    "start_time": "2022-03-25T19:31:10.407Z"
   },
   {
    "duration": 234,
    "start_time": "2022-03-25T19:31:12.457Z"
   },
   {
    "duration": 20,
    "start_time": "2022-03-25T19:31:12.693Z"
   },
   {
    "duration": 8,
    "start_time": "2022-03-25T19:31:12.716Z"
   },
   {
    "duration": 8,
    "start_time": "2022-03-25T19:31:12.726Z"
   },
   {
    "duration": 25,
    "start_time": "2022-03-25T19:31:12.736Z"
   },
   {
    "duration": 68,
    "start_time": "2022-03-25T19:31:12.763Z"
   },
   {
    "duration": 11,
    "start_time": "2022-03-25T19:31:12.833Z"
   },
   {
    "duration": 23,
    "start_time": "2022-03-25T19:31:12.846Z"
   },
   {
    "duration": 3928,
    "start_time": "2022-03-25T19:31:12.873Z"
   },
   {
    "duration": 1827,
    "start_time": "2022-03-25T19:31:16.803Z"
   },
   {
    "duration": 6,
    "start_time": "2022-03-25T19:31:18.632Z"
   },
   {
    "duration": 8,
    "start_time": "2022-03-25T19:31:18.640Z"
   },
   {
    "duration": 4,
    "start_time": "2022-03-25T19:31:18.651Z"
   },
   {
    "duration": 11,
    "start_time": "2022-03-25T19:31:18.657Z"
   },
   {
    "duration": 233,
    "start_time": "2022-03-25T19:31:18.670Z"
   },
   {
    "duration": 97,
    "start_time": "2022-03-25T19:31:18.906Z"
   },
   {
    "duration": 8,
    "start_time": "2022-03-25T19:31:19.005Z"
   },
   {
    "duration": 6,
    "start_time": "2022-03-25T19:31:19.104Z"
   },
   {
    "duration": 87,
    "start_time": "2022-03-25T19:31:19.115Z"
   },
   {
    "duration": 15,
    "start_time": "2022-03-25T19:31:19.205Z"
   },
   {
    "duration": 4,
    "start_time": "2022-03-25T19:31:19.222Z"
   },
   {
    "duration": 409,
    "start_time": "2022-03-25T19:31:19.227Z"
   },
   {
    "duration": 31,
    "start_time": "2022-03-25T19:31:19.638Z"
   },
   {
    "duration": 9,
    "start_time": "2022-03-25T19:31:19.671Z"
   },
   {
    "duration": 1425,
    "start_time": "2022-03-25T19:31:19.682Z"
   },
   {
    "duration": 701,
    "start_time": "2022-03-25T19:31:21.109Z"
   },
   {
    "duration": 120602,
    "start_time": "2022-03-25T19:31:21.815Z"
   },
   {
    "duration": 4,
    "start_time": "2022-03-25T19:33:22.419Z"
   },
   {
    "duration": 28,
    "start_time": "2022-03-25T19:33:22.426Z"
   },
   {
    "duration": 5215,
    "start_time": "2022-03-25T19:33:22.456Z"
   },
   {
    "duration": 15,
    "start_time": "2022-03-25T19:33:27.673Z"
   },
   {
    "duration": 13,
    "start_time": "2022-03-25T19:33:27.702Z"
   },
   {
    "duration": 157,
    "start_time": "2022-03-25T19:33:27.717Z"
   },
   {
    "duration": 4143,
    "start_time": "2022-03-25T19:44:22.765Z"
   },
   {
    "duration": 17,
    "start_time": "2022-03-25T20:17:52.377Z"
   },
   {
    "duration": 21,
    "start_time": "2022-03-25T20:18:23.041Z"
   },
   {
    "duration": 203,
    "start_time": "2022-03-25T20:30:29.371Z"
   },
   {
    "duration": 204,
    "start_time": "2022-03-25T20:30:39.378Z"
   },
   {
    "duration": 216,
    "start_time": "2022-03-25T20:30:52.308Z"
   },
   {
    "duration": 118,
    "start_time": "2022-03-25T20:30:57.839Z"
   },
   {
    "duration": 151,
    "start_time": "2022-03-25T20:31:18.900Z"
   },
   {
    "duration": 132,
    "start_time": "2022-03-25T20:31:40.305Z"
   },
   {
    "duration": 197,
    "start_time": "2022-03-25T20:31:49.104Z"
   },
   {
    "duration": 132,
    "start_time": "2022-03-25T20:31:53.793Z"
   }
  ],
  "kernelspec": {
   "display_name": "Python 3 (ipykernel)",
   "language": "python",
   "name": "python3"
  },
  "language_info": {
   "codemirror_mode": {
    "name": "ipython",
    "version": 3
   },
   "file_extension": ".py",
   "mimetype": "text/x-python",
   "name": "python",
   "nbconvert_exporter": "python",
   "pygments_lexer": "ipython3",
   "version": "3.9.7"
  },
  "toc": {
   "base_numbering": 1,
   "nav_menu": {},
   "number_sections": true,
   "sideBar": true,
   "skip_h1_title": true,
   "title_cell": "Table of Contents",
   "title_sidebar": "Contents",
   "toc_cell": false,
   "toc_position": {},
   "toc_section_display": true,
   "toc_window_display": false
  }
 },
 "nbformat": 4,
 "nbformat_minor": 2
}
